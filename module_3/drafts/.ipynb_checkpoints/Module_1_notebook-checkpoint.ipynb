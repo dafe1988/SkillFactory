{
 "cells": [
  {
   "cell_type": "code",
   "execution_count": 39,
   "metadata": {
    "colab": {
     "base_uri": "https://localhost:8080/",
     "height": 85
    },
    "colab_type": "code",
    "id": "zl5g0USZZMvI",
    "outputId": "1a4892f1-2fb9-4a1b-b75b-1592008361f6"
   },
   "outputs": [
    {
     "data": {
      "text/plain": [
       "(array([13.59373746,  5.03209301,  1.37416954]),\n",
       " array([[ 0.45145779,  0.83661458,  0.10258363],\n",
       "        [ 0.62348353,  0.44632316, -0.77299039],\n",
       "        [ 0.63832135,  0.31760303,  0.62606905]]))"
      ]
     },
     "execution_count": 39,
     "metadata": {
      "tags": []
     },
     "output_type": "execute_result"
    }
   ],
   "source": [
    "import numpy as np\n",
    "A = np.array([[1, 4, 5],\n",
    "    [-5, 8, 9],\n",
    "    [-6, 7, 11]]) # создаем матрицу 3х3 \n",
    "B = np.linalg.eig(A) # находим собственные вектора (с.в.) и собственные числа (с.ч.) через np.linalg.eig\n",
    "B\n",
    "# Обратите внимание, что B - кортеж (tuple). Его компоненты имеют тип np.ndarray, с которыми вы уже должны быть знакомы. \n",
    "# Нулевая компонента B[0] - вектор собственных чисел, а компонента B[1] - матрица, столбцами которой являются \n",
    "# собственные вектора, соответствующие данному числу.; в данном случае собственному числу 13.59373746 \n",
    "# соответствует собственный вектор [0.45145779, 0.62348353, 0.63832135]"
   ]
  },
  {
   "cell_type": "code",
   "execution_count": 1,
   "metadata": {
    "colab": {},
    "colab_type": "code",
    "id": "fTnKUWS0nhA5"
   },
   "outputs": [
    {
     "data": {
      "text/plain": [
       "(array([1.8, 0.2]),\n",
       " array([[ 0.70710678, -0.70710678],\n",
       "        [ 0.70710678,  0.70710678]]))"
      ]
     },
     "execution_count": 1,
     "metadata": {},
     "output_type": "execute_result"
    }
   ],
   "source": [
    "import numpy as np\n",
    "A = np.array([[1, 0.8],\n",
    "    [0.8, 1,]]) # создаем матрицу 3х3 \n",
    "B = np.linalg.eig(A) # находим собственные вектора (с.в.) и собственные числа (с.ч.) через np.linalg.eig\n",
    "B"
   ]
  },
  {
   "cell_type": "code",
   "execution_count": 2,
   "metadata": {},
   "outputs": [
    {
     "data": {
      "text/plain": [
       "(array([1.9922, 0.0078]),\n",
       " array([[ 0.70710678, -0.70710678],\n",
       "        [ 0.70710678,  0.70710678]]))"
      ]
     },
     "execution_count": 2,
     "metadata": {},
     "output_type": "execute_result"
    }
   ],
   "source": [
    "A = np.array([[1, 0.9922],\n",
    "    [0.9922, 1,]]) # создаем матрицу 3х3 \n",
    "B = np.linalg.eig(A) # находим собственные вектора (с.в.) и собственные числа (с.ч.) через np.linalg.eig\n",
    "B"
   ]
  },
  {
   "cell_type": "code",
   "execution_count": 15,
   "metadata": {},
   "outputs": [
    {
     "data": {
      "text/plain": [
       "array([-0.2359,  0.8642, -0.3054, -0.3228])"
      ]
     },
     "execution_count": 15,
     "metadata": {},
     "output_type": "execute_result"
    }
   ],
   "source": [
    "x1 = np.array([1,2,1,1])\n",
    "x2 = np.array([70,130,62,60])\n",
    "x1_st = (x1 - x1.mean())/np.linalg.norm(x1 - x1.mean())\n",
    "x2_st = (x2 - x2.mean())/np.linalg.norm(x2 - x2.mean())\n",
    "c = 0.70710678*x1_st + 0.70710678*x2_st\n",
    "c_st = c/np.linalg.norm(c)\n",
    "np.round(c_st, 4)"
   ]
  },
  {
   "cell_type": "code",
   "execution_count": null,
   "metadata": {},
   "outputs": [],
   "source": []
  }
 ],
 "metadata": {
  "colab": {
   "name": "Untitled2.ipynb",
   "provenance": [],
   "version": "0.3.2"
  },
  "kernelspec": {
   "display_name": "Python 3",
   "language": "python",
   "name": "python3"
  },
  "language_info": {
   "codemirror_mode": {
    "name": "ipython",
    "version": 3
   },
   "file_extension": ".py",
   "mimetype": "text/x-python",
   "name": "python",
   "nbconvert_exporter": "python",
   "pygments_lexer": "ipython3",
   "version": "3.8.8"
  }
 },
 "nbformat": 4,
 "nbformat_minor": 2
}
