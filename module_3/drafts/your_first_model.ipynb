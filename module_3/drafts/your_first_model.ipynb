{
 "cells": [
  {
   "cell_type": "markdown",
   "metadata": {},
   "source": [
    "# Загрузка Pandas и очистка данных"
   ]
  },
  {
   "cell_type": "code",
   "execution_count": 1,
   "metadata": {},
   "outputs": [
    {
     "name": "stderr",
     "output_type": "stream",
     "text": [
      "[nltk_data] Downloading package wordnet to /home/dafe/nltk_data...\n",
      "[nltk_data]   Package wordnet is already up-to-date!\n"
     ]
    },
    {
     "data": {
      "text/html": [
       "        <script type=\"text/javascript\">\n",
       "        window.PlotlyConfig = {MathJaxConfig: 'local'};\n",
       "        if (window.MathJax) {MathJax.Hub.Config({SVG: {font: \"STIX-Web\"}});}\n",
       "        if (typeof require !== 'undefined') {\n",
       "        require.undef(\"plotly\");\n",
       "        requirejs.config({\n",
       "            paths: {\n",
       "                'plotly': ['https://cdn.plot.ly/plotly-2.2.0.min']\n",
       "            }\n",
       "        });\n",
       "        require(['plotly'], function(Plotly) {\n",
       "            window._Plotly = Plotly;\n",
       "        });\n",
       "        }\n",
       "        </script>\n",
       "        "
      ]
     },
     "metadata": {},
     "output_type": "display_data"
    },
    {
     "data": {
      "text/html": [
       "        <script type=\"text/javascript\">\n",
       "        window.PlotlyConfig = {MathJaxConfig: 'local'};\n",
       "        if (window.MathJax) {MathJax.Hub.Config({SVG: {font: \"STIX-Web\"}});}\n",
       "        if (typeof require !== 'undefined') {\n",
       "        require.undef(\"plotly\");\n",
       "        requirejs.config({\n",
       "            paths: {\n",
       "                'plotly': ['https://cdn.plot.ly/plotly-2.2.0.min']\n",
       "            }\n",
       "        });\n",
       "        require(['plotly'], function(Plotly) {\n",
       "            window._Plotly = Plotly;\n",
       "        });\n",
       "        }\n",
       "        </script>\n",
       "        "
      ]
     },
     "metadata": {},
     "output_type": "display_data"
    },
    {
     "data": {
      "text/html": [
       "        <script type=\"text/javascript\">\n",
       "        window.PlotlyConfig = {MathJaxConfig: 'local'};\n",
       "        if (window.MathJax) {MathJax.Hub.Config({SVG: {font: \"STIX-Web\"}});}\n",
       "        if (typeof require !== 'undefined') {\n",
       "        require.undef(\"plotly\");\n",
       "        requirejs.config({\n",
       "            paths: {\n",
       "                'plotly': ['https://cdn.plot.ly/plotly-2.2.0.min']\n",
       "            }\n",
       "        });\n",
       "        require(['plotly'], function(Plotly) {\n",
       "            window._Plotly = Plotly;\n",
       "        });\n",
       "        }\n",
       "        </script>\n",
       "        "
      ]
     },
     "metadata": {},
     "output_type": "display_data"
    }
   ],
   "source": [
    "import pandas as pd\n",
    "from collections import Counter\n",
    "import numpy as np # linear algebra\n",
    "import re\n",
    "from re import findall\n",
    "from datetime import datetime\n",
    "import nltk\n",
    "from nltk.stem.wordnet import WordNetLemmatizer\n",
    "from nltk.corpus import stopwords\n",
    "#nltk.download('stopwords')\n",
    "nltk.download('wordnet')\n",
    "from nltk.corpus import stopwords\n",
    "from nltk.tokenize import word_tokenize\n",
    "import gensim\n",
    "import os\n",
    "from gensim.utils import simple_preprocess\n",
    "from gensim import corpora\n",
    "sw = stopwords.words('english')\n",
    "from nltk.stem.porter import PorterStemmer\n",
    "stemmer = PorterStemmer()\n",
    "from sklearn.preprocessing import MinMaxScaler\n",
    "import matplotlib.pyplot as plt\n",
    "from plotly.subplots import make_subplots\n",
    "import cufflinks as cf\n",
    "import plotly.figure_factory as ff\n",
    "from plotly.offline import download_plotlyjs, init_notebook_mode, plot, iplot\n",
    "import plotly.express as px\n",
    "import seaborn as sns \n",
    "%matplotlib inline\n",
    "\n",
    "init_notebook_mode(connected=True)\n",
    "cf.go_offline()\n",
    "\n",
    "pd.set_option('display.max_columns', 200)  # показывать больше колонок\n",
    "RANDOM_SEED = 581321\n",
    "CURRENT_DATE = pd.to_datetime('30/09/2021')\n",
    "!pip freeze > requirements.txt"
   ]
  },
  {
   "cell_type": "code",
   "execution_count": 2,
   "metadata": {},
   "outputs": [
    {
     "name": "stdout",
     "output_type": "stream",
     "text": [
      "<class 'pandas.core.frame.DataFrame'>\n",
      "RangeIndex: 40000 entries, 0 to 39999\n",
      "Data columns (total 10 columns):\n",
      " #   Column             Non-Null Count  Dtype  \n",
      "---  ------             --------------  -----  \n",
      " 0   Restaurant_id      40000 non-null  object \n",
      " 1   City               40000 non-null  object \n",
      " 2   Cuisine Style      30717 non-null  object \n",
      " 3   Ranking            40000 non-null  float64\n",
      " 4   Rating             40000 non-null  float64\n",
      " 5   Price Range        26114 non-null  object \n",
      " 6   Number of Reviews  37457 non-null  float64\n",
      " 7   Reviews            40000 non-null  object \n",
      " 8   URL_TA             40000 non-null  object \n",
      " 9   ID_TA              40000 non-null  object \n",
      "dtypes: float64(3), object(7)\n",
      "memory usage: 3.1+ MB\n",
      "None\n"
     ]
    },
    {
     "data": {
      "text/plain": [
       "\"[['Unique cuisine', 'Delicious Nepalese food'], ['07/06/2017', '06/19/2016']]\""
      ]
     },
     "execution_count": 2,
     "metadata": {},
     "output_type": "execute_result"
    }
   ],
   "source": [
    "df_main = pd.read_csv('main_task_new.csv')\n",
    "print(df_main.info())\n",
    "df_main.Reviews[1]"
   ]
  },
  {
   "cell_type": "code",
   "execution_count": 3,
   "metadata": {},
   "outputs": [
    {
     "data": {
      "text/html": [
       "<div>\n",
       "<style scoped>\n",
       "    .dataframe tbody tr th:only-of-type {\n",
       "        vertical-align: middle;\n",
       "    }\n",
       "\n",
       "    .dataframe tbody tr th {\n",
       "        vertical-align: top;\n",
       "    }\n",
       "\n",
       "    .dataframe thead th {\n",
       "        text-align: right;\n",
       "    }\n",
       "</style>\n",
       "<table border=\"1\" class=\"dataframe\">\n",
       "  <thead>\n",
       "    <tr style=\"text-align: right;\">\n",
       "      <th></th>\n",
       "      <th>Restaurant_id</th>\n",
       "      <th>City</th>\n",
       "      <th>Cuisine Style</th>\n",
       "      <th>Ranking</th>\n",
       "      <th>Rating</th>\n",
       "      <th>Price Range</th>\n",
       "      <th>Number of Reviews</th>\n",
       "      <th>Reviews</th>\n",
       "      <th>URL_TA</th>\n",
       "      <th>ID_TA</th>\n",
       "      <th>is_franchise</th>\n",
       "    </tr>\n",
       "  </thead>\n",
       "  <tbody>\n",
       "    <tr>\n",
       "      <th>0</th>\n",
       "      <td>id_5569</td>\n",
       "      <td>Paris</td>\n",
       "      <td>['European', 'French', 'International']</td>\n",
       "      <td>5570.0</td>\n",
       "      <td>3.5</td>\n",
       "      <td>$$ - $$$</td>\n",
       "      <td>194.0</td>\n",
       "      <td>[['Good food at your doorstep', 'A good hotel ...</td>\n",
       "      <td>/Restaurant_Review-g187147-d1912643-Reviews-R_...</td>\n",
       "      <td>d1912643</td>\n",
       "      <td>1</td>\n",
       "    </tr>\n",
       "    <tr>\n",
       "      <th>1</th>\n",
       "      <td>id_5569</td>\n",
       "      <td>Madrid</td>\n",
       "      <td>['Mediterranean', 'Spanish']</td>\n",
       "      <td>5572.0</td>\n",
       "      <td>4.0</td>\n",
       "      <td>$$ - $$$</td>\n",
       "      <td>24.0</td>\n",
       "      <td>[['Excellent food and outstanding service', 'F...</td>\n",
       "      <td>/Restaurant_Review-g187514-d2001176-Reviews-Di...</td>\n",
       "      <td>d2001176</td>\n",
       "      <td>1</td>\n",
       "    </tr>\n",
       "    <tr>\n",
       "      <th>2</th>\n",
       "      <td>id_5569</td>\n",
       "      <td>Milan</td>\n",
       "      <td>['Italian', 'Mediterranean', 'Vegetarian Frien...</td>\n",
       "      <td>5572.0</td>\n",
       "      <td>3.0</td>\n",
       "      <td>$$ - $$$</td>\n",
       "      <td>127.0</td>\n",
       "      <td>[['Beautiful Place', 'Lovely place and atmosph...</td>\n",
       "      <td>/Restaurant_Review-g187849-d12429519-Reviews-L...</td>\n",
       "      <td>d12429519</td>\n",
       "      <td>1</td>\n",
       "    </tr>\n",
       "    <tr>\n",
       "      <th>3</th>\n",
       "      <td>id_1535</td>\n",
       "      <td>Stockholm</td>\n",
       "      <td>NaN</td>\n",
       "      <td>1537.0</td>\n",
       "      <td>4.0</td>\n",
       "      <td>NaN</td>\n",
       "      <td>10.0</td>\n",
       "      <td>[['Unique cuisine', 'Delicious Nepalese food']...</td>\n",
       "      <td>/Restaurant_Review-g189852-d7992032-Reviews-Bu...</td>\n",
       "      <td>d7992032</td>\n",
       "      <td>1</td>\n",
       "    </tr>\n",
       "    <tr>\n",
       "      <th>4</th>\n",
       "      <td>id_1535</td>\n",
       "      <td>Edinburgh</td>\n",
       "      <td>['Italian', 'Pizza', 'Fast Food']</td>\n",
       "      <td>1540.0</td>\n",
       "      <td>3.5</td>\n",
       "      <td>$$ - $$$</td>\n",
       "      <td>44.0</td>\n",
       "      <td>[['Tasty, tasty...very, very tasty!', 'Really ...</td>\n",
       "      <td>/Restaurant_Review-g186525-d787349-Reviews-Ani...</td>\n",
       "      <td>d787349</td>\n",
       "      <td>1</td>\n",
       "    </tr>\n",
       "    <tr>\n",
       "      <th>...</th>\n",
       "      <td>...</td>\n",
       "      <td>...</td>\n",
       "      <td>...</td>\n",
       "      <td>...</td>\n",
       "      <td>...</td>\n",
       "      <td>...</td>\n",
       "      <td>...</td>\n",
       "      <td>...</td>\n",
       "      <td>...</td>\n",
       "      <td>...</td>\n",
       "      <td>...</td>\n",
       "    </tr>\n",
       "    <tr>\n",
       "      <th>39995</th>\n",
       "      <td>id_7836</td>\n",
       "      <td>London</td>\n",
       "      <td>['Mexican', 'Latin', 'Fast Food', 'Spanish', '...</td>\n",
       "      <td>7845.0</td>\n",
       "      <td>4.0</td>\n",
       "      <td>$</td>\n",
       "      <td>40.0</td>\n",
       "      <td>[['Give it a go if you like Mexican', 'Legit b...</td>\n",
       "      <td>/Restaurant_Review-g186338-d6524613-Reviews-La...</td>\n",
       "      <td>d6524613</td>\n",
       "      <td>0</td>\n",
       "    </tr>\n",
       "    <tr>\n",
       "      <th>39996</th>\n",
       "      <td>id_11658</td>\n",
       "      <td>London</td>\n",
       "      <td>['Cafe', 'British', 'Vegetarian Friendly']</td>\n",
       "      <td>11668.0</td>\n",
       "      <td>3.5</td>\n",
       "      <td>$</td>\n",
       "      <td>43.0</td>\n",
       "      <td>[['Good quality food at a reasonable price', '...</td>\n",
       "      <td>/Restaurant_Review-g186338-d8007793-Reviews-Be...</td>\n",
       "      <td>d8007793</td>\n",
       "      <td>0</td>\n",
       "    </tr>\n",
       "    <tr>\n",
       "      <th>39997</th>\n",
       "      <td>id_7068</td>\n",
       "      <td>London</td>\n",
       "      <td>['Bar', 'British', 'Pub']</td>\n",
       "      <td>7077.0</td>\n",
       "      <td>4.0</td>\n",
       "      <td>$$ - $$$</td>\n",
       "      <td>41.0</td>\n",
       "      <td>[['Great place !', 'Surprised by this hole in ...</td>\n",
       "      <td>/Restaurant_Review-g186338-d6373401-Reviews-Th...</td>\n",
       "      <td>d6373401</td>\n",
       "      <td>0</td>\n",
       "    </tr>\n",
       "    <tr>\n",
       "      <th>39998</th>\n",
       "      <td>id_8887</td>\n",
       "      <td>London</td>\n",
       "      <td>['International']</td>\n",
       "      <td>8896.0</td>\n",
       "      <td>5.0</td>\n",
       "      <td>NaN</td>\n",
       "      <td>NaN</td>\n",
       "      <td>[['I love this place!'], ['08/24/2015']]</td>\n",
       "      <td>/Restaurant_Review-g186338-d5550626-Reviews-Th...</td>\n",
       "      <td>d5550626</td>\n",
       "      <td>0</td>\n",
       "    </tr>\n",
       "    <tr>\n",
       "      <th>39999</th>\n",
       "      <td>id_6057</td>\n",
       "      <td>Paris</td>\n",
       "      <td>NaN</td>\n",
       "      <td>6058.0</td>\n",
       "      <td>4.0</td>\n",
       "      <td>NaN</td>\n",
       "      <td>16.0</td>\n",
       "      <td>[['Naught but VERY nice', 'Yum'], ['01/23/2017...</td>\n",
       "      <td>/Restaurant_Review-g187147-d10532509-Reviews-B...</td>\n",
       "      <td>d10532509</td>\n",
       "      <td>0</td>\n",
       "    </tr>\n",
       "  </tbody>\n",
       "</table>\n",
       "<p>40000 rows × 11 columns</p>\n",
       "</div>"
      ],
      "text/plain": [
       "      Restaurant_id       City  \\\n",
       "0           id_5569      Paris   \n",
       "1           id_5569     Madrid   \n",
       "2           id_5569      Milan   \n",
       "3           id_1535  Stockholm   \n",
       "4           id_1535  Edinburgh   \n",
       "...             ...        ...   \n",
       "39995       id_7836     London   \n",
       "39996      id_11658     London   \n",
       "39997       id_7068     London   \n",
       "39998       id_8887     London   \n",
       "39999       id_6057      Paris   \n",
       "\n",
       "                                           Cuisine Style  Ranking  Rating  \\\n",
       "0                ['European', 'French', 'International']   5570.0     3.5   \n",
       "1                           ['Mediterranean', 'Spanish']   5572.0     4.0   \n",
       "2      ['Italian', 'Mediterranean', 'Vegetarian Frien...   5572.0     3.0   \n",
       "3                                                    NaN   1537.0     4.0   \n",
       "4                      ['Italian', 'Pizza', 'Fast Food']   1540.0     3.5   \n",
       "...                                                  ...      ...     ...   \n",
       "39995  ['Mexican', 'Latin', 'Fast Food', 'Spanish', '...   7845.0     4.0   \n",
       "39996         ['Cafe', 'British', 'Vegetarian Friendly']  11668.0     3.5   \n",
       "39997                          ['Bar', 'British', 'Pub']   7077.0     4.0   \n",
       "39998                                  ['International']   8896.0     5.0   \n",
       "39999                                                NaN   6058.0     4.0   \n",
       "\n",
       "      Price Range  Number of Reviews  \\\n",
       "0        $$ - $$$              194.0   \n",
       "1        $$ - $$$               24.0   \n",
       "2        $$ - $$$              127.0   \n",
       "3             NaN               10.0   \n",
       "4        $$ - $$$               44.0   \n",
       "...           ...                ...   \n",
       "39995           $               40.0   \n",
       "39996           $               43.0   \n",
       "39997    $$ - $$$               41.0   \n",
       "39998         NaN                NaN   \n",
       "39999         NaN               16.0   \n",
       "\n",
       "                                                 Reviews  \\\n",
       "0      [['Good food at your doorstep', 'A good hotel ...   \n",
       "1      [['Excellent food and outstanding service', 'F...   \n",
       "2      [['Beautiful Place', 'Lovely place and atmosph...   \n",
       "3      [['Unique cuisine', 'Delicious Nepalese food']...   \n",
       "4      [['Tasty, tasty...very, very tasty!', 'Really ...   \n",
       "...                                                  ...   \n",
       "39995  [['Give it a go if you like Mexican', 'Legit b...   \n",
       "39996  [['Good quality food at a reasonable price', '...   \n",
       "39997  [['Great place !', 'Surprised by this hole in ...   \n",
       "39998           [['I love this place!'], ['08/24/2015']]   \n",
       "39999  [['Naught but VERY nice', 'Yum'], ['01/23/2017...   \n",
       "\n",
       "                                                  URL_TA      ID_TA  \\\n",
       "0      /Restaurant_Review-g187147-d1912643-Reviews-R_...   d1912643   \n",
       "1      /Restaurant_Review-g187514-d2001176-Reviews-Di...   d2001176   \n",
       "2      /Restaurant_Review-g187849-d12429519-Reviews-L...  d12429519   \n",
       "3      /Restaurant_Review-g189852-d7992032-Reviews-Bu...   d7992032   \n",
       "4      /Restaurant_Review-g186525-d787349-Reviews-Ani...    d787349   \n",
       "...                                                  ...        ...   \n",
       "39995  /Restaurant_Review-g186338-d6524613-Reviews-La...   d6524613   \n",
       "39996  /Restaurant_Review-g186338-d8007793-Reviews-Be...   d8007793   \n",
       "39997  /Restaurant_Review-g186338-d6373401-Reviews-Th...   d6373401   \n",
       "39998  /Restaurant_Review-g186338-d5550626-Reviews-Th...   d5550626   \n",
       "39999  /Restaurant_Review-g187147-d10532509-Reviews-B...  d10532509   \n",
       "\n",
       "       is_franchise  \n",
       "0                 1  \n",
       "1                 1  \n",
       "2                 1  \n",
       "3                 1  \n",
       "4                 1  \n",
       "...             ...  \n",
       "39995             0  \n",
       "39996             0  \n",
       "39997             0  \n",
       "39998             0  \n",
       "39999             0  \n",
       "\n",
       "[40000 rows x 11 columns]"
      ]
     },
     "execution_count": 3,
     "metadata": {},
     "output_type": "execute_result"
    }
   ],
   "source": [
    "####    Restaurant_id\n",
    "df_output = df_main.copy()\n",
    "def detectFranchise(count):\n",
    "    if count > 1:\n",
    "        return 1\n",
    "    return 0\n",
    "counts = df_output.Restaurant_id.value_counts().apply(detectFranchise)\n",
    "countsPd = pd.Series(counts.values, counts.index).reset_index()\n",
    "countsPd.columns=[\"Restaurant_id\", \"is_franchise\"]\n",
    "df_output = pd.merge(df_output, countsPd, on='Restaurant_id')\n",
    "df_output"
   ]
  },
  {
   "cell_type": "code",
   "execution_count": 4,
   "metadata": {},
   "outputs": [
    {
     "data": {
      "text/html": [
       "<div>\n",
       "<style scoped>\n",
       "    .dataframe tbody tr th:only-of-type {\n",
       "        vertical-align: middle;\n",
       "    }\n",
       "\n",
       "    .dataframe tbody tr th {\n",
       "        vertical-align: top;\n",
       "    }\n",
       "\n",
       "    .dataframe thead th {\n",
       "        text-align: right;\n",
       "    }\n",
       "</style>\n",
       "<table border=\"1\" class=\"dataframe\">\n",
       "  <thead>\n",
       "    <tr style=\"text-align: right;\">\n",
       "      <th></th>\n",
       "      <th>Restaurant_id</th>\n",
       "      <th>City</th>\n",
       "      <th>Cuisine_Style</th>\n",
       "      <th>Ranking</th>\n",
       "      <th>Rating</th>\n",
       "      <th>Price_Range</th>\n",
       "      <th>Number_of_Reviews</th>\n",
       "      <th>Reviews</th>\n",
       "      <th>URL_TA</th>\n",
       "      <th>ID_TA</th>\n",
       "      <th>Cuisine_Style_uniq</th>\n",
       "      <th>Cuisine_Count</th>\n",
       "      <th>isNaN</th>\n",
       "      <th>niche</th>\n",
       "      <th>popular</th>\n",
       "      <th>regular</th>\n",
       "    </tr>\n",
       "  </thead>\n",
       "  <tbody>\n",
       "    <tr>\n",
       "      <th>0</th>\n",
       "      <td>id_5569</td>\n",
       "      <td>Paris</td>\n",
       "      <td>['European', 'French', 'International']</td>\n",
       "      <td>5570.0</td>\n",
       "      <td>3.5</td>\n",
       "      <td>$$ - $$$</td>\n",
       "      <td>194.0</td>\n",
       "      <td>[['Good food at your doorstep', 'A good hotel ...</td>\n",
       "      <td>/Restaurant_Review-g187147-d1912643-Reviews-R_...</td>\n",
       "      <td>d1912643</td>\n",
       "      <td>[popular, popular, popular]</td>\n",
       "      <td>0.125000</td>\n",
       "      <td>0</td>\n",
       "      <td>0</td>\n",
       "      <td>3</td>\n",
       "      <td>0</td>\n",
       "    </tr>\n",
       "    <tr>\n",
       "      <th>1</th>\n",
       "      <td>id_1535</td>\n",
       "      <td>Stockholm</td>\n",
       "      <td>['isNaN']</td>\n",
       "      <td>1537.0</td>\n",
       "      <td>4.0</td>\n",
       "      <td>NaN</td>\n",
       "      <td>10.0</td>\n",
       "      <td>[['Unique cuisine', 'Delicious Nepalese food']...</td>\n",
       "      <td>/Restaurant_Review-g189852-d7992032-Reviews-Bu...</td>\n",
       "      <td>d7992032</td>\n",
       "      <td>[isNaN]</td>\n",
       "      <td>0.007812</td>\n",
       "      <td>1</td>\n",
       "      <td>0</td>\n",
       "      <td>0</td>\n",
       "      <td>0</td>\n",
       "    </tr>\n",
       "    <tr>\n",
       "      <th>2</th>\n",
       "      <td>id_352</td>\n",
       "      <td>London</td>\n",
       "      <td>['Japanese', 'Sushi', 'Asian', 'Grill', 'Veget...</td>\n",
       "      <td>353.0</td>\n",
       "      <td>4.5</td>\n",
       "      <td>$$$$</td>\n",
       "      <td>688.0</td>\n",
       "      <td>[['Catch up with friends', 'Not exceptional'],...</td>\n",
       "      <td>/Restaurant_Review-g186338-d8632781-Reviews-RO...</td>\n",
       "      <td>d8632781</td>\n",
       "      <td>[popular, popular, popular, regular, popular, ...</td>\n",
       "      <td>0.371094</td>\n",
       "      <td>0</td>\n",
       "      <td>0</td>\n",
       "      <td>6</td>\n",
       "      <td>1</td>\n",
       "    </tr>\n",
       "    <tr>\n",
       "      <th>3</th>\n",
       "      <td>id_3456</td>\n",
       "      <td>Berlin</td>\n",
       "      <td>['isNaN']</td>\n",
       "      <td>3458.0</td>\n",
       "      <td>5.0</td>\n",
       "      <td>NaN</td>\n",
       "      <td>3.0</td>\n",
       "      <td>[[], []]</td>\n",
       "      <td>/Restaurant_Review-g187323-d1358776-Reviews-Es...</td>\n",
       "      <td>d1358776</td>\n",
       "      <td>[isNaN]</td>\n",
       "      <td>0.007812</td>\n",
       "      <td>1</td>\n",
       "      <td>0</td>\n",
       "      <td>0</td>\n",
       "      <td>0</td>\n",
       "    </tr>\n",
       "    <tr>\n",
       "      <th>4</th>\n",
       "      <td>id_615</td>\n",
       "      <td>Munich</td>\n",
       "      <td>['German', 'Central European', 'Vegetarian Fri...</td>\n",
       "      <td>621.0</td>\n",
       "      <td>4.0</td>\n",
       "      <td>$$ - $$$</td>\n",
       "      <td>84.0</td>\n",
       "      <td>[['Best place to try a Bavarian food', 'Nice b...</td>\n",
       "      <td>/Restaurant_Review-g187309-d6864963-Reviews-Au...</td>\n",
       "      <td>d6864963</td>\n",
       "      <td>[regular, popular, popular]</td>\n",
       "      <td>0.179688</td>\n",
       "      <td>0</td>\n",
       "      <td>0</td>\n",
       "      <td>2</td>\n",
       "      <td>1</td>\n",
       "    </tr>\n",
       "    <tr>\n",
       "      <th>...</th>\n",
       "      <td>...</td>\n",
       "      <td>...</td>\n",
       "      <td>...</td>\n",
       "      <td>...</td>\n",
       "      <td>...</td>\n",
       "      <td>...</td>\n",
       "      <td>...</td>\n",
       "      <td>...</td>\n",
       "      <td>...</td>\n",
       "      <td>...</td>\n",
       "      <td>...</td>\n",
       "      <td>...</td>\n",
       "      <td>...</td>\n",
       "      <td>...</td>\n",
       "      <td>...</td>\n",
       "      <td>...</td>\n",
       "    </tr>\n",
       "    <tr>\n",
       "      <th>39995</th>\n",
       "      <td>id_499</td>\n",
       "      <td>Milan</td>\n",
       "      <td>['Italian', 'Vegetarian Friendly', 'Vegan Opti...</td>\n",
       "      <td>500.0</td>\n",
       "      <td>4.5</td>\n",
       "      <td>$$ - $$$</td>\n",
       "      <td>79.0</td>\n",
       "      <td>[['The real Italian experience!', 'Wonderful f...</td>\n",
       "      <td>/Restaurant_Review-g187849-d2104414-Reviews-Ro...</td>\n",
       "      <td>d2104414</td>\n",
       "      <td>[popular, popular, popular, popular]</td>\n",
       "      <td>0.261719</td>\n",
       "      <td>0</td>\n",
       "      <td>0</td>\n",
       "      <td>4</td>\n",
       "      <td>0</td>\n",
       "    </tr>\n",
       "    <tr>\n",
       "      <th>39996</th>\n",
       "      <td>id_6340</td>\n",
       "      <td>Paris</td>\n",
       "      <td>['French', 'American', 'Bar', 'European', 'Veg...</td>\n",
       "      <td>6341.0</td>\n",
       "      <td>3.5</td>\n",
       "      <td>$$ - $$$</td>\n",
       "      <td>542.0</td>\n",
       "      <td>[['Parisian atmosphere', 'Bit pricey but inter...</td>\n",
       "      <td>/Restaurant_Review-g187147-d1800036-Reviews-La...</td>\n",
       "      <td>d1800036</td>\n",
       "      <td>[popular, popular, popular, popular, popular]</td>\n",
       "      <td>0.222656</td>\n",
       "      <td>0</td>\n",
       "      <td>0</td>\n",
       "      <td>5</td>\n",
       "      <td>0</td>\n",
       "    </tr>\n",
       "    <tr>\n",
       "      <th>39997</th>\n",
       "      <td>id_1649</td>\n",
       "      <td>Stockholm</td>\n",
       "      <td>['Japanese', 'Sushi']</td>\n",
       "      <td>1652.0</td>\n",
       "      <td>4.5</td>\n",
       "      <td>NaN</td>\n",
       "      <td>4.0</td>\n",
       "      <td>[['Good by swedish standards', 'A hidden jewel...</td>\n",
       "      <td>/Restaurant_Review-g189852-d947615-Reviews-Sus...</td>\n",
       "      <td>d947615</td>\n",
       "      <td>[popular, popular]</td>\n",
       "      <td>0.054688</td>\n",
       "      <td>0</td>\n",
       "      <td>0</td>\n",
       "      <td>2</td>\n",
       "      <td>0</td>\n",
       "    </tr>\n",
       "    <tr>\n",
       "      <th>39998</th>\n",
       "      <td>id_640</td>\n",
       "      <td>Warsaw</td>\n",
       "      <td>['Polish', 'European', 'Eastern European', 'Ce...</td>\n",
       "      <td>641.0</td>\n",
       "      <td>4.0</td>\n",
       "      <td>$$ - $$$</td>\n",
       "      <td>70.0</td>\n",
       "      <td>[['Underground restaurant', 'Oldest Restaurant...</td>\n",
       "      <td>/Restaurant_Review-g274856-d1100838-Reviews-Ho...</td>\n",
       "      <td>d1100838</td>\n",
       "      <td>[regular, popular, regular, popular, popular]</td>\n",
       "      <td>0.304688</td>\n",
       "      <td>0</td>\n",
       "      <td>0</td>\n",
       "      <td>3</td>\n",
       "      <td>2</td>\n",
       "    </tr>\n",
       "    <tr>\n",
       "      <th>39999</th>\n",
       "      <td>id_4824</td>\n",
       "      <td>Milan</td>\n",
       "      <td>['Spanish']</td>\n",
       "      <td>4827.0</td>\n",
       "      <td>3.0</td>\n",
       "      <td>$$ - $$$</td>\n",
       "      <td>260.0</td>\n",
       "      <td>[['Average', 'Nice an informal'], ['01/31/2016...</td>\n",
       "      <td>/Restaurant_Review-g187849-d1109020-Reviews-Ta...</td>\n",
       "      <td>d1109020</td>\n",
       "      <td>[popular]</td>\n",
       "      <td>0.015625</td>\n",
       "      <td>0</td>\n",
       "      <td>0</td>\n",
       "      <td>1</td>\n",
       "      <td>0</td>\n",
       "    </tr>\n",
       "  </tbody>\n",
       "</table>\n",
       "<p>40000 rows × 16 columns</p>\n",
       "</div>"
      ],
      "text/plain": [
       "      Restaurant_id       City  \\\n",
       "0           id_5569      Paris   \n",
       "1           id_1535  Stockholm   \n",
       "2            id_352     London   \n",
       "3           id_3456     Berlin   \n",
       "4            id_615     Munich   \n",
       "...             ...        ...   \n",
       "39995        id_499      Milan   \n",
       "39996       id_6340      Paris   \n",
       "39997       id_1649  Stockholm   \n",
       "39998        id_640     Warsaw   \n",
       "39999       id_4824      Milan   \n",
       "\n",
       "                                           Cuisine_Style  Ranking  Rating  \\\n",
       "0                ['European', 'French', 'International']   5570.0     3.5   \n",
       "1                                              ['isNaN']   1537.0     4.0   \n",
       "2      ['Japanese', 'Sushi', 'Asian', 'Grill', 'Veget...    353.0     4.5   \n",
       "3                                              ['isNaN']   3458.0     5.0   \n",
       "4      ['German', 'Central European', 'Vegetarian Fri...    621.0     4.0   \n",
       "...                                                  ...      ...     ...   \n",
       "39995  ['Italian', 'Vegetarian Friendly', 'Vegan Opti...    500.0     4.5   \n",
       "39996  ['French', 'American', 'Bar', 'European', 'Veg...   6341.0     3.5   \n",
       "39997                              ['Japanese', 'Sushi']   1652.0     4.5   \n",
       "39998  ['Polish', 'European', 'Eastern European', 'Ce...    641.0     4.0   \n",
       "39999                                        ['Spanish']   4827.0     3.0   \n",
       "\n",
       "      Price_Range  Number_of_Reviews  \\\n",
       "0        $$ - $$$              194.0   \n",
       "1             NaN               10.0   \n",
       "2            $$$$              688.0   \n",
       "3             NaN                3.0   \n",
       "4        $$ - $$$               84.0   \n",
       "...           ...                ...   \n",
       "39995    $$ - $$$               79.0   \n",
       "39996    $$ - $$$              542.0   \n",
       "39997         NaN                4.0   \n",
       "39998    $$ - $$$               70.0   \n",
       "39999    $$ - $$$              260.0   \n",
       "\n",
       "                                                 Reviews  \\\n",
       "0      [['Good food at your doorstep', 'A good hotel ...   \n",
       "1      [['Unique cuisine', 'Delicious Nepalese food']...   \n",
       "2      [['Catch up with friends', 'Not exceptional'],...   \n",
       "3                                               [[], []]   \n",
       "4      [['Best place to try a Bavarian food', 'Nice b...   \n",
       "...                                                  ...   \n",
       "39995  [['The real Italian experience!', 'Wonderful f...   \n",
       "39996  [['Parisian atmosphere', 'Bit pricey but inter...   \n",
       "39997  [['Good by swedish standards', 'A hidden jewel...   \n",
       "39998  [['Underground restaurant', 'Oldest Restaurant...   \n",
       "39999  [['Average', 'Nice an informal'], ['01/31/2016...   \n",
       "\n",
       "                                                  URL_TA     ID_TA  \\\n",
       "0      /Restaurant_Review-g187147-d1912643-Reviews-R_...  d1912643   \n",
       "1      /Restaurant_Review-g189852-d7992032-Reviews-Bu...  d7992032   \n",
       "2      /Restaurant_Review-g186338-d8632781-Reviews-RO...  d8632781   \n",
       "3      /Restaurant_Review-g187323-d1358776-Reviews-Es...  d1358776   \n",
       "4      /Restaurant_Review-g187309-d6864963-Reviews-Au...  d6864963   \n",
       "...                                                  ...       ...   \n",
       "39995  /Restaurant_Review-g187849-d2104414-Reviews-Ro...  d2104414   \n",
       "39996  /Restaurant_Review-g187147-d1800036-Reviews-La...  d1800036   \n",
       "39997  /Restaurant_Review-g189852-d947615-Reviews-Sus...   d947615   \n",
       "39998  /Restaurant_Review-g274856-d1100838-Reviews-Ho...  d1100838   \n",
       "39999  /Restaurant_Review-g187849-d1109020-Reviews-Ta...  d1109020   \n",
       "\n",
       "                                      Cuisine_Style_uniq  Cuisine_Count  \\\n",
       "0                            [popular, popular, popular]       0.125000   \n",
       "1                                                [isNaN]       0.007812   \n",
       "2      [popular, popular, popular, regular, popular, ...       0.371094   \n",
       "3                                                [isNaN]       0.007812   \n",
       "4                            [regular, popular, popular]       0.179688   \n",
       "...                                                  ...            ...   \n",
       "39995               [popular, popular, popular, popular]       0.261719   \n",
       "39996      [popular, popular, popular, popular, popular]       0.222656   \n",
       "39997                                 [popular, popular]       0.054688   \n",
       "39998      [regular, popular, regular, popular, popular]       0.304688   \n",
       "39999                                          [popular]       0.015625   \n",
       "\n",
       "       isNaN  niche  popular  regular  \n",
       "0          0      0        3        0  \n",
       "1          1      0        0        0  \n",
       "2          0      0        6        1  \n",
       "3          1      0        0        0  \n",
       "4          0      0        2        1  \n",
       "...      ...    ...      ...      ...  \n",
       "39995      0      0        4        0  \n",
       "39996      0      0        5        0  \n",
       "39997      0      0        2        0  \n",
       "39998      0      0        3        2  \n",
       "39999      0      0        1        0  \n",
       "\n",
       "[40000 rows x 16 columns]"
      ]
     },
     "execution_count": 4,
     "metadata": {},
     "output_type": "execute_result"
    }
   ],
   "source": [
    "# здесь обработка Cuisine_Style\n",
    "\n",
    "df_output = df_main.copy()\n",
    "df_output.columns = [column.replace(' ','_') for column in df_output.columns]\n",
    "def list_unrar(list_of_lists):\n",
    "        result=[]\n",
    "        for lst in list_of_lists:\n",
    "            result.extend(lst)\n",
    "        return result\n",
    "def categorize_cuisine(cuisines):\n",
    "        cuisineCats = list()\n",
    "        for cuisine in cuisines:\n",
    "            if (cuisine in popular):\n",
    "                cuisineCats.append(\"popular\")\n",
    "            elif (cuisine in niche):\n",
    "                cuisineCats.append(\"niche\")\n",
    "            elif (cuisine in regular):\n",
    "                cuisineCats.append(\"regular\")\n",
    "            else:\n",
    "                cuisineCats.append(cuisine)\n",
    "        return cuisineCats\n",
    "scaler = MinMaxScaler()                                                      \n",
    "df_output['Cuisine_Style'] = df_output['Cuisine_Style'].fillna(\"['isNaN']\")\n",
    "df_output['Cuisine_Style_uniq'] = df_output['Cuisine_Style'].str.findall(r\"'(\\b.*?\\b)'\")\n",
    "df_output['Cuisine_Count'] = df_output.Cuisine_Style.apply(len)\n",
    "df_output['Cuisine_Count'] = scaler.fit_transform(df_output[['Cuisine_Count']])\n",
    "    \n",
    "temp_list = df_output['Cuisine_Style_uniq'].tolist()\n",
    "temp_counter=Counter(list_unrar(temp_list))\n",
    "cuisine_counter = pd.DataFrame.from_dict(temp_counter, orient='index').reset_index()\n",
    "cuisine_counter.columns = ['Cuisine', 'Count']                                                      \n",
    "cuisine_counter['Percent'] = cuisine_counter.Count/cuisine_counter.Count.sum()\n",
    "                                                      \n",
    "niche = cuisine_counter.Cuisine[cuisine_counter.Percent <= 0.0002].tolist()\n",
    "popular = cuisine_counter.Cuisine[cuisine_counter.Percent > 0.01].tolist()\n",
    "popular.remove('isNaN')\n",
    "regular = cuisine_counter.Cuisine[(cuisine_counter.Percent > 0.0002)&(cuisine_counter.Percent <= 0.01)].tolist()\n",
    "    \n",
    "df_output.Cuisine_Style_uniq = df_output.Cuisine_Style_uniq.apply(categorize_cuisine)\n",
    "cuisine_dummy = pd.get_dummies(df_output.Cuisine_Style_uniq.apply(pd.Series).stack()).sum(level=0)\n",
    "df_output = pd.concat([df_output,cuisine_dummy],axis=1)\n",
    "df_output                                                 "
   ]
  },
  {
   "cell_type": "code",
   "execution_count": 5,
   "metadata": {},
   "outputs": [],
   "source": [
    "##кагл V26 0.21379 или 0.210356875\n",
    "def preproc_data(df_input):\n",
    "    '''includes several functions to pre-process the predictor data.'''\n",
    "    \n",
    "    df_output = df_input.copy()\n",
    "    df_output.columns = [column.replace(' ','_') for column in df_output.columns]\n",
    "    scaler = MinMaxScaler()\n",
    "    ################### 1. Предобработка ############################################################## \n",
    "    def scale(X):\n",
    "        X_ = np.atleast_2d(X)\n",
    "        return pd.DataFrame(scaler.fit_transform(X_), X.index)\n",
    "    \n",
    "    def price_range(x):\n",
    "        if x=='$':\n",
    "            return 'econom'\n",
    "        elif x=='$$ - $$$':\n",
    "            return 'regular'\n",
    "        elif x=='$$$$':\n",
    "            return 'luxury'\n",
    "        return \"isNaN\"\n",
    "    \n",
    "    positive = ['good','great','nice','best','excel','delicio','love','delici','friendli','amaz','tasti',\n",
    "                'atmospher','authent','fantast','quick''perfect','qualiti','wonder','cheap',\n",
    "                'fresh','tast','surpris','cozi','reason','cosi','better','worth','famili','fast',\n",
    "                'pleasant','awesom','super','like','real','beauti','relax','recommend','enjoy',\n",
    "                'superb','special','yummi','welcom','cool','fabul','interest','healthi','quiet',\n",
    "                'favourit','delight','high','brilliant','warm','favorit','charm','outstand','cute',\n",
    "                'pricey','pretti','curri','happi','highli','ambianc','vibe','heart','comfort','incred',\n",
    "                'modern','ambienc','fair','conveni','uniqu','surprisingli','clean','lover','heaven','chill',\n",
    "                'sweet','fare','quirki','honest','genuin','class','true','attent','stylish','trendi','return',\n",
    "                'popular','creativ','inexpens','flavor','romant','hospit','satisfi','atmosph','gorgeou','joint',\n",
    "                'eleg','proper','usual','intim','treasur','gourmet','athen','truli','sure','reliabl','ideal',\n",
    "                'ingredi','host','unusu','celebr','care','hearti','effici','perfectli','fanci','pleasur','smile',\n",
    "                'thank','exquisit','fashion','paradis','refresh','pleasantli','jewel','lucki','freshli','fairli',\n",
    "                'spectacular','innov','funki','magic','supper','unbeliev','feast','rustic','smoothi','entertain',\n",
    "                'michelin','highlight','calm','ambient','posit','atmo','correct','inspir','dream','familiar','glad',\n",
    "               'friendliest','greatest','nicest','wholesom','tranquil','comfi','attract','amazingli','frendli',\n",
    "                'pleasent','flavoursom','yumm','excellen','atmosfer','luxuri','royal','freshest','perfecto','tremend',\n",
    "                'deliciu','freindli','frindli','amateur','nicer','greater','brilliantli','coolest','respect','goood']\n",
    "    negative = ['disapoint','dissapoint','worst','tasteless','rat','horribl','prici','crepe','problem','wast',\n",
    "                'terribl','bore','mediocr','dissapoint','rude','overpric','disappoint','lack','noisi','slow',\n",
    "                'expens','poor','disgust','avoid','trap','shame','unfriendli','bewar','dirti','unpleas','unpleas',\n",
    "                'underwhelm','rubbish','weird','worthi','scam','poorli','expensi','complaint','cheater','dishonest',\n",
    "                'unwelcom','nope','uninterest','rough','horrend','rudest','disrespect','horrif','pour','slowest',\n",
    "                'jerk','impolit']\n",
    "    neutral = ['averag','decent','ordinari','regular','simpl','alright','typic','okay','normal','casual','middl',\n",
    "               'simpli','classi','standard']\n",
    "    \n",
    "    def lemmatize_stemming(text):\n",
    "        return stemmer.stem(WordNetLemmatizer().lemmatize(text, pos='v'))  \n",
    "    \n",
    "    def preprocess(text):\n",
    "        result=[]\n",
    "        for token in gensim.utils.simple_preprocess(text) :\n",
    "            if token not in gensim.parsing.preprocessing.STOPWORDS and len(token) > 3:\n",
    "                result.append(lemmatize_stemming(token))\n",
    "        return result\n",
    "\n",
    "    def text_category(cell):\n",
    "        result = []\n",
    "        if len(cell) == 0:\n",
    "            result.append('no_review')\n",
    "            return result\n",
    "        for item in cell:\n",
    "            if item in positive:\n",
    "                result.append('positive')\n",
    "            elif item in negative:\n",
    "                result.append('negative')\n",
    "            elif item in neutral:\n",
    "                result.append('neutral')\n",
    "        return result\n",
    "    # функция для оценки текста\n",
    "    def countCat(row):\n",
    "        result = [0,0,0,0,0]\n",
    "        columnSet = ['positive', 'negative', 'neutral', 'no_review', 'undetected']\n",
    "        if not isinstance(row[\"Text_category\"], list):\n",
    "            result = [0,0,0,0,1]\n",
    "            return pd.Series(result, index=columnSet)\n",
    "        for cat in row[\"Text_category\"]:\n",
    "            for catIndex, catLabel in enumerate(columnSet):\n",
    "                if (catLabel == cat):\n",
    "                    result[catIndex] += 1\n",
    "                    break\n",
    "        return pd.Series(result, index=columnSet)\n",
    "    \n",
    "    def list_unrar(list_of_lists):\n",
    "        result=[]\n",
    "        for lst in list_of_lists:\n",
    "            result.extend(lst)\n",
    "        return result\n",
    "    \n",
    "    def categorize_cuisine(cuisines):\n",
    "        cuisineCats = list()\n",
    "        for cuisine in cuisines:\n",
    "            if (cuisine in popular):\n",
    "                cuisineCats.append(\"popular\")\n",
    "            elif (cuisine in niche):\n",
    "                cuisineCats.append(\"niche\")\n",
    "            elif (cuisine in regular):\n",
    "                cuisineCats.append(\"regular\")\n",
    "            else:\n",
    "                cuisineCats.append(cuisine)\n",
    "        return cuisineCats\n",
    "    \n",
    "    df_output['Reviews'] = df_output['Reviews'].fillna(\"[[], []]\")\n",
    "    df_output[['Text','Dates']] = df_output.Reviews.str.split(r'\\], \\[', n=1, expand=True) \n",
    "    df_output.Text = df_output.Text.str.lower()\n",
    "    \n",
    "    df_output.Dates = df_output.Dates.str.findall(r'\\d{2}.\\d{2}.\\d{4}')\n",
    "    df_output['Dates_num'] = df_output.Dates.apply(len)\n",
    "\n",
    "    df_output[['Date1','Date2']] = pd.DataFrame(df_output.Dates.values.tolist(), index= df_output.index)\n",
    "    df_output.Date1 = pd.to_datetime(df_output.Date1, format='%m/%d/%Y')      \n",
    "    df_output.Date2 = pd.to_datetime(df_output.Date2, format='%m/%d/%Y') \n",
    "\n",
    "    df_output['Date_diff'] = abs(df_output.Date1 - df_output.Date2)\n",
    "    df_output['Date_diff'] = df_output['Date_diff'].astype('timedelta64[D]')\n",
    "    df_output['Interval'] = pd.cut(df_output['Date_diff'], bins=[0,30,90,365,3208], \n",
    "                                   labels=['in_month','in_3_month','in_1_year','more_year'],\n",
    "                                   right=False)\n",
    "\n",
    "    df_output.Interval = df_output.Interval.astype('category')\n",
    "    df_output = pd.get_dummies(df_output, columns=['Interval'])\n",
    "\n",
    "    df_output['Text_dirty_len'] = df_output['Text'].apply(len)\n",
    "    df_output[['Text_dirty_len']] = scaler.fit_transform(df_output[['Text_dirty_len']])\n",
    "    \n",
    "    df_output['Text_clean'] = df_output['Text'].apply(lemmatize_stemming)\n",
    "    df_output['Text_clean'] = df_output['Text'].apply(preprocess)\n",
    "    \n",
    "    df_output['Text_clean_len'] = df_output['Text_clean'].apply(len)    \n",
    "    df_output.Text_clean.loc[(df_output.Text_clean_len == 0)&(df_output.Dates_num != 0)]  = 'smile'\n",
    "    df_output['Text_clean_len'] = df_output['Text_clean'].apply(len)\n",
    "    df_output[['Text_clean_len']] = scaler.fit_transform(df_output[['Text_clean_len']])\n",
    "    df_output = pd.get_dummies(df_output, columns=['Dates_num'])\n",
    "    df_output.drop(['Dates_num_0', 'Dates_num_2'], axis=1, inplace=True)\n",
    "    \n",
    "    df_output['Text_category'] = df_output.Text_clean.apply(text_category)\n",
    "    df_output['Text_cat_len'] = df_output['Text_category'].apply(len)\n",
    "    \n",
    "    df_output.Text_category.loc[df_output.Text_cat_len == 0] = 'undetected'\n",
    "   \n",
    "    df_output = df_output.join(df_output.apply(countCat, axis=1))\n",
    "\n",
    "    df_output.drop(['Text', 'Dates', 'Date1', 'Date2', 'Date_diff', 'Text_clean', \n",
    "                    'Text_category', 'Text_cat_len', 'Text_clean_len'], axis = 1, inplace=True)\n",
    "\n",
    "    ####   Number_of_Reviews\n",
    "    df_output['Number_of_Reviews_isNAN'] = pd.isna(df_output['Number_of_Reviews']).astype('uint8')\n",
    "    grp = df_output.groupby(['City'])\n",
    "    df_output.Number_of_Reviews = grp.Number_of_Reviews.apply(lambda x: x.fillna(x.median()))\n",
    "    df_output['Number_of_Reviews'] = grp[['Number_of_Reviews']].apply(scale)\n",
    "    \n",
    "    ####   Price_Range                   \n",
    "    \n",
    "    \n",
    "    df_output.Price_Range = df_output.Price_Range.apply(price_range)\n",
    "    df_output = pd.get_dummies(df_output, columns=['Price_Range'])\n",
    "    \n",
    "    ####   Ranking, Rating \n",
    "    df_output['Ranking'] = grp[['Ranking']].apply(scale)\n",
    "    \n",
    "    ####   Cuisine_Style\n",
    "    \n",
    "    \n",
    "    df_output['Cuisine_Style'] = df_output['Cuisine_Style'].fillna(\"['isNaN']\")\n",
    "    df_output['Cuisine_Style_uniq'] = df_output['Cuisine_Style'].str.findall(r\"'(\\b.*?\\b)'\")\n",
    "        \n",
    "    temp_list = df_output['Cuisine_Style_uniq'].tolist()\n",
    "    temp_counter=Counter(list_unrar(temp_list))\n",
    "    cuisine_counter = pd.DataFrame.from_dict(temp_counter, orient='index').reset_index()\n",
    "    cuisine_counter.columns = ['Cuisine', 'Count']                                                      \n",
    "    cuisine_counter['Percent'] = cuisine_counter.Count/cuisine_counter.Count.sum()\n",
    "                                                      \n",
    "    niche = cuisine_counter.Cuisine[cuisine_counter.Percent <= 0.0002].tolist()\n",
    "    popular = cuisine_counter.Cuisine[cuisine_counter.Percent > 0.01].tolist()\n",
    "    popular.remove('isNaN')\n",
    "    regular = cuisine_counter.Cuisine[(cuisine_counter.Percent > 0.0002)&(cuisine_counter.Percent <= 0.01)].tolist()\n",
    "  \n",
    "    df_output.Cuisine_Style_uniq = df_output.Cuisine_Style_uniq.apply(categorize_cuisine)\n",
    "    cuisine_dummy = pd.get_dummies(df_output.Cuisine_Style_uniq.apply(pd.Series).stack()).sum(level=0)\n",
    "    df_output = pd.concat([df_output,cuisine_dummy],axis=1)\n",
    "    \n",
    "    ####   City\n",
    "    df_output = pd.get_dummies(df_output, columns=['City'])\n",
    "        \n",
    "    ####    Restaurant_id\n",
    "\n",
    "    # убираем не нужные для модели признаки\n",
    "    df_output.drop(['ID_TA'], axis = 1, inplace=True)\n",
    "    \n",
    "\n",
    "    object_columns = [s for s in df_output.columns if df_output[s].dtypes == 'object']\n",
    "    df_output.drop(object_columns, axis = 1, inplace=True)\n",
    "    \n",
    "    return df_output"
   ]
  },
  {
   "cell_type": "code",
   "execution_count": 6,
   "metadata": {},
   "outputs": [],
   "source": [
    "###### draft\n",
    "def preproc_data(df_input):\n",
    "    '''includes several functions to pre-process the predictor data.'''\n",
    "    \n",
    "    df_output = df_input.copy()\n",
    "    df_output.columns = [column.replace(' ','_') for column in df_output.columns]\n",
    "    scaler = MinMaxScaler()\n",
    "    ################### 1. Предобработка ############################################################## \n",
    "    def scale(X):\n",
    "        X_ = np.atleast_2d(X)\n",
    "        return pd.DataFrame(scaler.fit_transform(X_), X.index)\n",
    "    \n",
    "    def price_range(x):\n",
    "        if x=='$':\n",
    "            return 'econom'\n",
    "        elif x=='$$ - $$$':\n",
    "            return 'regular'\n",
    "        elif x=='$$$$':\n",
    "            return 'luxury'\n",
    "        return \"isNaN\"\n",
    "    \n",
    "    positive = ['good','great','nice','best','excel','delicio','love','delici','friendli','amaz','tasti',\n",
    "                'atmospher','authent','fantast','quick''perfect','qualiti','wonder','cheap',\n",
    "                'fresh','tast','surpris','cozi','reason','cosi','better','worth','famili','fast',\n",
    "                'pleasant','awesom','super','like','real','beauti','relax','recommend','enjoy',\n",
    "                'superb','special','yummi','welcom','cool','fabul','interest','healthi','quiet',\n",
    "                'favourit','delight','high','brilliant','warm','favorit','charm','outstand','cute',\n",
    "                'pricey','pretti','curri','happi','highli','ambianc','vibe','heart','comfort','incred',\n",
    "                'modern','ambienc','fair','conveni','uniqu','surprisingli','clean','lover','heaven','chill',\n",
    "                'sweet','fare','quirki','honest','genuin','class','true','attent','stylish','trendi','return',\n",
    "                'popular','creativ','inexpens','flavor','romant','hospit','satisfi','atmosph','gorgeou','joint',\n",
    "                'eleg','proper','usual','intim','treasur','gourmet','athen','truli','sure','reliabl','ideal',\n",
    "                'ingredi','host','unusu','celebr','care','hearti','effici','perfectli','fanci','pleasur','smile',\n",
    "                'thank','exquisit','fashion','paradis','refresh','pleasantli','jewel','lucki','freshli','fairli',\n",
    "                'spectacular','innov','funki','magic','supper','unbeliev','feast','rustic','smoothi','entertain',\n",
    "                'michelin','highlight','calm','ambient','posit','atmo','correct','inspir','dream','familiar','glad',\n",
    "               'friendliest','greatest','nicest','wholesom','tranquil','comfi','attract','amazingli','frendli',\n",
    "                'pleasent','flavoursom','yumm','excellen','atmosfer','luxuri','royal','freshest','perfecto','tremend',\n",
    "                'deliciu','freindli','frindli','amateur','nicer','greater','brilliantli','coolest','respect','goood']\n",
    "    negative = ['disapoint','dissapoint','worst','tasteless','rat','horribl','prici','crepe','problem','wast',\n",
    "                'terribl','bore','mediocr','dissapoint','rude','overpric','disappoint','lack','noisi','slow',\n",
    "                'expens','poor','disgust','avoid','trap','shame','unfriendli','bewar','dirti','unpleas','unpleas',\n",
    "                'underwhelm','rubbish','weird','worthi','scam','poorli','expensi','complaint','cheater','dishonest',\n",
    "                'unwelcom','nope','uninterest','rough','horrend','rudest','disrespect','horrif','pour','slowest',\n",
    "                'jerk','impolit']\n",
    "    neutral = ['averag','decent','ordinari','regular','simpl','alright','typic','okay','normal','casual','middl',\n",
    "               'simpli','classi','standard']\n",
    "    \n",
    "    def lemmatize_stemming(text):\n",
    "        return stemmer.stem(WordNetLemmatizer().lemmatize(text, pos='v'))  \n",
    "    \n",
    "    def preprocess(text):\n",
    "        result=[]\n",
    "        for token in gensim.utils.simple_preprocess(text) :\n",
    "            if token not in gensim.parsing.preprocessing.STOPWORDS and len(token) > 3:\n",
    "                result.append(lemmatize_stemming(token))\n",
    "        return result\n",
    "\n",
    "    def text_category(cell):\n",
    "        result = []\n",
    "        if len(cell) == 0:\n",
    "            result.append('no_review')\n",
    "            return result\n",
    "        for item in cell:\n",
    "            if item in positive:\n",
    "                result.append('positive')\n",
    "            elif item in negative:\n",
    "                result.append('negative')\n",
    "            elif item in neutral:\n",
    "                result.append('neutral')\n",
    "        return result\n",
    "    # функция для оценки текста\n",
    "    def countCat(row):\n",
    "        result = [0,0,0,0,0]\n",
    "        columnSet = ['positive', 'negative', 'neutral', 'no_review', 'undetected']\n",
    "        if not isinstance(row[\"Text_category\"], list):\n",
    "            result = [0,0,0,0,1]\n",
    "            return pd.Series(result, index=columnSet)\n",
    "        for cat in row[\"Text_category\"]:\n",
    "            for catIndex, catLabel in enumerate(columnSet):\n",
    "                if (catLabel == cat):\n",
    "                    result[catIndex] += 1\n",
    "                    break\n",
    "        return pd.Series(result, index=columnSet)\n",
    "    \n",
    "    def list_unrar(list_of_lists):\n",
    "        result=[]\n",
    "        for lst in list_of_lists:\n",
    "            result.extend(lst)\n",
    "        return result\n",
    "    \n",
    "    def categorize_cuisine(cuisines):\n",
    "        cuisineCats = list()\n",
    "        for cuisine in cuisines:\n",
    "            if (cuisine in popular):\n",
    "                cuisineCats.append(\"popular\")\n",
    "            elif (cuisine in niche):\n",
    "                cuisineCats.append(\"niche\")\n",
    "            elif (cuisine in regular):\n",
    "                cuisineCats.append(\"regular\")\n",
    "            else:\n",
    "                cuisineCats.append(cuisine)\n",
    "        return cuisineCats\n",
    "    \n",
    "    ####    Restaurant_id\n",
    "    def detectFranchise(count):\n",
    "        if count > 1:\n",
    "            return 1\n",
    "        return 0\n",
    "    counts = df_output.Restaurant_id.value_counts().apply(detectFranchise)\n",
    "    countsPd = pd.Series(counts.values, counts.index).reset_index()\n",
    "    countsPd.columns=[\"Restaurant_id\", \"is_franchise\"]\n",
    "    df_output = pd.merge(df_output, countsPd, on='Restaurant_id')\n",
    "    \n",
    "    #### Reviews - Text and Dates\n",
    "    df_output['Reviews'] = df_output['Reviews'].fillna(\"[[], []]\")\n",
    "    df_output[['Text','Dates']] = df_output.Reviews.str.split(r'\\], \\[', n=1, expand=True) \n",
    "    df_output.Text = df_output.Text.str.lower()\n",
    "    \n",
    "    df_output.Dates = df_output.Dates.str.findall(r'\\d{2}.\\d{2}.\\d{4}')\n",
    "    df_output['Dates_num'] = df_output.Dates.apply(len)\n",
    "\n",
    "    df_output[['Date1','Date2']] = pd.DataFrame(df_output.Dates.values.tolist(), index= df_output.index)\n",
    "    df_output.Date1 = pd.to_datetime(df_output.Date1, format='%m/%d/%Y')      \n",
    "    df_output.Date2 = pd.to_datetime(df_output.Date2, format='%m/%d/%Y') \n",
    "\n",
    "    df_output['Date_diff'] = abs(df_output.Date1 - df_output.Date2)\n",
    "    df_output['Date_diff'] = df_output['Date_diff'].astype('timedelta64[D]')\n",
    "    df_output['Interval'] = pd.cut(df_output['Date_diff'], bins=[0,30,90,365,3208], \n",
    "                                   labels=['in_month','in_3_month','in_1_year','more_year'],\n",
    "                                   right=False)\n",
    "\n",
    "    df_output.Interval = df_output.Interval.astype('category')\n",
    "    df_output = pd.get_dummies(df_output, columns=['Interval'])\n",
    "\n",
    "    df_output['Text_dirty_len'] = df_output['Text'].apply(len)\n",
    "    df_output[['Text_dirty_len']] = scaler.fit_transform(df_output[['Text_dirty_len']])\n",
    "    \n",
    "    df_output['Text_clean'] = df_output['Text'].apply(lemmatize_stemming)\n",
    "    df_output['Text_clean'] = df_output['Text'].apply(preprocess)\n",
    "    \n",
    "    df_output['Text_clean_len'] = df_output['Text_clean'].apply(len)    \n",
    "    df_output.Text_clean.loc[(df_output.Text_clean_len == 0)&(df_output.Dates_num != 0)]  = 'smile'\n",
    "    df_output['Text_clean_len'] = df_output['Text_clean'].apply(len)\n",
    "    df_output[['Text_clean_len']] = scaler.fit_transform(df_output[['Text_clean_len']])\n",
    "    df_output = pd.get_dummies(df_output, columns=['Dates_num'])\n",
    "    df_output.drop(['Dates_num_0', 'Dates_num_2'], axis=1, inplace=True)\n",
    "    \n",
    "    df_output['Text_category'] = df_output.Text_clean.apply(text_category)\n",
    "    df_output['Text_cat_len'] = df_output['Text_category'].apply(len)\n",
    "    \n",
    "    df_output.Text_category.loc[df_output.Text_cat_len == 0] = 'undetected'\n",
    "   \n",
    "    df_output = df_output.join(df_output.apply(countCat, axis=1))\n",
    "\n",
    "    df_output.drop(['Text', 'Dates', 'Date1', 'Date2', 'Date_diff', 'Text_clean', \n",
    "                    'Text_category', 'Text_cat_len', 'Text_clean_len'], axis = 1, inplace=True)\n",
    "\n",
    "    ####   Number_of_Reviews\n",
    "    df_output['Number_of_Reviews_isNAN'] = pd.isna(df_output['Number_of_Reviews']).astype('uint8')\n",
    "    grp = df_output.groupby(['City'])\n",
    "    df_output.Number_of_Reviews = grp.Number_of_Reviews.apply(lambda x: x.fillna(x.median()))\n",
    "    df_output['Number_of_Reviews'] = grp[['Number_of_Reviews']].apply(scale)\n",
    "    \n",
    "    ####   Price_Range                   \n",
    "    df_output.Price_Range = df_output.Price_Range.apply(price_range)\n",
    "    df_output = pd.get_dummies(df_output, columns=['Price_Range'])\n",
    "    \n",
    "    ####   Ranking\n",
    "    df_output['Ranking'] = grp[['Ranking']].apply(scale)\n",
    "    \n",
    "    ####   Cuisine_Style   \n",
    "    df_output['Cuisine_Style'] = df_output['Cuisine_Style'].fillna(\"['isNaN']\")\n",
    "    df_output['Cuisine_Style_uniq'] = df_output['Cuisine_Style'].str.findall(r\"'(\\b.*?\\b)'\")\n",
    "        \n",
    "    temp_list = df_output['Cuisine_Style_uniq'].tolist()\n",
    "    temp_counter=Counter(list_unrar(temp_list))\n",
    "    cuisine_counter = pd.DataFrame.from_dict(temp_counter, orient='index').reset_index()\n",
    "    cuisine_counter.columns = ['Cuisine', 'Count']                                                      \n",
    "    cuisine_counter['Percent'] = cuisine_counter.Count/cuisine_counter.Count.sum()\n",
    "                                                      \n",
    "    niche = cuisine_counter.Cuisine[cuisine_counter.Percent <= 0.0002].tolist()\n",
    "    popular = cuisine_counter.Cuisine[cuisine_counter.Percent > 0.01].tolist()\n",
    "    popular.remove('isNaN')\n",
    "    regular = cuisine_counter.Cuisine[(cuisine_counter.Percent > 0.0002)&(cuisine_counter.Percent <= 0.01)].tolist()\n",
    "  \n",
    "    df_output.Cuisine_Style_uniq = df_output.Cuisine_Style_uniq.apply(categorize_cuisine)\n",
    "    cuisine_dummy = pd.get_dummies(df_output.Cuisine_Style_uniq.apply(pd.Series).stack()).sum(level=0)\n",
    "    df_output = pd.concat([df_output,cuisine_dummy],axis=1)\n",
    "    \n",
    "    ####   City\n",
    "    df_output = pd.get_dummies(df_output, columns=['City'])\n",
    "        \n",
    "\n",
    "    # убираем не нужные для модели признаки\n",
    "    df_output.drop(['ID_TA'], axis = 1, inplace=True)\n",
    "    \n",
    "\n",
    "    object_columns = [s for s in df_output.columns if df_output[s].dtypes == 'object']\n",
    "    df_output.drop(object_columns, axis = 1, inplace=True)\n",
    "    \n",
    "    return df_output"
   ]
  },
  {
   "cell_type": "code",
   "execution_count": 7,
   "metadata": {},
   "outputs": [
    {
     "data": {
      "text/html": [
       "<div>\n",
       "<style scoped>\n",
       "    .dataframe tbody tr th:only-of-type {\n",
       "        vertical-align: middle;\n",
       "    }\n",
       "\n",
       "    .dataframe tbody tr th {\n",
       "        vertical-align: top;\n",
       "    }\n",
       "\n",
       "    .dataframe thead th {\n",
       "        text-align: right;\n",
       "    }\n",
       "</style>\n",
       "<table border=\"1\" class=\"dataframe\">\n",
       "  <thead>\n",
       "    <tr style=\"text-align: right;\">\n",
       "      <th></th>\n",
       "      <th>Restaurant_id</th>\n",
       "      <th>City</th>\n",
       "      <th>Cuisine Style</th>\n",
       "      <th>Ranking</th>\n",
       "      <th>Rating</th>\n",
       "      <th>Price Range</th>\n",
       "      <th>Number of Reviews</th>\n",
       "      <th>Reviews</th>\n",
       "      <th>URL_TA</th>\n",
       "      <th>ID_TA</th>\n",
       "      <th>is_franchise</th>\n",
       "    </tr>\n",
       "  </thead>\n",
       "  <tbody>\n",
       "    <tr>\n",
       "      <th>0</th>\n",
       "      <td>id_5569</td>\n",
       "      <td>Paris</td>\n",
       "      <td>['European', 'French', 'International']</td>\n",
       "      <td>5570.0</td>\n",
       "      <td>3.5</td>\n",
       "      <td>$$ - $$$</td>\n",
       "      <td>194.0</td>\n",
       "      <td>[['Good food at your doorstep', 'A good hotel ...</td>\n",
       "      <td>/Restaurant_Review-g187147-d1912643-Reviews-R_...</td>\n",
       "      <td>d1912643</td>\n",
       "      <td>1</td>\n",
       "    </tr>\n",
       "    <tr>\n",
       "      <th>1</th>\n",
       "      <td>id_1535</td>\n",
       "      <td>Stockholm</td>\n",
       "      <td>NaN</td>\n",
       "      <td>1537.0</td>\n",
       "      <td>4.0</td>\n",
       "      <td>NaN</td>\n",
       "      <td>10.0</td>\n",
       "      <td>[['Unique cuisine', 'Delicious Nepalese food']...</td>\n",
       "      <td>/Restaurant_Review-g189852-d7992032-Reviews-Bu...</td>\n",
       "      <td>d7992032</td>\n",
       "      <td>1</td>\n",
       "    </tr>\n",
       "    <tr>\n",
       "      <th>2</th>\n",
       "      <td>id_352</td>\n",
       "      <td>London</td>\n",
       "      <td>['Japanese', 'Sushi', 'Asian', 'Grill', 'Veget...</td>\n",
       "      <td>353.0</td>\n",
       "      <td>4.5</td>\n",
       "      <td>$$$$</td>\n",
       "      <td>688.0</td>\n",
       "      <td>[['Catch up with friends', 'Not exceptional'],...</td>\n",
       "      <td>/Restaurant_Review-g186338-d8632781-Reviews-RO...</td>\n",
       "      <td>d8632781</td>\n",
       "      <td>1</td>\n",
       "    </tr>\n",
       "    <tr>\n",
       "      <th>3</th>\n",
       "      <td>id_3456</td>\n",
       "      <td>Berlin</td>\n",
       "      <td>NaN</td>\n",
       "      <td>3458.0</td>\n",
       "      <td>5.0</td>\n",
       "      <td>NaN</td>\n",
       "      <td>3.0</td>\n",
       "      <td>[[], []]</td>\n",
       "      <td>/Restaurant_Review-g187323-d1358776-Reviews-Es...</td>\n",
       "      <td>d1358776</td>\n",
       "      <td>1</td>\n",
       "    </tr>\n",
       "    <tr>\n",
       "      <th>4</th>\n",
       "      <td>id_615</td>\n",
       "      <td>Munich</td>\n",
       "      <td>['German', 'Central European', 'Vegetarian Fri...</td>\n",
       "      <td>621.0</td>\n",
       "      <td>4.0</td>\n",
       "      <td>$$ - $$$</td>\n",
       "      <td>84.0</td>\n",
       "      <td>[['Best place to try a Bavarian food', 'Nice b...</td>\n",
       "      <td>/Restaurant_Review-g187309-d6864963-Reviews-Au...</td>\n",
       "      <td>d6864963</td>\n",
       "      <td>1</td>\n",
       "    </tr>\n",
       "    <tr>\n",
       "      <th>...</th>\n",
       "      <td>...</td>\n",
       "      <td>...</td>\n",
       "      <td>...</td>\n",
       "      <td>...</td>\n",
       "      <td>...</td>\n",
       "      <td>...</td>\n",
       "      <td>...</td>\n",
       "      <td>...</td>\n",
       "      <td>...</td>\n",
       "      <td>...</td>\n",
       "      <td>...</td>\n",
       "    </tr>\n",
       "    <tr>\n",
       "      <th>39995</th>\n",
       "      <td>id_499</td>\n",
       "      <td>Milan</td>\n",
       "      <td>['Italian', 'Vegetarian Friendly', 'Vegan Opti...</td>\n",
       "      <td>500.0</td>\n",
       "      <td>4.5</td>\n",
       "      <td>$$ - $$$</td>\n",
       "      <td>79.0</td>\n",
       "      <td>[['The real Italian experience!', 'Wonderful f...</td>\n",
       "      <td>/Restaurant_Review-g187849-d2104414-Reviews-Ro...</td>\n",
       "      <td>d2104414</td>\n",
       "      <td>1</td>\n",
       "    </tr>\n",
       "    <tr>\n",
       "      <th>39996</th>\n",
       "      <td>id_6340</td>\n",
       "      <td>Paris</td>\n",
       "      <td>['French', 'American', 'Bar', 'European', 'Veg...</td>\n",
       "      <td>6341.0</td>\n",
       "      <td>3.5</td>\n",
       "      <td>$$ - $$$</td>\n",
       "      <td>542.0</td>\n",
       "      <td>[['Parisian atmosphere', 'Bit pricey but inter...</td>\n",
       "      <td>/Restaurant_Review-g187147-d1800036-Reviews-La...</td>\n",
       "      <td>d1800036</td>\n",
       "      <td>1</td>\n",
       "    </tr>\n",
       "    <tr>\n",
       "      <th>39997</th>\n",
       "      <td>id_1649</td>\n",
       "      <td>Stockholm</td>\n",
       "      <td>['Japanese', 'Sushi']</td>\n",
       "      <td>1652.0</td>\n",
       "      <td>4.5</td>\n",
       "      <td>NaN</td>\n",
       "      <td>4.0</td>\n",
       "      <td>[['Good by swedish standards', 'A hidden jewel...</td>\n",
       "      <td>/Restaurant_Review-g189852-d947615-Reviews-Sus...</td>\n",
       "      <td>d947615</td>\n",
       "      <td>1</td>\n",
       "    </tr>\n",
       "    <tr>\n",
       "      <th>39998</th>\n",
       "      <td>id_640</td>\n",
       "      <td>Warsaw</td>\n",
       "      <td>['Polish', 'European', 'Eastern European', 'Ce...</td>\n",
       "      <td>641.0</td>\n",
       "      <td>4.0</td>\n",
       "      <td>$$ - $$$</td>\n",
       "      <td>70.0</td>\n",
       "      <td>[['Underground restaurant', 'Oldest Restaurant...</td>\n",
       "      <td>/Restaurant_Review-g274856-d1100838-Reviews-Ho...</td>\n",
       "      <td>d1100838</td>\n",
       "      <td>1</td>\n",
       "    </tr>\n",
       "    <tr>\n",
       "      <th>39999</th>\n",
       "      <td>id_4824</td>\n",
       "      <td>Milan</td>\n",
       "      <td>['Spanish']</td>\n",
       "      <td>4827.0</td>\n",
       "      <td>3.0</td>\n",
       "      <td>$$ - $$$</td>\n",
       "      <td>260.0</td>\n",
       "      <td>[['Average', 'Nice an informal'], ['01/31/2016...</td>\n",
       "      <td>/Restaurant_Review-g187849-d1109020-Reviews-Ta...</td>\n",
       "      <td>d1109020</td>\n",
       "      <td>1</td>\n",
       "    </tr>\n",
       "  </tbody>\n",
       "</table>\n",
       "<p>40000 rows × 11 columns</p>\n",
       "</div>"
      ],
      "text/plain": [
       "      Restaurant_id       City  \\\n",
       "0           id_5569      Paris   \n",
       "1           id_1535  Stockholm   \n",
       "2            id_352     London   \n",
       "3           id_3456     Berlin   \n",
       "4            id_615     Munich   \n",
       "...             ...        ...   \n",
       "39995        id_499      Milan   \n",
       "39996       id_6340      Paris   \n",
       "39997       id_1649  Stockholm   \n",
       "39998        id_640     Warsaw   \n",
       "39999       id_4824      Milan   \n",
       "\n",
       "                                           Cuisine Style  Ranking  Rating  \\\n",
       "0                ['European', 'French', 'International']   5570.0     3.5   \n",
       "1                                                    NaN   1537.0     4.0   \n",
       "2      ['Japanese', 'Sushi', 'Asian', 'Grill', 'Veget...    353.0     4.5   \n",
       "3                                                    NaN   3458.0     5.0   \n",
       "4      ['German', 'Central European', 'Vegetarian Fri...    621.0     4.0   \n",
       "...                                                  ...      ...     ...   \n",
       "39995  ['Italian', 'Vegetarian Friendly', 'Vegan Opti...    500.0     4.5   \n",
       "39996  ['French', 'American', 'Bar', 'European', 'Veg...   6341.0     3.5   \n",
       "39997                              ['Japanese', 'Sushi']   1652.0     4.5   \n",
       "39998  ['Polish', 'European', 'Eastern European', 'Ce...    641.0     4.0   \n",
       "39999                                        ['Spanish']   4827.0     3.0   \n",
       "\n",
       "      Price Range  Number of Reviews  \\\n",
       "0        $$ - $$$              194.0   \n",
       "1             NaN               10.0   \n",
       "2            $$$$              688.0   \n",
       "3             NaN                3.0   \n",
       "4        $$ - $$$               84.0   \n",
       "...           ...                ...   \n",
       "39995    $$ - $$$               79.0   \n",
       "39996    $$ - $$$              542.0   \n",
       "39997         NaN                4.0   \n",
       "39998    $$ - $$$               70.0   \n",
       "39999    $$ - $$$              260.0   \n",
       "\n",
       "                                                 Reviews  \\\n",
       "0      [['Good food at your doorstep', 'A good hotel ...   \n",
       "1      [['Unique cuisine', 'Delicious Nepalese food']...   \n",
       "2      [['Catch up with friends', 'Not exceptional'],...   \n",
       "3                                               [[], []]   \n",
       "4      [['Best place to try a Bavarian food', 'Nice b...   \n",
       "...                                                  ...   \n",
       "39995  [['The real Italian experience!', 'Wonderful f...   \n",
       "39996  [['Parisian atmosphere', 'Bit pricey but inter...   \n",
       "39997  [['Good by swedish standards', 'A hidden jewel...   \n",
       "39998  [['Underground restaurant', 'Oldest Restaurant...   \n",
       "39999  [['Average', 'Nice an informal'], ['01/31/2016...   \n",
       "\n",
       "                                                  URL_TA     ID_TA  \\\n",
       "0      /Restaurant_Review-g187147-d1912643-Reviews-R_...  d1912643   \n",
       "1      /Restaurant_Review-g189852-d7992032-Reviews-Bu...  d7992032   \n",
       "2      /Restaurant_Review-g186338-d8632781-Reviews-RO...  d8632781   \n",
       "3      /Restaurant_Review-g187323-d1358776-Reviews-Es...  d1358776   \n",
       "4      /Restaurant_Review-g187309-d6864963-Reviews-Au...  d6864963   \n",
       "...                                                  ...       ...   \n",
       "39995  /Restaurant_Review-g187849-d2104414-Reviews-Ro...  d2104414   \n",
       "39996  /Restaurant_Review-g187147-d1800036-Reviews-La...  d1800036   \n",
       "39997  /Restaurant_Review-g189852-d947615-Reviews-Sus...   d947615   \n",
       "39998  /Restaurant_Review-g274856-d1100838-Reviews-Ho...  d1100838   \n",
       "39999  /Restaurant_Review-g187849-d1109020-Reviews-Ta...  d1109020   \n",
       "\n",
       "       is_franchise  \n",
       "0                 1  \n",
       "1                 1  \n",
       "2                 1  \n",
       "3                 1  \n",
       "4                 1  \n",
       "...             ...  \n",
       "39995             1  \n",
       "39996             1  \n",
       "39997             1  \n",
       "39998             1  \n",
       "39999             1  \n",
       "\n",
       "[40000 rows x 11 columns]"
      ]
     },
     "execution_count": 7,
     "metadata": {},
     "output_type": "execute_result"
    }
   ],
   "source": [
    "df = df_main.copy()\n",
    "def detectFranchise(count):\n",
    "    if count > 1:\n",
    "        return 1\n",
    "    return 0\n",
    "counts = df.Restaurant_id.value_counts().apply(detectFranchise)\n",
    "countsPd = pd.Series(counts.values, counts.index).reset_index()\n",
    "countsPd.columns=[\"Restaurant_id\", \"is_franchise\"]\n",
    "df = df.merge(countsPd, how='left')\n",
    "df"
   ]
  },
  {
   "cell_type": "code",
   "execution_count": 8,
   "metadata": {},
   "outputs": [
    {
     "data": {
      "text/html": [
       "<div>\n",
       "<style scoped>\n",
       "    .dataframe tbody tr th:only-of-type {\n",
       "        vertical-align: middle;\n",
       "    }\n",
       "\n",
       "    .dataframe tbody tr th {\n",
       "        vertical-align: top;\n",
       "    }\n",
       "\n",
       "    .dataframe thead th {\n",
       "        text-align: right;\n",
       "    }\n",
       "</style>\n",
       "<table border=\"1\" class=\"dataframe\">\n",
       "  <thead>\n",
       "    <tr style=\"text-align: right;\">\n",
       "      <th></th>\n",
       "      <th>Restaurant_id</th>\n",
       "      <th>City</th>\n",
       "      <th>Cuisine Style</th>\n",
       "      <th>Ranking</th>\n",
       "      <th>Rating</th>\n",
       "      <th>Price Range</th>\n",
       "      <th>Number of Reviews</th>\n",
       "      <th>Reviews</th>\n",
       "      <th>URL_TA</th>\n",
       "      <th>ID_TA</th>\n",
       "      <th>code_Restaurant_id</th>\n",
       "    </tr>\n",
       "  </thead>\n",
       "  <tbody>\n",
       "    <tr>\n",
       "      <th>0</th>\n",
       "      <td>id_5569</td>\n",
       "      <td>Paris</td>\n",
       "      <td>['European', 'French', 'International']</td>\n",
       "      <td>5570.0</td>\n",
       "      <td>3.5</td>\n",
       "      <td>$$ - $$$</td>\n",
       "      <td>194.0</td>\n",
       "      <td>[['Good food at your doorstep', 'A good hotel ...</td>\n",
       "      <td>/Restaurant_Review-g187147-d1912643-Reviews-R_...</td>\n",
       "      <td>d1912643</td>\n",
       "      <td>5569.0</td>\n",
       "    </tr>\n",
       "    <tr>\n",
       "      <th>1</th>\n",
       "      <td>id_1535</td>\n",
       "      <td>Stockholm</td>\n",
       "      <td>NaN</td>\n",
       "      <td>1537.0</td>\n",
       "      <td>4.0</td>\n",
       "      <td>NaN</td>\n",
       "      <td>10.0</td>\n",
       "      <td>[['Unique cuisine', 'Delicious Nepalese food']...</td>\n",
       "      <td>/Restaurant_Review-g189852-d7992032-Reviews-Bu...</td>\n",
       "      <td>d7992032</td>\n",
       "      <td>1535.0</td>\n",
       "    </tr>\n",
       "    <tr>\n",
       "      <th>2</th>\n",
       "      <td>id_352</td>\n",
       "      <td>London</td>\n",
       "      <td>['Japanese', 'Sushi', 'Asian', 'Grill', 'Veget...</td>\n",
       "      <td>353.0</td>\n",
       "      <td>4.5</td>\n",
       "      <td>$$$$</td>\n",
       "      <td>688.0</td>\n",
       "      <td>[['Catch up with friends', 'Not exceptional'],...</td>\n",
       "      <td>/Restaurant_Review-g186338-d8632781-Reviews-RO...</td>\n",
       "      <td>d8632781</td>\n",
       "      <td>352.0</td>\n",
       "    </tr>\n",
       "    <tr>\n",
       "      <th>3</th>\n",
       "      <td>id_3456</td>\n",
       "      <td>Berlin</td>\n",
       "      <td>NaN</td>\n",
       "      <td>3458.0</td>\n",
       "      <td>5.0</td>\n",
       "      <td>NaN</td>\n",
       "      <td>3.0</td>\n",
       "      <td>[[], []]</td>\n",
       "      <td>/Restaurant_Review-g187323-d1358776-Reviews-Es...</td>\n",
       "      <td>d1358776</td>\n",
       "      <td>3456.0</td>\n",
       "    </tr>\n",
       "    <tr>\n",
       "      <th>4</th>\n",
       "      <td>id_615</td>\n",
       "      <td>Munich</td>\n",
       "      <td>['German', 'Central European', 'Vegetarian Fri...</td>\n",
       "      <td>621.0</td>\n",
       "      <td>4.0</td>\n",
       "      <td>$$ - $$$</td>\n",
       "      <td>84.0</td>\n",
       "      <td>[['Best place to try a Bavarian food', 'Nice b...</td>\n",
       "      <td>/Restaurant_Review-g187309-d6864963-Reviews-Au...</td>\n",
       "      <td>d6864963</td>\n",
       "      <td>615.0</td>\n",
       "    </tr>\n",
       "    <tr>\n",
       "      <th>...</th>\n",
       "      <td>...</td>\n",
       "      <td>...</td>\n",
       "      <td>...</td>\n",
       "      <td>...</td>\n",
       "      <td>...</td>\n",
       "      <td>...</td>\n",
       "      <td>...</td>\n",
       "      <td>...</td>\n",
       "      <td>...</td>\n",
       "      <td>...</td>\n",
       "      <td>...</td>\n",
       "    </tr>\n",
       "    <tr>\n",
       "      <th>39995</th>\n",
       "      <td>id_499</td>\n",
       "      <td>Milan</td>\n",
       "      <td>['Italian', 'Vegetarian Friendly', 'Vegan Opti...</td>\n",
       "      <td>500.0</td>\n",
       "      <td>4.5</td>\n",
       "      <td>$$ - $$$</td>\n",
       "      <td>79.0</td>\n",
       "      <td>[['The real Italian experience!', 'Wonderful f...</td>\n",
       "      <td>/Restaurant_Review-g187849-d2104414-Reviews-Ro...</td>\n",
       "      <td>d2104414</td>\n",
       "      <td>499.0</td>\n",
       "    </tr>\n",
       "    <tr>\n",
       "      <th>39996</th>\n",
       "      <td>id_6340</td>\n",
       "      <td>Paris</td>\n",
       "      <td>['French', 'American', 'Bar', 'European', 'Veg...</td>\n",
       "      <td>6341.0</td>\n",
       "      <td>3.5</td>\n",
       "      <td>$$ - $$$</td>\n",
       "      <td>542.0</td>\n",
       "      <td>[['Parisian atmosphere', 'Bit pricey but inter...</td>\n",
       "      <td>/Restaurant_Review-g187147-d1800036-Reviews-La...</td>\n",
       "      <td>d1800036</td>\n",
       "      <td>6340.0</td>\n",
       "    </tr>\n",
       "    <tr>\n",
       "      <th>39997</th>\n",
       "      <td>id_1649</td>\n",
       "      <td>Stockholm</td>\n",
       "      <td>['Japanese', 'Sushi']</td>\n",
       "      <td>1652.0</td>\n",
       "      <td>4.5</td>\n",
       "      <td>NaN</td>\n",
       "      <td>4.0</td>\n",
       "      <td>[['Good by swedish standards', 'A hidden jewel...</td>\n",
       "      <td>/Restaurant_Review-g189852-d947615-Reviews-Sus...</td>\n",
       "      <td>d947615</td>\n",
       "      <td>1649.0</td>\n",
       "    </tr>\n",
       "    <tr>\n",
       "      <th>39998</th>\n",
       "      <td>id_640</td>\n",
       "      <td>Warsaw</td>\n",
       "      <td>['Polish', 'European', 'Eastern European', 'Ce...</td>\n",
       "      <td>641.0</td>\n",
       "      <td>4.0</td>\n",
       "      <td>$$ - $$$</td>\n",
       "      <td>70.0</td>\n",
       "      <td>[['Underground restaurant', 'Oldest Restaurant...</td>\n",
       "      <td>/Restaurant_Review-g274856-d1100838-Reviews-Ho...</td>\n",
       "      <td>d1100838</td>\n",
       "      <td>640.0</td>\n",
       "    </tr>\n",
       "    <tr>\n",
       "      <th>39999</th>\n",
       "      <td>id_4824</td>\n",
       "      <td>Milan</td>\n",
       "      <td>['Spanish']</td>\n",
       "      <td>4827.0</td>\n",
       "      <td>3.0</td>\n",
       "      <td>$$ - $$$</td>\n",
       "      <td>260.0</td>\n",
       "      <td>[['Average', 'Nice an informal'], ['01/31/2016...</td>\n",
       "      <td>/Restaurant_Review-g187849-d1109020-Reviews-Ta...</td>\n",
       "      <td>d1109020</td>\n",
       "      <td>4824.0</td>\n",
       "    </tr>\n",
       "  </tbody>\n",
       "</table>\n",
       "<p>40000 rows × 11 columns</p>\n",
       "</div>"
      ],
      "text/plain": [
       "      Restaurant_id       City  \\\n",
       "0           id_5569      Paris   \n",
       "1           id_1535  Stockholm   \n",
       "2            id_352     London   \n",
       "3           id_3456     Berlin   \n",
       "4            id_615     Munich   \n",
       "...             ...        ...   \n",
       "39995        id_499      Milan   \n",
       "39996       id_6340      Paris   \n",
       "39997       id_1649  Stockholm   \n",
       "39998        id_640     Warsaw   \n",
       "39999       id_4824      Milan   \n",
       "\n",
       "                                           Cuisine Style  Ranking  Rating  \\\n",
       "0                ['European', 'French', 'International']   5570.0     3.5   \n",
       "1                                                    NaN   1537.0     4.0   \n",
       "2      ['Japanese', 'Sushi', 'Asian', 'Grill', 'Veget...    353.0     4.5   \n",
       "3                                                    NaN   3458.0     5.0   \n",
       "4      ['German', 'Central European', 'Vegetarian Fri...    621.0     4.0   \n",
       "...                                                  ...      ...     ...   \n",
       "39995  ['Italian', 'Vegetarian Friendly', 'Vegan Opti...    500.0     4.5   \n",
       "39996  ['French', 'American', 'Bar', 'European', 'Veg...   6341.0     3.5   \n",
       "39997                              ['Japanese', 'Sushi']   1652.0     4.5   \n",
       "39998  ['Polish', 'European', 'Eastern European', 'Ce...    641.0     4.0   \n",
       "39999                                        ['Spanish']   4827.0     3.0   \n",
       "\n",
       "      Price Range  Number of Reviews  \\\n",
       "0        $$ - $$$              194.0   \n",
       "1             NaN               10.0   \n",
       "2            $$$$              688.0   \n",
       "3             NaN                3.0   \n",
       "4        $$ - $$$               84.0   \n",
       "...           ...                ...   \n",
       "39995    $$ - $$$               79.0   \n",
       "39996    $$ - $$$              542.0   \n",
       "39997         NaN                4.0   \n",
       "39998    $$ - $$$               70.0   \n",
       "39999    $$ - $$$              260.0   \n",
       "\n",
       "                                                 Reviews  \\\n",
       "0      [['Good food at your doorstep', 'A good hotel ...   \n",
       "1      [['Unique cuisine', 'Delicious Nepalese food']...   \n",
       "2      [['Catch up with friends', 'Not exceptional'],...   \n",
       "3                                               [[], []]   \n",
       "4      [['Best place to try a Bavarian food', 'Nice b...   \n",
       "...                                                  ...   \n",
       "39995  [['The real Italian experience!', 'Wonderful f...   \n",
       "39996  [['Parisian atmosphere', 'Bit pricey but inter...   \n",
       "39997  [['Good by swedish standards', 'A hidden jewel...   \n",
       "39998  [['Underground restaurant', 'Oldest Restaurant...   \n",
       "39999  [['Average', 'Nice an informal'], ['01/31/2016...   \n",
       "\n",
       "                                                  URL_TA     ID_TA  \\\n",
       "0      /Restaurant_Review-g187147-d1912643-Reviews-R_...  d1912643   \n",
       "1      /Restaurant_Review-g189852-d7992032-Reviews-Bu...  d7992032   \n",
       "2      /Restaurant_Review-g186338-d8632781-Reviews-RO...  d8632781   \n",
       "3      /Restaurant_Review-g187323-d1358776-Reviews-Es...  d1358776   \n",
       "4      /Restaurant_Review-g187309-d6864963-Reviews-Au...  d6864963   \n",
       "...                                                  ...       ...   \n",
       "39995  /Restaurant_Review-g187849-d2104414-Reviews-Ro...  d2104414   \n",
       "39996  /Restaurant_Review-g187147-d1800036-Reviews-La...  d1800036   \n",
       "39997  /Restaurant_Review-g189852-d947615-Reviews-Sus...   d947615   \n",
       "39998  /Restaurant_Review-g274856-d1100838-Reviews-Ho...  d1100838   \n",
       "39999  /Restaurant_Review-g187849-d1109020-Reviews-Ta...  d1109020   \n",
       "\n",
       "       code_Restaurant_id  \n",
       "0                  5569.0  \n",
       "1                  1535.0  \n",
       "2                   352.0  \n",
       "3                  3456.0  \n",
       "4                   615.0  \n",
       "...                   ...  \n",
       "39995               499.0  \n",
       "39996              6340.0  \n",
       "39997              1649.0  \n",
       "39998               640.0  \n",
       "39999              4824.0  \n",
       "\n",
       "[40000 rows x 11 columns]"
      ]
     },
     "execution_count": 8,
     "metadata": {},
     "output_type": "execute_result"
    }
   ],
   "source": [
    "df = df_main.copy()\n",
    "df['code_Restaurant_id'] = df['Restaurant_id'].apply(lambda x: float(x[3:]))\n",
    "df"
   ]
  },
  {
   "cell_type": "code",
   "execution_count": 9,
   "metadata": {},
   "outputs": [],
   "source": [
    "### попробую проверить последовательно влияние моих переменных на МАЕ\n",
    "## 1. только dummies городов. МАЕ = 0.3342575\n",
    "## 2. плюс обработка Number_of_Reviews. МАЕ = 0.21572949\n",
    "## 3. применим масштабирование к Ranking. МАЕ = 0.211855\n",
    "## 4. определим франшизу по Restaurant_ID. МАЕ = 0.21573499 - уберем детекцию франшизы\n",
    "## 5. обработка Price_Range. МАЕ = 0.20984 - оставим признак\n",
    "## 6. проведем анализ Review\n",
    "### 6.1 dummies для количества дат, очистка и анализ слов текста ревью. MAE: 0.21022949\n",
    "### 6.2 плюс dummies для интервалов между датами. 0.2097165\n",
    "### 6.3 уберем анализ слов текстовой части 0.209052\n",
    "### 6.4 чуть отредактирую слова в списках 0.2095524\n",
    "### 6.5 еще поудаляла сомнительные слова в списке positive MAE: 0.20946099\n",
    "## 7. добавим призннак с населением в городах Population MAE: 0.2082165\n",
    "## 8. вернем детекцию франшизы не путая индексы при добавлении MAE: 0.2087625\n",
    "## 9. добавим исследование кухонь MAE: 0.2085855\n",
    "## 10. добавим признак Ranking/Population уже масштабированные\n",
    "\n",
    "def preproc_data(df_input):\n",
    "    '''includes several functions to pre-process the predictor data.'''\n",
    "    \n",
    "    df_output = df_input.copy()\n",
    "    df_output.columns = [column.replace(' ','_') for column in df_output.columns]\n",
    "    \n",
    "    scaler = MinMaxScaler()\n",
    "    ###функция для масштабирования сгруппированных признаков\n",
    "    def scale(X):\n",
    "        X_ = np.atleast_2d(X)\n",
    "        return pd.DataFrame(scaler.fit_transform(X_), X.index)\n",
    "    ###функция для определения ценовой категории\n",
    "    def price_range(x):\n",
    "        if x=='$':\n",
    "            return 'econom'\n",
    "        elif x=='$$ - $$$':\n",
    "            return 'regular'\n",
    "        elif x=='$$$$':\n",
    "            return 'luxury'\n",
    "        return \"isNaN\"\n",
    "    ##списки слов из текста Review\n",
    "    positive = ['good','great','nice','best','excel','delicio','love','delici','friendli','amaz','tasti',\n",
    "                'atmospher','authent','fantast','quick''perfect','qualiti','wonder',\n",
    "                'fresh','tast','surpris','cozi','reason','cosi','worth','famili','fast',\n",
    "                'pleasant','awesom','super','like','real','beauti','relax','recommend','enjoy',\n",
    "                'superb','special','yummi','welcom','cool','fabul','healthi','quiet',\n",
    "                'favourit','delight','high','brilliant','warm','favorit','charm','outstand','cute',\n",
    "                'pricey','pretti','curri','happi','highli','ambianc','vibe','heart','comfort','incred',\n",
    "                'modern','ambienc','fair','conveni','uniqu','surprisingli','clean','lover','heaven','chill',\n",
    "                'sweet','fare','quirki','honest','genuin','class','true','attent','stylish','trendi','return',\n",
    "                'popular','creativ','inexpens','flavor','romant','hospit','satisfi','atmosph','gorgeou','joint',\n",
    "                'eleg','proper','intim','treasur','gourmet','athen','truli','sure','reliabl','ideal',\n",
    "                'ingredi','host','unusu','celebr','hearti','effici','perfectli','fanci','pleasur','smile',\n",
    "                'thank','exquisit','fashion','paradis','pleasantli','jewel','lucki','freshli','fairli',\n",
    "                'spectacular','innov','funki','magic','supper','unbeliev','feast','rustic','smoothi','entertain',\n",
    "                'michelin','highlight','calm','ambient','posit','atmo','correct','inspir','dream','familiar','glad',\n",
    "               'friendliest','greatest','nicest','wholesom','tranquil','comfi','attract','amazingli','frendli',\n",
    "                'pleasent','flavoursom','yumm','excellen','atmosfer','luxuri','royal','freshest','perfecto','tremend',\n",
    "                'deliciu','freindli','frindli','amateur','nicer','greater','brilliantli','coolest','respect','goood']\n",
    "    negative = ['disapoint','dissapoint','worst','tasteless','rat','horribl','crepe','problem','wast',\n",
    "                'terribl','bore','mediocr','dissapoint','rude','overpric','disappoint','lack','noisi',\n",
    "                'expens','poor','disgust','avoid','trap','shame','unfriendli','bewar','dirti','unpleas','unpleas',\n",
    "                'underwhelm','rubbish','weird','worthi','scam','poorli','expensi','complaint','cheater','dishonest',\n",
    "                'unwelcom','nope','uninterest','rough','horrend','rudest','disrespect','horrif','pour','slowest',\n",
    "                'jerk','impolit']\n",
    "    neutral = ['averag','decent','ordinari','regular','simpl','alright','typic','okay','normal','casual','middl',\n",
    "               'simpli','standard']\n",
    "    ##функция для сокращения слов в их корневую форму\n",
    "    def lemmatize_stemming(text):\n",
    "        return stemmer.stem(WordNetLemmatizer().lemmatize(text, pos='v'))  \n",
    "    ##функция для удаления шумовых слов из текста\n",
    "    def preprocess(text):\n",
    "        result=[]\n",
    "        for token in gensim.utils.simple_preprocess(text) :\n",
    "            if token not in gensim.parsing.preprocessing.STOPWORDS and len(token) > 3:\n",
    "                result.append(lemmatize_stemming(token))\n",
    "        return result\n",
    "    ##функция для анализа слов в тексте\n",
    "    def text_category(cell):\n",
    "        result = []\n",
    "        if len(cell) == 0:\n",
    "            result.append('no_review')\n",
    "            return result\n",
    "        for item in cell:\n",
    "            if item in positive:\n",
    "                result.append('positive')\n",
    "            elif item in negative:\n",
    "                result.append('negative')\n",
    "            elif item in neutral:\n",
    "                result.append('neutral')\n",
    "        return result\n",
    "    # функция для выведения категорий текста в столбцы\n",
    "    def countCat(row):\n",
    "        result = [0,0,0,0,0]\n",
    "        columnSet = ['positive', 'negative', 'neutral', 'no_review', 'undetected']\n",
    "        if not isinstance(row[\"Text_category\"], list):\n",
    "            result = [0,0,0,0,1]\n",
    "            return pd.Series(result, index=columnSet)\n",
    "        for cat in row[\"Text_category\"]:\n",
    "            for catIndex, catLabel in enumerate(columnSet):\n",
    "                if (catLabel == cat):\n",
    "                    result[catIndex] += 1\n",
    "                    break\n",
    "        return pd.Series(result, index=columnSet)\n",
    "    \n",
    "    #### Добавим признак для сетевых ресторанов\n",
    "    def detectFranchise(count):\n",
    "        if count > 1:\n",
    "            return 1\n",
    "        return 0\n",
    "\n",
    "    counts = df_output.Restaurant_id.value_counts().apply(detectFranchise)\n",
    "    countsPd = pd.Series(counts.values, counts.index).reset_index()\n",
    "    countsPd.columns=[\"Restaurant_id\", \"is_franchise\"]\n",
    "    df_output = df_output.merge(countsPd, how='left')\n",
    "    #### Добавим признак с населением\n",
    "    city_dict = {'Paris': 2148.327, 'Helsinki':656.611, 'Edinburgh':488.1, 'London':8961.989, \n",
    "                 'Bratislava':437.725,'Lisbon':505.526,'Budapest':1752.286, 'Stockholm':961.609, \n",
    "                 'Rome':2870.500, 'Milan':1378.689, 'Munich':1471.508,'Hamburg':1841.179,\n",
    "                 'Prague':1335.084, 'Vienna':1897.491, 'Dublin':1173.179, 'Barcelona':1664.182, \n",
    "                 'Brussels':185.103,'Madrid':3266.126,'Oslo':673.469, 'Amsterdam':872.757, \n",
    "                 'Berlin':3644.826, 'Lyon': 506.615, 'Athens':664.046, 'Warsaw':1789.620,\n",
    "                 'Oporto':231.962, 'Krakow':769.307, 'Copenhagen':1358.608, 'Luxembourg':636.739, \n",
    "                 'Zurich':1407.572, 'Geneva':620.131,'Ljubljana':284.355}\n",
    "    pop_df = pd.Series(city_dict).to_frame().reset_index()\n",
    "    pop_df.columns = ['City','Population']\n",
    "    df_output = df_output.merge(pop_df, how='left')\n",
    "            \n",
    "    df_output[['Population']] = scaler.fit_transform(df_output[['Population']])\n",
    "    \n",
    "    ####   Cuisine_Style   \n",
    "    df_output['Cuisine_Style'] = df_output['Cuisine_Style'].fillna(\"['isNaN']\")\n",
    "    df_output['Cuisine_Style_uniq'] = df_output['Cuisine_Style'].str.findall(r\"'(\\b.*?\\b)'\")\n",
    "        \n",
    "    temp_list = df_output['Cuisine_Style_uniq'].tolist()\n",
    "    temp_counter=Counter(list_unrar(temp_list))\n",
    "    cuisine_counter = pd.DataFrame.from_dict(temp_counter, orient='index').reset_index()\n",
    "    cuisine_counter.columns = ['Cuisine', 'Count']                                                      \n",
    "    cuisine_counter['Percent'] = cuisine_counter.Count/cuisine_counter.Count.sum()\n",
    "                                                      \n",
    "    niche = cuisine_counter.Cuisine[cuisine_counter.Percent <= 0.0002].tolist()\n",
    "    popular = cuisine_counter.Cuisine[cuisine_counter.Percent > 0.01].tolist()\n",
    "    popular.remove('isNaN')\n",
    "    regular = cuisine_counter.Cuisine[(cuisine_counter.Percent > 0.0002)&(cuisine_counter.Percent <= 0.01)].tolist()\n",
    "  \n",
    "    df_output.Cuisine_Style_uniq = df_output.Cuisine_Style_uniq.apply(categorize_cuisine)\n",
    "    cuisine_dummy = pd.get_dummies(df_output.Cuisine_Style_uniq.apply(pd.Series).stack()).sum(level=0)\n",
    "    df_output = pd.concat([df_output,cuisine_dummy],axis=1)\n",
    "    \n",
    "    #### Reviews - Text and Dates\n",
    "    df_output['Reviews'] = df_output['Reviews'].fillna(\"[[], []]\")\n",
    "    df_output[['Text','Dates']] = df_output.Reviews.str.split(r'\\], \\[', n=1, expand=True) \n",
    "    df_output.Text = df_output.Text.str.lower()\n",
    "    \n",
    "    df_output.Dates = df_output.Dates.str.findall(r'\\d{2}.\\d{2}.\\d{4}')\n",
    "    df_output['Dates_num'] = df_output.Dates.apply(len)\n",
    "\n",
    "    df_output[['Date1','Date2']] = pd.DataFrame(df_output.Dates.values.tolist(), index= df_output.index)\n",
    "    df_output.Date1 = pd.to_datetime(df_output.Date1, format='%m/%d/%Y')      \n",
    "    df_output.Date2 = pd.to_datetime(df_output.Date2, format='%m/%d/%Y') \n",
    "\n",
    "    df_output['Date_diff'] = abs(df_output.Date1 - df_output.Date2)\n",
    "    df_output['Date_diff'] = df_output['Date_diff'].astype('timedelta64[D]')\n",
    "    df_output['Interval'] = pd.cut(df_output['Date_diff'], bins=[0,30,90,365,3208], \n",
    "                                   labels=['in_month','in_3_month','in_1_year','more_year'],\n",
    "                                   right=False)\n",
    "\n",
    "    df_output.Interval = df_output.Interval.astype('category')\n",
    "    df_output = pd.get_dummies(df_output, columns=['Interval'])\n",
    "\n",
    "    df_output['Text_dirty_len'] = df_output['Text'].apply(len)\n",
    "    df_output[['Text_dirty_len']] = scaler.fit_transform(df_output[['Text_dirty_len']])\n",
    "    \n",
    "    df_output['Text_clean'] = df_output['Text'].apply(lemmatize_stemming)\n",
    "    df_output['Text_clean'] = df_output['Text'].apply(preprocess)\n",
    "    \n",
    "    df_output['Text_clean_len'] = df_output['Text_clean'].apply(len)    \n",
    "    df_output.Text_clean.loc[(df_output.Text_clean_len == 0)&(df_output.Dates_num != 0)]  = 'smile'\n",
    "    df_output['Text_clean_len'] = df_output['Text_clean'].apply(len)\n",
    "    \n",
    "    df_output = pd.get_dummies(df_output, columns=['Dates_num'])\n",
    "    df_output.drop(['Dates_num_0', 'Dates_num_2'], axis=1, inplace=True)\n",
    "    \n",
    "    df_output['Text_category'] = df_output.Text_clean.apply(text_category)\n",
    "    df_output['Text_cat_len'] = df_output['Text_category'].apply(len)\n",
    "    \n",
    "    df_output.Text_category.loc[df_output.Text_cat_len == 0] = 'undetected'\n",
    "   \n",
    "    df_output = df_output.join(df_output.apply(countCat, axis=1))\n",
    "\n",
    "    df_output.drop(['Text_cat_len', 'Text_clean_len'], axis = 1, inplace=True)\n",
    "    \n",
    "    ####   Price_Range\n",
    "    df_output.Price_Range = df_output.Price_Range.apply(price_range)\n",
    "    df_output = pd.get_dummies(df_output, columns=['Price_Range'])\n",
    "    \n",
    "    ####   Ranking\n",
    "    grp = df_output.groupby(['City'])\n",
    "    df_output['Ranking'] = grp[['Ranking']].apply(scale)\n",
    "    \n",
    "    ####   Number_of_Reviews\n",
    "    df_output['Number_of_Reviews_isNAN'] = pd.isna(df_output['Number_of_Reviews']).astype('uint8')\n",
    "    grp = df_output.groupby(['City'])\n",
    "    df_output.Number_of_Reviews = grp.Number_of_Reviews.apply(lambda x: x.fillna(x.median()))\n",
    "    df_output['Number_of_Reviews'] = grp[['Number_of_Reviews']].apply(scale)\n",
    "    \n",
    "   \n",
    "    ####   City\n",
    "    df_output = pd.get_dummies(df_output, columns=['City'])\n",
    "    # убираем не нужные для модели признаки\n",
    "    df_output.drop(['ID_TA','Date1','Date2','Date_diff'], axis = 1, inplace=True)\n",
    "    \n",
    "    object_columns = [s for s in df_output.columns if df_output[s].dtypes == 'object']\n",
    "    df_output.drop(object_columns, axis = 1, inplace=True)\n",
    "    \n",
    "    return df_output"
   ]
  },
  {
   "cell_type": "code",
   "execution_count": 10,
   "metadata": {},
   "outputs": [
    {
     "name": "stdout",
     "output_type": "stream",
     "text": [
      "<class 'pandas.core.frame.DataFrame'>\n",
      "Int64Index: 40000 entries, 0 to 39999\n",
      "Data columns (total 56 columns):\n",
      " #   Column                   Non-Null Count  Dtype  \n",
      "---  ------                   --------------  -----  \n",
      " 0   Ranking                  40000 non-null  float64\n",
      " 1   Rating                   40000 non-null  float64\n",
      " 2   Number_of_Reviews        40000 non-null  float64\n",
      " 3   is_franchise             40000 non-null  int64  \n",
      " 4   Population               40000 non-null  float64\n",
      " 5   isNaN                    40000 non-null  uint8  \n",
      " 6   niche                    40000 non-null  uint8  \n",
      " 7   popular                  40000 non-null  uint8  \n",
      " 8   regular                  40000 non-null  uint8  \n",
      " 9   Interval_in_month        40000 non-null  uint8  \n",
      " 10  Interval_in_3_month      40000 non-null  uint8  \n",
      " 11  Interval_in_1_year       40000 non-null  uint8  \n",
      " 12  Interval_more_year       40000 non-null  uint8  \n",
      " 13  Text_dirty_len           40000 non-null  float64\n",
      " 14  Dates_num_1              40000 non-null  uint8  \n",
      " 15  positive                 40000 non-null  int64  \n",
      " 16  negative                 40000 non-null  int64  \n",
      " 17  neutral                  40000 non-null  int64  \n",
      " 18  no_review                40000 non-null  int64  \n",
      " 19  undetected               40000 non-null  int64  \n",
      " 20  Price_Range_econom       40000 non-null  uint8  \n",
      " 21  Price_Range_isNaN        40000 non-null  uint8  \n",
      " 22  Price_Range_luxury       40000 non-null  uint8  \n",
      " 23  Price_Range_regular      40000 non-null  uint8  \n",
      " 24  Number_of_Reviews_isNAN  40000 non-null  uint8  \n",
      " 25  City_Amsterdam           40000 non-null  uint8  \n",
      " 26  City_Athens              40000 non-null  uint8  \n",
      " 27  City_Barcelona           40000 non-null  uint8  \n",
      " 28  City_Berlin              40000 non-null  uint8  \n",
      " 29  City_Bratislava          40000 non-null  uint8  \n",
      " 30  City_Brussels            40000 non-null  uint8  \n",
      " 31  City_Budapest            40000 non-null  uint8  \n",
      " 32  City_Copenhagen          40000 non-null  uint8  \n",
      " 33  City_Dublin              40000 non-null  uint8  \n",
      " 34  City_Edinburgh           40000 non-null  uint8  \n",
      " 35  City_Geneva              40000 non-null  uint8  \n",
      " 36  City_Hamburg             40000 non-null  uint8  \n",
      " 37  City_Helsinki            40000 non-null  uint8  \n",
      " 38  City_Krakow              40000 non-null  uint8  \n",
      " 39  City_Lisbon              40000 non-null  uint8  \n",
      " 40  City_Ljubljana           40000 non-null  uint8  \n",
      " 41  City_London              40000 non-null  uint8  \n",
      " 42  City_Luxembourg          40000 non-null  uint8  \n",
      " 43  City_Lyon                40000 non-null  uint8  \n",
      " 44  City_Madrid              40000 non-null  uint8  \n",
      " 45  City_Milan               40000 non-null  uint8  \n",
      " 46  City_Munich              40000 non-null  uint8  \n",
      " 47  City_Oporto              40000 non-null  uint8  \n",
      " 48  City_Oslo                40000 non-null  uint8  \n",
      " 49  City_Paris               40000 non-null  uint8  \n",
      " 50  City_Prague              40000 non-null  uint8  \n",
      " 51  City_Rome                40000 non-null  uint8  \n",
      " 52  City_Stockholm           40000 non-null  uint8  \n",
      " 53  City_Vienna              40000 non-null  uint8  \n",
      " 54  City_Warsaw              40000 non-null  uint8  \n",
      " 55  City_Zurich              40000 non-null  uint8  \n",
      "dtypes: float64(5), int64(6), uint8(45)\n",
      "memory usage: 6.4 MB\n"
     ]
    }
   ],
   "source": [
    "df = preproc_data(df_main)\n",
    "df.info()"
   ]
  },
  {
   "cell_type": "code",
   "execution_count": 11,
   "metadata": {},
   "outputs": [
    {
     "data": {
      "application/vnd.plotly.v1+json": {
       "config": {
        "plotlyServerURL": "https://plot.ly"
       },
       "data": [
        {
         "colorscale": [
          [
           0,
           "#0d0887"
          ],
          [
           0.1111111111111111,
           "#46039f"
          ],
          [
           0.2222222222222222,
           "#7201a8"
          ],
          [
           0.3333333333333333,
           "#9c179e"
          ],
          [
           0.4444444444444444,
           "#bd3786"
          ],
          [
           0.5555555555555556,
           "#d8576b"
          ],
          [
           0.6666666666666666,
           "#ed7953"
          ],
          [
           0.7777777777777778,
           "#fb9f3a"
          ],
          [
           0.8888888888888888,
           "#fdca26"
          ],
          [
           1,
           "#f0f921"
          ]
         ],
         "reversescale": false,
         "showscale": true,
         "type": "heatmap",
         "x": [
          "Ranking",
          "Rating",
          "Number_of_Reviews",
          "is_franchise",
          "Population",
          "isNaN",
          "niche",
          "popular",
          "regular",
          "Interval_in_month",
          "Interval_in_3_month",
          "Interval_in_1_year",
          "Interval_more_year",
          "Text_dirty_len",
          "Dates_num_1",
          "positive",
          "negative",
          "neutral",
          "no_review",
          "undetected",
          "Price_Range_econom",
          "Price_Range_isNaN",
          "Price_Range_luxury",
          "Price_Range_regular"
         ],
         "y": [
          "Ranking",
          "Rating",
          "Number_of_Reviews",
          "is_franchise",
          "Population",
          "isNaN",
          "niche",
          "popular",
          "regular",
          "Interval_in_month",
          "Interval_in_3_month",
          "Interval_in_1_year",
          "Interval_more_year",
          "Text_dirty_len",
          "Dates_num_1",
          "positive",
          "negative",
          "neutral",
          "no_review",
          "undetected",
          "Price_Range_econom",
          "Price_Range_isNaN",
          "Price_Range_luxury",
          "Price_Range_regular"
         ],
         "z": [
          [
           1,
           -0.5446279866212421,
           -0.39193936080031033,
           -0.3199433420978602,
           0.0017512198065683456,
           0.32160099871909376,
           -0.01768394992881997,
           -0.5372910163890969,
           -0.19703684719973832,
           -0.3627841519328081,
           -0.14090330562154008,
           0.009341793446941155,
           0.11978611809766937,
           -0.31458729361908044,
           0.20757652752141434,
           -0.3708895481971217,
           0.16714884980855946,
           0.0354011733939557,
           0.2922572843656264,
           0.09833899519043146,
           -0.03210715160622914,
           0.46231334207792324,
           -0.17116134587069215,
           -0.3545332907997694
          ],
          [
           -0.5446279866212421,
           1,
           0.03203800336961325,
           0.2236891380842439,
           -0.023927415682066088,
           -0.03826259530266748,
           0.017002681072035637,
           0.08887437008343475,
           0.0907482408454137,
           0.09705905644663819,
           0.002413907335837227,
           -0.05597948385854106,
           -0.045647639294857024,
           0.03052224589666276,
           0.008502742821290432,
           0.17431577254149172,
           -0.23838454687882063,
           -0.0895992328682012,
           -0.02472657169516712,
           -0.08177750454553565,
           0.06412839298340209,
           -0.06456670405294963,
           0.06086189112291457,
           -0.007752265096783376
          ],
          [
           -0.39193936080031033,
           0.03203800336961325,
           1,
           0.11821304965939146,
           -0.10930581940197719,
           -0.18460133968696604,
           -0.007188284421298615,
           0.3754492311881478,
           0.13798926883430357,
           0.2959571100961379,
           0.03385953151318596,
           -0.06166836551732637,
           -0.07155653426381552,
           0.15896170122128292,
           -0.12040117421375582,
           0.14359242180931447,
           -0.018871043476099306,
           0.012081283341521726,
           -0.1497102225618181,
           -0.030392975528334375,
           -0.04810898921901606,
           -0.24695656834269608,
           0.15575240455941075,
           0.21310954447055264
          ],
          [
           -0.3199433420978602,
           0.2236891380842439,
           0.11821304965939146,
           1,
           -0.3903672545695781,
           -0.07023481033533205,
           0.006226541518117084,
           0.15583414356641948,
           0.05688419725575856,
           0.07471545386143895,
           0.014636485502614236,
           -0.02831927042123789,
           -0.037697517145781075,
           0.03268907699870829,
           -0.03690848884638663,
           0.09097870020748024,
           -0.08782094637687556,
           -0.03318675107107988,
           -0.010504630179230801,
           -0.05005344422572132,
           0.009080400200247758,
           -0.1200784160480844,
           0.03828334214010154,
           0.09383748827282212
          ],
          [
           0.0017512198065683456,
           -0.023927415682066088,
           -0.10930581940197719,
           -0.3903672545695781,
           1,
           -0.044019098875691075,
           0.005241510781018024,
           0.055226001893958356,
           0.010788020402898014,
           0.11787147772224713,
           0.0419504537530738,
           0.007836050213891773,
           -0.030133267441099936,
           0.09927962597169698,
           -0.052590429674873845,
           0.04235828498038361,
           0.024993009463627498,
           0.010860192816741169,
           -0.1222947935334438,
           0.030104898552035568,
           0.019999600289110953,
           -0.04214344658303212,
           0.002521051059514015,
           0.024719257743897657
          ],
          [
           0.32160099871909376,
           -0.03826259530266748,
           -0.18460133968696604,
           -0.07023481033533205,
           -0.044019098875691075,
           1,
           -0.04393732452929833,
           -0.5873983475438757,
           -0.3224964681957032,
           -0.2084069376255992,
           -0.12936298767907944,
           -0.06943812505902444,
           0.02896900645510681,
           -0.2786425286145545,
           0.18988695683260717,
           -0.22478597543346857,
           -0.019938825498080542,
           -0.03985664563085104,
           0.27214042570878877,
           0.0354285965691559,
           -0.23721917724733452,
           0.7538811698263509,
           -0.10558275765266964,
           -0.5076905209266813
          ],
          [
           -0.01768394992881997,
           0.017002681072035637,
           -0.007188284421298615,
           0.006226541518117084,
           0.005241510781018024,
           -0.04393732452929833,
           1,
           -0.0037982207921820397,
           0.08311561862039302,
           0.009184245489729796,
           -0.0019333323815026457,
           -0.0017726818183674009,
           -0.0020402266301371382,
           0.00434397422719666,
           -0.0026911865882162534,
           0.00425582325210367,
           -0.0036478991630297182,
           -0.0025140489672330394,
           -0.0026715223627075593,
           0.0050620607159744735,
           0.0249339967525161,
           -0.03916284980530281,
           -0.003065853907646337,
           0.02034720600972799
          ],
          [
           -0.5372910163890969,
           0.08887437008343475,
           0.3754492311881478,
           0.15583414356641948,
           0.055226001893958356,
           -0.5873983475438757,
           -0.0037982207921820397,
           1,
           0.1278029548796086,
           0.36277064646601076,
           0.15878907463785952,
           -4.149646888011342e-05,
           -0.12407893881188468,
           0.31246968192831404,
           -0.23182321624511482,
           0.28337749749148694,
           -0.02374740064661353,
           0.022970853390469507,
           -0.298163131127726,
           -0.05761073275609308,
           0.07842193863418799,
           -0.6191992225340726,
           0.1429771728133156,
           0.4810526249507064
          ],
          [
           -0.19703684719973832,
           0.0907482408454137,
           0.13798926883430357,
           0.05688419725575856,
           0.010788020402898014,
           -0.3224964681957032,
           0.08311561862039302,
           0.1278029548796086,
           1,
           0.14163642796064127,
           0.055720032776458414,
           0.013065730821430994,
           -0.05100378373104066,
           0.12841580979167347,
           -0.0862976394789283,
           0.1274590650856417,
           -0.01342833833216174,
           -0.005554537750564981,
           -0.12684909019626703,
           -0.02203599706876905,
           0.08713024677479744,
           -0.29573701917928996,
           0.03198135317613505,
           0.2069932950121314
          ],
          [
           -0.3627841519328081,
           0.09705905644663819,
           0.2959571100961379,
           0.07471545386143895,
           0.11787147772224713,
           -0.2084069376255992,
           0.009184245489729796,
           0.36277064646601076,
           0.14163642796064127,
           1,
           -0.2619023294771493,
           -0.3071699799936173,
           -0.14601269361760857,
           0.2475012697759138,
           -0.19554608328075876,
           0.20396795119306635,
           -0.0025684336280916743,
           0.018628941784916198,
           -0.23960949693852185,
           -0.029889660490376533,
           0.015593519164234373,
           -0.28241776373035327,
           0.10233969085021266,
           0.2203359749332328
          ],
          [
           -0.14090330562154008,
           0.002413907335837227,
           0.03385953151318596,
           0.014636485502614236,
           0.0419504537530738,
           -0.12936298767907944,
           -0.0019333323815026457,
           0.15878907463785952,
           0.055720032776458414,
           -0.2619023294771493,
           1,
           -0.2704337404082174,
           -0.1285501886704877,
           0.22738771820538975,
           -0.17215959295531416,
           0.17246676021142063,
           0.025047810491113064,
           0.02583995042544436,
           -0.2109532073927355,
           -0.018289080809914024,
           0.047458922459011184,
           -0.19216236327272954,
           0.015691227431261483,
           0.14307299187081743
          ],
          [
           0.009341793446941155,
           -0.05597948385854106,
           -0.06166836551732637,
           -0.02831927042123789,
           0.007836050213891773,
           -0.06943812505902444,
           -0.0017726818183674009,
           -4.149646888011342e-05,
           0.013065730821430994,
           -0.3071699799936173,
           -0.2704337404082174,
           1,
           -0.15076902508244006,
           0.2701299064486198,
           -0.20191595404808244,
           0.15968082747088602,
           0.07515070232503497,
           0.05817625868228638,
           -0.2474147237398688,
           -0.024022724707425013,
           0.048864760926378925,
           -0.11738487452234238,
           -0.017253765772320958,
           0.08286702730452576
          ],
          [
           0.11978611809766937,
           -0.045647639294857024,
           -0.07155653426381552,
           -0.037697517145781075,
           -0.030133267441099936,
           0.02896900645510681,
           -0.0020402266301371382,
           -0.12407893881188468,
           -0.05100378373104066,
           -0.14601269361760857,
           -0.1285501886704877,
           -0.15076902508244006,
           1,
           0.1308445775713927,
           -0.0959803830294296,
           0.06517855830438607,
           0.04900437874907851,
           0.02800236812453879,
           -0.1176081407911845,
           -0.007533136558522188,
           0.019282813622140262,
           0.05515606721013094,
           -0.027643216640638985,
           -0.05648265385715015
          ],
          [
           -0.31458729361908044,
           0.03052224589666276,
           0.15896170122128292,
           0.03268907699870829,
           0.09927962597169698,
           -0.2786425286145545,
           0.00434397422719666,
           0.31246968192831404,
           0.12841580979167347,
           0.2475012697759138,
           0.22738771820538975,
           0.2701299064486198,
           0.1308445775713927,
           1,
           -0.21779604963344787,
           0.6029622487127069,
           0.12779601744771307,
           0.12577569922924614,
           -0.7379993135989467,
           -0.04315774187953641,
           0.08524057859820147,
           -0.41546965019597576,
           0.06863651912163794,
           0.3091121866263753
          ],
          [
           0.20757652752141434,
           0.008502742821290432,
           -0.12040117421375582,
           -0.03690848884638663,
           -0.052590429674873845,
           0.18988695683260717,
           -0.0026911865882162534,
           -0.23182321624511482,
           -0.0862976394789283,
           -0.19554608328075876,
           -0.17215959295531416,
           -0.20191595404808244,
           -0.0959803830294296,
           -0.21779604963344787,
           1,
           -0.16132531468464414,
           -0.03416830141881193,
           -0.033393912706489934,
           -0.1575055614950632,
           0.2591871597693088,
           -0.02080546845925629,
           0.24421090724532854,
           -0.04549223143564652,
           -0.20116514408730585
          ],
          [
           -0.3708895481971217,
           0.17431577254149172,
           0.14359242180931447,
           0.09097870020748024,
           0.04235828498038361,
           -0.22478597543346857,
           0.00425582325210367,
           0.28337749749148694,
           0.1274590650856417,
           0.20396795119306635,
           0.17246676021142063,
           0.15968082747088602,
           0.06517855830438607,
           0.6029622487127069,
           -0.16132531468464414,
           1,
           -0.08863263923175956,
           -0.020821306710283757,
           -0.5060365889195673,
           -0.3594776800950826,
           0.06125952050610662,
           -0.326344897963656,
           0.05311756522627021,
           0.24725534698858537
          ],
          [
           0.16714884980855946,
           -0.23838454687882063,
           -0.018871043476099306,
           -0.08782094637687556,
           0.024993009463627498,
           -0.019938825498080542,
           -0.0036478991630297182,
           -0.02374740064661353,
           -0.01342833833216174,
           -0.0025684336280916743,
           0.025047810491113064,
           0.07515070232503497,
           0.04900437874907851,
           0.12779601744771307,
           -0.03416830141881193,
           -0.08863263923175956,
           1,
           0.029187468626326752,
           -0.11463324849300272,
           -0.08143303297101696,
           -0.011720987017648314,
           -0.028084123924025144,
           0.005322563329684345,
           0.03340100986712378
          ],
          [
           0.0354011733939557,
           -0.0895992328682012,
           0.012081283341521726,
           -0.03318675107107988,
           0.010860192816741169,
           -0.03985664563085104,
           -0.0025140489672330394,
           0.022970853390469507,
           -0.005554537750564981,
           0.018628941784916198,
           0.02583995042544436,
           0.05817625868228638,
           0.02800236812453879,
           0.12577569922924614,
           -0.033393912706489934,
           -0.020821306710283757,
           0.029187468626326752,
           1,
           -0.10638225948047024,
           -0.07557170504797454,
           0.018658086545205003,
           -0.058225755646713576,
           -0.021469846004484587,
           0.04997500613955329
          ],
          [
           0.2922572843656264,
           -0.02472657169516712,
           -0.1497102225618181,
           -0.010504630179230801,
           -0.1222947935334438,
           0.27214042570878877,
           -0.0026715223627075593,
           -0.298163131127726,
           -0.12684909019626703,
           -0.23960949693852185,
           -0.2109532073927355,
           -0.2474147237398688,
           -0.1176081407911845,
           -0.7379993135989467,
           -0.1575055614950632,
           -0.5060365889195673,
           -0.11463324849300272,
           -0.10638225948047024,
           1,
           -0.13710105909749884,
           -0.11995943523114548,
           0.41421316674738184,
           -0.05541991272728614,
           -0.287483884541742
          ],
          [
           0.09833899519043146,
           -0.08177750454553565,
           -0.030392975528334375,
           -0.05005344422572132,
           0.030104898552035568,
           0.0354285965691559,
           0.0050620607159744735,
           -0.05761073275609308,
           -0.02203599706876905,
           -0.029889660490376533,
           -0.018289080809914024,
           -0.024022724707425013,
           -0.007533136558522188,
           -0.04315774187953641,
           0.2591871597693088,
           -0.3594776800950826,
           -0.08143303297101696,
           -0.07557170504797454,
           -0.13710105909749884,
           1,
           0.017094600886370798,
           0.03926185144166479,
           -0.013901711724764586,
           -0.044811058370089245
          ],
          [
           -0.03210715160622914,
           0.06412839298340209,
           -0.04810898921901606,
           0.009080400200247758,
           0.019999600289110953,
           -0.23721917724733452,
           0.0249339967525161,
           0.07842193863418799,
           0.08713024677479744,
           0.015593519164234373,
           0.047458922459011184,
           0.048864760926378925,
           0.019282813622140262,
           0.08524057859820147,
           -0.02080546845925629,
           0.06125952050610662,
           -0.011720987017648314,
           0.018658086545205003,
           -0.11995943523114548,
           0.017094600886370798,
           1,
           -0.3146638843651875,
           -0.08287685142957767,
           -0.39851006746252776
          ],
          [
           0.46231334207792324,
           -0.06456670405294963,
           -0.24695656834269608,
           -0.1200784160480844,
           -0.04214344658303212,
           0.7538811698263509,
           -0.03916284980530281,
           -0.6191992225340726,
           -0.29573701917928996,
           -0.28241776373035327,
           -0.19216236327272954,
           -0.11738487452234238,
           0.05515606721013094,
           -0.41546965019597576,
           0.24421090724532854,
           -0.326344897963656,
           -0.028084123924025144,
           -0.058225755646713576,
           0.41421316674738184,
           0.03926185144166479,
           -0.3146638843651875,
           1,
           -0.1400522547565267,
           -0.673435736620951
          ],
          [
           -0.17116134587069215,
           0.06086189112291457,
           0.15575240455941075,
           0.03828334214010154,
           0.002521051059514015,
           -0.10558275765266964,
           -0.003065853907646337,
           0.1429771728133156,
           0.03198135317613505,
           0.10233969085021266,
           0.015691227431261483,
           -0.017253765772320958,
           -0.027643216640638985,
           0.06863651912163794,
           -0.04549223143564652,
           0.05311756522627021,
           0.005322563329684345,
           -0.021469846004484587,
           -0.05541991272728614,
           -0.013901711724764586,
           -0.08287685142957767,
           -0.1400522547565267,
           1,
           -0.17737095441982373
          ],
          [
           -0.3545332907997694,
           -0.007752265096783376,
           0.21310954447055264,
           0.09383748827282212,
           0.024719257743897657,
           -0.5076905209266813,
           0.02034720600972799,
           0.4810526249507064,
           0.2069932950121314,
           0.2203359749332328,
           0.14307299187081743,
           0.08286702730452576,
           -0.05648265385715015,
           0.3091121866263753,
           -0.20116514408730585,
           0.24725534698858537,
           0.03340100986712378,
           0.04997500613955329,
           -0.287483884541742,
           -0.044811058370089245,
           -0.39851006746252776,
           -0.673435736620951,
           -0.17737095441982373,
           1
          ]
         ]
        }
       ],
       "layout": {
        "annotations": [
         {
          "font": {
           "color": "#000000"
          },
          "showarrow": false,
          "text": "1.0",
          "x": "Ranking",
          "xref": "x",
          "y": "Ranking",
          "yref": "y"
         },
         {
          "font": {
           "color": "#FFFFFF"
          },
          "showarrow": false,
          "text": "-0.54",
          "x": "Rating",
          "xref": "x",
          "y": "Ranking",
          "yref": "y"
         },
         {
          "font": {
           "color": "#FFFFFF"
          },
          "showarrow": false,
          "text": "-0.39",
          "x": "Number_of_Reviews",
          "xref": "x",
          "y": "Ranking",
          "yref": "y"
         },
         {
          "font": {
           "color": "#FFFFFF"
          },
          "showarrow": false,
          "text": "-0.32",
          "x": "is_franchise",
          "xref": "x",
          "y": "Ranking",
          "yref": "y"
         },
         {
          "font": {
           "color": "#FFFFFF"
          },
          "showarrow": false,
          "text": "0.0",
          "x": "Population",
          "xref": "x",
          "y": "Ranking",
          "yref": "y"
         },
         {
          "font": {
           "color": "#000000"
          },
          "showarrow": false,
          "text": "0.32",
          "x": "isNaN",
          "xref": "x",
          "y": "Ranking",
          "yref": "y"
         },
         {
          "font": {
           "color": "#FFFFFF"
          },
          "showarrow": false,
          "text": "-0.02",
          "x": "niche",
          "xref": "x",
          "y": "Ranking",
          "yref": "y"
         },
         {
          "font": {
           "color": "#FFFFFF"
          },
          "showarrow": false,
          "text": "-0.54",
          "x": "popular",
          "xref": "x",
          "y": "Ranking",
          "yref": "y"
         },
         {
          "font": {
           "color": "#FFFFFF"
          },
          "showarrow": false,
          "text": "-0.2",
          "x": "regular",
          "xref": "x",
          "y": "Ranking",
          "yref": "y"
         },
         {
          "font": {
           "color": "#FFFFFF"
          },
          "showarrow": false,
          "text": "-0.36",
          "x": "Interval_in_month",
          "xref": "x",
          "y": "Ranking",
          "yref": "y"
         },
         {
          "font": {
           "color": "#FFFFFF"
          },
          "showarrow": false,
          "text": "-0.14",
          "x": "Interval_in_3_month",
          "xref": "x",
          "y": "Ranking",
          "yref": "y"
         },
         {
          "font": {
           "color": "#FFFFFF"
          },
          "showarrow": false,
          "text": "0.01",
          "x": "Interval_in_1_year",
          "xref": "x",
          "y": "Ranking",
          "yref": "y"
         },
         {
          "font": {
           "color": "#FFFFFF"
          },
          "showarrow": false,
          "text": "0.12",
          "x": "Interval_more_year",
          "xref": "x",
          "y": "Ranking",
          "yref": "y"
         },
         {
          "font": {
           "color": "#FFFFFF"
          },
          "showarrow": false,
          "text": "-0.31",
          "x": "Text_dirty_len",
          "xref": "x",
          "y": "Ranking",
          "yref": "y"
         },
         {
          "font": {
           "color": "#000000"
          },
          "showarrow": false,
          "text": "0.21",
          "x": "Dates_num_1",
          "xref": "x",
          "y": "Ranking",
          "yref": "y"
         },
         {
          "font": {
           "color": "#FFFFFF"
          },
          "showarrow": false,
          "text": "-0.37",
          "x": "positive",
          "xref": "x",
          "y": "Ranking",
          "yref": "y"
         },
         {
          "font": {
           "color": "#000000"
          },
          "showarrow": false,
          "text": "0.17",
          "x": "negative",
          "xref": "x",
          "y": "Ranking",
          "yref": "y"
         },
         {
          "font": {
           "color": "#FFFFFF"
          },
          "showarrow": false,
          "text": "0.04",
          "x": "neutral",
          "xref": "x",
          "y": "Ranking",
          "yref": "y"
         },
         {
          "font": {
           "color": "#000000"
          },
          "showarrow": false,
          "text": "0.29",
          "x": "no_review",
          "xref": "x",
          "y": "Ranking",
          "yref": "y"
         },
         {
          "font": {
           "color": "#FFFFFF"
          },
          "showarrow": false,
          "text": "0.1",
          "x": "undetected",
          "xref": "x",
          "y": "Ranking",
          "yref": "y"
         },
         {
          "font": {
           "color": "#FFFFFF"
          },
          "showarrow": false,
          "text": "-0.03",
          "x": "Price_Range_econom",
          "xref": "x",
          "y": "Ranking",
          "yref": "y"
         },
         {
          "font": {
           "color": "#000000"
          },
          "showarrow": false,
          "text": "0.46",
          "x": "Price_Range_isNaN",
          "xref": "x",
          "y": "Ranking",
          "yref": "y"
         },
         {
          "font": {
           "color": "#FFFFFF"
          },
          "showarrow": false,
          "text": "-0.17",
          "x": "Price_Range_luxury",
          "xref": "x",
          "y": "Ranking",
          "yref": "y"
         },
         {
          "font": {
           "color": "#FFFFFF"
          },
          "showarrow": false,
          "text": "-0.35",
          "x": "Price_Range_regular",
          "xref": "x",
          "y": "Ranking",
          "yref": "y"
         },
         {
          "font": {
           "color": "#FFFFFF"
          },
          "showarrow": false,
          "text": "-0.54",
          "x": "Ranking",
          "xref": "x",
          "y": "Rating",
          "yref": "y"
         },
         {
          "font": {
           "color": "#000000"
          },
          "showarrow": false,
          "text": "1.0",
          "x": "Rating",
          "xref": "x",
          "y": "Rating",
          "yref": "y"
         },
         {
          "font": {
           "color": "#FFFFFF"
          },
          "showarrow": false,
          "text": "0.03",
          "x": "Number_of_Reviews",
          "xref": "x",
          "y": "Rating",
          "yref": "y"
         },
         {
          "font": {
           "color": "#000000"
          },
          "showarrow": false,
          "text": "0.22",
          "x": "is_franchise",
          "xref": "x",
          "y": "Rating",
          "yref": "y"
         },
         {
          "font": {
           "color": "#FFFFFF"
          },
          "showarrow": false,
          "text": "-0.02",
          "x": "Population",
          "xref": "x",
          "y": "Rating",
          "yref": "y"
         },
         {
          "font": {
           "color": "#FFFFFF"
          },
          "showarrow": false,
          "text": "-0.04",
          "x": "isNaN",
          "xref": "x",
          "y": "Rating",
          "yref": "y"
         },
         {
          "font": {
           "color": "#FFFFFF"
          },
          "showarrow": false,
          "text": "0.02",
          "x": "niche",
          "xref": "x",
          "y": "Rating",
          "yref": "y"
         },
         {
          "font": {
           "color": "#FFFFFF"
          },
          "showarrow": false,
          "text": "0.09",
          "x": "popular",
          "xref": "x",
          "y": "Rating",
          "yref": "y"
         },
         {
          "font": {
           "color": "#FFFFFF"
          },
          "showarrow": false,
          "text": "0.09",
          "x": "regular",
          "xref": "x",
          "y": "Rating",
          "yref": "y"
         },
         {
          "font": {
           "color": "#FFFFFF"
          },
          "showarrow": false,
          "text": "0.1",
          "x": "Interval_in_month",
          "xref": "x",
          "y": "Rating",
          "yref": "y"
         },
         {
          "font": {
           "color": "#FFFFFF"
          },
          "showarrow": false,
          "text": "0.0",
          "x": "Interval_in_3_month",
          "xref": "x",
          "y": "Rating",
          "yref": "y"
         },
         {
          "font": {
           "color": "#FFFFFF"
          },
          "showarrow": false,
          "text": "-0.06",
          "x": "Interval_in_1_year",
          "xref": "x",
          "y": "Rating",
          "yref": "y"
         },
         {
          "font": {
           "color": "#FFFFFF"
          },
          "showarrow": false,
          "text": "-0.05",
          "x": "Interval_more_year",
          "xref": "x",
          "y": "Rating",
          "yref": "y"
         },
         {
          "font": {
           "color": "#FFFFFF"
          },
          "showarrow": false,
          "text": "0.03",
          "x": "Text_dirty_len",
          "xref": "x",
          "y": "Rating",
          "yref": "y"
         },
         {
          "font": {
           "color": "#FFFFFF"
          },
          "showarrow": false,
          "text": "0.01",
          "x": "Dates_num_1",
          "xref": "x",
          "y": "Rating",
          "yref": "y"
         },
         {
          "font": {
           "color": "#000000"
          },
          "showarrow": false,
          "text": "0.17",
          "x": "positive",
          "xref": "x",
          "y": "Rating",
          "yref": "y"
         },
         {
          "font": {
           "color": "#FFFFFF"
          },
          "showarrow": false,
          "text": "-0.24",
          "x": "negative",
          "xref": "x",
          "y": "Rating",
          "yref": "y"
         },
         {
          "font": {
           "color": "#FFFFFF"
          },
          "showarrow": false,
          "text": "-0.09",
          "x": "neutral",
          "xref": "x",
          "y": "Rating",
          "yref": "y"
         },
         {
          "font": {
           "color": "#FFFFFF"
          },
          "showarrow": false,
          "text": "-0.02",
          "x": "no_review",
          "xref": "x",
          "y": "Rating",
          "yref": "y"
         },
         {
          "font": {
           "color": "#FFFFFF"
          },
          "showarrow": false,
          "text": "-0.08",
          "x": "undetected",
          "xref": "x",
          "y": "Rating",
          "yref": "y"
         },
         {
          "font": {
           "color": "#FFFFFF"
          },
          "showarrow": false,
          "text": "0.06",
          "x": "Price_Range_econom",
          "xref": "x",
          "y": "Rating",
          "yref": "y"
         },
         {
          "font": {
           "color": "#FFFFFF"
          },
          "showarrow": false,
          "text": "-0.06",
          "x": "Price_Range_isNaN",
          "xref": "x",
          "y": "Rating",
          "yref": "y"
         },
         {
          "font": {
           "color": "#FFFFFF"
          },
          "showarrow": false,
          "text": "0.06",
          "x": "Price_Range_luxury",
          "xref": "x",
          "y": "Rating",
          "yref": "y"
         },
         {
          "font": {
           "color": "#FFFFFF"
          },
          "showarrow": false,
          "text": "-0.01",
          "x": "Price_Range_regular",
          "xref": "x",
          "y": "Rating",
          "yref": "y"
         },
         {
          "font": {
           "color": "#FFFFFF"
          },
          "showarrow": false,
          "text": "-0.39",
          "x": "Ranking",
          "xref": "x",
          "y": "Number_of_Reviews",
          "yref": "y"
         },
         {
          "font": {
           "color": "#FFFFFF"
          },
          "showarrow": false,
          "text": "0.03",
          "x": "Rating",
          "xref": "x",
          "y": "Number_of_Reviews",
          "yref": "y"
         },
         {
          "font": {
           "color": "#000000"
          },
          "showarrow": false,
          "text": "1.0",
          "x": "Number_of_Reviews",
          "xref": "x",
          "y": "Number_of_Reviews",
          "yref": "y"
         },
         {
          "font": {
           "color": "#FFFFFF"
          },
          "showarrow": false,
          "text": "0.12",
          "x": "is_franchise",
          "xref": "x",
          "y": "Number_of_Reviews",
          "yref": "y"
         },
         {
          "font": {
           "color": "#FFFFFF"
          },
          "showarrow": false,
          "text": "-0.11",
          "x": "Population",
          "xref": "x",
          "y": "Number_of_Reviews",
          "yref": "y"
         },
         {
          "font": {
           "color": "#FFFFFF"
          },
          "showarrow": false,
          "text": "-0.18",
          "x": "isNaN",
          "xref": "x",
          "y": "Number_of_Reviews",
          "yref": "y"
         },
         {
          "font": {
           "color": "#FFFFFF"
          },
          "showarrow": false,
          "text": "-0.01",
          "x": "niche",
          "xref": "x",
          "y": "Number_of_Reviews",
          "yref": "y"
         },
         {
          "font": {
           "color": "#000000"
          },
          "showarrow": false,
          "text": "0.38",
          "x": "popular",
          "xref": "x",
          "y": "Number_of_Reviews",
          "yref": "y"
         },
         {
          "font": {
           "color": "#000000"
          },
          "showarrow": false,
          "text": "0.14",
          "x": "regular",
          "xref": "x",
          "y": "Number_of_Reviews",
          "yref": "y"
         },
         {
          "font": {
           "color": "#000000"
          },
          "showarrow": false,
          "text": "0.3",
          "x": "Interval_in_month",
          "xref": "x",
          "y": "Number_of_Reviews",
          "yref": "y"
         },
         {
          "font": {
           "color": "#FFFFFF"
          },
          "showarrow": false,
          "text": "0.03",
          "x": "Interval_in_3_month",
          "xref": "x",
          "y": "Number_of_Reviews",
          "yref": "y"
         },
         {
          "font": {
           "color": "#FFFFFF"
          },
          "showarrow": false,
          "text": "-0.06",
          "x": "Interval_in_1_year",
          "xref": "x",
          "y": "Number_of_Reviews",
          "yref": "y"
         },
         {
          "font": {
           "color": "#FFFFFF"
          },
          "showarrow": false,
          "text": "-0.07",
          "x": "Interval_more_year",
          "xref": "x",
          "y": "Number_of_Reviews",
          "yref": "y"
         },
         {
          "font": {
           "color": "#000000"
          },
          "showarrow": false,
          "text": "0.16",
          "x": "Text_dirty_len",
          "xref": "x",
          "y": "Number_of_Reviews",
          "yref": "y"
         },
         {
          "font": {
           "color": "#FFFFFF"
          },
          "showarrow": false,
          "text": "-0.12",
          "x": "Dates_num_1",
          "xref": "x",
          "y": "Number_of_Reviews",
          "yref": "y"
         },
         {
          "font": {
           "color": "#000000"
          },
          "showarrow": false,
          "text": "0.14",
          "x": "positive",
          "xref": "x",
          "y": "Number_of_Reviews",
          "yref": "y"
         },
         {
          "font": {
           "color": "#FFFFFF"
          },
          "showarrow": false,
          "text": "-0.02",
          "x": "negative",
          "xref": "x",
          "y": "Number_of_Reviews",
          "yref": "y"
         },
         {
          "font": {
           "color": "#FFFFFF"
          },
          "showarrow": false,
          "text": "0.01",
          "x": "neutral",
          "xref": "x",
          "y": "Number_of_Reviews",
          "yref": "y"
         },
         {
          "font": {
           "color": "#FFFFFF"
          },
          "showarrow": false,
          "text": "-0.15",
          "x": "no_review",
          "xref": "x",
          "y": "Number_of_Reviews",
          "yref": "y"
         },
         {
          "font": {
           "color": "#FFFFFF"
          },
          "showarrow": false,
          "text": "-0.03",
          "x": "undetected",
          "xref": "x",
          "y": "Number_of_Reviews",
          "yref": "y"
         },
         {
          "font": {
           "color": "#FFFFFF"
          },
          "showarrow": false,
          "text": "-0.05",
          "x": "Price_Range_econom",
          "xref": "x",
          "y": "Number_of_Reviews",
          "yref": "y"
         },
         {
          "font": {
           "color": "#FFFFFF"
          },
          "showarrow": false,
          "text": "-0.25",
          "x": "Price_Range_isNaN",
          "xref": "x",
          "y": "Number_of_Reviews",
          "yref": "y"
         },
         {
          "font": {
           "color": "#000000"
          },
          "showarrow": false,
          "text": "0.16",
          "x": "Price_Range_luxury",
          "xref": "x",
          "y": "Number_of_Reviews",
          "yref": "y"
         },
         {
          "font": {
           "color": "#000000"
          },
          "showarrow": false,
          "text": "0.21",
          "x": "Price_Range_regular",
          "xref": "x",
          "y": "Number_of_Reviews",
          "yref": "y"
         },
         {
          "font": {
           "color": "#FFFFFF"
          },
          "showarrow": false,
          "text": "-0.32",
          "x": "Ranking",
          "xref": "x",
          "y": "is_franchise",
          "yref": "y"
         },
         {
          "font": {
           "color": "#000000"
          },
          "showarrow": false,
          "text": "0.22",
          "x": "Rating",
          "xref": "x",
          "y": "is_franchise",
          "yref": "y"
         },
         {
          "font": {
           "color": "#FFFFFF"
          },
          "showarrow": false,
          "text": "0.12",
          "x": "Number_of_Reviews",
          "xref": "x",
          "y": "is_franchise",
          "yref": "y"
         },
         {
          "font": {
           "color": "#000000"
          },
          "showarrow": false,
          "text": "1.0",
          "x": "is_franchise",
          "xref": "x",
          "y": "is_franchise",
          "yref": "y"
         },
         {
          "font": {
           "color": "#FFFFFF"
          },
          "showarrow": false,
          "text": "-0.39",
          "x": "Population",
          "xref": "x",
          "y": "is_franchise",
          "yref": "y"
         },
         {
          "font": {
           "color": "#FFFFFF"
          },
          "showarrow": false,
          "text": "-0.07",
          "x": "isNaN",
          "xref": "x",
          "y": "is_franchise",
          "yref": "y"
         },
         {
          "font": {
           "color": "#FFFFFF"
          },
          "showarrow": false,
          "text": "0.01",
          "x": "niche",
          "xref": "x",
          "y": "is_franchise",
          "yref": "y"
         },
         {
          "font": {
           "color": "#000000"
          },
          "showarrow": false,
          "text": "0.16",
          "x": "popular",
          "xref": "x",
          "y": "is_franchise",
          "yref": "y"
         },
         {
          "font": {
           "color": "#FFFFFF"
          },
          "showarrow": false,
          "text": "0.06",
          "x": "regular",
          "xref": "x",
          "y": "is_franchise",
          "yref": "y"
         },
         {
          "font": {
           "color": "#FFFFFF"
          },
          "showarrow": false,
          "text": "0.07",
          "x": "Interval_in_month",
          "xref": "x",
          "y": "is_franchise",
          "yref": "y"
         },
         {
          "font": {
           "color": "#FFFFFF"
          },
          "showarrow": false,
          "text": "0.01",
          "x": "Interval_in_3_month",
          "xref": "x",
          "y": "is_franchise",
          "yref": "y"
         },
         {
          "font": {
           "color": "#FFFFFF"
          },
          "showarrow": false,
          "text": "-0.03",
          "x": "Interval_in_1_year",
          "xref": "x",
          "y": "is_franchise",
          "yref": "y"
         },
         {
          "font": {
           "color": "#FFFFFF"
          },
          "showarrow": false,
          "text": "-0.04",
          "x": "Interval_more_year",
          "xref": "x",
          "y": "is_franchise",
          "yref": "y"
         },
         {
          "font": {
           "color": "#FFFFFF"
          },
          "showarrow": false,
          "text": "0.03",
          "x": "Text_dirty_len",
          "xref": "x",
          "y": "is_franchise",
          "yref": "y"
         },
         {
          "font": {
           "color": "#FFFFFF"
          },
          "showarrow": false,
          "text": "-0.04",
          "x": "Dates_num_1",
          "xref": "x",
          "y": "is_franchise",
          "yref": "y"
         },
         {
          "font": {
           "color": "#FFFFFF"
          },
          "showarrow": false,
          "text": "0.09",
          "x": "positive",
          "xref": "x",
          "y": "is_franchise",
          "yref": "y"
         },
         {
          "font": {
           "color": "#FFFFFF"
          },
          "showarrow": false,
          "text": "-0.09",
          "x": "negative",
          "xref": "x",
          "y": "is_franchise",
          "yref": "y"
         },
         {
          "font": {
           "color": "#FFFFFF"
          },
          "showarrow": false,
          "text": "-0.03",
          "x": "neutral",
          "xref": "x",
          "y": "is_franchise",
          "yref": "y"
         },
         {
          "font": {
           "color": "#FFFFFF"
          },
          "showarrow": false,
          "text": "-0.01",
          "x": "no_review",
          "xref": "x",
          "y": "is_franchise",
          "yref": "y"
         },
         {
          "font": {
           "color": "#FFFFFF"
          },
          "showarrow": false,
          "text": "-0.05",
          "x": "undetected",
          "xref": "x",
          "y": "is_franchise",
          "yref": "y"
         },
         {
          "font": {
           "color": "#FFFFFF"
          },
          "showarrow": false,
          "text": "0.01",
          "x": "Price_Range_econom",
          "xref": "x",
          "y": "is_franchise",
          "yref": "y"
         },
         {
          "font": {
           "color": "#FFFFFF"
          },
          "showarrow": false,
          "text": "-0.12",
          "x": "Price_Range_isNaN",
          "xref": "x",
          "y": "is_franchise",
          "yref": "y"
         },
         {
          "font": {
           "color": "#FFFFFF"
          },
          "showarrow": false,
          "text": "0.04",
          "x": "Price_Range_luxury",
          "xref": "x",
          "y": "is_franchise",
          "yref": "y"
         },
         {
          "font": {
           "color": "#FFFFFF"
          },
          "showarrow": false,
          "text": "0.09",
          "x": "Price_Range_regular",
          "xref": "x",
          "y": "is_franchise",
          "yref": "y"
         },
         {
          "font": {
           "color": "#FFFFFF"
          },
          "showarrow": false,
          "text": "0.0",
          "x": "Ranking",
          "xref": "x",
          "y": "Population",
          "yref": "y"
         },
         {
          "font": {
           "color": "#FFFFFF"
          },
          "showarrow": false,
          "text": "-0.02",
          "x": "Rating",
          "xref": "x",
          "y": "Population",
          "yref": "y"
         },
         {
          "font": {
           "color": "#FFFFFF"
          },
          "showarrow": false,
          "text": "-0.11",
          "x": "Number_of_Reviews",
          "xref": "x",
          "y": "Population",
          "yref": "y"
         },
         {
          "font": {
           "color": "#FFFFFF"
          },
          "showarrow": false,
          "text": "-0.39",
          "x": "is_franchise",
          "xref": "x",
          "y": "Population",
          "yref": "y"
         },
         {
          "font": {
           "color": "#000000"
          },
          "showarrow": false,
          "text": "1.0",
          "x": "Population",
          "xref": "x",
          "y": "Population",
          "yref": "y"
         },
         {
          "font": {
           "color": "#FFFFFF"
          },
          "showarrow": false,
          "text": "-0.04",
          "x": "isNaN",
          "xref": "x",
          "y": "Population",
          "yref": "y"
         },
         {
          "font": {
           "color": "#FFFFFF"
          },
          "showarrow": false,
          "text": "0.01",
          "x": "niche",
          "xref": "x",
          "y": "Population",
          "yref": "y"
         },
         {
          "font": {
           "color": "#FFFFFF"
          },
          "showarrow": false,
          "text": "0.06",
          "x": "popular",
          "xref": "x",
          "y": "Population",
          "yref": "y"
         },
         {
          "font": {
           "color": "#FFFFFF"
          },
          "showarrow": false,
          "text": "0.01",
          "x": "regular",
          "xref": "x",
          "y": "Population",
          "yref": "y"
         },
         {
          "font": {
           "color": "#FFFFFF"
          },
          "showarrow": false,
          "text": "0.12",
          "x": "Interval_in_month",
          "xref": "x",
          "y": "Population",
          "yref": "y"
         },
         {
          "font": {
           "color": "#FFFFFF"
          },
          "showarrow": false,
          "text": "0.04",
          "x": "Interval_in_3_month",
          "xref": "x",
          "y": "Population",
          "yref": "y"
         },
         {
          "font": {
           "color": "#FFFFFF"
          },
          "showarrow": false,
          "text": "0.01",
          "x": "Interval_in_1_year",
          "xref": "x",
          "y": "Population",
          "yref": "y"
         },
         {
          "font": {
           "color": "#FFFFFF"
          },
          "showarrow": false,
          "text": "-0.03",
          "x": "Interval_more_year",
          "xref": "x",
          "y": "Population",
          "yref": "y"
         },
         {
          "font": {
           "color": "#FFFFFF"
          },
          "showarrow": false,
          "text": "0.1",
          "x": "Text_dirty_len",
          "xref": "x",
          "y": "Population",
          "yref": "y"
         },
         {
          "font": {
           "color": "#FFFFFF"
          },
          "showarrow": false,
          "text": "-0.05",
          "x": "Dates_num_1",
          "xref": "x",
          "y": "Population",
          "yref": "y"
         },
         {
          "font": {
           "color": "#FFFFFF"
          },
          "showarrow": false,
          "text": "0.04",
          "x": "positive",
          "xref": "x",
          "y": "Population",
          "yref": "y"
         },
         {
          "font": {
           "color": "#FFFFFF"
          },
          "showarrow": false,
          "text": "0.02",
          "x": "negative",
          "xref": "x",
          "y": "Population",
          "yref": "y"
         },
         {
          "font": {
           "color": "#FFFFFF"
          },
          "showarrow": false,
          "text": "0.01",
          "x": "neutral",
          "xref": "x",
          "y": "Population",
          "yref": "y"
         },
         {
          "font": {
           "color": "#FFFFFF"
          },
          "showarrow": false,
          "text": "-0.12",
          "x": "no_review",
          "xref": "x",
          "y": "Population",
          "yref": "y"
         },
         {
          "font": {
           "color": "#FFFFFF"
          },
          "showarrow": false,
          "text": "0.03",
          "x": "undetected",
          "xref": "x",
          "y": "Population",
          "yref": "y"
         },
         {
          "font": {
           "color": "#FFFFFF"
          },
          "showarrow": false,
          "text": "0.02",
          "x": "Price_Range_econom",
          "xref": "x",
          "y": "Population",
          "yref": "y"
         },
         {
          "font": {
           "color": "#FFFFFF"
          },
          "showarrow": false,
          "text": "-0.04",
          "x": "Price_Range_isNaN",
          "xref": "x",
          "y": "Population",
          "yref": "y"
         },
         {
          "font": {
           "color": "#FFFFFF"
          },
          "showarrow": false,
          "text": "0.0",
          "x": "Price_Range_luxury",
          "xref": "x",
          "y": "Population",
          "yref": "y"
         },
         {
          "font": {
           "color": "#FFFFFF"
          },
          "showarrow": false,
          "text": "0.02",
          "x": "Price_Range_regular",
          "xref": "x",
          "y": "Population",
          "yref": "y"
         },
         {
          "font": {
           "color": "#000000"
          },
          "showarrow": false,
          "text": "0.32",
          "x": "Ranking",
          "xref": "x",
          "y": "isNaN",
          "yref": "y"
         },
         {
          "font": {
           "color": "#FFFFFF"
          },
          "showarrow": false,
          "text": "-0.04",
          "x": "Rating",
          "xref": "x",
          "y": "isNaN",
          "yref": "y"
         },
         {
          "font": {
           "color": "#FFFFFF"
          },
          "showarrow": false,
          "text": "-0.18",
          "x": "Number_of_Reviews",
          "xref": "x",
          "y": "isNaN",
          "yref": "y"
         },
         {
          "font": {
           "color": "#FFFFFF"
          },
          "showarrow": false,
          "text": "-0.07",
          "x": "is_franchise",
          "xref": "x",
          "y": "isNaN",
          "yref": "y"
         },
         {
          "font": {
           "color": "#FFFFFF"
          },
          "showarrow": false,
          "text": "-0.04",
          "x": "Population",
          "xref": "x",
          "y": "isNaN",
          "yref": "y"
         },
         {
          "font": {
           "color": "#000000"
          },
          "showarrow": false,
          "text": "1.0",
          "x": "isNaN",
          "xref": "x",
          "y": "isNaN",
          "yref": "y"
         },
         {
          "font": {
           "color": "#FFFFFF"
          },
          "showarrow": false,
          "text": "-0.04",
          "x": "niche",
          "xref": "x",
          "y": "isNaN",
          "yref": "y"
         },
         {
          "font": {
           "color": "#FFFFFF"
          },
          "showarrow": false,
          "text": "-0.59",
          "x": "popular",
          "xref": "x",
          "y": "isNaN",
          "yref": "y"
         },
         {
          "font": {
           "color": "#FFFFFF"
          },
          "showarrow": false,
          "text": "-0.32",
          "x": "regular",
          "xref": "x",
          "y": "isNaN",
          "yref": "y"
         },
         {
          "font": {
           "color": "#FFFFFF"
          },
          "showarrow": false,
          "text": "-0.21",
          "x": "Interval_in_month",
          "xref": "x",
          "y": "isNaN",
          "yref": "y"
         },
         {
          "font": {
           "color": "#FFFFFF"
          },
          "showarrow": false,
          "text": "-0.13",
          "x": "Interval_in_3_month",
          "xref": "x",
          "y": "isNaN",
          "yref": "y"
         },
         {
          "font": {
           "color": "#FFFFFF"
          },
          "showarrow": false,
          "text": "-0.07",
          "x": "Interval_in_1_year",
          "xref": "x",
          "y": "isNaN",
          "yref": "y"
         },
         {
          "font": {
           "color": "#FFFFFF"
          },
          "showarrow": false,
          "text": "0.03",
          "x": "Interval_more_year",
          "xref": "x",
          "y": "isNaN",
          "yref": "y"
         },
         {
          "font": {
           "color": "#FFFFFF"
          },
          "showarrow": false,
          "text": "-0.28",
          "x": "Text_dirty_len",
          "xref": "x",
          "y": "isNaN",
          "yref": "y"
         },
         {
          "font": {
           "color": "#000000"
          },
          "showarrow": false,
          "text": "0.19",
          "x": "Dates_num_1",
          "xref": "x",
          "y": "isNaN",
          "yref": "y"
         },
         {
          "font": {
           "color": "#FFFFFF"
          },
          "showarrow": false,
          "text": "-0.22",
          "x": "positive",
          "xref": "x",
          "y": "isNaN",
          "yref": "y"
         },
         {
          "font": {
           "color": "#FFFFFF"
          },
          "showarrow": false,
          "text": "-0.02",
          "x": "negative",
          "xref": "x",
          "y": "isNaN",
          "yref": "y"
         },
         {
          "font": {
           "color": "#FFFFFF"
          },
          "showarrow": false,
          "text": "-0.04",
          "x": "neutral",
          "xref": "x",
          "y": "isNaN",
          "yref": "y"
         },
         {
          "font": {
           "color": "#000000"
          },
          "showarrow": false,
          "text": "0.27",
          "x": "no_review",
          "xref": "x",
          "y": "isNaN",
          "yref": "y"
         },
         {
          "font": {
           "color": "#FFFFFF"
          },
          "showarrow": false,
          "text": "0.04",
          "x": "undetected",
          "xref": "x",
          "y": "isNaN",
          "yref": "y"
         },
         {
          "font": {
           "color": "#FFFFFF"
          },
          "showarrow": false,
          "text": "-0.24",
          "x": "Price_Range_econom",
          "xref": "x",
          "y": "isNaN",
          "yref": "y"
         },
         {
          "font": {
           "color": "#000000"
          },
          "showarrow": false,
          "text": "0.75",
          "x": "Price_Range_isNaN",
          "xref": "x",
          "y": "isNaN",
          "yref": "y"
         },
         {
          "font": {
           "color": "#FFFFFF"
          },
          "showarrow": false,
          "text": "-0.11",
          "x": "Price_Range_luxury",
          "xref": "x",
          "y": "isNaN",
          "yref": "y"
         },
         {
          "font": {
           "color": "#FFFFFF"
          },
          "showarrow": false,
          "text": "-0.51",
          "x": "Price_Range_regular",
          "xref": "x",
          "y": "isNaN",
          "yref": "y"
         },
         {
          "font": {
           "color": "#FFFFFF"
          },
          "showarrow": false,
          "text": "-0.02",
          "x": "Ranking",
          "xref": "x",
          "y": "niche",
          "yref": "y"
         },
         {
          "font": {
           "color": "#FFFFFF"
          },
          "showarrow": false,
          "text": "0.02",
          "x": "Rating",
          "xref": "x",
          "y": "niche",
          "yref": "y"
         },
         {
          "font": {
           "color": "#FFFFFF"
          },
          "showarrow": false,
          "text": "-0.01",
          "x": "Number_of_Reviews",
          "xref": "x",
          "y": "niche",
          "yref": "y"
         },
         {
          "font": {
           "color": "#FFFFFF"
          },
          "showarrow": false,
          "text": "0.01",
          "x": "is_franchise",
          "xref": "x",
          "y": "niche",
          "yref": "y"
         },
         {
          "font": {
           "color": "#FFFFFF"
          },
          "showarrow": false,
          "text": "0.01",
          "x": "Population",
          "xref": "x",
          "y": "niche",
          "yref": "y"
         },
         {
          "font": {
           "color": "#FFFFFF"
          },
          "showarrow": false,
          "text": "-0.04",
          "x": "isNaN",
          "xref": "x",
          "y": "niche",
          "yref": "y"
         },
         {
          "font": {
           "color": "#000000"
          },
          "showarrow": false,
          "text": "1.0",
          "x": "niche",
          "xref": "x",
          "y": "niche",
          "yref": "y"
         },
         {
          "font": {
           "color": "#FFFFFF"
          },
          "showarrow": false,
          "text": "-0.0",
          "x": "popular",
          "xref": "x",
          "y": "niche",
          "yref": "y"
         },
         {
          "font": {
           "color": "#FFFFFF"
          },
          "showarrow": false,
          "text": "0.08",
          "x": "regular",
          "xref": "x",
          "y": "niche",
          "yref": "y"
         },
         {
          "font": {
           "color": "#FFFFFF"
          },
          "showarrow": false,
          "text": "0.01",
          "x": "Interval_in_month",
          "xref": "x",
          "y": "niche",
          "yref": "y"
         },
         {
          "font": {
           "color": "#FFFFFF"
          },
          "showarrow": false,
          "text": "-0.0",
          "x": "Interval_in_3_month",
          "xref": "x",
          "y": "niche",
          "yref": "y"
         },
         {
          "font": {
           "color": "#FFFFFF"
          },
          "showarrow": false,
          "text": "-0.0",
          "x": "Interval_in_1_year",
          "xref": "x",
          "y": "niche",
          "yref": "y"
         },
         {
          "font": {
           "color": "#FFFFFF"
          },
          "showarrow": false,
          "text": "-0.0",
          "x": "Interval_more_year",
          "xref": "x",
          "y": "niche",
          "yref": "y"
         },
         {
          "font": {
           "color": "#FFFFFF"
          },
          "showarrow": false,
          "text": "0.0",
          "x": "Text_dirty_len",
          "xref": "x",
          "y": "niche",
          "yref": "y"
         },
         {
          "font": {
           "color": "#FFFFFF"
          },
          "showarrow": false,
          "text": "-0.0",
          "x": "Dates_num_1",
          "xref": "x",
          "y": "niche",
          "yref": "y"
         },
         {
          "font": {
           "color": "#FFFFFF"
          },
          "showarrow": false,
          "text": "0.0",
          "x": "positive",
          "xref": "x",
          "y": "niche",
          "yref": "y"
         },
         {
          "font": {
           "color": "#FFFFFF"
          },
          "showarrow": false,
          "text": "-0.0",
          "x": "negative",
          "xref": "x",
          "y": "niche",
          "yref": "y"
         },
         {
          "font": {
           "color": "#FFFFFF"
          },
          "showarrow": false,
          "text": "-0.0",
          "x": "neutral",
          "xref": "x",
          "y": "niche",
          "yref": "y"
         },
         {
          "font": {
           "color": "#FFFFFF"
          },
          "showarrow": false,
          "text": "-0.0",
          "x": "no_review",
          "xref": "x",
          "y": "niche",
          "yref": "y"
         },
         {
          "font": {
           "color": "#FFFFFF"
          },
          "showarrow": false,
          "text": "0.01",
          "x": "undetected",
          "xref": "x",
          "y": "niche",
          "yref": "y"
         },
         {
          "font": {
           "color": "#FFFFFF"
          },
          "showarrow": false,
          "text": "0.02",
          "x": "Price_Range_econom",
          "xref": "x",
          "y": "niche",
          "yref": "y"
         },
         {
          "font": {
           "color": "#FFFFFF"
          },
          "showarrow": false,
          "text": "-0.04",
          "x": "Price_Range_isNaN",
          "xref": "x",
          "y": "niche",
          "yref": "y"
         },
         {
          "font": {
           "color": "#FFFFFF"
          },
          "showarrow": false,
          "text": "-0.0",
          "x": "Price_Range_luxury",
          "xref": "x",
          "y": "niche",
          "yref": "y"
         },
         {
          "font": {
           "color": "#FFFFFF"
          },
          "showarrow": false,
          "text": "0.02",
          "x": "Price_Range_regular",
          "xref": "x",
          "y": "niche",
          "yref": "y"
         },
         {
          "font": {
           "color": "#FFFFFF"
          },
          "showarrow": false,
          "text": "-0.54",
          "x": "Ranking",
          "xref": "x",
          "y": "popular",
          "yref": "y"
         },
         {
          "font": {
           "color": "#FFFFFF"
          },
          "showarrow": false,
          "text": "0.09",
          "x": "Rating",
          "xref": "x",
          "y": "popular",
          "yref": "y"
         },
         {
          "font": {
           "color": "#000000"
          },
          "showarrow": false,
          "text": "0.38",
          "x": "Number_of_Reviews",
          "xref": "x",
          "y": "popular",
          "yref": "y"
         },
         {
          "font": {
           "color": "#000000"
          },
          "showarrow": false,
          "text": "0.16",
          "x": "is_franchise",
          "xref": "x",
          "y": "popular",
          "yref": "y"
         },
         {
          "font": {
           "color": "#FFFFFF"
          },
          "showarrow": false,
          "text": "0.06",
          "x": "Population",
          "xref": "x",
          "y": "popular",
          "yref": "y"
         },
         {
          "font": {
           "color": "#FFFFFF"
          },
          "showarrow": false,
          "text": "-0.59",
          "x": "isNaN",
          "xref": "x",
          "y": "popular",
          "yref": "y"
         },
         {
          "font": {
           "color": "#FFFFFF"
          },
          "showarrow": false,
          "text": "-0.0",
          "x": "niche",
          "xref": "x",
          "y": "popular",
          "yref": "y"
         },
         {
          "font": {
           "color": "#000000"
          },
          "showarrow": false,
          "text": "1.0",
          "x": "popular",
          "xref": "x",
          "y": "popular",
          "yref": "y"
         },
         {
          "font": {
           "color": "#FFFFFF"
          },
          "showarrow": false,
          "text": "0.13",
          "x": "regular",
          "xref": "x",
          "y": "popular",
          "yref": "y"
         },
         {
          "font": {
           "color": "#000000"
          },
          "showarrow": false,
          "text": "0.36",
          "x": "Interval_in_month",
          "xref": "x",
          "y": "popular",
          "yref": "y"
         },
         {
          "font": {
           "color": "#000000"
          },
          "showarrow": false,
          "text": "0.16",
          "x": "Interval_in_3_month",
          "xref": "x",
          "y": "popular",
          "yref": "y"
         },
         {
          "font": {
           "color": "#FFFFFF"
          },
          "showarrow": false,
          "text": "-0.0",
          "x": "Interval_in_1_year",
          "xref": "x",
          "y": "popular",
          "yref": "y"
         },
         {
          "font": {
           "color": "#FFFFFF"
          },
          "showarrow": false,
          "text": "-0.12",
          "x": "Interval_more_year",
          "xref": "x",
          "y": "popular",
          "yref": "y"
         },
         {
          "font": {
           "color": "#000000"
          },
          "showarrow": false,
          "text": "0.31",
          "x": "Text_dirty_len",
          "xref": "x",
          "y": "popular",
          "yref": "y"
         },
         {
          "font": {
           "color": "#FFFFFF"
          },
          "showarrow": false,
          "text": "-0.23",
          "x": "Dates_num_1",
          "xref": "x",
          "y": "popular",
          "yref": "y"
         },
         {
          "font": {
           "color": "#000000"
          },
          "showarrow": false,
          "text": "0.28",
          "x": "positive",
          "xref": "x",
          "y": "popular",
          "yref": "y"
         },
         {
          "font": {
           "color": "#FFFFFF"
          },
          "showarrow": false,
          "text": "-0.02",
          "x": "negative",
          "xref": "x",
          "y": "popular",
          "yref": "y"
         },
         {
          "font": {
           "color": "#FFFFFF"
          },
          "showarrow": false,
          "text": "0.02",
          "x": "neutral",
          "xref": "x",
          "y": "popular",
          "yref": "y"
         },
         {
          "font": {
           "color": "#FFFFFF"
          },
          "showarrow": false,
          "text": "-0.3",
          "x": "no_review",
          "xref": "x",
          "y": "popular",
          "yref": "y"
         },
         {
          "font": {
           "color": "#FFFFFF"
          },
          "showarrow": false,
          "text": "-0.06",
          "x": "undetected",
          "xref": "x",
          "y": "popular",
          "yref": "y"
         },
         {
          "font": {
           "color": "#FFFFFF"
          },
          "showarrow": false,
          "text": "0.08",
          "x": "Price_Range_econom",
          "xref": "x",
          "y": "popular",
          "yref": "y"
         },
         {
          "font": {
           "color": "#FFFFFF"
          },
          "showarrow": false,
          "text": "-0.62",
          "x": "Price_Range_isNaN",
          "xref": "x",
          "y": "popular",
          "yref": "y"
         },
         {
          "font": {
           "color": "#000000"
          },
          "showarrow": false,
          "text": "0.14",
          "x": "Price_Range_luxury",
          "xref": "x",
          "y": "popular",
          "yref": "y"
         },
         {
          "font": {
           "color": "#000000"
          },
          "showarrow": false,
          "text": "0.48",
          "x": "Price_Range_regular",
          "xref": "x",
          "y": "popular",
          "yref": "y"
         },
         {
          "font": {
           "color": "#FFFFFF"
          },
          "showarrow": false,
          "text": "-0.2",
          "x": "Ranking",
          "xref": "x",
          "y": "regular",
          "yref": "y"
         },
         {
          "font": {
           "color": "#FFFFFF"
          },
          "showarrow": false,
          "text": "0.09",
          "x": "Rating",
          "xref": "x",
          "y": "regular",
          "yref": "y"
         },
         {
          "font": {
           "color": "#000000"
          },
          "showarrow": false,
          "text": "0.14",
          "x": "Number_of_Reviews",
          "xref": "x",
          "y": "regular",
          "yref": "y"
         },
         {
          "font": {
           "color": "#FFFFFF"
          },
          "showarrow": false,
          "text": "0.06",
          "x": "is_franchise",
          "xref": "x",
          "y": "regular",
          "yref": "y"
         },
         {
          "font": {
           "color": "#FFFFFF"
          },
          "showarrow": false,
          "text": "0.01",
          "x": "Population",
          "xref": "x",
          "y": "regular",
          "yref": "y"
         },
         {
          "font": {
           "color": "#FFFFFF"
          },
          "showarrow": false,
          "text": "-0.32",
          "x": "isNaN",
          "xref": "x",
          "y": "regular",
          "yref": "y"
         },
         {
          "font": {
           "color": "#FFFFFF"
          },
          "showarrow": false,
          "text": "0.08",
          "x": "niche",
          "xref": "x",
          "y": "regular",
          "yref": "y"
         },
         {
          "font": {
           "color": "#FFFFFF"
          },
          "showarrow": false,
          "text": "0.13",
          "x": "popular",
          "xref": "x",
          "y": "regular",
          "yref": "y"
         },
         {
          "font": {
           "color": "#000000"
          },
          "showarrow": false,
          "text": "1.0",
          "x": "regular",
          "xref": "x",
          "y": "regular",
          "yref": "y"
         },
         {
          "font": {
           "color": "#000000"
          },
          "showarrow": false,
          "text": "0.14",
          "x": "Interval_in_month",
          "xref": "x",
          "y": "regular",
          "yref": "y"
         },
         {
          "font": {
           "color": "#FFFFFF"
          },
          "showarrow": false,
          "text": "0.06",
          "x": "Interval_in_3_month",
          "xref": "x",
          "y": "regular",
          "yref": "y"
         },
         {
          "font": {
           "color": "#FFFFFF"
          },
          "showarrow": false,
          "text": "0.01",
          "x": "Interval_in_1_year",
          "xref": "x",
          "y": "regular",
          "yref": "y"
         },
         {
          "font": {
           "color": "#FFFFFF"
          },
          "showarrow": false,
          "text": "-0.05",
          "x": "Interval_more_year",
          "xref": "x",
          "y": "regular",
          "yref": "y"
         },
         {
          "font": {
           "color": "#FFFFFF"
          },
          "showarrow": false,
          "text": "0.13",
          "x": "Text_dirty_len",
          "xref": "x",
          "y": "regular",
          "yref": "y"
         },
         {
          "font": {
           "color": "#FFFFFF"
          },
          "showarrow": false,
          "text": "-0.09",
          "x": "Dates_num_1",
          "xref": "x",
          "y": "regular",
          "yref": "y"
         },
         {
          "font": {
           "color": "#FFFFFF"
          },
          "showarrow": false,
          "text": "0.13",
          "x": "positive",
          "xref": "x",
          "y": "regular",
          "yref": "y"
         },
         {
          "font": {
           "color": "#FFFFFF"
          },
          "showarrow": false,
          "text": "-0.01",
          "x": "negative",
          "xref": "x",
          "y": "regular",
          "yref": "y"
         },
         {
          "font": {
           "color": "#FFFFFF"
          },
          "showarrow": false,
          "text": "-0.01",
          "x": "neutral",
          "xref": "x",
          "y": "regular",
          "yref": "y"
         },
         {
          "font": {
           "color": "#FFFFFF"
          },
          "showarrow": false,
          "text": "-0.13",
          "x": "no_review",
          "xref": "x",
          "y": "regular",
          "yref": "y"
         },
         {
          "font": {
           "color": "#FFFFFF"
          },
          "showarrow": false,
          "text": "-0.02",
          "x": "undetected",
          "xref": "x",
          "y": "regular",
          "yref": "y"
         },
         {
          "font": {
           "color": "#FFFFFF"
          },
          "showarrow": false,
          "text": "0.09",
          "x": "Price_Range_econom",
          "xref": "x",
          "y": "regular",
          "yref": "y"
         },
         {
          "font": {
           "color": "#FFFFFF"
          },
          "showarrow": false,
          "text": "-0.3",
          "x": "Price_Range_isNaN",
          "xref": "x",
          "y": "regular",
          "yref": "y"
         },
         {
          "font": {
           "color": "#FFFFFF"
          },
          "showarrow": false,
          "text": "0.03",
          "x": "Price_Range_luxury",
          "xref": "x",
          "y": "regular",
          "yref": "y"
         },
         {
          "font": {
           "color": "#000000"
          },
          "showarrow": false,
          "text": "0.21",
          "x": "Price_Range_regular",
          "xref": "x",
          "y": "regular",
          "yref": "y"
         },
         {
          "font": {
           "color": "#FFFFFF"
          },
          "showarrow": false,
          "text": "-0.36",
          "x": "Ranking",
          "xref": "x",
          "y": "Interval_in_month",
          "yref": "y"
         },
         {
          "font": {
           "color": "#FFFFFF"
          },
          "showarrow": false,
          "text": "0.1",
          "x": "Rating",
          "xref": "x",
          "y": "Interval_in_month",
          "yref": "y"
         },
         {
          "font": {
           "color": "#000000"
          },
          "showarrow": false,
          "text": "0.3",
          "x": "Number_of_Reviews",
          "xref": "x",
          "y": "Interval_in_month",
          "yref": "y"
         },
         {
          "font": {
           "color": "#FFFFFF"
          },
          "showarrow": false,
          "text": "0.07",
          "x": "is_franchise",
          "xref": "x",
          "y": "Interval_in_month",
          "yref": "y"
         },
         {
          "font": {
           "color": "#FFFFFF"
          },
          "showarrow": false,
          "text": "0.12",
          "x": "Population",
          "xref": "x",
          "y": "Interval_in_month",
          "yref": "y"
         },
         {
          "font": {
           "color": "#FFFFFF"
          },
          "showarrow": false,
          "text": "-0.21",
          "x": "isNaN",
          "xref": "x",
          "y": "Interval_in_month",
          "yref": "y"
         },
         {
          "font": {
           "color": "#FFFFFF"
          },
          "showarrow": false,
          "text": "0.01",
          "x": "niche",
          "xref": "x",
          "y": "Interval_in_month",
          "yref": "y"
         },
         {
          "font": {
           "color": "#000000"
          },
          "showarrow": false,
          "text": "0.36",
          "x": "popular",
          "xref": "x",
          "y": "Interval_in_month",
          "yref": "y"
         },
         {
          "font": {
           "color": "#000000"
          },
          "showarrow": false,
          "text": "0.14",
          "x": "regular",
          "xref": "x",
          "y": "Interval_in_month",
          "yref": "y"
         },
         {
          "font": {
           "color": "#000000"
          },
          "showarrow": false,
          "text": "1.0",
          "x": "Interval_in_month",
          "xref": "x",
          "y": "Interval_in_month",
          "yref": "y"
         },
         {
          "font": {
           "color": "#FFFFFF"
          },
          "showarrow": false,
          "text": "-0.26",
          "x": "Interval_in_3_month",
          "xref": "x",
          "y": "Interval_in_month",
          "yref": "y"
         },
         {
          "font": {
           "color": "#FFFFFF"
          },
          "showarrow": false,
          "text": "-0.31",
          "x": "Interval_in_1_year",
          "xref": "x",
          "y": "Interval_in_month",
          "yref": "y"
         },
         {
          "font": {
           "color": "#FFFFFF"
          },
          "showarrow": false,
          "text": "-0.15",
          "x": "Interval_more_year",
          "xref": "x",
          "y": "Interval_in_month",
          "yref": "y"
         },
         {
          "font": {
           "color": "#000000"
          },
          "showarrow": false,
          "text": "0.25",
          "x": "Text_dirty_len",
          "xref": "x",
          "y": "Interval_in_month",
          "yref": "y"
         },
         {
          "font": {
           "color": "#FFFFFF"
          },
          "showarrow": false,
          "text": "-0.2",
          "x": "Dates_num_1",
          "xref": "x",
          "y": "Interval_in_month",
          "yref": "y"
         },
         {
          "font": {
           "color": "#000000"
          },
          "showarrow": false,
          "text": "0.2",
          "x": "positive",
          "xref": "x",
          "y": "Interval_in_month",
          "yref": "y"
         },
         {
          "font": {
           "color": "#FFFFFF"
          },
          "showarrow": false,
          "text": "-0.0",
          "x": "negative",
          "xref": "x",
          "y": "Interval_in_month",
          "yref": "y"
         },
         {
          "font": {
           "color": "#FFFFFF"
          },
          "showarrow": false,
          "text": "0.02",
          "x": "neutral",
          "xref": "x",
          "y": "Interval_in_month",
          "yref": "y"
         },
         {
          "font": {
           "color": "#FFFFFF"
          },
          "showarrow": false,
          "text": "-0.24",
          "x": "no_review",
          "xref": "x",
          "y": "Interval_in_month",
          "yref": "y"
         },
         {
          "font": {
           "color": "#FFFFFF"
          },
          "showarrow": false,
          "text": "-0.03",
          "x": "undetected",
          "xref": "x",
          "y": "Interval_in_month",
          "yref": "y"
         },
         {
          "font": {
           "color": "#FFFFFF"
          },
          "showarrow": false,
          "text": "0.02",
          "x": "Price_Range_econom",
          "xref": "x",
          "y": "Interval_in_month",
          "yref": "y"
         },
         {
          "font": {
           "color": "#FFFFFF"
          },
          "showarrow": false,
          "text": "-0.28",
          "x": "Price_Range_isNaN",
          "xref": "x",
          "y": "Interval_in_month",
          "yref": "y"
         },
         {
          "font": {
           "color": "#FFFFFF"
          },
          "showarrow": false,
          "text": "0.1",
          "x": "Price_Range_luxury",
          "xref": "x",
          "y": "Interval_in_month",
          "yref": "y"
         },
         {
          "font": {
           "color": "#000000"
          },
          "showarrow": false,
          "text": "0.22",
          "x": "Price_Range_regular",
          "xref": "x",
          "y": "Interval_in_month",
          "yref": "y"
         },
         {
          "font": {
           "color": "#FFFFFF"
          },
          "showarrow": false,
          "text": "-0.14",
          "x": "Ranking",
          "xref": "x",
          "y": "Interval_in_3_month",
          "yref": "y"
         },
         {
          "font": {
           "color": "#FFFFFF"
          },
          "showarrow": false,
          "text": "0.0",
          "x": "Rating",
          "xref": "x",
          "y": "Interval_in_3_month",
          "yref": "y"
         },
         {
          "font": {
           "color": "#FFFFFF"
          },
          "showarrow": false,
          "text": "0.03",
          "x": "Number_of_Reviews",
          "xref": "x",
          "y": "Interval_in_3_month",
          "yref": "y"
         },
         {
          "font": {
           "color": "#FFFFFF"
          },
          "showarrow": false,
          "text": "0.01",
          "x": "is_franchise",
          "xref": "x",
          "y": "Interval_in_3_month",
          "yref": "y"
         },
         {
          "font": {
           "color": "#FFFFFF"
          },
          "showarrow": false,
          "text": "0.04",
          "x": "Population",
          "xref": "x",
          "y": "Interval_in_3_month",
          "yref": "y"
         },
         {
          "font": {
           "color": "#FFFFFF"
          },
          "showarrow": false,
          "text": "-0.13",
          "x": "isNaN",
          "xref": "x",
          "y": "Interval_in_3_month",
          "yref": "y"
         },
         {
          "font": {
           "color": "#FFFFFF"
          },
          "showarrow": false,
          "text": "-0.0",
          "x": "niche",
          "xref": "x",
          "y": "Interval_in_3_month",
          "yref": "y"
         },
         {
          "font": {
           "color": "#000000"
          },
          "showarrow": false,
          "text": "0.16",
          "x": "popular",
          "xref": "x",
          "y": "Interval_in_3_month",
          "yref": "y"
         },
         {
          "font": {
           "color": "#FFFFFF"
          },
          "showarrow": false,
          "text": "0.06",
          "x": "regular",
          "xref": "x",
          "y": "Interval_in_3_month",
          "yref": "y"
         },
         {
          "font": {
           "color": "#FFFFFF"
          },
          "showarrow": false,
          "text": "-0.26",
          "x": "Interval_in_month",
          "xref": "x",
          "y": "Interval_in_3_month",
          "yref": "y"
         },
         {
          "font": {
           "color": "#000000"
          },
          "showarrow": false,
          "text": "1.0",
          "x": "Interval_in_3_month",
          "xref": "x",
          "y": "Interval_in_3_month",
          "yref": "y"
         },
         {
          "font": {
           "color": "#FFFFFF"
          },
          "showarrow": false,
          "text": "-0.27",
          "x": "Interval_in_1_year",
          "xref": "x",
          "y": "Interval_in_3_month",
          "yref": "y"
         },
         {
          "font": {
           "color": "#FFFFFF"
          },
          "showarrow": false,
          "text": "-0.13",
          "x": "Interval_more_year",
          "xref": "x",
          "y": "Interval_in_3_month",
          "yref": "y"
         },
         {
          "font": {
           "color": "#000000"
          },
          "showarrow": false,
          "text": "0.23",
          "x": "Text_dirty_len",
          "xref": "x",
          "y": "Interval_in_3_month",
          "yref": "y"
         },
         {
          "font": {
           "color": "#FFFFFF"
          },
          "showarrow": false,
          "text": "-0.17",
          "x": "Dates_num_1",
          "xref": "x",
          "y": "Interval_in_3_month",
          "yref": "y"
         },
         {
          "font": {
           "color": "#000000"
          },
          "showarrow": false,
          "text": "0.17",
          "x": "positive",
          "xref": "x",
          "y": "Interval_in_3_month",
          "yref": "y"
         },
         {
          "font": {
           "color": "#FFFFFF"
          },
          "showarrow": false,
          "text": "0.03",
          "x": "negative",
          "xref": "x",
          "y": "Interval_in_3_month",
          "yref": "y"
         },
         {
          "font": {
           "color": "#FFFFFF"
          },
          "showarrow": false,
          "text": "0.03",
          "x": "neutral",
          "xref": "x",
          "y": "Interval_in_3_month",
          "yref": "y"
         },
         {
          "font": {
           "color": "#FFFFFF"
          },
          "showarrow": false,
          "text": "-0.21",
          "x": "no_review",
          "xref": "x",
          "y": "Interval_in_3_month",
          "yref": "y"
         },
         {
          "font": {
           "color": "#FFFFFF"
          },
          "showarrow": false,
          "text": "-0.02",
          "x": "undetected",
          "xref": "x",
          "y": "Interval_in_3_month",
          "yref": "y"
         },
         {
          "font": {
           "color": "#FFFFFF"
          },
          "showarrow": false,
          "text": "0.05",
          "x": "Price_Range_econom",
          "xref": "x",
          "y": "Interval_in_3_month",
          "yref": "y"
         },
         {
          "font": {
           "color": "#FFFFFF"
          },
          "showarrow": false,
          "text": "-0.19",
          "x": "Price_Range_isNaN",
          "xref": "x",
          "y": "Interval_in_3_month",
          "yref": "y"
         },
         {
          "font": {
           "color": "#FFFFFF"
          },
          "showarrow": false,
          "text": "0.02",
          "x": "Price_Range_luxury",
          "xref": "x",
          "y": "Interval_in_3_month",
          "yref": "y"
         },
         {
          "font": {
           "color": "#000000"
          },
          "showarrow": false,
          "text": "0.14",
          "x": "Price_Range_regular",
          "xref": "x",
          "y": "Interval_in_3_month",
          "yref": "y"
         },
         {
          "font": {
           "color": "#FFFFFF"
          },
          "showarrow": false,
          "text": "0.01",
          "x": "Ranking",
          "xref": "x",
          "y": "Interval_in_1_year",
          "yref": "y"
         },
         {
          "font": {
           "color": "#FFFFFF"
          },
          "showarrow": false,
          "text": "-0.06",
          "x": "Rating",
          "xref": "x",
          "y": "Interval_in_1_year",
          "yref": "y"
         },
         {
          "font": {
           "color": "#FFFFFF"
          },
          "showarrow": false,
          "text": "-0.06",
          "x": "Number_of_Reviews",
          "xref": "x",
          "y": "Interval_in_1_year",
          "yref": "y"
         },
         {
          "font": {
           "color": "#FFFFFF"
          },
          "showarrow": false,
          "text": "-0.03",
          "x": "is_franchise",
          "xref": "x",
          "y": "Interval_in_1_year",
          "yref": "y"
         },
         {
          "font": {
           "color": "#FFFFFF"
          },
          "showarrow": false,
          "text": "0.01",
          "x": "Population",
          "xref": "x",
          "y": "Interval_in_1_year",
          "yref": "y"
         },
         {
          "font": {
           "color": "#FFFFFF"
          },
          "showarrow": false,
          "text": "-0.07",
          "x": "isNaN",
          "xref": "x",
          "y": "Interval_in_1_year",
          "yref": "y"
         },
         {
          "font": {
           "color": "#FFFFFF"
          },
          "showarrow": false,
          "text": "-0.0",
          "x": "niche",
          "xref": "x",
          "y": "Interval_in_1_year",
          "yref": "y"
         },
         {
          "font": {
           "color": "#FFFFFF"
          },
          "showarrow": false,
          "text": "-0.0",
          "x": "popular",
          "xref": "x",
          "y": "Interval_in_1_year",
          "yref": "y"
         },
         {
          "font": {
           "color": "#FFFFFF"
          },
          "showarrow": false,
          "text": "0.01",
          "x": "regular",
          "xref": "x",
          "y": "Interval_in_1_year",
          "yref": "y"
         },
         {
          "font": {
           "color": "#FFFFFF"
          },
          "showarrow": false,
          "text": "-0.31",
          "x": "Interval_in_month",
          "xref": "x",
          "y": "Interval_in_1_year",
          "yref": "y"
         },
         {
          "font": {
           "color": "#FFFFFF"
          },
          "showarrow": false,
          "text": "-0.27",
          "x": "Interval_in_3_month",
          "xref": "x",
          "y": "Interval_in_1_year",
          "yref": "y"
         },
         {
          "font": {
           "color": "#000000"
          },
          "showarrow": false,
          "text": "1.0",
          "x": "Interval_in_1_year",
          "xref": "x",
          "y": "Interval_in_1_year",
          "yref": "y"
         },
         {
          "font": {
           "color": "#FFFFFF"
          },
          "showarrow": false,
          "text": "-0.15",
          "x": "Interval_more_year",
          "xref": "x",
          "y": "Interval_in_1_year",
          "yref": "y"
         },
         {
          "font": {
           "color": "#000000"
          },
          "showarrow": false,
          "text": "0.27",
          "x": "Text_dirty_len",
          "xref": "x",
          "y": "Interval_in_1_year",
          "yref": "y"
         },
         {
          "font": {
           "color": "#FFFFFF"
          },
          "showarrow": false,
          "text": "-0.2",
          "x": "Dates_num_1",
          "xref": "x",
          "y": "Interval_in_1_year",
          "yref": "y"
         },
         {
          "font": {
           "color": "#000000"
          },
          "showarrow": false,
          "text": "0.16",
          "x": "positive",
          "xref": "x",
          "y": "Interval_in_1_year",
          "yref": "y"
         },
         {
          "font": {
           "color": "#FFFFFF"
          },
          "showarrow": false,
          "text": "0.08",
          "x": "negative",
          "xref": "x",
          "y": "Interval_in_1_year",
          "yref": "y"
         },
         {
          "font": {
           "color": "#FFFFFF"
          },
          "showarrow": false,
          "text": "0.06",
          "x": "neutral",
          "xref": "x",
          "y": "Interval_in_1_year",
          "yref": "y"
         },
         {
          "font": {
           "color": "#FFFFFF"
          },
          "showarrow": false,
          "text": "-0.25",
          "x": "no_review",
          "xref": "x",
          "y": "Interval_in_1_year",
          "yref": "y"
         },
         {
          "font": {
           "color": "#FFFFFF"
          },
          "showarrow": false,
          "text": "-0.02",
          "x": "undetected",
          "xref": "x",
          "y": "Interval_in_1_year",
          "yref": "y"
         },
         {
          "font": {
           "color": "#FFFFFF"
          },
          "showarrow": false,
          "text": "0.05",
          "x": "Price_Range_econom",
          "xref": "x",
          "y": "Interval_in_1_year",
          "yref": "y"
         },
         {
          "font": {
           "color": "#FFFFFF"
          },
          "showarrow": false,
          "text": "-0.12",
          "x": "Price_Range_isNaN",
          "xref": "x",
          "y": "Interval_in_1_year",
          "yref": "y"
         },
         {
          "font": {
           "color": "#FFFFFF"
          },
          "showarrow": false,
          "text": "-0.02",
          "x": "Price_Range_luxury",
          "xref": "x",
          "y": "Interval_in_1_year",
          "yref": "y"
         },
         {
          "font": {
           "color": "#FFFFFF"
          },
          "showarrow": false,
          "text": "0.08",
          "x": "Price_Range_regular",
          "xref": "x",
          "y": "Interval_in_1_year",
          "yref": "y"
         },
         {
          "font": {
           "color": "#FFFFFF"
          },
          "showarrow": false,
          "text": "0.12",
          "x": "Ranking",
          "xref": "x",
          "y": "Interval_more_year",
          "yref": "y"
         },
         {
          "font": {
           "color": "#FFFFFF"
          },
          "showarrow": false,
          "text": "-0.05",
          "x": "Rating",
          "xref": "x",
          "y": "Interval_more_year",
          "yref": "y"
         },
         {
          "font": {
           "color": "#FFFFFF"
          },
          "showarrow": false,
          "text": "-0.07",
          "x": "Number_of_Reviews",
          "xref": "x",
          "y": "Interval_more_year",
          "yref": "y"
         },
         {
          "font": {
           "color": "#FFFFFF"
          },
          "showarrow": false,
          "text": "-0.04",
          "x": "is_franchise",
          "xref": "x",
          "y": "Interval_more_year",
          "yref": "y"
         },
         {
          "font": {
           "color": "#FFFFFF"
          },
          "showarrow": false,
          "text": "-0.03",
          "x": "Population",
          "xref": "x",
          "y": "Interval_more_year",
          "yref": "y"
         },
         {
          "font": {
           "color": "#FFFFFF"
          },
          "showarrow": false,
          "text": "0.03",
          "x": "isNaN",
          "xref": "x",
          "y": "Interval_more_year",
          "yref": "y"
         },
         {
          "font": {
           "color": "#FFFFFF"
          },
          "showarrow": false,
          "text": "-0.0",
          "x": "niche",
          "xref": "x",
          "y": "Interval_more_year",
          "yref": "y"
         },
         {
          "font": {
           "color": "#FFFFFF"
          },
          "showarrow": false,
          "text": "-0.12",
          "x": "popular",
          "xref": "x",
          "y": "Interval_more_year",
          "yref": "y"
         },
         {
          "font": {
           "color": "#FFFFFF"
          },
          "showarrow": false,
          "text": "-0.05",
          "x": "regular",
          "xref": "x",
          "y": "Interval_more_year",
          "yref": "y"
         },
         {
          "font": {
           "color": "#FFFFFF"
          },
          "showarrow": false,
          "text": "-0.15",
          "x": "Interval_in_month",
          "xref": "x",
          "y": "Interval_more_year",
          "yref": "y"
         },
         {
          "font": {
           "color": "#FFFFFF"
          },
          "showarrow": false,
          "text": "-0.13",
          "x": "Interval_in_3_month",
          "xref": "x",
          "y": "Interval_more_year",
          "yref": "y"
         },
         {
          "font": {
           "color": "#FFFFFF"
          },
          "showarrow": false,
          "text": "-0.15",
          "x": "Interval_in_1_year",
          "xref": "x",
          "y": "Interval_more_year",
          "yref": "y"
         },
         {
          "font": {
           "color": "#000000"
          },
          "showarrow": false,
          "text": "1.0",
          "x": "Interval_more_year",
          "xref": "x",
          "y": "Interval_more_year",
          "yref": "y"
         },
         {
          "font": {
           "color": "#FFFFFF"
          },
          "showarrow": false,
          "text": "0.13",
          "x": "Text_dirty_len",
          "xref": "x",
          "y": "Interval_more_year",
          "yref": "y"
         },
         {
          "font": {
           "color": "#FFFFFF"
          },
          "showarrow": false,
          "text": "-0.1",
          "x": "Dates_num_1",
          "xref": "x",
          "y": "Interval_more_year",
          "yref": "y"
         },
         {
          "font": {
           "color": "#FFFFFF"
          },
          "showarrow": false,
          "text": "0.07",
          "x": "positive",
          "xref": "x",
          "y": "Interval_more_year",
          "yref": "y"
         },
         {
          "font": {
           "color": "#FFFFFF"
          },
          "showarrow": false,
          "text": "0.05",
          "x": "negative",
          "xref": "x",
          "y": "Interval_more_year",
          "yref": "y"
         },
         {
          "font": {
           "color": "#FFFFFF"
          },
          "showarrow": false,
          "text": "0.03",
          "x": "neutral",
          "xref": "x",
          "y": "Interval_more_year",
          "yref": "y"
         },
         {
          "font": {
           "color": "#FFFFFF"
          },
          "showarrow": false,
          "text": "-0.12",
          "x": "no_review",
          "xref": "x",
          "y": "Interval_more_year",
          "yref": "y"
         },
         {
          "font": {
           "color": "#FFFFFF"
          },
          "showarrow": false,
          "text": "-0.01",
          "x": "undetected",
          "xref": "x",
          "y": "Interval_more_year",
          "yref": "y"
         },
         {
          "font": {
           "color": "#FFFFFF"
          },
          "showarrow": false,
          "text": "0.02",
          "x": "Price_Range_econom",
          "xref": "x",
          "y": "Interval_more_year",
          "yref": "y"
         },
         {
          "font": {
           "color": "#FFFFFF"
          },
          "showarrow": false,
          "text": "0.06",
          "x": "Price_Range_isNaN",
          "xref": "x",
          "y": "Interval_more_year",
          "yref": "y"
         },
         {
          "font": {
           "color": "#FFFFFF"
          },
          "showarrow": false,
          "text": "-0.03",
          "x": "Price_Range_luxury",
          "xref": "x",
          "y": "Interval_more_year",
          "yref": "y"
         },
         {
          "font": {
           "color": "#FFFFFF"
          },
          "showarrow": false,
          "text": "-0.06",
          "x": "Price_Range_regular",
          "xref": "x",
          "y": "Interval_more_year",
          "yref": "y"
         },
         {
          "font": {
           "color": "#FFFFFF"
          },
          "showarrow": false,
          "text": "-0.31",
          "x": "Ranking",
          "xref": "x",
          "y": "Text_dirty_len",
          "yref": "y"
         },
         {
          "font": {
           "color": "#FFFFFF"
          },
          "showarrow": false,
          "text": "0.03",
          "x": "Rating",
          "xref": "x",
          "y": "Text_dirty_len",
          "yref": "y"
         },
         {
          "font": {
           "color": "#000000"
          },
          "showarrow": false,
          "text": "0.16",
          "x": "Number_of_Reviews",
          "xref": "x",
          "y": "Text_dirty_len",
          "yref": "y"
         },
         {
          "font": {
           "color": "#FFFFFF"
          },
          "showarrow": false,
          "text": "0.03",
          "x": "is_franchise",
          "xref": "x",
          "y": "Text_dirty_len",
          "yref": "y"
         },
         {
          "font": {
           "color": "#FFFFFF"
          },
          "showarrow": false,
          "text": "0.1",
          "x": "Population",
          "xref": "x",
          "y": "Text_dirty_len",
          "yref": "y"
         },
         {
          "font": {
           "color": "#FFFFFF"
          },
          "showarrow": false,
          "text": "-0.28",
          "x": "isNaN",
          "xref": "x",
          "y": "Text_dirty_len",
          "yref": "y"
         },
         {
          "font": {
           "color": "#FFFFFF"
          },
          "showarrow": false,
          "text": "0.0",
          "x": "niche",
          "xref": "x",
          "y": "Text_dirty_len",
          "yref": "y"
         },
         {
          "font": {
           "color": "#000000"
          },
          "showarrow": false,
          "text": "0.31",
          "x": "popular",
          "xref": "x",
          "y": "Text_dirty_len",
          "yref": "y"
         },
         {
          "font": {
           "color": "#FFFFFF"
          },
          "showarrow": false,
          "text": "0.13",
          "x": "regular",
          "xref": "x",
          "y": "Text_dirty_len",
          "yref": "y"
         },
         {
          "font": {
           "color": "#000000"
          },
          "showarrow": false,
          "text": "0.25",
          "x": "Interval_in_month",
          "xref": "x",
          "y": "Text_dirty_len",
          "yref": "y"
         },
         {
          "font": {
           "color": "#000000"
          },
          "showarrow": false,
          "text": "0.23",
          "x": "Interval_in_3_month",
          "xref": "x",
          "y": "Text_dirty_len",
          "yref": "y"
         },
         {
          "font": {
           "color": "#000000"
          },
          "showarrow": false,
          "text": "0.27",
          "x": "Interval_in_1_year",
          "xref": "x",
          "y": "Text_dirty_len",
          "yref": "y"
         },
         {
          "font": {
           "color": "#FFFFFF"
          },
          "showarrow": false,
          "text": "0.13",
          "x": "Interval_more_year",
          "xref": "x",
          "y": "Text_dirty_len",
          "yref": "y"
         },
         {
          "font": {
           "color": "#000000"
          },
          "showarrow": false,
          "text": "1.0",
          "x": "Text_dirty_len",
          "xref": "x",
          "y": "Text_dirty_len",
          "yref": "y"
         },
         {
          "font": {
           "color": "#FFFFFF"
          },
          "showarrow": false,
          "text": "-0.22",
          "x": "Dates_num_1",
          "xref": "x",
          "y": "Text_dirty_len",
          "yref": "y"
         },
         {
          "font": {
           "color": "#000000"
          },
          "showarrow": false,
          "text": "0.6",
          "x": "positive",
          "xref": "x",
          "y": "Text_dirty_len",
          "yref": "y"
         },
         {
          "font": {
           "color": "#FFFFFF"
          },
          "showarrow": false,
          "text": "0.13",
          "x": "negative",
          "xref": "x",
          "y": "Text_dirty_len",
          "yref": "y"
         },
         {
          "font": {
           "color": "#FFFFFF"
          },
          "showarrow": false,
          "text": "0.13",
          "x": "neutral",
          "xref": "x",
          "y": "Text_dirty_len",
          "yref": "y"
         },
         {
          "font": {
           "color": "#FFFFFF"
          },
          "showarrow": false,
          "text": "-0.74",
          "x": "no_review",
          "xref": "x",
          "y": "Text_dirty_len",
          "yref": "y"
         },
         {
          "font": {
           "color": "#FFFFFF"
          },
          "showarrow": false,
          "text": "-0.04",
          "x": "undetected",
          "xref": "x",
          "y": "Text_dirty_len",
          "yref": "y"
         },
         {
          "font": {
           "color": "#FFFFFF"
          },
          "showarrow": false,
          "text": "0.09",
          "x": "Price_Range_econom",
          "xref": "x",
          "y": "Text_dirty_len",
          "yref": "y"
         },
         {
          "font": {
           "color": "#FFFFFF"
          },
          "showarrow": false,
          "text": "-0.42",
          "x": "Price_Range_isNaN",
          "xref": "x",
          "y": "Text_dirty_len",
          "yref": "y"
         },
         {
          "font": {
           "color": "#FFFFFF"
          },
          "showarrow": false,
          "text": "0.07",
          "x": "Price_Range_luxury",
          "xref": "x",
          "y": "Text_dirty_len",
          "yref": "y"
         },
         {
          "font": {
           "color": "#000000"
          },
          "showarrow": false,
          "text": "0.31",
          "x": "Price_Range_regular",
          "xref": "x",
          "y": "Text_dirty_len",
          "yref": "y"
         },
         {
          "font": {
           "color": "#000000"
          },
          "showarrow": false,
          "text": "0.21",
          "x": "Ranking",
          "xref": "x",
          "y": "Dates_num_1",
          "yref": "y"
         },
         {
          "font": {
           "color": "#FFFFFF"
          },
          "showarrow": false,
          "text": "0.01",
          "x": "Rating",
          "xref": "x",
          "y": "Dates_num_1",
          "yref": "y"
         },
         {
          "font": {
           "color": "#FFFFFF"
          },
          "showarrow": false,
          "text": "-0.12",
          "x": "Number_of_Reviews",
          "xref": "x",
          "y": "Dates_num_1",
          "yref": "y"
         },
         {
          "font": {
           "color": "#FFFFFF"
          },
          "showarrow": false,
          "text": "-0.04",
          "x": "is_franchise",
          "xref": "x",
          "y": "Dates_num_1",
          "yref": "y"
         },
         {
          "font": {
           "color": "#FFFFFF"
          },
          "showarrow": false,
          "text": "-0.05",
          "x": "Population",
          "xref": "x",
          "y": "Dates_num_1",
          "yref": "y"
         },
         {
          "font": {
           "color": "#000000"
          },
          "showarrow": false,
          "text": "0.19",
          "x": "isNaN",
          "xref": "x",
          "y": "Dates_num_1",
          "yref": "y"
         },
         {
          "font": {
           "color": "#FFFFFF"
          },
          "showarrow": false,
          "text": "-0.0",
          "x": "niche",
          "xref": "x",
          "y": "Dates_num_1",
          "yref": "y"
         },
         {
          "font": {
           "color": "#FFFFFF"
          },
          "showarrow": false,
          "text": "-0.23",
          "x": "popular",
          "xref": "x",
          "y": "Dates_num_1",
          "yref": "y"
         },
         {
          "font": {
           "color": "#FFFFFF"
          },
          "showarrow": false,
          "text": "-0.09",
          "x": "regular",
          "xref": "x",
          "y": "Dates_num_1",
          "yref": "y"
         },
         {
          "font": {
           "color": "#FFFFFF"
          },
          "showarrow": false,
          "text": "-0.2",
          "x": "Interval_in_month",
          "xref": "x",
          "y": "Dates_num_1",
          "yref": "y"
         },
         {
          "font": {
           "color": "#FFFFFF"
          },
          "showarrow": false,
          "text": "-0.17",
          "x": "Interval_in_3_month",
          "xref": "x",
          "y": "Dates_num_1",
          "yref": "y"
         },
         {
          "font": {
           "color": "#FFFFFF"
          },
          "showarrow": false,
          "text": "-0.2",
          "x": "Interval_in_1_year",
          "xref": "x",
          "y": "Dates_num_1",
          "yref": "y"
         },
         {
          "font": {
           "color": "#FFFFFF"
          },
          "showarrow": false,
          "text": "-0.1",
          "x": "Interval_more_year",
          "xref": "x",
          "y": "Dates_num_1",
          "yref": "y"
         },
         {
          "font": {
           "color": "#FFFFFF"
          },
          "showarrow": false,
          "text": "-0.22",
          "x": "Text_dirty_len",
          "xref": "x",
          "y": "Dates_num_1",
          "yref": "y"
         },
         {
          "font": {
           "color": "#000000"
          },
          "showarrow": false,
          "text": "1.0",
          "x": "Dates_num_1",
          "xref": "x",
          "y": "Dates_num_1",
          "yref": "y"
         },
         {
          "font": {
           "color": "#FFFFFF"
          },
          "showarrow": false,
          "text": "-0.16",
          "x": "positive",
          "xref": "x",
          "y": "Dates_num_1",
          "yref": "y"
         },
         {
          "font": {
           "color": "#FFFFFF"
          },
          "showarrow": false,
          "text": "-0.03",
          "x": "negative",
          "xref": "x",
          "y": "Dates_num_1",
          "yref": "y"
         },
         {
          "font": {
           "color": "#FFFFFF"
          },
          "showarrow": false,
          "text": "-0.03",
          "x": "neutral",
          "xref": "x",
          "y": "Dates_num_1",
          "yref": "y"
         },
         {
          "font": {
           "color": "#FFFFFF"
          },
          "showarrow": false,
          "text": "-0.16",
          "x": "no_review",
          "xref": "x",
          "y": "Dates_num_1",
          "yref": "y"
         },
         {
          "font": {
           "color": "#000000"
          },
          "showarrow": false,
          "text": "0.26",
          "x": "undetected",
          "xref": "x",
          "y": "Dates_num_1",
          "yref": "y"
         },
         {
          "font": {
           "color": "#FFFFFF"
          },
          "showarrow": false,
          "text": "-0.02",
          "x": "Price_Range_econom",
          "xref": "x",
          "y": "Dates_num_1",
          "yref": "y"
         },
         {
          "font": {
           "color": "#000000"
          },
          "showarrow": false,
          "text": "0.24",
          "x": "Price_Range_isNaN",
          "xref": "x",
          "y": "Dates_num_1",
          "yref": "y"
         },
         {
          "font": {
           "color": "#FFFFFF"
          },
          "showarrow": false,
          "text": "-0.05",
          "x": "Price_Range_luxury",
          "xref": "x",
          "y": "Dates_num_1",
          "yref": "y"
         },
         {
          "font": {
           "color": "#FFFFFF"
          },
          "showarrow": false,
          "text": "-0.2",
          "x": "Price_Range_regular",
          "xref": "x",
          "y": "Dates_num_1",
          "yref": "y"
         },
         {
          "font": {
           "color": "#FFFFFF"
          },
          "showarrow": false,
          "text": "-0.37",
          "x": "Ranking",
          "xref": "x",
          "y": "positive",
          "yref": "y"
         },
         {
          "font": {
           "color": "#000000"
          },
          "showarrow": false,
          "text": "0.17",
          "x": "Rating",
          "xref": "x",
          "y": "positive",
          "yref": "y"
         },
         {
          "font": {
           "color": "#000000"
          },
          "showarrow": false,
          "text": "0.14",
          "x": "Number_of_Reviews",
          "xref": "x",
          "y": "positive",
          "yref": "y"
         },
         {
          "font": {
           "color": "#FFFFFF"
          },
          "showarrow": false,
          "text": "0.09",
          "x": "is_franchise",
          "xref": "x",
          "y": "positive",
          "yref": "y"
         },
         {
          "font": {
           "color": "#FFFFFF"
          },
          "showarrow": false,
          "text": "0.04",
          "x": "Population",
          "xref": "x",
          "y": "positive",
          "yref": "y"
         },
         {
          "font": {
           "color": "#FFFFFF"
          },
          "showarrow": false,
          "text": "-0.22",
          "x": "isNaN",
          "xref": "x",
          "y": "positive",
          "yref": "y"
         },
         {
          "font": {
           "color": "#FFFFFF"
          },
          "showarrow": false,
          "text": "0.0",
          "x": "niche",
          "xref": "x",
          "y": "positive",
          "yref": "y"
         },
         {
          "font": {
           "color": "#000000"
          },
          "showarrow": false,
          "text": "0.28",
          "x": "popular",
          "xref": "x",
          "y": "positive",
          "yref": "y"
         },
         {
          "font": {
           "color": "#FFFFFF"
          },
          "showarrow": false,
          "text": "0.13",
          "x": "regular",
          "xref": "x",
          "y": "positive",
          "yref": "y"
         },
         {
          "font": {
           "color": "#000000"
          },
          "showarrow": false,
          "text": "0.2",
          "x": "Interval_in_month",
          "xref": "x",
          "y": "positive",
          "yref": "y"
         },
         {
          "font": {
           "color": "#000000"
          },
          "showarrow": false,
          "text": "0.17",
          "x": "Interval_in_3_month",
          "xref": "x",
          "y": "positive",
          "yref": "y"
         },
         {
          "font": {
           "color": "#000000"
          },
          "showarrow": false,
          "text": "0.16",
          "x": "Interval_in_1_year",
          "xref": "x",
          "y": "positive",
          "yref": "y"
         },
         {
          "font": {
           "color": "#FFFFFF"
          },
          "showarrow": false,
          "text": "0.07",
          "x": "Interval_more_year",
          "xref": "x",
          "y": "positive",
          "yref": "y"
         },
         {
          "font": {
           "color": "#000000"
          },
          "showarrow": false,
          "text": "0.6",
          "x": "Text_dirty_len",
          "xref": "x",
          "y": "positive",
          "yref": "y"
         },
         {
          "font": {
           "color": "#FFFFFF"
          },
          "showarrow": false,
          "text": "-0.16",
          "x": "Dates_num_1",
          "xref": "x",
          "y": "positive",
          "yref": "y"
         },
         {
          "font": {
           "color": "#000000"
          },
          "showarrow": false,
          "text": "1.0",
          "x": "positive",
          "xref": "x",
          "y": "positive",
          "yref": "y"
         },
         {
          "font": {
           "color": "#FFFFFF"
          },
          "showarrow": false,
          "text": "-0.09",
          "x": "negative",
          "xref": "x",
          "y": "positive",
          "yref": "y"
         },
         {
          "font": {
           "color": "#FFFFFF"
          },
          "showarrow": false,
          "text": "-0.02",
          "x": "neutral",
          "xref": "x",
          "y": "positive",
          "yref": "y"
         },
         {
          "font": {
           "color": "#FFFFFF"
          },
          "showarrow": false,
          "text": "-0.51",
          "x": "no_review",
          "xref": "x",
          "y": "positive",
          "yref": "y"
         },
         {
          "font": {
           "color": "#FFFFFF"
          },
          "showarrow": false,
          "text": "-0.36",
          "x": "undetected",
          "xref": "x",
          "y": "positive",
          "yref": "y"
         },
         {
          "font": {
           "color": "#FFFFFF"
          },
          "showarrow": false,
          "text": "0.06",
          "x": "Price_Range_econom",
          "xref": "x",
          "y": "positive",
          "yref": "y"
         },
         {
          "font": {
           "color": "#FFFFFF"
          },
          "showarrow": false,
          "text": "-0.33",
          "x": "Price_Range_isNaN",
          "xref": "x",
          "y": "positive",
          "yref": "y"
         },
         {
          "font": {
           "color": "#FFFFFF"
          },
          "showarrow": false,
          "text": "0.05",
          "x": "Price_Range_luxury",
          "xref": "x",
          "y": "positive",
          "yref": "y"
         },
         {
          "font": {
           "color": "#000000"
          },
          "showarrow": false,
          "text": "0.25",
          "x": "Price_Range_regular",
          "xref": "x",
          "y": "positive",
          "yref": "y"
         },
         {
          "font": {
           "color": "#000000"
          },
          "showarrow": false,
          "text": "0.17",
          "x": "Ranking",
          "xref": "x",
          "y": "negative",
          "yref": "y"
         },
         {
          "font": {
           "color": "#FFFFFF"
          },
          "showarrow": false,
          "text": "-0.24",
          "x": "Rating",
          "xref": "x",
          "y": "negative",
          "yref": "y"
         },
         {
          "font": {
           "color": "#FFFFFF"
          },
          "showarrow": false,
          "text": "-0.02",
          "x": "Number_of_Reviews",
          "xref": "x",
          "y": "negative",
          "yref": "y"
         },
         {
          "font": {
           "color": "#FFFFFF"
          },
          "showarrow": false,
          "text": "-0.09",
          "x": "is_franchise",
          "xref": "x",
          "y": "negative",
          "yref": "y"
         },
         {
          "font": {
           "color": "#FFFFFF"
          },
          "showarrow": false,
          "text": "0.02",
          "x": "Population",
          "xref": "x",
          "y": "negative",
          "yref": "y"
         },
         {
          "font": {
           "color": "#FFFFFF"
          },
          "showarrow": false,
          "text": "-0.02",
          "x": "isNaN",
          "xref": "x",
          "y": "negative",
          "yref": "y"
         },
         {
          "font": {
           "color": "#FFFFFF"
          },
          "showarrow": false,
          "text": "-0.0",
          "x": "niche",
          "xref": "x",
          "y": "negative",
          "yref": "y"
         },
         {
          "font": {
           "color": "#FFFFFF"
          },
          "showarrow": false,
          "text": "-0.02",
          "x": "popular",
          "xref": "x",
          "y": "negative",
          "yref": "y"
         },
         {
          "font": {
           "color": "#FFFFFF"
          },
          "showarrow": false,
          "text": "-0.01",
          "x": "regular",
          "xref": "x",
          "y": "negative",
          "yref": "y"
         },
         {
          "font": {
           "color": "#FFFFFF"
          },
          "showarrow": false,
          "text": "-0.0",
          "x": "Interval_in_month",
          "xref": "x",
          "y": "negative",
          "yref": "y"
         },
         {
          "font": {
           "color": "#FFFFFF"
          },
          "showarrow": false,
          "text": "0.03",
          "x": "Interval_in_3_month",
          "xref": "x",
          "y": "negative",
          "yref": "y"
         },
         {
          "font": {
           "color": "#FFFFFF"
          },
          "showarrow": false,
          "text": "0.08",
          "x": "Interval_in_1_year",
          "xref": "x",
          "y": "negative",
          "yref": "y"
         },
         {
          "font": {
           "color": "#FFFFFF"
          },
          "showarrow": false,
          "text": "0.05",
          "x": "Interval_more_year",
          "xref": "x",
          "y": "negative",
          "yref": "y"
         },
         {
          "font": {
           "color": "#FFFFFF"
          },
          "showarrow": false,
          "text": "0.13",
          "x": "Text_dirty_len",
          "xref": "x",
          "y": "negative",
          "yref": "y"
         },
         {
          "font": {
           "color": "#FFFFFF"
          },
          "showarrow": false,
          "text": "-0.03",
          "x": "Dates_num_1",
          "xref": "x",
          "y": "negative",
          "yref": "y"
         },
         {
          "font": {
           "color": "#FFFFFF"
          },
          "showarrow": false,
          "text": "-0.09",
          "x": "positive",
          "xref": "x",
          "y": "negative",
          "yref": "y"
         },
         {
          "font": {
           "color": "#000000"
          },
          "showarrow": false,
          "text": "1.0",
          "x": "negative",
          "xref": "x",
          "y": "negative",
          "yref": "y"
         },
         {
          "font": {
           "color": "#FFFFFF"
          },
          "showarrow": false,
          "text": "0.03",
          "x": "neutral",
          "xref": "x",
          "y": "negative",
          "yref": "y"
         },
         {
          "font": {
           "color": "#FFFFFF"
          },
          "showarrow": false,
          "text": "-0.11",
          "x": "no_review",
          "xref": "x",
          "y": "negative",
          "yref": "y"
         },
         {
          "font": {
           "color": "#FFFFFF"
          },
          "showarrow": false,
          "text": "-0.08",
          "x": "undetected",
          "xref": "x",
          "y": "negative",
          "yref": "y"
         },
         {
          "font": {
           "color": "#FFFFFF"
          },
          "showarrow": false,
          "text": "-0.01",
          "x": "Price_Range_econom",
          "xref": "x",
          "y": "negative",
          "yref": "y"
         },
         {
          "font": {
           "color": "#FFFFFF"
          },
          "showarrow": false,
          "text": "-0.03",
          "x": "Price_Range_isNaN",
          "xref": "x",
          "y": "negative",
          "yref": "y"
         },
         {
          "font": {
           "color": "#FFFFFF"
          },
          "showarrow": false,
          "text": "0.01",
          "x": "Price_Range_luxury",
          "xref": "x",
          "y": "negative",
          "yref": "y"
         },
         {
          "font": {
           "color": "#FFFFFF"
          },
          "showarrow": false,
          "text": "0.03",
          "x": "Price_Range_regular",
          "xref": "x",
          "y": "negative",
          "yref": "y"
         },
         {
          "font": {
           "color": "#FFFFFF"
          },
          "showarrow": false,
          "text": "0.04",
          "x": "Ranking",
          "xref": "x",
          "y": "neutral",
          "yref": "y"
         },
         {
          "font": {
           "color": "#FFFFFF"
          },
          "showarrow": false,
          "text": "-0.09",
          "x": "Rating",
          "xref": "x",
          "y": "neutral",
          "yref": "y"
         },
         {
          "font": {
           "color": "#FFFFFF"
          },
          "showarrow": false,
          "text": "0.01",
          "x": "Number_of_Reviews",
          "xref": "x",
          "y": "neutral",
          "yref": "y"
         },
         {
          "font": {
           "color": "#FFFFFF"
          },
          "showarrow": false,
          "text": "-0.03",
          "x": "is_franchise",
          "xref": "x",
          "y": "neutral",
          "yref": "y"
         },
         {
          "font": {
           "color": "#FFFFFF"
          },
          "showarrow": false,
          "text": "0.01",
          "x": "Population",
          "xref": "x",
          "y": "neutral",
          "yref": "y"
         },
         {
          "font": {
           "color": "#FFFFFF"
          },
          "showarrow": false,
          "text": "-0.04",
          "x": "isNaN",
          "xref": "x",
          "y": "neutral",
          "yref": "y"
         },
         {
          "font": {
           "color": "#FFFFFF"
          },
          "showarrow": false,
          "text": "-0.0",
          "x": "niche",
          "xref": "x",
          "y": "neutral",
          "yref": "y"
         },
         {
          "font": {
           "color": "#FFFFFF"
          },
          "showarrow": false,
          "text": "0.02",
          "x": "popular",
          "xref": "x",
          "y": "neutral",
          "yref": "y"
         },
         {
          "font": {
           "color": "#FFFFFF"
          },
          "showarrow": false,
          "text": "-0.01",
          "x": "regular",
          "xref": "x",
          "y": "neutral",
          "yref": "y"
         },
         {
          "font": {
           "color": "#FFFFFF"
          },
          "showarrow": false,
          "text": "0.02",
          "x": "Interval_in_month",
          "xref": "x",
          "y": "neutral",
          "yref": "y"
         },
         {
          "font": {
           "color": "#FFFFFF"
          },
          "showarrow": false,
          "text": "0.03",
          "x": "Interval_in_3_month",
          "xref": "x",
          "y": "neutral",
          "yref": "y"
         },
         {
          "font": {
           "color": "#FFFFFF"
          },
          "showarrow": false,
          "text": "0.06",
          "x": "Interval_in_1_year",
          "xref": "x",
          "y": "neutral",
          "yref": "y"
         },
         {
          "font": {
           "color": "#FFFFFF"
          },
          "showarrow": false,
          "text": "0.03",
          "x": "Interval_more_year",
          "xref": "x",
          "y": "neutral",
          "yref": "y"
         },
         {
          "font": {
           "color": "#FFFFFF"
          },
          "showarrow": false,
          "text": "0.13",
          "x": "Text_dirty_len",
          "xref": "x",
          "y": "neutral",
          "yref": "y"
         },
         {
          "font": {
           "color": "#FFFFFF"
          },
          "showarrow": false,
          "text": "-0.03",
          "x": "Dates_num_1",
          "xref": "x",
          "y": "neutral",
          "yref": "y"
         },
         {
          "font": {
           "color": "#FFFFFF"
          },
          "showarrow": false,
          "text": "-0.02",
          "x": "positive",
          "xref": "x",
          "y": "neutral",
          "yref": "y"
         },
         {
          "font": {
           "color": "#FFFFFF"
          },
          "showarrow": false,
          "text": "0.03",
          "x": "negative",
          "xref": "x",
          "y": "neutral",
          "yref": "y"
         },
         {
          "font": {
           "color": "#000000"
          },
          "showarrow": false,
          "text": "1.0",
          "x": "neutral",
          "xref": "x",
          "y": "neutral",
          "yref": "y"
         },
         {
          "font": {
           "color": "#FFFFFF"
          },
          "showarrow": false,
          "text": "-0.11",
          "x": "no_review",
          "xref": "x",
          "y": "neutral",
          "yref": "y"
         },
         {
          "font": {
           "color": "#FFFFFF"
          },
          "showarrow": false,
          "text": "-0.08",
          "x": "undetected",
          "xref": "x",
          "y": "neutral",
          "yref": "y"
         },
         {
          "font": {
           "color": "#FFFFFF"
          },
          "showarrow": false,
          "text": "0.02",
          "x": "Price_Range_econom",
          "xref": "x",
          "y": "neutral",
          "yref": "y"
         },
         {
          "font": {
           "color": "#FFFFFF"
          },
          "showarrow": false,
          "text": "-0.06",
          "x": "Price_Range_isNaN",
          "xref": "x",
          "y": "neutral",
          "yref": "y"
         },
         {
          "font": {
           "color": "#FFFFFF"
          },
          "showarrow": false,
          "text": "-0.02",
          "x": "Price_Range_luxury",
          "xref": "x",
          "y": "neutral",
          "yref": "y"
         },
         {
          "font": {
           "color": "#FFFFFF"
          },
          "showarrow": false,
          "text": "0.05",
          "x": "Price_Range_regular",
          "xref": "x",
          "y": "neutral",
          "yref": "y"
         },
         {
          "font": {
           "color": "#000000"
          },
          "showarrow": false,
          "text": "0.29",
          "x": "Ranking",
          "xref": "x",
          "y": "no_review",
          "yref": "y"
         },
         {
          "font": {
           "color": "#FFFFFF"
          },
          "showarrow": false,
          "text": "-0.02",
          "x": "Rating",
          "xref": "x",
          "y": "no_review",
          "yref": "y"
         },
         {
          "font": {
           "color": "#FFFFFF"
          },
          "showarrow": false,
          "text": "-0.15",
          "x": "Number_of_Reviews",
          "xref": "x",
          "y": "no_review",
          "yref": "y"
         },
         {
          "font": {
           "color": "#FFFFFF"
          },
          "showarrow": false,
          "text": "-0.01",
          "x": "is_franchise",
          "xref": "x",
          "y": "no_review",
          "yref": "y"
         },
         {
          "font": {
           "color": "#FFFFFF"
          },
          "showarrow": false,
          "text": "-0.12",
          "x": "Population",
          "xref": "x",
          "y": "no_review",
          "yref": "y"
         },
         {
          "font": {
           "color": "#000000"
          },
          "showarrow": false,
          "text": "0.27",
          "x": "isNaN",
          "xref": "x",
          "y": "no_review",
          "yref": "y"
         },
         {
          "font": {
           "color": "#FFFFFF"
          },
          "showarrow": false,
          "text": "-0.0",
          "x": "niche",
          "xref": "x",
          "y": "no_review",
          "yref": "y"
         },
         {
          "font": {
           "color": "#FFFFFF"
          },
          "showarrow": false,
          "text": "-0.3",
          "x": "popular",
          "xref": "x",
          "y": "no_review",
          "yref": "y"
         },
         {
          "font": {
           "color": "#FFFFFF"
          },
          "showarrow": false,
          "text": "-0.13",
          "x": "regular",
          "xref": "x",
          "y": "no_review",
          "yref": "y"
         },
         {
          "font": {
           "color": "#FFFFFF"
          },
          "showarrow": false,
          "text": "-0.24",
          "x": "Interval_in_month",
          "xref": "x",
          "y": "no_review",
          "yref": "y"
         },
         {
          "font": {
           "color": "#FFFFFF"
          },
          "showarrow": false,
          "text": "-0.21",
          "x": "Interval_in_3_month",
          "xref": "x",
          "y": "no_review",
          "yref": "y"
         },
         {
          "font": {
           "color": "#FFFFFF"
          },
          "showarrow": false,
          "text": "-0.25",
          "x": "Interval_in_1_year",
          "xref": "x",
          "y": "no_review",
          "yref": "y"
         },
         {
          "font": {
           "color": "#FFFFFF"
          },
          "showarrow": false,
          "text": "-0.12",
          "x": "Interval_more_year",
          "xref": "x",
          "y": "no_review",
          "yref": "y"
         },
         {
          "font": {
           "color": "#FFFFFF"
          },
          "showarrow": false,
          "text": "-0.74",
          "x": "Text_dirty_len",
          "xref": "x",
          "y": "no_review",
          "yref": "y"
         },
         {
          "font": {
           "color": "#FFFFFF"
          },
          "showarrow": false,
          "text": "-0.16",
          "x": "Dates_num_1",
          "xref": "x",
          "y": "no_review",
          "yref": "y"
         },
         {
          "font": {
           "color": "#FFFFFF"
          },
          "showarrow": false,
          "text": "-0.51",
          "x": "positive",
          "xref": "x",
          "y": "no_review",
          "yref": "y"
         },
         {
          "font": {
           "color": "#FFFFFF"
          },
          "showarrow": false,
          "text": "-0.11",
          "x": "negative",
          "xref": "x",
          "y": "no_review",
          "yref": "y"
         },
         {
          "font": {
           "color": "#FFFFFF"
          },
          "showarrow": false,
          "text": "-0.11",
          "x": "neutral",
          "xref": "x",
          "y": "no_review",
          "yref": "y"
         },
         {
          "font": {
           "color": "#000000"
          },
          "showarrow": false,
          "text": "1.0",
          "x": "no_review",
          "xref": "x",
          "y": "no_review",
          "yref": "y"
         },
         {
          "font": {
           "color": "#FFFFFF"
          },
          "showarrow": false,
          "text": "-0.14",
          "x": "undetected",
          "xref": "x",
          "y": "no_review",
          "yref": "y"
         },
         {
          "font": {
           "color": "#FFFFFF"
          },
          "showarrow": false,
          "text": "-0.12",
          "x": "Price_Range_econom",
          "xref": "x",
          "y": "no_review",
          "yref": "y"
         },
         {
          "font": {
           "color": "#000000"
          },
          "showarrow": false,
          "text": "0.41",
          "x": "Price_Range_isNaN",
          "xref": "x",
          "y": "no_review",
          "yref": "y"
         },
         {
          "font": {
           "color": "#FFFFFF"
          },
          "showarrow": false,
          "text": "-0.06",
          "x": "Price_Range_luxury",
          "xref": "x",
          "y": "no_review",
          "yref": "y"
         },
         {
          "font": {
           "color": "#FFFFFF"
          },
          "showarrow": false,
          "text": "-0.29",
          "x": "Price_Range_regular",
          "xref": "x",
          "y": "no_review",
          "yref": "y"
         },
         {
          "font": {
           "color": "#FFFFFF"
          },
          "showarrow": false,
          "text": "0.1",
          "x": "Ranking",
          "xref": "x",
          "y": "undetected",
          "yref": "y"
         },
         {
          "font": {
           "color": "#FFFFFF"
          },
          "showarrow": false,
          "text": "-0.08",
          "x": "Rating",
          "xref": "x",
          "y": "undetected",
          "yref": "y"
         },
         {
          "font": {
           "color": "#FFFFFF"
          },
          "showarrow": false,
          "text": "-0.03",
          "x": "Number_of_Reviews",
          "xref": "x",
          "y": "undetected",
          "yref": "y"
         },
         {
          "font": {
           "color": "#FFFFFF"
          },
          "showarrow": false,
          "text": "-0.05",
          "x": "is_franchise",
          "xref": "x",
          "y": "undetected",
          "yref": "y"
         },
         {
          "font": {
           "color": "#FFFFFF"
          },
          "showarrow": false,
          "text": "0.03",
          "x": "Population",
          "xref": "x",
          "y": "undetected",
          "yref": "y"
         },
         {
          "font": {
           "color": "#FFFFFF"
          },
          "showarrow": false,
          "text": "0.04",
          "x": "isNaN",
          "xref": "x",
          "y": "undetected",
          "yref": "y"
         },
         {
          "font": {
           "color": "#FFFFFF"
          },
          "showarrow": false,
          "text": "0.01",
          "x": "niche",
          "xref": "x",
          "y": "undetected",
          "yref": "y"
         },
         {
          "font": {
           "color": "#FFFFFF"
          },
          "showarrow": false,
          "text": "-0.06",
          "x": "popular",
          "xref": "x",
          "y": "undetected",
          "yref": "y"
         },
         {
          "font": {
           "color": "#FFFFFF"
          },
          "showarrow": false,
          "text": "-0.02",
          "x": "regular",
          "xref": "x",
          "y": "undetected",
          "yref": "y"
         },
         {
          "font": {
           "color": "#FFFFFF"
          },
          "showarrow": false,
          "text": "-0.03",
          "x": "Interval_in_month",
          "xref": "x",
          "y": "undetected",
          "yref": "y"
         },
         {
          "font": {
           "color": "#FFFFFF"
          },
          "showarrow": false,
          "text": "-0.02",
          "x": "Interval_in_3_month",
          "xref": "x",
          "y": "undetected",
          "yref": "y"
         },
         {
          "font": {
           "color": "#FFFFFF"
          },
          "showarrow": false,
          "text": "-0.02",
          "x": "Interval_in_1_year",
          "xref": "x",
          "y": "undetected",
          "yref": "y"
         },
         {
          "font": {
           "color": "#FFFFFF"
          },
          "showarrow": false,
          "text": "-0.01",
          "x": "Interval_more_year",
          "xref": "x",
          "y": "undetected",
          "yref": "y"
         },
         {
          "font": {
           "color": "#FFFFFF"
          },
          "showarrow": false,
          "text": "-0.04",
          "x": "Text_dirty_len",
          "xref": "x",
          "y": "undetected",
          "yref": "y"
         },
         {
          "font": {
           "color": "#000000"
          },
          "showarrow": false,
          "text": "0.26",
          "x": "Dates_num_1",
          "xref": "x",
          "y": "undetected",
          "yref": "y"
         },
         {
          "font": {
           "color": "#FFFFFF"
          },
          "showarrow": false,
          "text": "-0.36",
          "x": "positive",
          "xref": "x",
          "y": "undetected",
          "yref": "y"
         },
         {
          "font": {
           "color": "#FFFFFF"
          },
          "showarrow": false,
          "text": "-0.08",
          "x": "negative",
          "xref": "x",
          "y": "undetected",
          "yref": "y"
         },
         {
          "font": {
           "color": "#FFFFFF"
          },
          "showarrow": false,
          "text": "-0.08",
          "x": "neutral",
          "xref": "x",
          "y": "undetected",
          "yref": "y"
         },
         {
          "font": {
           "color": "#FFFFFF"
          },
          "showarrow": false,
          "text": "-0.14",
          "x": "no_review",
          "xref": "x",
          "y": "undetected",
          "yref": "y"
         },
         {
          "font": {
           "color": "#000000"
          },
          "showarrow": false,
          "text": "1.0",
          "x": "undetected",
          "xref": "x",
          "y": "undetected",
          "yref": "y"
         },
         {
          "font": {
           "color": "#FFFFFF"
          },
          "showarrow": false,
          "text": "0.02",
          "x": "Price_Range_econom",
          "xref": "x",
          "y": "undetected",
          "yref": "y"
         },
         {
          "font": {
           "color": "#FFFFFF"
          },
          "showarrow": false,
          "text": "0.04",
          "x": "Price_Range_isNaN",
          "xref": "x",
          "y": "undetected",
          "yref": "y"
         },
         {
          "font": {
           "color": "#FFFFFF"
          },
          "showarrow": false,
          "text": "-0.01",
          "x": "Price_Range_luxury",
          "xref": "x",
          "y": "undetected",
          "yref": "y"
         },
         {
          "font": {
           "color": "#FFFFFF"
          },
          "showarrow": false,
          "text": "-0.04",
          "x": "Price_Range_regular",
          "xref": "x",
          "y": "undetected",
          "yref": "y"
         },
         {
          "font": {
           "color": "#FFFFFF"
          },
          "showarrow": false,
          "text": "-0.03",
          "x": "Ranking",
          "xref": "x",
          "y": "Price_Range_econom",
          "yref": "y"
         },
         {
          "font": {
           "color": "#FFFFFF"
          },
          "showarrow": false,
          "text": "0.06",
          "x": "Rating",
          "xref": "x",
          "y": "Price_Range_econom",
          "yref": "y"
         },
         {
          "font": {
           "color": "#FFFFFF"
          },
          "showarrow": false,
          "text": "-0.05",
          "x": "Number_of_Reviews",
          "xref": "x",
          "y": "Price_Range_econom",
          "yref": "y"
         },
         {
          "font": {
           "color": "#FFFFFF"
          },
          "showarrow": false,
          "text": "0.01",
          "x": "is_franchise",
          "xref": "x",
          "y": "Price_Range_econom",
          "yref": "y"
         },
         {
          "font": {
           "color": "#FFFFFF"
          },
          "showarrow": false,
          "text": "0.02",
          "x": "Population",
          "xref": "x",
          "y": "Price_Range_econom",
          "yref": "y"
         },
         {
          "font": {
           "color": "#FFFFFF"
          },
          "showarrow": false,
          "text": "-0.24",
          "x": "isNaN",
          "xref": "x",
          "y": "Price_Range_econom",
          "yref": "y"
         },
         {
          "font": {
           "color": "#FFFFFF"
          },
          "showarrow": false,
          "text": "0.02",
          "x": "niche",
          "xref": "x",
          "y": "Price_Range_econom",
          "yref": "y"
         },
         {
          "font": {
           "color": "#FFFFFF"
          },
          "showarrow": false,
          "text": "0.08",
          "x": "popular",
          "xref": "x",
          "y": "Price_Range_econom",
          "yref": "y"
         },
         {
          "font": {
           "color": "#FFFFFF"
          },
          "showarrow": false,
          "text": "0.09",
          "x": "regular",
          "xref": "x",
          "y": "Price_Range_econom",
          "yref": "y"
         },
         {
          "font": {
           "color": "#FFFFFF"
          },
          "showarrow": false,
          "text": "0.02",
          "x": "Interval_in_month",
          "xref": "x",
          "y": "Price_Range_econom",
          "yref": "y"
         },
         {
          "font": {
           "color": "#FFFFFF"
          },
          "showarrow": false,
          "text": "0.05",
          "x": "Interval_in_3_month",
          "xref": "x",
          "y": "Price_Range_econom",
          "yref": "y"
         },
         {
          "font": {
           "color": "#FFFFFF"
          },
          "showarrow": false,
          "text": "0.05",
          "x": "Interval_in_1_year",
          "xref": "x",
          "y": "Price_Range_econom",
          "yref": "y"
         },
         {
          "font": {
           "color": "#FFFFFF"
          },
          "showarrow": false,
          "text": "0.02",
          "x": "Interval_more_year",
          "xref": "x",
          "y": "Price_Range_econom",
          "yref": "y"
         },
         {
          "font": {
           "color": "#FFFFFF"
          },
          "showarrow": false,
          "text": "0.09",
          "x": "Text_dirty_len",
          "xref": "x",
          "y": "Price_Range_econom",
          "yref": "y"
         },
         {
          "font": {
           "color": "#FFFFFF"
          },
          "showarrow": false,
          "text": "-0.02",
          "x": "Dates_num_1",
          "xref": "x",
          "y": "Price_Range_econom",
          "yref": "y"
         },
         {
          "font": {
           "color": "#FFFFFF"
          },
          "showarrow": false,
          "text": "0.06",
          "x": "positive",
          "xref": "x",
          "y": "Price_Range_econom",
          "yref": "y"
         },
         {
          "font": {
           "color": "#FFFFFF"
          },
          "showarrow": false,
          "text": "-0.01",
          "x": "negative",
          "xref": "x",
          "y": "Price_Range_econom",
          "yref": "y"
         },
         {
          "font": {
           "color": "#FFFFFF"
          },
          "showarrow": false,
          "text": "0.02",
          "x": "neutral",
          "xref": "x",
          "y": "Price_Range_econom",
          "yref": "y"
         },
         {
          "font": {
           "color": "#FFFFFF"
          },
          "showarrow": false,
          "text": "-0.12",
          "x": "no_review",
          "xref": "x",
          "y": "Price_Range_econom",
          "yref": "y"
         },
         {
          "font": {
           "color": "#FFFFFF"
          },
          "showarrow": false,
          "text": "0.02",
          "x": "undetected",
          "xref": "x",
          "y": "Price_Range_econom",
          "yref": "y"
         },
         {
          "font": {
           "color": "#000000"
          },
          "showarrow": false,
          "text": "1.0",
          "x": "Price_Range_econom",
          "xref": "x",
          "y": "Price_Range_econom",
          "yref": "y"
         },
         {
          "font": {
           "color": "#FFFFFF"
          },
          "showarrow": false,
          "text": "-0.31",
          "x": "Price_Range_isNaN",
          "xref": "x",
          "y": "Price_Range_econom",
          "yref": "y"
         },
         {
          "font": {
           "color": "#FFFFFF"
          },
          "showarrow": false,
          "text": "-0.08",
          "x": "Price_Range_luxury",
          "xref": "x",
          "y": "Price_Range_econom",
          "yref": "y"
         },
         {
          "font": {
           "color": "#FFFFFF"
          },
          "showarrow": false,
          "text": "-0.4",
          "x": "Price_Range_regular",
          "xref": "x",
          "y": "Price_Range_econom",
          "yref": "y"
         },
         {
          "font": {
           "color": "#000000"
          },
          "showarrow": false,
          "text": "0.46",
          "x": "Ranking",
          "xref": "x",
          "y": "Price_Range_isNaN",
          "yref": "y"
         },
         {
          "font": {
           "color": "#FFFFFF"
          },
          "showarrow": false,
          "text": "-0.06",
          "x": "Rating",
          "xref": "x",
          "y": "Price_Range_isNaN",
          "yref": "y"
         },
         {
          "font": {
           "color": "#FFFFFF"
          },
          "showarrow": false,
          "text": "-0.25",
          "x": "Number_of_Reviews",
          "xref": "x",
          "y": "Price_Range_isNaN",
          "yref": "y"
         },
         {
          "font": {
           "color": "#FFFFFF"
          },
          "showarrow": false,
          "text": "-0.12",
          "x": "is_franchise",
          "xref": "x",
          "y": "Price_Range_isNaN",
          "yref": "y"
         },
         {
          "font": {
           "color": "#FFFFFF"
          },
          "showarrow": false,
          "text": "-0.04",
          "x": "Population",
          "xref": "x",
          "y": "Price_Range_isNaN",
          "yref": "y"
         },
         {
          "font": {
           "color": "#000000"
          },
          "showarrow": false,
          "text": "0.75",
          "x": "isNaN",
          "xref": "x",
          "y": "Price_Range_isNaN",
          "yref": "y"
         },
         {
          "font": {
           "color": "#FFFFFF"
          },
          "showarrow": false,
          "text": "-0.04",
          "x": "niche",
          "xref": "x",
          "y": "Price_Range_isNaN",
          "yref": "y"
         },
         {
          "font": {
           "color": "#FFFFFF"
          },
          "showarrow": false,
          "text": "-0.62",
          "x": "popular",
          "xref": "x",
          "y": "Price_Range_isNaN",
          "yref": "y"
         },
         {
          "font": {
           "color": "#FFFFFF"
          },
          "showarrow": false,
          "text": "-0.3",
          "x": "regular",
          "xref": "x",
          "y": "Price_Range_isNaN",
          "yref": "y"
         },
         {
          "font": {
           "color": "#FFFFFF"
          },
          "showarrow": false,
          "text": "-0.28",
          "x": "Interval_in_month",
          "xref": "x",
          "y": "Price_Range_isNaN",
          "yref": "y"
         },
         {
          "font": {
           "color": "#FFFFFF"
          },
          "showarrow": false,
          "text": "-0.19",
          "x": "Interval_in_3_month",
          "xref": "x",
          "y": "Price_Range_isNaN",
          "yref": "y"
         },
         {
          "font": {
           "color": "#FFFFFF"
          },
          "showarrow": false,
          "text": "-0.12",
          "x": "Interval_in_1_year",
          "xref": "x",
          "y": "Price_Range_isNaN",
          "yref": "y"
         },
         {
          "font": {
           "color": "#FFFFFF"
          },
          "showarrow": false,
          "text": "0.06",
          "x": "Interval_more_year",
          "xref": "x",
          "y": "Price_Range_isNaN",
          "yref": "y"
         },
         {
          "font": {
           "color": "#FFFFFF"
          },
          "showarrow": false,
          "text": "-0.42",
          "x": "Text_dirty_len",
          "xref": "x",
          "y": "Price_Range_isNaN",
          "yref": "y"
         },
         {
          "font": {
           "color": "#000000"
          },
          "showarrow": false,
          "text": "0.24",
          "x": "Dates_num_1",
          "xref": "x",
          "y": "Price_Range_isNaN",
          "yref": "y"
         },
         {
          "font": {
           "color": "#FFFFFF"
          },
          "showarrow": false,
          "text": "-0.33",
          "x": "positive",
          "xref": "x",
          "y": "Price_Range_isNaN",
          "yref": "y"
         },
         {
          "font": {
           "color": "#FFFFFF"
          },
          "showarrow": false,
          "text": "-0.03",
          "x": "negative",
          "xref": "x",
          "y": "Price_Range_isNaN",
          "yref": "y"
         },
         {
          "font": {
           "color": "#FFFFFF"
          },
          "showarrow": false,
          "text": "-0.06",
          "x": "neutral",
          "xref": "x",
          "y": "Price_Range_isNaN",
          "yref": "y"
         },
         {
          "font": {
           "color": "#000000"
          },
          "showarrow": false,
          "text": "0.41",
          "x": "no_review",
          "xref": "x",
          "y": "Price_Range_isNaN",
          "yref": "y"
         },
         {
          "font": {
           "color": "#FFFFFF"
          },
          "showarrow": false,
          "text": "0.04",
          "x": "undetected",
          "xref": "x",
          "y": "Price_Range_isNaN",
          "yref": "y"
         },
         {
          "font": {
           "color": "#FFFFFF"
          },
          "showarrow": false,
          "text": "-0.31",
          "x": "Price_Range_econom",
          "xref": "x",
          "y": "Price_Range_isNaN",
          "yref": "y"
         },
         {
          "font": {
           "color": "#000000"
          },
          "showarrow": false,
          "text": "1.0",
          "x": "Price_Range_isNaN",
          "xref": "x",
          "y": "Price_Range_isNaN",
          "yref": "y"
         },
         {
          "font": {
           "color": "#FFFFFF"
          },
          "showarrow": false,
          "text": "-0.14",
          "x": "Price_Range_luxury",
          "xref": "x",
          "y": "Price_Range_isNaN",
          "yref": "y"
         },
         {
          "font": {
           "color": "#FFFFFF"
          },
          "showarrow": false,
          "text": "-0.67",
          "x": "Price_Range_regular",
          "xref": "x",
          "y": "Price_Range_isNaN",
          "yref": "y"
         },
         {
          "font": {
           "color": "#FFFFFF"
          },
          "showarrow": false,
          "text": "-0.17",
          "x": "Ranking",
          "xref": "x",
          "y": "Price_Range_luxury",
          "yref": "y"
         },
         {
          "font": {
           "color": "#FFFFFF"
          },
          "showarrow": false,
          "text": "0.06",
          "x": "Rating",
          "xref": "x",
          "y": "Price_Range_luxury",
          "yref": "y"
         },
         {
          "font": {
           "color": "#000000"
          },
          "showarrow": false,
          "text": "0.16",
          "x": "Number_of_Reviews",
          "xref": "x",
          "y": "Price_Range_luxury",
          "yref": "y"
         },
         {
          "font": {
           "color": "#FFFFFF"
          },
          "showarrow": false,
          "text": "0.04",
          "x": "is_franchise",
          "xref": "x",
          "y": "Price_Range_luxury",
          "yref": "y"
         },
         {
          "font": {
           "color": "#FFFFFF"
          },
          "showarrow": false,
          "text": "0.0",
          "x": "Population",
          "xref": "x",
          "y": "Price_Range_luxury",
          "yref": "y"
         },
         {
          "font": {
           "color": "#FFFFFF"
          },
          "showarrow": false,
          "text": "-0.11",
          "x": "isNaN",
          "xref": "x",
          "y": "Price_Range_luxury",
          "yref": "y"
         },
         {
          "font": {
           "color": "#FFFFFF"
          },
          "showarrow": false,
          "text": "-0.0",
          "x": "niche",
          "xref": "x",
          "y": "Price_Range_luxury",
          "yref": "y"
         },
         {
          "font": {
           "color": "#000000"
          },
          "showarrow": false,
          "text": "0.14",
          "x": "popular",
          "xref": "x",
          "y": "Price_Range_luxury",
          "yref": "y"
         },
         {
          "font": {
           "color": "#FFFFFF"
          },
          "showarrow": false,
          "text": "0.03",
          "x": "regular",
          "xref": "x",
          "y": "Price_Range_luxury",
          "yref": "y"
         },
         {
          "font": {
           "color": "#FFFFFF"
          },
          "showarrow": false,
          "text": "0.1",
          "x": "Interval_in_month",
          "xref": "x",
          "y": "Price_Range_luxury",
          "yref": "y"
         },
         {
          "font": {
           "color": "#FFFFFF"
          },
          "showarrow": false,
          "text": "0.02",
          "x": "Interval_in_3_month",
          "xref": "x",
          "y": "Price_Range_luxury",
          "yref": "y"
         },
         {
          "font": {
           "color": "#FFFFFF"
          },
          "showarrow": false,
          "text": "-0.02",
          "x": "Interval_in_1_year",
          "xref": "x",
          "y": "Price_Range_luxury",
          "yref": "y"
         },
         {
          "font": {
           "color": "#FFFFFF"
          },
          "showarrow": false,
          "text": "-0.03",
          "x": "Interval_more_year",
          "xref": "x",
          "y": "Price_Range_luxury",
          "yref": "y"
         },
         {
          "font": {
           "color": "#FFFFFF"
          },
          "showarrow": false,
          "text": "0.07",
          "x": "Text_dirty_len",
          "xref": "x",
          "y": "Price_Range_luxury",
          "yref": "y"
         },
         {
          "font": {
           "color": "#FFFFFF"
          },
          "showarrow": false,
          "text": "-0.05",
          "x": "Dates_num_1",
          "xref": "x",
          "y": "Price_Range_luxury",
          "yref": "y"
         },
         {
          "font": {
           "color": "#FFFFFF"
          },
          "showarrow": false,
          "text": "0.05",
          "x": "positive",
          "xref": "x",
          "y": "Price_Range_luxury",
          "yref": "y"
         },
         {
          "font": {
           "color": "#FFFFFF"
          },
          "showarrow": false,
          "text": "0.01",
          "x": "negative",
          "xref": "x",
          "y": "Price_Range_luxury",
          "yref": "y"
         },
         {
          "font": {
           "color": "#FFFFFF"
          },
          "showarrow": false,
          "text": "-0.02",
          "x": "neutral",
          "xref": "x",
          "y": "Price_Range_luxury",
          "yref": "y"
         },
         {
          "font": {
           "color": "#FFFFFF"
          },
          "showarrow": false,
          "text": "-0.06",
          "x": "no_review",
          "xref": "x",
          "y": "Price_Range_luxury",
          "yref": "y"
         },
         {
          "font": {
           "color": "#FFFFFF"
          },
          "showarrow": false,
          "text": "-0.01",
          "x": "undetected",
          "xref": "x",
          "y": "Price_Range_luxury",
          "yref": "y"
         },
         {
          "font": {
           "color": "#FFFFFF"
          },
          "showarrow": false,
          "text": "-0.08",
          "x": "Price_Range_econom",
          "xref": "x",
          "y": "Price_Range_luxury",
          "yref": "y"
         },
         {
          "font": {
           "color": "#FFFFFF"
          },
          "showarrow": false,
          "text": "-0.14",
          "x": "Price_Range_isNaN",
          "xref": "x",
          "y": "Price_Range_luxury",
          "yref": "y"
         },
         {
          "font": {
           "color": "#000000"
          },
          "showarrow": false,
          "text": "1.0",
          "x": "Price_Range_luxury",
          "xref": "x",
          "y": "Price_Range_luxury",
          "yref": "y"
         },
         {
          "font": {
           "color": "#FFFFFF"
          },
          "showarrow": false,
          "text": "-0.18",
          "x": "Price_Range_regular",
          "xref": "x",
          "y": "Price_Range_luxury",
          "yref": "y"
         },
         {
          "font": {
           "color": "#FFFFFF"
          },
          "showarrow": false,
          "text": "-0.35",
          "x": "Ranking",
          "xref": "x",
          "y": "Price_Range_regular",
          "yref": "y"
         },
         {
          "font": {
           "color": "#FFFFFF"
          },
          "showarrow": false,
          "text": "-0.01",
          "x": "Rating",
          "xref": "x",
          "y": "Price_Range_regular",
          "yref": "y"
         },
         {
          "font": {
           "color": "#000000"
          },
          "showarrow": false,
          "text": "0.21",
          "x": "Number_of_Reviews",
          "xref": "x",
          "y": "Price_Range_regular",
          "yref": "y"
         },
         {
          "font": {
           "color": "#FFFFFF"
          },
          "showarrow": false,
          "text": "0.09",
          "x": "is_franchise",
          "xref": "x",
          "y": "Price_Range_regular",
          "yref": "y"
         },
         {
          "font": {
           "color": "#FFFFFF"
          },
          "showarrow": false,
          "text": "0.02",
          "x": "Population",
          "xref": "x",
          "y": "Price_Range_regular",
          "yref": "y"
         },
         {
          "font": {
           "color": "#FFFFFF"
          },
          "showarrow": false,
          "text": "-0.51",
          "x": "isNaN",
          "xref": "x",
          "y": "Price_Range_regular",
          "yref": "y"
         },
         {
          "font": {
           "color": "#FFFFFF"
          },
          "showarrow": false,
          "text": "0.02",
          "x": "niche",
          "xref": "x",
          "y": "Price_Range_regular",
          "yref": "y"
         },
         {
          "font": {
           "color": "#000000"
          },
          "showarrow": false,
          "text": "0.48",
          "x": "popular",
          "xref": "x",
          "y": "Price_Range_regular",
          "yref": "y"
         },
         {
          "font": {
           "color": "#000000"
          },
          "showarrow": false,
          "text": "0.21",
          "x": "regular",
          "xref": "x",
          "y": "Price_Range_regular",
          "yref": "y"
         },
         {
          "font": {
           "color": "#000000"
          },
          "showarrow": false,
          "text": "0.22",
          "x": "Interval_in_month",
          "xref": "x",
          "y": "Price_Range_regular",
          "yref": "y"
         },
         {
          "font": {
           "color": "#000000"
          },
          "showarrow": false,
          "text": "0.14",
          "x": "Interval_in_3_month",
          "xref": "x",
          "y": "Price_Range_regular",
          "yref": "y"
         },
         {
          "font": {
           "color": "#FFFFFF"
          },
          "showarrow": false,
          "text": "0.08",
          "x": "Interval_in_1_year",
          "xref": "x",
          "y": "Price_Range_regular",
          "yref": "y"
         },
         {
          "font": {
           "color": "#FFFFFF"
          },
          "showarrow": false,
          "text": "-0.06",
          "x": "Interval_more_year",
          "xref": "x",
          "y": "Price_Range_regular",
          "yref": "y"
         },
         {
          "font": {
           "color": "#000000"
          },
          "showarrow": false,
          "text": "0.31",
          "x": "Text_dirty_len",
          "xref": "x",
          "y": "Price_Range_regular",
          "yref": "y"
         },
         {
          "font": {
           "color": "#FFFFFF"
          },
          "showarrow": false,
          "text": "-0.2",
          "x": "Dates_num_1",
          "xref": "x",
          "y": "Price_Range_regular",
          "yref": "y"
         },
         {
          "font": {
           "color": "#000000"
          },
          "showarrow": false,
          "text": "0.25",
          "x": "positive",
          "xref": "x",
          "y": "Price_Range_regular",
          "yref": "y"
         },
         {
          "font": {
           "color": "#FFFFFF"
          },
          "showarrow": false,
          "text": "0.03",
          "x": "negative",
          "xref": "x",
          "y": "Price_Range_regular",
          "yref": "y"
         },
         {
          "font": {
           "color": "#FFFFFF"
          },
          "showarrow": false,
          "text": "0.05",
          "x": "neutral",
          "xref": "x",
          "y": "Price_Range_regular",
          "yref": "y"
         },
         {
          "font": {
           "color": "#FFFFFF"
          },
          "showarrow": false,
          "text": "-0.29",
          "x": "no_review",
          "xref": "x",
          "y": "Price_Range_regular",
          "yref": "y"
         },
         {
          "font": {
           "color": "#FFFFFF"
          },
          "showarrow": false,
          "text": "-0.04",
          "x": "undetected",
          "xref": "x",
          "y": "Price_Range_regular",
          "yref": "y"
         },
         {
          "font": {
           "color": "#FFFFFF"
          },
          "showarrow": false,
          "text": "-0.4",
          "x": "Price_Range_econom",
          "xref": "x",
          "y": "Price_Range_regular",
          "yref": "y"
         },
         {
          "font": {
           "color": "#FFFFFF"
          },
          "showarrow": false,
          "text": "-0.67",
          "x": "Price_Range_isNaN",
          "xref": "x",
          "y": "Price_Range_regular",
          "yref": "y"
         },
         {
          "font": {
           "color": "#FFFFFF"
          },
          "showarrow": false,
          "text": "-0.18",
          "x": "Price_Range_luxury",
          "xref": "x",
          "y": "Price_Range_regular",
          "yref": "y"
         },
         {
          "font": {
           "color": "#000000"
          },
          "showarrow": false,
          "text": "1.0",
          "x": "Price_Range_regular",
          "xref": "x",
          "y": "Price_Range_regular",
          "yref": "y"
         }
        ],
        "autosize": false,
        "height": 600,
        "template": {
         "data": {
          "bar": [
           {
            "error_x": {
             "color": "#2a3f5f"
            },
            "error_y": {
             "color": "#2a3f5f"
            },
            "marker": {
             "line": {
              "color": "#E5ECF6",
              "width": 0.5
             },
             "pattern": {
              "fillmode": "overlay",
              "size": 10,
              "solidity": 0.2
             }
            },
            "type": "bar"
           }
          ],
          "barpolar": [
           {
            "marker": {
             "line": {
              "color": "#E5ECF6",
              "width": 0.5
             },
             "pattern": {
              "fillmode": "overlay",
              "size": 10,
              "solidity": 0.2
             }
            },
            "type": "barpolar"
           }
          ],
          "carpet": [
           {
            "aaxis": {
             "endlinecolor": "#2a3f5f",
             "gridcolor": "white",
             "linecolor": "white",
             "minorgridcolor": "white",
             "startlinecolor": "#2a3f5f"
            },
            "baxis": {
             "endlinecolor": "#2a3f5f",
             "gridcolor": "white",
             "linecolor": "white",
             "minorgridcolor": "white",
             "startlinecolor": "#2a3f5f"
            },
            "type": "carpet"
           }
          ],
          "choropleth": [
           {
            "colorbar": {
             "outlinewidth": 0,
             "ticks": ""
            },
            "type": "choropleth"
           }
          ],
          "contour": [
           {
            "colorbar": {
             "outlinewidth": 0,
             "ticks": ""
            },
            "colorscale": [
             [
              0,
              "#0d0887"
             ],
             [
              0.1111111111111111,
              "#46039f"
             ],
             [
              0.2222222222222222,
              "#7201a8"
             ],
             [
              0.3333333333333333,
              "#9c179e"
             ],
             [
              0.4444444444444444,
              "#bd3786"
             ],
             [
              0.5555555555555556,
              "#d8576b"
             ],
             [
              0.6666666666666666,
              "#ed7953"
             ],
             [
              0.7777777777777778,
              "#fb9f3a"
             ],
             [
              0.8888888888888888,
              "#fdca26"
             ],
             [
              1,
              "#f0f921"
             ]
            ],
            "type": "contour"
           }
          ],
          "contourcarpet": [
           {
            "colorbar": {
             "outlinewidth": 0,
             "ticks": ""
            },
            "type": "contourcarpet"
           }
          ],
          "heatmap": [
           {
            "colorbar": {
             "outlinewidth": 0,
             "ticks": ""
            },
            "colorscale": [
             [
              0,
              "#0d0887"
             ],
             [
              0.1111111111111111,
              "#46039f"
             ],
             [
              0.2222222222222222,
              "#7201a8"
             ],
             [
              0.3333333333333333,
              "#9c179e"
             ],
             [
              0.4444444444444444,
              "#bd3786"
             ],
             [
              0.5555555555555556,
              "#d8576b"
             ],
             [
              0.6666666666666666,
              "#ed7953"
             ],
             [
              0.7777777777777778,
              "#fb9f3a"
             ],
             [
              0.8888888888888888,
              "#fdca26"
             ],
             [
              1,
              "#f0f921"
             ]
            ],
            "type": "heatmap"
           }
          ],
          "heatmapgl": [
           {
            "colorbar": {
             "outlinewidth": 0,
             "ticks": ""
            },
            "colorscale": [
             [
              0,
              "#0d0887"
             ],
             [
              0.1111111111111111,
              "#46039f"
             ],
             [
              0.2222222222222222,
              "#7201a8"
             ],
             [
              0.3333333333333333,
              "#9c179e"
             ],
             [
              0.4444444444444444,
              "#bd3786"
             ],
             [
              0.5555555555555556,
              "#d8576b"
             ],
             [
              0.6666666666666666,
              "#ed7953"
             ],
             [
              0.7777777777777778,
              "#fb9f3a"
             ],
             [
              0.8888888888888888,
              "#fdca26"
             ],
             [
              1,
              "#f0f921"
             ]
            ],
            "type": "heatmapgl"
           }
          ],
          "histogram": [
           {
            "marker": {
             "pattern": {
              "fillmode": "overlay",
              "size": 10,
              "solidity": 0.2
             }
            },
            "type": "histogram"
           }
          ],
          "histogram2d": [
           {
            "colorbar": {
             "outlinewidth": 0,
             "ticks": ""
            },
            "colorscale": [
             [
              0,
              "#0d0887"
             ],
             [
              0.1111111111111111,
              "#46039f"
             ],
             [
              0.2222222222222222,
              "#7201a8"
             ],
             [
              0.3333333333333333,
              "#9c179e"
             ],
             [
              0.4444444444444444,
              "#bd3786"
             ],
             [
              0.5555555555555556,
              "#d8576b"
             ],
             [
              0.6666666666666666,
              "#ed7953"
             ],
             [
              0.7777777777777778,
              "#fb9f3a"
             ],
             [
              0.8888888888888888,
              "#fdca26"
             ],
             [
              1,
              "#f0f921"
             ]
            ],
            "type": "histogram2d"
           }
          ],
          "histogram2dcontour": [
           {
            "colorbar": {
             "outlinewidth": 0,
             "ticks": ""
            },
            "colorscale": [
             [
              0,
              "#0d0887"
             ],
             [
              0.1111111111111111,
              "#46039f"
             ],
             [
              0.2222222222222222,
              "#7201a8"
             ],
             [
              0.3333333333333333,
              "#9c179e"
             ],
             [
              0.4444444444444444,
              "#bd3786"
             ],
             [
              0.5555555555555556,
              "#d8576b"
             ],
             [
              0.6666666666666666,
              "#ed7953"
             ],
             [
              0.7777777777777778,
              "#fb9f3a"
             ],
             [
              0.8888888888888888,
              "#fdca26"
             ],
             [
              1,
              "#f0f921"
             ]
            ],
            "type": "histogram2dcontour"
           }
          ],
          "mesh3d": [
           {
            "colorbar": {
             "outlinewidth": 0,
             "ticks": ""
            },
            "type": "mesh3d"
           }
          ],
          "parcoords": [
           {
            "line": {
             "colorbar": {
              "outlinewidth": 0,
              "ticks": ""
             }
            },
            "type": "parcoords"
           }
          ],
          "pie": [
           {
            "automargin": true,
            "type": "pie"
           }
          ],
          "scatter": [
           {
            "marker": {
             "colorbar": {
              "outlinewidth": 0,
              "ticks": ""
             }
            },
            "type": "scatter"
           }
          ],
          "scatter3d": [
           {
            "line": {
             "colorbar": {
              "outlinewidth": 0,
              "ticks": ""
             }
            },
            "marker": {
             "colorbar": {
              "outlinewidth": 0,
              "ticks": ""
             }
            },
            "type": "scatter3d"
           }
          ],
          "scattercarpet": [
           {
            "marker": {
             "colorbar": {
              "outlinewidth": 0,
              "ticks": ""
             }
            },
            "type": "scattercarpet"
           }
          ],
          "scattergeo": [
           {
            "marker": {
             "colorbar": {
              "outlinewidth": 0,
              "ticks": ""
             }
            },
            "type": "scattergeo"
           }
          ],
          "scattergl": [
           {
            "marker": {
             "colorbar": {
              "outlinewidth": 0,
              "ticks": ""
             }
            },
            "type": "scattergl"
           }
          ],
          "scattermapbox": [
           {
            "marker": {
             "colorbar": {
              "outlinewidth": 0,
              "ticks": ""
             }
            },
            "type": "scattermapbox"
           }
          ],
          "scatterpolar": [
           {
            "marker": {
             "colorbar": {
              "outlinewidth": 0,
              "ticks": ""
             }
            },
            "type": "scatterpolar"
           }
          ],
          "scatterpolargl": [
           {
            "marker": {
             "colorbar": {
              "outlinewidth": 0,
              "ticks": ""
             }
            },
            "type": "scatterpolargl"
           }
          ],
          "scatterternary": [
           {
            "marker": {
             "colorbar": {
              "outlinewidth": 0,
              "ticks": ""
             }
            },
            "type": "scatterternary"
           }
          ],
          "surface": [
           {
            "colorbar": {
             "outlinewidth": 0,
             "ticks": ""
            },
            "colorscale": [
             [
              0,
              "#0d0887"
             ],
             [
              0.1111111111111111,
              "#46039f"
             ],
             [
              0.2222222222222222,
              "#7201a8"
             ],
             [
              0.3333333333333333,
              "#9c179e"
             ],
             [
              0.4444444444444444,
              "#bd3786"
             ],
             [
              0.5555555555555556,
              "#d8576b"
             ],
             [
              0.6666666666666666,
              "#ed7953"
             ],
             [
              0.7777777777777778,
              "#fb9f3a"
             ],
             [
              0.8888888888888888,
              "#fdca26"
             ],
             [
              1,
              "#f0f921"
             ]
            ],
            "type": "surface"
           }
          ],
          "table": [
           {
            "cells": {
             "fill": {
              "color": "#EBF0F8"
             },
             "line": {
              "color": "white"
             }
            },
            "header": {
             "fill": {
              "color": "#C8D4E3"
             },
             "line": {
              "color": "white"
             }
            },
            "type": "table"
           }
          ]
         },
         "layout": {
          "annotationdefaults": {
           "arrowcolor": "#2a3f5f",
           "arrowhead": 0,
           "arrowwidth": 1
          },
          "autotypenumbers": "strict",
          "coloraxis": {
           "colorbar": {
            "outlinewidth": 0,
            "ticks": ""
           }
          },
          "colorscale": {
           "diverging": [
            [
             0,
             "#8e0152"
            ],
            [
             0.1,
             "#c51b7d"
            ],
            [
             0.2,
             "#de77ae"
            ],
            [
             0.3,
             "#f1b6da"
            ],
            [
             0.4,
             "#fde0ef"
            ],
            [
             0.5,
             "#f7f7f7"
            ],
            [
             0.6,
             "#e6f5d0"
            ],
            [
             0.7,
             "#b8e186"
            ],
            [
             0.8,
             "#7fbc41"
            ],
            [
             0.9,
             "#4d9221"
            ],
            [
             1,
             "#276419"
            ]
           ],
           "sequential": [
            [
             0,
             "#0d0887"
            ],
            [
             0.1111111111111111,
             "#46039f"
            ],
            [
             0.2222222222222222,
             "#7201a8"
            ],
            [
             0.3333333333333333,
             "#9c179e"
            ],
            [
             0.4444444444444444,
             "#bd3786"
            ],
            [
             0.5555555555555556,
             "#d8576b"
            ],
            [
             0.6666666666666666,
             "#ed7953"
            ],
            [
             0.7777777777777778,
             "#fb9f3a"
            ],
            [
             0.8888888888888888,
             "#fdca26"
            ],
            [
             1,
             "#f0f921"
            ]
           ],
           "sequentialminus": [
            [
             0,
             "#0d0887"
            ],
            [
             0.1111111111111111,
             "#46039f"
            ],
            [
             0.2222222222222222,
             "#7201a8"
            ],
            [
             0.3333333333333333,
             "#9c179e"
            ],
            [
             0.4444444444444444,
             "#bd3786"
            ],
            [
             0.5555555555555556,
             "#d8576b"
            ],
            [
             0.6666666666666666,
             "#ed7953"
            ],
            [
             0.7777777777777778,
             "#fb9f3a"
            ],
            [
             0.8888888888888888,
             "#fdca26"
            ],
            [
             1,
             "#f0f921"
            ]
           ]
          },
          "colorway": [
           "#636efa",
           "#EF553B",
           "#00cc96",
           "#ab63fa",
           "#FFA15A",
           "#19d3f3",
           "#FF6692",
           "#B6E880",
           "#FF97FF",
           "#FECB52"
          ],
          "font": {
           "color": "#2a3f5f"
          },
          "geo": {
           "bgcolor": "white",
           "lakecolor": "white",
           "landcolor": "#E5ECF6",
           "showlakes": true,
           "showland": true,
           "subunitcolor": "white"
          },
          "hoverlabel": {
           "align": "left"
          },
          "hovermode": "closest",
          "mapbox": {
           "style": "light"
          },
          "paper_bgcolor": "white",
          "plot_bgcolor": "#E5ECF6",
          "polar": {
           "angularaxis": {
            "gridcolor": "white",
            "linecolor": "white",
            "ticks": ""
           },
           "bgcolor": "#E5ECF6",
           "radialaxis": {
            "gridcolor": "white",
            "linecolor": "white",
            "ticks": ""
           }
          },
          "scene": {
           "xaxis": {
            "backgroundcolor": "#E5ECF6",
            "gridcolor": "white",
            "gridwidth": 2,
            "linecolor": "white",
            "showbackground": true,
            "ticks": "",
            "zerolinecolor": "white"
           },
           "yaxis": {
            "backgroundcolor": "#E5ECF6",
            "gridcolor": "white",
            "gridwidth": 2,
            "linecolor": "white",
            "showbackground": true,
            "ticks": "",
            "zerolinecolor": "white"
           },
           "zaxis": {
            "backgroundcolor": "#E5ECF6",
            "gridcolor": "white",
            "gridwidth": 2,
            "linecolor": "white",
            "showbackground": true,
            "ticks": "",
            "zerolinecolor": "white"
           }
          },
          "shapedefaults": {
           "line": {
            "color": "#2a3f5f"
           }
          },
          "ternary": {
           "aaxis": {
            "gridcolor": "white",
            "linecolor": "white",
            "ticks": ""
           },
           "baxis": {
            "gridcolor": "white",
            "linecolor": "white",
            "ticks": ""
           },
           "bgcolor": "#E5ECF6",
           "caxis": {
            "gridcolor": "white",
            "linecolor": "white",
            "ticks": ""
           }
          },
          "title": {
           "x": 0.05
          },
          "xaxis": {
           "automargin": true,
           "gridcolor": "white",
           "linecolor": "white",
           "ticks": "",
           "title": {
            "standoff": 15
           },
           "zerolinecolor": "white",
           "zerolinewidth": 2
          },
          "yaxis": {
           "automargin": true,
           "gridcolor": "white",
           "linecolor": "white",
           "ticks": "",
           "title": {
            "standoff": 15
           },
           "zerolinecolor": "white",
           "zerolinewidth": 2
          }
         }
        },
        "width": 1000,
        "xaxis": {
         "dtick": 1,
         "gridcolor": "rgb(0, 0, 0)",
         "side": "top",
         "ticks": ""
        },
        "yaxis": {
         "dtick": 1,
         "ticks": "",
         "ticksuffix": "  "
        }
       }
      },
      "text/html": [
       "<div>                            <div id=\"ca061b1e-97db-49d2-bd16-739a92b6b3cb\" class=\"plotly-graph-div\" style=\"height:600px; width:1000px;\"></div>            <script type=\"text/javascript\">                require([\"plotly\"], function(Plotly) {                    window.PLOTLYENV=window.PLOTLYENV || {};                                    if (document.getElementById(\"ca061b1e-97db-49d2-bd16-739a92b6b3cb\")) {                    Plotly.newPlot(                        \"ca061b1e-97db-49d2-bd16-739a92b6b3cb\",                        [{\"colorscale\":[[0.0,\"#0d0887\"],[0.1111111111111111,\"#46039f\"],[0.2222222222222222,\"#7201a8\"],[0.3333333333333333,\"#9c179e\"],[0.4444444444444444,\"#bd3786\"],[0.5555555555555556,\"#d8576b\"],[0.6666666666666666,\"#ed7953\"],[0.7777777777777778,\"#fb9f3a\"],[0.8888888888888888,\"#fdca26\"],[1.0,\"#f0f921\"]],\"reversescale\":false,\"showscale\":true,\"type\":\"heatmap\",\"x\":[\"Ranking\",\"Rating\",\"Number_of_Reviews\",\"is_franchise\",\"Population\",\"isNaN\",\"niche\",\"popular\",\"regular\",\"Interval_in_month\",\"Interval_in_3_month\",\"Interval_in_1_year\",\"Interval_more_year\",\"Text_dirty_len\",\"Dates_num_1\",\"positive\",\"negative\",\"neutral\",\"no_review\",\"undetected\",\"Price_Range_econom\",\"Price_Range_isNaN\",\"Price_Range_luxury\",\"Price_Range_regular\"],\"y\":[\"Ranking\",\"Rating\",\"Number_of_Reviews\",\"is_franchise\",\"Population\",\"isNaN\",\"niche\",\"popular\",\"regular\",\"Interval_in_month\",\"Interval_in_3_month\",\"Interval_in_1_year\",\"Interval_more_year\",\"Text_dirty_len\",\"Dates_num_1\",\"positive\",\"negative\",\"neutral\",\"no_review\",\"undetected\",\"Price_Range_econom\",\"Price_Range_isNaN\",\"Price_Range_luxury\",\"Price_Range_regular\"],\"z\":[[1.0,-0.5446279866212421,-0.39193936080031033,-0.3199433420978602,0.0017512198065683456,0.32160099871909376,-0.01768394992881997,-0.5372910163890969,-0.19703684719973832,-0.3627841519328081,-0.14090330562154008,0.009341793446941155,0.11978611809766937,-0.31458729361908044,0.20757652752141434,-0.3708895481971217,0.16714884980855946,0.0354011733939557,0.2922572843656264,0.09833899519043146,-0.03210715160622914,0.46231334207792324,-0.17116134587069215,-0.3545332907997694],[-0.5446279866212421,1.0,0.03203800336961325,0.2236891380842439,-0.023927415682066088,-0.03826259530266748,0.017002681072035637,0.08887437008343475,0.0907482408454137,0.09705905644663819,0.002413907335837227,-0.05597948385854106,-0.045647639294857024,0.03052224589666276,0.008502742821290432,0.17431577254149172,-0.23838454687882063,-0.0895992328682012,-0.02472657169516712,-0.08177750454553565,0.06412839298340209,-0.06456670405294963,0.06086189112291457,-0.007752265096783376],[-0.39193936080031033,0.03203800336961325,1.0,0.11821304965939146,-0.10930581940197719,-0.18460133968696604,-0.007188284421298615,0.3754492311881478,0.13798926883430357,0.2959571100961379,0.03385953151318596,-0.06166836551732637,-0.07155653426381552,0.15896170122128292,-0.12040117421375582,0.14359242180931447,-0.018871043476099306,0.012081283341521726,-0.1497102225618181,-0.030392975528334375,-0.04810898921901606,-0.24695656834269608,0.15575240455941075,0.21310954447055264],[-0.3199433420978602,0.2236891380842439,0.11821304965939146,1.0,-0.3903672545695781,-0.07023481033533205,0.006226541518117084,0.15583414356641948,0.05688419725575856,0.07471545386143895,0.014636485502614236,-0.02831927042123789,-0.037697517145781075,0.03268907699870829,-0.03690848884638663,0.09097870020748024,-0.08782094637687556,-0.03318675107107988,-0.010504630179230801,-0.05005344422572132,0.009080400200247758,-0.1200784160480844,0.03828334214010154,0.09383748827282212],[0.0017512198065683456,-0.023927415682066088,-0.10930581940197719,-0.3903672545695781,1.0,-0.044019098875691075,0.005241510781018024,0.055226001893958356,0.010788020402898014,0.11787147772224713,0.0419504537530738,0.007836050213891773,-0.030133267441099936,0.09927962597169698,-0.052590429674873845,0.04235828498038361,0.024993009463627498,0.010860192816741169,-0.1222947935334438,0.030104898552035568,0.019999600289110953,-0.04214344658303212,0.002521051059514015,0.024719257743897657],[0.32160099871909376,-0.03826259530266748,-0.18460133968696604,-0.07023481033533205,-0.044019098875691075,1.0,-0.04393732452929833,-0.5873983475438757,-0.3224964681957032,-0.2084069376255992,-0.12936298767907944,-0.06943812505902444,0.02896900645510681,-0.2786425286145545,0.18988695683260717,-0.22478597543346857,-0.019938825498080542,-0.03985664563085104,0.27214042570878877,0.0354285965691559,-0.23721917724733452,0.7538811698263509,-0.10558275765266964,-0.5076905209266813],[-0.01768394992881997,0.017002681072035637,-0.007188284421298615,0.006226541518117084,0.005241510781018024,-0.04393732452929833,1.0,-0.0037982207921820397,0.08311561862039302,0.009184245489729796,-0.0019333323815026457,-0.0017726818183674009,-0.0020402266301371382,0.00434397422719666,-0.0026911865882162534,0.00425582325210367,-0.0036478991630297182,-0.0025140489672330394,-0.0026715223627075593,0.0050620607159744735,0.0249339967525161,-0.03916284980530281,-0.003065853907646337,0.02034720600972799],[-0.5372910163890969,0.08887437008343475,0.3754492311881478,0.15583414356641948,0.055226001893958356,-0.5873983475438757,-0.0037982207921820397,1.0,0.1278029548796086,0.36277064646601076,0.15878907463785952,-4.149646888011342e-05,-0.12407893881188468,0.31246968192831404,-0.23182321624511482,0.28337749749148694,-0.02374740064661353,0.022970853390469507,-0.298163131127726,-0.05761073275609308,0.07842193863418799,-0.6191992225340726,0.1429771728133156,0.4810526249507064],[-0.19703684719973832,0.0907482408454137,0.13798926883430357,0.05688419725575856,0.010788020402898014,-0.3224964681957032,0.08311561862039302,0.1278029548796086,1.0,0.14163642796064127,0.055720032776458414,0.013065730821430994,-0.05100378373104066,0.12841580979167347,-0.0862976394789283,0.1274590650856417,-0.01342833833216174,-0.005554537750564981,-0.12684909019626703,-0.02203599706876905,0.08713024677479744,-0.29573701917928996,0.03198135317613505,0.2069932950121314],[-0.3627841519328081,0.09705905644663819,0.2959571100961379,0.07471545386143895,0.11787147772224713,-0.2084069376255992,0.009184245489729796,0.36277064646601076,0.14163642796064127,1.0,-0.2619023294771493,-0.3071699799936173,-0.14601269361760857,0.2475012697759138,-0.19554608328075876,0.20396795119306635,-0.0025684336280916743,0.018628941784916198,-0.23960949693852185,-0.029889660490376533,0.015593519164234373,-0.28241776373035327,0.10233969085021266,0.2203359749332328],[-0.14090330562154008,0.002413907335837227,0.03385953151318596,0.014636485502614236,0.0419504537530738,-0.12936298767907944,-0.0019333323815026457,0.15878907463785952,0.055720032776458414,-0.2619023294771493,1.0,-0.2704337404082174,-0.1285501886704877,0.22738771820538975,-0.17215959295531416,0.17246676021142063,0.025047810491113064,0.02583995042544436,-0.2109532073927355,-0.018289080809914024,0.047458922459011184,-0.19216236327272954,0.015691227431261483,0.14307299187081743],[0.009341793446941155,-0.05597948385854106,-0.06166836551732637,-0.02831927042123789,0.007836050213891773,-0.06943812505902444,-0.0017726818183674009,-4.149646888011342e-05,0.013065730821430994,-0.3071699799936173,-0.2704337404082174,1.0,-0.15076902508244006,0.2701299064486198,-0.20191595404808244,0.15968082747088602,0.07515070232503497,0.05817625868228638,-0.2474147237398688,-0.024022724707425013,0.048864760926378925,-0.11738487452234238,-0.017253765772320958,0.08286702730452576],[0.11978611809766937,-0.045647639294857024,-0.07155653426381552,-0.037697517145781075,-0.030133267441099936,0.02896900645510681,-0.0020402266301371382,-0.12407893881188468,-0.05100378373104066,-0.14601269361760857,-0.1285501886704877,-0.15076902508244006,1.0,0.1308445775713927,-0.0959803830294296,0.06517855830438607,0.04900437874907851,0.02800236812453879,-0.1176081407911845,-0.007533136558522188,0.019282813622140262,0.05515606721013094,-0.027643216640638985,-0.05648265385715015],[-0.31458729361908044,0.03052224589666276,0.15896170122128292,0.03268907699870829,0.09927962597169698,-0.2786425286145545,0.00434397422719666,0.31246968192831404,0.12841580979167347,0.2475012697759138,0.22738771820538975,0.2701299064486198,0.1308445775713927,1.0,-0.21779604963344787,0.6029622487127069,0.12779601744771307,0.12577569922924614,-0.7379993135989467,-0.04315774187953641,0.08524057859820147,-0.41546965019597576,0.06863651912163794,0.3091121866263753],[0.20757652752141434,0.008502742821290432,-0.12040117421375582,-0.03690848884638663,-0.052590429674873845,0.18988695683260717,-0.0026911865882162534,-0.23182321624511482,-0.0862976394789283,-0.19554608328075876,-0.17215959295531416,-0.20191595404808244,-0.0959803830294296,-0.21779604963344787,1.0,-0.16132531468464414,-0.03416830141881193,-0.033393912706489934,-0.1575055614950632,0.2591871597693088,-0.02080546845925629,0.24421090724532854,-0.04549223143564652,-0.20116514408730585],[-0.3708895481971217,0.17431577254149172,0.14359242180931447,0.09097870020748024,0.04235828498038361,-0.22478597543346857,0.00425582325210367,0.28337749749148694,0.1274590650856417,0.20396795119306635,0.17246676021142063,0.15968082747088602,0.06517855830438607,0.6029622487127069,-0.16132531468464414,1.0,-0.08863263923175956,-0.020821306710283757,-0.5060365889195673,-0.3594776800950826,0.06125952050610662,-0.326344897963656,0.05311756522627021,0.24725534698858537],[0.16714884980855946,-0.23838454687882063,-0.018871043476099306,-0.08782094637687556,0.024993009463627498,-0.019938825498080542,-0.0036478991630297182,-0.02374740064661353,-0.01342833833216174,-0.0025684336280916743,0.025047810491113064,0.07515070232503497,0.04900437874907851,0.12779601744771307,-0.03416830141881193,-0.08863263923175956,1.0,0.029187468626326752,-0.11463324849300272,-0.08143303297101696,-0.011720987017648314,-0.028084123924025144,0.005322563329684345,0.03340100986712378],[0.0354011733939557,-0.0895992328682012,0.012081283341521726,-0.03318675107107988,0.010860192816741169,-0.03985664563085104,-0.0025140489672330394,0.022970853390469507,-0.005554537750564981,0.018628941784916198,0.02583995042544436,0.05817625868228638,0.02800236812453879,0.12577569922924614,-0.033393912706489934,-0.020821306710283757,0.029187468626326752,1.0,-0.10638225948047024,-0.07557170504797454,0.018658086545205003,-0.058225755646713576,-0.021469846004484587,0.04997500613955329],[0.2922572843656264,-0.02472657169516712,-0.1497102225618181,-0.010504630179230801,-0.1222947935334438,0.27214042570878877,-0.0026715223627075593,-0.298163131127726,-0.12684909019626703,-0.23960949693852185,-0.2109532073927355,-0.2474147237398688,-0.1176081407911845,-0.7379993135989467,-0.1575055614950632,-0.5060365889195673,-0.11463324849300272,-0.10638225948047024,1.0,-0.13710105909749884,-0.11995943523114548,0.41421316674738184,-0.05541991272728614,-0.287483884541742],[0.09833899519043146,-0.08177750454553565,-0.030392975528334375,-0.05005344422572132,0.030104898552035568,0.0354285965691559,0.0050620607159744735,-0.05761073275609308,-0.02203599706876905,-0.029889660490376533,-0.018289080809914024,-0.024022724707425013,-0.007533136558522188,-0.04315774187953641,0.2591871597693088,-0.3594776800950826,-0.08143303297101696,-0.07557170504797454,-0.13710105909749884,1.0,0.017094600886370798,0.03926185144166479,-0.013901711724764586,-0.044811058370089245],[-0.03210715160622914,0.06412839298340209,-0.04810898921901606,0.009080400200247758,0.019999600289110953,-0.23721917724733452,0.0249339967525161,0.07842193863418799,0.08713024677479744,0.015593519164234373,0.047458922459011184,0.048864760926378925,0.019282813622140262,0.08524057859820147,-0.02080546845925629,0.06125952050610662,-0.011720987017648314,0.018658086545205003,-0.11995943523114548,0.017094600886370798,1.0,-0.3146638843651875,-0.08287685142957767,-0.39851006746252776],[0.46231334207792324,-0.06456670405294963,-0.24695656834269608,-0.1200784160480844,-0.04214344658303212,0.7538811698263509,-0.03916284980530281,-0.6191992225340726,-0.29573701917928996,-0.28241776373035327,-0.19216236327272954,-0.11738487452234238,0.05515606721013094,-0.41546965019597576,0.24421090724532854,-0.326344897963656,-0.028084123924025144,-0.058225755646713576,0.41421316674738184,0.03926185144166479,-0.3146638843651875,1.0,-0.1400522547565267,-0.673435736620951],[-0.17116134587069215,0.06086189112291457,0.15575240455941075,0.03828334214010154,0.002521051059514015,-0.10558275765266964,-0.003065853907646337,0.1429771728133156,0.03198135317613505,0.10233969085021266,0.015691227431261483,-0.017253765772320958,-0.027643216640638985,0.06863651912163794,-0.04549223143564652,0.05311756522627021,0.005322563329684345,-0.021469846004484587,-0.05541991272728614,-0.013901711724764586,-0.08287685142957767,-0.1400522547565267,1.0,-0.17737095441982373],[-0.3545332907997694,-0.007752265096783376,0.21310954447055264,0.09383748827282212,0.024719257743897657,-0.5076905209266813,0.02034720600972799,0.4810526249507064,0.2069932950121314,0.2203359749332328,0.14307299187081743,0.08286702730452576,-0.05648265385715015,0.3091121866263753,-0.20116514408730585,0.24725534698858537,0.03340100986712378,0.04997500613955329,-0.287483884541742,-0.044811058370089245,-0.39851006746252776,-0.673435736620951,-0.17737095441982373,1.0]]}],                        {\"annotations\":[{\"font\":{\"color\":\"#000000\"},\"showarrow\":false,\"text\":\"1.0\",\"x\":\"Ranking\",\"xref\":\"x\",\"y\":\"Ranking\",\"yref\":\"y\"},{\"font\":{\"color\":\"#FFFFFF\"},\"showarrow\":false,\"text\":\"-0.54\",\"x\":\"Rating\",\"xref\":\"x\",\"y\":\"Ranking\",\"yref\":\"y\"},{\"font\":{\"color\":\"#FFFFFF\"},\"showarrow\":false,\"text\":\"-0.39\",\"x\":\"Number_of_Reviews\",\"xref\":\"x\",\"y\":\"Ranking\",\"yref\":\"y\"},{\"font\":{\"color\":\"#FFFFFF\"},\"showarrow\":false,\"text\":\"-0.32\",\"x\":\"is_franchise\",\"xref\":\"x\",\"y\":\"Ranking\",\"yref\":\"y\"},{\"font\":{\"color\":\"#FFFFFF\"},\"showarrow\":false,\"text\":\"0.0\",\"x\":\"Population\",\"xref\":\"x\",\"y\":\"Ranking\",\"yref\":\"y\"},{\"font\":{\"color\":\"#000000\"},\"showarrow\":false,\"text\":\"0.32\",\"x\":\"isNaN\",\"xref\":\"x\",\"y\":\"Ranking\",\"yref\":\"y\"},{\"font\":{\"color\":\"#FFFFFF\"},\"showarrow\":false,\"text\":\"-0.02\",\"x\":\"niche\",\"xref\":\"x\",\"y\":\"Ranking\",\"yref\":\"y\"},{\"font\":{\"color\":\"#FFFFFF\"},\"showarrow\":false,\"text\":\"-0.54\",\"x\":\"popular\",\"xref\":\"x\",\"y\":\"Ranking\",\"yref\":\"y\"},{\"font\":{\"color\":\"#FFFFFF\"},\"showarrow\":false,\"text\":\"-0.2\",\"x\":\"regular\",\"xref\":\"x\",\"y\":\"Ranking\",\"yref\":\"y\"},{\"font\":{\"color\":\"#FFFFFF\"},\"showarrow\":false,\"text\":\"-0.36\",\"x\":\"Interval_in_month\",\"xref\":\"x\",\"y\":\"Ranking\",\"yref\":\"y\"},{\"font\":{\"color\":\"#FFFFFF\"},\"showarrow\":false,\"text\":\"-0.14\",\"x\":\"Interval_in_3_month\",\"xref\":\"x\",\"y\":\"Ranking\",\"yref\":\"y\"},{\"font\":{\"color\":\"#FFFFFF\"},\"showarrow\":false,\"text\":\"0.01\",\"x\":\"Interval_in_1_year\",\"xref\":\"x\",\"y\":\"Ranking\",\"yref\":\"y\"},{\"font\":{\"color\":\"#FFFFFF\"},\"showarrow\":false,\"text\":\"0.12\",\"x\":\"Interval_more_year\",\"xref\":\"x\",\"y\":\"Ranking\",\"yref\":\"y\"},{\"font\":{\"color\":\"#FFFFFF\"},\"showarrow\":false,\"text\":\"-0.31\",\"x\":\"Text_dirty_len\",\"xref\":\"x\",\"y\":\"Ranking\",\"yref\":\"y\"},{\"font\":{\"color\":\"#000000\"},\"showarrow\":false,\"text\":\"0.21\",\"x\":\"Dates_num_1\",\"xref\":\"x\",\"y\":\"Ranking\",\"yref\":\"y\"},{\"font\":{\"color\":\"#FFFFFF\"},\"showarrow\":false,\"text\":\"-0.37\",\"x\":\"positive\",\"xref\":\"x\",\"y\":\"Ranking\",\"yref\":\"y\"},{\"font\":{\"color\":\"#000000\"},\"showarrow\":false,\"text\":\"0.17\",\"x\":\"negative\",\"xref\":\"x\",\"y\":\"Ranking\",\"yref\":\"y\"},{\"font\":{\"color\":\"#FFFFFF\"},\"showarrow\":false,\"text\":\"0.04\",\"x\":\"neutral\",\"xref\":\"x\",\"y\":\"Ranking\",\"yref\":\"y\"},{\"font\":{\"color\":\"#000000\"},\"showarrow\":false,\"text\":\"0.29\",\"x\":\"no_review\",\"xref\":\"x\",\"y\":\"Ranking\",\"yref\":\"y\"},{\"font\":{\"color\":\"#FFFFFF\"},\"showarrow\":false,\"text\":\"0.1\",\"x\":\"undetected\",\"xref\":\"x\",\"y\":\"Ranking\",\"yref\":\"y\"},{\"font\":{\"color\":\"#FFFFFF\"},\"showarrow\":false,\"text\":\"-0.03\",\"x\":\"Price_Range_econom\",\"xref\":\"x\",\"y\":\"Ranking\",\"yref\":\"y\"},{\"font\":{\"color\":\"#000000\"},\"showarrow\":false,\"text\":\"0.46\",\"x\":\"Price_Range_isNaN\",\"xref\":\"x\",\"y\":\"Ranking\",\"yref\":\"y\"},{\"font\":{\"color\":\"#FFFFFF\"},\"showarrow\":false,\"text\":\"-0.17\",\"x\":\"Price_Range_luxury\",\"xref\":\"x\",\"y\":\"Ranking\",\"yref\":\"y\"},{\"font\":{\"color\":\"#FFFFFF\"},\"showarrow\":false,\"text\":\"-0.35\",\"x\":\"Price_Range_regular\",\"xref\":\"x\",\"y\":\"Ranking\",\"yref\":\"y\"},{\"font\":{\"color\":\"#FFFFFF\"},\"showarrow\":false,\"text\":\"-0.54\",\"x\":\"Ranking\",\"xref\":\"x\",\"y\":\"Rating\",\"yref\":\"y\"},{\"font\":{\"color\":\"#000000\"},\"showarrow\":false,\"text\":\"1.0\",\"x\":\"Rating\",\"xref\":\"x\",\"y\":\"Rating\",\"yref\":\"y\"},{\"font\":{\"color\":\"#FFFFFF\"},\"showarrow\":false,\"text\":\"0.03\",\"x\":\"Number_of_Reviews\",\"xref\":\"x\",\"y\":\"Rating\",\"yref\":\"y\"},{\"font\":{\"color\":\"#000000\"},\"showarrow\":false,\"text\":\"0.22\",\"x\":\"is_franchise\",\"xref\":\"x\",\"y\":\"Rating\",\"yref\":\"y\"},{\"font\":{\"color\":\"#FFFFFF\"},\"showarrow\":false,\"text\":\"-0.02\",\"x\":\"Population\",\"xref\":\"x\",\"y\":\"Rating\",\"yref\":\"y\"},{\"font\":{\"color\":\"#FFFFFF\"},\"showarrow\":false,\"text\":\"-0.04\",\"x\":\"isNaN\",\"xref\":\"x\",\"y\":\"Rating\",\"yref\":\"y\"},{\"font\":{\"color\":\"#FFFFFF\"},\"showarrow\":false,\"text\":\"0.02\",\"x\":\"niche\",\"xref\":\"x\",\"y\":\"Rating\",\"yref\":\"y\"},{\"font\":{\"color\":\"#FFFFFF\"},\"showarrow\":false,\"text\":\"0.09\",\"x\":\"popular\",\"xref\":\"x\",\"y\":\"Rating\",\"yref\":\"y\"},{\"font\":{\"color\":\"#FFFFFF\"},\"showarrow\":false,\"text\":\"0.09\",\"x\":\"regular\",\"xref\":\"x\",\"y\":\"Rating\",\"yref\":\"y\"},{\"font\":{\"color\":\"#FFFFFF\"},\"showarrow\":false,\"text\":\"0.1\",\"x\":\"Interval_in_month\",\"xref\":\"x\",\"y\":\"Rating\",\"yref\":\"y\"},{\"font\":{\"color\":\"#FFFFFF\"},\"showarrow\":false,\"text\":\"0.0\",\"x\":\"Interval_in_3_month\",\"xref\":\"x\",\"y\":\"Rating\",\"yref\":\"y\"},{\"font\":{\"color\":\"#FFFFFF\"},\"showarrow\":false,\"text\":\"-0.06\",\"x\":\"Interval_in_1_year\",\"xref\":\"x\",\"y\":\"Rating\",\"yref\":\"y\"},{\"font\":{\"color\":\"#FFFFFF\"},\"showarrow\":false,\"text\":\"-0.05\",\"x\":\"Interval_more_year\",\"xref\":\"x\",\"y\":\"Rating\",\"yref\":\"y\"},{\"font\":{\"color\":\"#FFFFFF\"},\"showarrow\":false,\"text\":\"0.03\",\"x\":\"Text_dirty_len\",\"xref\":\"x\",\"y\":\"Rating\",\"yref\":\"y\"},{\"font\":{\"color\":\"#FFFFFF\"},\"showarrow\":false,\"text\":\"0.01\",\"x\":\"Dates_num_1\",\"xref\":\"x\",\"y\":\"Rating\",\"yref\":\"y\"},{\"font\":{\"color\":\"#000000\"},\"showarrow\":false,\"text\":\"0.17\",\"x\":\"positive\",\"xref\":\"x\",\"y\":\"Rating\",\"yref\":\"y\"},{\"font\":{\"color\":\"#FFFFFF\"},\"showarrow\":false,\"text\":\"-0.24\",\"x\":\"negative\",\"xref\":\"x\",\"y\":\"Rating\",\"yref\":\"y\"},{\"font\":{\"color\":\"#FFFFFF\"},\"showarrow\":false,\"text\":\"-0.09\",\"x\":\"neutral\",\"xref\":\"x\",\"y\":\"Rating\",\"yref\":\"y\"},{\"font\":{\"color\":\"#FFFFFF\"},\"showarrow\":false,\"text\":\"-0.02\",\"x\":\"no_review\",\"xref\":\"x\",\"y\":\"Rating\",\"yref\":\"y\"},{\"font\":{\"color\":\"#FFFFFF\"},\"showarrow\":false,\"text\":\"-0.08\",\"x\":\"undetected\",\"xref\":\"x\",\"y\":\"Rating\",\"yref\":\"y\"},{\"font\":{\"color\":\"#FFFFFF\"},\"showarrow\":false,\"text\":\"0.06\",\"x\":\"Price_Range_econom\",\"xref\":\"x\",\"y\":\"Rating\",\"yref\":\"y\"},{\"font\":{\"color\":\"#FFFFFF\"},\"showarrow\":false,\"text\":\"-0.06\",\"x\":\"Price_Range_isNaN\",\"xref\":\"x\",\"y\":\"Rating\",\"yref\":\"y\"},{\"font\":{\"color\":\"#FFFFFF\"},\"showarrow\":false,\"text\":\"0.06\",\"x\":\"Price_Range_luxury\",\"xref\":\"x\",\"y\":\"Rating\",\"yref\":\"y\"},{\"font\":{\"color\":\"#FFFFFF\"},\"showarrow\":false,\"text\":\"-0.01\",\"x\":\"Price_Range_regular\",\"xref\":\"x\",\"y\":\"Rating\",\"yref\":\"y\"},{\"font\":{\"color\":\"#FFFFFF\"},\"showarrow\":false,\"text\":\"-0.39\",\"x\":\"Ranking\",\"xref\":\"x\",\"y\":\"Number_of_Reviews\",\"yref\":\"y\"},{\"font\":{\"color\":\"#FFFFFF\"},\"showarrow\":false,\"text\":\"0.03\",\"x\":\"Rating\",\"xref\":\"x\",\"y\":\"Number_of_Reviews\",\"yref\":\"y\"},{\"font\":{\"color\":\"#000000\"},\"showarrow\":false,\"text\":\"1.0\",\"x\":\"Number_of_Reviews\",\"xref\":\"x\",\"y\":\"Number_of_Reviews\",\"yref\":\"y\"},{\"font\":{\"color\":\"#FFFFFF\"},\"showarrow\":false,\"text\":\"0.12\",\"x\":\"is_franchise\",\"xref\":\"x\",\"y\":\"Number_of_Reviews\",\"yref\":\"y\"},{\"font\":{\"color\":\"#FFFFFF\"},\"showarrow\":false,\"text\":\"-0.11\",\"x\":\"Population\",\"xref\":\"x\",\"y\":\"Number_of_Reviews\",\"yref\":\"y\"},{\"font\":{\"color\":\"#FFFFFF\"},\"showarrow\":false,\"text\":\"-0.18\",\"x\":\"isNaN\",\"xref\":\"x\",\"y\":\"Number_of_Reviews\",\"yref\":\"y\"},{\"font\":{\"color\":\"#FFFFFF\"},\"showarrow\":false,\"text\":\"-0.01\",\"x\":\"niche\",\"xref\":\"x\",\"y\":\"Number_of_Reviews\",\"yref\":\"y\"},{\"font\":{\"color\":\"#000000\"},\"showarrow\":false,\"text\":\"0.38\",\"x\":\"popular\",\"xref\":\"x\",\"y\":\"Number_of_Reviews\",\"yref\":\"y\"},{\"font\":{\"color\":\"#000000\"},\"showarrow\":false,\"text\":\"0.14\",\"x\":\"regular\",\"xref\":\"x\",\"y\":\"Number_of_Reviews\",\"yref\":\"y\"},{\"font\":{\"color\":\"#000000\"},\"showarrow\":false,\"text\":\"0.3\",\"x\":\"Interval_in_month\",\"xref\":\"x\",\"y\":\"Number_of_Reviews\",\"yref\":\"y\"},{\"font\":{\"color\":\"#FFFFFF\"},\"showarrow\":false,\"text\":\"0.03\",\"x\":\"Interval_in_3_month\",\"xref\":\"x\",\"y\":\"Number_of_Reviews\",\"yref\":\"y\"},{\"font\":{\"color\":\"#FFFFFF\"},\"showarrow\":false,\"text\":\"-0.06\",\"x\":\"Interval_in_1_year\",\"xref\":\"x\",\"y\":\"Number_of_Reviews\",\"yref\":\"y\"},{\"font\":{\"color\":\"#FFFFFF\"},\"showarrow\":false,\"text\":\"-0.07\",\"x\":\"Interval_more_year\",\"xref\":\"x\",\"y\":\"Number_of_Reviews\",\"yref\":\"y\"},{\"font\":{\"color\":\"#000000\"},\"showarrow\":false,\"text\":\"0.16\",\"x\":\"Text_dirty_len\",\"xref\":\"x\",\"y\":\"Number_of_Reviews\",\"yref\":\"y\"},{\"font\":{\"color\":\"#FFFFFF\"},\"showarrow\":false,\"text\":\"-0.12\",\"x\":\"Dates_num_1\",\"xref\":\"x\",\"y\":\"Number_of_Reviews\",\"yref\":\"y\"},{\"font\":{\"color\":\"#000000\"},\"showarrow\":false,\"text\":\"0.14\",\"x\":\"positive\",\"xref\":\"x\",\"y\":\"Number_of_Reviews\",\"yref\":\"y\"},{\"font\":{\"color\":\"#FFFFFF\"},\"showarrow\":false,\"text\":\"-0.02\",\"x\":\"negative\",\"xref\":\"x\",\"y\":\"Number_of_Reviews\",\"yref\":\"y\"},{\"font\":{\"color\":\"#FFFFFF\"},\"showarrow\":false,\"text\":\"0.01\",\"x\":\"neutral\",\"xref\":\"x\",\"y\":\"Number_of_Reviews\",\"yref\":\"y\"},{\"font\":{\"color\":\"#FFFFFF\"},\"showarrow\":false,\"text\":\"-0.15\",\"x\":\"no_review\",\"xref\":\"x\",\"y\":\"Number_of_Reviews\",\"yref\":\"y\"},{\"font\":{\"color\":\"#FFFFFF\"},\"showarrow\":false,\"text\":\"-0.03\",\"x\":\"undetected\",\"xref\":\"x\",\"y\":\"Number_of_Reviews\",\"yref\":\"y\"},{\"font\":{\"color\":\"#FFFFFF\"},\"showarrow\":false,\"text\":\"-0.05\",\"x\":\"Price_Range_econom\",\"xref\":\"x\",\"y\":\"Number_of_Reviews\",\"yref\":\"y\"},{\"font\":{\"color\":\"#FFFFFF\"},\"showarrow\":false,\"text\":\"-0.25\",\"x\":\"Price_Range_isNaN\",\"xref\":\"x\",\"y\":\"Number_of_Reviews\",\"yref\":\"y\"},{\"font\":{\"color\":\"#000000\"},\"showarrow\":false,\"text\":\"0.16\",\"x\":\"Price_Range_luxury\",\"xref\":\"x\",\"y\":\"Number_of_Reviews\",\"yref\":\"y\"},{\"font\":{\"color\":\"#000000\"},\"showarrow\":false,\"text\":\"0.21\",\"x\":\"Price_Range_regular\",\"xref\":\"x\",\"y\":\"Number_of_Reviews\",\"yref\":\"y\"},{\"font\":{\"color\":\"#FFFFFF\"},\"showarrow\":false,\"text\":\"-0.32\",\"x\":\"Ranking\",\"xref\":\"x\",\"y\":\"is_franchise\",\"yref\":\"y\"},{\"font\":{\"color\":\"#000000\"},\"showarrow\":false,\"text\":\"0.22\",\"x\":\"Rating\",\"xref\":\"x\",\"y\":\"is_franchise\",\"yref\":\"y\"},{\"font\":{\"color\":\"#FFFFFF\"},\"showarrow\":false,\"text\":\"0.12\",\"x\":\"Number_of_Reviews\",\"xref\":\"x\",\"y\":\"is_franchise\",\"yref\":\"y\"},{\"font\":{\"color\":\"#000000\"},\"showarrow\":false,\"text\":\"1.0\",\"x\":\"is_franchise\",\"xref\":\"x\",\"y\":\"is_franchise\",\"yref\":\"y\"},{\"font\":{\"color\":\"#FFFFFF\"},\"showarrow\":false,\"text\":\"-0.39\",\"x\":\"Population\",\"xref\":\"x\",\"y\":\"is_franchise\",\"yref\":\"y\"},{\"font\":{\"color\":\"#FFFFFF\"},\"showarrow\":false,\"text\":\"-0.07\",\"x\":\"isNaN\",\"xref\":\"x\",\"y\":\"is_franchise\",\"yref\":\"y\"},{\"font\":{\"color\":\"#FFFFFF\"},\"showarrow\":false,\"text\":\"0.01\",\"x\":\"niche\",\"xref\":\"x\",\"y\":\"is_franchise\",\"yref\":\"y\"},{\"font\":{\"color\":\"#000000\"},\"showarrow\":false,\"text\":\"0.16\",\"x\":\"popular\",\"xref\":\"x\",\"y\":\"is_franchise\",\"yref\":\"y\"},{\"font\":{\"color\":\"#FFFFFF\"},\"showarrow\":false,\"text\":\"0.06\",\"x\":\"regular\",\"xref\":\"x\",\"y\":\"is_franchise\",\"yref\":\"y\"},{\"font\":{\"color\":\"#FFFFFF\"},\"showarrow\":false,\"text\":\"0.07\",\"x\":\"Interval_in_month\",\"xref\":\"x\",\"y\":\"is_franchise\",\"yref\":\"y\"},{\"font\":{\"color\":\"#FFFFFF\"},\"showarrow\":false,\"text\":\"0.01\",\"x\":\"Interval_in_3_month\",\"xref\":\"x\",\"y\":\"is_franchise\",\"yref\":\"y\"},{\"font\":{\"color\":\"#FFFFFF\"},\"showarrow\":false,\"text\":\"-0.03\",\"x\":\"Interval_in_1_year\",\"xref\":\"x\",\"y\":\"is_franchise\",\"yref\":\"y\"},{\"font\":{\"color\":\"#FFFFFF\"},\"showarrow\":false,\"text\":\"-0.04\",\"x\":\"Interval_more_year\",\"xref\":\"x\",\"y\":\"is_franchise\",\"yref\":\"y\"},{\"font\":{\"color\":\"#FFFFFF\"},\"showarrow\":false,\"text\":\"0.03\",\"x\":\"Text_dirty_len\",\"xref\":\"x\",\"y\":\"is_franchise\",\"yref\":\"y\"},{\"font\":{\"color\":\"#FFFFFF\"},\"showarrow\":false,\"text\":\"-0.04\",\"x\":\"Dates_num_1\",\"xref\":\"x\",\"y\":\"is_franchise\",\"yref\":\"y\"},{\"font\":{\"color\":\"#FFFFFF\"},\"showarrow\":false,\"text\":\"0.09\",\"x\":\"positive\",\"xref\":\"x\",\"y\":\"is_franchise\",\"yref\":\"y\"},{\"font\":{\"color\":\"#FFFFFF\"},\"showarrow\":false,\"text\":\"-0.09\",\"x\":\"negative\",\"xref\":\"x\",\"y\":\"is_franchise\",\"yref\":\"y\"},{\"font\":{\"color\":\"#FFFFFF\"},\"showarrow\":false,\"text\":\"-0.03\",\"x\":\"neutral\",\"xref\":\"x\",\"y\":\"is_franchise\",\"yref\":\"y\"},{\"font\":{\"color\":\"#FFFFFF\"},\"showarrow\":false,\"text\":\"-0.01\",\"x\":\"no_review\",\"xref\":\"x\",\"y\":\"is_franchise\",\"yref\":\"y\"},{\"font\":{\"color\":\"#FFFFFF\"},\"showarrow\":false,\"text\":\"-0.05\",\"x\":\"undetected\",\"xref\":\"x\",\"y\":\"is_franchise\",\"yref\":\"y\"},{\"font\":{\"color\":\"#FFFFFF\"},\"showarrow\":false,\"text\":\"0.01\",\"x\":\"Price_Range_econom\",\"xref\":\"x\",\"y\":\"is_franchise\",\"yref\":\"y\"},{\"font\":{\"color\":\"#FFFFFF\"},\"showarrow\":false,\"text\":\"-0.12\",\"x\":\"Price_Range_isNaN\",\"xref\":\"x\",\"y\":\"is_franchise\",\"yref\":\"y\"},{\"font\":{\"color\":\"#FFFFFF\"},\"showarrow\":false,\"text\":\"0.04\",\"x\":\"Price_Range_luxury\",\"xref\":\"x\",\"y\":\"is_franchise\",\"yref\":\"y\"},{\"font\":{\"color\":\"#FFFFFF\"},\"showarrow\":false,\"text\":\"0.09\",\"x\":\"Price_Range_regular\",\"xref\":\"x\",\"y\":\"is_franchise\",\"yref\":\"y\"},{\"font\":{\"color\":\"#FFFFFF\"},\"showarrow\":false,\"text\":\"0.0\",\"x\":\"Ranking\",\"xref\":\"x\",\"y\":\"Population\",\"yref\":\"y\"},{\"font\":{\"color\":\"#FFFFFF\"},\"showarrow\":false,\"text\":\"-0.02\",\"x\":\"Rating\",\"xref\":\"x\",\"y\":\"Population\",\"yref\":\"y\"},{\"font\":{\"color\":\"#FFFFFF\"},\"showarrow\":false,\"text\":\"-0.11\",\"x\":\"Number_of_Reviews\",\"xref\":\"x\",\"y\":\"Population\",\"yref\":\"y\"},{\"font\":{\"color\":\"#FFFFFF\"},\"showarrow\":false,\"text\":\"-0.39\",\"x\":\"is_franchise\",\"xref\":\"x\",\"y\":\"Population\",\"yref\":\"y\"},{\"font\":{\"color\":\"#000000\"},\"showarrow\":false,\"text\":\"1.0\",\"x\":\"Population\",\"xref\":\"x\",\"y\":\"Population\",\"yref\":\"y\"},{\"font\":{\"color\":\"#FFFFFF\"},\"showarrow\":false,\"text\":\"-0.04\",\"x\":\"isNaN\",\"xref\":\"x\",\"y\":\"Population\",\"yref\":\"y\"},{\"font\":{\"color\":\"#FFFFFF\"},\"showarrow\":false,\"text\":\"0.01\",\"x\":\"niche\",\"xref\":\"x\",\"y\":\"Population\",\"yref\":\"y\"},{\"font\":{\"color\":\"#FFFFFF\"},\"showarrow\":false,\"text\":\"0.06\",\"x\":\"popular\",\"xref\":\"x\",\"y\":\"Population\",\"yref\":\"y\"},{\"font\":{\"color\":\"#FFFFFF\"},\"showarrow\":false,\"text\":\"0.01\",\"x\":\"regular\",\"xref\":\"x\",\"y\":\"Population\",\"yref\":\"y\"},{\"font\":{\"color\":\"#FFFFFF\"},\"showarrow\":false,\"text\":\"0.12\",\"x\":\"Interval_in_month\",\"xref\":\"x\",\"y\":\"Population\",\"yref\":\"y\"},{\"font\":{\"color\":\"#FFFFFF\"},\"showarrow\":false,\"text\":\"0.04\",\"x\":\"Interval_in_3_month\",\"xref\":\"x\",\"y\":\"Population\",\"yref\":\"y\"},{\"font\":{\"color\":\"#FFFFFF\"},\"showarrow\":false,\"text\":\"0.01\",\"x\":\"Interval_in_1_year\",\"xref\":\"x\",\"y\":\"Population\",\"yref\":\"y\"},{\"font\":{\"color\":\"#FFFFFF\"},\"showarrow\":false,\"text\":\"-0.03\",\"x\":\"Interval_more_year\",\"xref\":\"x\",\"y\":\"Population\",\"yref\":\"y\"},{\"font\":{\"color\":\"#FFFFFF\"},\"showarrow\":false,\"text\":\"0.1\",\"x\":\"Text_dirty_len\",\"xref\":\"x\",\"y\":\"Population\",\"yref\":\"y\"},{\"font\":{\"color\":\"#FFFFFF\"},\"showarrow\":false,\"text\":\"-0.05\",\"x\":\"Dates_num_1\",\"xref\":\"x\",\"y\":\"Population\",\"yref\":\"y\"},{\"font\":{\"color\":\"#FFFFFF\"},\"showarrow\":false,\"text\":\"0.04\",\"x\":\"positive\",\"xref\":\"x\",\"y\":\"Population\",\"yref\":\"y\"},{\"font\":{\"color\":\"#FFFFFF\"},\"showarrow\":false,\"text\":\"0.02\",\"x\":\"negative\",\"xref\":\"x\",\"y\":\"Population\",\"yref\":\"y\"},{\"font\":{\"color\":\"#FFFFFF\"},\"showarrow\":false,\"text\":\"0.01\",\"x\":\"neutral\",\"xref\":\"x\",\"y\":\"Population\",\"yref\":\"y\"},{\"font\":{\"color\":\"#FFFFFF\"},\"showarrow\":false,\"text\":\"-0.12\",\"x\":\"no_review\",\"xref\":\"x\",\"y\":\"Population\",\"yref\":\"y\"},{\"font\":{\"color\":\"#FFFFFF\"},\"showarrow\":false,\"text\":\"0.03\",\"x\":\"undetected\",\"xref\":\"x\",\"y\":\"Population\",\"yref\":\"y\"},{\"font\":{\"color\":\"#FFFFFF\"},\"showarrow\":false,\"text\":\"0.02\",\"x\":\"Price_Range_econom\",\"xref\":\"x\",\"y\":\"Population\",\"yref\":\"y\"},{\"font\":{\"color\":\"#FFFFFF\"},\"showarrow\":false,\"text\":\"-0.04\",\"x\":\"Price_Range_isNaN\",\"xref\":\"x\",\"y\":\"Population\",\"yref\":\"y\"},{\"font\":{\"color\":\"#FFFFFF\"},\"showarrow\":false,\"text\":\"0.0\",\"x\":\"Price_Range_luxury\",\"xref\":\"x\",\"y\":\"Population\",\"yref\":\"y\"},{\"font\":{\"color\":\"#FFFFFF\"},\"showarrow\":false,\"text\":\"0.02\",\"x\":\"Price_Range_regular\",\"xref\":\"x\",\"y\":\"Population\",\"yref\":\"y\"},{\"font\":{\"color\":\"#000000\"},\"showarrow\":false,\"text\":\"0.32\",\"x\":\"Ranking\",\"xref\":\"x\",\"y\":\"isNaN\",\"yref\":\"y\"},{\"font\":{\"color\":\"#FFFFFF\"},\"showarrow\":false,\"text\":\"-0.04\",\"x\":\"Rating\",\"xref\":\"x\",\"y\":\"isNaN\",\"yref\":\"y\"},{\"font\":{\"color\":\"#FFFFFF\"},\"showarrow\":false,\"text\":\"-0.18\",\"x\":\"Number_of_Reviews\",\"xref\":\"x\",\"y\":\"isNaN\",\"yref\":\"y\"},{\"font\":{\"color\":\"#FFFFFF\"},\"showarrow\":false,\"text\":\"-0.07\",\"x\":\"is_franchise\",\"xref\":\"x\",\"y\":\"isNaN\",\"yref\":\"y\"},{\"font\":{\"color\":\"#FFFFFF\"},\"showarrow\":false,\"text\":\"-0.04\",\"x\":\"Population\",\"xref\":\"x\",\"y\":\"isNaN\",\"yref\":\"y\"},{\"font\":{\"color\":\"#000000\"},\"showarrow\":false,\"text\":\"1.0\",\"x\":\"isNaN\",\"xref\":\"x\",\"y\":\"isNaN\",\"yref\":\"y\"},{\"font\":{\"color\":\"#FFFFFF\"},\"showarrow\":false,\"text\":\"-0.04\",\"x\":\"niche\",\"xref\":\"x\",\"y\":\"isNaN\",\"yref\":\"y\"},{\"font\":{\"color\":\"#FFFFFF\"},\"showarrow\":false,\"text\":\"-0.59\",\"x\":\"popular\",\"xref\":\"x\",\"y\":\"isNaN\",\"yref\":\"y\"},{\"font\":{\"color\":\"#FFFFFF\"},\"showarrow\":false,\"text\":\"-0.32\",\"x\":\"regular\",\"xref\":\"x\",\"y\":\"isNaN\",\"yref\":\"y\"},{\"font\":{\"color\":\"#FFFFFF\"},\"showarrow\":false,\"text\":\"-0.21\",\"x\":\"Interval_in_month\",\"xref\":\"x\",\"y\":\"isNaN\",\"yref\":\"y\"},{\"font\":{\"color\":\"#FFFFFF\"},\"showarrow\":false,\"text\":\"-0.13\",\"x\":\"Interval_in_3_month\",\"xref\":\"x\",\"y\":\"isNaN\",\"yref\":\"y\"},{\"font\":{\"color\":\"#FFFFFF\"},\"showarrow\":false,\"text\":\"-0.07\",\"x\":\"Interval_in_1_year\",\"xref\":\"x\",\"y\":\"isNaN\",\"yref\":\"y\"},{\"font\":{\"color\":\"#FFFFFF\"},\"showarrow\":false,\"text\":\"0.03\",\"x\":\"Interval_more_year\",\"xref\":\"x\",\"y\":\"isNaN\",\"yref\":\"y\"},{\"font\":{\"color\":\"#FFFFFF\"},\"showarrow\":false,\"text\":\"-0.28\",\"x\":\"Text_dirty_len\",\"xref\":\"x\",\"y\":\"isNaN\",\"yref\":\"y\"},{\"font\":{\"color\":\"#000000\"},\"showarrow\":false,\"text\":\"0.19\",\"x\":\"Dates_num_1\",\"xref\":\"x\",\"y\":\"isNaN\",\"yref\":\"y\"},{\"font\":{\"color\":\"#FFFFFF\"},\"showarrow\":false,\"text\":\"-0.22\",\"x\":\"positive\",\"xref\":\"x\",\"y\":\"isNaN\",\"yref\":\"y\"},{\"font\":{\"color\":\"#FFFFFF\"},\"showarrow\":false,\"text\":\"-0.02\",\"x\":\"negative\",\"xref\":\"x\",\"y\":\"isNaN\",\"yref\":\"y\"},{\"font\":{\"color\":\"#FFFFFF\"},\"showarrow\":false,\"text\":\"-0.04\",\"x\":\"neutral\",\"xref\":\"x\",\"y\":\"isNaN\",\"yref\":\"y\"},{\"font\":{\"color\":\"#000000\"},\"showarrow\":false,\"text\":\"0.27\",\"x\":\"no_review\",\"xref\":\"x\",\"y\":\"isNaN\",\"yref\":\"y\"},{\"font\":{\"color\":\"#FFFFFF\"},\"showarrow\":false,\"text\":\"0.04\",\"x\":\"undetected\",\"xref\":\"x\",\"y\":\"isNaN\",\"yref\":\"y\"},{\"font\":{\"color\":\"#FFFFFF\"},\"showarrow\":false,\"text\":\"-0.24\",\"x\":\"Price_Range_econom\",\"xref\":\"x\",\"y\":\"isNaN\",\"yref\":\"y\"},{\"font\":{\"color\":\"#000000\"},\"showarrow\":false,\"text\":\"0.75\",\"x\":\"Price_Range_isNaN\",\"xref\":\"x\",\"y\":\"isNaN\",\"yref\":\"y\"},{\"font\":{\"color\":\"#FFFFFF\"},\"showarrow\":false,\"text\":\"-0.11\",\"x\":\"Price_Range_luxury\",\"xref\":\"x\",\"y\":\"isNaN\",\"yref\":\"y\"},{\"font\":{\"color\":\"#FFFFFF\"},\"showarrow\":false,\"text\":\"-0.51\",\"x\":\"Price_Range_regular\",\"xref\":\"x\",\"y\":\"isNaN\",\"yref\":\"y\"},{\"font\":{\"color\":\"#FFFFFF\"},\"showarrow\":false,\"text\":\"-0.02\",\"x\":\"Ranking\",\"xref\":\"x\",\"y\":\"niche\",\"yref\":\"y\"},{\"font\":{\"color\":\"#FFFFFF\"},\"showarrow\":false,\"text\":\"0.02\",\"x\":\"Rating\",\"xref\":\"x\",\"y\":\"niche\",\"yref\":\"y\"},{\"font\":{\"color\":\"#FFFFFF\"},\"showarrow\":false,\"text\":\"-0.01\",\"x\":\"Number_of_Reviews\",\"xref\":\"x\",\"y\":\"niche\",\"yref\":\"y\"},{\"font\":{\"color\":\"#FFFFFF\"},\"showarrow\":false,\"text\":\"0.01\",\"x\":\"is_franchise\",\"xref\":\"x\",\"y\":\"niche\",\"yref\":\"y\"},{\"font\":{\"color\":\"#FFFFFF\"},\"showarrow\":false,\"text\":\"0.01\",\"x\":\"Population\",\"xref\":\"x\",\"y\":\"niche\",\"yref\":\"y\"},{\"font\":{\"color\":\"#FFFFFF\"},\"showarrow\":false,\"text\":\"-0.04\",\"x\":\"isNaN\",\"xref\":\"x\",\"y\":\"niche\",\"yref\":\"y\"},{\"font\":{\"color\":\"#000000\"},\"showarrow\":false,\"text\":\"1.0\",\"x\":\"niche\",\"xref\":\"x\",\"y\":\"niche\",\"yref\":\"y\"},{\"font\":{\"color\":\"#FFFFFF\"},\"showarrow\":false,\"text\":\"-0.0\",\"x\":\"popular\",\"xref\":\"x\",\"y\":\"niche\",\"yref\":\"y\"},{\"font\":{\"color\":\"#FFFFFF\"},\"showarrow\":false,\"text\":\"0.08\",\"x\":\"regular\",\"xref\":\"x\",\"y\":\"niche\",\"yref\":\"y\"},{\"font\":{\"color\":\"#FFFFFF\"},\"showarrow\":false,\"text\":\"0.01\",\"x\":\"Interval_in_month\",\"xref\":\"x\",\"y\":\"niche\",\"yref\":\"y\"},{\"font\":{\"color\":\"#FFFFFF\"},\"showarrow\":false,\"text\":\"-0.0\",\"x\":\"Interval_in_3_month\",\"xref\":\"x\",\"y\":\"niche\",\"yref\":\"y\"},{\"font\":{\"color\":\"#FFFFFF\"},\"showarrow\":false,\"text\":\"-0.0\",\"x\":\"Interval_in_1_year\",\"xref\":\"x\",\"y\":\"niche\",\"yref\":\"y\"},{\"font\":{\"color\":\"#FFFFFF\"},\"showarrow\":false,\"text\":\"-0.0\",\"x\":\"Interval_more_year\",\"xref\":\"x\",\"y\":\"niche\",\"yref\":\"y\"},{\"font\":{\"color\":\"#FFFFFF\"},\"showarrow\":false,\"text\":\"0.0\",\"x\":\"Text_dirty_len\",\"xref\":\"x\",\"y\":\"niche\",\"yref\":\"y\"},{\"font\":{\"color\":\"#FFFFFF\"},\"showarrow\":false,\"text\":\"-0.0\",\"x\":\"Dates_num_1\",\"xref\":\"x\",\"y\":\"niche\",\"yref\":\"y\"},{\"font\":{\"color\":\"#FFFFFF\"},\"showarrow\":false,\"text\":\"0.0\",\"x\":\"positive\",\"xref\":\"x\",\"y\":\"niche\",\"yref\":\"y\"},{\"font\":{\"color\":\"#FFFFFF\"},\"showarrow\":false,\"text\":\"-0.0\",\"x\":\"negative\",\"xref\":\"x\",\"y\":\"niche\",\"yref\":\"y\"},{\"font\":{\"color\":\"#FFFFFF\"},\"showarrow\":false,\"text\":\"-0.0\",\"x\":\"neutral\",\"xref\":\"x\",\"y\":\"niche\",\"yref\":\"y\"},{\"font\":{\"color\":\"#FFFFFF\"},\"showarrow\":false,\"text\":\"-0.0\",\"x\":\"no_review\",\"xref\":\"x\",\"y\":\"niche\",\"yref\":\"y\"},{\"font\":{\"color\":\"#FFFFFF\"},\"showarrow\":false,\"text\":\"0.01\",\"x\":\"undetected\",\"xref\":\"x\",\"y\":\"niche\",\"yref\":\"y\"},{\"font\":{\"color\":\"#FFFFFF\"},\"showarrow\":false,\"text\":\"0.02\",\"x\":\"Price_Range_econom\",\"xref\":\"x\",\"y\":\"niche\",\"yref\":\"y\"},{\"font\":{\"color\":\"#FFFFFF\"},\"showarrow\":false,\"text\":\"-0.04\",\"x\":\"Price_Range_isNaN\",\"xref\":\"x\",\"y\":\"niche\",\"yref\":\"y\"},{\"font\":{\"color\":\"#FFFFFF\"},\"showarrow\":false,\"text\":\"-0.0\",\"x\":\"Price_Range_luxury\",\"xref\":\"x\",\"y\":\"niche\",\"yref\":\"y\"},{\"font\":{\"color\":\"#FFFFFF\"},\"showarrow\":false,\"text\":\"0.02\",\"x\":\"Price_Range_regular\",\"xref\":\"x\",\"y\":\"niche\",\"yref\":\"y\"},{\"font\":{\"color\":\"#FFFFFF\"},\"showarrow\":false,\"text\":\"-0.54\",\"x\":\"Ranking\",\"xref\":\"x\",\"y\":\"popular\",\"yref\":\"y\"},{\"font\":{\"color\":\"#FFFFFF\"},\"showarrow\":false,\"text\":\"0.09\",\"x\":\"Rating\",\"xref\":\"x\",\"y\":\"popular\",\"yref\":\"y\"},{\"font\":{\"color\":\"#000000\"},\"showarrow\":false,\"text\":\"0.38\",\"x\":\"Number_of_Reviews\",\"xref\":\"x\",\"y\":\"popular\",\"yref\":\"y\"},{\"font\":{\"color\":\"#000000\"},\"showarrow\":false,\"text\":\"0.16\",\"x\":\"is_franchise\",\"xref\":\"x\",\"y\":\"popular\",\"yref\":\"y\"},{\"font\":{\"color\":\"#FFFFFF\"},\"showarrow\":false,\"text\":\"0.06\",\"x\":\"Population\",\"xref\":\"x\",\"y\":\"popular\",\"yref\":\"y\"},{\"font\":{\"color\":\"#FFFFFF\"},\"showarrow\":false,\"text\":\"-0.59\",\"x\":\"isNaN\",\"xref\":\"x\",\"y\":\"popular\",\"yref\":\"y\"},{\"font\":{\"color\":\"#FFFFFF\"},\"showarrow\":false,\"text\":\"-0.0\",\"x\":\"niche\",\"xref\":\"x\",\"y\":\"popular\",\"yref\":\"y\"},{\"font\":{\"color\":\"#000000\"},\"showarrow\":false,\"text\":\"1.0\",\"x\":\"popular\",\"xref\":\"x\",\"y\":\"popular\",\"yref\":\"y\"},{\"font\":{\"color\":\"#FFFFFF\"},\"showarrow\":false,\"text\":\"0.13\",\"x\":\"regular\",\"xref\":\"x\",\"y\":\"popular\",\"yref\":\"y\"},{\"font\":{\"color\":\"#000000\"},\"showarrow\":false,\"text\":\"0.36\",\"x\":\"Interval_in_month\",\"xref\":\"x\",\"y\":\"popular\",\"yref\":\"y\"},{\"font\":{\"color\":\"#000000\"},\"showarrow\":false,\"text\":\"0.16\",\"x\":\"Interval_in_3_month\",\"xref\":\"x\",\"y\":\"popular\",\"yref\":\"y\"},{\"font\":{\"color\":\"#FFFFFF\"},\"showarrow\":false,\"text\":\"-0.0\",\"x\":\"Interval_in_1_year\",\"xref\":\"x\",\"y\":\"popular\",\"yref\":\"y\"},{\"font\":{\"color\":\"#FFFFFF\"},\"showarrow\":false,\"text\":\"-0.12\",\"x\":\"Interval_more_year\",\"xref\":\"x\",\"y\":\"popular\",\"yref\":\"y\"},{\"font\":{\"color\":\"#000000\"},\"showarrow\":false,\"text\":\"0.31\",\"x\":\"Text_dirty_len\",\"xref\":\"x\",\"y\":\"popular\",\"yref\":\"y\"},{\"font\":{\"color\":\"#FFFFFF\"},\"showarrow\":false,\"text\":\"-0.23\",\"x\":\"Dates_num_1\",\"xref\":\"x\",\"y\":\"popular\",\"yref\":\"y\"},{\"font\":{\"color\":\"#000000\"},\"showarrow\":false,\"text\":\"0.28\",\"x\":\"positive\",\"xref\":\"x\",\"y\":\"popular\",\"yref\":\"y\"},{\"font\":{\"color\":\"#FFFFFF\"},\"showarrow\":false,\"text\":\"-0.02\",\"x\":\"negative\",\"xref\":\"x\",\"y\":\"popular\",\"yref\":\"y\"},{\"font\":{\"color\":\"#FFFFFF\"},\"showarrow\":false,\"text\":\"0.02\",\"x\":\"neutral\",\"xref\":\"x\",\"y\":\"popular\",\"yref\":\"y\"},{\"font\":{\"color\":\"#FFFFFF\"},\"showarrow\":false,\"text\":\"-0.3\",\"x\":\"no_review\",\"xref\":\"x\",\"y\":\"popular\",\"yref\":\"y\"},{\"font\":{\"color\":\"#FFFFFF\"},\"showarrow\":false,\"text\":\"-0.06\",\"x\":\"undetected\",\"xref\":\"x\",\"y\":\"popular\",\"yref\":\"y\"},{\"font\":{\"color\":\"#FFFFFF\"},\"showarrow\":false,\"text\":\"0.08\",\"x\":\"Price_Range_econom\",\"xref\":\"x\",\"y\":\"popular\",\"yref\":\"y\"},{\"font\":{\"color\":\"#FFFFFF\"},\"showarrow\":false,\"text\":\"-0.62\",\"x\":\"Price_Range_isNaN\",\"xref\":\"x\",\"y\":\"popular\",\"yref\":\"y\"},{\"font\":{\"color\":\"#000000\"},\"showarrow\":false,\"text\":\"0.14\",\"x\":\"Price_Range_luxury\",\"xref\":\"x\",\"y\":\"popular\",\"yref\":\"y\"},{\"font\":{\"color\":\"#000000\"},\"showarrow\":false,\"text\":\"0.48\",\"x\":\"Price_Range_regular\",\"xref\":\"x\",\"y\":\"popular\",\"yref\":\"y\"},{\"font\":{\"color\":\"#FFFFFF\"},\"showarrow\":false,\"text\":\"-0.2\",\"x\":\"Ranking\",\"xref\":\"x\",\"y\":\"regular\",\"yref\":\"y\"},{\"font\":{\"color\":\"#FFFFFF\"},\"showarrow\":false,\"text\":\"0.09\",\"x\":\"Rating\",\"xref\":\"x\",\"y\":\"regular\",\"yref\":\"y\"},{\"font\":{\"color\":\"#000000\"},\"showarrow\":false,\"text\":\"0.14\",\"x\":\"Number_of_Reviews\",\"xref\":\"x\",\"y\":\"regular\",\"yref\":\"y\"},{\"font\":{\"color\":\"#FFFFFF\"},\"showarrow\":false,\"text\":\"0.06\",\"x\":\"is_franchise\",\"xref\":\"x\",\"y\":\"regular\",\"yref\":\"y\"},{\"font\":{\"color\":\"#FFFFFF\"},\"showarrow\":false,\"text\":\"0.01\",\"x\":\"Population\",\"xref\":\"x\",\"y\":\"regular\",\"yref\":\"y\"},{\"font\":{\"color\":\"#FFFFFF\"},\"showarrow\":false,\"text\":\"-0.32\",\"x\":\"isNaN\",\"xref\":\"x\",\"y\":\"regular\",\"yref\":\"y\"},{\"font\":{\"color\":\"#FFFFFF\"},\"showarrow\":false,\"text\":\"0.08\",\"x\":\"niche\",\"xref\":\"x\",\"y\":\"regular\",\"yref\":\"y\"},{\"font\":{\"color\":\"#FFFFFF\"},\"showarrow\":false,\"text\":\"0.13\",\"x\":\"popular\",\"xref\":\"x\",\"y\":\"regular\",\"yref\":\"y\"},{\"font\":{\"color\":\"#000000\"},\"showarrow\":false,\"text\":\"1.0\",\"x\":\"regular\",\"xref\":\"x\",\"y\":\"regular\",\"yref\":\"y\"},{\"font\":{\"color\":\"#000000\"},\"showarrow\":false,\"text\":\"0.14\",\"x\":\"Interval_in_month\",\"xref\":\"x\",\"y\":\"regular\",\"yref\":\"y\"},{\"font\":{\"color\":\"#FFFFFF\"},\"showarrow\":false,\"text\":\"0.06\",\"x\":\"Interval_in_3_month\",\"xref\":\"x\",\"y\":\"regular\",\"yref\":\"y\"},{\"font\":{\"color\":\"#FFFFFF\"},\"showarrow\":false,\"text\":\"0.01\",\"x\":\"Interval_in_1_year\",\"xref\":\"x\",\"y\":\"regular\",\"yref\":\"y\"},{\"font\":{\"color\":\"#FFFFFF\"},\"showarrow\":false,\"text\":\"-0.05\",\"x\":\"Interval_more_year\",\"xref\":\"x\",\"y\":\"regular\",\"yref\":\"y\"},{\"font\":{\"color\":\"#FFFFFF\"},\"showarrow\":false,\"text\":\"0.13\",\"x\":\"Text_dirty_len\",\"xref\":\"x\",\"y\":\"regular\",\"yref\":\"y\"},{\"font\":{\"color\":\"#FFFFFF\"},\"showarrow\":false,\"text\":\"-0.09\",\"x\":\"Dates_num_1\",\"xref\":\"x\",\"y\":\"regular\",\"yref\":\"y\"},{\"font\":{\"color\":\"#FFFFFF\"},\"showarrow\":false,\"text\":\"0.13\",\"x\":\"positive\",\"xref\":\"x\",\"y\":\"regular\",\"yref\":\"y\"},{\"font\":{\"color\":\"#FFFFFF\"},\"showarrow\":false,\"text\":\"-0.01\",\"x\":\"negative\",\"xref\":\"x\",\"y\":\"regular\",\"yref\":\"y\"},{\"font\":{\"color\":\"#FFFFFF\"},\"showarrow\":false,\"text\":\"-0.01\",\"x\":\"neutral\",\"xref\":\"x\",\"y\":\"regular\",\"yref\":\"y\"},{\"font\":{\"color\":\"#FFFFFF\"},\"showarrow\":false,\"text\":\"-0.13\",\"x\":\"no_review\",\"xref\":\"x\",\"y\":\"regular\",\"yref\":\"y\"},{\"font\":{\"color\":\"#FFFFFF\"},\"showarrow\":false,\"text\":\"-0.02\",\"x\":\"undetected\",\"xref\":\"x\",\"y\":\"regular\",\"yref\":\"y\"},{\"font\":{\"color\":\"#FFFFFF\"},\"showarrow\":false,\"text\":\"0.09\",\"x\":\"Price_Range_econom\",\"xref\":\"x\",\"y\":\"regular\",\"yref\":\"y\"},{\"font\":{\"color\":\"#FFFFFF\"},\"showarrow\":false,\"text\":\"-0.3\",\"x\":\"Price_Range_isNaN\",\"xref\":\"x\",\"y\":\"regular\",\"yref\":\"y\"},{\"font\":{\"color\":\"#FFFFFF\"},\"showarrow\":false,\"text\":\"0.03\",\"x\":\"Price_Range_luxury\",\"xref\":\"x\",\"y\":\"regular\",\"yref\":\"y\"},{\"font\":{\"color\":\"#000000\"},\"showarrow\":false,\"text\":\"0.21\",\"x\":\"Price_Range_regular\",\"xref\":\"x\",\"y\":\"regular\",\"yref\":\"y\"},{\"font\":{\"color\":\"#FFFFFF\"},\"showarrow\":false,\"text\":\"-0.36\",\"x\":\"Ranking\",\"xref\":\"x\",\"y\":\"Interval_in_month\",\"yref\":\"y\"},{\"font\":{\"color\":\"#FFFFFF\"},\"showarrow\":false,\"text\":\"0.1\",\"x\":\"Rating\",\"xref\":\"x\",\"y\":\"Interval_in_month\",\"yref\":\"y\"},{\"font\":{\"color\":\"#000000\"},\"showarrow\":false,\"text\":\"0.3\",\"x\":\"Number_of_Reviews\",\"xref\":\"x\",\"y\":\"Interval_in_month\",\"yref\":\"y\"},{\"font\":{\"color\":\"#FFFFFF\"},\"showarrow\":false,\"text\":\"0.07\",\"x\":\"is_franchise\",\"xref\":\"x\",\"y\":\"Interval_in_month\",\"yref\":\"y\"},{\"font\":{\"color\":\"#FFFFFF\"},\"showarrow\":false,\"text\":\"0.12\",\"x\":\"Population\",\"xref\":\"x\",\"y\":\"Interval_in_month\",\"yref\":\"y\"},{\"font\":{\"color\":\"#FFFFFF\"},\"showarrow\":false,\"text\":\"-0.21\",\"x\":\"isNaN\",\"xref\":\"x\",\"y\":\"Interval_in_month\",\"yref\":\"y\"},{\"font\":{\"color\":\"#FFFFFF\"},\"showarrow\":false,\"text\":\"0.01\",\"x\":\"niche\",\"xref\":\"x\",\"y\":\"Interval_in_month\",\"yref\":\"y\"},{\"font\":{\"color\":\"#000000\"},\"showarrow\":false,\"text\":\"0.36\",\"x\":\"popular\",\"xref\":\"x\",\"y\":\"Interval_in_month\",\"yref\":\"y\"},{\"font\":{\"color\":\"#000000\"},\"showarrow\":false,\"text\":\"0.14\",\"x\":\"regular\",\"xref\":\"x\",\"y\":\"Interval_in_month\",\"yref\":\"y\"},{\"font\":{\"color\":\"#000000\"},\"showarrow\":false,\"text\":\"1.0\",\"x\":\"Interval_in_month\",\"xref\":\"x\",\"y\":\"Interval_in_month\",\"yref\":\"y\"},{\"font\":{\"color\":\"#FFFFFF\"},\"showarrow\":false,\"text\":\"-0.26\",\"x\":\"Interval_in_3_month\",\"xref\":\"x\",\"y\":\"Interval_in_month\",\"yref\":\"y\"},{\"font\":{\"color\":\"#FFFFFF\"},\"showarrow\":false,\"text\":\"-0.31\",\"x\":\"Interval_in_1_year\",\"xref\":\"x\",\"y\":\"Interval_in_month\",\"yref\":\"y\"},{\"font\":{\"color\":\"#FFFFFF\"},\"showarrow\":false,\"text\":\"-0.15\",\"x\":\"Interval_more_year\",\"xref\":\"x\",\"y\":\"Interval_in_month\",\"yref\":\"y\"},{\"font\":{\"color\":\"#000000\"},\"showarrow\":false,\"text\":\"0.25\",\"x\":\"Text_dirty_len\",\"xref\":\"x\",\"y\":\"Interval_in_month\",\"yref\":\"y\"},{\"font\":{\"color\":\"#FFFFFF\"},\"showarrow\":false,\"text\":\"-0.2\",\"x\":\"Dates_num_1\",\"xref\":\"x\",\"y\":\"Interval_in_month\",\"yref\":\"y\"},{\"font\":{\"color\":\"#000000\"},\"showarrow\":false,\"text\":\"0.2\",\"x\":\"positive\",\"xref\":\"x\",\"y\":\"Interval_in_month\",\"yref\":\"y\"},{\"font\":{\"color\":\"#FFFFFF\"},\"showarrow\":false,\"text\":\"-0.0\",\"x\":\"negative\",\"xref\":\"x\",\"y\":\"Interval_in_month\",\"yref\":\"y\"},{\"font\":{\"color\":\"#FFFFFF\"},\"showarrow\":false,\"text\":\"0.02\",\"x\":\"neutral\",\"xref\":\"x\",\"y\":\"Interval_in_month\",\"yref\":\"y\"},{\"font\":{\"color\":\"#FFFFFF\"},\"showarrow\":false,\"text\":\"-0.24\",\"x\":\"no_review\",\"xref\":\"x\",\"y\":\"Interval_in_month\",\"yref\":\"y\"},{\"font\":{\"color\":\"#FFFFFF\"},\"showarrow\":false,\"text\":\"-0.03\",\"x\":\"undetected\",\"xref\":\"x\",\"y\":\"Interval_in_month\",\"yref\":\"y\"},{\"font\":{\"color\":\"#FFFFFF\"},\"showarrow\":false,\"text\":\"0.02\",\"x\":\"Price_Range_econom\",\"xref\":\"x\",\"y\":\"Interval_in_month\",\"yref\":\"y\"},{\"font\":{\"color\":\"#FFFFFF\"},\"showarrow\":false,\"text\":\"-0.28\",\"x\":\"Price_Range_isNaN\",\"xref\":\"x\",\"y\":\"Interval_in_month\",\"yref\":\"y\"},{\"font\":{\"color\":\"#FFFFFF\"},\"showarrow\":false,\"text\":\"0.1\",\"x\":\"Price_Range_luxury\",\"xref\":\"x\",\"y\":\"Interval_in_month\",\"yref\":\"y\"},{\"font\":{\"color\":\"#000000\"},\"showarrow\":false,\"text\":\"0.22\",\"x\":\"Price_Range_regular\",\"xref\":\"x\",\"y\":\"Interval_in_month\",\"yref\":\"y\"},{\"font\":{\"color\":\"#FFFFFF\"},\"showarrow\":false,\"text\":\"-0.14\",\"x\":\"Ranking\",\"xref\":\"x\",\"y\":\"Interval_in_3_month\",\"yref\":\"y\"},{\"font\":{\"color\":\"#FFFFFF\"},\"showarrow\":false,\"text\":\"0.0\",\"x\":\"Rating\",\"xref\":\"x\",\"y\":\"Interval_in_3_month\",\"yref\":\"y\"},{\"font\":{\"color\":\"#FFFFFF\"},\"showarrow\":false,\"text\":\"0.03\",\"x\":\"Number_of_Reviews\",\"xref\":\"x\",\"y\":\"Interval_in_3_month\",\"yref\":\"y\"},{\"font\":{\"color\":\"#FFFFFF\"},\"showarrow\":false,\"text\":\"0.01\",\"x\":\"is_franchise\",\"xref\":\"x\",\"y\":\"Interval_in_3_month\",\"yref\":\"y\"},{\"font\":{\"color\":\"#FFFFFF\"},\"showarrow\":false,\"text\":\"0.04\",\"x\":\"Population\",\"xref\":\"x\",\"y\":\"Interval_in_3_month\",\"yref\":\"y\"},{\"font\":{\"color\":\"#FFFFFF\"},\"showarrow\":false,\"text\":\"-0.13\",\"x\":\"isNaN\",\"xref\":\"x\",\"y\":\"Interval_in_3_month\",\"yref\":\"y\"},{\"font\":{\"color\":\"#FFFFFF\"},\"showarrow\":false,\"text\":\"-0.0\",\"x\":\"niche\",\"xref\":\"x\",\"y\":\"Interval_in_3_month\",\"yref\":\"y\"},{\"font\":{\"color\":\"#000000\"},\"showarrow\":false,\"text\":\"0.16\",\"x\":\"popular\",\"xref\":\"x\",\"y\":\"Interval_in_3_month\",\"yref\":\"y\"},{\"font\":{\"color\":\"#FFFFFF\"},\"showarrow\":false,\"text\":\"0.06\",\"x\":\"regular\",\"xref\":\"x\",\"y\":\"Interval_in_3_month\",\"yref\":\"y\"},{\"font\":{\"color\":\"#FFFFFF\"},\"showarrow\":false,\"text\":\"-0.26\",\"x\":\"Interval_in_month\",\"xref\":\"x\",\"y\":\"Interval_in_3_month\",\"yref\":\"y\"},{\"font\":{\"color\":\"#000000\"},\"showarrow\":false,\"text\":\"1.0\",\"x\":\"Interval_in_3_month\",\"xref\":\"x\",\"y\":\"Interval_in_3_month\",\"yref\":\"y\"},{\"font\":{\"color\":\"#FFFFFF\"},\"showarrow\":false,\"text\":\"-0.27\",\"x\":\"Interval_in_1_year\",\"xref\":\"x\",\"y\":\"Interval_in_3_month\",\"yref\":\"y\"},{\"font\":{\"color\":\"#FFFFFF\"},\"showarrow\":false,\"text\":\"-0.13\",\"x\":\"Interval_more_year\",\"xref\":\"x\",\"y\":\"Interval_in_3_month\",\"yref\":\"y\"},{\"font\":{\"color\":\"#000000\"},\"showarrow\":false,\"text\":\"0.23\",\"x\":\"Text_dirty_len\",\"xref\":\"x\",\"y\":\"Interval_in_3_month\",\"yref\":\"y\"},{\"font\":{\"color\":\"#FFFFFF\"},\"showarrow\":false,\"text\":\"-0.17\",\"x\":\"Dates_num_1\",\"xref\":\"x\",\"y\":\"Interval_in_3_month\",\"yref\":\"y\"},{\"font\":{\"color\":\"#000000\"},\"showarrow\":false,\"text\":\"0.17\",\"x\":\"positive\",\"xref\":\"x\",\"y\":\"Interval_in_3_month\",\"yref\":\"y\"},{\"font\":{\"color\":\"#FFFFFF\"},\"showarrow\":false,\"text\":\"0.03\",\"x\":\"negative\",\"xref\":\"x\",\"y\":\"Interval_in_3_month\",\"yref\":\"y\"},{\"font\":{\"color\":\"#FFFFFF\"},\"showarrow\":false,\"text\":\"0.03\",\"x\":\"neutral\",\"xref\":\"x\",\"y\":\"Interval_in_3_month\",\"yref\":\"y\"},{\"font\":{\"color\":\"#FFFFFF\"},\"showarrow\":false,\"text\":\"-0.21\",\"x\":\"no_review\",\"xref\":\"x\",\"y\":\"Interval_in_3_month\",\"yref\":\"y\"},{\"font\":{\"color\":\"#FFFFFF\"},\"showarrow\":false,\"text\":\"-0.02\",\"x\":\"undetected\",\"xref\":\"x\",\"y\":\"Interval_in_3_month\",\"yref\":\"y\"},{\"font\":{\"color\":\"#FFFFFF\"},\"showarrow\":false,\"text\":\"0.05\",\"x\":\"Price_Range_econom\",\"xref\":\"x\",\"y\":\"Interval_in_3_month\",\"yref\":\"y\"},{\"font\":{\"color\":\"#FFFFFF\"},\"showarrow\":false,\"text\":\"-0.19\",\"x\":\"Price_Range_isNaN\",\"xref\":\"x\",\"y\":\"Interval_in_3_month\",\"yref\":\"y\"},{\"font\":{\"color\":\"#FFFFFF\"},\"showarrow\":false,\"text\":\"0.02\",\"x\":\"Price_Range_luxury\",\"xref\":\"x\",\"y\":\"Interval_in_3_month\",\"yref\":\"y\"},{\"font\":{\"color\":\"#000000\"},\"showarrow\":false,\"text\":\"0.14\",\"x\":\"Price_Range_regular\",\"xref\":\"x\",\"y\":\"Interval_in_3_month\",\"yref\":\"y\"},{\"font\":{\"color\":\"#FFFFFF\"},\"showarrow\":false,\"text\":\"0.01\",\"x\":\"Ranking\",\"xref\":\"x\",\"y\":\"Interval_in_1_year\",\"yref\":\"y\"},{\"font\":{\"color\":\"#FFFFFF\"},\"showarrow\":false,\"text\":\"-0.06\",\"x\":\"Rating\",\"xref\":\"x\",\"y\":\"Interval_in_1_year\",\"yref\":\"y\"},{\"font\":{\"color\":\"#FFFFFF\"},\"showarrow\":false,\"text\":\"-0.06\",\"x\":\"Number_of_Reviews\",\"xref\":\"x\",\"y\":\"Interval_in_1_year\",\"yref\":\"y\"},{\"font\":{\"color\":\"#FFFFFF\"},\"showarrow\":false,\"text\":\"-0.03\",\"x\":\"is_franchise\",\"xref\":\"x\",\"y\":\"Interval_in_1_year\",\"yref\":\"y\"},{\"font\":{\"color\":\"#FFFFFF\"},\"showarrow\":false,\"text\":\"0.01\",\"x\":\"Population\",\"xref\":\"x\",\"y\":\"Interval_in_1_year\",\"yref\":\"y\"},{\"font\":{\"color\":\"#FFFFFF\"},\"showarrow\":false,\"text\":\"-0.07\",\"x\":\"isNaN\",\"xref\":\"x\",\"y\":\"Interval_in_1_year\",\"yref\":\"y\"},{\"font\":{\"color\":\"#FFFFFF\"},\"showarrow\":false,\"text\":\"-0.0\",\"x\":\"niche\",\"xref\":\"x\",\"y\":\"Interval_in_1_year\",\"yref\":\"y\"},{\"font\":{\"color\":\"#FFFFFF\"},\"showarrow\":false,\"text\":\"-0.0\",\"x\":\"popular\",\"xref\":\"x\",\"y\":\"Interval_in_1_year\",\"yref\":\"y\"},{\"font\":{\"color\":\"#FFFFFF\"},\"showarrow\":false,\"text\":\"0.01\",\"x\":\"regular\",\"xref\":\"x\",\"y\":\"Interval_in_1_year\",\"yref\":\"y\"},{\"font\":{\"color\":\"#FFFFFF\"},\"showarrow\":false,\"text\":\"-0.31\",\"x\":\"Interval_in_month\",\"xref\":\"x\",\"y\":\"Interval_in_1_year\",\"yref\":\"y\"},{\"font\":{\"color\":\"#FFFFFF\"},\"showarrow\":false,\"text\":\"-0.27\",\"x\":\"Interval_in_3_month\",\"xref\":\"x\",\"y\":\"Interval_in_1_year\",\"yref\":\"y\"},{\"font\":{\"color\":\"#000000\"},\"showarrow\":false,\"text\":\"1.0\",\"x\":\"Interval_in_1_year\",\"xref\":\"x\",\"y\":\"Interval_in_1_year\",\"yref\":\"y\"},{\"font\":{\"color\":\"#FFFFFF\"},\"showarrow\":false,\"text\":\"-0.15\",\"x\":\"Interval_more_year\",\"xref\":\"x\",\"y\":\"Interval_in_1_year\",\"yref\":\"y\"},{\"font\":{\"color\":\"#000000\"},\"showarrow\":false,\"text\":\"0.27\",\"x\":\"Text_dirty_len\",\"xref\":\"x\",\"y\":\"Interval_in_1_year\",\"yref\":\"y\"},{\"font\":{\"color\":\"#FFFFFF\"},\"showarrow\":false,\"text\":\"-0.2\",\"x\":\"Dates_num_1\",\"xref\":\"x\",\"y\":\"Interval_in_1_year\",\"yref\":\"y\"},{\"font\":{\"color\":\"#000000\"},\"showarrow\":false,\"text\":\"0.16\",\"x\":\"positive\",\"xref\":\"x\",\"y\":\"Interval_in_1_year\",\"yref\":\"y\"},{\"font\":{\"color\":\"#FFFFFF\"},\"showarrow\":false,\"text\":\"0.08\",\"x\":\"negative\",\"xref\":\"x\",\"y\":\"Interval_in_1_year\",\"yref\":\"y\"},{\"font\":{\"color\":\"#FFFFFF\"},\"showarrow\":false,\"text\":\"0.06\",\"x\":\"neutral\",\"xref\":\"x\",\"y\":\"Interval_in_1_year\",\"yref\":\"y\"},{\"font\":{\"color\":\"#FFFFFF\"},\"showarrow\":false,\"text\":\"-0.25\",\"x\":\"no_review\",\"xref\":\"x\",\"y\":\"Interval_in_1_year\",\"yref\":\"y\"},{\"font\":{\"color\":\"#FFFFFF\"},\"showarrow\":false,\"text\":\"-0.02\",\"x\":\"undetected\",\"xref\":\"x\",\"y\":\"Interval_in_1_year\",\"yref\":\"y\"},{\"font\":{\"color\":\"#FFFFFF\"},\"showarrow\":false,\"text\":\"0.05\",\"x\":\"Price_Range_econom\",\"xref\":\"x\",\"y\":\"Interval_in_1_year\",\"yref\":\"y\"},{\"font\":{\"color\":\"#FFFFFF\"},\"showarrow\":false,\"text\":\"-0.12\",\"x\":\"Price_Range_isNaN\",\"xref\":\"x\",\"y\":\"Interval_in_1_year\",\"yref\":\"y\"},{\"font\":{\"color\":\"#FFFFFF\"},\"showarrow\":false,\"text\":\"-0.02\",\"x\":\"Price_Range_luxury\",\"xref\":\"x\",\"y\":\"Interval_in_1_year\",\"yref\":\"y\"},{\"font\":{\"color\":\"#FFFFFF\"},\"showarrow\":false,\"text\":\"0.08\",\"x\":\"Price_Range_regular\",\"xref\":\"x\",\"y\":\"Interval_in_1_year\",\"yref\":\"y\"},{\"font\":{\"color\":\"#FFFFFF\"},\"showarrow\":false,\"text\":\"0.12\",\"x\":\"Ranking\",\"xref\":\"x\",\"y\":\"Interval_more_year\",\"yref\":\"y\"},{\"font\":{\"color\":\"#FFFFFF\"},\"showarrow\":false,\"text\":\"-0.05\",\"x\":\"Rating\",\"xref\":\"x\",\"y\":\"Interval_more_year\",\"yref\":\"y\"},{\"font\":{\"color\":\"#FFFFFF\"},\"showarrow\":false,\"text\":\"-0.07\",\"x\":\"Number_of_Reviews\",\"xref\":\"x\",\"y\":\"Interval_more_year\",\"yref\":\"y\"},{\"font\":{\"color\":\"#FFFFFF\"},\"showarrow\":false,\"text\":\"-0.04\",\"x\":\"is_franchise\",\"xref\":\"x\",\"y\":\"Interval_more_year\",\"yref\":\"y\"},{\"font\":{\"color\":\"#FFFFFF\"},\"showarrow\":false,\"text\":\"-0.03\",\"x\":\"Population\",\"xref\":\"x\",\"y\":\"Interval_more_year\",\"yref\":\"y\"},{\"font\":{\"color\":\"#FFFFFF\"},\"showarrow\":false,\"text\":\"0.03\",\"x\":\"isNaN\",\"xref\":\"x\",\"y\":\"Interval_more_year\",\"yref\":\"y\"},{\"font\":{\"color\":\"#FFFFFF\"},\"showarrow\":false,\"text\":\"-0.0\",\"x\":\"niche\",\"xref\":\"x\",\"y\":\"Interval_more_year\",\"yref\":\"y\"},{\"font\":{\"color\":\"#FFFFFF\"},\"showarrow\":false,\"text\":\"-0.12\",\"x\":\"popular\",\"xref\":\"x\",\"y\":\"Interval_more_year\",\"yref\":\"y\"},{\"font\":{\"color\":\"#FFFFFF\"},\"showarrow\":false,\"text\":\"-0.05\",\"x\":\"regular\",\"xref\":\"x\",\"y\":\"Interval_more_year\",\"yref\":\"y\"},{\"font\":{\"color\":\"#FFFFFF\"},\"showarrow\":false,\"text\":\"-0.15\",\"x\":\"Interval_in_month\",\"xref\":\"x\",\"y\":\"Interval_more_year\",\"yref\":\"y\"},{\"font\":{\"color\":\"#FFFFFF\"},\"showarrow\":false,\"text\":\"-0.13\",\"x\":\"Interval_in_3_month\",\"xref\":\"x\",\"y\":\"Interval_more_year\",\"yref\":\"y\"},{\"font\":{\"color\":\"#FFFFFF\"},\"showarrow\":false,\"text\":\"-0.15\",\"x\":\"Interval_in_1_year\",\"xref\":\"x\",\"y\":\"Interval_more_year\",\"yref\":\"y\"},{\"font\":{\"color\":\"#000000\"},\"showarrow\":false,\"text\":\"1.0\",\"x\":\"Interval_more_year\",\"xref\":\"x\",\"y\":\"Interval_more_year\",\"yref\":\"y\"},{\"font\":{\"color\":\"#FFFFFF\"},\"showarrow\":false,\"text\":\"0.13\",\"x\":\"Text_dirty_len\",\"xref\":\"x\",\"y\":\"Interval_more_year\",\"yref\":\"y\"},{\"font\":{\"color\":\"#FFFFFF\"},\"showarrow\":false,\"text\":\"-0.1\",\"x\":\"Dates_num_1\",\"xref\":\"x\",\"y\":\"Interval_more_year\",\"yref\":\"y\"},{\"font\":{\"color\":\"#FFFFFF\"},\"showarrow\":false,\"text\":\"0.07\",\"x\":\"positive\",\"xref\":\"x\",\"y\":\"Interval_more_year\",\"yref\":\"y\"},{\"font\":{\"color\":\"#FFFFFF\"},\"showarrow\":false,\"text\":\"0.05\",\"x\":\"negative\",\"xref\":\"x\",\"y\":\"Interval_more_year\",\"yref\":\"y\"},{\"font\":{\"color\":\"#FFFFFF\"},\"showarrow\":false,\"text\":\"0.03\",\"x\":\"neutral\",\"xref\":\"x\",\"y\":\"Interval_more_year\",\"yref\":\"y\"},{\"font\":{\"color\":\"#FFFFFF\"},\"showarrow\":false,\"text\":\"-0.12\",\"x\":\"no_review\",\"xref\":\"x\",\"y\":\"Interval_more_year\",\"yref\":\"y\"},{\"font\":{\"color\":\"#FFFFFF\"},\"showarrow\":false,\"text\":\"-0.01\",\"x\":\"undetected\",\"xref\":\"x\",\"y\":\"Interval_more_year\",\"yref\":\"y\"},{\"font\":{\"color\":\"#FFFFFF\"},\"showarrow\":false,\"text\":\"0.02\",\"x\":\"Price_Range_econom\",\"xref\":\"x\",\"y\":\"Interval_more_year\",\"yref\":\"y\"},{\"font\":{\"color\":\"#FFFFFF\"},\"showarrow\":false,\"text\":\"0.06\",\"x\":\"Price_Range_isNaN\",\"xref\":\"x\",\"y\":\"Interval_more_year\",\"yref\":\"y\"},{\"font\":{\"color\":\"#FFFFFF\"},\"showarrow\":false,\"text\":\"-0.03\",\"x\":\"Price_Range_luxury\",\"xref\":\"x\",\"y\":\"Interval_more_year\",\"yref\":\"y\"},{\"font\":{\"color\":\"#FFFFFF\"},\"showarrow\":false,\"text\":\"-0.06\",\"x\":\"Price_Range_regular\",\"xref\":\"x\",\"y\":\"Interval_more_year\",\"yref\":\"y\"},{\"font\":{\"color\":\"#FFFFFF\"},\"showarrow\":false,\"text\":\"-0.31\",\"x\":\"Ranking\",\"xref\":\"x\",\"y\":\"Text_dirty_len\",\"yref\":\"y\"},{\"font\":{\"color\":\"#FFFFFF\"},\"showarrow\":false,\"text\":\"0.03\",\"x\":\"Rating\",\"xref\":\"x\",\"y\":\"Text_dirty_len\",\"yref\":\"y\"},{\"font\":{\"color\":\"#000000\"},\"showarrow\":false,\"text\":\"0.16\",\"x\":\"Number_of_Reviews\",\"xref\":\"x\",\"y\":\"Text_dirty_len\",\"yref\":\"y\"},{\"font\":{\"color\":\"#FFFFFF\"},\"showarrow\":false,\"text\":\"0.03\",\"x\":\"is_franchise\",\"xref\":\"x\",\"y\":\"Text_dirty_len\",\"yref\":\"y\"},{\"font\":{\"color\":\"#FFFFFF\"},\"showarrow\":false,\"text\":\"0.1\",\"x\":\"Population\",\"xref\":\"x\",\"y\":\"Text_dirty_len\",\"yref\":\"y\"},{\"font\":{\"color\":\"#FFFFFF\"},\"showarrow\":false,\"text\":\"-0.28\",\"x\":\"isNaN\",\"xref\":\"x\",\"y\":\"Text_dirty_len\",\"yref\":\"y\"},{\"font\":{\"color\":\"#FFFFFF\"},\"showarrow\":false,\"text\":\"0.0\",\"x\":\"niche\",\"xref\":\"x\",\"y\":\"Text_dirty_len\",\"yref\":\"y\"},{\"font\":{\"color\":\"#000000\"},\"showarrow\":false,\"text\":\"0.31\",\"x\":\"popular\",\"xref\":\"x\",\"y\":\"Text_dirty_len\",\"yref\":\"y\"},{\"font\":{\"color\":\"#FFFFFF\"},\"showarrow\":false,\"text\":\"0.13\",\"x\":\"regular\",\"xref\":\"x\",\"y\":\"Text_dirty_len\",\"yref\":\"y\"},{\"font\":{\"color\":\"#000000\"},\"showarrow\":false,\"text\":\"0.25\",\"x\":\"Interval_in_month\",\"xref\":\"x\",\"y\":\"Text_dirty_len\",\"yref\":\"y\"},{\"font\":{\"color\":\"#000000\"},\"showarrow\":false,\"text\":\"0.23\",\"x\":\"Interval_in_3_month\",\"xref\":\"x\",\"y\":\"Text_dirty_len\",\"yref\":\"y\"},{\"font\":{\"color\":\"#000000\"},\"showarrow\":false,\"text\":\"0.27\",\"x\":\"Interval_in_1_year\",\"xref\":\"x\",\"y\":\"Text_dirty_len\",\"yref\":\"y\"},{\"font\":{\"color\":\"#FFFFFF\"},\"showarrow\":false,\"text\":\"0.13\",\"x\":\"Interval_more_year\",\"xref\":\"x\",\"y\":\"Text_dirty_len\",\"yref\":\"y\"},{\"font\":{\"color\":\"#000000\"},\"showarrow\":false,\"text\":\"1.0\",\"x\":\"Text_dirty_len\",\"xref\":\"x\",\"y\":\"Text_dirty_len\",\"yref\":\"y\"},{\"font\":{\"color\":\"#FFFFFF\"},\"showarrow\":false,\"text\":\"-0.22\",\"x\":\"Dates_num_1\",\"xref\":\"x\",\"y\":\"Text_dirty_len\",\"yref\":\"y\"},{\"font\":{\"color\":\"#000000\"},\"showarrow\":false,\"text\":\"0.6\",\"x\":\"positive\",\"xref\":\"x\",\"y\":\"Text_dirty_len\",\"yref\":\"y\"},{\"font\":{\"color\":\"#FFFFFF\"},\"showarrow\":false,\"text\":\"0.13\",\"x\":\"negative\",\"xref\":\"x\",\"y\":\"Text_dirty_len\",\"yref\":\"y\"},{\"font\":{\"color\":\"#FFFFFF\"},\"showarrow\":false,\"text\":\"0.13\",\"x\":\"neutral\",\"xref\":\"x\",\"y\":\"Text_dirty_len\",\"yref\":\"y\"},{\"font\":{\"color\":\"#FFFFFF\"},\"showarrow\":false,\"text\":\"-0.74\",\"x\":\"no_review\",\"xref\":\"x\",\"y\":\"Text_dirty_len\",\"yref\":\"y\"},{\"font\":{\"color\":\"#FFFFFF\"},\"showarrow\":false,\"text\":\"-0.04\",\"x\":\"undetected\",\"xref\":\"x\",\"y\":\"Text_dirty_len\",\"yref\":\"y\"},{\"font\":{\"color\":\"#FFFFFF\"},\"showarrow\":false,\"text\":\"0.09\",\"x\":\"Price_Range_econom\",\"xref\":\"x\",\"y\":\"Text_dirty_len\",\"yref\":\"y\"},{\"font\":{\"color\":\"#FFFFFF\"},\"showarrow\":false,\"text\":\"-0.42\",\"x\":\"Price_Range_isNaN\",\"xref\":\"x\",\"y\":\"Text_dirty_len\",\"yref\":\"y\"},{\"font\":{\"color\":\"#FFFFFF\"},\"showarrow\":false,\"text\":\"0.07\",\"x\":\"Price_Range_luxury\",\"xref\":\"x\",\"y\":\"Text_dirty_len\",\"yref\":\"y\"},{\"font\":{\"color\":\"#000000\"},\"showarrow\":false,\"text\":\"0.31\",\"x\":\"Price_Range_regular\",\"xref\":\"x\",\"y\":\"Text_dirty_len\",\"yref\":\"y\"},{\"font\":{\"color\":\"#000000\"},\"showarrow\":false,\"text\":\"0.21\",\"x\":\"Ranking\",\"xref\":\"x\",\"y\":\"Dates_num_1\",\"yref\":\"y\"},{\"font\":{\"color\":\"#FFFFFF\"},\"showarrow\":false,\"text\":\"0.01\",\"x\":\"Rating\",\"xref\":\"x\",\"y\":\"Dates_num_1\",\"yref\":\"y\"},{\"font\":{\"color\":\"#FFFFFF\"},\"showarrow\":false,\"text\":\"-0.12\",\"x\":\"Number_of_Reviews\",\"xref\":\"x\",\"y\":\"Dates_num_1\",\"yref\":\"y\"},{\"font\":{\"color\":\"#FFFFFF\"},\"showarrow\":false,\"text\":\"-0.04\",\"x\":\"is_franchise\",\"xref\":\"x\",\"y\":\"Dates_num_1\",\"yref\":\"y\"},{\"font\":{\"color\":\"#FFFFFF\"},\"showarrow\":false,\"text\":\"-0.05\",\"x\":\"Population\",\"xref\":\"x\",\"y\":\"Dates_num_1\",\"yref\":\"y\"},{\"font\":{\"color\":\"#000000\"},\"showarrow\":false,\"text\":\"0.19\",\"x\":\"isNaN\",\"xref\":\"x\",\"y\":\"Dates_num_1\",\"yref\":\"y\"},{\"font\":{\"color\":\"#FFFFFF\"},\"showarrow\":false,\"text\":\"-0.0\",\"x\":\"niche\",\"xref\":\"x\",\"y\":\"Dates_num_1\",\"yref\":\"y\"},{\"font\":{\"color\":\"#FFFFFF\"},\"showarrow\":false,\"text\":\"-0.23\",\"x\":\"popular\",\"xref\":\"x\",\"y\":\"Dates_num_1\",\"yref\":\"y\"},{\"font\":{\"color\":\"#FFFFFF\"},\"showarrow\":false,\"text\":\"-0.09\",\"x\":\"regular\",\"xref\":\"x\",\"y\":\"Dates_num_1\",\"yref\":\"y\"},{\"font\":{\"color\":\"#FFFFFF\"},\"showarrow\":false,\"text\":\"-0.2\",\"x\":\"Interval_in_month\",\"xref\":\"x\",\"y\":\"Dates_num_1\",\"yref\":\"y\"},{\"font\":{\"color\":\"#FFFFFF\"},\"showarrow\":false,\"text\":\"-0.17\",\"x\":\"Interval_in_3_month\",\"xref\":\"x\",\"y\":\"Dates_num_1\",\"yref\":\"y\"},{\"font\":{\"color\":\"#FFFFFF\"},\"showarrow\":false,\"text\":\"-0.2\",\"x\":\"Interval_in_1_year\",\"xref\":\"x\",\"y\":\"Dates_num_1\",\"yref\":\"y\"},{\"font\":{\"color\":\"#FFFFFF\"},\"showarrow\":false,\"text\":\"-0.1\",\"x\":\"Interval_more_year\",\"xref\":\"x\",\"y\":\"Dates_num_1\",\"yref\":\"y\"},{\"font\":{\"color\":\"#FFFFFF\"},\"showarrow\":false,\"text\":\"-0.22\",\"x\":\"Text_dirty_len\",\"xref\":\"x\",\"y\":\"Dates_num_1\",\"yref\":\"y\"},{\"font\":{\"color\":\"#000000\"},\"showarrow\":false,\"text\":\"1.0\",\"x\":\"Dates_num_1\",\"xref\":\"x\",\"y\":\"Dates_num_1\",\"yref\":\"y\"},{\"font\":{\"color\":\"#FFFFFF\"},\"showarrow\":false,\"text\":\"-0.16\",\"x\":\"positive\",\"xref\":\"x\",\"y\":\"Dates_num_1\",\"yref\":\"y\"},{\"font\":{\"color\":\"#FFFFFF\"},\"showarrow\":false,\"text\":\"-0.03\",\"x\":\"negative\",\"xref\":\"x\",\"y\":\"Dates_num_1\",\"yref\":\"y\"},{\"font\":{\"color\":\"#FFFFFF\"},\"showarrow\":false,\"text\":\"-0.03\",\"x\":\"neutral\",\"xref\":\"x\",\"y\":\"Dates_num_1\",\"yref\":\"y\"},{\"font\":{\"color\":\"#FFFFFF\"},\"showarrow\":false,\"text\":\"-0.16\",\"x\":\"no_review\",\"xref\":\"x\",\"y\":\"Dates_num_1\",\"yref\":\"y\"},{\"font\":{\"color\":\"#000000\"},\"showarrow\":false,\"text\":\"0.26\",\"x\":\"undetected\",\"xref\":\"x\",\"y\":\"Dates_num_1\",\"yref\":\"y\"},{\"font\":{\"color\":\"#FFFFFF\"},\"showarrow\":false,\"text\":\"-0.02\",\"x\":\"Price_Range_econom\",\"xref\":\"x\",\"y\":\"Dates_num_1\",\"yref\":\"y\"},{\"font\":{\"color\":\"#000000\"},\"showarrow\":false,\"text\":\"0.24\",\"x\":\"Price_Range_isNaN\",\"xref\":\"x\",\"y\":\"Dates_num_1\",\"yref\":\"y\"},{\"font\":{\"color\":\"#FFFFFF\"},\"showarrow\":false,\"text\":\"-0.05\",\"x\":\"Price_Range_luxury\",\"xref\":\"x\",\"y\":\"Dates_num_1\",\"yref\":\"y\"},{\"font\":{\"color\":\"#FFFFFF\"},\"showarrow\":false,\"text\":\"-0.2\",\"x\":\"Price_Range_regular\",\"xref\":\"x\",\"y\":\"Dates_num_1\",\"yref\":\"y\"},{\"font\":{\"color\":\"#FFFFFF\"},\"showarrow\":false,\"text\":\"-0.37\",\"x\":\"Ranking\",\"xref\":\"x\",\"y\":\"positive\",\"yref\":\"y\"},{\"font\":{\"color\":\"#000000\"},\"showarrow\":false,\"text\":\"0.17\",\"x\":\"Rating\",\"xref\":\"x\",\"y\":\"positive\",\"yref\":\"y\"},{\"font\":{\"color\":\"#000000\"},\"showarrow\":false,\"text\":\"0.14\",\"x\":\"Number_of_Reviews\",\"xref\":\"x\",\"y\":\"positive\",\"yref\":\"y\"},{\"font\":{\"color\":\"#FFFFFF\"},\"showarrow\":false,\"text\":\"0.09\",\"x\":\"is_franchise\",\"xref\":\"x\",\"y\":\"positive\",\"yref\":\"y\"},{\"font\":{\"color\":\"#FFFFFF\"},\"showarrow\":false,\"text\":\"0.04\",\"x\":\"Population\",\"xref\":\"x\",\"y\":\"positive\",\"yref\":\"y\"},{\"font\":{\"color\":\"#FFFFFF\"},\"showarrow\":false,\"text\":\"-0.22\",\"x\":\"isNaN\",\"xref\":\"x\",\"y\":\"positive\",\"yref\":\"y\"},{\"font\":{\"color\":\"#FFFFFF\"},\"showarrow\":false,\"text\":\"0.0\",\"x\":\"niche\",\"xref\":\"x\",\"y\":\"positive\",\"yref\":\"y\"},{\"font\":{\"color\":\"#000000\"},\"showarrow\":false,\"text\":\"0.28\",\"x\":\"popular\",\"xref\":\"x\",\"y\":\"positive\",\"yref\":\"y\"},{\"font\":{\"color\":\"#FFFFFF\"},\"showarrow\":false,\"text\":\"0.13\",\"x\":\"regular\",\"xref\":\"x\",\"y\":\"positive\",\"yref\":\"y\"},{\"font\":{\"color\":\"#000000\"},\"showarrow\":false,\"text\":\"0.2\",\"x\":\"Interval_in_month\",\"xref\":\"x\",\"y\":\"positive\",\"yref\":\"y\"},{\"font\":{\"color\":\"#000000\"},\"showarrow\":false,\"text\":\"0.17\",\"x\":\"Interval_in_3_month\",\"xref\":\"x\",\"y\":\"positive\",\"yref\":\"y\"},{\"font\":{\"color\":\"#000000\"},\"showarrow\":false,\"text\":\"0.16\",\"x\":\"Interval_in_1_year\",\"xref\":\"x\",\"y\":\"positive\",\"yref\":\"y\"},{\"font\":{\"color\":\"#FFFFFF\"},\"showarrow\":false,\"text\":\"0.07\",\"x\":\"Interval_more_year\",\"xref\":\"x\",\"y\":\"positive\",\"yref\":\"y\"},{\"font\":{\"color\":\"#000000\"},\"showarrow\":false,\"text\":\"0.6\",\"x\":\"Text_dirty_len\",\"xref\":\"x\",\"y\":\"positive\",\"yref\":\"y\"},{\"font\":{\"color\":\"#FFFFFF\"},\"showarrow\":false,\"text\":\"-0.16\",\"x\":\"Dates_num_1\",\"xref\":\"x\",\"y\":\"positive\",\"yref\":\"y\"},{\"font\":{\"color\":\"#000000\"},\"showarrow\":false,\"text\":\"1.0\",\"x\":\"positive\",\"xref\":\"x\",\"y\":\"positive\",\"yref\":\"y\"},{\"font\":{\"color\":\"#FFFFFF\"},\"showarrow\":false,\"text\":\"-0.09\",\"x\":\"negative\",\"xref\":\"x\",\"y\":\"positive\",\"yref\":\"y\"},{\"font\":{\"color\":\"#FFFFFF\"},\"showarrow\":false,\"text\":\"-0.02\",\"x\":\"neutral\",\"xref\":\"x\",\"y\":\"positive\",\"yref\":\"y\"},{\"font\":{\"color\":\"#FFFFFF\"},\"showarrow\":false,\"text\":\"-0.51\",\"x\":\"no_review\",\"xref\":\"x\",\"y\":\"positive\",\"yref\":\"y\"},{\"font\":{\"color\":\"#FFFFFF\"},\"showarrow\":false,\"text\":\"-0.36\",\"x\":\"undetected\",\"xref\":\"x\",\"y\":\"positive\",\"yref\":\"y\"},{\"font\":{\"color\":\"#FFFFFF\"},\"showarrow\":false,\"text\":\"0.06\",\"x\":\"Price_Range_econom\",\"xref\":\"x\",\"y\":\"positive\",\"yref\":\"y\"},{\"font\":{\"color\":\"#FFFFFF\"},\"showarrow\":false,\"text\":\"-0.33\",\"x\":\"Price_Range_isNaN\",\"xref\":\"x\",\"y\":\"positive\",\"yref\":\"y\"},{\"font\":{\"color\":\"#FFFFFF\"},\"showarrow\":false,\"text\":\"0.05\",\"x\":\"Price_Range_luxury\",\"xref\":\"x\",\"y\":\"positive\",\"yref\":\"y\"},{\"font\":{\"color\":\"#000000\"},\"showarrow\":false,\"text\":\"0.25\",\"x\":\"Price_Range_regular\",\"xref\":\"x\",\"y\":\"positive\",\"yref\":\"y\"},{\"font\":{\"color\":\"#000000\"},\"showarrow\":false,\"text\":\"0.17\",\"x\":\"Ranking\",\"xref\":\"x\",\"y\":\"negative\",\"yref\":\"y\"},{\"font\":{\"color\":\"#FFFFFF\"},\"showarrow\":false,\"text\":\"-0.24\",\"x\":\"Rating\",\"xref\":\"x\",\"y\":\"negative\",\"yref\":\"y\"},{\"font\":{\"color\":\"#FFFFFF\"},\"showarrow\":false,\"text\":\"-0.02\",\"x\":\"Number_of_Reviews\",\"xref\":\"x\",\"y\":\"negative\",\"yref\":\"y\"},{\"font\":{\"color\":\"#FFFFFF\"},\"showarrow\":false,\"text\":\"-0.09\",\"x\":\"is_franchise\",\"xref\":\"x\",\"y\":\"negative\",\"yref\":\"y\"},{\"font\":{\"color\":\"#FFFFFF\"},\"showarrow\":false,\"text\":\"0.02\",\"x\":\"Population\",\"xref\":\"x\",\"y\":\"negative\",\"yref\":\"y\"},{\"font\":{\"color\":\"#FFFFFF\"},\"showarrow\":false,\"text\":\"-0.02\",\"x\":\"isNaN\",\"xref\":\"x\",\"y\":\"negative\",\"yref\":\"y\"},{\"font\":{\"color\":\"#FFFFFF\"},\"showarrow\":false,\"text\":\"-0.0\",\"x\":\"niche\",\"xref\":\"x\",\"y\":\"negative\",\"yref\":\"y\"},{\"font\":{\"color\":\"#FFFFFF\"},\"showarrow\":false,\"text\":\"-0.02\",\"x\":\"popular\",\"xref\":\"x\",\"y\":\"negative\",\"yref\":\"y\"},{\"font\":{\"color\":\"#FFFFFF\"},\"showarrow\":false,\"text\":\"-0.01\",\"x\":\"regular\",\"xref\":\"x\",\"y\":\"negative\",\"yref\":\"y\"},{\"font\":{\"color\":\"#FFFFFF\"},\"showarrow\":false,\"text\":\"-0.0\",\"x\":\"Interval_in_month\",\"xref\":\"x\",\"y\":\"negative\",\"yref\":\"y\"},{\"font\":{\"color\":\"#FFFFFF\"},\"showarrow\":false,\"text\":\"0.03\",\"x\":\"Interval_in_3_month\",\"xref\":\"x\",\"y\":\"negative\",\"yref\":\"y\"},{\"font\":{\"color\":\"#FFFFFF\"},\"showarrow\":false,\"text\":\"0.08\",\"x\":\"Interval_in_1_year\",\"xref\":\"x\",\"y\":\"negative\",\"yref\":\"y\"},{\"font\":{\"color\":\"#FFFFFF\"},\"showarrow\":false,\"text\":\"0.05\",\"x\":\"Interval_more_year\",\"xref\":\"x\",\"y\":\"negative\",\"yref\":\"y\"},{\"font\":{\"color\":\"#FFFFFF\"},\"showarrow\":false,\"text\":\"0.13\",\"x\":\"Text_dirty_len\",\"xref\":\"x\",\"y\":\"negative\",\"yref\":\"y\"},{\"font\":{\"color\":\"#FFFFFF\"},\"showarrow\":false,\"text\":\"-0.03\",\"x\":\"Dates_num_1\",\"xref\":\"x\",\"y\":\"negative\",\"yref\":\"y\"},{\"font\":{\"color\":\"#FFFFFF\"},\"showarrow\":false,\"text\":\"-0.09\",\"x\":\"positive\",\"xref\":\"x\",\"y\":\"negative\",\"yref\":\"y\"},{\"font\":{\"color\":\"#000000\"},\"showarrow\":false,\"text\":\"1.0\",\"x\":\"negative\",\"xref\":\"x\",\"y\":\"negative\",\"yref\":\"y\"},{\"font\":{\"color\":\"#FFFFFF\"},\"showarrow\":false,\"text\":\"0.03\",\"x\":\"neutral\",\"xref\":\"x\",\"y\":\"negative\",\"yref\":\"y\"},{\"font\":{\"color\":\"#FFFFFF\"},\"showarrow\":false,\"text\":\"-0.11\",\"x\":\"no_review\",\"xref\":\"x\",\"y\":\"negative\",\"yref\":\"y\"},{\"font\":{\"color\":\"#FFFFFF\"},\"showarrow\":false,\"text\":\"-0.08\",\"x\":\"undetected\",\"xref\":\"x\",\"y\":\"negative\",\"yref\":\"y\"},{\"font\":{\"color\":\"#FFFFFF\"},\"showarrow\":false,\"text\":\"-0.01\",\"x\":\"Price_Range_econom\",\"xref\":\"x\",\"y\":\"negative\",\"yref\":\"y\"},{\"font\":{\"color\":\"#FFFFFF\"},\"showarrow\":false,\"text\":\"-0.03\",\"x\":\"Price_Range_isNaN\",\"xref\":\"x\",\"y\":\"negative\",\"yref\":\"y\"},{\"font\":{\"color\":\"#FFFFFF\"},\"showarrow\":false,\"text\":\"0.01\",\"x\":\"Price_Range_luxury\",\"xref\":\"x\",\"y\":\"negative\",\"yref\":\"y\"},{\"font\":{\"color\":\"#FFFFFF\"},\"showarrow\":false,\"text\":\"0.03\",\"x\":\"Price_Range_regular\",\"xref\":\"x\",\"y\":\"negative\",\"yref\":\"y\"},{\"font\":{\"color\":\"#FFFFFF\"},\"showarrow\":false,\"text\":\"0.04\",\"x\":\"Ranking\",\"xref\":\"x\",\"y\":\"neutral\",\"yref\":\"y\"},{\"font\":{\"color\":\"#FFFFFF\"},\"showarrow\":false,\"text\":\"-0.09\",\"x\":\"Rating\",\"xref\":\"x\",\"y\":\"neutral\",\"yref\":\"y\"},{\"font\":{\"color\":\"#FFFFFF\"},\"showarrow\":false,\"text\":\"0.01\",\"x\":\"Number_of_Reviews\",\"xref\":\"x\",\"y\":\"neutral\",\"yref\":\"y\"},{\"font\":{\"color\":\"#FFFFFF\"},\"showarrow\":false,\"text\":\"-0.03\",\"x\":\"is_franchise\",\"xref\":\"x\",\"y\":\"neutral\",\"yref\":\"y\"},{\"font\":{\"color\":\"#FFFFFF\"},\"showarrow\":false,\"text\":\"0.01\",\"x\":\"Population\",\"xref\":\"x\",\"y\":\"neutral\",\"yref\":\"y\"},{\"font\":{\"color\":\"#FFFFFF\"},\"showarrow\":false,\"text\":\"-0.04\",\"x\":\"isNaN\",\"xref\":\"x\",\"y\":\"neutral\",\"yref\":\"y\"},{\"font\":{\"color\":\"#FFFFFF\"},\"showarrow\":false,\"text\":\"-0.0\",\"x\":\"niche\",\"xref\":\"x\",\"y\":\"neutral\",\"yref\":\"y\"},{\"font\":{\"color\":\"#FFFFFF\"},\"showarrow\":false,\"text\":\"0.02\",\"x\":\"popular\",\"xref\":\"x\",\"y\":\"neutral\",\"yref\":\"y\"},{\"font\":{\"color\":\"#FFFFFF\"},\"showarrow\":false,\"text\":\"-0.01\",\"x\":\"regular\",\"xref\":\"x\",\"y\":\"neutral\",\"yref\":\"y\"},{\"font\":{\"color\":\"#FFFFFF\"},\"showarrow\":false,\"text\":\"0.02\",\"x\":\"Interval_in_month\",\"xref\":\"x\",\"y\":\"neutral\",\"yref\":\"y\"},{\"font\":{\"color\":\"#FFFFFF\"},\"showarrow\":false,\"text\":\"0.03\",\"x\":\"Interval_in_3_month\",\"xref\":\"x\",\"y\":\"neutral\",\"yref\":\"y\"},{\"font\":{\"color\":\"#FFFFFF\"},\"showarrow\":false,\"text\":\"0.06\",\"x\":\"Interval_in_1_year\",\"xref\":\"x\",\"y\":\"neutral\",\"yref\":\"y\"},{\"font\":{\"color\":\"#FFFFFF\"},\"showarrow\":false,\"text\":\"0.03\",\"x\":\"Interval_more_year\",\"xref\":\"x\",\"y\":\"neutral\",\"yref\":\"y\"},{\"font\":{\"color\":\"#FFFFFF\"},\"showarrow\":false,\"text\":\"0.13\",\"x\":\"Text_dirty_len\",\"xref\":\"x\",\"y\":\"neutral\",\"yref\":\"y\"},{\"font\":{\"color\":\"#FFFFFF\"},\"showarrow\":false,\"text\":\"-0.03\",\"x\":\"Dates_num_1\",\"xref\":\"x\",\"y\":\"neutral\",\"yref\":\"y\"},{\"font\":{\"color\":\"#FFFFFF\"},\"showarrow\":false,\"text\":\"-0.02\",\"x\":\"positive\",\"xref\":\"x\",\"y\":\"neutral\",\"yref\":\"y\"},{\"font\":{\"color\":\"#FFFFFF\"},\"showarrow\":false,\"text\":\"0.03\",\"x\":\"negative\",\"xref\":\"x\",\"y\":\"neutral\",\"yref\":\"y\"},{\"font\":{\"color\":\"#000000\"},\"showarrow\":false,\"text\":\"1.0\",\"x\":\"neutral\",\"xref\":\"x\",\"y\":\"neutral\",\"yref\":\"y\"},{\"font\":{\"color\":\"#FFFFFF\"},\"showarrow\":false,\"text\":\"-0.11\",\"x\":\"no_review\",\"xref\":\"x\",\"y\":\"neutral\",\"yref\":\"y\"},{\"font\":{\"color\":\"#FFFFFF\"},\"showarrow\":false,\"text\":\"-0.08\",\"x\":\"undetected\",\"xref\":\"x\",\"y\":\"neutral\",\"yref\":\"y\"},{\"font\":{\"color\":\"#FFFFFF\"},\"showarrow\":false,\"text\":\"0.02\",\"x\":\"Price_Range_econom\",\"xref\":\"x\",\"y\":\"neutral\",\"yref\":\"y\"},{\"font\":{\"color\":\"#FFFFFF\"},\"showarrow\":false,\"text\":\"-0.06\",\"x\":\"Price_Range_isNaN\",\"xref\":\"x\",\"y\":\"neutral\",\"yref\":\"y\"},{\"font\":{\"color\":\"#FFFFFF\"},\"showarrow\":false,\"text\":\"-0.02\",\"x\":\"Price_Range_luxury\",\"xref\":\"x\",\"y\":\"neutral\",\"yref\":\"y\"},{\"font\":{\"color\":\"#FFFFFF\"},\"showarrow\":false,\"text\":\"0.05\",\"x\":\"Price_Range_regular\",\"xref\":\"x\",\"y\":\"neutral\",\"yref\":\"y\"},{\"font\":{\"color\":\"#000000\"},\"showarrow\":false,\"text\":\"0.29\",\"x\":\"Ranking\",\"xref\":\"x\",\"y\":\"no_review\",\"yref\":\"y\"},{\"font\":{\"color\":\"#FFFFFF\"},\"showarrow\":false,\"text\":\"-0.02\",\"x\":\"Rating\",\"xref\":\"x\",\"y\":\"no_review\",\"yref\":\"y\"},{\"font\":{\"color\":\"#FFFFFF\"},\"showarrow\":false,\"text\":\"-0.15\",\"x\":\"Number_of_Reviews\",\"xref\":\"x\",\"y\":\"no_review\",\"yref\":\"y\"},{\"font\":{\"color\":\"#FFFFFF\"},\"showarrow\":false,\"text\":\"-0.01\",\"x\":\"is_franchise\",\"xref\":\"x\",\"y\":\"no_review\",\"yref\":\"y\"},{\"font\":{\"color\":\"#FFFFFF\"},\"showarrow\":false,\"text\":\"-0.12\",\"x\":\"Population\",\"xref\":\"x\",\"y\":\"no_review\",\"yref\":\"y\"},{\"font\":{\"color\":\"#000000\"},\"showarrow\":false,\"text\":\"0.27\",\"x\":\"isNaN\",\"xref\":\"x\",\"y\":\"no_review\",\"yref\":\"y\"},{\"font\":{\"color\":\"#FFFFFF\"},\"showarrow\":false,\"text\":\"-0.0\",\"x\":\"niche\",\"xref\":\"x\",\"y\":\"no_review\",\"yref\":\"y\"},{\"font\":{\"color\":\"#FFFFFF\"},\"showarrow\":false,\"text\":\"-0.3\",\"x\":\"popular\",\"xref\":\"x\",\"y\":\"no_review\",\"yref\":\"y\"},{\"font\":{\"color\":\"#FFFFFF\"},\"showarrow\":false,\"text\":\"-0.13\",\"x\":\"regular\",\"xref\":\"x\",\"y\":\"no_review\",\"yref\":\"y\"},{\"font\":{\"color\":\"#FFFFFF\"},\"showarrow\":false,\"text\":\"-0.24\",\"x\":\"Interval_in_month\",\"xref\":\"x\",\"y\":\"no_review\",\"yref\":\"y\"},{\"font\":{\"color\":\"#FFFFFF\"},\"showarrow\":false,\"text\":\"-0.21\",\"x\":\"Interval_in_3_month\",\"xref\":\"x\",\"y\":\"no_review\",\"yref\":\"y\"},{\"font\":{\"color\":\"#FFFFFF\"},\"showarrow\":false,\"text\":\"-0.25\",\"x\":\"Interval_in_1_year\",\"xref\":\"x\",\"y\":\"no_review\",\"yref\":\"y\"},{\"font\":{\"color\":\"#FFFFFF\"},\"showarrow\":false,\"text\":\"-0.12\",\"x\":\"Interval_more_year\",\"xref\":\"x\",\"y\":\"no_review\",\"yref\":\"y\"},{\"font\":{\"color\":\"#FFFFFF\"},\"showarrow\":false,\"text\":\"-0.74\",\"x\":\"Text_dirty_len\",\"xref\":\"x\",\"y\":\"no_review\",\"yref\":\"y\"},{\"font\":{\"color\":\"#FFFFFF\"},\"showarrow\":false,\"text\":\"-0.16\",\"x\":\"Dates_num_1\",\"xref\":\"x\",\"y\":\"no_review\",\"yref\":\"y\"},{\"font\":{\"color\":\"#FFFFFF\"},\"showarrow\":false,\"text\":\"-0.51\",\"x\":\"positive\",\"xref\":\"x\",\"y\":\"no_review\",\"yref\":\"y\"},{\"font\":{\"color\":\"#FFFFFF\"},\"showarrow\":false,\"text\":\"-0.11\",\"x\":\"negative\",\"xref\":\"x\",\"y\":\"no_review\",\"yref\":\"y\"},{\"font\":{\"color\":\"#FFFFFF\"},\"showarrow\":false,\"text\":\"-0.11\",\"x\":\"neutral\",\"xref\":\"x\",\"y\":\"no_review\",\"yref\":\"y\"},{\"font\":{\"color\":\"#000000\"},\"showarrow\":false,\"text\":\"1.0\",\"x\":\"no_review\",\"xref\":\"x\",\"y\":\"no_review\",\"yref\":\"y\"},{\"font\":{\"color\":\"#FFFFFF\"},\"showarrow\":false,\"text\":\"-0.14\",\"x\":\"undetected\",\"xref\":\"x\",\"y\":\"no_review\",\"yref\":\"y\"},{\"font\":{\"color\":\"#FFFFFF\"},\"showarrow\":false,\"text\":\"-0.12\",\"x\":\"Price_Range_econom\",\"xref\":\"x\",\"y\":\"no_review\",\"yref\":\"y\"},{\"font\":{\"color\":\"#000000\"},\"showarrow\":false,\"text\":\"0.41\",\"x\":\"Price_Range_isNaN\",\"xref\":\"x\",\"y\":\"no_review\",\"yref\":\"y\"},{\"font\":{\"color\":\"#FFFFFF\"},\"showarrow\":false,\"text\":\"-0.06\",\"x\":\"Price_Range_luxury\",\"xref\":\"x\",\"y\":\"no_review\",\"yref\":\"y\"},{\"font\":{\"color\":\"#FFFFFF\"},\"showarrow\":false,\"text\":\"-0.29\",\"x\":\"Price_Range_regular\",\"xref\":\"x\",\"y\":\"no_review\",\"yref\":\"y\"},{\"font\":{\"color\":\"#FFFFFF\"},\"showarrow\":false,\"text\":\"0.1\",\"x\":\"Ranking\",\"xref\":\"x\",\"y\":\"undetected\",\"yref\":\"y\"},{\"font\":{\"color\":\"#FFFFFF\"},\"showarrow\":false,\"text\":\"-0.08\",\"x\":\"Rating\",\"xref\":\"x\",\"y\":\"undetected\",\"yref\":\"y\"},{\"font\":{\"color\":\"#FFFFFF\"},\"showarrow\":false,\"text\":\"-0.03\",\"x\":\"Number_of_Reviews\",\"xref\":\"x\",\"y\":\"undetected\",\"yref\":\"y\"},{\"font\":{\"color\":\"#FFFFFF\"},\"showarrow\":false,\"text\":\"-0.05\",\"x\":\"is_franchise\",\"xref\":\"x\",\"y\":\"undetected\",\"yref\":\"y\"},{\"font\":{\"color\":\"#FFFFFF\"},\"showarrow\":false,\"text\":\"0.03\",\"x\":\"Population\",\"xref\":\"x\",\"y\":\"undetected\",\"yref\":\"y\"},{\"font\":{\"color\":\"#FFFFFF\"},\"showarrow\":false,\"text\":\"0.04\",\"x\":\"isNaN\",\"xref\":\"x\",\"y\":\"undetected\",\"yref\":\"y\"},{\"font\":{\"color\":\"#FFFFFF\"},\"showarrow\":false,\"text\":\"0.01\",\"x\":\"niche\",\"xref\":\"x\",\"y\":\"undetected\",\"yref\":\"y\"},{\"font\":{\"color\":\"#FFFFFF\"},\"showarrow\":false,\"text\":\"-0.06\",\"x\":\"popular\",\"xref\":\"x\",\"y\":\"undetected\",\"yref\":\"y\"},{\"font\":{\"color\":\"#FFFFFF\"},\"showarrow\":false,\"text\":\"-0.02\",\"x\":\"regular\",\"xref\":\"x\",\"y\":\"undetected\",\"yref\":\"y\"},{\"font\":{\"color\":\"#FFFFFF\"},\"showarrow\":false,\"text\":\"-0.03\",\"x\":\"Interval_in_month\",\"xref\":\"x\",\"y\":\"undetected\",\"yref\":\"y\"},{\"font\":{\"color\":\"#FFFFFF\"},\"showarrow\":false,\"text\":\"-0.02\",\"x\":\"Interval_in_3_month\",\"xref\":\"x\",\"y\":\"undetected\",\"yref\":\"y\"},{\"font\":{\"color\":\"#FFFFFF\"},\"showarrow\":false,\"text\":\"-0.02\",\"x\":\"Interval_in_1_year\",\"xref\":\"x\",\"y\":\"undetected\",\"yref\":\"y\"},{\"font\":{\"color\":\"#FFFFFF\"},\"showarrow\":false,\"text\":\"-0.01\",\"x\":\"Interval_more_year\",\"xref\":\"x\",\"y\":\"undetected\",\"yref\":\"y\"},{\"font\":{\"color\":\"#FFFFFF\"},\"showarrow\":false,\"text\":\"-0.04\",\"x\":\"Text_dirty_len\",\"xref\":\"x\",\"y\":\"undetected\",\"yref\":\"y\"},{\"font\":{\"color\":\"#000000\"},\"showarrow\":false,\"text\":\"0.26\",\"x\":\"Dates_num_1\",\"xref\":\"x\",\"y\":\"undetected\",\"yref\":\"y\"},{\"font\":{\"color\":\"#FFFFFF\"},\"showarrow\":false,\"text\":\"-0.36\",\"x\":\"positive\",\"xref\":\"x\",\"y\":\"undetected\",\"yref\":\"y\"},{\"font\":{\"color\":\"#FFFFFF\"},\"showarrow\":false,\"text\":\"-0.08\",\"x\":\"negative\",\"xref\":\"x\",\"y\":\"undetected\",\"yref\":\"y\"},{\"font\":{\"color\":\"#FFFFFF\"},\"showarrow\":false,\"text\":\"-0.08\",\"x\":\"neutral\",\"xref\":\"x\",\"y\":\"undetected\",\"yref\":\"y\"},{\"font\":{\"color\":\"#FFFFFF\"},\"showarrow\":false,\"text\":\"-0.14\",\"x\":\"no_review\",\"xref\":\"x\",\"y\":\"undetected\",\"yref\":\"y\"},{\"font\":{\"color\":\"#000000\"},\"showarrow\":false,\"text\":\"1.0\",\"x\":\"undetected\",\"xref\":\"x\",\"y\":\"undetected\",\"yref\":\"y\"},{\"font\":{\"color\":\"#FFFFFF\"},\"showarrow\":false,\"text\":\"0.02\",\"x\":\"Price_Range_econom\",\"xref\":\"x\",\"y\":\"undetected\",\"yref\":\"y\"},{\"font\":{\"color\":\"#FFFFFF\"},\"showarrow\":false,\"text\":\"0.04\",\"x\":\"Price_Range_isNaN\",\"xref\":\"x\",\"y\":\"undetected\",\"yref\":\"y\"},{\"font\":{\"color\":\"#FFFFFF\"},\"showarrow\":false,\"text\":\"-0.01\",\"x\":\"Price_Range_luxury\",\"xref\":\"x\",\"y\":\"undetected\",\"yref\":\"y\"},{\"font\":{\"color\":\"#FFFFFF\"},\"showarrow\":false,\"text\":\"-0.04\",\"x\":\"Price_Range_regular\",\"xref\":\"x\",\"y\":\"undetected\",\"yref\":\"y\"},{\"font\":{\"color\":\"#FFFFFF\"},\"showarrow\":false,\"text\":\"-0.03\",\"x\":\"Ranking\",\"xref\":\"x\",\"y\":\"Price_Range_econom\",\"yref\":\"y\"},{\"font\":{\"color\":\"#FFFFFF\"},\"showarrow\":false,\"text\":\"0.06\",\"x\":\"Rating\",\"xref\":\"x\",\"y\":\"Price_Range_econom\",\"yref\":\"y\"},{\"font\":{\"color\":\"#FFFFFF\"},\"showarrow\":false,\"text\":\"-0.05\",\"x\":\"Number_of_Reviews\",\"xref\":\"x\",\"y\":\"Price_Range_econom\",\"yref\":\"y\"},{\"font\":{\"color\":\"#FFFFFF\"},\"showarrow\":false,\"text\":\"0.01\",\"x\":\"is_franchise\",\"xref\":\"x\",\"y\":\"Price_Range_econom\",\"yref\":\"y\"},{\"font\":{\"color\":\"#FFFFFF\"},\"showarrow\":false,\"text\":\"0.02\",\"x\":\"Population\",\"xref\":\"x\",\"y\":\"Price_Range_econom\",\"yref\":\"y\"},{\"font\":{\"color\":\"#FFFFFF\"},\"showarrow\":false,\"text\":\"-0.24\",\"x\":\"isNaN\",\"xref\":\"x\",\"y\":\"Price_Range_econom\",\"yref\":\"y\"},{\"font\":{\"color\":\"#FFFFFF\"},\"showarrow\":false,\"text\":\"0.02\",\"x\":\"niche\",\"xref\":\"x\",\"y\":\"Price_Range_econom\",\"yref\":\"y\"},{\"font\":{\"color\":\"#FFFFFF\"},\"showarrow\":false,\"text\":\"0.08\",\"x\":\"popular\",\"xref\":\"x\",\"y\":\"Price_Range_econom\",\"yref\":\"y\"},{\"font\":{\"color\":\"#FFFFFF\"},\"showarrow\":false,\"text\":\"0.09\",\"x\":\"regular\",\"xref\":\"x\",\"y\":\"Price_Range_econom\",\"yref\":\"y\"},{\"font\":{\"color\":\"#FFFFFF\"},\"showarrow\":false,\"text\":\"0.02\",\"x\":\"Interval_in_month\",\"xref\":\"x\",\"y\":\"Price_Range_econom\",\"yref\":\"y\"},{\"font\":{\"color\":\"#FFFFFF\"},\"showarrow\":false,\"text\":\"0.05\",\"x\":\"Interval_in_3_month\",\"xref\":\"x\",\"y\":\"Price_Range_econom\",\"yref\":\"y\"},{\"font\":{\"color\":\"#FFFFFF\"},\"showarrow\":false,\"text\":\"0.05\",\"x\":\"Interval_in_1_year\",\"xref\":\"x\",\"y\":\"Price_Range_econom\",\"yref\":\"y\"},{\"font\":{\"color\":\"#FFFFFF\"},\"showarrow\":false,\"text\":\"0.02\",\"x\":\"Interval_more_year\",\"xref\":\"x\",\"y\":\"Price_Range_econom\",\"yref\":\"y\"},{\"font\":{\"color\":\"#FFFFFF\"},\"showarrow\":false,\"text\":\"0.09\",\"x\":\"Text_dirty_len\",\"xref\":\"x\",\"y\":\"Price_Range_econom\",\"yref\":\"y\"},{\"font\":{\"color\":\"#FFFFFF\"},\"showarrow\":false,\"text\":\"-0.02\",\"x\":\"Dates_num_1\",\"xref\":\"x\",\"y\":\"Price_Range_econom\",\"yref\":\"y\"},{\"font\":{\"color\":\"#FFFFFF\"},\"showarrow\":false,\"text\":\"0.06\",\"x\":\"positive\",\"xref\":\"x\",\"y\":\"Price_Range_econom\",\"yref\":\"y\"},{\"font\":{\"color\":\"#FFFFFF\"},\"showarrow\":false,\"text\":\"-0.01\",\"x\":\"negative\",\"xref\":\"x\",\"y\":\"Price_Range_econom\",\"yref\":\"y\"},{\"font\":{\"color\":\"#FFFFFF\"},\"showarrow\":false,\"text\":\"0.02\",\"x\":\"neutral\",\"xref\":\"x\",\"y\":\"Price_Range_econom\",\"yref\":\"y\"},{\"font\":{\"color\":\"#FFFFFF\"},\"showarrow\":false,\"text\":\"-0.12\",\"x\":\"no_review\",\"xref\":\"x\",\"y\":\"Price_Range_econom\",\"yref\":\"y\"},{\"font\":{\"color\":\"#FFFFFF\"},\"showarrow\":false,\"text\":\"0.02\",\"x\":\"undetected\",\"xref\":\"x\",\"y\":\"Price_Range_econom\",\"yref\":\"y\"},{\"font\":{\"color\":\"#000000\"},\"showarrow\":false,\"text\":\"1.0\",\"x\":\"Price_Range_econom\",\"xref\":\"x\",\"y\":\"Price_Range_econom\",\"yref\":\"y\"},{\"font\":{\"color\":\"#FFFFFF\"},\"showarrow\":false,\"text\":\"-0.31\",\"x\":\"Price_Range_isNaN\",\"xref\":\"x\",\"y\":\"Price_Range_econom\",\"yref\":\"y\"},{\"font\":{\"color\":\"#FFFFFF\"},\"showarrow\":false,\"text\":\"-0.08\",\"x\":\"Price_Range_luxury\",\"xref\":\"x\",\"y\":\"Price_Range_econom\",\"yref\":\"y\"},{\"font\":{\"color\":\"#FFFFFF\"},\"showarrow\":false,\"text\":\"-0.4\",\"x\":\"Price_Range_regular\",\"xref\":\"x\",\"y\":\"Price_Range_econom\",\"yref\":\"y\"},{\"font\":{\"color\":\"#000000\"},\"showarrow\":false,\"text\":\"0.46\",\"x\":\"Ranking\",\"xref\":\"x\",\"y\":\"Price_Range_isNaN\",\"yref\":\"y\"},{\"font\":{\"color\":\"#FFFFFF\"},\"showarrow\":false,\"text\":\"-0.06\",\"x\":\"Rating\",\"xref\":\"x\",\"y\":\"Price_Range_isNaN\",\"yref\":\"y\"},{\"font\":{\"color\":\"#FFFFFF\"},\"showarrow\":false,\"text\":\"-0.25\",\"x\":\"Number_of_Reviews\",\"xref\":\"x\",\"y\":\"Price_Range_isNaN\",\"yref\":\"y\"},{\"font\":{\"color\":\"#FFFFFF\"},\"showarrow\":false,\"text\":\"-0.12\",\"x\":\"is_franchise\",\"xref\":\"x\",\"y\":\"Price_Range_isNaN\",\"yref\":\"y\"},{\"font\":{\"color\":\"#FFFFFF\"},\"showarrow\":false,\"text\":\"-0.04\",\"x\":\"Population\",\"xref\":\"x\",\"y\":\"Price_Range_isNaN\",\"yref\":\"y\"},{\"font\":{\"color\":\"#000000\"},\"showarrow\":false,\"text\":\"0.75\",\"x\":\"isNaN\",\"xref\":\"x\",\"y\":\"Price_Range_isNaN\",\"yref\":\"y\"},{\"font\":{\"color\":\"#FFFFFF\"},\"showarrow\":false,\"text\":\"-0.04\",\"x\":\"niche\",\"xref\":\"x\",\"y\":\"Price_Range_isNaN\",\"yref\":\"y\"},{\"font\":{\"color\":\"#FFFFFF\"},\"showarrow\":false,\"text\":\"-0.62\",\"x\":\"popular\",\"xref\":\"x\",\"y\":\"Price_Range_isNaN\",\"yref\":\"y\"},{\"font\":{\"color\":\"#FFFFFF\"},\"showarrow\":false,\"text\":\"-0.3\",\"x\":\"regular\",\"xref\":\"x\",\"y\":\"Price_Range_isNaN\",\"yref\":\"y\"},{\"font\":{\"color\":\"#FFFFFF\"},\"showarrow\":false,\"text\":\"-0.28\",\"x\":\"Interval_in_month\",\"xref\":\"x\",\"y\":\"Price_Range_isNaN\",\"yref\":\"y\"},{\"font\":{\"color\":\"#FFFFFF\"},\"showarrow\":false,\"text\":\"-0.19\",\"x\":\"Interval_in_3_month\",\"xref\":\"x\",\"y\":\"Price_Range_isNaN\",\"yref\":\"y\"},{\"font\":{\"color\":\"#FFFFFF\"},\"showarrow\":false,\"text\":\"-0.12\",\"x\":\"Interval_in_1_year\",\"xref\":\"x\",\"y\":\"Price_Range_isNaN\",\"yref\":\"y\"},{\"font\":{\"color\":\"#FFFFFF\"},\"showarrow\":false,\"text\":\"0.06\",\"x\":\"Interval_more_year\",\"xref\":\"x\",\"y\":\"Price_Range_isNaN\",\"yref\":\"y\"},{\"font\":{\"color\":\"#FFFFFF\"},\"showarrow\":false,\"text\":\"-0.42\",\"x\":\"Text_dirty_len\",\"xref\":\"x\",\"y\":\"Price_Range_isNaN\",\"yref\":\"y\"},{\"font\":{\"color\":\"#000000\"},\"showarrow\":false,\"text\":\"0.24\",\"x\":\"Dates_num_1\",\"xref\":\"x\",\"y\":\"Price_Range_isNaN\",\"yref\":\"y\"},{\"font\":{\"color\":\"#FFFFFF\"},\"showarrow\":false,\"text\":\"-0.33\",\"x\":\"positive\",\"xref\":\"x\",\"y\":\"Price_Range_isNaN\",\"yref\":\"y\"},{\"font\":{\"color\":\"#FFFFFF\"},\"showarrow\":false,\"text\":\"-0.03\",\"x\":\"negative\",\"xref\":\"x\",\"y\":\"Price_Range_isNaN\",\"yref\":\"y\"},{\"font\":{\"color\":\"#FFFFFF\"},\"showarrow\":false,\"text\":\"-0.06\",\"x\":\"neutral\",\"xref\":\"x\",\"y\":\"Price_Range_isNaN\",\"yref\":\"y\"},{\"font\":{\"color\":\"#000000\"},\"showarrow\":false,\"text\":\"0.41\",\"x\":\"no_review\",\"xref\":\"x\",\"y\":\"Price_Range_isNaN\",\"yref\":\"y\"},{\"font\":{\"color\":\"#FFFFFF\"},\"showarrow\":false,\"text\":\"0.04\",\"x\":\"undetected\",\"xref\":\"x\",\"y\":\"Price_Range_isNaN\",\"yref\":\"y\"},{\"font\":{\"color\":\"#FFFFFF\"},\"showarrow\":false,\"text\":\"-0.31\",\"x\":\"Price_Range_econom\",\"xref\":\"x\",\"y\":\"Price_Range_isNaN\",\"yref\":\"y\"},{\"font\":{\"color\":\"#000000\"},\"showarrow\":false,\"text\":\"1.0\",\"x\":\"Price_Range_isNaN\",\"xref\":\"x\",\"y\":\"Price_Range_isNaN\",\"yref\":\"y\"},{\"font\":{\"color\":\"#FFFFFF\"},\"showarrow\":false,\"text\":\"-0.14\",\"x\":\"Price_Range_luxury\",\"xref\":\"x\",\"y\":\"Price_Range_isNaN\",\"yref\":\"y\"},{\"font\":{\"color\":\"#FFFFFF\"},\"showarrow\":false,\"text\":\"-0.67\",\"x\":\"Price_Range_regular\",\"xref\":\"x\",\"y\":\"Price_Range_isNaN\",\"yref\":\"y\"},{\"font\":{\"color\":\"#FFFFFF\"},\"showarrow\":false,\"text\":\"-0.17\",\"x\":\"Ranking\",\"xref\":\"x\",\"y\":\"Price_Range_luxury\",\"yref\":\"y\"},{\"font\":{\"color\":\"#FFFFFF\"},\"showarrow\":false,\"text\":\"0.06\",\"x\":\"Rating\",\"xref\":\"x\",\"y\":\"Price_Range_luxury\",\"yref\":\"y\"},{\"font\":{\"color\":\"#000000\"},\"showarrow\":false,\"text\":\"0.16\",\"x\":\"Number_of_Reviews\",\"xref\":\"x\",\"y\":\"Price_Range_luxury\",\"yref\":\"y\"},{\"font\":{\"color\":\"#FFFFFF\"},\"showarrow\":false,\"text\":\"0.04\",\"x\":\"is_franchise\",\"xref\":\"x\",\"y\":\"Price_Range_luxury\",\"yref\":\"y\"},{\"font\":{\"color\":\"#FFFFFF\"},\"showarrow\":false,\"text\":\"0.0\",\"x\":\"Population\",\"xref\":\"x\",\"y\":\"Price_Range_luxury\",\"yref\":\"y\"},{\"font\":{\"color\":\"#FFFFFF\"},\"showarrow\":false,\"text\":\"-0.11\",\"x\":\"isNaN\",\"xref\":\"x\",\"y\":\"Price_Range_luxury\",\"yref\":\"y\"},{\"font\":{\"color\":\"#FFFFFF\"},\"showarrow\":false,\"text\":\"-0.0\",\"x\":\"niche\",\"xref\":\"x\",\"y\":\"Price_Range_luxury\",\"yref\":\"y\"},{\"font\":{\"color\":\"#000000\"},\"showarrow\":false,\"text\":\"0.14\",\"x\":\"popular\",\"xref\":\"x\",\"y\":\"Price_Range_luxury\",\"yref\":\"y\"},{\"font\":{\"color\":\"#FFFFFF\"},\"showarrow\":false,\"text\":\"0.03\",\"x\":\"regular\",\"xref\":\"x\",\"y\":\"Price_Range_luxury\",\"yref\":\"y\"},{\"font\":{\"color\":\"#FFFFFF\"},\"showarrow\":false,\"text\":\"0.1\",\"x\":\"Interval_in_month\",\"xref\":\"x\",\"y\":\"Price_Range_luxury\",\"yref\":\"y\"},{\"font\":{\"color\":\"#FFFFFF\"},\"showarrow\":false,\"text\":\"0.02\",\"x\":\"Interval_in_3_month\",\"xref\":\"x\",\"y\":\"Price_Range_luxury\",\"yref\":\"y\"},{\"font\":{\"color\":\"#FFFFFF\"},\"showarrow\":false,\"text\":\"-0.02\",\"x\":\"Interval_in_1_year\",\"xref\":\"x\",\"y\":\"Price_Range_luxury\",\"yref\":\"y\"},{\"font\":{\"color\":\"#FFFFFF\"},\"showarrow\":false,\"text\":\"-0.03\",\"x\":\"Interval_more_year\",\"xref\":\"x\",\"y\":\"Price_Range_luxury\",\"yref\":\"y\"},{\"font\":{\"color\":\"#FFFFFF\"},\"showarrow\":false,\"text\":\"0.07\",\"x\":\"Text_dirty_len\",\"xref\":\"x\",\"y\":\"Price_Range_luxury\",\"yref\":\"y\"},{\"font\":{\"color\":\"#FFFFFF\"},\"showarrow\":false,\"text\":\"-0.05\",\"x\":\"Dates_num_1\",\"xref\":\"x\",\"y\":\"Price_Range_luxury\",\"yref\":\"y\"},{\"font\":{\"color\":\"#FFFFFF\"},\"showarrow\":false,\"text\":\"0.05\",\"x\":\"positive\",\"xref\":\"x\",\"y\":\"Price_Range_luxury\",\"yref\":\"y\"},{\"font\":{\"color\":\"#FFFFFF\"},\"showarrow\":false,\"text\":\"0.01\",\"x\":\"negative\",\"xref\":\"x\",\"y\":\"Price_Range_luxury\",\"yref\":\"y\"},{\"font\":{\"color\":\"#FFFFFF\"},\"showarrow\":false,\"text\":\"-0.02\",\"x\":\"neutral\",\"xref\":\"x\",\"y\":\"Price_Range_luxury\",\"yref\":\"y\"},{\"font\":{\"color\":\"#FFFFFF\"},\"showarrow\":false,\"text\":\"-0.06\",\"x\":\"no_review\",\"xref\":\"x\",\"y\":\"Price_Range_luxury\",\"yref\":\"y\"},{\"font\":{\"color\":\"#FFFFFF\"},\"showarrow\":false,\"text\":\"-0.01\",\"x\":\"undetected\",\"xref\":\"x\",\"y\":\"Price_Range_luxury\",\"yref\":\"y\"},{\"font\":{\"color\":\"#FFFFFF\"},\"showarrow\":false,\"text\":\"-0.08\",\"x\":\"Price_Range_econom\",\"xref\":\"x\",\"y\":\"Price_Range_luxury\",\"yref\":\"y\"},{\"font\":{\"color\":\"#FFFFFF\"},\"showarrow\":false,\"text\":\"-0.14\",\"x\":\"Price_Range_isNaN\",\"xref\":\"x\",\"y\":\"Price_Range_luxury\",\"yref\":\"y\"},{\"font\":{\"color\":\"#000000\"},\"showarrow\":false,\"text\":\"1.0\",\"x\":\"Price_Range_luxury\",\"xref\":\"x\",\"y\":\"Price_Range_luxury\",\"yref\":\"y\"},{\"font\":{\"color\":\"#FFFFFF\"},\"showarrow\":false,\"text\":\"-0.18\",\"x\":\"Price_Range_regular\",\"xref\":\"x\",\"y\":\"Price_Range_luxury\",\"yref\":\"y\"},{\"font\":{\"color\":\"#FFFFFF\"},\"showarrow\":false,\"text\":\"-0.35\",\"x\":\"Ranking\",\"xref\":\"x\",\"y\":\"Price_Range_regular\",\"yref\":\"y\"},{\"font\":{\"color\":\"#FFFFFF\"},\"showarrow\":false,\"text\":\"-0.01\",\"x\":\"Rating\",\"xref\":\"x\",\"y\":\"Price_Range_regular\",\"yref\":\"y\"},{\"font\":{\"color\":\"#000000\"},\"showarrow\":false,\"text\":\"0.21\",\"x\":\"Number_of_Reviews\",\"xref\":\"x\",\"y\":\"Price_Range_regular\",\"yref\":\"y\"},{\"font\":{\"color\":\"#FFFFFF\"},\"showarrow\":false,\"text\":\"0.09\",\"x\":\"is_franchise\",\"xref\":\"x\",\"y\":\"Price_Range_regular\",\"yref\":\"y\"},{\"font\":{\"color\":\"#FFFFFF\"},\"showarrow\":false,\"text\":\"0.02\",\"x\":\"Population\",\"xref\":\"x\",\"y\":\"Price_Range_regular\",\"yref\":\"y\"},{\"font\":{\"color\":\"#FFFFFF\"},\"showarrow\":false,\"text\":\"-0.51\",\"x\":\"isNaN\",\"xref\":\"x\",\"y\":\"Price_Range_regular\",\"yref\":\"y\"},{\"font\":{\"color\":\"#FFFFFF\"},\"showarrow\":false,\"text\":\"0.02\",\"x\":\"niche\",\"xref\":\"x\",\"y\":\"Price_Range_regular\",\"yref\":\"y\"},{\"font\":{\"color\":\"#000000\"},\"showarrow\":false,\"text\":\"0.48\",\"x\":\"popular\",\"xref\":\"x\",\"y\":\"Price_Range_regular\",\"yref\":\"y\"},{\"font\":{\"color\":\"#000000\"},\"showarrow\":false,\"text\":\"0.21\",\"x\":\"regular\",\"xref\":\"x\",\"y\":\"Price_Range_regular\",\"yref\":\"y\"},{\"font\":{\"color\":\"#000000\"},\"showarrow\":false,\"text\":\"0.22\",\"x\":\"Interval_in_month\",\"xref\":\"x\",\"y\":\"Price_Range_regular\",\"yref\":\"y\"},{\"font\":{\"color\":\"#000000\"},\"showarrow\":false,\"text\":\"0.14\",\"x\":\"Interval_in_3_month\",\"xref\":\"x\",\"y\":\"Price_Range_regular\",\"yref\":\"y\"},{\"font\":{\"color\":\"#FFFFFF\"},\"showarrow\":false,\"text\":\"0.08\",\"x\":\"Interval_in_1_year\",\"xref\":\"x\",\"y\":\"Price_Range_regular\",\"yref\":\"y\"},{\"font\":{\"color\":\"#FFFFFF\"},\"showarrow\":false,\"text\":\"-0.06\",\"x\":\"Interval_more_year\",\"xref\":\"x\",\"y\":\"Price_Range_regular\",\"yref\":\"y\"},{\"font\":{\"color\":\"#000000\"},\"showarrow\":false,\"text\":\"0.31\",\"x\":\"Text_dirty_len\",\"xref\":\"x\",\"y\":\"Price_Range_regular\",\"yref\":\"y\"},{\"font\":{\"color\":\"#FFFFFF\"},\"showarrow\":false,\"text\":\"-0.2\",\"x\":\"Dates_num_1\",\"xref\":\"x\",\"y\":\"Price_Range_regular\",\"yref\":\"y\"},{\"font\":{\"color\":\"#000000\"},\"showarrow\":false,\"text\":\"0.25\",\"x\":\"positive\",\"xref\":\"x\",\"y\":\"Price_Range_regular\",\"yref\":\"y\"},{\"font\":{\"color\":\"#FFFFFF\"},\"showarrow\":false,\"text\":\"0.03\",\"x\":\"negative\",\"xref\":\"x\",\"y\":\"Price_Range_regular\",\"yref\":\"y\"},{\"font\":{\"color\":\"#FFFFFF\"},\"showarrow\":false,\"text\":\"0.05\",\"x\":\"neutral\",\"xref\":\"x\",\"y\":\"Price_Range_regular\",\"yref\":\"y\"},{\"font\":{\"color\":\"#FFFFFF\"},\"showarrow\":false,\"text\":\"-0.29\",\"x\":\"no_review\",\"xref\":\"x\",\"y\":\"Price_Range_regular\",\"yref\":\"y\"},{\"font\":{\"color\":\"#FFFFFF\"},\"showarrow\":false,\"text\":\"-0.04\",\"x\":\"undetected\",\"xref\":\"x\",\"y\":\"Price_Range_regular\",\"yref\":\"y\"},{\"font\":{\"color\":\"#FFFFFF\"},\"showarrow\":false,\"text\":\"-0.4\",\"x\":\"Price_Range_econom\",\"xref\":\"x\",\"y\":\"Price_Range_regular\",\"yref\":\"y\"},{\"font\":{\"color\":\"#FFFFFF\"},\"showarrow\":false,\"text\":\"-0.67\",\"x\":\"Price_Range_isNaN\",\"xref\":\"x\",\"y\":\"Price_Range_regular\",\"yref\":\"y\"},{\"font\":{\"color\":\"#FFFFFF\"},\"showarrow\":false,\"text\":\"-0.18\",\"x\":\"Price_Range_luxury\",\"xref\":\"x\",\"y\":\"Price_Range_regular\",\"yref\":\"y\"},{\"font\":{\"color\":\"#000000\"},\"showarrow\":false,\"text\":\"1.0\",\"x\":\"Price_Range_regular\",\"xref\":\"x\",\"y\":\"Price_Range_regular\",\"yref\":\"y\"}],\"autosize\":false,\"height\":600,\"template\":{\"data\":{\"bar\":[{\"error_x\":{\"color\":\"#2a3f5f\"},\"error_y\":{\"color\":\"#2a3f5f\"},\"marker\":{\"line\":{\"color\":\"#E5ECF6\",\"width\":0.5},\"pattern\":{\"fillmode\":\"overlay\",\"size\":10,\"solidity\":0.2}},\"type\":\"bar\"}],\"barpolar\":[{\"marker\":{\"line\":{\"color\":\"#E5ECF6\",\"width\":0.5},\"pattern\":{\"fillmode\":\"overlay\",\"size\":10,\"solidity\":0.2}},\"type\":\"barpolar\"}],\"carpet\":[{\"aaxis\":{\"endlinecolor\":\"#2a3f5f\",\"gridcolor\":\"white\",\"linecolor\":\"white\",\"minorgridcolor\":\"white\",\"startlinecolor\":\"#2a3f5f\"},\"baxis\":{\"endlinecolor\":\"#2a3f5f\",\"gridcolor\":\"white\",\"linecolor\":\"white\",\"minorgridcolor\":\"white\",\"startlinecolor\":\"#2a3f5f\"},\"type\":\"carpet\"}],\"choropleth\":[{\"colorbar\":{\"outlinewidth\":0,\"ticks\":\"\"},\"type\":\"choropleth\"}],\"contour\":[{\"colorbar\":{\"outlinewidth\":0,\"ticks\":\"\"},\"colorscale\":[[0.0,\"#0d0887\"],[0.1111111111111111,\"#46039f\"],[0.2222222222222222,\"#7201a8\"],[0.3333333333333333,\"#9c179e\"],[0.4444444444444444,\"#bd3786\"],[0.5555555555555556,\"#d8576b\"],[0.6666666666666666,\"#ed7953\"],[0.7777777777777778,\"#fb9f3a\"],[0.8888888888888888,\"#fdca26\"],[1.0,\"#f0f921\"]],\"type\":\"contour\"}],\"contourcarpet\":[{\"colorbar\":{\"outlinewidth\":0,\"ticks\":\"\"},\"type\":\"contourcarpet\"}],\"heatmap\":[{\"colorbar\":{\"outlinewidth\":0,\"ticks\":\"\"},\"colorscale\":[[0.0,\"#0d0887\"],[0.1111111111111111,\"#46039f\"],[0.2222222222222222,\"#7201a8\"],[0.3333333333333333,\"#9c179e\"],[0.4444444444444444,\"#bd3786\"],[0.5555555555555556,\"#d8576b\"],[0.6666666666666666,\"#ed7953\"],[0.7777777777777778,\"#fb9f3a\"],[0.8888888888888888,\"#fdca26\"],[1.0,\"#f0f921\"]],\"type\":\"heatmap\"}],\"heatmapgl\":[{\"colorbar\":{\"outlinewidth\":0,\"ticks\":\"\"},\"colorscale\":[[0.0,\"#0d0887\"],[0.1111111111111111,\"#46039f\"],[0.2222222222222222,\"#7201a8\"],[0.3333333333333333,\"#9c179e\"],[0.4444444444444444,\"#bd3786\"],[0.5555555555555556,\"#d8576b\"],[0.6666666666666666,\"#ed7953\"],[0.7777777777777778,\"#fb9f3a\"],[0.8888888888888888,\"#fdca26\"],[1.0,\"#f0f921\"]],\"type\":\"heatmapgl\"}],\"histogram\":[{\"marker\":{\"pattern\":{\"fillmode\":\"overlay\",\"size\":10,\"solidity\":0.2}},\"type\":\"histogram\"}],\"histogram2d\":[{\"colorbar\":{\"outlinewidth\":0,\"ticks\":\"\"},\"colorscale\":[[0.0,\"#0d0887\"],[0.1111111111111111,\"#46039f\"],[0.2222222222222222,\"#7201a8\"],[0.3333333333333333,\"#9c179e\"],[0.4444444444444444,\"#bd3786\"],[0.5555555555555556,\"#d8576b\"],[0.6666666666666666,\"#ed7953\"],[0.7777777777777778,\"#fb9f3a\"],[0.8888888888888888,\"#fdca26\"],[1.0,\"#f0f921\"]],\"type\":\"histogram2d\"}],\"histogram2dcontour\":[{\"colorbar\":{\"outlinewidth\":0,\"ticks\":\"\"},\"colorscale\":[[0.0,\"#0d0887\"],[0.1111111111111111,\"#46039f\"],[0.2222222222222222,\"#7201a8\"],[0.3333333333333333,\"#9c179e\"],[0.4444444444444444,\"#bd3786\"],[0.5555555555555556,\"#d8576b\"],[0.6666666666666666,\"#ed7953\"],[0.7777777777777778,\"#fb9f3a\"],[0.8888888888888888,\"#fdca26\"],[1.0,\"#f0f921\"]],\"type\":\"histogram2dcontour\"}],\"mesh3d\":[{\"colorbar\":{\"outlinewidth\":0,\"ticks\":\"\"},\"type\":\"mesh3d\"}],\"parcoords\":[{\"line\":{\"colorbar\":{\"outlinewidth\":0,\"ticks\":\"\"}},\"type\":\"parcoords\"}],\"pie\":[{\"automargin\":true,\"type\":\"pie\"}],\"scatter\":[{\"marker\":{\"colorbar\":{\"outlinewidth\":0,\"ticks\":\"\"}},\"type\":\"scatter\"}],\"scatter3d\":[{\"line\":{\"colorbar\":{\"outlinewidth\":0,\"ticks\":\"\"}},\"marker\":{\"colorbar\":{\"outlinewidth\":0,\"ticks\":\"\"}},\"type\":\"scatter3d\"}],\"scattercarpet\":[{\"marker\":{\"colorbar\":{\"outlinewidth\":0,\"ticks\":\"\"}},\"type\":\"scattercarpet\"}],\"scattergeo\":[{\"marker\":{\"colorbar\":{\"outlinewidth\":0,\"ticks\":\"\"}},\"type\":\"scattergeo\"}],\"scattergl\":[{\"marker\":{\"colorbar\":{\"outlinewidth\":0,\"ticks\":\"\"}},\"type\":\"scattergl\"}],\"scattermapbox\":[{\"marker\":{\"colorbar\":{\"outlinewidth\":0,\"ticks\":\"\"}},\"type\":\"scattermapbox\"}],\"scatterpolar\":[{\"marker\":{\"colorbar\":{\"outlinewidth\":0,\"ticks\":\"\"}},\"type\":\"scatterpolar\"}],\"scatterpolargl\":[{\"marker\":{\"colorbar\":{\"outlinewidth\":0,\"ticks\":\"\"}},\"type\":\"scatterpolargl\"}],\"scatterternary\":[{\"marker\":{\"colorbar\":{\"outlinewidth\":0,\"ticks\":\"\"}},\"type\":\"scatterternary\"}],\"surface\":[{\"colorbar\":{\"outlinewidth\":0,\"ticks\":\"\"},\"colorscale\":[[0.0,\"#0d0887\"],[0.1111111111111111,\"#46039f\"],[0.2222222222222222,\"#7201a8\"],[0.3333333333333333,\"#9c179e\"],[0.4444444444444444,\"#bd3786\"],[0.5555555555555556,\"#d8576b\"],[0.6666666666666666,\"#ed7953\"],[0.7777777777777778,\"#fb9f3a\"],[0.8888888888888888,\"#fdca26\"],[1.0,\"#f0f921\"]],\"type\":\"surface\"}],\"table\":[{\"cells\":{\"fill\":{\"color\":\"#EBF0F8\"},\"line\":{\"color\":\"white\"}},\"header\":{\"fill\":{\"color\":\"#C8D4E3\"},\"line\":{\"color\":\"white\"}},\"type\":\"table\"}]},\"layout\":{\"annotationdefaults\":{\"arrowcolor\":\"#2a3f5f\",\"arrowhead\":0,\"arrowwidth\":1},\"autotypenumbers\":\"strict\",\"coloraxis\":{\"colorbar\":{\"outlinewidth\":0,\"ticks\":\"\"}},\"colorscale\":{\"diverging\":[[0,\"#8e0152\"],[0.1,\"#c51b7d\"],[0.2,\"#de77ae\"],[0.3,\"#f1b6da\"],[0.4,\"#fde0ef\"],[0.5,\"#f7f7f7\"],[0.6,\"#e6f5d0\"],[0.7,\"#b8e186\"],[0.8,\"#7fbc41\"],[0.9,\"#4d9221\"],[1,\"#276419\"]],\"sequential\":[[0.0,\"#0d0887\"],[0.1111111111111111,\"#46039f\"],[0.2222222222222222,\"#7201a8\"],[0.3333333333333333,\"#9c179e\"],[0.4444444444444444,\"#bd3786\"],[0.5555555555555556,\"#d8576b\"],[0.6666666666666666,\"#ed7953\"],[0.7777777777777778,\"#fb9f3a\"],[0.8888888888888888,\"#fdca26\"],[1.0,\"#f0f921\"]],\"sequentialminus\":[[0.0,\"#0d0887\"],[0.1111111111111111,\"#46039f\"],[0.2222222222222222,\"#7201a8\"],[0.3333333333333333,\"#9c179e\"],[0.4444444444444444,\"#bd3786\"],[0.5555555555555556,\"#d8576b\"],[0.6666666666666666,\"#ed7953\"],[0.7777777777777778,\"#fb9f3a\"],[0.8888888888888888,\"#fdca26\"],[1.0,\"#f0f921\"]]},\"colorway\":[\"#636efa\",\"#EF553B\",\"#00cc96\",\"#ab63fa\",\"#FFA15A\",\"#19d3f3\",\"#FF6692\",\"#B6E880\",\"#FF97FF\",\"#FECB52\"],\"font\":{\"color\":\"#2a3f5f\"},\"geo\":{\"bgcolor\":\"white\",\"lakecolor\":\"white\",\"landcolor\":\"#E5ECF6\",\"showlakes\":true,\"showland\":true,\"subunitcolor\":\"white\"},\"hoverlabel\":{\"align\":\"left\"},\"hovermode\":\"closest\",\"mapbox\":{\"style\":\"light\"},\"paper_bgcolor\":\"white\",\"plot_bgcolor\":\"#E5ECF6\",\"polar\":{\"angularaxis\":{\"gridcolor\":\"white\",\"linecolor\":\"white\",\"ticks\":\"\"},\"bgcolor\":\"#E5ECF6\",\"radialaxis\":{\"gridcolor\":\"white\",\"linecolor\":\"white\",\"ticks\":\"\"}},\"scene\":{\"xaxis\":{\"backgroundcolor\":\"#E5ECF6\",\"gridcolor\":\"white\",\"gridwidth\":2,\"linecolor\":\"white\",\"showbackground\":true,\"ticks\":\"\",\"zerolinecolor\":\"white\"},\"yaxis\":{\"backgroundcolor\":\"#E5ECF6\",\"gridcolor\":\"white\",\"gridwidth\":2,\"linecolor\":\"white\",\"showbackground\":true,\"ticks\":\"\",\"zerolinecolor\":\"white\"},\"zaxis\":{\"backgroundcolor\":\"#E5ECF6\",\"gridcolor\":\"white\",\"gridwidth\":2,\"linecolor\":\"white\",\"showbackground\":true,\"ticks\":\"\",\"zerolinecolor\":\"white\"}},\"shapedefaults\":{\"line\":{\"color\":\"#2a3f5f\"}},\"ternary\":{\"aaxis\":{\"gridcolor\":\"white\",\"linecolor\":\"white\",\"ticks\":\"\"},\"baxis\":{\"gridcolor\":\"white\",\"linecolor\":\"white\",\"ticks\":\"\"},\"bgcolor\":\"#E5ECF6\",\"caxis\":{\"gridcolor\":\"white\",\"linecolor\":\"white\",\"ticks\":\"\"}},\"title\":{\"x\":0.05},\"xaxis\":{\"automargin\":true,\"gridcolor\":\"white\",\"linecolor\":\"white\",\"ticks\":\"\",\"title\":{\"standoff\":15},\"zerolinecolor\":\"white\",\"zerolinewidth\":2},\"yaxis\":{\"automargin\":true,\"gridcolor\":\"white\",\"linecolor\":\"white\",\"ticks\":\"\",\"title\":{\"standoff\":15},\"zerolinecolor\":\"white\",\"zerolinewidth\":2}}},\"width\":1000,\"xaxis\":{\"dtick\":1,\"gridcolor\":\"rgb(0, 0, 0)\",\"side\":\"top\",\"ticks\":\"\"},\"yaxis\":{\"dtick\":1,\"ticks\":\"\",\"ticksuffix\":\"  \"}},                        {\"responsive\": true}                    ).then(function(){\n",
       "                            \n",
       "var gd = document.getElementById('ca061b1e-97db-49d2-bd16-739a92b6b3cb');\n",
       "var x = new MutationObserver(function (mutations, observer) {{\n",
       "        var display = window.getComputedStyle(gd).display;\n",
       "        if (!display || display === 'none') {{\n",
       "            console.log([gd, 'removed!']);\n",
       "            Plotly.purge(gd);\n",
       "            observer.disconnect();\n",
       "        }}\n",
       "}});\n",
       "\n",
       "// Listen for the removal of the full notebook cells\n",
       "var notebookContainer = gd.closest('#notebook-container');\n",
       "if (notebookContainer) {{\n",
       "    x.observe(notebookContainer, {childList: true});\n",
       "}}\n",
       "\n",
       "// Listen for the clearing of the current output cell\n",
       "var outputEl = gd.closest('.output');\n",
       "if (outputEl) {{\n",
       "    x.observe(outputEl, {childList: true});\n",
       "}}\n",
       "\n",
       "                        })                };                });            </script>        </div>"
      ]
     },
     "metadata": {},
     "output_type": "display_data"
    }
   ],
   "source": [
    "data = df.iloc[:,:24].copy()\n",
    "corrs = data.corr()\n",
    "corrs.columns\n",
    "figure = ff.create_annotated_heatmap(\n",
    "    z=corrs.values,\n",
    "    x=list(corrs.columns),\n",
    "    y=list(corrs.index),\n",
    "    annotation_text=corrs.round(2).values,\n",
    "    showscale=True)\n",
    "figure.update_layout(\n",
    "    autosize=False,\n",
    "    width=1000,\n",
    "    height=600)\n",
    "figure.show()"
   ]
  },
  {
   "cell_type": "code",
   "execution_count": 12,
   "metadata": {},
   "outputs": [
    {
     "data": {
      "application/vnd.plotly.v1+json": {
       "config": {
        "plotlyServerURL": "https://plot.ly"
       },
       "data": [
        {
         "colorscale": [
          [
           0,
           "#0d0887"
          ],
          [
           0.1111111111111111,
           "#46039f"
          ],
          [
           0.2222222222222222,
           "#7201a8"
          ],
          [
           0.3333333333333333,
           "#9c179e"
          ],
          [
           0.4444444444444444,
           "#bd3786"
          ],
          [
           0.5555555555555556,
           "#d8576b"
          ],
          [
           0.6666666666666666,
           "#ed7953"
          ],
          [
           0.7777777777777778,
           "#fb9f3a"
          ],
          [
           0.8888888888888888,
           "#fdca26"
          ],
          [
           1,
           "#f0f921"
          ]
         ],
         "reversescale": false,
         "showscale": true,
         "type": "heatmap",
         "x": [
          "Rating",
          "City_Amsterdam",
          "City_Athens",
          "City_Barcelona",
          "City_Berlin",
          "City_Bratislava",
          "City_Brussels",
          "City_Budapest",
          "City_Copenhagen",
          "City_Dublin",
          "City_Edinburgh",
          "City_Geneva",
          "City_Hamburg",
          "City_Helsinki",
          "City_Krakow",
          "City_Lisbon",
          "City_Ljubljana",
          "City_London",
          "City_Luxembourg",
          "City_Lyon",
          "City_Madrid",
          "City_Milan",
          "City_Munich",
          "City_Oporto",
          "City_Oslo",
          "City_Paris",
          "City_Prague",
          "City_Rome",
          "City_Stockholm",
          "City_Vienna",
          "City_Warsaw",
          "City_Zurich"
         ],
         "y": [
          "Rating",
          "City_Amsterdam",
          "City_Athens",
          "City_Barcelona",
          "City_Berlin",
          "City_Bratislava",
          "City_Brussels",
          "City_Budapest",
          "City_Copenhagen",
          "City_Dublin",
          "City_Edinburgh",
          "City_Geneva",
          "City_Hamburg",
          "City_Helsinki",
          "City_Krakow",
          "City_Lisbon",
          "City_Ljubljana",
          "City_London",
          "City_Luxembourg",
          "City_Lyon",
          "City_Madrid",
          "City_Milan",
          "City_Munich",
          "City_Oporto",
          "City_Oslo",
          "City_Paris",
          "City_Prague",
          "City_Rome",
          "City_Stockholm",
          "City_Vienna",
          "City_Warsaw",
          "City_Zurich"
         ],
         "z": [
          [
           1,
           0.03453493537676749,
           0.04479181296199608,
           -0.012889745712083286,
           0.04696663563508955,
           -0.0029881589925866278,
           -0.020753001562556248,
           0.020949881867227245,
           -0.0014431962733506907,
           0.013431145140138394,
           0.01748887249096045,
           -0.005027484426245484,
           0.006538999769892055,
           -0.006737317738891932,
           0.02433278750538737,
           0.014564723744630428,
           0.01206810316488989,
           -0.023273412218729052,
           -0.008559353312818478,
           -0.010078840467619537,
           -0.08346180995321548,
           -0.05970374820533701,
           0.012207020869795358,
           0.031602661415866366,
           -0.01467968700850699,
           -0.02828820219305939,
           0.011442081485944656,
           0.08308225429000134,
           -0.026603538188711633,
           0.022037192346426968,
           0.019616635599466043,
           0.00819722298093422
          ],
          [
           0.03453493537676749,
           1,
           -0.021098328937544254,
           -0.045248568123318185,
           -0.03986404439383473,
           -0.01454639711318303,
           -0.02756239385967108,
           -0.024107527499370864,
           -0.02162130908162662,
           -0.021853655790284244,
           -0.02054541651142335,
           -0.01843026332300516,
           -0.026042279865621253,
           -0.01627334157541471,
           -0.017678774848222435,
           -0.030618095195165958,
           -0.011325392252559716,
           -0.06849741579467239,
           -0.012136253885535684,
           -0.02522967169771151,
           -0.04848823551311073,
           -0.039648517501472934,
           -0.02524413267999201,
           -0.01904116814055461,
           -0.016468821028488522,
           -0.062395735776237804,
           -0.03231792904966733,
           -0.03910561587701691,
           -0.02416777592764251,
           -0.028947108397601607,
           -0.022729094902411134,
           -0.019505791023193768
          ],
          [
           0.04479181296199608,
           -0.021098328937544254,
           1,
           -0.03420809967361362,
           -0.030137378055835357,
           -0.010997134781891694,
           -0.0208372807251143,
           -0.018225387847308844,
           -0.016345796713888385,
           -0.016521451761069793,
           -0.015532417599232105,
           -0.013933353273103952,
           -0.01968806842557817,
           -0.012302711748079936,
           -0.013365224960648332,
           -0.023147403237113017,
           -0.00856204213937737,
           -0.05178432211386585,
           -0.009175056798465543,
           -0.019073733379047997,
           -0.03665730126331564,
           -0.029974438857490498,
           -0.019084665939872528,
           -0.014395199774696436,
           -0.012450495001611227,
           -0.047171427454343044,
           -0.024432484474709738,
           -0.02956400304365977,
           -0.018270935901644882,
           -0.02188413049070084,
           -0.017183287254387516,
           -0.014746456544560518
          ],
          [
           -0.012889745712083286,
           -0.045248568123318185,
           -0.03420809967361362,
           1,
           -0.06463418065262132,
           -0.023585024378601712,
           -0.044688710617134655,
           -0.03908710998032446,
           -0.03505604156271106,
           -0.035432760467422435,
           -0.03331162661930158,
           -0.02988219051047236,
           -0.04222405044534421,
           -0.02638503230670282,
           -0.02866375312971873,
           -0.04964311891017198,
           -0.018362598676188502,
           -0.11105933715534569,
           -0.019677301638895226,
           -0.040906515711396606,
           -0.07861714538342075,
           -0.06428473281539766,
           -0.0409299622471241,
           -0.030872690419336695,
           -0.02670197592032698,
           -0.10116628454132306,
           -0.052399170638037056,
           -0.06340449092812078,
           -0.03918479469486275,
           -0.04693383880113726,
           -0.036852167117800844,
           -0.03162601386627988
          ],
          [
           0.04696663563508955,
           -0.03986404439383473,
           -0.030137378055835357,
           -0.06463418065262132,
           1,
           -0.0207784356025564,
           -0.0393708092395222,
           -0.03443579216110898,
           -0.03088441590724855,
           -0.03121630572750729,
           -0.029347584187937092,
           -0.02632624674106772,
           -0.03719944058457994,
           -0.023245246044926705,
           -0.025252801903982946,
           -0.043735649063857844,
           -0.016177472109587303,
           -0.09784341318038459,
           -0.017335727043250863,
           -0.03603869085695689,
           -0.06926180216664575,
           -0.05663492899520529,
           -0.036059347283886406,
           -0.027198878383939844,
           -0.02352447375992169,
           -0.08912762161055658,
           -0.0461637340395394,
           -0.05585943480550869,
           -0.0345218525152476,
           -0.041348769942123914,
           -0.0324668047393078,
           -0.027862557270971523
          ],
          [
           -0.0029881589925866278,
           -0.01454639711318303,
           -0.010997134781891694,
           -0.023585024378601712,
           -0.0207784356025564,
           1,
           -0.014366415514880607,
           -0.012565626877537844,
           -0.011269729030931507,
           -0.011390835687236015,
           -0.010708938854591718,
           -0.009606452265903077,
           -0.013574082694310154,
           -0.008482194546608837,
           -0.009214752047905471,
           -0.015959146367599368,
           -0.005903162540875963,
           -0.03570307942089414,
           -0.006325809978675334,
           -0.013150524905737078,
           -0.025273644318100533,
           -0.02066609598118429,
           -0.013158062439713701,
           -0.009924875712489166,
           -0.008584084791040354,
           -0.03252268547797383,
           -0.016845155020707277,
           -0.020383118009084062,
           -0.012597030316552509,
           -0.015088173738157197,
           -0.011847143006071491,
           -0.010167052260132429
          ],
          [
           -0.020753001562556248,
           -0.02756239385967108,
           -0.0208372807251143,
           -0.044688710617134655,
           -0.0393708092395222,
           -0.014366415514880607,
           1,
           -0.023809246674455917,
           -0.021353790070862185,
           -0.021583261969237842,
           -0.02029120944745106,
           -0.018202226907925594,
           -0.02572006047911739,
           -0.016071992608816362,
           -0.017460036549765568,
           -0.03023925955171873,
           -0.011185263931906782,
           -0.06764990185163906,
           -0.011986092828146042,
           -0.02491750665770393,
           -0.04788829381905286,
           -0.039157949046980764,
           -0.02493178871521762,
           -0.01880557304103832,
           -0.016265053407695396,
           -0.06162371751185974,
           -0.031918061475661064,
           -0.038621764708002826,
           -0.023868749652955223,
           -0.028588947762009223,
           -0.0224478693317988,
           -0.019264447175834875
          ],
          [
           0.020949881867227245,
           -0.024107527499370864,
           -0.018225387847308844,
           -0.03908710998032446,
           -0.03443579216110898,
           -0.012565626877537844,
           -0.023809246674455917,
           1,
           -0.018677154240304358,
           -0.018877862499848064,
           -0.017747765025071513,
           -0.01592063040557107,
           -0.022496125280069956,
           -0.01405741481525083,
           -0.015271471462403367,
           -0.026448855818373408,
           -0.009783223445649537,
           -0.05917018229698725,
           -0.010483670755729785,
           -0.021794169259197905,
           -0.0418856346810268,
           -0.034249613378113906,
           -0.021806661102105968,
           -0.01644834884576545,
           -0.014226276001319118,
           -0.05389936273656901,
           -0.027917224776218347,
           -0.03378063819538994,
           -0.02087687091200546,
           -0.025005405838828473,
           -0.01963409382994284,
           -0.016849704434822192
          ],
          [
           -0.0014431962733506907,
           -0.02162130908162662,
           -0.016345796713888385,
           -0.03505604156271106,
           -0.03088441590724855,
           -0.011269729030931507,
           -0.021353790070862185,
           -0.018677154240304358,
           1,
           -0.016930981409035668,
           -0.015917431313732563,
           -0.01427872977774999,
           -0.020176091381917276,
           -0.012607668315098226,
           -0.013696518841614224,
           -0.023721175326642693,
           -0.008774275916040235,
           -0.05306793904487903,
           -0.009402485830434478,
           -0.01954652835064474,
           -0.037565953353872944,
           -0.030717437812473183,
           -0.019557731905074864,
           -0.014752024415859093,
           -0.01275911478325913,
           -0.04834070109680429,
           -0.02503811083918148,
           -0.030296828217501733,
           -0.01872383132851252,
           -0.022426588888758182,
           -0.017609222316387754,
           -0.015111988051402132
          ],
          [
           0.013431145140138394,
           -0.021853655790284244,
           -0.016521451761069793,
           -0.035432760467422435,
           -0.03121630572750729,
           -0.011390835687236015,
           -0.021583261969237842,
           -0.018877862499848064,
           -0.016930981409035668,
           1,
           -0.016088483064672705,
           -0.014432171729629455,
           -0.020392907505698863,
           -0.012743152721976824,
           -0.013843704243797801,
           -0.023976087598227763,
           -0.00886856595751034,
           -0.0536382172332061,
           -0.009503526735388741,
           -0.01975657907009068,
           -0.03796964424911006,
           -0.0310475332542983,
           -0.01976790302005247,
           -0.01491055248213482,
           -0.012896226662752003,
           -0.048860179485075636,
           -0.0253071751508071,
           -0.030622403708445933,
           -0.018925041188943118,
           -0.022667589287718507,
           -0.01779845437591701,
           -0.015274384355518755
          ],
          [
           0.01748887249096045,
           -0.02054541651142335,
           -0.015532417599232105,
           -0.03331162661930158,
           -0.029347584187937092,
           -0.010708938854591718,
           -0.02029120944745106,
           -0.017747765025071513,
           -0.015917431313732563,
           -0.016088483064672705,
           1,
           -0.013568209465505084,
           -0.019172113929321985,
           -0.011980301275637782,
           -0.013014969782595143,
           -0.02254079183579737,
           -0.008337661359940083,
           -0.050427238561905424,
           -0.008934611077420487,
           -0.01857387842707499,
           -0.035696643315639556,
           -0.029188915048502424,
           -0.01858452448422665,
           -0.014017952607137243,
           -0.012124211653857898,
           -0.04593523152268591,
           -0.02379219564865783,
           -0.02878923530271228,
           -0.017792119426331462,
           -0.021310624990859044,
           -0.016732974195344946,
           -0.014360004181964857
          ],
          [
           -0.005027484426245484,
           -0.01843026332300516,
           -0.013933353273103952,
           -0.02988219051047236,
           -0.02632624674106772,
           -0.009606452265903077,
           -0.018202226907925594,
           -0.01592063040557107,
           -0.01427872977774999,
           -0.014432171729629455,
           -0.013568209465505084,
           1,
           -0.017198342412751182,
           -0.010746927767376702,
           -0.011675077022693407,
           -0.020220214509245868,
           -0.0074792980846263134,
           -0.045235748072138864,
           -0.008014791754352654,
           -0.016661695329960393,
           -0.032021669440910464,
           -0.02618391260929743,
           -0.016671245374202438,
           -0.012574802640545089,
           -0.010876022554237653,
           -0.0412061937170068,
           -0.021342786143732664,
           -0.02582537994310971,
           -0.015960418515697742,
           -0.019116693494189565,
           -0.015010312418139035,
           -0.012881639963147616
          ],
          [
           0.006538999769892055,
           -0.026042279865621253,
           -0.01968806842557817,
           -0.04222405044534421,
           -0.03719944058457994,
           -0.013574082694310154,
           -0.02572006047911739,
           -0.022496125280069956,
           -0.020176091381917276,
           -0.020392907505698863,
           -0.019172113929321985,
           -0.017198342412751182,
           1,
           -0.015185594242937204,
           -0.01649708514463543,
           -0.02857151175563438,
           -0.010568377157971228,
           -0.06391889201902612,
           -0.01132503894673031,
           -0.023543262796301374,
           -0.04524717106476129,
           -0.0369983200021424,
           -0.023556757173485546,
           -0.01776841295649139,
           -0.015368007402733435,
           -0.05822506223423407,
           -0.03015772483149572,
           -0.03649170716269512,
           -0.02255234656573939,
           -0.027012217533515476,
           -0.02120983026735453,
           -0.01820197938407787
          ],
          [
           -0.006737317738891932,
           -0.01627334157541471,
           -0.012302711748079936,
           -0.02638503230670282,
           -0.023245246044926705,
           -0.008482194546608837,
           -0.016071992608816362,
           -0.01405741481525083,
           -0.012607668315098226,
           -0.012743152721976824,
           -0.011980301275637782,
           -0.010746927767376702,
           -0.015185594242937204,
           1,
           -0.010308725001905526,
           -0.017853812051962518,
           -0.006603984454391552,
           -0.039941739675442005,
           -0.007076808485508502,
           -0.01471175178444093,
           -0.028274124763942147,
           -0.023119569493075916,
           -0.014720184172480473,
           -0.01110315436229203,
           -0.009603185093188582,
           -0.03638377019510841,
           -0.0188450074207271,
           -0.022802996450110236,
           -0.014092546462335083,
           -0.016879437779662023,
           -0.013253632726406193,
           -0.01137408204635645
          ],
          [
           0.02433278750538737,
           -0.017678774848222435,
           -0.013365224960648332,
           -0.02866375312971873,
           -0.025252801903982946,
           -0.009214752047905471,
           -0.017460036549765568,
           -0.015271471462403367,
           -0.013696518841614224,
           -0.013843704243797801,
           -0.013014969782595143,
           -0.011675077022693407,
           -0.01649708514463543,
           -0.010308725001905526,
           1,
           -0.01939574131019156,
           -0.007174331942170525,
           -0.04339127397382548,
           -0.0076879910176719255,
           -0.015982319686142204,
           -0.03071599544665404,
           -0.02511627140386514,
           -0.015991480330186457,
           -0.01206206882381015,
           -0.010432555987442301,
           -0.039526023492344985,
           -0.020472540422026276,
           -0.024772357799909682,
           -0.015309637224239774,
           -0.01833721603447766,
           -0.014398271418646753,
           -0.012356394946354076
          ],
          [
           0.014564723744630428,
           -0.030618095195165958,
           -0.023147403237113017,
           -0.04964311891017198,
           -0.043735649063857844,
           -0.015959146367599368,
           -0.03023925955171873,
           -0.026448855818373408,
           -0.023721175326642693,
           -0.023976087598227763,
           -0.02254079183579737,
           -0.020220214509245868,
           -0.02857151175563438,
           -0.017853812051962518,
           -0.01939574131019156,
           1,
           -0.01242531681369219,
           -0.0751498997286957,
           -0.013314929504989283,
           -0.02767998290555039,
           -0.05319742350214435,
           -0.043499190152789184,
           -0.027695848341578275,
           -0.020890450535671203,
           -0.01806827651207525,
           -0.06845562321852006,
           -0.03545665335465904,
           -0.0429035618043744,
           -0.02651495558711528,
           -0.03175845786702853,
           -0.024936549547509405,
           -0.02140019769382206
          ],
          [
           0.01206810316488989,
           -0.011325392252559716,
           -0.00856204213937737,
           -0.018362598676188502,
           -0.016177472109587303,
           -0.005903162540875963,
           -0.011185263931906782,
           -0.009783223445649537,
           -0.008774275916040235,
           -0.00886856595751034,
           -0.008337661359940083,
           -0.0074792980846263134,
           -0.010568377157971228,
           -0.006603984454391552,
           -0.007174331942170525,
           -0.01242531681369219,
           1,
           -0.027797355999545893,
           -0.004925087550286029,
           -0.01023860765835636,
           -0.019677307949661157,
           -0.01609000782082624,
           -0.010244476158180605,
           -0.007727213111759141,
           -0.006683313168981023,
           -0.025321195845180475,
           -0.013115136805373457,
           -0.015869689586150294,
           -0.009807673229479376,
           -0.011747203422937929,
           -0.009223833267574496,
           -0.007915764570590426
          ],
          [
           -0.023273412218729052,
           -0.06849741579467239,
           -0.05178432211386585,
           -0.11105933715534569,
           -0.09784341318038459,
           -0.03570307942089414,
           -0.06764990185163906,
           -0.05917018229698725,
           -0.05306793904487903,
           -0.0536382172332061,
           -0.050427238561905424,
           -0.045235748072138864,
           -0.06391889201902612,
           -0.039941739675442005,
           -0.04339127397382548,
           -0.0751498997286957,
           -0.027797355999545893,
           1,
           -0.029787557219562024,
           -0.06192440405536039,
           -0.11901086640448315,
           -0.0973144180144012,
           -0.06195989749025195,
           -0.04673516975366349,
           -0.040421529851933785,
           -0.1531458197250225,
           -0.07932201895776633,
           -0.09598190525094065,
           -0.05931805770578009,
           -0.07104858351406965,
           -0.05578691920423238,
           -0.04787555300805781
          ],
          [
           -0.008559353312818478,
           -0.012136253885535684,
           -0.009175056798465543,
           -0.019677301638895226,
           -0.017335727043250863,
           -0.006325809978675334,
           -0.011986092828146042,
           -0.010483670755729785,
           -0.009402485830434478,
           -0.009503526735388741,
           -0.008934611077420487,
           -0.008014791754352654,
           -0.01132503894673031,
           -0.007076808485508502,
           -0.0076879910176719255,
           -0.013314929504989283,
           -0.004925087550286029,
           -0.029787557219562024,
           1,
           -0.010971659012350627,
           -0.021086139864779096,
           -0.017242000592930042,
           -0.010977947677873677,
           -0.008280456699480087,
           -0.007161816880732449,
           -0.027134111968000474,
           -0.014054138387795883,
           -0.017005908281775603,
           -0.010509871065386898,
           -0.012588265378056561,
           -0.009884230041377543,
           -0.008482507835885455
          ],
          [
           -0.010078840467619537,
           -0.02522967169771151,
           -0.019073733379047997,
           -0.040906515711396606,
           -0.03603869085695689,
           -0.013150524905737078,
           -0.02491750665770393,
           -0.021794169259197905,
           -0.01954652835064474,
           -0.01975657907009068,
           -0.01857387842707499,
           -0.016661695329960393,
           -0.023543262796301374,
           -0.01471175178444093,
           -0.015982319686142204,
           -0.02767998290555039,
           -0.01023860765835636,
           -0.06192440405536039,
           -0.010971659012350627,
           1,
           -0.04383530463172393,
           -0.03584384592430405,
           -0.02282170581133823,
           -0.01721397772371802,
           -0.01488847302999793,
           -0.05640824122652174,
           -0.029216700710331608,
           -0.035353041137508534,
           -0.021848636248538996,
           -0.026169343994241628,
           -0.0205480110486009,
           -0.017634015396441292
          ],
          [
           -0.08346180995321548,
           -0.04848823551311073,
           -0.03665730126331564,
           -0.07861714538342075,
           -0.06926180216664575,
           -0.025273644318100533,
           -0.04788829381905286,
           -0.0418856346810268,
           -0.037565953353872944,
           -0.03796964424911006,
           -0.035696643315639556,
           -0.032021669440910464,
           -0.04524717106476129,
           -0.028274124763942147,
           -0.03071599544665404,
           -0.05319742350214435,
           -0.019677307949661157,
           -0.11901086640448315,
           -0.021086139864779096,
           -0.04383530463172393,
           1,
           -0.06888733486892462,
           -0.04386042987200195,
           -0.033083086295601714,
           -0.028613760629101467,
           -0.10840949966542927,
           -0.056150800610184744,
           -0.06794407019318006,
           -0.041990313340285954,
           -0.050294166726374656,
           -0.03949067633491736,
           -0.03389034553557078
          ],
          [
           -0.05970374820533701,
           -0.039648517501472934,
           -0.029974438857490498,
           -0.06428473281539766,
           -0.05663492899520529,
           -0.02066609598118429,
           -0.039157949046980764,
           -0.034249613378113906,
           -0.030717437812473183,
           -0.0310475332542983,
           -0.029188915048502424,
           -0.02618391260929743,
           -0.0369983200021424,
           -0.023119569493075916,
           -0.02511627140386514,
           -0.043499190152789184,
           -0.01609000782082624,
           -0.0973144180144012,
           -0.017242000592930042,
           -0.03584384592430405,
           -0.06888733486892462,
           1,
           -0.03586439067125838,
           -0.02705182632680529,
           -0.02339728754986608,
           -0.08864574879505525,
           -0.045914147569108416,
           -0.05555742805792992,
           -0.03433520844276749,
           -0.041125215808966775,
           -0.03229127138244932,
           -0.02771191700169645
          ],
          [
           0.012207020869795358,
           -0.02524413267999201,
           -0.019084665939872528,
           -0.0409299622471241,
           -0.036059347283886406,
           -0.013158062439713701,
           -0.02493178871521762,
           -0.021806661102105968,
           -0.019557731905074864,
           -0.01976790302005247,
           -0.01858452448422665,
           -0.016671245374202438,
           -0.023556757173485546,
           -0.014720184172480473,
           -0.015991480330186457,
           -0.027695848341578275,
           -0.010244476158180605,
           -0.06195989749025195,
           -0.010977947677873677,
           -0.02282170581133823,
           -0.04386042987200195,
           -0.03586439067125838,
           1,
           -0.01722384432165969,
           -0.014897006709993686,
           -0.056440572942392374,
           -0.0292334469524675,
           -0.03537330456810606,
           -0.02186115931048873,
           -0.026184343571894718,
           -0.020559788626495174,
           -0.01764412274889635
          ],
          [
           0.031602661415866366,
           -0.01904116814055461,
           -0.014395199774696436,
           -0.030872690419336695,
           -0.027198878383939844,
           -0.009924875712489166,
           -0.01880557304103832,
           -0.01644834884576545,
           -0.014752024415859093,
           -0.01491055248213482,
           -0.014017952607137243,
           -0.012574802640545089,
           -0.01776841295649139,
           -0.01110315436229203,
           -0.01206206882381015,
           -0.020890450535671203,
           -0.007727213111759141,
           -0.04673516975366349,
           -0.008280456699480087,
           -0.01721397772371802,
           -0.033083086295601714,
           -0.02705182632680529,
           -0.01722384432165969,
           1,
           -0.011236528232193356,
           -0.04257204844265131,
           -0.022050231862040044,
           -0.026681409439041667,
           -0.01648945580564116,
           -0.019750351296389405,
           -0.015507856702149233,
           -0.013308625501742912
          ],
          [
           -0.01467968700850699,
           -0.016468821028488522,
           -0.012450495001611227,
           -0.02670197592032698,
           -0.02352447375992169,
           -0.008584084791040354,
           -0.016265053407695396,
           -0.014226276001319118,
           -0.01275911478325913,
           -0.012896226662752003,
           -0.012124211653857898,
           -0.010876022554237653,
           -0.015368007402733435,
           -0.009603185093188582,
           -0.010432555987442301,
           -0.01806827651207525,
           -0.006683313168981023,
           -0.040421529851933785,
           -0.007161816880732449,
           -0.01488847302999793,
           -0.028613760629101467,
           -0.02339728754986608,
           -0.014897006709993686,
           -0.011236528232193356,
           1,
           -0.036820821151455706,
           -0.019071378367757855,
           -0.023076911752253734,
           -0.01426182965854336,
           -0.017082197812079022,
           -0.013412838680794547,
           -0.011510710367425871
          ],
          [
           -0.02828820219305939,
           -0.062395735776237804,
           -0.047171427454343044,
           -0.10116628454132306,
           -0.08912762161055658,
           -0.03252268547797383,
           -0.06162371751185974,
           -0.05389936273656901,
           -0.04834070109680429,
           -0.048860179485075636,
           -0.04593523152268591,
           -0.0412061937170068,
           -0.05822506223423407,
           -0.03638377019510841,
           -0.039526023492344985,
           -0.06845562321852006,
           -0.025321195845180475,
           -0.1531458197250225,
           -0.027134111968000474,
           -0.05640824122652174,
           -0.10840949966542927,
           -0.08864574879505525,
           -0.056440572942392374,
           -0.04257204844265131,
           -0.036820821151455706,
           1,
           -0.0722560943169395,
           -0.08743193491108879,
           -0.05403406555459248,
           -0.06471964807414844,
           -0.05081747727347583,
           -0.04361084751848985
          ],
          [
           0.011442081485944656,
           -0.03231792904966733,
           -0.024432484474709738,
           -0.052399170638037056,
           -0.0461637340395394,
           -0.016845155020707277,
           -0.031918061475661064,
           -0.027917224776218347,
           -0.02503811083918148,
           -0.0253071751508071,
           -0.02379219564865783,
           -0.021342786143732664,
           -0.03015772483149572,
           -0.0188450074207271,
           -0.020472540422026276,
           -0.03545665335465904,
           -0.013115136805373457,
           -0.07932201895776633,
           -0.014054138387795883,
           -0.029216700710331608,
           -0.056150800610184744,
           -0.045914147569108416,
           -0.0292334469524675,
           -0.022050231862040044,
           -0.019071378367757855,
           -0.0722560943169395,
           1,
           -0.04528545154535749,
           -0.027986994225387835,
           -0.03352160157355394,
           -0.026320959350442635,
           -0.02258827880406496
          ],
          [
           0.08308225429000134,
           -0.03910561587701691,
           -0.02956400304365977,
           -0.06340449092812078,
           -0.05585943480550869,
           -0.020383118009084062,
           -0.038621764708002826,
           -0.03378063819538994,
           -0.030296828217501733,
           -0.030622403708445933,
           -0.02878923530271228,
           -0.02582537994310971,
           -0.03649170716269512,
           -0.022802996450110236,
           -0.024772357799909682,
           -0.0429035618043744,
           -0.015869689586150294,
           -0.09598190525094065,
           -0.017005908281775603,
           -0.035353041137508534,
           -0.06794407019318006,
           -0.05555742805792992,
           -0.03537330456810606,
           -0.026681409439041667,
           -0.023076911752253734,
           -0.08743193491108879,
           -0.04528545154535749,
           1,
           -0.03386506121875308,
           -0.04056209396038883,
           -0.03184911150374433,
           -0.027332461584316892
          ],
          [
           -0.026603538188711633,
           -0.02416777592764251,
           -0.018270935901644882,
           -0.03918479469486275,
           -0.0345218525152476,
           -0.012597030316552509,
           -0.023868749652955223,
           -0.02087687091200546,
           -0.01872383132851252,
           -0.018925041188943118,
           -0.017792119426331462,
           -0.015960418515697742,
           -0.02255234656573939,
           -0.014092546462335083,
           -0.015309637224239774,
           -0.02651495558711528,
           -0.009807673229479376,
           -0.05931805770578009,
           -0.010509871065386898,
           -0.021848636248538996,
           -0.041990313340285954,
           -0.03433520844276749,
           -0.02186115931048873,
           -0.01648945580564116,
           -0.01426182965854336,
           -0.05403406555459248,
           -0.027986994225387835,
           -0.03386506121875308,
           1,
           -0.025067898203510866,
           -0.019683162457732325,
           -0.01689181444419836
          ],
          [
           0.022037192346426968,
           -0.028947108397601607,
           -0.02188413049070084,
           -0.04693383880113726,
           -0.041348769942123914,
           -0.015088173738157197,
           -0.028588947762009223,
           -0.025005405838828473,
           -0.022426588888758182,
           -0.022667589287718507,
           -0.021310624990859044,
           -0.019116693494189565,
           -0.027012217533515476,
           -0.016879437779662023,
           -0.01833721603447766,
           -0.03175845786702853,
           -0.011747203422937929,
           -0.07104858351406965,
           -0.012588265378056561,
           -0.026169343994241628,
           -0.050294166726374656,
           -0.041125215808966775,
           -0.026184343571894718,
           -0.019750351296389405,
           -0.017082197812079022,
           -0.06471964807414844,
           -0.03352160157355394,
           -0.04056209396038883,
           -0.025067898203510866,
           1,
           -0.023575633892727817,
           -0.020232278932589588
          ],
          [
           0.019616635599466043,
           -0.022729094902411134,
           -0.017183287254387516,
           -0.036852167117800844,
           -0.0324668047393078,
           -0.011847143006071491,
           -0.0224478693317988,
           -0.01963409382994284,
           -0.017609222316387754,
           -0.01779845437591701,
           -0.016732974195344946,
           -0.015010312418139035,
           -0.02120983026735453,
           -0.013253632726406193,
           -0.014398271418646753,
           -0.024936549547509405,
           -0.009223833267574496,
           -0.05578691920423238,
           -0.009884230041377543,
           -0.0205480110486009,
           -0.03949067633491736,
           -0.03229127138244932,
           -0.020559788626495174,
           -0.015507856702149233,
           -0.013412838680794547,
           -0.05081747727347583,
           -0.026320959350442635,
           -0.03184911150374433,
           -0.019683162457732325,
           -0.023575633892727817,
           1,
           -0.015886263375065848
          ],
          [
           0.00819722298093422,
           -0.019505791023193768,
           -0.014746456544560518,
           -0.03162601386627988,
           -0.027862557270971523,
           -0.010167052260132429,
           -0.019264447175834875,
           -0.016849704434822192,
           -0.015111988051402132,
           -0.015274384355518755,
           -0.014360004181964857,
           -0.012881639963147616,
           -0.01820197938407787,
           -0.01137408204635645,
           -0.012356394946354076,
           -0.02140019769382206,
           -0.007915764570590426,
           -0.04787555300805781,
           -0.008482507835885455,
           -0.017634015396441292,
           -0.03389034553557078,
           -0.02771191700169645,
           -0.01764412274889635,
           -0.013308625501742912,
           -0.011510710367425871,
           -0.04361084751848985,
           -0.02258827880406496,
           -0.027332461584316892,
           -0.01689181444419836,
           -0.020232278932589588,
           -0.015886263375065848,
           1
          ]
         ]
        }
       ],
       "layout": {
        "annotations": [
         {
          "font": {
           "color": "#000000"
          },
          "showarrow": false,
          "text": "1.0",
          "x": "Rating",
          "xref": "x",
          "y": "Rating",
          "yref": "y"
         },
         {
          "font": {
           "color": "#FFFFFF"
          },
          "showarrow": false,
          "text": "0.03",
          "x": "City_Amsterdam",
          "xref": "x",
          "y": "Rating",
          "yref": "y"
         },
         {
          "font": {
           "color": "#FFFFFF"
          },
          "showarrow": false,
          "text": "0.04",
          "x": "City_Athens",
          "xref": "x",
          "y": "Rating",
          "yref": "y"
         },
         {
          "font": {
           "color": "#FFFFFF"
          },
          "showarrow": false,
          "text": "-0.01",
          "x": "City_Barcelona",
          "xref": "x",
          "y": "Rating",
          "yref": "y"
         },
         {
          "font": {
           "color": "#FFFFFF"
          },
          "showarrow": false,
          "text": "0.05",
          "x": "City_Berlin",
          "xref": "x",
          "y": "Rating",
          "yref": "y"
         },
         {
          "font": {
           "color": "#FFFFFF"
          },
          "showarrow": false,
          "text": "-0.0",
          "x": "City_Bratislava",
          "xref": "x",
          "y": "Rating",
          "yref": "y"
         },
         {
          "font": {
           "color": "#FFFFFF"
          },
          "showarrow": false,
          "text": "-0.02",
          "x": "City_Brussels",
          "xref": "x",
          "y": "Rating",
          "yref": "y"
         },
         {
          "font": {
           "color": "#FFFFFF"
          },
          "showarrow": false,
          "text": "0.02",
          "x": "City_Budapest",
          "xref": "x",
          "y": "Rating",
          "yref": "y"
         },
         {
          "font": {
           "color": "#FFFFFF"
          },
          "showarrow": false,
          "text": "-0.0",
          "x": "City_Copenhagen",
          "xref": "x",
          "y": "Rating",
          "yref": "y"
         },
         {
          "font": {
           "color": "#FFFFFF"
          },
          "showarrow": false,
          "text": "0.01",
          "x": "City_Dublin",
          "xref": "x",
          "y": "Rating",
          "yref": "y"
         },
         {
          "font": {
           "color": "#FFFFFF"
          },
          "showarrow": false,
          "text": "0.02",
          "x": "City_Edinburgh",
          "xref": "x",
          "y": "Rating",
          "yref": "y"
         },
         {
          "font": {
           "color": "#FFFFFF"
          },
          "showarrow": false,
          "text": "-0.01",
          "x": "City_Geneva",
          "xref": "x",
          "y": "Rating",
          "yref": "y"
         },
         {
          "font": {
           "color": "#FFFFFF"
          },
          "showarrow": false,
          "text": "0.01",
          "x": "City_Hamburg",
          "xref": "x",
          "y": "Rating",
          "yref": "y"
         },
         {
          "font": {
           "color": "#FFFFFF"
          },
          "showarrow": false,
          "text": "-0.01",
          "x": "City_Helsinki",
          "xref": "x",
          "y": "Rating",
          "yref": "y"
         },
         {
          "font": {
           "color": "#FFFFFF"
          },
          "showarrow": false,
          "text": "0.02",
          "x": "City_Krakow",
          "xref": "x",
          "y": "Rating",
          "yref": "y"
         },
         {
          "font": {
           "color": "#FFFFFF"
          },
          "showarrow": false,
          "text": "0.01",
          "x": "City_Lisbon",
          "xref": "x",
          "y": "Rating",
          "yref": "y"
         },
         {
          "font": {
           "color": "#FFFFFF"
          },
          "showarrow": false,
          "text": "0.01",
          "x": "City_Ljubljana",
          "xref": "x",
          "y": "Rating",
          "yref": "y"
         },
         {
          "font": {
           "color": "#FFFFFF"
          },
          "showarrow": false,
          "text": "-0.02",
          "x": "City_London",
          "xref": "x",
          "y": "Rating",
          "yref": "y"
         },
         {
          "font": {
           "color": "#FFFFFF"
          },
          "showarrow": false,
          "text": "-0.01",
          "x": "City_Luxembourg",
          "xref": "x",
          "y": "Rating",
          "yref": "y"
         },
         {
          "font": {
           "color": "#FFFFFF"
          },
          "showarrow": false,
          "text": "-0.01",
          "x": "City_Lyon",
          "xref": "x",
          "y": "Rating",
          "yref": "y"
         },
         {
          "font": {
           "color": "#FFFFFF"
          },
          "showarrow": false,
          "text": "-0.08",
          "x": "City_Madrid",
          "xref": "x",
          "y": "Rating",
          "yref": "y"
         },
         {
          "font": {
           "color": "#FFFFFF"
          },
          "showarrow": false,
          "text": "-0.06",
          "x": "City_Milan",
          "xref": "x",
          "y": "Rating",
          "yref": "y"
         },
         {
          "font": {
           "color": "#FFFFFF"
          },
          "showarrow": false,
          "text": "0.01",
          "x": "City_Munich",
          "xref": "x",
          "y": "Rating",
          "yref": "y"
         },
         {
          "font": {
           "color": "#FFFFFF"
          },
          "showarrow": false,
          "text": "0.03",
          "x": "City_Oporto",
          "xref": "x",
          "y": "Rating",
          "yref": "y"
         },
         {
          "font": {
           "color": "#FFFFFF"
          },
          "showarrow": false,
          "text": "-0.01",
          "x": "City_Oslo",
          "xref": "x",
          "y": "Rating",
          "yref": "y"
         },
         {
          "font": {
           "color": "#FFFFFF"
          },
          "showarrow": false,
          "text": "-0.03",
          "x": "City_Paris",
          "xref": "x",
          "y": "Rating",
          "yref": "y"
         },
         {
          "font": {
           "color": "#FFFFFF"
          },
          "showarrow": false,
          "text": "0.01",
          "x": "City_Prague",
          "xref": "x",
          "y": "Rating",
          "yref": "y"
         },
         {
          "font": {
           "color": "#FFFFFF"
          },
          "showarrow": false,
          "text": "0.08",
          "x": "City_Rome",
          "xref": "x",
          "y": "Rating",
          "yref": "y"
         },
         {
          "font": {
           "color": "#FFFFFF"
          },
          "showarrow": false,
          "text": "-0.03",
          "x": "City_Stockholm",
          "xref": "x",
          "y": "Rating",
          "yref": "y"
         },
         {
          "font": {
           "color": "#FFFFFF"
          },
          "showarrow": false,
          "text": "0.02",
          "x": "City_Vienna",
          "xref": "x",
          "y": "Rating",
          "yref": "y"
         },
         {
          "font": {
           "color": "#FFFFFF"
          },
          "showarrow": false,
          "text": "0.02",
          "x": "City_Warsaw",
          "xref": "x",
          "y": "Rating",
          "yref": "y"
         },
         {
          "font": {
           "color": "#FFFFFF"
          },
          "showarrow": false,
          "text": "0.01",
          "x": "City_Zurich",
          "xref": "x",
          "y": "Rating",
          "yref": "y"
         },
         {
          "font": {
           "color": "#FFFFFF"
          },
          "showarrow": false,
          "text": "0.03",
          "x": "Rating",
          "xref": "x",
          "y": "City_Amsterdam",
          "yref": "y"
         },
         {
          "font": {
           "color": "#000000"
          },
          "showarrow": false,
          "text": "1.0",
          "x": "City_Amsterdam",
          "xref": "x",
          "y": "City_Amsterdam",
          "yref": "y"
         },
         {
          "font": {
           "color": "#FFFFFF"
          },
          "showarrow": false,
          "text": "-0.02",
          "x": "City_Athens",
          "xref": "x",
          "y": "City_Amsterdam",
          "yref": "y"
         },
         {
          "font": {
           "color": "#FFFFFF"
          },
          "showarrow": false,
          "text": "-0.05",
          "x": "City_Barcelona",
          "xref": "x",
          "y": "City_Amsterdam",
          "yref": "y"
         },
         {
          "font": {
           "color": "#FFFFFF"
          },
          "showarrow": false,
          "text": "-0.04",
          "x": "City_Berlin",
          "xref": "x",
          "y": "City_Amsterdam",
          "yref": "y"
         },
         {
          "font": {
           "color": "#FFFFFF"
          },
          "showarrow": false,
          "text": "-0.01",
          "x": "City_Bratislava",
          "xref": "x",
          "y": "City_Amsterdam",
          "yref": "y"
         },
         {
          "font": {
           "color": "#FFFFFF"
          },
          "showarrow": false,
          "text": "-0.03",
          "x": "City_Brussels",
          "xref": "x",
          "y": "City_Amsterdam",
          "yref": "y"
         },
         {
          "font": {
           "color": "#FFFFFF"
          },
          "showarrow": false,
          "text": "-0.02",
          "x": "City_Budapest",
          "xref": "x",
          "y": "City_Amsterdam",
          "yref": "y"
         },
         {
          "font": {
           "color": "#FFFFFF"
          },
          "showarrow": false,
          "text": "-0.02",
          "x": "City_Copenhagen",
          "xref": "x",
          "y": "City_Amsterdam",
          "yref": "y"
         },
         {
          "font": {
           "color": "#FFFFFF"
          },
          "showarrow": false,
          "text": "-0.02",
          "x": "City_Dublin",
          "xref": "x",
          "y": "City_Amsterdam",
          "yref": "y"
         },
         {
          "font": {
           "color": "#FFFFFF"
          },
          "showarrow": false,
          "text": "-0.02",
          "x": "City_Edinburgh",
          "xref": "x",
          "y": "City_Amsterdam",
          "yref": "y"
         },
         {
          "font": {
           "color": "#FFFFFF"
          },
          "showarrow": false,
          "text": "-0.02",
          "x": "City_Geneva",
          "xref": "x",
          "y": "City_Amsterdam",
          "yref": "y"
         },
         {
          "font": {
           "color": "#FFFFFF"
          },
          "showarrow": false,
          "text": "-0.03",
          "x": "City_Hamburg",
          "xref": "x",
          "y": "City_Amsterdam",
          "yref": "y"
         },
         {
          "font": {
           "color": "#FFFFFF"
          },
          "showarrow": false,
          "text": "-0.02",
          "x": "City_Helsinki",
          "xref": "x",
          "y": "City_Amsterdam",
          "yref": "y"
         },
         {
          "font": {
           "color": "#FFFFFF"
          },
          "showarrow": false,
          "text": "-0.02",
          "x": "City_Krakow",
          "xref": "x",
          "y": "City_Amsterdam",
          "yref": "y"
         },
         {
          "font": {
           "color": "#FFFFFF"
          },
          "showarrow": false,
          "text": "-0.03",
          "x": "City_Lisbon",
          "xref": "x",
          "y": "City_Amsterdam",
          "yref": "y"
         },
         {
          "font": {
           "color": "#FFFFFF"
          },
          "showarrow": false,
          "text": "-0.01",
          "x": "City_Ljubljana",
          "xref": "x",
          "y": "City_Amsterdam",
          "yref": "y"
         },
         {
          "font": {
           "color": "#FFFFFF"
          },
          "showarrow": false,
          "text": "-0.07",
          "x": "City_London",
          "xref": "x",
          "y": "City_Amsterdam",
          "yref": "y"
         },
         {
          "font": {
           "color": "#FFFFFF"
          },
          "showarrow": false,
          "text": "-0.01",
          "x": "City_Luxembourg",
          "xref": "x",
          "y": "City_Amsterdam",
          "yref": "y"
         },
         {
          "font": {
           "color": "#FFFFFF"
          },
          "showarrow": false,
          "text": "-0.03",
          "x": "City_Lyon",
          "xref": "x",
          "y": "City_Amsterdam",
          "yref": "y"
         },
         {
          "font": {
           "color": "#FFFFFF"
          },
          "showarrow": false,
          "text": "-0.05",
          "x": "City_Madrid",
          "xref": "x",
          "y": "City_Amsterdam",
          "yref": "y"
         },
         {
          "font": {
           "color": "#FFFFFF"
          },
          "showarrow": false,
          "text": "-0.04",
          "x": "City_Milan",
          "xref": "x",
          "y": "City_Amsterdam",
          "yref": "y"
         },
         {
          "font": {
           "color": "#FFFFFF"
          },
          "showarrow": false,
          "text": "-0.03",
          "x": "City_Munich",
          "xref": "x",
          "y": "City_Amsterdam",
          "yref": "y"
         },
         {
          "font": {
           "color": "#FFFFFF"
          },
          "showarrow": false,
          "text": "-0.02",
          "x": "City_Oporto",
          "xref": "x",
          "y": "City_Amsterdam",
          "yref": "y"
         },
         {
          "font": {
           "color": "#FFFFFF"
          },
          "showarrow": false,
          "text": "-0.02",
          "x": "City_Oslo",
          "xref": "x",
          "y": "City_Amsterdam",
          "yref": "y"
         },
         {
          "font": {
           "color": "#FFFFFF"
          },
          "showarrow": false,
          "text": "-0.06",
          "x": "City_Paris",
          "xref": "x",
          "y": "City_Amsterdam",
          "yref": "y"
         },
         {
          "font": {
           "color": "#FFFFFF"
          },
          "showarrow": false,
          "text": "-0.03",
          "x": "City_Prague",
          "xref": "x",
          "y": "City_Amsterdam",
          "yref": "y"
         },
         {
          "font": {
           "color": "#FFFFFF"
          },
          "showarrow": false,
          "text": "-0.04",
          "x": "City_Rome",
          "xref": "x",
          "y": "City_Amsterdam",
          "yref": "y"
         },
         {
          "font": {
           "color": "#FFFFFF"
          },
          "showarrow": false,
          "text": "-0.02",
          "x": "City_Stockholm",
          "xref": "x",
          "y": "City_Amsterdam",
          "yref": "y"
         },
         {
          "font": {
           "color": "#FFFFFF"
          },
          "showarrow": false,
          "text": "-0.03",
          "x": "City_Vienna",
          "xref": "x",
          "y": "City_Amsterdam",
          "yref": "y"
         },
         {
          "font": {
           "color": "#FFFFFF"
          },
          "showarrow": false,
          "text": "-0.02",
          "x": "City_Warsaw",
          "xref": "x",
          "y": "City_Amsterdam",
          "yref": "y"
         },
         {
          "font": {
           "color": "#FFFFFF"
          },
          "showarrow": false,
          "text": "-0.02",
          "x": "City_Zurich",
          "xref": "x",
          "y": "City_Amsterdam",
          "yref": "y"
         },
         {
          "font": {
           "color": "#FFFFFF"
          },
          "showarrow": false,
          "text": "0.04",
          "x": "Rating",
          "xref": "x",
          "y": "City_Athens",
          "yref": "y"
         },
         {
          "font": {
           "color": "#FFFFFF"
          },
          "showarrow": false,
          "text": "-0.02",
          "x": "City_Amsterdam",
          "xref": "x",
          "y": "City_Athens",
          "yref": "y"
         },
         {
          "font": {
           "color": "#000000"
          },
          "showarrow": false,
          "text": "1.0",
          "x": "City_Athens",
          "xref": "x",
          "y": "City_Athens",
          "yref": "y"
         },
         {
          "font": {
           "color": "#FFFFFF"
          },
          "showarrow": false,
          "text": "-0.03",
          "x": "City_Barcelona",
          "xref": "x",
          "y": "City_Athens",
          "yref": "y"
         },
         {
          "font": {
           "color": "#FFFFFF"
          },
          "showarrow": false,
          "text": "-0.03",
          "x": "City_Berlin",
          "xref": "x",
          "y": "City_Athens",
          "yref": "y"
         },
         {
          "font": {
           "color": "#FFFFFF"
          },
          "showarrow": false,
          "text": "-0.01",
          "x": "City_Bratislava",
          "xref": "x",
          "y": "City_Athens",
          "yref": "y"
         },
         {
          "font": {
           "color": "#FFFFFF"
          },
          "showarrow": false,
          "text": "-0.02",
          "x": "City_Brussels",
          "xref": "x",
          "y": "City_Athens",
          "yref": "y"
         },
         {
          "font": {
           "color": "#FFFFFF"
          },
          "showarrow": false,
          "text": "-0.02",
          "x": "City_Budapest",
          "xref": "x",
          "y": "City_Athens",
          "yref": "y"
         },
         {
          "font": {
           "color": "#FFFFFF"
          },
          "showarrow": false,
          "text": "-0.02",
          "x": "City_Copenhagen",
          "xref": "x",
          "y": "City_Athens",
          "yref": "y"
         },
         {
          "font": {
           "color": "#FFFFFF"
          },
          "showarrow": false,
          "text": "-0.02",
          "x": "City_Dublin",
          "xref": "x",
          "y": "City_Athens",
          "yref": "y"
         },
         {
          "font": {
           "color": "#FFFFFF"
          },
          "showarrow": false,
          "text": "-0.02",
          "x": "City_Edinburgh",
          "xref": "x",
          "y": "City_Athens",
          "yref": "y"
         },
         {
          "font": {
           "color": "#FFFFFF"
          },
          "showarrow": false,
          "text": "-0.01",
          "x": "City_Geneva",
          "xref": "x",
          "y": "City_Athens",
          "yref": "y"
         },
         {
          "font": {
           "color": "#FFFFFF"
          },
          "showarrow": false,
          "text": "-0.02",
          "x": "City_Hamburg",
          "xref": "x",
          "y": "City_Athens",
          "yref": "y"
         },
         {
          "font": {
           "color": "#FFFFFF"
          },
          "showarrow": false,
          "text": "-0.01",
          "x": "City_Helsinki",
          "xref": "x",
          "y": "City_Athens",
          "yref": "y"
         },
         {
          "font": {
           "color": "#FFFFFF"
          },
          "showarrow": false,
          "text": "-0.01",
          "x": "City_Krakow",
          "xref": "x",
          "y": "City_Athens",
          "yref": "y"
         },
         {
          "font": {
           "color": "#FFFFFF"
          },
          "showarrow": false,
          "text": "-0.02",
          "x": "City_Lisbon",
          "xref": "x",
          "y": "City_Athens",
          "yref": "y"
         },
         {
          "font": {
           "color": "#FFFFFF"
          },
          "showarrow": false,
          "text": "-0.01",
          "x": "City_Ljubljana",
          "xref": "x",
          "y": "City_Athens",
          "yref": "y"
         },
         {
          "font": {
           "color": "#FFFFFF"
          },
          "showarrow": false,
          "text": "-0.05",
          "x": "City_London",
          "xref": "x",
          "y": "City_Athens",
          "yref": "y"
         },
         {
          "font": {
           "color": "#FFFFFF"
          },
          "showarrow": false,
          "text": "-0.01",
          "x": "City_Luxembourg",
          "xref": "x",
          "y": "City_Athens",
          "yref": "y"
         },
         {
          "font": {
           "color": "#FFFFFF"
          },
          "showarrow": false,
          "text": "-0.02",
          "x": "City_Lyon",
          "xref": "x",
          "y": "City_Athens",
          "yref": "y"
         },
         {
          "font": {
           "color": "#FFFFFF"
          },
          "showarrow": false,
          "text": "-0.04",
          "x": "City_Madrid",
          "xref": "x",
          "y": "City_Athens",
          "yref": "y"
         },
         {
          "font": {
           "color": "#FFFFFF"
          },
          "showarrow": false,
          "text": "-0.03",
          "x": "City_Milan",
          "xref": "x",
          "y": "City_Athens",
          "yref": "y"
         },
         {
          "font": {
           "color": "#FFFFFF"
          },
          "showarrow": false,
          "text": "-0.02",
          "x": "City_Munich",
          "xref": "x",
          "y": "City_Athens",
          "yref": "y"
         },
         {
          "font": {
           "color": "#FFFFFF"
          },
          "showarrow": false,
          "text": "-0.01",
          "x": "City_Oporto",
          "xref": "x",
          "y": "City_Athens",
          "yref": "y"
         },
         {
          "font": {
           "color": "#FFFFFF"
          },
          "showarrow": false,
          "text": "-0.01",
          "x": "City_Oslo",
          "xref": "x",
          "y": "City_Athens",
          "yref": "y"
         },
         {
          "font": {
           "color": "#FFFFFF"
          },
          "showarrow": false,
          "text": "-0.05",
          "x": "City_Paris",
          "xref": "x",
          "y": "City_Athens",
          "yref": "y"
         },
         {
          "font": {
           "color": "#FFFFFF"
          },
          "showarrow": false,
          "text": "-0.02",
          "x": "City_Prague",
          "xref": "x",
          "y": "City_Athens",
          "yref": "y"
         },
         {
          "font": {
           "color": "#FFFFFF"
          },
          "showarrow": false,
          "text": "-0.03",
          "x": "City_Rome",
          "xref": "x",
          "y": "City_Athens",
          "yref": "y"
         },
         {
          "font": {
           "color": "#FFFFFF"
          },
          "showarrow": false,
          "text": "-0.02",
          "x": "City_Stockholm",
          "xref": "x",
          "y": "City_Athens",
          "yref": "y"
         },
         {
          "font": {
           "color": "#FFFFFF"
          },
          "showarrow": false,
          "text": "-0.02",
          "x": "City_Vienna",
          "xref": "x",
          "y": "City_Athens",
          "yref": "y"
         },
         {
          "font": {
           "color": "#FFFFFF"
          },
          "showarrow": false,
          "text": "-0.02",
          "x": "City_Warsaw",
          "xref": "x",
          "y": "City_Athens",
          "yref": "y"
         },
         {
          "font": {
           "color": "#FFFFFF"
          },
          "showarrow": false,
          "text": "-0.01",
          "x": "City_Zurich",
          "xref": "x",
          "y": "City_Athens",
          "yref": "y"
         },
         {
          "font": {
           "color": "#FFFFFF"
          },
          "showarrow": false,
          "text": "-0.01",
          "x": "Rating",
          "xref": "x",
          "y": "City_Barcelona",
          "yref": "y"
         },
         {
          "font": {
           "color": "#FFFFFF"
          },
          "showarrow": false,
          "text": "-0.05",
          "x": "City_Amsterdam",
          "xref": "x",
          "y": "City_Barcelona",
          "yref": "y"
         },
         {
          "font": {
           "color": "#FFFFFF"
          },
          "showarrow": false,
          "text": "-0.03",
          "x": "City_Athens",
          "xref": "x",
          "y": "City_Barcelona",
          "yref": "y"
         },
         {
          "font": {
           "color": "#000000"
          },
          "showarrow": false,
          "text": "1.0",
          "x": "City_Barcelona",
          "xref": "x",
          "y": "City_Barcelona",
          "yref": "y"
         },
         {
          "font": {
           "color": "#FFFFFF"
          },
          "showarrow": false,
          "text": "-0.06",
          "x": "City_Berlin",
          "xref": "x",
          "y": "City_Barcelona",
          "yref": "y"
         },
         {
          "font": {
           "color": "#FFFFFF"
          },
          "showarrow": false,
          "text": "-0.02",
          "x": "City_Bratislava",
          "xref": "x",
          "y": "City_Barcelona",
          "yref": "y"
         },
         {
          "font": {
           "color": "#FFFFFF"
          },
          "showarrow": false,
          "text": "-0.04",
          "x": "City_Brussels",
          "xref": "x",
          "y": "City_Barcelona",
          "yref": "y"
         },
         {
          "font": {
           "color": "#FFFFFF"
          },
          "showarrow": false,
          "text": "-0.04",
          "x": "City_Budapest",
          "xref": "x",
          "y": "City_Barcelona",
          "yref": "y"
         },
         {
          "font": {
           "color": "#FFFFFF"
          },
          "showarrow": false,
          "text": "-0.04",
          "x": "City_Copenhagen",
          "xref": "x",
          "y": "City_Barcelona",
          "yref": "y"
         },
         {
          "font": {
           "color": "#FFFFFF"
          },
          "showarrow": false,
          "text": "-0.04",
          "x": "City_Dublin",
          "xref": "x",
          "y": "City_Barcelona",
          "yref": "y"
         },
         {
          "font": {
           "color": "#FFFFFF"
          },
          "showarrow": false,
          "text": "-0.03",
          "x": "City_Edinburgh",
          "xref": "x",
          "y": "City_Barcelona",
          "yref": "y"
         },
         {
          "font": {
           "color": "#FFFFFF"
          },
          "showarrow": false,
          "text": "-0.03",
          "x": "City_Geneva",
          "xref": "x",
          "y": "City_Barcelona",
          "yref": "y"
         },
         {
          "font": {
           "color": "#FFFFFF"
          },
          "showarrow": false,
          "text": "-0.04",
          "x": "City_Hamburg",
          "xref": "x",
          "y": "City_Barcelona",
          "yref": "y"
         },
         {
          "font": {
           "color": "#FFFFFF"
          },
          "showarrow": false,
          "text": "-0.03",
          "x": "City_Helsinki",
          "xref": "x",
          "y": "City_Barcelona",
          "yref": "y"
         },
         {
          "font": {
           "color": "#FFFFFF"
          },
          "showarrow": false,
          "text": "-0.03",
          "x": "City_Krakow",
          "xref": "x",
          "y": "City_Barcelona",
          "yref": "y"
         },
         {
          "font": {
           "color": "#FFFFFF"
          },
          "showarrow": false,
          "text": "-0.05",
          "x": "City_Lisbon",
          "xref": "x",
          "y": "City_Barcelona",
          "yref": "y"
         },
         {
          "font": {
           "color": "#FFFFFF"
          },
          "showarrow": false,
          "text": "-0.02",
          "x": "City_Ljubljana",
          "xref": "x",
          "y": "City_Barcelona",
          "yref": "y"
         },
         {
          "font": {
           "color": "#FFFFFF"
          },
          "showarrow": false,
          "text": "-0.11",
          "x": "City_London",
          "xref": "x",
          "y": "City_Barcelona",
          "yref": "y"
         },
         {
          "font": {
           "color": "#FFFFFF"
          },
          "showarrow": false,
          "text": "-0.02",
          "x": "City_Luxembourg",
          "xref": "x",
          "y": "City_Barcelona",
          "yref": "y"
         },
         {
          "font": {
           "color": "#FFFFFF"
          },
          "showarrow": false,
          "text": "-0.04",
          "x": "City_Lyon",
          "xref": "x",
          "y": "City_Barcelona",
          "yref": "y"
         },
         {
          "font": {
           "color": "#FFFFFF"
          },
          "showarrow": false,
          "text": "-0.08",
          "x": "City_Madrid",
          "xref": "x",
          "y": "City_Barcelona",
          "yref": "y"
         },
         {
          "font": {
           "color": "#FFFFFF"
          },
          "showarrow": false,
          "text": "-0.06",
          "x": "City_Milan",
          "xref": "x",
          "y": "City_Barcelona",
          "yref": "y"
         },
         {
          "font": {
           "color": "#FFFFFF"
          },
          "showarrow": false,
          "text": "-0.04",
          "x": "City_Munich",
          "xref": "x",
          "y": "City_Barcelona",
          "yref": "y"
         },
         {
          "font": {
           "color": "#FFFFFF"
          },
          "showarrow": false,
          "text": "-0.03",
          "x": "City_Oporto",
          "xref": "x",
          "y": "City_Barcelona",
          "yref": "y"
         },
         {
          "font": {
           "color": "#FFFFFF"
          },
          "showarrow": false,
          "text": "-0.03",
          "x": "City_Oslo",
          "xref": "x",
          "y": "City_Barcelona",
          "yref": "y"
         },
         {
          "font": {
           "color": "#FFFFFF"
          },
          "showarrow": false,
          "text": "-0.1",
          "x": "City_Paris",
          "xref": "x",
          "y": "City_Barcelona",
          "yref": "y"
         },
         {
          "font": {
           "color": "#FFFFFF"
          },
          "showarrow": false,
          "text": "-0.05",
          "x": "City_Prague",
          "xref": "x",
          "y": "City_Barcelona",
          "yref": "y"
         },
         {
          "font": {
           "color": "#FFFFFF"
          },
          "showarrow": false,
          "text": "-0.06",
          "x": "City_Rome",
          "xref": "x",
          "y": "City_Barcelona",
          "yref": "y"
         },
         {
          "font": {
           "color": "#FFFFFF"
          },
          "showarrow": false,
          "text": "-0.04",
          "x": "City_Stockholm",
          "xref": "x",
          "y": "City_Barcelona",
          "yref": "y"
         },
         {
          "font": {
           "color": "#FFFFFF"
          },
          "showarrow": false,
          "text": "-0.05",
          "x": "City_Vienna",
          "xref": "x",
          "y": "City_Barcelona",
          "yref": "y"
         },
         {
          "font": {
           "color": "#FFFFFF"
          },
          "showarrow": false,
          "text": "-0.04",
          "x": "City_Warsaw",
          "xref": "x",
          "y": "City_Barcelona",
          "yref": "y"
         },
         {
          "font": {
           "color": "#FFFFFF"
          },
          "showarrow": false,
          "text": "-0.03",
          "x": "City_Zurich",
          "xref": "x",
          "y": "City_Barcelona",
          "yref": "y"
         },
         {
          "font": {
           "color": "#FFFFFF"
          },
          "showarrow": false,
          "text": "0.05",
          "x": "Rating",
          "xref": "x",
          "y": "City_Berlin",
          "yref": "y"
         },
         {
          "font": {
           "color": "#FFFFFF"
          },
          "showarrow": false,
          "text": "-0.04",
          "x": "City_Amsterdam",
          "xref": "x",
          "y": "City_Berlin",
          "yref": "y"
         },
         {
          "font": {
           "color": "#FFFFFF"
          },
          "showarrow": false,
          "text": "-0.03",
          "x": "City_Athens",
          "xref": "x",
          "y": "City_Berlin",
          "yref": "y"
         },
         {
          "font": {
           "color": "#FFFFFF"
          },
          "showarrow": false,
          "text": "-0.06",
          "x": "City_Barcelona",
          "xref": "x",
          "y": "City_Berlin",
          "yref": "y"
         },
         {
          "font": {
           "color": "#000000"
          },
          "showarrow": false,
          "text": "1.0",
          "x": "City_Berlin",
          "xref": "x",
          "y": "City_Berlin",
          "yref": "y"
         },
         {
          "font": {
           "color": "#FFFFFF"
          },
          "showarrow": false,
          "text": "-0.02",
          "x": "City_Bratislava",
          "xref": "x",
          "y": "City_Berlin",
          "yref": "y"
         },
         {
          "font": {
           "color": "#FFFFFF"
          },
          "showarrow": false,
          "text": "-0.04",
          "x": "City_Brussels",
          "xref": "x",
          "y": "City_Berlin",
          "yref": "y"
         },
         {
          "font": {
           "color": "#FFFFFF"
          },
          "showarrow": false,
          "text": "-0.03",
          "x": "City_Budapest",
          "xref": "x",
          "y": "City_Berlin",
          "yref": "y"
         },
         {
          "font": {
           "color": "#FFFFFF"
          },
          "showarrow": false,
          "text": "-0.03",
          "x": "City_Copenhagen",
          "xref": "x",
          "y": "City_Berlin",
          "yref": "y"
         },
         {
          "font": {
           "color": "#FFFFFF"
          },
          "showarrow": false,
          "text": "-0.03",
          "x": "City_Dublin",
          "xref": "x",
          "y": "City_Berlin",
          "yref": "y"
         },
         {
          "font": {
           "color": "#FFFFFF"
          },
          "showarrow": false,
          "text": "-0.03",
          "x": "City_Edinburgh",
          "xref": "x",
          "y": "City_Berlin",
          "yref": "y"
         },
         {
          "font": {
           "color": "#FFFFFF"
          },
          "showarrow": false,
          "text": "-0.03",
          "x": "City_Geneva",
          "xref": "x",
          "y": "City_Berlin",
          "yref": "y"
         },
         {
          "font": {
           "color": "#FFFFFF"
          },
          "showarrow": false,
          "text": "-0.04",
          "x": "City_Hamburg",
          "xref": "x",
          "y": "City_Berlin",
          "yref": "y"
         },
         {
          "font": {
           "color": "#FFFFFF"
          },
          "showarrow": false,
          "text": "-0.02",
          "x": "City_Helsinki",
          "xref": "x",
          "y": "City_Berlin",
          "yref": "y"
         },
         {
          "font": {
           "color": "#FFFFFF"
          },
          "showarrow": false,
          "text": "-0.03",
          "x": "City_Krakow",
          "xref": "x",
          "y": "City_Berlin",
          "yref": "y"
         },
         {
          "font": {
           "color": "#FFFFFF"
          },
          "showarrow": false,
          "text": "-0.04",
          "x": "City_Lisbon",
          "xref": "x",
          "y": "City_Berlin",
          "yref": "y"
         },
         {
          "font": {
           "color": "#FFFFFF"
          },
          "showarrow": false,
          "text": "-0.02",
          "x": "City_Ljubljana",
          "xref": "x",
          "y": "City_Berlin",
          "yref": "y"
         },
         {
          "font": {
           "color": "#FFFFFF"
          },
          "showarrow": false,
          "text": "-0.1",
          "x": "City_London",
          "xref": "x",
          "y": "City_Berlin",
          "yref": "y"
         },
         {
          "font": {
           "color": "#FFFFFF"
          },
          "showarrow": false,
          "text": "-0.02",
          "x": "City_Luxembourg",
          "xref": "x",
          "y": "City_Berlin",
          "yref": "y"
         },
         {
          "font": {
           "color": "#FFFFFF"
          },
          "showarrow": false,
          "text": "-0.04",
          "x": "City_Lyon",
          "xref": "x",
          "y": "City_Berlin",
          "yref": "y"
         },
         {
          "font": {
           "color": "#FFFFFF"
          },
          "showarrow": false,
          "text": "-0.07",
          "x": "City_Madrid",
          "xref": "x",
          "y": "City_Berlin",
          "yref": "y"
         },
         {
          "font": {
           "color": "#FFFFFF"
          },
          "showarrow": false,
          "text": "-0.06",
          "x": "City_Milan",
          "xref": "x",
          "y": "City_Berlin",
          "yref": "y"
         },
         {
          "font": {
           "color": "#FFFFFF"
          },
          "showarrow": false,
          "text": "-0.04",
          "x": "City_Munich",
          "xref": "x",
          "y": "City_Berlin",
          "yref": "y"
         },
         {
          "font": {
           "color": "#FFFFFF"
          },
          "showarrow": false,
          "text": "-0.03",
          "x": "City_Oporto",
          "xref": "x",
          "y": "City_Berlin",
          "yref": "y"
         },
         {
          "font": {
           "color": "#FFFFFF"
          },
          "showarrow": false,
          "text": "-0.02",
          "x": "City_Oslo",
          "xref": "x",
          "y": "City_Berlin",
          "yref": "y"
         },
         {
          "font": {
           "color": "#FFFFFF"
          },
          "showarrow": false,
          "text": "-0.09",
          "x": "City_Paris",
          "xref": "x",
          "y": "City_Berlin",
          "yref": "y"
         },
         {
          "font": {
           "color": "#FFFFFF"
          },
          "showarrow": false,
          "text": "-0.05",
          "x": "City_Prague",
          "xref": "x",
          "y": "City_Berlin",
          "yref": "y"
         },
         {
          "font": {
           "color": "#FFFFFF"
          },
          "showarrow": false,
          "text": "-0.06",
          "x": "City_Rome",
          "xref": "x",
          "y": "City_Berlin",
          "yref": "y"
         },
         {
          "font": {
           "color": "#FFFFFF"
          },
          "showarrow": false,
          "text": "-0.03",
          "x": "City_Stockholm",
          "xref": "x",
          "y": "City_Berlin",
          "yref": "y"
         },
         {
          "font": {
           "color": "#FFFFFF"
          },
          "showarrow": false,
          "text": "-0.04",
          "x": "City_Vienna",
          "xref": "x",
          "y": "City_Berlin",
          "yref": "y"
         },
         {
          "font": {
           "color": "#FFFFFF"
          },
          "showarrow": false,
          "text": "-0.03",
          "x": "City_Warsaw",
          "xref": "x",
          "y": "City_Berlin",
          "yref": "y"
         },
         {
          "font": {
           "color": "#FFFFFF"
          },
          "showarrow": false,
          "text": "-0.03",
          "x": "City_Zurich",
          "xref": "x",
          "y": "City_Berlin",
          "yref": "y"
         },
         {
          "font": {
           "color": "#FFFFFF"
          },
          "showarrow": false,
          "text": "-0.0",
          "x": "Rating",
          "xref": "x",
          "y": "City_Bratislava",
          "yref": "y"
         },
         {
          "font": {
           "color": "#FFFFFF"
          },
          "showarrow": false,
          "text": "-0.01",
          "x": "City_Amsterdam",
          "xref": "x",
          "y": "City_Bratislava",
          "yref": "y"
         },
         {
          "font": {
           "color": "#FFFFFF"
          },
          "showarrow": false,
          "text": "-0.01",
          "x": "City_Athens",
          "xref": "x",
          "y": "City_Bratislava",
          "yref": "y"
         },
         {
          "font": {
           "color": "#FFFFFF"
          },
          "showarrow": false,
          "text": "-0.02",
          "x": "City_Barcelona",
          "xref": "x",
          "y": "City_Bratislava",
          "yref": "y"
         },
         {
          "font": {
           "color": "#FFFFFF"
          },
          "showarrow": false,
          "text": "-0.02",
          "x": "City_Berlin",
          "xref": "x",
          "y": "City_Bratislava",
          "yref": "y"
         },
         {
          "font": {
           "color": "#000000"
          },
          "showarrow": false,
          "text": "1.0",
          "x": "City_Bratislava",
          "xref": "x",
          "y": "City_Bratislava",
          "yref": "y"
         },
         {
          "font": {
           "color": "#FFFFFF"
          },
          "showarrow": false,
          "text": "-0.01",
          "x": "City_Brussels",
          "xref": "x",
          "y": "City_Bratislava",
          "yref": "y"
         },
         {
          "font": {
           "color": "#FFFFFF"
          },
          "showarrow": false,
          "text": "-0.01",
          "x": "City_Budapest",
          "xref": "x",
          "y": "City_Bratislava",
          "yref": "y"
         },
         {
          "font": {
           "color": "#FFFFFF"
          },
          "showarrow": false,
          "text": "-0.01",
          "x": "City_Copenhagen",
          "xref": "x",
          "y": "City_Bratislava",
          "yref": "y"
         },
         {
          "font": {
           "color": "#FFFFFF"
          },
          "showarrow": false,
          "text": "-0.01",
          "x": "City_Dublin",
          "xref": "x",
          "y": "City_Bratislava",
          "yref": "y"
         },
         {
          "font": {
           "color": "#FFFFFF"
          },
          "showarrow": false,
          "text": "-0.01",
          "x": "City_Edinburgh",
          "xref": "x",
          "y": "City_Bratislava",
          "yref": "y"
         },
         {
          "font": {
           "color": "#FFFFFF"
          },
          "showarrow": false,
          "text": "-0.01",
          "x": "City_Geneva",
          "xref": "x",
          "y": "City_Bratislava",
          "yref": "y"
         },
         {
          "font": {
           "color": "#FFFFFF"
          },
          "showarrow": false,
          "text": "-0.01",
          "x": "City_Hamburg",
          "xref": "x",
          "y": "City_Bratislava",
          "yref": "y"
         },
         {
          "font": {
           "color": "#FFFFFF"
          },
          "showarrow": false,
          "text": "-0.01",
          "x": "City_Helsinki",
          "xref": "x",
          "y": "City_Bratislava",
          "yref": "y"
         },
         {
          "font": {
           "color": "#FFFFFF"
          },
          "showarrow": false,
          "text": "-0.01",
          "x": "City_Krakow",
          "xref": "x",
          "y": "City_Bratislava",
          "yref": "y"
         },
         {
          "font": {
           "color": "#FFFFFF"
          },
          "showarrow": false,
          "text": "-0.02",
          "x": "City_Lisbon",
          "xref": "x",
          "y": "City_Bratislava",
          "yref": "y"
         },
         {
          "font": {
           "color": "#FFFFFF"
          },
          "showarrow": false,
          "text": "-0.01",
          "x": "City_Ljubljana",
          "xref": "x",
          "y": "City_Bratislava",
          "yref": "y"
         },
         {
          "font": {
           "color": "#FFFFFF"
          },
          "showarrow": false,
          "text": "-0.04",
          "x": "City_London",
          "xref": "x",
          "y": "City_Bratislava",
          "yref": "y"
         },
         {
          "font": {
           "color": "#FFFFFF"
          },
          "showarrow": false,
          "text": "-0.01",
          "x": "City_Luxembourg",
          "xref": "x",
          "y": "City_Bratislava",
          "yref": "y"
         },
         {
          "font": {
           "color": "#FFFFFF"
          },
          "showarrow": false,
          "text": "-0.01",
          "x": "City_Lyon",
          "xref": "x",
          "y": "City_Bratislava",
          "yref": "y"
         },
         {
          "font": {
           "color": "#FFFFFF"
          },
          "showarrow": false,
          "text": "-0.03",
          "x": "City_Madrid",
          "xref": "x",
          "y": "City_Bratislava",
          "yref": "y"
         },
         {
          "font": {
           "color": "#FFFFFF"
          },
          "showarrow": false,
          "text": "-0.02",
          "x": "City_Milan",
          "xref": "x",
          "y": "City_Bratislava",
          "yref": "y"
         },
         {
          "font": {
           "color": "#FFFFFF"
          },
          "showarrow": false,
          "text": "-0.01",
          "x": "City_Munich",
          "xref": "x",
          "y": "City_Bratislava",
          "yref": "y"
         },
         {
          "font": {
           "color": "#FFFFFF"
          },
          "showarrow": false,
          "text": "-0.01",
          "x": "City_Oporto",
          "xref": "x",
          "y": "City_Bratislava",
          "yref": "y"
         },
         {
          "font": {
           "color": "#FFFFFF"
          },
          "showarrow": false,
          "text": "-0.01",
          "x": "City_Oslo",
          "xref": "x",
          "y": "City_Bratislava",
          "yref": "y"
         },
         {
          "font": {
           "color": "#FFFFFF"
          },
          "showarrow": false,
          "text": "-0.03",
          "x": "City_Paris",
          "xref": "x",
          "y": "City_Bratislava",
          "yref": "y"
         },
         {
          "font": {
           "color": "#FFFFFF"
          },
          "showarrow": false,
          "text": "-0.02",
          "x": "City_Prague",
          "xref": "x",
          "y": "City_Bratislava",
          "yref": "y"
         },
         {
          "font": {
           "color": "#FFFFFF"
          },
          "showarrow": false,
          "text": "-0.02",
          "x": "City_Rome",
          "xref": "x",
          "y": "City_Bratislava",
          "yref": "y"
         },
         {
          "font": {
           "color": "#FFFFFF"
          },
          "showarrow": false,
          "text": "-0.01",
          "x": "City_Stockholm",
          "xref": "x",
          "y": "City_Bratislava",
          "yref": "y"
         },
         {
          "font": {
           "color": "#FFFFFF"
          },
          "showarrow": false,
          "text": "-0.02",
          "x": "City_Vienna",
          "xref": "x",
          "y": "City_Bratislava",
          "yref": "y"
         },
         {
          "font": {
           "color": "#FFFFFF"
          },
          "showarrow": false,
          "text": "-0.01",
          "x": "City_Warsaw",
          "xref": "x",
          "y": "City_Bratislava",
          "yref": "y"
         },
         {
          "font": {
           "color": "#FFFFFF"
          },
          "showarrow": false,
          "text": "-0.01",
          "x": "City_Zurich",
          "xref": "x",
          "y": "City_Bratislava",
          "yref": "y"
         },
         {
          "font": {
           "color": "#FFFFFF"
          },
          "showarrow": false,
          "text": "-0.02",
          "x": "Rating",
          "xref": "x",
          "y": "City_Brussels",
          "yref": "y"
         },
         {
          "font": {
           "color": "#FFFFFF"
          },
          "showarrow": false,
          "text": "-0.03",
          "x": "City_Amsterdam",
          "xref": "x",
          "y": "City_Brussels",
          "yref": "y"
         },
         {
          "font": {
           "color": "#FFFFFF"
          },
          "showarrow": false,
          "text": "-0.02",
          "x": "City_Athens",
          "xref": "x",
          "y": "City_Brussels",
          "yref": "y"
         },
         {
          "font": {
           "color": "#FFFFFF"
          },
          "showarrow": false,
          "text": "-0.04",
          "x": "City_Barcelona",
          "xref": "x",
          "y": "City_Brussels",
          "yref": "y"
         },
         {
          "font": {
           "color": "#FFFFFF"
          },
          "showarrow": false,
          "text": "-0.04",
          "x": "City_Berlin",
          "xref": "x",
          "y": "City_Brussels",
          "yref": "y"
         },
         {
          "font": {
           "color": "#FFFFFF"
          },
          "showarrow": false,
          "text": "-0.01",
          "x": "City_Bratislava",
          "xref": "x",
          "y": "City_Brussels",
          "yref": "y"
         },
         {
          "font": {
           "color": "#000000"
          },
          "showarrow": false,
          "text": "1.0",
          "x": "City_Brussels",
          "xref": "x",
          "y": "City_Brussels",
          "yref": "y"
         },
         {
          "font": {
           "color": "#FFFFFF"
          },
          "showarrow": false,
          "text": "-0.02",
          "x": "City_Budapest",
          "xref": "x",
          "y": "City_Brussels",
          "yref": "y"
         },
         {
          "font": {
           "color": "#FFFFFF"
          },
          "showarrow": false,
          "text": "-0.02",
          "x": "City_Copenhagen",
          "xref": "x",
          "y": "City_Brussels",
          "yref": "y"
         },
         {
          "font": {
           "color": "#FFFFFF"
          },
          "showarrow": false,
          "text": "-0.02",
          "x": "City_Dublin",
          "xref": "x",
          "y": "City_Brussels",
          "yref": "y"
         },
         {
          "font": {
           "color": "#FFFFFF"
          },
          "showarrow": false,
          "text": "-0.02",
          "x": "City_Edinburgh",
          "xref": "x",
          "y": "City_Brussels",
          "yref": "y"
         },
         {
          "font": {
           "color": "#FFFFFF"
          },
          "showarrow": false,
          "text": "-0.02",
          "x": "City_Geneva",
          "xref": "x",
          "y": "City_Brussels",
          "yref": "y"
         },
         {
          "font": {
           "color": "#FFFFFF"
          },
          "showarrow": false,
          "text": "-0.03",
          "x": "City_Hamburg",
          "xref": "x",
          "y": "City_Brussels",
          "yref": "y"
         },
         {
          "font": {
           "color": "#FFFFFF"
          },
          "showarrow": false,
          "text": "-0.02",
          "x": "City_Helsinki",
          "xref": "x",
          "y": "City_Brussels",
          "yref": "y"
         },
         {
          "font": {
           "color": "#FFFFFF"
          },
          "showarrow": false,
          "text": "-0.02",
          "x": "City_Krakow",
          "xref": "x",
          "y": "City_Brussels",
          "yref": "y"
         },
         {
          "font": {
           "color": "#FFFFFF"
          },
          "showarrow": false,
          "text": "-0.03",
          "x": "City_Lisbon",
          "xref": "x",
          "y": "City_Brussels",
          "yref": "y"
         },
         {
          "font": {
           "color": "#FFFFFF"
          },
          "showarrow": false,
          "text": "-0.01",
          "x": "City_Ljubljana",
          "xref": "x",
          "y": "City_Brussels",
          "yref": "y"
         },
         {
          "font": {
           "color": "#FFFFFF"
          },
          "showarrow": false,
          "text": "-0.07",
          "x": "City_London",
          "xref": "x",
          "y": "City_Brussels",
          "yref": "y"
         },
         {
          "font": {
           "color": "#FFFFFF"
          },
          "showarrow": false,
          "text": "-0.01",
          "x": "City_Luxembourg",
          "xref": "x",
          "y": "City_Brussels",
          "yref": "y"
         },
         {
          "font": {
           "color": "#FFFFFF"
          },
          "showarrow": false,
          "text": "-0.02",
          "x": "City_Lyon",
          "xref": "x",
          "y": "City_Brussels",
          "yref": "y"
         },
         {
          "font": {
           "color": "#FFFFFF"
          },
          "showarrow": false,
          "text": "-0.05",
          "x": "City_Madrid",
          "xref": "x",
          "y": "City_Brussels",
          "yref": "y"
         },
         {
          "font": {
           "color": "#FFFFFF"
          },
          "showarrow": false,
          "text": "-0.04",
          "x": "City_Milan",
          "xref": "x",
          "y": "City_Brussels",
          "yref": "y"
         },
         {
          "font": {
           "color": "#FFFFFF"
          },
          "showarrow": false,
          "text": "-0.02",
          "x": "City_Munich",
          "xref": "x",
          "y": "City_Brussels",
          "yref": "y"
         },
         {
          "font": {
           "color": "#FFFFFF"
          },
          "showarrow": false,
          "text": "-0.02",
          "x": "City_Oporto",
          "xref": "x",
          "y": "City_Brussels",
          "yref": "y"
         },
         {
          "font": {
           "color": "#FFFFFF"
          },
          "showarrow": false,
          "text": "-0.02",
          "x": "City_Oslo",
          "xref": "x",
          "y": "City_Brussels",
          "yref": "y"
         },
         {
          "font": {
           "color": "#FFFFFF"
          },
          "showarrow": false,
          "text": "-0.06",
          "x": "City_Paris",
          "xref": "x",
          "y": "City_Brussels",
          "yref": "y"
         },
         {
          "font": {
           "color": "#FFFFFF"
          },
          "showarrow": false,
          "text": "-0.03",
          "x": "City_Prague",
          "xref": "x",
          "y": "City_Brussels",
          "yref": "y"
         },
         {
          "font": {
           "color": "#FFFFFF"
          },
          "showarrow": false,
          "text": "-0.04",
          "x": "City_Rome",
          "xref": "x",
          "y": "City_Brussels",
          "yref": "y"
         },
         {
          "font": {
           "color": "#FFFFFF"
          },
          "showarrow": false,
          "text": "-0.02",
          "x": "City_Stockholm",
          "xref": "x",
          "y": "City_Brussels",
          "yref": "y"
         },
         {
          "font": {
           "color": "#FFFFFF"
          },
          "showarrow": false,
          "text": "-0.03",
          "x": "City_Vienna",
          "xref": "x",
          "y": "City_Brussels",
          "yref": "y"
         },
         {
          "font": {
           "color": "#FFFFFF"
          },
          "showarrow": false,
          "text": "-0.02",
          "x": "City_Warsaw",
          "xref": "x",
          "y": "City_Brussels",
          "yref": "y"
         },
         {
          "font": {
           "color": "#FFFFFF"
          },
          "showarrow": false,
          "text": "-0.02",
          "x": "City_Zurich",
          "xref": "x",
          "y": "City_Brussels",
          "yref": "y"
         },
         {
          "font": {
           "color": "#FFFFFF"
          },
          "showarrow": false,
          "text": "0.02",
          "x": "Rating",
          "xref": "x",
          "y": "City_Budapest",
          "yref": "y"
         },
         {
          "font": {
           "color": "#FFFFFF"
          },
          "showarrow": false,
          "text": "-0.02",
          "x": "City_Amsterdam",
          "xref": "x",
          "y": "City_Budapest",
          "yref": "y"
         },
         {
          "font": {
           "color": "#FFFFFF"
          },
          "showarrow": false,
          "text": "-0.02",
          "x": "City_Athens",
          "xref": "x",
          "y": "City_Budapest",
          "yref": "y"
         },
         {
          "font": {
           "color": "#FFFFFF"
          },
          "showarrow": false,
          "text": "-0.04",
          "x": "City_Barcelona",
          "xref": "x",
          "y": "City_Budapest",
          "yref": "y"
         },
         {
          "font": {
           "color": "#FFFFFF"
          },
          "showarrow": false,
          "text": "-0.03",
          "x": "City_Berlin",
          "xref": "x",
          "y": "City_Budapest",
          "yref": "y"
         },
         {
          "font": {
           "color": "#FFFFFF"
          },
          "showarrow": false,
          "text": "-0.01",
          "x": "City_Bratislava",
          "xref": "x",
          "y": "City_Budapest",
          "yref": "y"
         },
         {
          "font": {
           "color": "#FFFFFF"
          },
          "showarrow": false,
          "text": "-0.02",
          "x": "City_Brussels",
          "xref": "x",
          "y": "City_Budapest",
          "yref": "y"
         },
         {
          "font": {
           "color": "#000000"
          },
          "showarrow": false,
          "text": "1.0",
          "x": "City_Budapest",
          "xref": "x",
          "y": "City_Budapest",
          "yref": "y"
         },
         {
          "font": {
           "color": "#FFFFFF"
          },
          "showarrow": false,
          "text": "-0.02",
          "x": "City_Copenhagen",
          "xref": "x",
          "y": "City_Budapest",
          "yref": "y"
         },
         {
          "font": {
           "color": "#FFFFFF"
          },
          "showarrow": false,
          "text": "-0.02",
          "x": "City_Dublin",
          "xref": "x",
          "y": "City_Budapest",
          "yref": "y"
         },
         {
          "font": {
           "color": "#FFFFFF"
          },
          "showarrow": false,
          "text": "-0.02",
          "x": "City_Edinburgh",
          "xref": "x",
          "y": "City_Budapest",
          "yref": "y"
         },
         {
          "font": {
           "color": "#FFFFFF"
          },
          "showarrow": false,
          "text": "-0.02",
          "x": "City_Geneva",
          "xref": "x",
          "y": "City_Budapest",
          "yref": "y"
         },
         {
          "font": {
           "color": "#FFFFFF"
          },
          "showarrow": false,
          "text": "-0.02",
          "x": "City_Hamburg",
          "xref": "x",
          "y": "City_Budapest",
          "yref": "y"
         },
         {
          "font": {
           "color": "#FFFFFF"
          },
          "showarrow": false,
          "text": "-0.01",
          "x": "City_Helsinki",
          "xref": "x",
          "y": "City_Budapest",
          "yref": "y"
         },
         {
          "font": {
           "color": "#FFFFFF"
          },
          "showarrow": false,
          "text": "-0.02",
          "x": "City_Krakow",
          "xref": "x",
          "y": "City_Budapest",
          "yref": "y"
         },
         {
          "font": {
           "color": "#FFFFFF"
          },
          "showarrow": false,
          "text": "-0.03",
          "x": "City_Lisbon",
          "xref": "x",
          "y": "City_Budapest",
          "yref": "y"
         },
         {
          "font": {
           "color": "#FFFFFF"
          },
          "showarrow": false,
          "text": "-0.01",
          "x": "City_Ljubljana",
          "xref": "x",
          "y": "City_Budapest",
          "yref": "y"
         },
         {
          "font": {
           "color": "#FFFFFF"
          },
          "showarrow": false,
          "text": "-0.06",
          "x": "City_London",
          "xref": "x",
          "y": "City_Budapest",
          "yref": "y"
         },
         {
          "font": {
           "color": "#FFFFFF"
          },
          "showarrow": false,
          "text": "-0.01",
          "x": "City_Luxembourg",
          "xref": "x",
          "y": "City_Budapest",
          "yref": "y"
         },
         {
          "font": {
           "color": "#FFFFFF"
          },
          "showarrow": false,
          "text": "-0.02",
          "x": "City_Lyon",
          "xref": "x",
          "y": "City_Budapest",
          "yref": "y"
         },
         {
          "font": {
           "color": "#FFFFFF"
          },
          "showarrow": false,
          "text": "-0.04",
          "x": "City_Madrid",
          "xref": "x",
          "y": "City_Budapest",
          "yref": "y"
         },
         {
          "font": {
           "color": "#FFFFFF"
          },
          "showarrow": false,
          "text": "-0.03",
          "x": "City_Milan",
          "xref": "x",
          "y": "City_Budapest",
          "yref": "y"
         },
         {
          "font": {
           "color": "#FFFFFF"
          },
          "showarrow": false,
          "text": "-0.02",
          "x": "City_Munich",
          "xref": "x",
          "y": "City_Budapest",
          "yref": "y"
         },
         {
          "font": {
           "color": "#FFFFFF"
          },
          "showarrow": false,
          "text": "-0.02",
          "x": "City_Oporto",
          "xref": "x",
          "y": "City_Budapest",
          "yref": "y"
         },
         {
          "font": {
           "color": "#FFFFFF"
          },
          "showarrow": false,
          "text": "-0.01",
          "x": "City_Oslo",
          "xref": "x",
          "y": "City_Budapest",
          "yref": "y"
         },
         {
          "font": {
           "color": "#FFFFFF"
          },
          "showarrow": false,
          "text": "-0.05",
          "x": "City_Paris",
          "xref": "x",
          "y": "City_Budapest",
          "yref": "y"
         },
         {
          "font": {
           "color": "#FFFFFF"
          },
          "showarrow": false,
          "text": "-0.03",
          "x": "City_Prague",
          "xref": "x",
          "y": "City_Budapest",
          "yref": "y"
         },
         {
          "font": {
           "color": "#FFFFFF"
          },
          "showarrow": false,
          "text": "-0.03",
          "x": "City_Rome",
          "xref": "x",
          "y": "City_Budapest",
          "yref": "y"
         },
         {
          "font": {
           "color": "#FFFFFF"
          },
          "showarrow": false,
          "text": "-0.02",
          "x": "City_Stockholm",
          "xref": "x",
          "y": "City_Budapest",
          "yref": "y"
         },
         {
          "font": {
           "color": "#FFFFFF"
          },
          "showarrow": false,
          "text": "-0.03",
          "x": "City_Vienna",
          "xref": "x",
          "y": "City_Budapest",
          "yref": "y"
         },
         {
          "font": {
           "color": "#FFFFFF"
          },
          "showarrow": false,
          "text": "-0.02",
          "x": "City_Warsaw",
          "xref": "x",
          "y": "City_Budapest",
          "yref": "y"
         },
         {
          "font": {
           "color": "#FFFFFF"
          },
          "showarrow": false,
          "text": "-0.02",
          "x": "City_Zurich",
          "xref": "x",
          "y": "City_Budapest",
          "yref": "y"
         },
         {
          "font": {
           "color": "#FFFFFF"
          },
          "showarrow": false,
          "text": "-0.0",
          "x": "Rating",
          "xref": "x",
          "y": "City_Copenhagen",
          "yref": "y"
         },
         {
          "font": {
           "color": "#FFFFFF"
          },
          "showarrow": false,
          "text": "-0.02",
          "x": "City_Amsterdam",
          "xref": "x",
          "y": "City_Copenhagen",
          "yref": "y"
         },
         {
          "font": {
           "color": "#FFFFFF"
          },
          "showarrow": false,
          "text": "-0.02",
          "x": "City_Athens",
          "xref": "x",
          "y": "City_Copenhagen",
          "yref": "y"
         },
         {
          "font": {
           "color": "#FFFFFF"
          },
          "showarrow": false,
          "text": "-0.04",
          "x": "City_Barcelona",
          "xref": "x",
          "y": "City_Copenhagen",
          "yref": "y"
         },
         {
          "font": {
           "color": "#FFFFFF"
          },
          "showarrow": false,
          "text": "-0.03",
          "x": "City_Berlin",
          "xref": "x",
          "y": "City_Copenhagen",
          "yref": "y"
         },
         {
          "font": {
           "color": "#FFFFFF"
          },
          "showarrow": false,
          "text": "-0.01",
          "x": "City_Bratislava",
          "xref": "x",
          "y": "City_Copenhagen",
          "yref": "y"
         },
         {
          "font": {
           "color": "#FFFFFF"
          },
          "showarrow": false,
          "text": "-0.02",
          "x": "City_Brussels",
          "xref": "x",
          "y": "City_Copenhagen",
          "yref": "y"
         },
         {
          "font": {
           "color": "#FFFFFF"
          },
          "showarrow": false,
          "text": "-0.02",
          "x": "City_Budapest",
          "xref": "x",
          "y": "City_Copenhagen",
          "yref": "y"
         },
         {
          "font": {
           "color": "#000000"
          },
          "showarrow": false,
          "text": "1.0",
          "x": "City_Copenhagen",
          "xref": "x",
          "y": "City_Copenhagen",
          "yref": "y"
         },
         {
          "font": {
           "color": "#FFFFFF"
          },
          "showarrow": false,
          "text": "-0.02",
          "x": "City_Dublin",
          "xref": "x",
          "y": "City_Copenhagen",
          "yref": "y"
         },
         {
          "font": {
           "color": "#FFFFFF"
          },
          "showarrow": false,
          "text": "-0.02",
          "x": "City_Edinburgh",
          "xref": "x",
          "y": "City_Copenhagen",
          "yref": "y"
         },
         {
          "font": {
           "color": "#FFFFFF"
          },
          "showarrow": false,
          "text": "-0.01",
          "x": "City_Geneva",
          "xref": "x",
          "y": "City_Copenhagen",
          "yref": "y"
         },
         {
          "font": {
           "color": "#FFFFFF"
          },
          "showarrow": false,
          "text": "-0.02",
          "x": "City_Hamburg",
          "xref": "x",
          "y": "City_Copenhagen",
          "yref": "y"
         },
         {
          "font": {
           "color": "#FFFFFF"
          },
          "showarrow": false,
          "text": "-0.01",
          "x": "City_Helsinki",
          "xref": "x",
          "y": "City_Copenhagen",
          "yref": "y"
         },
         {
          "font": {
           "color": "#FFFFFF"
          },
          "showarrow": false,
          "text": "-0.01",
          "x": "City_Krakow",
          "xref": "x",
          "y": "City_Copenhagen",
          "yref": "y"
         },
         {
          "font": {
           "color": "#FFFFFF"
          },
          "showarrow": false,
          "text": "-0.02",
          "x": "City_Lisbon",
          "xref": "x",
          "y": "City_Copenhagen",
          "yref": "y"
         },
         {
          "font": {
           "color": "#FFFFFF"
          },
          "showarrow": false,
          "text": "-0.01",
          "x": "City_Ljubljana",
          "xref": "x",
          "y": "City_Copenhagen",
          "yref": "y"
         },
         {
          "font": {
           "color": "#FFFFFF"
          },
          "showarrow": false,
          "text": "-0.05",
          "x": "City_London",
          "xref": "x",
          "y": "City_Copenhagen",
          "yref": "y"
         },
         {
          "font": {
           "color": "#FFFFFF"
          },
          "showarrow": false,
          "text": "-0.01",
          "x": "City_Luxembourg",
          "xref": "x",
          "y": "City_Copenhagen",
          "yref": "y"
         },
         {
          "font": {
           "color": "#FFFFFF"
          },
          "showarrow": false,
          "text": "-0.02",
          "x": "City_Lyon",
          "xref": "x",
          "y": "City_Copenhagen",
          "yref": "y"
         },
         {
          "font": {
           "color": "#FFFFFF"
          },
          "showarrow": false,
          "text": "-0.04",
          "x": "City_Madrid",
          "xref": "x",
          "y": "City_Copenhagen",
          "yref": "y"
         },
         {
          "font": {
           "color": "#FFFFFF"
          },
          "showarrow": false,
          "text": "-0.03",
          "x": "City_Milan",
          "xref": "x",
          "y": "City_Copenhagen",
          "yref": "y"
         },
         {
          "font": {
           "color": "#FFFFFF"
          },
          "showarrow": false,
          "text": "-0.02",
          "x": "City_Munich",
          "xref": "x",
          "y": "City_Copenhagen",
          "yref": "y"
         },
         {
          "font": {
           "color": "#FFFFFF"
          },
          "showarrow": false,
          "text": "-0.01",
          "x": "City_Oporto",
          "xref": "x",
          "y": "City_Copenhagen",
          "yref": "y"
         },
         {
          "font": {
           "color": "#FFFFFF"
          },
          "showarrow": false,
          "text": "-0.01",
          "x": "City_Oslo",
          "xref": "x",
          "y": "City_Copenhagen",
          "yref": "y"
         },
         {
          "font": {
           "color": "#FFFFFF"
          },
          "showarrow": false,
          "text": "-0.05",
          "x": "City_Paris",
          "xref": "x",
          "y": "City_Copenhagen",
          "yref": "y"
         },
         {
          "font": {
           "color": "#FFFFFF"
          },
          "showarrow": false,
          "text": "-0.03",
          "x": "City_Prague",
          "xref": "x",
          "y": "City_Copenhagen",
          "yref": "y"
         },
         {
          "font": {
           "color": "#FFFFFF"
          },
          "showarrow": false,
          "text": "-0.03",
          "x": "City_Rome",
          "xref": "x",
          "y": "City_Copenhagen",
          "yref": "y"
         },
         {
          "font": {
           "color": "#FFFFFF"
          },
          "showarrow": false,
          "text": "-0.02",
          "x": "City_Stockholm",
          "xref": "x",
          "y": "City_Copenhagen",
          "yref": "y"
         },
         {
          "font": {
           "color": "#FFFFFF"
          },
          "showarrow": false,
          "text": "-0.02",
          "x": "City_Vienna",
          "xref": "x",
          "y": "City_Copenhagen",
          "yref": "y"
         },
         {
          "font": {
           "color": "#FFFFFF"
          },
          "showarrow": false,
          "text": "-0.02",
          "x": "City_Warsaw",
          "xref": "x",
          "y": "City_Copenhagen",
          "yref": "y"
         },
         {
          "font": {
           "color": "#FFFFFF"
          },
          "showarrow": false,
          "text": "-0.02",
          "x": "City_Zurich",
          "xref": "x",
          "y": "City_Copenhagen",
          "yref": "y"
         },
         {
          "font": {
           "color": "#FFFFFF"
          },
          "showarrow": false,
          "text": "0.01",
          "x": "Rating",
          "xref": "x",
          "y": "City_Dublin",
          "yref": "y"
         },
         {
          "font": {
           "color": "#FFFFFF"
          },
          "showarrow": false,
          "text": "-0.02",
          "x": "City_Amsterdam",
          "xref": "x",
          "y": "City_Dublin",
          "yref": "y"
         },
         {
          "font": {
           "color": "#FFFFFF"
          },
          "showarrow": false,
          "text": "-0.02",
          "x": "City_Athens",
          "xref": "x",
          "y": "City_Dublin",
          "yref": "y"
         },
         {
          "font": {
           "color": "#FFFFFF"
          },
          "showarrow": false,
          "text": "-0.04",
          "x": "City_Barcelona",
          "xref": "x",
          "y": "City_Dublin",
          "yref": "y"
         },
         {
          "font": {
           "color": "#FFFFFF"
          },
          "showarrow": false,
          "text": "-0.03",
          "x": "City_Berlin",
          "xref": "x",
          "y": "City_Dublin",
          "yref": "y"
         },
         {
          "font": {
           "color": "#FFFFFF"
          },
          "showarrow": false,
          "text": "-0.01",
          "x": "City_Bratislava",
          "xref": "x",
          "y": "City_Dublin",
          "yref": "y"
         },
         {
          "font": {
           "color": "#FFFFFF"
          },
          "showarrow": false,
          "text": "-0.02",
          "x": "City_Brussels",
          "xref": "x",
          "y": "City_Dublin",
          "yref": "y"
         },
         {
          "font": {
           "color": "#FFFFFF"
          },
          "showarrow": false,
          "text": "-0.02",
          "x": "City_Budapest",
          "xref": "x",
          "y": "City_Dublin",
          "yref": "y"
         },
         {
          "font": {
           "color": "#FFFFFF"
          },
          "showarrow": false,
          "text": "-0.02",
          "x": "City_Copenhagen",
          "xref": "x",
          "y": "City_Dublin",
          "yref": "y"
         },
         {
          "font": {
           "color": "#000000"
          },
          "showarrow": false,
          "text": "1.0",
          "x": "City_Dublin",
          "xref": "x",
          "y": "City_Dublin",
          "yref": "y"
         },
         {
          "font": {
           "color": "#FFFFFF"
          },
          "showarrow": false,
          "text": "-0.02",
          "x": "City_Edinburgh",
          "xref": "x",
          "y": "City_Dublin",
          "yref": "y"
         },
         {
          "font": {
           "color": "#FFFFFF"
          },
          "showarrow": false,
          "text": "-0.01",
          "x": "City_Geneva",
          "xref": "x",
          "y": "City_Dublin",
          "yref": "y"
         },
         {
          "font": {
           "color": "#FFFFFF"
          },
          "showarrow": false,
          "text": "-0.02",
          "x": "City_Hamburg",
          "xref": "x",
          "y": "City_Dublin",
          "yref": "y"
         },
         {
          "font": {
           "color": "#FFFFFF"
          },
          "showarrow": false,
          "text": "-0.01",
          "x": "City_Helsinki",
          "xref": "x",
          "y": "City_Dublin",
          "yref": "y"
         },
         {
          "font": {
           "color": "#FFFFFF"
          },
          "showarrow": false,
          "text": "-0.01",
          "x": "City_Krakow",
          "xref": "x",
          "y": "City_Dublin",
          "yref": "y"
         },
         {
          "font": {
           "color": "#FFFFFF"
          },
          "showarrow": false,
          "text": "-0.02",
          "x": "City_Lisbon",
          "xref": "x",
          "y": "City_Dublin",
          "yref": "y"
         },
         {
          "font": {
           "color": "#FFFFFF"
          },
          "showarrow": false,
          "text": "-0.01",
          "x": "City_Ljubljana",
          "xref": "x",
          "y": "City_Dublin",
          "yref": "y"
         },
         {
          "font": {
           "color": "#FFFFFF"
          },
          "showarrow": false,
          "text": "-0.05",
          "x": "City_London",
          "xref": "x",
          "y": "City_Dublin",
          "yref": "y"
         },
         {
          "font": {
           "color": "#FFFFFF"
          },
          "showarrow": false,
          "text": "-0.01",
          "x": "City_Luxembourg",
          "xref": "x",
          "y": "City_Dublin",
          "yref": "y"
         },
         {
          "font": {
           "color": "#FFFFFF"
          },
          "showarrow": false,
          "text": "-0.02",
          "x": "City_Lyon",
          "xref": "x",
          "y": "City_Dublin",
          "yref": "y"
         },
         {
          "font": {
           "color": "#FFFFFF"
          },
          "showarrow": false,
          "text": "-0.04",
          "x": "City_Madrid",
          "xref": "x",
          "y": "City_Dublin",
          "yref": "y"
         },
         {
          "font": {
           "color": "#FFFFFF"
          },
          "showarrow": false,
          "text": "-0.03",
          "x": "City_Milan",
          "xref": "x",
          "y": "City_Dublin",
          "yref": "y"
         },
         {
          "font": {
           "color": "#FFFFFF"
          },
          "showarrow": false,
          "text": "-0.02",
          "x": "City_Munich",
          "xref": "x",
          "y": "City_Dublin",
          "yref": "y"
         },
         {
          "font": {
           "color": "#FFFFFF"
          },
          "showarrow": false,
          "text": "-0.01",
          "x": "City_Oporto",
          "xref": "x",
          "y": "City_Dublin",
          "yref": "y"
         },
         {
          "font": {
           "color": "#FFFFFF"
          },
          "showarrow": false,
          "text": "-0.01",
          "x": "City_Oslo",
          "xref": "x",
          "y": "City_Dublin",
          "yref": "y"
         },
         {
          "font": {
           "color": "#FFFFFF"
          },
          "showarrow": false,
          "text": "-0.05",
          "x": "City_Paris",
          "xref": "x",
          "y": "City_Dublin",
          "yref": "y"
         },
         {
          "font": {
           "color": "#FFFFFF"
          },
          "showarrow": false,
          "text": "-0.03",
          "x": "City_Prague",
          "xref": "x",
          "y": "City_Dublin",
          "yref": "y"
         },
         {
          "font": {
           "color": "#FFFFFF"
          },
          "showarrow": false,
          "text": "-0.03",
          "x": "City_Rome",
          "xref": "x",
          "y": "City_Dublin",
          "yref": "y"
         },
         {
          "font": {
           "color": "#FFFFFF"
          },
          "showarrow": false,
          "text": "-0.02",
          "x": "City_Stockholm",
          "xref": "x",
          "y": "City_Dublin",
          "yref": "y"
         },
         {
          "font": {
           "color": "#FFFFFF"
          },
          "showarrow": false,
          "text": "-0.02",
          "x": "City_Vienna",
          "xref": "x",
          "y": "City_Dublin",
          "yref": "y"
         },
         {
          "font": {
           "color": "#FFFFFF"
          },
          "showarrow": false,
          "text": "-0.02",
          "x": "City_Warsaw",
          "xref": "x",
          "y": "City_Dublin",
          "yref": "y"
         },
         {
          "font": {
           "color": "#FFFFFF"
          },
          "showarrow": false,
          "text": "-0.02",
          "x": "City_Zurich",
          "xref": "x",
          "y": "City_Dublin",
          "yref": "y"
         },
         {
          "font": {
           "color": "#FFFFFF"
          },
          "showarrow": false,
          "text": "0.02",
          "x": "Rating",
          "xref": "x",
          "y": "City_Edinburgh",
          "yref": "y"
         },
         {
          "font": {
           "color": "#FFFFFF"
          },
          "showarrow": false,
          "text": "-0.02",
          "x": "City_Amsterdam",
          "xref": "x",
          "y": "City_Edinburgh",
          "yref": "y"
         },
         {
          "font": {
           "color": "#FFFFFF"
          },
          "showarrow": false,
          "text": "-0.02",
          "x": "City_Athens",
          "xref": "x",
          "y": "City_Edinburgh",
          "yref": "y"
         },
         {
          "font": {
           "color": "#FFFFFF"
          },
          "showarrow": false,
          "text": "-0.03",
          "x": "City_Barcelona",
          "xref": "x",
          "y": "City_Edinburgh",
          "yref": "y"
         },
         {
          "font": {
           "color": "#FFFFFF"
          },
          "showarrow": false,
          "text": "-0.03",
          "x": "City_Berlin",
          "xref": "x",
          "y": "City_Edinburgh",
          "yref": "y"
         },
         {
          "font": {
           "color": "#FFFFFF"
          },
          "showarrow": false,
          "text": "-0.01",
          "x": "City_Bratislava",
          "xref": "x",
          "y": "City_Edinburgh",
          "yref": "y"
         },
         {
          "font": {
           "color": "#FFFFFF"
          },
          "showarrow": false,
          "text": "-0.02",
          "x": "City_Brussels",
          "xref": "x",
          "y": "City_Edinburgh",
          "yref": "y"
         },
         {
          "font": {
           "color": "#FFFFFF"
          },
          "showarrow": false,
          "text": "-0.02",
          "x": "City_Budapest",
          "xref": "x",
          "y": "City_Edinburgh",
          "yref": "y"
         },
         {
          "font": {
           "color": "#FFFFFF"
          },
          "showarrow": false,
          "text": "-0.02",
          "x": "City_Copenhagen",
          "xref": "x",
          "y": "City_Edinburgh",
          "yref": "y"
         },
         {
          "font": {
           "color": "#FFFFFF"
          },
          "showarrow": false,
          "text": "-0.02",
          "x": "City_Dublin",
          "xref": "x",
          "y": "City_Edinburgh",
          "yref": "y"
         },
         {
          "font": {
           "color": "#000000"
          },
          "showarrow": false,
          "text": "1.0",
          "x": "City_Edinburgh",
          "xref": "x",
          "y": "City_Edinburgh",
          "yref": "y"
         },
         {
          "font": {
           "color": "#FFFFFF"
          },
          "showarrow": false,
          "text": "-0.01",
          "x": "City_Geneva",
          "xref": "x",
          "y": "City_Edinburgh",
          "yref": "y"
         },
         {
          "font": {
           "color": "#FFFFFF"
          },
          "showarrow": false,
          "text": "-0.02",
          "x": "City_Hamburg",
          "xref": "x",
          "y": "City_Edinburgh",
          "yref": "y"
         },
         {
          "font": {
           "color": "#FFFFFF"
          },
          "showarrow": false,
          "text": "-0.01",
          "x": "City_Helsinki",
          "xref": "x",
          "y": "City_Edinburgh",
          "yref": "y"
         },
         {
          "font": {
           "color": "#FFFFFF"
          },
          "showarrow": false,
          "text": "-0.01",
          "x": "City_Krakow",
          "xref": "x",
          "y": "City_Edinburgh",
          "yref": "y"
         },
         {
          "font": {
           "color": "#FFFFFF"
          },
          "showarrow": false,
          "text": "-0.02",
          "x": "City_Lisbon",
          "xref": "x",
          "y": "City_Edinburgh",
          "yref": "y"
         },
         {
          "font": {
           "color": "#FFFFFF"
          },
          "showarrow": false,
          "text": "-0.01",
          "x": "City_Ljubljana",
          "xref": "x",
          "y": "City_Edinburgh",
          "yref": "y"
         },
         {
          "font": {
           "color": "#FFFFFF"
          },
          "showarrow": false,
          "text": "-0.05",
          "x": "City_London",
          "xref": "x",
          "y": "City_Edinburgh",
          "yref": "y"
         },
         {
          "font": {
           "color": "#FFFFFF"
          },
          "showarrow": false,
          "text": "-0.01",
          "x": "City_Luxembourg",
          "xref": "x",
          "y": "City_Edinburgh",
          "yref": "y"
         },
         {
          "font": {
           "color": "#FFFFFF"
          },
          "showarrow": false,
          "text": "-0.02",
          "x": "City_Lyon",
          "xref": "x",
          "y": "City_Edinburgh",
          "yref": "y"
         },
         {
          "font": {
           "color": "#FFFFFF"
          },
          "showarrow": false,
          "text": "-0.04",
          "x": "City_Madrid",
          "xref": "x",
          "y": "City_Edinburgh",
          "yref": "y"
         },
         {
          "font": {
           "color": "#FFFFFF"
          },
          "showarrow": false,
          "text": "-0.03",
          "x": "City_Milan",
          "xref": "x",
          "y": "City_Edinburgh",
          "yref": "y"
         },
         {
          "font": {
           "color": "#FFFFFF"
          },
          "showarrow": false,
          "text": "-0.02",
          "x": "City_Munich",
          "xref": "x",
          "y": "City_Edinburgh",
          "yref": "y"
         },
         {
          "font": {
           "color": "#FFFFFF"
          },
          "showarrow": false,
          "text": "-0.01",
          "x": "City_Oporto",
          "xref": "x",
          "y": "City_Edinburgh",
          "yref": "y"
         },
         {
          "font": {
           "color": "#FFFFFF"
          },
          "showarrow": false,
          "text": "-0.01",
          "x": "City_Oslo",
          "xref": "x",
          "y": "City_Edinburgh",
          "yref": "y"
         },
         {
          "font": {
           "color": "#FFFFFF"
          },
          "showarrow": false,
          "text": "-0.05",
          "x": "City_Paris",
          "xref": "x",
          "y": "City_Edinburgh",
          "yref": "y"
         },
         {
          "font": {
           "color": "#FFFFFF"
          },
          "showarrow": false,
          "text": "-0.02",
          "x": "City_Prague",
          "xref": "x",
          "y": "City_Edinburgh",
          "yref": "y"
         },
         {
          "font": {
           "color": "#FFFFFF"
          },
          "showarrow": false,
          "text": "-0.03",
          "x": "City_Rome",
          "xref": "x",
          "y": "City_Edinburgh",
          "yref": "y"
         },
         {
          "font": {
           "color": "#FFFFFF"
          },
          "showarrow": false,
          "text": "-0.02",
          "x": "City_Stockholm",
          "xref": "x",
          "y": "City_Edinburgh",
          "yref": "y"
         },
         {
          "font": {
           "color": "#FFFFFF"
          },
          "showarrow": false,
          "text": "-0.02",
          "x": "City_Vienna",
          "xref": "x",
          "y": "City_Edinburgh",
          "yref": "y"
         },
         {
          "font": {
           "color": "#FFFFFF"
          },
          "showarrow": false,
          "text": "-0.02",
          "x": "City_Warsaw",
          "xref": "x",
          "y": "City_Edinburgh",
          "yref": "y"
         },
         {
          "font": {
           "color": "#FFFFFF"
          },
          "showarrow": false,
          "text": "-0.01",
          "x": "City_Zurich",
          "xref": "x",
          "y": "City_Edinburgh",
          "yref": "y"
         },
         {
          "font": {
           "color": "#FFFFFF"
          },
          "showarrow": false,
          "text": "-0.01",
          "x": "Rating",
          "xref": "x",
          "y": "City_Geneva",
          "yref": "y"
         },
         {
          "font": {
           "color": "#FFFFFF"
          },
          "showarrow": false,
          "text": "-0.02",
          "x": "City_Amsterdam",
          "xref": "x",
          "y": "City_Geneva",
          "yref": "y"
         },
         {
          "font": {
           "color": "#FFFFFF"
          },
          "showarrow": false,
          "text": "-0.01",
          "x": "City_Athens",
          "xref": "x",
          "y": "City_Geneva",
          "yref": "y"
         },
         {
          "font": {
           "color": "#FFFFFF"
          },
          "showarrow": false,
          "text": "-0.03",
          "x": "City_Barcelona",
          "xref": "x",
          "y": "City_Geneva",
          "yref": "y"
         },
         {
          "font": {
           "color": "#FFFFFF"
          },
          "showarrow": false,
          "text": "-0.03",
          "x": "City_Berlin",
          "xref": "x",
          "y": "City_Geneva",
          "yref": "y"
         },
         {
          "font": {
           "color": "#FFFFFF"
          },
          "showarrow": false,
          "text": "-0.01",
          "x": "City_Bratislava",
          "xref": "x",
          "y": "City_Geneva",
          "yref": "y"
         },
         {
          "font": {
           "color": "#FFFFFF"
          },
          "showarrow": false,
          "text": "-0.02",
          "x": "City_Brussels",
          "xref": "x",
          "y": "City_Geneva",
          "yref": "y"
         },
         {
          "font": {
           "color": "#FFFFFF"
          },
          "showarrow": false,
          "text": "-0.02",
          "x": "City_Budapest",
          "xref": "x",
          "y": "City_Geneva",
          "yref": "y"
         },
         {
          "font": {
           "color": "#FFFFFF"
          },
          "showarrow": false,
          "text": "-0.01",
          "x": "City_Copenhagen",
          "xref": "x",
          "y": "City_Geneva",
          "yref": "y"
         },
         {
          "font": {
           "color": "#FFFFFF"
          },
          "showarrow": false,
          "text": "-0.01",
          "x": "City_Dublin",
          "xref": "x",
          "y": "City_Geneva",
          "yref": "y"
         },
         {
          "font": {
           "color": "#FFFFFF"
          },
          "showarrow": false,
          "text": "-0.01",
          "x": "City_Edinburgh",
          "xref": "x",
          "y": "City_Geneva",
          "yref": "y"
         },
         {
          "font": {
           "color": "#000000"
          },
          "showarrow": false,
          "text": "1.0",
          "x": "City_Geneva",
          "xref": "x",
          "y": "City_Geneva",
          "yref": "y"
         },
         {
          "font": {
           "color": "#FFFFFF"
          },
          "showarrow": false,
          "text": "-0.02",
          "x": "City_Hamburg",
          "xref": "x",
          "y": "City_Geneva",
          "yref": "y"
         },
         {
          "font": {
           "color": "#FFFFFF"
          },
          "showarrow": false,
          "text": "-0.01",
          "x": "City_Helsinki",
          "xref": "x",
          "y": "City_Geneva",
          "yref": "y"
         },
         {
          "font": {
           "color": "#FFFFFF"
          },
          "showarrow": false,
          "text": "-0.01",
          "x": "City_Krakow",
          "xref": "x",
          "y": "City_Geneva",
          "yref": "y"
         },
         {
          "font": {
           "color": "#FFFFFF"
          },
          "showarrow": false,
          "text": "-0.02",
          "x": "City_Lisbon",
          "xref": "x",
          "y": "City_Geneva",
          "yref": "y"
         },
         {
          "font": {
           "color": "#FFFFFF"
          },
          "showarrow": false,
          "text": "-0.01",
          "x": "City_Ljubljana",
          "xref": "x",
          "y": "City_Geneva",
          "yref": "y"
         },
         {
          "font": {
           "color": "#FFFFFF"
          },
          "showarrow": false,
          "text": "-0.05",
          "x": "City_London",
          "xref": "x",
          "y": "City_Geneva",
          "yref": "y"
         },
         {
          "font": {
           "color": "#FFFFFF"
          },
          "showarrow": false,
          "text": "-0.01",
          "x": "City_Luxembourg",
          "xref": "x",
          "y": "City_Geneva",
          "yref": "y"
         },
         {
          "font": {
           "color": "#FFFFFF"
          },
          "showarrow": false,
          "text": "-0.02",
          "x": "City_Lyon",
          "xref": "x",
          "y": "City_Geneva",
          "yref": "y"
         },
         {
          "font": {
           "color": "#FFFFFF"
          },
          "showarrow": false,
          "text": "-0.03",
          "x": "City_Madrid",
          "xref": "x",
          "y": "City_Geneva",
          "yref": "y"
         },
         {
          "font": {
           "color": "#FFFFFF"
          },
          "showarrow": false,
          "text": "-0.03",
          "x": "City_Milan",
          "xref": "x",
          "y": "City_Geneva",
          "yref": "y"
         },
         {
          "font": {
           "color": "#FFFFFF"
          },
          "showarrow": false,
          "text": "-0.02",
          "x": "City_Munich",
          "xref": "x",
          "y": "City_Geneva",
          "yref": "y"
         },
         {
          "font": {
           "color": "#FFFFFF"
          },
          "showarrow": false,
          "text": "-0.01",
          "x": "City_Oporto",
          "xref": "x",
          "y": "City_Geneva",
          "yref": "y"
         },
         {
          "font": {
           "color": "#FFFFFF"
          },
          "showarrow": false,
          "text": "-0.01",
          "x": "City_Oslo",
          "xref": "x",
          "y": "City_Geneva",
          "yref": "y"
         },
         {
          "font": {
           "color": "#FFFFFF"
          },
          "showarrow": false,
          "text": "-0.04",
          "x": "City_Paris",
          "xref": "x",
          "y": "City_Geneva",
          "yref": "y"
         },
         {
          "font": {
           "color": "#FFFFFF"
          },
          "showarrow": false,
          "text": "-0.02",
          "x": "City_Prague",
          "xref": "x",
          "y": "City_Geneva",
          "yref": "y"
         },
         {
          "font": {
           "color": "#FFFFFF"
          },
          "showarrow": false,
          "text": "-0.03",
          "x": "City_Rome",
          "xref": "x",
          "y": "City_Geneva",
          "yref": "y"
         },
         {
          "font": {
           "color": "#FFFFFF"
          },
          "showarrow": false,
          "text": "-0.02",
          "x": "City_Stockholm",
          "xref": "x",
          "y": "City_Geneva",
          "yref": "y"
         },
         {
          "font": {
           "color": "#FFFFFF"
          },
          "showarrow": false,
          "text": "-0.02",
          "x": "City_Vienna",
          "xref": "x",
          "y": "City_Geneva",
          "yref": "y"
         },
         {
          "font": {
           "color": "#FFFFFF"
          },
          "showarrow": false,
          "text": "-0.02",
          "x": "City_Warsaw",
          "xref": "x",
          "y": "City_Geneva",
          "yref": "y"
         },
         {
          "font": {
           "color": "#FFFFFF"
          },
          "showarrow": false,
          "text": "-0.01",
          "x": "City_Zurich",
          "xref": "x",
          "y": "City_Geneva",
          "yref": "y"
         },
         {
          "font": {
           "color": "#FFFFFF"
          },
          "showarrow": false,
          "text": "0.01",
          "x": "Rating",
          "xref": "x",
          "y": "City_Hamburg",
          "yref": "y"
         },
         {
          "font": {
           "color": "#FFFFFF"
          },
          "showarrow": false,
          "text": "-0.03",
          "x": "City_Amsterdam",
          "xref": "x",
          "y": "City_Hamburg",
          "yref": "y"
         },
         {
          "font": {
           "color": "#FFFFFF"
          },
          "showarrow": false,
          "text": "-0.02",
          "x": "City_Athens",
          "xref": "x",
          "y": "City_Hamburg",
          "yref": "y"
         },
         {
          "font": {
           "color": "#FFFFFF"
          },
          "showarrow": false,
          "text": "-0.04",
          "x": "City_Barcelona",
          "xref": "x",
          "y": "City_Hamburg",
          "yref": "y"
         },
         {
          "font": {
           "color": "#FFFFFF"
          },
          "showarrow": false,
          "text": "-0.04",
          "x": "City_Berlin",
          "xref": "x",
          "y": "City_Hamburg",
          "yref": "y"
         },
         {
          "font": {
           "color": "#FFFFFF"
          },
          "showarrow": false,
          "text": "-0.01",
          "x": "City_Bratislava",
          "xref": "x",
          "y": "City_Hamburg",
          "yref": "y"
         },
         {
          "font": {
           "color": "#FFFFFF"
          },
          "showarrow": false,
          "text": "-0.03",
          "x": "City_Brussels",
          "xref": "x",
          "y": "City_Hamburg",
          "yref": "y"
         },
         {
          "font": {
           "color": "#FFFFFF"
          },
          "showarrow": false,
          "text": "-0.02",
          "x": "City_Budapest",
          "xref": "x",
          "y": "City_Hamburg",
          "yref": "y"
         },
         {
          "font": {
           "color": "#FFFFFF"
          },
          "showarrow": false,
          "text": "-0.02",
          "x": "City_Copenhagen",
          "xref": "x",
          "y": "City_Hamburg",
          "yref": "y"
         },
         {
          "font": {
           "color": "#FFFFFF"
          },
          "showarrow": false,
          "text": "-0.02",
          "x": "City_Dublin",
          "xref": "x",
          "y": "City_Hamburg",
          "yref": "y"
         },
         {
          "font": {
           "color": "#FFFFFF"
          },
          "showarrow": false,
          "text": "-0.02",
          "x": "City_Edinburgh",
          "xref": "x",
          "y": "City_Hamburg",
          "yref": "y"
         },
         {
          "font": {
           "color": "#FFFFFF"
          },
          "showarrow": false,
          "text": "-0.02",
          "x": "City_Geneva",
          "xref": "x",
          "y": "City_Hamburg",
          "yref": "y"
         },
         {
          "font": {
           "color": "#000000"
          },
          "showarrow": false,
          "text": "1.0",
          "x": "City_Hamburg",
          "xref": "x",
          "y": "City_Hamburg",
          "yref": "y"
         },
         {
          "font": {
           "color": "#FFFFFF"
          },
          "showarrow": false,
          "text": "-0.02",
          "x": "City_Helsinki",
          "xref": "x",
          "y": "City_Hamburg",
          "yref": "y"
         },
         {
          "font": {
           "color": "#FFFFFF"
          },
          "showarrow": false,
          "text": "-0.02",
          "x": "City_Krakow",
          "xref": "x",
          "y": "City_Hamburg",
          "yref": "y"
         },
         {
          "font": {
           "color": "#FFFFFF"
          },
          "showarrow": false,
          "text": "-0.03",
          "x": "City_Lisbon",
          "xref": "x",
          "y": "City_Hamburg",
          "yref": "y"
         },
         {
          "font": {
           "color": "#FFFFFF"
          },
          "showarrow": false,
          "text": "-0.01",
          "x": "City_Ljubljana",
          "xref": "x",
          "y": "City_Hamburg",
          "yref": "y"
         },
         {
          "font": {
           "color": "#FFFFFF"
          },
          "showarrow": false,
          "text": "-0.06",
          "x": "City_London",
          "xref": "x",
          "y": "City_Hamburg",
          "yref": "y"
         },
         {
          "font": {
           "color": "#FFFFFF"
          },
          "showarrow": false,
          "text": "-0.01",
          "x": "City_Luxembourg",
          "xref": "x",
          "y": "City_Hamburg",
          "yref": "y"
         },
         {
          "font": {
           "color": "#FFFFFF"
          },
          "showarrow": false,
          "text": "-0.02",
          "x": "City_Lyon",
          "xref": "x",
          "y": "City_Hamburg",
          "yref": "y"
         },
         {
          "font": {
           "color": "#FFFFFF"
          },
          "showarrow": false,
          "text": "-0.05",
          "x": "City_Madrid",
          "xref": "x",
          "y": "City_Hamburg",
          "yref": "y"
         },
         {
          "font": {
           "color": "#FFFFFF"
          },
          "showarrow": false,
          "text": "-0.04",
          "x": "City_Milan",
          "xref": "x",
          "y": "City_Hamburg",
          "yref": "y"
         },
         {
          "font": {
           "color": "#FFFFFF"
          },
          "showarrow": false,
          "text": "-0.02",
          "x": "City_Munich",
          "xref": "x",
          "y": "City_Hamburg",
          "yref": "y"
         },
         {
          "font": {
           "color": "#FFFFFF"
          },
          "showarrow": false,
          "text": "-0.02",
          "x": "City_Oporto",
          "xref": "x",
          "y": "City_Hamburg",
          "yref": "y"
         },
         {
          "font": {
           "color": "#FFFFFF"
          },
          "showarrow": false,
          "text": "-0.02",
          "x": "City_Oslo",
          "xref": "x",
          "y": "City_Hamburg",
          "yref": "y"
         },
         {
          "font": {
           "color": "#FFFFFF"
          },
          "showarrow": false,
          "text": "-0.06",
          "x": "City_Paris",
          "xref": "x",
          "y": "City_Hamburg",
          "yref": "y"
         },
         {
          "font": {
           "color": "#FFFFFF"
          },
          "showarrow": false,
          "text": "-0.03",
          "x": "City_Prague",
          "xref": "x",
          "y": "City_Hamburg",
          "yref": "y"
         },
         {
          "font": {
           "color": "#FFFFFF"
          },
          "showarrow": false,
          "text": "-0.04",
          "x": "City_Rome",
          "xref": "x",
          "y": "City_Hamburg",
          "yref": "y"
         },
         {
          "font": {
           "color": "#FFFFFF"
          },
          "showarrow": false,
          "text": "-0.02",
          "x": "City_Stockholm",
          "xref": "x",
          "y": "City_Hamburg",
          "yref": "y"
         },
         {
          "font": {
           "color": "#FFFFFF"
          },
          "showarrow": false,
          "text": "-0.03",
          "x": "City_Vienna",
          "xref": "x",
          "y": "City_Hamburg",
          "yref": "y"
         },
         {
          "font": {
           "color": "#FFFFFF"
          },
          "showarrow": false,
          "text": "-0.02",
          "x": "City_Warsaw",
          "xref": "x",
          "y": "City_Hamburg",
          "yref": "y"
         },
         {
          "font": {
           "color": "#FFFFFF"
          },
          "showarrow": false,
          "text": "-0.02",
          "x": "City_Zurich",
          "xref": "x",
          "y": "City_Hamburg",
          "yref": "y"
         },
         {
          "font": {
           "color": "#FFFFFF"
          },
          "showarrow": false,
          "text": "-0.01",
          "x": "Rating",
          "xref": "x",
          "y": "City_Helsinki",
          "yref": "y"
         },
         {
          "font": {
           "color": "#FFFFFF"
          },
          "showarrow": false,
          "text": "-0.02",
          "x": "City_Amsterdam",
          "xref": "x",
          "y": "City_Helsinki",
          "yref": "y"
         },
         {
          "font": {
           "color": "#FFFFFF"
          },
          "showarrow": false,
          "text": "-0.01",
          "x": "City_Athens",
          "xref": "x",
          "y": "City_Helsinki",
          "yref": "y"
         },
         {
          "font": {
           "color": "#FFFFFF"
          },
          "showarrow": false,
          "text": "-0.03",
          "x": "City_Barcelona",
          "xref": "x",
          "y": "City_Helsinki",
          "yref": "y"
         },
         {
          "font": {
           "color": "#FFFFFF"
          },
          "showarrow": false,
          "text": "-0.02",
          "x": "City_Berlin",
          "xref": "x",
          "y": "City_Helsinki",
          "yref": "y"
         },
         {
          "font": {
           "color": "#FFFFFF"
          },
          "showarrow": false,
          "text": "-0.01",
          "x": "City_Bratislava",
          "xref": "x",
          "y": "City_Helsinki",
          "yref": "y"
         },
         {
          "font": {
           "color": "#FFFFFF"
          },
          "showarrow": false,
          "text": "-0.02",
          "x": "City_Brussels",
          "xref": "x",
          "y": "City_Helsinki",
          "yref": "y"
         },
         {
          "font": {
           "color": "#FFFFFF"
          },
          "showarrow": false,
          "text": "-0.01",
          "x": "City_Budapest",
          "xref": "x",
          "y": "City_Helsinki",
          "yref": "y"
         },
         {
          "font": {
           "color": "#FFFFFF"
          },
          "showarrow": false,
          "text": "-0.01",
          "x": "City_Copenhagen",
          "xref": "x",
          "y": "City_Helsinki",
          "yref": "y"
         },
         {
          "font": {
           "color": "#FFFFFF"
          },
          "showarrow": false,
          "text": "-0.01",
          "x": "City_Dublin",
          "xref": "x",
          "y": "City_Helsinki",
          "yref": "y"
         },
         {
          "font": {
           "color": "#FFFFFF"
          },
          "showarrow": false,
          "text": "-0.01",
          "x": "City_Edinburgh",
          "xref": "x",
          "y": "City_Helsinki",
          "yref": "y"
         },
         {
          "font": {
           "color": "#FFFFFF"
          },
          "showarrow": false,
          "text": "-0.01",
          "x": "City_Geneva",
          "xref": "x",
          "y": "City_Helsinki",
          "yref": "y"
         },
         {
          "font": {
           "color": "#FFFFFF"
          },
          "showarrow": false,
          "text": "-0.02",
          "x": "City_Hamburg",
          "xref": "x",
          "y": "City_Helsinki",
          "yref": "y"
         },
         {
          "font": {
           "color": "#000000"
          },
          "showarrow": false,
          "text": "1.0",
          "x": "City_Helsinki",
          "xref": "x",
          "y": "City_Helsinki",
          "yref": "y"
         },
         {
          "font": {
           "color": "#FFFFFF"
          },
          "showarrow": false,
          "text": "-0.01",
          "x": "City_Krakow",
          "xref": "x",
          "y": "City_Helsinki",
          "yref": "y"
         },
         {
          "font": {
           "color": "#FFFFFF"
          },
          "showarrow": false,
          "text": "-0.02",
          "x": "City_Lisbon",
          "xref": "x",
          "y": "City_Helsinki",
          "yref": "y"
         },
         {
          "font": {
           "color": "#FFFFFF"
          },
          "showarrow": false,
          "text": "-0.01",
          "x": "City_Ljubljana",
          "xref": "x",
          "y": "City_Helsinki",
          "yref": "y"
         },
         {
          "font": {
           "color": "#FFFFFF"
          },
          "showarrow": false,
          "text": "-0.04",
          "x": "City_London",
          "xref": "x",
          "y": "City_Helsinki",
          "yref": "y"
         },
         {
          "font": {
           "color": "#FFFFFF"
          },
          "showarrow": false,
          "text": "-0.01",
          "x": "City_Luxembourg",
          "xref": "x",
          "y": "City_Helsinki",
          "yref": "y"
         },
         {
          "font": {
           "color": "#FFFFFF"
          },
          "showarrow": false,
          "text": "-0.01",
          "x": "City_Lyon",
          "xref": "x",
          "y": "City_Helsinki",
          "yref": "y"
         },
         {
          "font": {
           "color": "#FFFFFF"
          },
          "showarrow": false,
          "text": "-0.03",
          "x": "City_Madrid",
          "xref": "x",
          "y": "City_Helsinki",
          "yref": "y"
         },
         {
          "font": {
           "color": "#FFFFFF"
          },
          "showarrow": false,
          "text": "-0.02",
          "x": "City_Milan",
          "xref": "x",
          "y": "City_Helsinki",
          "yref": "y"
         },
         {
          "font": {
           "color": "#FFFFFF"
          },
          "showarrow": false,
          "text": "-0.01",
          "x": "City_Munich",
          "xref": "x",
          "y": "City_Helsinki",
          "yref": "y"
         },
         {
          "font": {
           "color": "#FFFFFF"
          },
          "showarrow": false,
          "text": "-0.01",
          "x": "City_Oporto",
          "xref": "x",
          "y": "City_Helsinki",
          "yref": "y"
         },
         {
          "font": {
           "color": "#FFFFFF"
          },
          "showarrow": false,
          "text": "-0.01",
          "x": "City_Oslo",
          "xref": "x",
          "y": "City_Helsinki",
          "yref": "y"
         },
         {
          "font": {
           "color": "#FFFFFF"
          },
          "showarrow": false,
          "text": "-0.04",
          "x": "City_Paris",
          "xref": "x",
          "y": "City_Helsinki",
          "yref": "y"
         },
         {
          "font": {
           "color": "#FFFFFF"
          },
          "showarrow": false,
          "text": "-0.02",
          "x": "City_Prague",
          "xref": "x",
          "y": "City_Helsinki",
          "yref": "y"
         },
         {
          "font": {
           "color": "#FFFFFF"
          },
          "showarrow": false,
          "text": "-0.02",
          "x": "City_Rome",
          "xref": "x",
          "y": "City_Helsinki",
          "yref": "y"
         },
         {
          "font": {
           "color": "#FFFFFF"
          },
          "showarrow": false,
          "text": "-0.01",
          "x": "City_Stockholm",
          "xref": "x",
          "y": "City_Helsinki",
          "yref": "y"
         },
         {
          "font": {
           "color": "#FFFFFF"
          },
          "showarrow": false,
          "text": "-0.02",
          "x": "City_Vienna",
          "xref": "x",
          "y": "City_Helsinki",
          "yref": "y"
         },
         {
          "font": {
           "color": "#FFFFFF"
          },
          "showarrow": false,
          "text": "-0.01",
          "x": "City_Warsaw",
          "xref": "x",
          "y": "City_Helsinki",
          "yref": "y"
         },
         {
          "font": {
           "color": "#FFFFFF"
          },
          "showarrow": false,
          "text": "-0.01",
          "x": "City_Zurich",
          "xref": "x",
          "y": "City_Helsinki",
          "yref": "y"
         },
         {
          "font": {
           "color": "#FFFFFF"
          },
          "showarrow": false,
          "text": "0.02",
          "x": "Rating",
          "xref": "x",
          "y": "City_Krakow",
          "yref": "y"
         },
         {
          "font": {
           "color": "#FFFFFF"
          },
          "showarrow": false,
          "text": "-0.02",
          "x": "City_Amsterdam",
          "xref": "x",
          "y": "City_Krakow",
          "yref": "y"
         },
         {
          "font": {
           "color": "#FFFFFF"
          },
          "showarrow": false,
          "text": "-0.01",
          "x": "City_Athens",
          "xref": "x",
          "y": "City_Krakow",
          "yref": "y"
         },
         {
          "font": {
           "color": "#FFFFFF"
          },
          "showarrow": false,
          "text": "-0.03",
          "x": "City_Barcelona",
          "xref": "x",
          "y": "City_Krakow",
          "yref": "y"
         },
         {
          "font": {
           "color": "#FFFFFF"
          },
          "showarrow": false,
          "text": "-0.03",
          "x": "City_Berlin",
          "xref": "x",
          "y": "City_Krakow",
          "yref": "y"
         },
         {
          "font": {
           "color": "#FFFFFF"
          },
          "showarrow": false,
          "text": "-0.01",
          "x": "City_Bratislava",
          "xref": "x",
          "y": "City_Krakow",
          "yref": "y"
         },
         {
          "font": {
           "color": "#FFFFFF"
          },
          "showarrow": false,
          "text": "-0.02",
          "x": "City_Brussels",
          "xref": "x",
          "y": "City_Krakow",
          "yref": "y"
         },
         {
          "font": {
           "color": "#FFFFFF"
          },
          "showarrow": false,
          "text": "-0.02",
          "x": "City_Budapest",
          "xref": "x",
          "y": "City_Krakow",
          "yref": "y"
         },
         {
          "font": {
           "color": "#FFFFFF"
          },
          "showarrow": false,
          "text": "-0.01",
          "x": "City_Copenhagen",
          "xref": "x",
          "y": "City_Krakow",
          "yref": "y"
         },
         {
          "font": {
           "color": "#FFFFFF"
          },
          "showarrow": false,
          "text": "-0.01",
          "x": "City_Dublin",
          "xref": "x",
          "y": "City_Krakow",
          "yref": "y"
         },
         {
          "font": {
           "color": "#FFFFFF"
          },
          "showarrow": false,
          "text": "-0.01",
          "x": "City_Edinburgh",
          "xref": "x",
          "y": "City_Krakow",
          "yref": "y"
         },
         {
          "font": {
           "color": "#FFFFFF"
          },
          "showarrow": false,
          "text": "-0.01",
          "x": "City_Geneva",
          "xref": "x",
          "y": "City_Krakow",
          "yref": "y"
         },
         {
          "font": {
           "color": "#FFFFFF"
          },
          "showarrow": false,
          "text": "-0.02",
          "x": "City_Hamburg",
          "xref": "x",
          "y": "City_Krakow",
          "yref": "y"
         },
         {
          "font": {
           "color": "#FFFFFF"
          },
          "showarrow": false,
          "text": "-0.01",
          "x": "City_Helsinki",
          "xref": "x",
          "y": "City_Krakow",
          "yref": "y"
         },
         {
          "font": {
           "color": "#000000"
          },
          "showarrow": false,
          "text": "1.0",
          "x": "City_Krakow",
          "xref": "x",
          "y": "City_Krakow",
          "yref": "y"
         },
         {
          "font": {
           "color": "#FFFFFF"
          },
          "showarrow": false,
          "text": "-0.02",
          "x": "City_Lisbon",
          "xref": "x",
          "y": "City_Krakow",
          "yref": "y"
         },
         {
          "font": {
           "color": "#FFFFFF"
          },
          "showarrow": false,
          "text": "-0.01",
          "x": "City_Ljubljana",
          "xref": "x",
          "y": "City_Krakow",
          "yref": "y"
         },
         {
          "font": {
           "color": "#FFFFFF"
          },
          "showarrow": false,
          "text": "-0.04",
          "x": "City_London",
          "xref": "x",
          "y": "City_Krakow",
          "yref": "y"
         },
         {
          "font": {
           "color": "#FFFFFF"
          },
          "showarrow": false,
          "text": "-0.01",
          "x": "City_Luxembourg",
          "xref": "x",
          "y": "City_Krakow",
          "yref": "y"
         },
         {
          "font": {
           "color": "#FFFFFF"
          },
          "showarrow": false,
          "text": "-0.02",
          "x": "City_Lyon",
          "xref": "x",
          "y": "City_Krakow",
          "yref": "y"
         },
         {
          "font": {
           "color": "#FFFFFF"
          },
          "showarrow": false,
          "text": "-0.03",
          "x": "City_Madrid",
          "xref": "x",
          "y": "City_Krakow",
          "yref": "y"
         },
         {
          "font": {
           "color": "#FFFFFF"
          },
          "showarrow": false,
          "text": "-0.03",
          "x": "City_Milan",
          "xref": "x",
          "y": "City_Krakow",
          "yref": "y"
         },
         {
          "font": {
           "color": "#FFFFFF"
          },
          "showarrow": false,
          "text": "-0.02",
          "x": "City_Munich",
          "xref": "x",
          "y": "City_Krakow",
          "yref": "y"
         },
         {
          "font": {
           "color": "#FFFFFF"
          },
          "showarrow": false,
          "text": "-0.01",
          "x": "City_Oporto",
          "xref": "x",
          "y": "City_Krakow",
          "yref": "y"
         },
         {
          "font": {
           "color": "#FFFFFF"
          },
          "showarrow": false,
          "text": "-0.01",
          "x": "City_Oslo",
          "xref": "x",
          "y": "City_Krakow",
          "yref": "y"
         },
         {
          "font": {
           "color": "#FFFFFF"
          },
          "showarrow": false,
          "text": "-0.04",
          "x": "City_Paris",
          "xref": "x",
          "y": "City_Krakow",
          "yref": "y"
         },
         {
          "font": {
           "color": "#FFFFFF"
          },
          "showarrow": false,
          "text": "-0.02",
          "x": "City_Prague",
          "xref": "x",
          "y": "City_Krakow",
          "yref": "y"
         },
         {
          "font": {
           "color": "#FFFFFF"
          },
          "showarrow": false,
          "text": "-0.02",
          "x": "City_Rome",
          "xref": "x",
          "y": "City_Krakow",
          "yref": "y"
         },
         {
          "font": {
           "color": "#FFFFFF"
          },
          "showarrow": false,
          "text": "-0.02",
          "x": "City_Stockholm",
          "xref": "x",
          "y": "City_Krakow",
          "yref": "y"
         },
         {
          "font": {
           "color": "#FFFFFF"
          },
          "showarrow": false,
          "text": "-0.02",
          "x": "City_Vienna",
          "xref": "x",
          "y": "City_Krakow",
          "yref": "y"
         },
         {
          "font": {
           "color": "#FFFFFF"
          },
          "showarrow": false,
          "text": "-0.01",
          "x": "City_Warsaw",
          "xref": "x",
          "y": "City_Krakow",
          "yref": "y"
         },
         {
          "font": {
           "color": "#FFFFFF"
          },
          "showarrow": false,
          "text": "-0.01",
          "x": "City_Zurich",
          "xref": "x",
          "y": "City_Krakow",
          "yref": "y"
         },
         {
          "font": {
           "color": "#FFFFFF"
          },
          "showarrow": false,
          "text": "0.01",
          "x": "Rating",
          "xref": "x",
          "y": "City_Lisbon",
          "yref": "y"
         },
         {
          "font": {
           "color": "#FFFFFF"
          },
          "showarrow": false,
          "text": "-0.03",
          "x": "City_Amsterdam",
          "xref": "x",
          "y": "City_Lisbon",
          "yref": "y"
         },
         {
          "font": {
           "color": "#FFFFFF"
          },
          "showarrow": false,
          "text": "-0.02",
          "x": "City_Athens",
          "xref": "x",
          "y": "City_Lisbon",
          "yref": "y"
         },
         {
          "font": {
           "color": "#FFFFFF"
          },
          "showarrow": false,
          "text": "-0.05",
          "x": "City_Barcelona",
          "xref": "x",
          "y": "City_Lisbon",
          "yref": "y"
         },
         {
          "font": {
           "color": "#FFFFFF"
          },
          "showarrow": false,
          "text": "-0.04",
          "x": "City_Berlin",
          "xref": "x",
          "y": "City_Lisbon",
          "yref": "y"
         },
         {
          "font": {
           "color": "#FFFFFF"
          },
          "showarrow": false,
          "text": "-0.02",
          "x": "City_Bratislava",
          "xref": "x",
          "y": "City_Lisbon",
          "yref": "y"
         },
         {
          "font": {
           "color": "#FFFFFF"
          },
          "showarrow": false,
          "text": "-0.03",
          "x": "City_Brussels",
          "xref": "x",
          "y": "City_Lisbon",
          "yref": "y"
         },
         {
          "font": {
           "color": "#FFFFFF"
          },
          "showarrow": false,
          "text": "-0.03",
          "x": "City_Budapest",
          "xref": "x",
          "y": "City_Lisbon",
          "yref": "y"
         },
         {
          "font": {
           "color": "#FFFFFF"
          },
          "showarrow": false,
          "text": "-0.02",
          "x": "City_Copenhagen",
          "xref": "x",
          "y": "City_Lisbon",
          "yref": "y"
         },
         {
          "font": {
           "color": "#FFFFFF"
          },
          "showarrow": false,
          "text": "-0.02",
          "x": "City_Dublin",
          "xref": "x",
          "y": "City_Lisbon",
          "yref": "y"
         },
         {
          "font": {
           "color": "#FFFFFF"
          },
          "showarrow": false,
          "text": "-0.02",
          "x": "City_Edinburgh",
          "xref": "x",
          "y": "City_Lisbon",
          "yref": "y"
         },
         {
          "font": {
           "color": "#FFFFFF"
          },
          "showarrow": false,
          "text": "-0.02",
          "x": "City_Geneva",
          "xref": "x",
          "y": "City_Lisbon",
          "yref": "y"
         },
         {
          "font": {
           "color": "#FFFFFF"
          },
          "showarrow": false,
          "text": "-0.03",
          "x": "City_Hamburg",
          "xref": "x",
          "y": "City_Lisbon",
          "yref": "y"
         },
         {
          "font": {
           "color": "#FFFFFF"
          },
          "showarrow": false,
          "text": "-0.02",
          "x": "City_Helsinki",
          "xref": "x",
          "y": "City_Lisbon",
          "yref": "y"
         },
         {
          "font": {
           "color": "#FFFFFF"
          },
          "showarrow": false,
          "text": "-0.02",
          "x": "City_Krakow",
          "xref": "x",
          "y": "City_Lisbon",
          "yref": "y"
         },
         {
          "font": {
           "color": "#000000"
          },
          "showarrow": false,
          "text": "1.0",
          "x": "City_Lisbon",
          "xref": "x",
          "y": "City_Lisbon",
          "yref": "y"
         },
         {
          "font": {
           "color": "#FFFFFF"
          },
          "showarrow": false,
          "text": "-0.01",
          "x": "City_Ljubljana",
          "xref": "x",
          "y": "City_Lisbon",
          "yref": "y"
         },
         {
          "font": {
           "color": "#FFFFFF"
          },
          "showarrow": false,
          "text": "-0.08",
          "x": "City_London",
          "xref": "x",
          "y": "City_Lisbon",
          "yref": "y"
         },
         {
          "font": {
           "color": "#FFFFFF"
          },
          "showarrow": false,
          "text": "-0.01",
          "x": "City_Luxembourg",
          "xref": "x",
          "y": "City_Lisbon",
          "yref": "y"
         },
         {
          "font": {
           "color": "#FFFFFF"
          },
          "showarrow": false,
          "text": "-0.03",
          "x": "City_Lyon",
          "xref": "x",
          "y": "City_Lisbon",
          "yref": "y"
         },
         {
          "font": {
           "color": "#FFFFFF"
          },
          "showarrow": false,
          "text": "-0.05",
          "x": "City_Madrid",
          "xref": "x",
          "y": "City_Lisbon",
          "yref": "y"
         },
         {
          "font": {
           "color": "#FFFFFF"
          },
          "showarrow": false,
          "text": "-0.04",
          "x": "City_Milan",
          "xref": "x",
          "y": "City_Lisbon",
          "yref": "y"
         },
         {
          "font": {
           "color": "#FFFFFF"
          },
          "showarrow": false,
          "text": "-0.03",
          "x": "City_Munich",
          "xref": "x",
          "y": "City_Lisbon",
          "yref": "y"
         },
         {
          "font": {
           "color": "#FFFFFF"
          },
          "showarrow": false,
          "text": "-0.02",
          "x": "City_Oporto",
          "xref": "x",
          "y": "City_Lisbon",
          "yref": "y"
         },
         {
          "font": {
           "color": "#FFFFFF"
          },
          "showarrow": false,
          "text": "-0.02",
          "x": "City_Oslo",
          "xref": "x",
          "y": "City_Lisbon",
          "yref": "y"
         },
         {
          "font": {
           "color": "#FFFFFF"
          },
          "showarrow": false,
          "text": "-0.07",
          "x": "City_Paris",
          "xref": "x",
          "y": "City_Lisbon",
          "yref": "y"
         },
         {
          "font": {
           "color": "#FFFFFF"
          },
          "showarrow": false,
          "text": "-0.04",
          "x": "City_Prague",
          "xref": "x",
          "y": "City_Lisbon",
          "yref": "y"
         },
         {
          "font": {
           "color": "#FFFFFF"
          },
          "showarrow": false,
          "text": "-0.04",
          "x": "City_Rome",
          "xref": "x",
          "y": "City_Lisbon",
          "yref": "y"
         },
         {
          "font": {
           "color": "#FFFFFF"
          },
          "showarrow": false,
          "text": "-0.03",
          "x": "City_Stockholm",
          "xref": "x",
          "y": "City_Lisbon",
          "yref": "y"
         },
         {
          "font": {
           "color": "#FFFFFF"
          },
          "showarrow": false,
          "text": "-0.03",
          "x": "City_Vienna",
          "xref": "x",
          "y": "City_Lisbon",
          "yref": "y"
         },
         {
          "font": {
           "color": "#FFFFFF"
          },
          "showarrow": false,
          "text": "-0.02",
          "x": "City_Warsaw",
          "xref": "x",
          "y": "City_Lisbon",
          "yref": "y"
         },
         {
          "font": {
           "color": "#FFFFFF"
          },
          "showarrow": false,
          "text": "-0.02",
          "x": "City_Zurich",
          "xref": "x",
          "y": "City_Lisbon",
          "yref": "y"
         },
         {
          "font": {
           "color": "#FFFFFF"
          },
          "showarrow": false,
          "text": "0.01",
          "x": "Rating",
          "xref": "x",
          "y": "City_Ljubljana",
          "yref": "y"
         },
         {
          "font": {
           "color": "#FFFFFF"
          },
          "showarrow": false,
          "text": "-0.01",
          "x": "City_Amsterdam",
          "xref": "x",
          "y": "City_Ljubljana",
          "yref": "y"
         },
         {
          "font": {
           "color": "#FFFFFF"
          },
          "showarrow": false,
          "text": "-0.01",
          "x": "City_Athens",
          "xref": "x",
          "y": "City_Ljubljana",
          "yref": "y"
         },
         {
          "font": {
           "color": "#FFFFFF"
          },
          "showarrow": false,
          "text": "-0.02",
          "x": "City_Barcelona",
          "xref": "x",
          "y": "City_Ljubljana",
          "yref": "y"
         },
         {
          "font": {
           "color": "#FFFFFF"
          },
          "showarrow": false,
          "text": "-0.02",
          "x": "City_Berlin",
          "xref": "x",
          "y": "City_Ljubljana",
          "yref": "y"
         },
         {
          "font": {
           "color": "#FFFFFF"
          },
          "showarrow": false,
          "text": "-0.01",
          "x": "City_Bratislava",
          "xref": "x",
          "y": "City_Ljubljana",
          "yref": "y"
         },
         {
          "font": {
           "color": "#FFFFFF"
          },
          "showarrow": false,
          "text": "-0.01",
          "x": "City_Brussels",
          "xref": "x",
          "y": "City_Ljubljana",
          "yref": "y"
         },
         {
          "font": {
           "color": "#FFFFFF"
          },
          "showarrow": false,
          "text": "-0.01",
          "x": "City_Budapest",
          "xref": "x",
          "y": "City_Ljubljana",
          "yref": "y"
         },
         {
          "font": {
           "color": "#FFFFFF"
          },
          "showarrow": false,
          "text": "-0.01",
          "x": "City_Copenhagen",
          "xref": "x",
          "y": "City_Ljubljana",
          "yref": "y"
         },
         {
          "font": {
           "color": "#FFFFFF"
          },
          "showarrow": false,
          "text": "-0.01",
          "x": "City_Dublin",
          "xref": "x",
          "y": "City_Ljubljana",
          "yref": "y"
         },
         {
          "font": {
           "color": "#FFFFFF"
          },
          "showarrow": false,
          "text": "-0.01",
          "x": "City_Edinburgh",
          "xref": "x",
          "y": "City_Ljubljana",
          "yref": "y"
         },
         {
          "font": {
           "color": "#FFFFFF"
          },
          "showarrow": false,
          "text": "-0.01",
          "x": "City_Geneva",
          "xref": "x",
          "y": "City_Ljubljana",
          "yref": "y"
         },
         {
          "font": {
           "color": "#FFFFFF"
          },
          "showarrow": false,
          "text": "-0.01",
          "x": "City_Hamburg",
          "xref": "x",
          "y": "City_Ljubljana",
          "yref": "y"
         },
         {
          "font": {
           "color": "#FFFFFF"
          },
          "showarrow": false,
          "text": "-0.01",
          "x": "City_Helsinki",
          "xref": "x",
          "y": "City_Ljubljana",
          "yref": "y"
         },
         {
          "font": {
           "color": "#FFFFFF"
          },
          "showarrow": false,
          "text": "-0.01",
          "x": "City_Krakow",
          "xref": "x",
          "y": "City_Ljubljana",
          "yref": "y"
         },
         {
          "font": {
           "color": "#FFFFFF"
          },
          "showarrow": false,
          "text": "-0.01",
          "x": "City_Lisbon",
          "xref": "x",
          "y": "City_Ljubljana",
          "yref": "y"
         },
         {
          "font": {
           "color": "#000000"
          },
          "showarrow": false,
          "text": "1.0",
          "x": "City_Ljubljana",
          "xref": "x",
          "y": "City_Ljubljana",
          "yref": "y"
         },
         {
          "font": {
           "color": "#FFFFFF"
          },
          "showarrow": false,
          "text": "-0.03",
          "x": "City_London",
          "xref": "x",
          "y": "City_Ljubljana",
          "yref": "y"
         },
         {
          "font": {
           "color": "#FFFFFF"
          },
          "showarrow": false,
          "text": "-0.0",
          "x": "City_Luxembourg",
          "xref": "x",
          "y": "City_Ljubljana",
          "yref": "y"
         },
         {
          "font": {
           "color": "#FFFFFF"
          },
          "showarrow": false,
          "text": "-0.01",
          "x": "City_Lyon",
          "xref": "x",
          "y": "City_Ljubljana",
          "yref": "y"
         },
         {
          "font": {
           "color": "#FFFFFF"
          },
          "showarrow": false,
          "text": "-0.02",
          "x": "City_Madrid",
          "xref": "x",
          "y": "City_Ljubljana",
          "yref": "y"
         },
         {
          "font": {
           "color": "#FFFFFF"
          },
          "showarrow": false,
          "text": "-0.02",
          "x": "City_Milan",
          "xref": "x",
          "y": "City_Ljubljana",
          "yref": "y"
         },
         {
          "font": {
           "color": "#FFFFFF"
          },
          "showarrow": false,
          "text": "-0.01",
          "x": "City_Munich",
          "xref": "x",
          "y": "City_Ljubljana",
          "yref": "y"
         },
         {
          "font": {
           "color": "#FFFFFF"
          },
          "showarrow": false,
          "text": "-0.01",
          "x": "City_Oporto",
          "xref": "x",
          "y": "City_Ljubljana",
          "yref": "y"
         },
         {
          "font": {
           "color": "#FFFFFF"
          },
          "showarrow": false,
          "text": "-0.01",
          "x": "City_Oslo",
          "xref": "x",
          "y": "City_Ljubljana",
          "yref": "y"
         },
         {
          "font": {
           "color": "#FFFFFF"
          },
          "showarrow": false,
          "text": "-0.03",
          "x": "City_Paris",
          "xref": "x",
          "y": "City_Ljubljana",
          "yref": "y"
         },
         {
          "font": {
           "color": "#FFFFFF"
          },
          "showarrow": false,
          "text": "-0.01",
          "x": "City_Prague",
          "xref": "x",
          "y": "City_Ljubljana",
          "yref": "y"
         },
         {
          "font": {
           "color": "#FFFFFF"
          },
          "showarrow": false,
          "text": "-0.02",
          "x": "City_Rome",
          "xref": "x",
          "y": "City_Ljubljana",
          "yref": "y"
         },
         {
          "font": {
           "color": "#FFFFFF"
          },
          "showarrow": false,
          "text": "-0.01",
          "x": "City_Stockholm",
          "xref": "x",
          "y": "City_Ljubljana",
          "yref": "y"
         },
         {
          "font": {
           "color": "#FFFFFF"
          },
          "showarrow": false,
          "text": "-0.01",
          "x": "City_Vienna",
          "xref": "x",
          "y": "City_Ljubljana",
          "yref": "y"
         },
         {
          "font": {
           "color": "#FFFFFF"
          },
          "showarrow": false,
          "text": "-0.01",
          "x": "City_Warsaw",
          "xref": "x",
          "y": "City_Ljubljana",
          "yref": "y"
         },
         {
          "font": {
           "color": "#FFFFFF"
          },
          "showarrow": false,
          "text": "-0.01",
          "x": "City_Zurich",
          "xref": "x",
          "y": "City_Ljubljana",
          "yref": "y"
         },
         {
          "font": {
           "color": "#FFFFFF"
          },
          "showarrow": false,
          "text": "-0.02",
          "x": "Rating",
          "xref": "x",
          "y": "City_London",
          "yref": "y"
         },
         {
          "font": {
           "color": "#FFFFFF"
          },
          "showarrow": false,
          "text": "-0.07",
          "x": "City_Amsterdam",
          "xref": "x",
          "y": "City_London",
          "yref": "y"
         },
         {
          "font": {
           "color": "#FFFFFF"
          },
          "showarrow": false,
          "text": "-0.05",
          "x": "City_Athens",
          "xref": "x",
          "y": "City_London",
          "yref": "y"
         },
         {
          "font": {
           "color": "#FFFFFF"
          },
          "showarrow": false,
          "text": "-0.11",
          "x": "City_Barcelona",
          "xref": "x",
          "y": "City_London",
          "yref": "y"
         },
         {
          "font": {
           "color": "#FFFFFF"
          },
          "showarrow": false,
          "text": "-0.1",
          "x": "City_Berlin",
          "xref": "x",
          "y": "City_London",
          "yref": "y"
         },
         {
          "font": {
           "color": "#FFFFFF"
          },
          "showarrow": false,
          "text": "-0.04",
          "x": "City_Bratislava",
          "xref": "x",
          "y": "City_London",
          "yref": "y"
         },
         {
          "font": {
           "color": "#FFFFFF"
          },
          "showarrow": false,
          "text": "-0.07",
          "x": "City_Brussels",
          "xref": "x",
          "y": "City_London",
          "yref": "y"
         },
         {
          "font": {
           "color": "#FFFFFF"
          },
          "showarrow": false,
          "text": "-0.06",
          "x": "City_Budapest",
          "xref": "x",
          "y": "City_London",
          "yref": "y"
         },
         {
          "font": {
           "color": "#FFFFFF"
          },
          "showarrow": false,
          "text": "-0.05",
          "x": "City_Copenhagen",
          "xref": "x",
          "y": "City_London",
          "yref": "y"
         },
         {
          "font": {
           "color": "#FFFFFF"
          },
          "showarrow": false,
          "text": "-0.05",
          "x": "City_Dublin",
          "xref": "x",
          "y": "City_London",
          "yref": "y"
         },
         {
          "font": {
           "color": "#FFFFFF"
          },
          "showarrow": false,
          "text": "-0.05",
          "x": "City_Edinburgh",
          "xref": "x",
          "y": "City_London",
          "yref": "y"
         },
         {
          "font": {
           "color": "#FFFFFF"
          },
          "showarrow": false,
          "text": "-0.05",
          "x": "City_Geneva",
          "xref": "x",
          "y": "City_London",
          "yref": "y"
         },
         {
          "font": {
           "color": "#FFFFFF"
          },
          "showarrow": false,
          "text": "-0.06",
          "x": "City_Hamburg",
          "xref": "x",
          "y": "City_London",
          "yref": "y"
         },
         {
          "font": {
           "color": "#FFFFFF"
          },
          "showarrow": false,
          "text": "-0.04",
          "x": "City_Helsinki",
          "xref": "x",
          "y": "City_London",
          "yref": "y"
         },
         {
          "font": {
           "color": "#FFFFFF"
          },
          "showarrow": false,
          "text": "-0.04",
          "x": "City_Krakow",
          "xref": "x",
          "y": "City_London",
          "yref": "y"
         },
         {
          "font": {
           "color": "#FFFFFF"
          },
          "showarrow": false,
          "text": "-0.08",
          "x": "City_Lisbon",
          "xref": "x",
          "y": "City_London",
          "yref": "y"
         },
         {
          "font": {
           "color": "#FFFFFF"
          },
          "showarrow": false,
          "text": "-0.03",
          "x": "City_Ljubljana",
          "xref": "x",
          "y": "City_London",
          "yref": "y"
         },
         {
          "font": {
           "color": "#000000"
          },
          "showarrow": false,
          "text": "1.0",
          "x": "City_London",
          "xref": "x",
          "y": "City_London",
          "yref": "y"
         },
         {
          "font": {
           "color": "#FFFFFF"
          },
          "showarrow": false,
          "text": "-0.03",
          "x": "City_Luxembourg",
          "xref": "x",
          "y": "City_London",
          "yref": "y"
         },
         {
          "font": {
           "color": "#FFFFFF"
          },
          "showarrow": false,
          "text": "-0.06",
          "x": "City_Lyon",
          "xref": "x",
          "y": "City_London",
          "yref": "y"
         },
         {
          "font": {
           "color": "#FFFFFF"
          },
          "showarrow": false,
          "text": "-0.12",
          "x": "City_Madrid",
          "xref": "x",
          "y": "City_London",
          "yref": "y"
         },
         {
          "font": {
           "color": "#FFFFFF"
          },
          "showarrow": false,
          "text": "-0.1",
          "x": "City_Milan",
          "xref": "x",
          "y": "City_London",
          "yref": "y"
         },
         {
          "font": {
           "color": "#FFFFFF"
          },
          "showarrow": false,
          "text": "-0.06",
          "x": "City_Munich",
          "xref": "x",
          "y": "City_London",
          "yref": "y"
         },
         {
          "font": {
           "color": "#FFFFFF"
          },
          "showarrow": false,
          "text": "-0.05",
          "x": "City_Oporto",
          "xref": "x",
          "y": "City_London",
          "yref": "y"
         },
         {
          "font": {
           "color": "#FFFFFF"
          },
          "showarrow": false,
          "text": "-0.04",
          "x": "City_Oslo",
          "xref": "x",
          "y": "City_London",
          "yref": "y"
         },
         {
          "font": {
           "color": "#FFFFFF"
          },
          "showarrow": false,
          "text": "-0.15",
          "x": "City_Paris",
          "xref": "x",
          "y": "City_London",
          "yref": "y"
         },
         {
          "font": {
           "color": "#FFFFFF"
          },
          "showarrow": false,
          "text": "-0.08",
          "x": "City_Prague",
          "xref": "x",
          "y": "City_London",
          "yref": "y"
         },
         {
          "font": {
           "color": "#FFFFFF"
          },
          "showarrow": false,
          "text": "-0.1",
          "x": "City_Rome",
          "xref": "x",
          "y": "City_London",
          "yref": "y"
         },
         {
          "font": {
           "color": "#FFFFFF"
          },
          "showarrow": false,
          "text": "-0.06",
          "x": "City_Stockholm",
          "xref": "x",
          "y": "City_London",
          "yref": "y"
         },
         {
          "font": {
           "color": "#FFFFFF"
          },
          "showarrow": false,
          "text": "-0.07",
          "x": "City_Vienna",
          "xref": "x",
          "y": "City_London",
          "yref": "y"
         },
         {
          "font": {
           "color": "#FFFFFF"
          },
          "showarrow": false,
          "text": "-0.06",
          "x": "City_Warsaw",
          "xref": "x",
          "y": "City_London",
          "yref": "y"
         },
         {
          "font": {
           "color": "#FFFFFF"
          },
          "showarrow": false,
          "text": "-0.05",
          "x": "City_Zurich",
          "xref": "x",
          "y": "City_London",
          "yref": "y"
         },
         {
          "font": {
           "color": "#FFFFFF"
          },
          "showarrow": false,
          "text": "-0.01",
          "x": "Rating",
          "xref": "x",
          "y": "City_Luxembourg",
          "yref": "y"
         },
         {
          "font": {
           "color": "#FFFFFF"
          },
          "showarrow": false,
          "text": "-0.01",
          "x": "City_Amsterdam",
          "xref": "x",
          "y": "City_Luxembourg",
          "yref": "y"
         },
         {
          "font": {
           "color": "#FFFFFF"
          },
          "showarrow": false,
          "text": "-0.01",
          "x": "City_Athens",
          "xref": "x",
          "y": "City_Luxembourg",
          "yref": "y"
         },
         {
          "font": {
           "color": "#FFFFFF"
          },
          "showarrow": false,
          "text": "-0.02",
          "x": "City_Barcelona",
          "xref": "x",
          "y": "City_Luxembourg",
          "yref": "y"
         },
         {
          "font": {
           "color": "#FFFFFF"
          },
          "showarrow": false,
          "text": "-0.02",
          "x": "City_Berlin",
          "xref": "x",
          "y": "City_Luxembourg",
          "yref": "y"
         },
         {
          "font": {
           "color": "#FFFFFF"
          },
          "showarrow": false,
          "text": "-0.01",
          "x": "City_Bratislava",
          "xref": "x",
          "y": "City_Luxembourg",
          "yref": "y"
         },
         {
          "font": {
           "color": "#FFFFFF"
          },
          "showarrow": false,
          "text": "-0.01",
          "x": "City_Brussels",
          "xref": "x",
          "y": "City_Luxembourg",
          "yref": "y"
         },
         {
          "font": {
           "color": "#FFFFFF"
          },
          "showarrow": false,
          "text": "-0.01",
          "x": "City_Budapest",
          "xref": "x",
          "y": "City_Luxembourg",
          "yref": "y"
         },
         {
          "font": {
           "color": "#FFFFFF"
          },
          "showarrow": false,
          "text": "-0.01",
          "x": "City_Copenhagen",
          "xref": "x",
          "y": "City_Luxembourg",
          "yref": "y"
         },
         {
          "font": {
           "color": "#FFFFFF"
          },
          "showarrow": false,
          "text": "-0.01",
          "x": "City_Dublin",
          "xref": "x",
          "y": "City_Luxembourg",
          "yref": "y"
         },
         {
          "font": {
           "color": "#FFFFFF"
          },
          "showarrow": false,
          "text": "-0.01",
          "x": "City_Edinburgh",
          "xref": "x",
          "y": "City_Luxembourg",
          "yref": "y"
         },
         {
          "font": {
           "color": "#FFFFFF"
          },
          "showarrow": false,
          "text": "-0.01",
          "x": "City_Geneva",
          "xref": "x",
          "y": "City_Luxembourg",
          "yref": "y"
         },
         {
          "font": {
           "color": "#FFFFFF"
          },
          "showarrow": false,
          "text": "-0.01",
          "x": "City_Hamburg",
          "xref": "x",
          "y": "City_Luxembourg",
          "yref": "y"
         },
         {
          "font": {
           "color": "#FFFFFF"
          },
          "showarrow": false,
          "text": "-0.01",
          "x": "City_Helsinki",
          "xref": "x",
          "y": "City_Luxembourg",
          "yref": "y"
         },
         {
          "font": {
           "color": "#FFFFFF"
          },
          "showarrow": false,
          "text": "-0.01",
          "x": "City_Krakow",
          "xref": "x",
          "y": "City_Luxembourg",
          "yref": "y"
         },
         {
          "font": {
           "color": "#FFFFFF"
          },
          "showarrow": false,
          "text": "-0.01",
          "x": "City_Lisbon",
          "xref": "x",
          "y": "City_Luxembourg",
          "yref": "y"
         },
         {
          "font": {
           "color": "#FFFFFF"
          },
          "showarrow": false,
          "text": "-0.0",
          "x": "City_Ljubljana",
          "xref": "x",
          "y": "City_Luxembourg",
          "yref": "y"
         },
         {
          "font": {
           "color": "#FFFFFF"
          },
          "showarrow": false,
          "text": "-0.03",
          "x": "City_London",
          "xref": "x",
          "y": "City_Luxembourg",
          "yref": "y"
         },
         {
          "font": {
           "color": "#000000"
          },
          "showarrow": false,
          "text": "1.0",
          "x": "City_Luxembourg",
          "xref": "x",
          "y": "City_Luxembourg",
          "yref": "y"
         },
         {
          "font": {
           "color": "#FFFFFF"
          },
          "showarrow": false,
          "text": "-0.01",
          "x": "City_Lyon",
          "xref": "x",
          "y": "City_Luxembourg",
          "yref": "y"
         },
         {
          "font": {
           "color": "#FFFFFF"
          },
          "showarrow": false,
          "text": "-0.02",
          "x": "City_Madrid",
          "xref": "x",
          "y": "City_Luxembourg",
          "yref": "y"
         },
         {
          "font": {
           "color": "#FFFFFF"
          },
          "showarrow": false,
          "text": "-0.02",
          "x": "City_Milan",
          "xref": "x",
          "y": "City_Luxembourg",
          "yref": "y"
         },
         {
          "font": {
           "color": "#FFFFFF"
          },
          "showarrow": false,
          "text": "-0.01",
          "x": "City_Munich",
          "xref": "x",
          "y": "City_Luxembourg",
          "yref": "y"
         },
         {
          "font": {
           "color": "#FFFFFF"
          },
          "showarrow": false,
          "text": "-0.01",
          "x": "City_Oporto",
          "xref": "x",
          "y": "City_Luxembourg",
          "yref": "y"
         },
         {
          "font": {
           "color": "#FFFFFF"
          },
          "showarrow": false,
          "text": "-0.01",
          "x": "City_Oslo",
          "xref": "x",
          "y": "City_Luxembourg",
          "yref": "y"
         },
         {
          "font": {
           "color": "#FFFFFF"
          },
          "showarrow": false,
          "text": "-0.03",
          "x": "City_Paris",
          "xref": "x",
          "y": "City_Luxembourg",
          "yref": "y"
         },
         {
          "font": {
           "color": "#FFFFFF"
          },
          "showarrow": false,
          "text": "-0.01",
          "x": "City_Prague",
          "xref": "x",
          "y": "City_Luxembourg",
          "yref": "y"
         },
         {
          "font": {
           "color": "#FFFFFF"
          },
          "showarrow": false,
          "text": "-0.02",
          "x": "City_Rome",
          "xref": "x",
          "y": "City_Luxembourg",
          "yref": "y"
         },
         {
          "font": {
           "color": "#FFFFFF"
          },
          "showarrow": false,
          "text": "-0.01",
          "x": "City_Stockholm",
          "xref": "x",
          "y": "City_Luxembourg",
          "yref": "y"
         },
         {
          "font": {
           "color": "#FFFFFF"
          },
          "showarrow": false,
          "text": "-0.01",
          "x": "City_Vienna",
          "xref": "x",
          "y": "City_Luxembourg",
          "yref": "y"
         },
         {
          "font": {
           "color": "#FFFFFF"
          },
          "showarrow": false,
          "text": "-0.01",
          "x": "City_Warsaw",
          "xref": "x",
          "y": "City_Luxembourg",
          "yref": "y"
         },
         {
          "font": {
           "color": "#FFFFFF"
          },
          "showarrow": false,
          "text": "-0.01",
          "x": "City_Zurich",
          "xref": "x",
          "y": "City_Luxembourg",
          "yref": "y"
         },
         {
          "font": {
           "color": "#FFFFFF"
          },
          "showarrow": false,
          "text": "-0.01",
          "x": "Rating",
          "xref": "x",
          "y": "City_Lyon",
          "yref": "y"
         },
         {
          "font": {
           "color": "#FFFFFF"
          },
          "showarrow": false,
          "text": "-0.03",
          "x": "City_Amsterdam",
          "xref": "x",
          "y": "City_Lyon",
          "yref": "y"
         },
         {
          "font": {
           "color": "#FFFFFF"
          },
          "showarrow": false,
          "text": "-0.02",
          "x": "City_Athens",
          "xref": "x",
          "y": "City_Lyon",
          "yref": "y"
         },
         {
          "font": {
           "color": "#FFFFFF"
          },
          "showarrow": false,
          "text": "-0.04",
          "x": "City_Barcelona",
          "xref": "x",
          "y": "City_Lyon",
          "yref": "y"
         },
         {
          "font": {
           "color": "#FFFFFF"
          },
          "showarrow": false,
          "text": "-0.04",
          "x": "City_Berlin",
          "xref": "x",
          "y": "City_Lyon",
          "yref": "y"
         },
         {
          "font": {
           "color": "#FFFFFF"
          },
          "showarrow": false,
          "text": "-0.01",
          "x": "City_Bratislava",
          "xref": "x",
          "y": "City_Lyon",
          "yref": "y"
         },
         {
          "font": {
           "color": "#FFFFFF"
          },
          "showarrow": false,
          "text": "-0.02",
          "x": "City_Brussels",
          "xref": "x",
          "y": "City_Lyon",
          "yref": "y"
         },
         {
          "font": {
           "color": "#FFFFFF"
          },
          "showarrow": false,
          "text": "-0.02",
          "x": "City_Budapest",
          "xref": "x",
          "y": "City_Lyon",
          "yref": "y"
         },
         {
          "font": {
           "color": "#FFFFFF"
          },
          "showarrow": false,
          "text": "-0.02",
          "x": "City_Copenhagen",
          "xref": "x",
          "y": "City_Lyon",
          "yref": "y"
         },
         {
          "font": {
           "color": "#FFFFFF"
          },
          "showarrow": false,
          "text": "-0.02",
          "x": "City_Dublin",
          "xref": "x",
          "y": "City_Lyon",
          "yref": "y"
         },
         {
          "font": {
           "color": "#FFFFFF"
          },
          "showarrow": false,
          "text": "-0.02",
          "x": "City_Edinburgh",
          "xref": "x",
          "y": "City_Lyon",
          "yref": "y"
         },
         {
          "font": {
           "color": "#FFFFFF"
          },
          "showarrow": false,
          "text": "-0.02",
          "x": "City_Geneva",
          "xref": "x",
          "y": "City_Lyon",
          "yref": "y"
         },
         {
          "font": {
           "color": "#FFFFFF"
          },
          "showarrow": false,
          "text": "-0.02",
          "x": "City_Hamburg",
          "xref": "x",
          "y": "City_Lyon",
          "yref": "y"
         },
         {
          "font": {
           "color": "#FFFFFF"
          },
          "showarrow": false,
          "text": "-0.01",
          "x": "City_Helsinki",
          "xref": "x",
          "y": "City_Lyon",
          "yref": "y"
         },
         {
          "font": {
           "color": "#FFFFFF"
          },
          "showarrow": false,
          "text": "-0.02",
          "x": "City_Krakow",
          "xref": "x",
          "y": "City_Lyon",
          "yref": "y"
         },
         {
          "font": {
           "color": "#FFFFFF"
          },
          "showarrow": false,
          "text": "-0.03",
          "x": "City_Lisbon",
          "xref": "x",
          "y": "City_Lyon",
          "yref": "y"
         },
         {
          "font": {
           "color": "#FFFFFF"
          },
          "showarrow": false,
          "text": "-0.01",
          "x": "City_Ljubljana",
          "xref": "x",
          "y": "City_Lyon",
          "yref": "y"
         },
         {
          "font": {
           "color": "#FFFFFF"
          },
          "showarrow": false,
          "text": "-0.06",
          "x": "City_London",
          "xref": "x",
          "y": "City_Lyon",
          "yref": "y"
         },
         {
          "font": {
           "color": "#FFFFFF"
          },
          "showarrow": false,
          "text": "-0.01",
          "x": "City_Luxembourg",
          "xref": "x",
          "y": "City_Lyon",
          "yref": "y"
         },
         {
          "font": {
           "color": "#000000"
          },
          "showarrow": false,
          "text": "1.0",
          "x": "City_Lyon",
          "xref": "x",
          "y": "City_Lyon",
          "yref": "y"
         },
         {
          "font": {
           "color": "#FFFFFF"
          },
          "showarrow": false,
          "text": "-0.04",
          "x": "City_Madrid",
          "xref": "x",
          "y": "City_Lyon",
          "yref": "y"
         },
         {
          "font": {
           "color": "#FFFFFF"
          },
          "showarrow": false,
          "text": "-0.04",
          "x": "City_Milan",
          "xref": "x",
          "y": "City_Lyon",
          "yref": "y"
         },
         {
          "font": {
           "color": "#FFFFFF"
          },
          "showarrow": false,
          "text": "-0.02",
          "x": "City_Munich",
          "xref": "x",
          "y": "City_Lyon",
          "yref": "y"
         },
         {
          "font": {
           "color": "#FFFFFF"
          },
          "showarrow": false,
          "text": "-0.02",
          "x": "City_Oporto",
          "xref": "x",
          "y": "City_Lyon",
          "yref": "y"
         },
         {
          "font": {
           "color": "#FFFFFF"
          },
          "showarrow": false,
          "text": "-0.01",
          "x": "City_Oslo",
          "xref": "x",
          "y": "City_Lyon",
          "yref": "y"
         },
         {
          "font": {
           "color": "#FFFFFF"
          },
          "showarrow": false,
          "text": "-0.06",
          "x": "City_Paris",
          "xref": "x",
          "y": "City_Lyon",
          "yref": "y"
         },
         {
          "font": {
           "color": "#FFFFFF"
          },
          "showarrow": false,
          "text": "-0.03",
          "x": "City_Prague",
          "xref": "x",
          "y": "City_Lyon",
          "yref": "y"
         },
         {
          "font": {
           "color": "#FFFFFF"
          },
          "showarrow": false,
          "text": "-0.04",
          "x": "City_Rome",
          "xref": "x",
          "y": "City_Lyon",
          "yref": "y"
         },
         {
          "font": {
           "color": "#FFFFFF"
          },
          "showarrow": false,
          "text": "-0.02",
          "x": "City_Stockholm",
          "xref": "x",
          "y": "City_Lyon",
          "yref": "y"
         },
         {
          "font": {
           "color": "#FFFFFF"
          },
          "showarrow": false,
          "text": "-0.03",
          "x": "City_Vienna",
          "xref": "x",
          "y": "City_Lyon",
          "yref": "y"
         },
         {
          "font": {
           "color": "#FFFFFF"
          },
          "showarrow": false,
          "text": "-0.02",
          "x": "City_Warsaw",
          "xref": "x",
          "y": "City_Lyon",
          "yref": "y"
         },
         {
          "font": {
           "color": "#FFFFFF"
          },
          "showarrow": false,
          "text": "-0.02",
          "x": "City_Zurich",
          "xref": "x",
          "y": "City_Lyon",
          "yref": "y"
         },
         {
          "font": {
           "color": "#FFFFFF"
          },
          "showarrow": false,
          "text": "-0.08",
          "x": "Rating",
          "xref": "x",
          "y": "City_Madrid",
          "yref": "y"
         },
         {
          "font": {
           "color": "#FFFFFF"
          },
          "showarrow": false,
          "text": "-0.05",
          "x": "City_Amsterdam",
          "xref": "x",
          "y": "City_Madrid",
          "yref": "y"
         },
         {
          "font": {
           "color": "#FFFFFF"
          },
          "showarrow": false,
          "text": "-0.04",
          "x": "City_Athens",
          "xref": "x",
          "y": "City_Madrid",
          "yref": "y"
         },
         {
          "font": {
           "color": "#FFFFFF"
          },
          "showarrow": false,
          "text": "-0.08",
          "x": "City_Barcelona",
          "xref": "x",
          "y": "City_Madrid",
          "yref": "y"
         },
         {
          "font": {
           "color": "#FFFFFF"
          },
          "showarrow": false,
          "text": "-0.07",
          "x": "City_Berlin",
          "xref": "x",
          "y": "City_Madrid",
          "yref": "y"
         },
         {
          "font": {
           "color": "#FFFFFF"
          },
          "showarrow": false,
          "text": "-0.03",
          "x": "City_Bratislava",
          "xref": "x",
          "y": "City_Madrid",
          "yref": "y"
         },
         {
          "font": {
           "color": "#FFFFFF"
          },
          "showarrow": false,
          "text": "-0.05",
          "x": "City_Brussels",
          "xref": "x",
          "y": "City_Madrid",
          "yref": "y"
         },
         {
          "font": {
           "color": "#FFFFFF"
          },
          "showarrow": false,
          "text": "-0.04",
          "x": "City_Budapest",
          "xref": "x",
          "y": "City_Madrid",
          "yref": "y"
         },
         {
          "font": {
           "color": "#FFFFFF"
          },
          "showarrow": false,
          "text": "-0.04",
          "x": "City_Copenhagen",
          "xref": "x",
          "y": "City_Madrid",
          "yref": "y"
         },
         {
          "font": {
           "color": "#FFFFFF"
          },
          "showarrow": false,
          "text": "-0.04",
          "x": "City_Dublin",
          "xref": "x",
          "y": "City_Madrid",
          "yref": "y"
         },
         {
          "font": {
           "color": "#FFFFFF"
          },
          "showarrow": false,
          "text": "-0.04",
          "x": "City_Edinburgh",
          "xref": "x",
          "y": "City_Madrid",
          "yref": "y"
         },
         {
          "font": {
           "color": "#FFFFFF"
          },
          "showarrow": false,
          "text": "-0.03",
          "x": "City_Geneva",
          "xref": "x",
          "y": "City_Madrid",
          "yref": "y"
         },
         {
          "font": {
           "color": "#FFFFFF"
          },
          "showarrow": false,
          "text": "-0.05",
          "x": "City_Hamburg",
          "xref": "x",
          "y": "City_Madrid",
          "yref": "y"
         },
         {
          "font": {
           "color": "#FFFFFF"
          },
          "showarrow": false,
          "text": "-0.03",
          "x": "City_Helsinki",
          "xref": "x",
          "y": "City_Madrid",
          "yref": "y"
         },
         {
          "font": {
           "color": "#FFFFFF"
          },
          "showarrow": false,
          "text": "-0.03",
          "x": "City_Krakow",
          "xref": "x",
          "y": "City_Madrid",
          "yref": "y"
         },
         {
          "font": {
           "color": "#FFFFFF"
          },
          "showarrow": false,
          "text": "-0.05",
          "x": "City_Lisbon",
          "xref": "x",
          "y": "City_Madrid",
          "yref": "y"
         },
         {
          "font": {
           "color": "#FFFFFF"
          },
          "showarrow": false,
          "text": "-0.02",
          "x": "City_Ljubljana",
          "xref": "x",
          "y": "City_Madrid",
          "yref": "y"
         },
         {
          "font": {
           "color": "#FFFFFF"
          },
          "showarrow": false,
          "text": "-0.12",
          "x": "City_London",
          "xref": "x",
          "y": "City_Madrid",
          "yref": "y"
         },
         {
          "font": {
           "color": "#FFFFFF"
          },
          "showarrow": false,
          "text": "-0.02",
          "x": "City_Luxembourg",
          "xref": "x",
          "y": "City_Madrid",
          "yref": "y"
         },
         {
          "font": {
           "color": "#FFFFFF"
          },
          "showarrow": false,
          "text": "-0.04",
          "x": "City_Lyon",
          "xref": "x",
          "y": "City_Madrid",
          "yref": "y"
         },
         {
          "font": {
           "color": "#000000"
          },
          "showarrow": false,
          "text": "1.0",
          "x": "City_Madrid",
          "xref": "x",
          "y": "City_Madrid",
          "yref": "y"
         },
         {
          "font": {
           "color": "#FFFFFF"
          },
          "showarrow": false,
          "text": "-0.07",
          "x": "City_Milan",
          "xref": "x",
          "y": "City_Madrid",
          "yref": "y"
         },
         {
          "font": {
           "color": "#FFFFFF"
          },
          "showarrow": false,
          "text": "-0.04",
          "x": "City_Munich",
          "xref": "x",
          "y": "City_Madrid",
          "yref": "y"
         },
         {
          "font": {
           "color": "#FFFFFF"
          },
          "showarrow": false,
          "text": "-0.03",
          "x": "City_Oporto",
          "xref": "x",
          "y": "City_Madrid",
          "yref": "y"
         },
         {
          "font": {
           "color": "#FFFFFF"
          },
          "showarrow": false,
          "text": "-0.03",
          "x": "City_Oslo",
          "xref": "x",
          "y": "City_Madrid",
          "yref": "y"
         },
         {
          "font": {
           "color": "#FFFFFF"
          },
          "showarrow": false,
          "text": "-0.11",
          "x": "City_Paris",
          "xref": "x",
          "y": "City_Madrid",
          "yref": "y"
         },
         {
          "font": {
           "color": "#FFFFFF"
          },
          "showarrow": false,
          "text": "-0.06",
          "x": "City_Prague",
          "xref": "x",
          "y": "City_Madrid",
          "yref": "y"
         },
         {
          "font": {
           "color": "#FFFFFF"
          },
          "showarrow": false,
          "text": "-0.07",
          "x": "City_Rome",
          "xref": "x",
          "y": "City_Madrid",
          "yref": "y"
         },
         {
          "font": {
           "color": "#FFFFFF"
          },
          "showarrow": false,
          "text": "-0.04",
          "x": "City_Stockholm",
          "xref": "x",
          "y": "City_Madrid",
          "yref": "y"
         },
         {
          "font": {
           "color": "#FFFFFF"
          },
          "showarrow": false,
          "text": "-0.05",
          "x": "City_Vienna",
          "xref": "x",
          "y": "City_Madrid",
          "yref": "y"
         },
         {
          "font": {
           "color": "#FFFFFF"
          },
          "showarrow": false,
          "text": "-0.04",
          "x": "City_Warsaw",
          "xref": "x",
          "y": "City_Madrid",
          "yref": "y"
         },
         {
          "font": {
           "color": "#FFFFFF"
          },
          "showarrow": false,
          "text": "-0.03",
          "x": "City_Zurich",
          "xref": "x",
          "y": "City_Madrid",
          "yref": "y"
         },
         {
          "font": {
           "color": "#FFFFFF"
          },
          "showarrow": false,
          "text": "-0.06",
          "x": "Rating",
          "xref": "x",
          "y": "City_Milan",
          "yref": "y"
         },
         {
          "font": {
           "color": "#FFFFFF"
          },
          "showarrow": false,
          "text": "-0.04",
          "x": "City_Amsterdam",
          "xref": "x",
          "y": "City_Milan",
          "yref": "y"
         },
         {
          "font": {
           "color": "#FFFFFF"
          },
          "showarrow": false,
          "text": "-0.03",
          "x": "City_Athens",
          "xref": "x",
          "y": "City_Milan",
          "yref": "y"
         },
         {
          "font": {
           "color": "#FFFFFF"
          },
          "showarrow": false,
          "text": "-0.06",
          "x": "City_Barcelona",
          "xref": "x",
          "y": "City_Milan",
          "yref": "y"
         },
         {
          "font": {
           "color": "#FFFFFF"
          },
          "showarrow": false,
          "text": "-0.06",
          "x": "City_Berlin",
          "xref": "x",
          "y": "City_Milan",
          "yref": "y"
         },
         {
          "font": {
           "color": "#FFFFFF"
          },
          "showarrow": false,
          "text": "-0.02",
          "x": "City_Bratislava",
          "xref": "x",
          "y": "City_Milan",
          "yref": "y"
         },
         {
          "font": {
           "color": "#FFFFFF"
          },
          "showarrow": false,
          "text": "-0.04",
          "x": "City_Brussels",
          "xref": "x",
          "y": "City_Milan",
          "yref": "y"
         },
         {
          "font": {
           "color": "#FFFFFF"
          },
          "showarrow": false,
          "text": "-0.03",
          "x": "City_Budapest",
          "xref": "x",
          "y": "City_Milan",
          "yref": "y"
         },
         {
          "font": {
           "color": "#FFFFFF"
          },
          "showarrow": false,
          "text": "-0.03",
          "x": "City_Copenhagen",
          "xref": "x",
          "y": "City_Milan",
          "yref": "y"
         },
         {
          "font": {
           "color": "#FFFFFF"
          },
          "showarrow": false,
          "text": "-0.03",
          "x": "City_Dublin",
          "xref": "x",
          "y": "City_Milan",
          "yref": "y"
         },
         {
          "font": {
           "color": "#FFFFFF"
          },
          "showarrow": false,
          "text": "-0.03",
          "x": "City_Edinburgh",
          "xref": "x",
          "y": "City_Milan",
          "yref": "y"
         },
         {
          "font": {
           "color": "#FFFFFF"
          },
          "showarrow": false,
          "text": "-0.03",
          "x": "City_Geneva",
          "xref": "x",
          "y": "City_Milan",
          "yref": "y"
         },
         {
          "font": {
           "color": "#FFFFFF"
          },
          "showarrow": false,
          "text": "-0.04",
          "x": "City_Hamburg",
          "xref": "x",
          "y": "City_Milan",
          "yref": "y"
         },
         {
          "font": {
           "color": "#FFFFFF"
          },
          "showarrow": false,
          "text": "-0.02",
          "x": "City_Helsinki",
          "xref": "x",
          "y": "City_Milan",
          "yref": "y"
         },
         {
          "font": {
           "color": "#FFFFFF"
          },
          "showarrow": false,
          "text": "-0.03",
          "x": "City_Krakow",
          "xref": "x",
          "y": "City_Milan",
          "yref": "y"
         },
         {
          "font": {
           "color": "#FFFFFF"
          },
          "showarrow": false,
          "text": "-0.04",
          "x": "City_Lisbon",
          "xref": "x",
          "y": "City_Milan",
          "yref": "y"
         },
         {
          "font": {
           "color": "#FFFFFF"
          },
          "showarrow": false,
          "text": "-0.02",
          "x": "City_Ljubljana",
          "xref": "x",
          "y": "City_Milan",
          "yref": "y"
         },
         {
          "font": {
           "color": "#FFFFFF"
          },
          "showarrow": false,
          "text": "-0.1",
          "x": "City_London",
          "xref": "x",
          "y": "City_Milan",
          "yref": "y"
         },
         {
          "font": {
           "color": "#FFFFFF"
          },
          "showarrow": false,
          "text": "-0.02",
          "x": "City_Luxembourg",
          "xref": "x",
          "y": "City_Milan",
          "yref": "y"
         },
         {
          "font": {
           "color": "#FFFFFF"
          },
          "showarrow": false,
          "text": "-0.04",
          "x": "City_Lyon",
          "xref": "x",
          "y": "City_Milan",
          "yref": "y"
         },
         {
          "font": {
           "color": "#FFFFFF"
          },
          "showarrow": false,
          "text": "-0.07",
          "x": "City_Madrid",
          "xref": "x",
          "y": "City_Milan",
          "yref": "y"
         },
         {
          "font": {
           "color": "#000000"
          },
          "showarrow": false,
          "text": "1.0",
          "x": "City_Milan",
          "xref": "x",
          "y": "City_Milan",
          "yref": "y"
         },
         {
          "font": {
           "color": "#FFFFFF"
          },
          "showarrow": false,
          "text": "-0.04",
          "x": "City_Munich",
          "xref": "x",
          "y": "City_Milan",
          "yref": "y"
         },
         {
          "font": {
           "color": "#FFFFFF"
          },
          "showarrow": false,
          "text": "-0.03",
          "x": "City_Oporto",
          "xref": "x",
          "y": "City_Milan",
          "yref": "y"
         },
         {
          "font": {
           "color": "#FFFFFF"
          },
          "showarrow": false,
          "text": "-0.02",
          "x": "City_Oslo",
          "xref": "x",
          "y": "City_Milan",
          "yref": "y"
         },
         {
          "font": {
           "color": "#FFFFFF"
          },
          "showarrow": false,
          "text": "-0.09",
          "x": "City_Paris",
          "xref": "x",
          "y": "City_Milan",
          "yref": "y"
         },
         {
          "font": {
           "color": "#FFFFFF"
          },
          "showarrow": false,
          "text": "-0.05",
          "x": "City_Prague",
          "xref": "x",
          "y": "City_Milan",
          "yref": "y"
         },
         {
          "font": {
           "color": "#FFFFFF"
          },
          "showarrow": false,
          "text": "-0.06",
          "x": "City_Rome",
          "xref": "x",
          "y": "City_Milan",
          "yref": "y"
         },
         {
          "font": {
           "color": "#FFFFFF"
          },
          "showarrow": false,
          "text": "-0.03",
          "x": "City_Stockholm",
          "xref": "x",
          "y": "City_Milan",
          "yref": "y"
         },
         {
          "font": {
           "color": "#FFFFFF"
          },
          "showarrow": false,
          "text": "-0.04",
          "x": "City_Vienna",
          "xref": "x",
          "y": "City_Milan",
          "yref": "y"
         },
         {
          "font": {
           "color": "#FFFFFF"
          },
          "showarrow": false,
          "text": "-0.03",
          "x": "City_Warsaw",
          "xref": "x",
          "y": "City_Milan",
          "yref": "y"
         },
         {
          "font": {
           "color": "#FFFFFF"
          },
          "showarrow": false,
          "text": "-0.03",
          "x": "City_Zurich",
          "xref": "x",
          "y": "City_Milan",
          "yref": "y"
         },
         {
          "font": {
           "color": "#FFFFFF"
          },
          "showarrow": false,
          "text": "0.01",
          "x": "Rating",
          "xref": "x",
          "y": "City_Munich",
          "yref": "y"
         },
         {
          "font": {
           "color": "#FFFFFF"
          },
          "showarrow": false,
          "text": "-0.03",
          "x": "City_Amsterdam",
          "xref": "x",
          "y": "City_Munich",
          "yref": "y"
         },
         {
          "font": {
           "color": "#FFFFFF"
          },
          "showarrow": false,
          "text": "-0.02",
          "x": "City_Athens",
          "xref": "x",
          "y": "City_Munich",
          "yref": "y"
         },
         {
          "font": {
           "color": "#FFFFFF"
          },
          "showarrow": false,
          "text": "-0.04",
          "x": "City_Barcelona",
          "xref": "x",
          "y": "City_Munich",
          "yref": "y"
         },
         {
          "font": {
           "color": "#FFFFFF"
          },
          "showarrow": false,
          "text": "-0.04",
          "x": "City_Berlin",
          "xref": "x",
          "y": "City_Munich",
          "yref": "y"
         },
         {
          "font": {
           "color": "#FFFFFF"
          },
          "showarrow": false,
          "text": "-0.01",
          "x": "City_Bratislava",
          "xref": "x",
          "y": "City_Munich",
          "yref": "y"
         },
         {
          "font": {
           "color": "#FFFFFF"
          },
          "showarrow": false,
          "text": "-0.02",
          "x": "City_Brussels",
          "xref": "x",
          "y": "City_Munich",
          "yref": "y"
         },
         {
          "font": {
           "color": "#FFFFFF"
          },
          "showarrow": false,
          "text": "-0.02",
          "x": "City_Budapest",
          "xref": "x",
          "y": "City_Munich",
          "yref": "y"
         },
         {
          "font": {
           "color": "#FFFFFF"
          },
          "showarrow": false,
          "text": "-0.02",
          "x": "City_Copenhagen",
          "xref": "x",
          "y": "City_Munich",
          "yref": "y"
         },
         {
          "font": {
           "color": "#FFFFFF"
          },
          "showarrow": false,
          "text": "-0.02",
          "x": "City_Dublin",
          "xref": "x",
          "y": "City_Munich",
          "yref": "y"
         },
         {
          "font": {
           "color": "#FFFFFF"
          },
          "showarrow": false,
          "text": "-0.02",
          "x": "City_Edinburgh",
          "xref": "x",
          "y": "City_Munich",
          "yref": "y"
         },
         {
          "font": {
           "color": "#FFFFFF"
          },
          "showarrow": false,
          "text": "-0.02",
          "x": "City_Geneva",
          "xref": "x",
          "y": "City_Munich",
          "yref": "y"
         },
         {
          "font": {
           "color": "#FFFFFF"
          },
          "showarrow": false,
          "text": "-0.02",
          "x": "City_Hamburg",
          "xref": "x",
          "y": "City_Munich",
          "yref": "y"
         },
         {
          "font": {
           "color": "#FFFFFF"
          },
          "showarrow": false,
          "text": "-0.01",
          "x": "City_Helsinki",
          "xref": "x",
          "y": "City_Munich",
          "yref": "y"
         },
         {
          "font": {
           "color": "#FFFFFF"
          },
          "showarrow": false,
          "text": "-0.02",
          "x": "City_Krakow",
          "xref": "x",
          "y": "City_Munich",
          "yref": "y"
         },
         {
          "font": {
           "color": "#FFFFFF"
          },
          "showarrow": false,
          "text": "-0.03",
          "x": "City_Lisbon",
          "xref": "x",
          "y": "City_Munich",
          "yref": "y"
         },
         {
          "font": {
           "color": "#FFFFFF"
          },
          "showarrow": false,
          "text": "-0.01",
          "x": "City_Ljubljana",
          "xref": "x",
          "y": "City_Munich",
          "yref": "y"
         },
         {
          "font": {
           "color": "#FFFFFF"
          },
          "showarrow": false,
          "text": "-0.06",
          "x": "City_London",
          "xref": "x",
          "y": "City_Munich",
          "yref": "y"
         },
         {
          "font": {
           "color": "#FFFFFF"
          },
          "showarrow": false,
          "text": "-0.01",
          "x": "City_Luxembourg",
          "xref": "x",
          "y": "City_Munich",
          "yref": "y"
         },
         {
          "font": {
           "color": "#FFFFFF"
          },
          "showarrow": false,
          "text": "-0.02",
          "x": "City_Lyon",
          "xref": "x",
          "y": "City_Munich",
          "yref": "y"
         },
         {
          "font": {
           "color": "#FFFFFF"
          },
          "showarrow": false,
          "text": "-0.04",
          "x": "City_Madrid",
          "xref": "x",
          "y": "City_Munich",
          "yref": "y"
         },
         {
          "font": {
           "color": "#FFFFFF"
          },
          "showarrow": false,
          "text": "-0.04",
          "x": "City_Milan",
          "xref": "x",
          "y": "City_Munich",
          "yref": "y"
         },
         {
          "font": {
           "color": "#000000"
          },
          "showarrow": false,
          "text": "1.0",
          "x": "City_Munich",
          "xref": "x",
          "y": "City_Munich",
          "yref": "y"
         },
         {
          "font": {
           "color": "#FFFFFF"
          },
          "showarrow": false,
          "text": "-0.02",
          "x": "City_Oporto",
          "xref": "x",
          "y": "City_Munich",
          "yref": "y"
         },
         {
          "font": {
           "color": "#FFFFFF"
          },
          "showarrow": false,
          "text": "-0.01",
          "x": "City_Oslo",
          "xref": "x",
          "y": "City_Munich",
          "yref": "y"
         },
         {
          "font": {
           "color": "#FFFFFF"
          },
          "showarrow": false,
          "text": "-0.06",
          "x": "City_Paris",
          "xref": "x",
          "y": "City_Munich",
          "yref": "y"
         },
         {
          "font": {
           "color": "#FFFFFF"
          },
          "showarrow": false,
          "text": "-0.03",
          "x": "City_Prague",
          "xref": "x",
          "y": "City_Munich",
          "yref": "y"
         },
         {
          "font": {
           "color": "#FFFFFF"
          },
          "showarrow": false,
          "text": "-0.04",
          "x": "City_Rome",
          "xref": "x",
          "y": "City_Munich",
          "yref": "y"
         },
         {
          "font": {
           "color": "#FFFFFF"
          },
          "showarrow": false,
          "text": "-0.02",
          "x": "City_Stockholm",
          "xref": "x",
          "y": "City_Munich",
          "yref": "y"
         },
         {
          "font": {
           "color": "#FFFFFF"
          },
          "showarrow": false,
          "text": "-0.03",
          "x": "City_Vienna",
          "xref": "x",
          "y": "City_Munich",
          "yref": "y"
         },
         {
          "font": {
           "color": "#FFFFFF"
          },
          "showarrow": false,
          "text": "-0.02",
          "x": "City_Warsaw",
          "xref": "x",
          "y": "City_Munich",
          "yref": "y"
         },
         {
          "font": {
           "color": "#FFFFFF"
          },
          "showarrow": false,
          "text": "-0.02",
          "x": "City_Zurich",
          "xref": "x",
          "y": "City_Munich",
          "yref": "y"
         },
         {
          "font": {
           "color": "#FFFFFF"
          },
          "showarrow": false,
          "text": "0.03",
          "x": "Rating",
          "xref": "x",
          "y": "City_Oporto",
          "yref": "y"
         },
         {
          "font": {
           "color": "#FFFFFF"
          },
          "showarrow": false,
          "text": "-0.02",
          "x": "City_Amsterdam",
          "xref": "x",
          "y": "City_Oporto",
          "yref": "y"
         },
         {
          "font": {
           "color": "#FFFFFF"
          },
          "showarrow": false,
          "text": "-0.01",
          "x": "City_Athens",
          "xref": "x",
          "y": "City_Oporto",
          "yref": "y"
         },
         {
          "font": {
           "color": "#FFFFFF"
          },
          "showarrow": false,
          "text": "-0.03",
          "x": "City_Barcelona",
          "xref": "x",
          "y": "City_Oporto",
          "yref": "y"
         },
         {
          "font": {
           "color": "#FFFFFF"
          },
          "showarrow": false,
          "text": "-0.03",
          "x": "City_Berlin",
          "xref": "x",
          "y": "City_Oporto",
          "yref": "y"
         },
         {
          "font": {
           "color": "#FFFFFF"
          },
          "showarrow": false,
          "text": "-0.01",
          "x": "City_Bratislava",
          "xref": "x",
          "y": "City_Oporto",
          "yref": "y"
         },
         {
          "font": {
           "color": "#FFFFFF"
          },
          "showarrow": false,
          "text": "-0.02",
          "x": "City_Brussels",
          "xref": "x",
          "y": "City_Oporto",
          "yref": "y"
         },
         {
          "font": {
           "color": "#FFFFFF"
          },
          "showarrow": false,
          "text": "-0.02",
          "x": "City_Budapest",
          "xref": "x",
          "y": "City_Oporto",
          "yref": "y"
         },
         {
          "font": {
           "color": "#FFFFFF"
          },
          "showarrow": false,
          "text": "-0.01",
          "x": "City_Copenhagen",
          "xref": "x",
          "y": "City_Oporto",
          "yref": "y"
         },
         {
          "font": {
           "color": "#FFFFFF"
          },
          "showarrow": false,
          "text": "-0.01",
          "x": "City_Dublin",
          "xref": "x",
          "y": "City_Oporto",
          "yref": "y"
         },
         {
          "font": {
           "color": "#FFFFFF"
          },
          "showarrow": false,
          "text": "-0.01",
          "x": "City_Edinburgh",
          "xref": "x",
          "y": "City_Oporto",
          "yref": "y"
         },
         {
          "font": {
           "color": "#FFFFFF"
          },
          "showarrow": false,
          "text": "-0.01",
          "x": "City_Geneva",
          "xref": "x",
          "y": "City_Oporto",
          "yref": "y"
         },
         {
          "font": {
           "color": "#FFFFFF"
          },
          "showarrow": false,
          "text": "-0.02",
          "x": "City_Hamburg",
          "xref": "x",
          "y": "City_Oporto",
          "yref": "y"
         },
         {
          "font": {
           "color": "#FFFFFF"
          },
          "showarrow": false,
          "text": "-0.01",
          "x": "City_Helsinki",
          "xref": "x",
          "y": "City_Oporto",
          "yref": "y"
         },
         {
          "font": {
           "color": "#FFFFFF"
          },
          "showarrow": false,
          "text": "-0.01",
          "x": "City_Krakow",
          "xref": "x",
          "y": "City_Oporto",
          "yref": "y"
         },
         {
          "font": {
           "color": "#FFFFFF"
          },
          "showarrow": false,
          "text": "-0.02",
          "x": "City_Lisbon",
          "xref": "x",
          "y": "City_Oporto",
          "yref": "y"
         },
         {
          "font": {
           "color": "#FFFFFF"
          },
          "showarrow": false,
          "text": "-0.01",
          "x": "City_Ljubljana",
          "xref": "x",
          "y": "City_Oporto",
          "yref": "y"
         },
         {
          "font": {
           "color": "#FFFFFF"
          },
          "showarrow": false,
          "text": "-0.05",
          "x": "City_London",
          "xref": "x",
          "y": "City_Oporto",
          "yref": "y"
         },
         {
          "font": {
           "color": "#FFFFFF"
          },
          "showarrow": false,
          "text": "-0.01",
          "x": "City_Luxembourg",
          "xref": "x",
          "y": "City_Oporto",
          "yref": "y"
         },
         {
          "font": {
           "color": "#FFFFFF"
          },
          "showarrow": false,
          "text": "-0.02",
          "x": "City_Lyon",
          "xref": "x",
          "y": "City_Oporto",
          "yref": "y"
         },
         {
          "font": {
           "color": "#FFFFFF"
          },
          "showarrow": false,
          "text": "-0.03",
          "x": "City_Madrid",
          "xref": "x",
          "y": "City_Oporto",
          "yref": "y"
         },
         {
          "font": {
           "color": "#FFFFFF"
          },
          "showarrow": false,
          "text": "-0.03",
          "x": "City_Milan",
          "xref": "x",
          "y": "City_Oporto",
          "yref": "y"
         },
         {
          "font": {
           "color": "#FFFFFF"
          },
          "showarrow": false,
          "text": "-0.02",
          "x": "City_Munich",
          "xref": "x",
          "y": "City_Oporto",
          "yref": "y"
         },
         {
          "font": {
           "color": "#000000"
          },
          "showarrow": false,
          "text": "1.0",
          "x": "City_Oporto",
          "xref": "x",
          "y": "City_Oporto",
          "yref": "y"
         },
         {
          "font": {
           "color": "#FFFFFF"
          },
          "showarrow": false,
          "text": "-0.01",
          "x": "City_Oslo",
          "xref": "x",
          "y": "City_Oporto",
          "yref": "y"
         },
         {
          "font": {
           "color": "#FFFFFF"
          },
          "showarrow": false,
          "text": "-0.04",
          "x": "City_Paris",
          "xref": "x",
          "y": "City_Oporto",
          "yref": "y"
         },
         {
          "font": {
           "color": "#FFFFFF"
          },
          "showarrow": false,
          "text": "-0.02",
          "x": "City_Prague",
          "xref": "x",
          "y": "City_Oporto",
          "yref": "y"
         },
         {
          "font": {
           "color": "#FFFFFF"
          },
          "showarrow": false,
          "text": "-0.03",
          "x": "City_Rome",
          "xref": "x",
          "y": "City_Oporto",
          "yref": "y"
         },
         {
          "font": {
           "color": "#FFFFFF"
          },
          "showarrow": false,
          "text": "-0.02",
          "x": "City_Stockholm",
          "xref": "x",
          "y": "City_Oporto",
          "yref": "y"
         },
         {
          "font": {
           "color": "#FFFFFF"
          },
          "showarrow": false,
          "text": "-0.02",
          "x": "City_Vienna",
          "xref": "x",
          "y": "City_Oporto",
          "yref": "y"
         },
         {
          "font": {
           "color": "#FFFFFF"
          },
          "showarrow": false,
          "text": "-0.02",
          "x": "City_Warsaw",
          "xref": "x",
          "y": "City_Oporto",
          "yref": "y"
         },
         {
          "font": {
           "color": "#FFFFFF"
          },
          "showarrow": false,
          "text": "-0.01",
          "x": "City_Zurich",
          "xref": "x",
          "y": "City_Oporto",
          "yref": "y"
         },
         {
          "font": {
           "color": "#FFFFFF"
          },
          "showarrow": false,
          "text": "-0.01",
          "x": "Rating",
          "xref": "x",
          "y": "City_Oslo",
          "yref": "y"
         },
         {
          "font": {
           "color": "#FFFFFF"
          },
          "showarrow": false,
          "text": "-0.02",
          "x": "City_Amsterdam",
          "xref": "x",
          "y": "City_Oslo",
          "yref": "y"
         },
         {
          "font": {
           "color": "#FFFFFF"
          },
          "showarrow": false,
          "text": "-0.01",
          "x": "City_Athens",
          "xref": "x",
          "y": "City_Oslo",
          "yref": "y"
         },
         {
          "font": {
           "color": "#FFFFFF"
          },
          "showarrow": false,
          "text": "-0.03",
          "x": "City_Barcelona",
          "xref": "x",
          "y": "City_Oslo",
          "yref": "y"
         },
         {
          "font": {
           "color": "#FFFFFF"
          },
          "showarrow": false,
          "text": "-0.02",
          "x": "City_Berlin",
          "xref": "x",
          "y": "City_Oslo",
          "yref": "y"
         },
         {
          "font": {
           "color": "#FFFFFF"
          },
          "showarrow": false,
          "text": "-0.01",
          "x": "City_Bratislava",
          "xref": "x",
          "y": "City_Oslo",
          "yref": "y"
         },
         {
          "font": {
           "color": "#FFFFFF"
          },
          "showarrow": false,
          "text": "-0.02",
          "x": "City_Brussels",
          "xref": "x",
          "y": "City_Oslo",
          "yref": "y"
         },
         {
          "font": {
           "color": "#FFFFFF"
          },
          "showarrow": false,
          "text": "-0.01",
          "x": "City_Budapest",
          "xref": "x",
          "y": "City_Oslo",
          "yref": "y"
         },
         {
          "font": {
           "color": "#FFFFFF"
          },
          "showarrow": false,
          "text": "-0.01",
          "x": "City_Copenhagen",
          "xref": "x",
          "y": "City_Oslo",
          "yref": "y"
         },
         {
          "font": {
           "color": "#FFFFFF"
          },
          "showarrow": false,
          "text": "-0.01",
          "x": "City_Dublin",
          "xref": "x",
          "y": "City_Oslo",
          "yref": "y"
         },
         {
          "font": {
           "color": "#FFFFFF"
          },
          "showarrow": false,
          "text": "-0.01",
          "x": "City_Edinburgh",
          "xref": "x",
          "y": "City_Oslo",
          "yref": "y"
         },
         {
          "font": {
           "color": "#FFFFFF"
          },
          "showarrow": false,
          "text": "-0.01",
          "x": "City_Geneva",
          "xref": "x",
          "y": "City_Oslo",
          "yref": "y"
         },
         {
          "font": {
           "color": "#FFFFFF"
          },
          "showarrow": false,
          "text": "-0.02",
          "x": "City_Hamburg",
          "xref": "x",
          "y": "City_Oslo",
          "yref": "y"
         },
         {
          "font": {
           "color": "#FFFFFF"
          },
          "showarrow": false,
          "text": "-0.01",
          "x": "City_Helsinki",
          "xref": "x",
          "y": "City_Oslo",
          "yref": "y"
         },
         {
          "font": {
           "color": "#FFFFFF"
          },
          "showarrow": false,
          "text": "-0.01",
          "x": "City_Krakow",
          "xref": "x",
          "y": "City_Oslo",
          "yref": "y"
         },
         {
          "font": {
           "color": "#FFFFFF"
          },
          "showarrow": false,
          "text": "-0.02",
          "x": "City_Lisbon",
          "xref": "x",
          "y": "City_Oslo",
          "yref": "y"
         },
         {
          "font": {
           "color": "#FFFFFF"
          },
          "showarrow": false,
          "text": "-0.01",
          "x": "City_Ljubljana",
          "xref": "x",
          "y": "City_Oslo",
          "yref": "y"
         },
         {
          "font": {
           "color": "#FFFFFF"
          },
          "showarrow": false,
          "text": "-0.04",
          "x": "City_London",
          "xref": "x",
          "y": "City_Oslo",
          "yref": "y"
         },
         {
          "font": {
           "color": "#FFFFFF"
          },
          "showarrow": false,
          "text": "-0.01",
          "x": "City_Luxembourg",
          "xref": "x",
          "y": "City_Oslo",
          "yref": "y"
         },
         {
          "font": {
           "color": "#FFFFFF"
          },
          "showarrow": false,
          "text": "-0.01",
          "x": "City_Lyon",
          "xref": "x",
          "y": "City_Oslo",
          "yref": "y"
         },
         {
          "font": {
           "color": "#FFFFFF"
          },
          "showarrow": false,
          "text": "-0.03",
          "x": "City_Madrid",
          "xref": "x",
          "y": "City_Oslo",
          "yref": "y"
         },
         {
          "font": {
           "color": "#FFFFFF"
          },
          "showarrow": false,
          "text": "-0.02",
          "x": "City_Milan",
          "xref": "x",
          "y": "City_Oslo",
          "yref": "y"
         },
         {
          "font": {
           "color": "#FFFFFF"
          },
          "showarrow": false,
          "text": "-0.01",
          "x": "City_Munich",
          "xref": "x",
          "y": "City_Oslo",
          "yref": "y"
         },
         {
          "font": {
           "color": "#FFFFFF"
          },
          "showarrow": false,
          "text": "-0.01",
          "x": "City_Oporto",
          "xref": "x",
          "y": "City_Oslo",
          "yref": "y"
         },
         {
          "font": {
           "color": "#000000"
          },
          "showarrow": false,
          "text": "1.0",
          "x": "City_Oslo",
          "xref": "x",
          "y": "City_Oslo",
          "yref": "y"
         },
         {
          "font": {
           "color": "#FFFFFF"
          },
          "showarrow": false,
          "text": "-0.04",
          "x": "City_Paris",
          "xref": "x",
          "y": "City_Oslo",
          "yref": "y"
         },
         {
          "font": {
           "color": "#FFFFFF"
          },
          "showarrow": false,
          "text": "-0.02",
          "x": "City_Prague",
          "xref": "x",
          "y": "City_Oslo",
          "yref": "y"
         },
         {
          "font": {
           "color": "#FFFFFF"
          },
          "showarrow": false,
          "text": "-0.02",
          "x": "City_Rome",
          "xref": "x",
          "y": "City_Oslo",
          "yref": "y"
         },
         {
          "font": {
           "color": "#FFFFFF"
          },
          "showarrow": false,
          "text": "-0.01",
          "x": "City_Stockholm",
          "xref": "x",
          "y": "City_Oslo",
          "yref": "y"
         },
         {
          "font": {
           "color": "#FFFFFF"
          },
          "showarrow": false,
          "text": "-0.02",
          "x": "City_Vienna",
          "xref": "x",
          "y": "City_Oslo",
          "yref": "y"
         },
         {
          "font": {
           "color": "#FFFFFF"
          },
          "showarrow": false,
          "text": "-0.01",
          "x": "City_Warsaw",
          "xref": "x",
          "y": "City_Oslo",
          "yref": "y"
         },
         {
          "font": {
           "color": "#FFFFFF"
          },
          "showarrow": false,
          "text": "-0.01",
          "x": "City_Zurich",
          "xref": "x",
          "y": "City_Oslo",
          "yref": "y"
         },
         {
          "font": {
           "color": "#FFFFFF"
          },
          "showarrow": false,
          "text": "-0.03",
          "x": "Rating",
          "xref": "x",
          "y": "City_Paris",
          "yref": "y"
         },
         {
          "font": {
           "color": "#FFFFFF"
          },
          "showarrow": false,
          "text": "-0.06",
          "x": "City_Amsterdam",
          "xref": "x",
          "y": "City_Paris",
          "yref": "y"
         },
         {
          "font": {
           "color": "#FFFFFF"
          },
          "showarrow": false,
          "text": "-0.05",
          "x": "City_Athens",
          "xref": "x",
          "y": "City_Paris",
          "yref": "y"
         },
         {
          "font": {
           "color": "#FFFFFF"
          },
          "showarrow": false,
          "text": "-0.1",
          "x": "City_Barcelona",
          "xref": "x",
          "y": "City_Paris",
          "yref": "y"
         },
         {
          "font": {
           "color": "#FFFFFF"
          },
          "showarrow": false,
          "text": "-0.09",
          "x": "City_Berlin",
          "xref": "x",
          "y": "City_Paris",
          "yref": "y"
         },
         {
          "font": {
           "color": "#FFFFFF"
          },
          "showarrow": false,
          "text": "-0.03",
          "x": "City_Bratislava",
          "xref": "x",
          "y": "City_Paris",
          "yref": "y"
         },
         {
          "font": {
           "color": "#FFFFFF"
          },
          "showarrow": false,
          "text": "-0.06",
          "x": "City_Brussels",
          "xref": "x",
          "y": "City_Paris",
          "yref": "y"
         },
         {
          "font": {
           "color": "#FFFFFF"
          },
          "showarrow": false,
          "text": "-0.05",
          "x": "City_Budapest",
          "xref": "x",
          "y": "City_Paris",
          "yref": "y"
         },
         {
          "font": {
           "color": "#FFFFFF"
          },
          "showarrow": false,
          "text": "-0.05",
          "x": "City_Copenhagen",
          "xref": "x",
          "y": "City_Paris",
          "yref": "y"
         },
         {
          "font": {
           "color": "#FFFFFF"
          },
          "showarrow": false,
          "text": "-0.05",
          "x": "City_Dublin",
          "xref": "x",
          "y": "City_Paris",
          "yref": "y"
         },
         {
          "font": {
           "color": "#FFFFFF"
          },
          "showarrow": false,
          "text": "-0.05",
          "x": "City_Edinburgh",
          "xref": "x",
          "y": "City_Paris",
          "yref": "y"
         },
         {
          "font": {
           "color": "#FFFFFF"
          },
          "showarrow": false,
          "text": "-0.04",
          "x": "City_Geneva",
          "xref": "x",
          "y": "City_Paris",
          "yref": "y"
         },
         {
          "font": {
           "color": "#FFFFFF"
          },
          "showarrow": false,
          "text": "-0.06",
          "x": "City_Hamburg",
          "xref": "x",
          "y": "City_Paris",
          "yref": "y"
         },
         {
          "font": {
           "color": "#FFFFFF"
          },
          "showarrow": false,
          "text": "-0.04",
          "x": "City_Helsinki",
          "xref": "x",
          "y": "City_Paris",
          "yref": "y"
         },
         {
          "font": {
           "color": "#FFFFFF"
          },
          "showarrow": false,
          "text": "-0.04",
          "x": "City_Krakow",
          "xref": "x",
          "y": "City_Paris",
          "yref": "y"
         },
         {
          "font": {
           "color": "#FFFFFF"
          },
          "showarrow": false,
          "text": "-0.07",
          "x": "City_Lisbon",
          "xref": "x",
          "y": "City_Paris",
          "yref": "y"
         },
         {
          "font": {
           "color": "#FFFFFF"
          },
          "showarrow": false,
          "text": "-0.03",
          "x": "City_Ljubljana",
          "xref": "x",
          "y": "City_Paris",
          "yref": "y"
         },
         {
          "font": {
           "color": "#FFFFFF"
          },
          "showarrow": false,
          "text": "-0.15",
          "x": "City_London",
          "xref": "x",
          "y": "City_Paris",
          "yref": "y"
         },
         {
          "font": {
           "color": "#FFFFFF"
          },
          "showarrow": false,
          "text": "-0.03",
          "x": "City_Luxembourg",
          "xref": "x",
          "y": "City_Paris",
          "yref": "y"
         },
         {
          "font": {
           "color": "#FFFFFF"
          },
          "showarrow": false,
          "text": "-0.06",
          "x": "City_Lyon",
          "xref": "x",
          "y": "City_Paris",
          "yref": "y"
         },
         {
          "font": {
           "color": "#FFFFFF"
          },
          "showarrow": false,
          "text": "-0.11",
          "x": "City_Madrid",
          "xref": "x",
          "y": "City_Paris",
          "yref": "y"
         },
         {
          "font": {
           "color": "#FFFFFF"
          },
          "showarrow": false,
          "text": "-0.09",
          "x": "City_Milan",
          "xref": "x",
          "y": "City_Paris",
          "yref": "y"
         },
         {
          "font": {
           "color": "#FFFFFF"
          },
          "showarrow": false,
          "text": "-0.06",
          "x": "City_Munich",
          "xref": "x",
          "y": "City_Paris",
          "yref": "y"
         },
         {
          "font": {
           "color": "#FFFFFF"
          },
          "showarrow": false,
          "text": "-0.04",
          "x": "City_Oporto",
          "xref": "x",
          "y": "City_Paris",
          "yref": "y"
         },
         {
          "font": {
           "color": "#FFFFFF"
          },
          "showarrow": false,
          "text": "-0.04",
          "x": "City_Oslo",
          "xref": "x",
          "y": "City_Paris",
          "yref": "y"
         },
         {
          "font": {
           "color": "#000000"
          },
          "showarrow": false,
          "text": "1.0",
          "x": "City_Paris",
          "xref": "x",
          "y": "City_Paris",
          "yref": "y"
         },
         {
          "font": {
           "color": "#FFFFFF"
          },
          "showarrow": false,
          "text": "-0.07",
          "x": "City_Prague",
          "xref": "x",
          "y": "City_Paris",
          "yref": "y"
         },
         {
          "font": {
           "color": "#FFFFFF"
          },
          "showarrow": false,
          "text": "-0.09",
          "x": "City_Rome",
          "xref": "x",
          "y": "City_Paris",
          "yref": "y"
         },
         {
          "font": {
           "color": "#FFFFFF"
          },
          "showarrow": false,
          "text": "-0.05",
          "x": "City_Stockholm",
          "xref": "x",
          "y": "City_Paris",
          "yref": "y"
         },
         {
          "font": {
           "color": "#FFFFFF"
          },
          "showarrow": false,
          "text": "-0.06",
          "x": "City_Vienna",
          "xref": "x",
          "y": "City_Paris",
          "yref": "y"
         },
         {
          "font": {
           "color": "#FFFFFF"
          },
          "showarrow": false,
          "text": "-0.05",
          "x": "City_Warsaw",
          "xref": "x",
          "y": "City_Paris",
          "yref": "y"
         },
         {
          "font": {
           "color": "#FFFFFF"
          },
          "showarrow": false,
          "text": "-0.04",
          "x": "City_Zurich",
          "xref": "x",
          "y": "City_Paris",
          "yref": "y"
         },
         {
          "font": {
           "color": "#FFFFFF"
          },
          "showarrow": false,
          "text": "0.01",
          "x": "Rating",
          "xref": "x",
          "y": "City_Prague",
          "yref": "y"
         },
         {
          "font": {
           "color": "#FFFFFF"
          },
          "showarrow": false,
          "text": "-0.03",
          "x": "City_Amsterdam",
          "xref": "x",
          "y": "City_Prague",
          "yref": "y"
         },
         {
          "font": {
           "color": "#FFFFFF"
          },
          "showarrow": false,
          "text": "-0.02",
          "x": "City_Athens",
          "xref": "x",
          "y": "City_Prague",
          "yref": "y"
         },
         {
          "font": {
           "color": "#FFFFFF"
          },
          "showarrow": false,
          "text": "-0.05",
          "x": "City_Barcelona",
          "xref": "x",
          "y": "City_Prague",
          "yref": "y"
         },
         {
          "font": {
           "color": "#FFFFFF"
          },
          "showarrow": false,
          "text": "-0.05",
          "x": "City_Berlin",
          "xref": "x",
          "y": "City_Prague",
          "yref": "y"
         },
         {
          "font": {
           "color": "#FFFFFF"
          },
          "showarrow": false,
          "text": "-0.02",
          "x": "City_Bratislava",
          "xref": "x",
          "y": "City_Prague",
          "yref": "y"
         },
         {
          "font": {
           "color": "#FFFFFF"
          },
          "showarrow": false,
          "text": "-0.03",
          "x": "City_Brussels",
          "xref": "x",
          "y": "City_Prague",
          "yref": "y"
         },
         {
          "font": {
           "color": "#FFFFFF"
          },
          "showarrow": false,
          "text": "-0.03",
          "x": "City_Budapest",
          "xref": "x",
          "y": "City_Prague",
          "yref": "y"
         },
         {
          "font": {
           "color": "#FFFFFF"
          },
          "showarrow": false,
          "text": "-0.03",
          "x": "City_Copenhagen",
          "xref": "x",
          "y": "City_Prague",
          "yref": "y"
         },
         {
          "font": {
           "color": "#FFFFFF"
          },
          "showarrow": false,
          "text": "-0.03",
          "x": "City_Dublin",
          "xref": "x",
          "y": "City_Prague",
          "yref": "y"
         },
         {
          "font": {
           "color": "#FFFFFF"
          },
          "showarrow": false,
          "text": "-0.02",
          "x": "City_Edinburgh",
          "xref": "x",
          "y": "City_Prague",
          "yref": "y"
         },
         {
          "font": {
           "color": "#FFFFFF"
          },
          "showarrow": false,
          "text": "-0.02",
          "x": "City_Geneva",
          "xref": "x",
          "y": "City_Prague",
          "yref": "y"
         },
         {
          "font": {
           "color": "#FFFFFF"
          },
          "showarrow": false,
          "text": "-0.03",
          "x": "City_Hamburg",
          "xref": "x",
          "y": "City_Prague",
          "yref": "y"
         },
         {
          "font": {
           "color": "#FFFFFF"
          },
          "showarrow": false,
          "text": "-0.02",
          "x": "City_Helsinki",
          "xref": "x",
          "y": "City_Prague",
          "yref": "y"
         },
         {
          "font": {
           "color": "#FFFFFF"
          },
          "showarrow": false,
          "text": "-0.02",
          "x": "City_Krakow",
          "xref": "x",
          "y": "City_Prague",
          "yref": "y"
         },
         {
          "font": {
           "color": "#FFFFFF"
          },
          "showarrow": false,
          "text": "-0.04",
          "x": "City_Lisbon",
          "xref": "x",
          "y": "City_Prague",
          "yref": "y"
         },
         {
          "font": {
           "color": "#FFFFFF"
          },
          "showarrow": false,
          "text": "-0.01",
          "x": "City_Ljubljana",
          "xref": "x",
          "y": "City_Prague",
          "yref": "y"
         },
         {
          "font": {
           "color": "#FFFFFF"
          },
          "showarrow": false,
          "text": "-0.08",
          "x": "City_London",
          "xref": "x",
          "y": "City_Prague",
          "yref": "y"
         },
         {
          "font": {
           "color": "#FFFFFF"
          },
          "showarrow": false,
          "text": "-0.01",
          "x": "City_Luxembourg",
          "xref": "x",
          "y": "City_Prague",
          "yref": "y"
         },
         {
          "font": {
           "color": "#FFFFFF"
          },
          "showarrow": false,
          "text": "-0.03",
          "x": "City_Lyon",
          "xref": "x",
          "y": "City_Prague",
          "yref": "y"
         },
         {
          "font": {
           "color": "#FFFFFF"
          },
          "showarrow": false,
          "text": "-0.06",
          "x": "City_Madrid",
          "xref": "x",
          "y": "City_Prague",
          "yref": "y"
         },
         {
          "font": {
           "color": "#FFFFFF"
          },
          "showarrow": false,
          "text": "-0.05",
          "x": "City_Milan",
          "xref": "x",
          "y": "City_Prague",
          "yref": "y"
         },
         {
          "font": {
           "color": "#FFFFFF"
          },
          "showarrow": false,
          "text": "-0.03",
          "x": "City_Munich",
          "xref": "x",
          "y": "City_Prague",
          "yref": "y"
         },
         {
          "font": {
           "color": "#FFFFFF"
          },
          "showarrow": false,
          "text": "-0.02",
          "x": "City_Oporto",
          "xref": "x",
          "y": "City_Prague",
          "yref": "y"
         },
         {
          "font": {
           "color": "#FFFFFF"
          },
          "showarrow": false,
          "text": "-0.02",
          "x": "City_Oslo",
          "xref": "x",
          "y": "City_Prague",
          "yref": "y"
         },
         {
          "font": {
           "color": "#FFFFFF"
          },
          "showarrow": false,
          "text": "-0.07",
          "x": "City_Paris",
          "xref": "x",
          "y": "City_Prague",
          "yref": "y"
         },
         {
          "font": {
           "color": "#000000"
          },
          "showarrow": false,
          "text": "1.0",
          "x": "City_Prague",
          "xref": "x",
          "y": "City_Prague",
          "yref": "y"
         },
         {
          "font": {
           "color": "#FFFFFF"
          },
          "showarrow": false,
          "text": "-0.05",
          "x": "City_Rome",
          "xref": "x",
          "y": "City_Prague",
          "yref": "y"
         },
         {
          "font": {
           "color": "#FFFFFF"
          },
          "showarrow": false,
          "text": "-0.03",
          "x": "City_Stockholm",
          "xref": "x",
          "y": "City_Prague",
          "yref": "y"
         },
         {
          "font": {
           "color": "#FFFFFF"
          },
          "showarrow": false,
          "text": "-0.03",
          "x": "City_Vienna",
          "xref": "x",
          "y": "City_Prague",
          "yref": "y"
         },
         {
          "font": {
           "color": "#FFFFFF"
          },
          "showarrow": false,
          "text": "-0.03",
          "x": "City_Warsaw",
          "xref": "x",
          "y": "City_Prague",
          "yref": "y"
         },
         {
          "font": {
           "color": "#FFFFFF"
          },
          "showarrow": false,
          "text": "-0.02",
          "x": "City_Zurich",
          "xref": "x",
          "y": "City_Prague",
          "yref": "y"
         },
         {
          "font": {
           "color": "#FFFFFF"
          },
          "showarrow": false,
          "text": "0.08",
          "x": "Rating",
          "xref": "x",
          "y": "City_Rome",
          "yref": "y"
         },
         {
          "font": {
           "color": "#FFFFFF"
          },
          "showarrow": false,
          "text": "-0.04",
          "x": "City_Amsterdam",
          "xref": "x",
          "y": "City_Rome",
          "yref": "y"
         },
         {
          "font": {
           "color": "#FFFFFF"
          },
          "showarrow": false,
          "text": "-0.03",
          "x": "City_Athens",
          "xref": "x",
          "y": "City_Rome",
          "yref": "y"
         },
         {
          "font": {
           "color": "#FFFFFF"
          },
          "showarrow": false,
          "text": "-0.06",
          "x": "City_Barcelona",
          "xref": "x",
          "y": "City_Rome",
          "yref": "y"
         },
         {
          "font": {
           "color": "#FFFFFF"
          },
          "showarrow": false,
          "text": "-0.06",
          "x": "City_Berlin",
          "xref": "x",
          "y": "City_Rome",
          "yref": "y"
         },
         {
          "font": {
           "color": "#FFFFFF"
          },
          "showarrow": false,
          "text": "-0.02",
          "x": "City_Bratislava",
          "xref": "x",
          "y": "City_Rome",
          "yref": "y"
         },
         {
          "font": {
           "color": "#FFFFFF"
          },
          "showarrow": false,
          "text": "-0.04",
          "x": "City_Brussels",
          "xref": "x",
          "y": "City_Rome",
          "yref": "y"
         },
         {
          "font": {
           "color": "#FFFFFF"
          },
          "showarrow": false,
          "text": "-0.03",
          "x": "City_Budapest",
          "xref": "x",
          "y": "City_Rome",
          "yref": "y"
         },
         {
          "font": {
           "color": "#FFFFFF"
          },
          "showarrow": false,
          "text": "-0.03",
          "x": "City_Copenhagen",
          "xref": "x",
          "y": "City_Rome",
          "yref": "y"
         },
         {
          "font": {
           "color": "#FFFFFF"
          },
          "showarrow": false,
          "text": "-0.03",
          "x": "City_Dublin",
          "xref": "x",
          "y": "City_Rome",
          "yref": "y"
         },
         {
          "font": {
           "color": "#FFFFFF"
          },
          "showarrow": false,
          "text": "-0.03",
          "x": "City_Edinburgh",
          "xref": "x",
          "y": "City_Rome",
          "yref": "y"
         },
         {
          "font": {
           "color": "#FFFFFF"
          },
          "showarrow": false,
          "text": "-0.03",
          "x": "City_Geneva",
          "xref": "x",
          "y": "City_Rome",
          "yref": "y"
         },
         {
          "font": {
           "color": "#FFFFFF"
          },
          "showarrow": false,
          "text": "-0.04",
          "x": "City_Hamburg",
          "xref": "x",
          "y": "City_Rome",
          "yref": "y"
         },
         {
          "font": {
           "color": "#FFFFFF"
          },
          "showarrow": false,
          "text": "-0.02",
          "x": "City_Helsinki",
          "xref": "x",
          "y": "City_Rome",
          "yref": "y"
         },
         {
          "font": {
           "color": "#FFFFFF"
          },
          "showarrow": false,
          "text": "-0.02",
          "x": "City_Krakow",
          "xref": "x",
          "y": "City_Rome",
          "yref": "y"
         },
         {
          "font": {
           "color": "#FFFFFF"
          },
          "showarrow": false,
          "text": "-0.04",
          "x": "City_Lisbon",
          "xref": "x",
          "y": "City_Rome",
          "yref": "y"
         },
         {
          "font": {
           "color": "#FFFFFF"
          },
          "showarrow": false,
          "text": "-0.02",
          "x": "City_Ljubljana",
          "xref": "x",
          "y": "City_Rome",
          "yref": "y"
         },
         {
          "font": {
           "color": "#FFFFFF"
          },
          "showarrow": false,
          "text": "-0.1",
          "x": "City_London",
          "xref": "x",
          "y": "City_Rome",
          "yref": "y"
         },
         {
          "font": {
           "color": "#FFFFFF"
          },
          "showarrow": false,
          "text": "-0.02",
          "x": "City_Luxembourg",
          "xref": "x",
          "y": "City_Rome",
          "yref": "y"
         },
         {
          "font": {
           "color": "#FFFFFF"
          },
          "showarrow": false,
          "text": "-0.04",
          "x": "City_Lyon",
          "xref": "x",
          "y": "City_Rome",
          "yref": "y"
         },
         {
          "font": {
           "color": "#FFFFFF"
          },
          "showarrow": false,
          "text": "-0.07",
          "x": "City_Madrid",
          "xref": "x",
          "y": "City_Rome",
          "yref": "y"
         },
         {
          "font": {
           "color": "#FFFFFF"
          },
          "showarrow": false,
          "text": "-0.06",
          "x": "City_Milan",
          "xref": "x",
          "y": "City_Rome",
          "yref": "y"
         },
         {
          "font": {
           "color": "#FFFFFF"
          },
          "showarrow": false,
          "text": "-0.04",
          "x": "City_Munich",
          "xref": "x",
          "y": "City_Rome",
          "yref": "y"
         },
         {
          "font": {
           "color": "#FFFFFF"
          },
          "showarrow": false,
          "text": "-0.03",
          "x": "City_Oporto",
          "xref": "x",
          "y": "City_Rome",
          "yref": "y"
         },
         {
          "font": {
           "color": "#FFFFFF"
          },
          "showarrow": false,
          "text": "-0.02",
          "x": "City_Oslo",
          "xref": "x",
          "y": "City_Rome",
          "yref": "y"
         },
         {
          "font": {
           "color": "#FFFFFF"
          },
          "showarrow": false,
          "text": "-0.09",
          "x": "City_Paris",
          "xref": "x",
          "y": "City_Rome",
          "yref": "y"
         },
         {
          "font": {
           "color": "#FFFFFF"
          },
          "showarrow": false,
          "text": "-0.05",
          "x": "City_Prague",
          "xref": "x",
          "y": "City_Rome",
          "yref": "y"
         },
         {
          "font": {
           "color": "#000000"
          },
          "showarrow": false,
          "text": "1.0",
          "x": "City_Rome",
          "xref": "x",
          "y": "City_Rome",
          "yref": "y"
         },
         {
          "font": {
           "color": "#FFFFFF"
          },
          "showarrow": false,
          "text": "-0.03",
          "x": "City_Stockholm",
          "xref": "x",
          "y": "City_Rome",
          "yref": "y"
         },
         {
          "font": {
           "color": "#FFFFFF"
          },
          "showarrow": false,
          "text": "-0.04",
          "x": "City_Vienna",
          "xref": "x",
          "y": "City_Rome",
          "yref": "y"
         },
         {
          "font": {
           "color": "#FFFFFF"
          },
          "showarrow": false,
          "text": "-0.03",
          "x": "City_Warsaw",
          "xref": "x",
          "y": "City_Rome",
          "yref": "y"
         },
         {
          "font": {
           "color": "#FFFFFF"
          },
          "showarrow": false,
          "text": "-0.03",
          "x": "City_Zurich",
          "xref": "x",
          "y": "City_Rome",
          "yref": "y"
         },
         {
          "font": {
           "color": "#FFFFFF"
          },
          "showarrow": false,
          "text": "-0.03",
          "x": "Rating",
          "xref": "x",
          "y": "City_Stockholm",
          "yref": "y"
         },
         {
          "font": {
           "color": "#FFFFFF"
          },
          "showarrow": false,
          "text": "-0.02",
          "x": "City_Amsterdam",
          "xref": "x",
          "y": "City_Stockholm",
          "yref": "y"
         },
         {
          "font": {
           "color": "#FFFFFF"
          },
          "showarrow": false,
          "text": "-0.02",
          "x": "City_Athens",
          "xref": "x",
          "y": "City_Stockholm",
          "yref": "y"
         },
         {
          "font": {
           "color": "#FFFFFF"
          },
          "showarrow": false,
          "text": "-0.04",
          "x": "City_Barcelona",
          "xref": "x",
          "y": "City_Stockholm",
          "yref": "y"
         },
         {
          "font": {
           "color": "#FFFFFF"
          },
          "showarrow": false,
          "text": "-0.03",
          "x": "City_Berlin",
          "xref": "x",
          "y": "City_Stockholm",
          "yref": "y"
         },
         {
          "font": {
           "color": "#FFFFFF"
          },
          "showarrow": false,
          "text": "-0.01",
          "x": "City_Bratislava",
          "xref": "x",
          "y": "City_Stockholm",
          "yref": "y"
         },
         {
          "font": {
           "color": "#FFFFFF"
          },
          "showarrow": false,
          "text": "-0.02",
          "x": "City_Brussels",
          "xref": "x",
          "y": "City_Stockholm",
          "yref": "y"
         },
         {
          "font": {
           "color": "#FFFFFF"
          },
          "showarrow": false,
          "text": "-0.02",
          "x": "City_Budapest",
          "xref": "x",
          "y": "City_Stockholm",
          "yref": "y"
         },
         {
          "font": {
           "color": "#FFFFFF"
          },
          "showarrow": false,
          "text": "-0.02",
          "x": "City_Copenhagen",
          "xref": "x",
          "y": "City_Stockholm",
          "yref": "y"
         },
         {
          "font": {
           "color": "#FFFFFF"
          },
          "showarrow": false,
          "text": "-0.02",
          "x": "City_Dublin",
          "xref": "x",
          "y": "City_Stockholm",
          "yref": "y"
         },
         {
          "font": {
           "color": "#FFFFFF"
          },
          "showarrow": false,
          "text": "-0.02",
          "x": "City_Edinburgh",
          "xref": "x",
          "y": "City_Stockholm",
          "yref": "y"
         },
         {
          "font": {
           "color": "#FFFFFF"
          },
          "showarrow": false,
          "text": "-0.02",
          "x": "City_Geneva",
          "xref": "x",
          "y": "City_Stockholm",
          "yref": "y"
         },
         {
          "font": {
           "color": "#FFFFFF"
          },
          "showarrow": false,
          "text": "-0.02",
          "x": "City_Hamburg",
          "xref": "x",
          "y": "City_Stockholm",
          "yref": "y"
         },
         {
          "font": {
           "color": "#FFFFFF"
          },
          "showarrow": false,
          "text": "-0.01",
          "x": "City_Helsinki",
          "xref": "x",
          "y": "City_Stockholm",
          "yref": "y"
         },
         {
          "font": {
           "color": "#FFFFFF"
          },
          "showarrow": false,
          "text": "-0.02",
          "x": "City_Krakow",
          "xref": "x",
          "y": "City_Stockholm",
          "yref": "y"
         },
         {
          "font": {
           "color": "#FFFFFF"
          },
          "showarrow": false,
          "text": "-0.03",
          "x": "City_Lisbon",
          "xref": "x",
          "y": "City_Stockholm",
          "yref": "y"
         },
         {
          "font": {
           "color": "#FFFFFF"
          },
          "showarrow": false,
          "text": "-0.01",
          "x": "City_Ljubljana",
          "xref": "x",
          "y": "City_Stockholm",
          "yref": "y"
         },
         {
          "font": {
           "color": "#FFFFFF"
          },
          "showarrow": false,
          "text": "-0.06",
          "x": "City_London",
          "xref": "x",
          "y": "City_Stockholm",
          "yref": "y"
         },
         {
          "font": {
           "color": "#FFFFFF"
          },
          "showarrow": false,
          "text": "-0.01",
          "x": "City_Luxembourg",
          "xref": "x",
          "y": "City_Stockholm",
          "yref": "y"
         },
         {
          "font": {
           "color": "#FFFFFF"
          },
          "showarrow": false,
          "text": "-0.02",
          "x": "City_Lyon",
          "xref": "x",
          "y": "City_Stockholm",
          "yref": "y"
         },
         {
          "font": {
           "color": "#FFFFFF"
          },
          "showarrow": false,
          "text": "-0.04",
          "x": "City_Madrid",
          "xref": "x",
          "y": "City_Stockholm",
          "yref": "y"
         },
         {
          "font": {
           "color": "#FFFFFF"
          },
          "showarrow": false,
          "text": "-0.03",
          "x": "City_Milan",
          "xref": "x",
          "y": "City_Stockholm",
          "yref": "y"
         },
         {
          "font": {
           "color": "#FFFFFF"
          },
          "showarrow": false,
          "text": "-0.02",
          "x": "City_Munich",
          "xref": "x",
          "y": "City_Stockholm",
          "yref": "y"
         },
         {
          "font": {
           "color": "#FFFFFF"
          },
          "showarrow": false,
          "text": "-0.02",
          "x": "City_Oporto",
          "xref": "x",
          "y": "City_Stockholm",
          "yref": "y"
         },
         {
          "font": {
           "color": "#FFFFFF"
          },
          "showarrow": false,
          "text": "-0.01",
          "x": "City_Oslo",
          "xref": "x",
          "y": "City_Stockholm",
          "yref": "y"
         },
         {
          "font": {
           "color": "#FFFFFF"
          },
          "showarrow": false,
          "text": "-0.05",
          "x": "City_Paris",
          "xref": "x",
          "y": "City_Stockholm",
          "yref": "y"
         },
         {
          "font": {
           "color": "#FFFFFF"
          },
          "showarrow": false,
          "text": "-0.03",
          "x": "City_Prague",
          "xref": "x",
          "y": "City_Stockholm",
          "yref": "y"
         },
         {
          "font": {
           "color": "#FFFFFF"
          },
          "showarrow": false,
          "text": "-0.03",
          "x": "City_Rome",
          "xref": "x",
          "y": "City_Stockholm",
          "yref": "y"
         },
         {
          "font": {
           "color": "#000000"
          },
          "showarrow": false,
          "text": "1.0",
          "x": "City_Stockholm",
          "xref": "x",
          "y": "City_Stockholm",
          "yref": "y"
         },
         {
          "font": {
           "color": "#FFFFFF"
          },
          "showarrow": false,
          "text": "-0.03",
          "x": "City_Vienna",
          "xref": "x",
          "y": "City_Stockholm",
          "yref": "y"
         },
         {
          "font": {
           "color": "#FFFFFF"
          },
          "showarrow": false,
          "text": "-0.02",
          "x": "City_Warsaw",
          "xref": "x",
          "y": "City_Stockholm",
          "yref": "y"
         },
         {
          "font": {
           "color": "#FFFFFF"
          },
          "showarrow": false,
          "text": "-0.02",
          "x": "City_Zurich",
          "xref": "x",
          "y": "City_Stockholm",
          "yref": "y"
         },
         {
          "font": {
           "color": "#FFFFFF"
          },
          "showarrow": false,
          "text": "0.02",
          "x": "Rating",
          "xref": "x",
          "y": "City_Vienna",
          "yref": "y"
         },
         {
          "font": {
           "color": "#FFFFFF"
          },
          "showarrow": false,
          "text": "-0.03",
          "x": "City_Amsterdam",
          "xref": "x",
          "y": "City_Vienna",
          "yref": "y"
         },
         {
          "font": {
           "color": "#FFFFFF"
          },
          "showarrow": false,
          "text": "-0.02",
          "x": "City_Athens",
          "xref": "x",
          "y": "City_Vienna",
          "yref": "y"
         },
         {
          "font": {
           "color": "#FFFFFF"
          },
          "showarrow": false,
          "text": "-0.05",
          "x": "City_Barcelona",
          "xref": "x",
          "y": "City_Vienna",
          "yref": "y"
         },
         {
          "font": {
           "color": "#FFFFFF"
          },
          "showarrow": false,
          "text": "-0.04",
          "x": "City_Berlin",
          "xref": "x",
          "y": "City_Vienna",
          "yref": "y"
         },
         {
          "font": {
           "color": "#FFFFFF"
          },
          "showarrow": false,
          "text": "-0.02",
          "x": "City_Bratislava",
          "xref": "x",
          "y": "City_Vienna",
          "yref": "y"
         },
         {
          "font": {
           "color": "#FFFFFF"
          },
          "showarrow": false,
          "text": "-0.03",
          "x": "City_Brussels",
          "xref": "x",
          "y": "City_Vienna",
          "yref": "y"
         },
         {
          "font": {
           "color": "#FFFFFF"
          },
          "showarrow": false,
          "text": "-0.03",
          "x": "City_Budapest",
          "xref": "x",
          "y": "City_Vienna",
          "yref": "y"
         },
         {
          "font": {
           "color": "#FFFFFF"
          },
          "showarrow": false,
          "text": "-0.02",
          "x": "City_Copenhagen",
          "xref": "x",
          "y": "City_Vienna",
          "yref": "y"
         },
         {
          "font": {
           "color": "#FFFFFF"
          },
          "showarrow": false,
          "text": "-0.02",
          "x": "City_Dublin",
          "xref": "x",
          "y": "City_Vienna",
          "yref": "y"
         },
         {
          "font": {
           "color": "#FFFFFF"
          },
          "showarrow": false,
          "text": "-0.02",
          "x": "City_Edinburgh",
          "xref": "x",
          "y": "City_Vienna",
          "yref": "y"
         },
         {
          "font": {
           "color": "#FFFFFF"
          },
          "showarrow": false,
          "text": "-0.02",
          "x": "City_Geneva",
          "xref": "x",
          "y": "City_Vienna",
          "yref": "y"
         },
         {
          "font": {
           "color": "#FFFFFF"
          },
          "showarrow": false,
          "text": "-0.03",
          "x": "City_Hamburg",
          "xref": "x",
          "y": "City_Vienna",
          "yref": "y"
         },
         {
          "font": {
           "color": "#FFFFFF"
          },
          "showarrow": false,
          "text": "-0.02",
          "x": "City_Helsinki",
          "xref": "x",
          "y": "City_Vienna",
          "yref": "y"
         },
         {
          "font": {
           "color": "#FFFFFF"
          },
          "showarrow": false,
          "text": "-0.02",
          "x": "City_Krakow",
          "xref": "x",
          "y": "City_Vienna",
          "yref": "y"
         },
         {
          "font": {
           "color": "#FFFFFF"
          },
          "showarrow": false,
          "text": "-0.03",
          "x": "City_Lisbon",
          "xref": "x",
          "y": "City_Vienna",
          "yref": "y"
         },
         {
          "font": {
           "color": "#FFFFFF"
          },
          "showarrow": false,
          "text": "-0.01",
          "x": "City_Ljubljana",
          "xref": "x",
          "y": "City_Vienna",
          "yref": "y"
         },
         {
          "font": {
           "color": "#FFFFFF"
          },
          "showarrow": false,
          "text": "-0.07",
          "x": "City_London",
          "xref": "x",
          "y": "City_Vienna",
          "yref": "y"
         },
         {
          "font": {
           "color": "#FFFFFF"
          },
          "showarrow": false,
          "text": "-0.01",
          "x": "City_Luxembourg",
          "xref": "x",
          "y": "City_Vienna",
          "yref": "y"
         },
         {
          "font": {
           "color": "#FFFFFF"
          },
          "showarrow": false,
          "text": "-0.03",
          "x": "City_Lyon",
          "xref": "x",
          "y": "City_Vienna",
          "yref": "y"
         },
         {
          "font": {
           "color": "#FFFFFF"
          },
          "showarrow": false,
          "text": "-0.05",
          "x": "City_Madrid",
          "xref": "x",
          "y": "City_Vienna",
          "yref": "y"
         },
         {
          "font": {
           "color": "#FFFFFF"
          },
          "showarrow": false,
          "text": "-0.04",
          "x": "City_Milan",
          "xref": "x",
          "y": "City_Vienna",
          "yref": "y"
         },
         {
          "font": {
           "color": "#FFFFFF"
          },
          "showarrow": false,
          "text": "-0.03",
          "x": "City_Munich",
          "xref": "x",
          "y": "City_Vienna",
          "yref": "y"
         },
         {
          "font": {
           "color": "#FFFFFF"
          },
          "showarrow": false,
          "text": "-0.02",
          "x": "City_Oporto",
          "xref": "x",
          "y": "City_Vienna",
          "yref": "y"
         },
         {
          "font": {
           "color": "#FFFFFF"
          },
          "showarrow": false,
          "text": "-0.02",
          "x": "City_Oslo",
          "xref": "x",
          "y": "City_Vienna",
          "yref": "y"
         },
         {
          "font": {
           "color": "#FFFFFF"
          },
          "showarrow": false,
          "text": "-0.06",
          "x": "City_Paris",
          "xref": "x",
          "y": "City_Vienna",
          "yref": "y"
         },
         {
          "font": {
           "color": "#FFFFFF"
          },
          "showarrow": false,
          "text": "-0.03",
          "x": "City_Prague",
          "xref": "x",
          "y": "City_Vienna",
          "yref": "y"
         },
         {
          "font": {
           "color": "#FFFFFF"
          },
          "showarrow": false,
          "text": "-0.04",
          "x": "City_Rome",
          "xref": "x",
          "y": "City_Vienna",
          "yref": "y"
         },
         {
          "font": {
           "color": "#FFFFFF"
          },
          "showarrow": false,
          "text": "-0.03",
          "x": "City_Stockholm",
          "xref": "x",
          "y": "City_Vienna",
          "yref": "y"
         },
         {
          "font": {
           "color": "#000000"
          },
          "showarrow": false,
          "text": "1.0",
          "x": "City_Vienna",
          "xref": "x",
          "y": "City_Vienna",
          "yref": "y"
         },
         {
          "font": {
           "color": "#FFFFFF"
          },
          "showarrow": false,
          "text": "-0.02",
          "x": "City_Warsaw",
          "xref": "x",
          "y": "City_Vienna",
          "yref": "y"
         },
         {
          "font": {
           "color": "#FFFFFF"
          },
          "showarrow": false,
          "text": "-0.02",
          "x": "City_Zurich",
          "xref": "x",
          "y": "City_Vienna",
          "yref": "y"
         },
         {
          "font": {
           "color": "#FFFFFF"
          },
          "showarrow": false,
          "text": "0.02",
          "x": "Rating",
          "xref": "x",
          "y": "City_Warsaw",
          "yref": "y"
         },
         {
          "font": {
           "color": "#FFFFFF"
          },
          "showarrow": false,
          "text": "-0.02",
          "x": "City_Amsterdam",
          "xref": "x",
          "y": "City_Warsaw",
          "yref": "y"
         },
         {
          "font": {
           "color": "#FFFFFF"
          },
          "showarrow": false,
          "text": "-0.02",
          "x": "City_Athens",
          "xref": "x",
          "y": "City_Warsaw",
          "yref": "y"
         },
         {
          "font": {
           "color": "#FFFFFF"
          },
          "showarrow": false,
          "text": "-0.04",
          "x": "City_Barcelona",
          "xref": "x",
          "y": "City_Warsaw",
          "yref": "y"
         },
         {
          "font": {
           "color": "#FFFFFF"
          },
          "showarrow": false,
          "text": "-0.03",
          "x": "City_Berlin",
          "xref": "x",
          "y": "City_Warsaw",
          "yref": "y"
         },
         {
          "font": {
           "color": "#FFFFFF"
          },
          "showarrow": false,
          "text": "-0.01",
          "x": "City_Bratislava",
          "xref": "x",
          "y": "City_Warsaw",
          "yref": "y"
         },
         {
          "font": {
           "color": "#FFFFFF"
          },
          "showarrow": false,
          "text": "-0.02",
          "x": "City_Brussels",
          "xref": "x",
          "y": "City_Warsaw",
          "yref": "y"
         },
         {
          "font": {
           "color": "#FFFFFF"
          },
          "showarrow": false,
          "text": "-0.02",
          "x": "City_Budapest",
          "xref": "x",
          "y": "City_Warsaw",
          "yref": "y"
         },
         {
          "font": {
           "color": "#FFFFFF"
          },
          "showarrow": false,
          "text": "-0.02",
          "x": "City_Copenhagen",
          "xref": "x",
          "y": "City_Warsaw",
          "yref": "y"
         },
         {
          "font": {
           "color": "#FFFFFF"
          },
          "showarrow": false,
          "text": "-0.02",
          "x": "City_Dublin",
          "xref": "x",
          "y": "City_Warsaw",
          "yref": "y"
         },
         {
          "font": {
           "color": "#FFFFFF"
          },
          "showarrow": false,
          "text": "-0.02",
          "x": "City_Edinburgh",
          "xref": "x",
          "y": "City_Warsaw",
          "yref": "y"
         },
         {
          "font": {
           "color": "#FFFFFF"
          },
          "showarrow": false,
          "text": "-0.02",
          "x": "City_Geneva",
          "xref": "x",
          "y": "City_Warsaw",
          "yref": "y"
         },
         {
          "font": {
           "color": "#FFFFFF"
          },
          "showarrow": false,
          "text": "-0.02",
          "x": "City_Hamburg",
          "xref": "x",
          "y": "City_Warsaw",
          "yref": "y"
         },
         {
          "font": {
           "color": "#FFFFFF"
          },
          "showarrow": false,
          "text": "-0.01",
          "x": "City_Helsinki",
          "xref": "x",
          "y": "City_Warsaw",
          "yref": "y"
         },
         {
          "font": {
           "color": "#FFFFFF"
          },
          "showarrow": false,
          "text": "-0.01",
          "x": "City_Krakow",
          "xref": "x",
          "y": "City_Warsaw",
          "yref": "y"
         },
         {
          "font": {
           "color": "#FFFFFF"
          },
          "showarrow": false,
          "text": "-0.02",
          "x": "City_Lisbon",
          "xref": "x",
          "y": "City_Warsaw",
          "yref": "y"
         },
         {
          "font": {
           "color": "#FFFFFF"
          },
          "showarrow": false,
          "text": "-0.01",
          "x": "City_Ljubljana",
          "xref": "x",
          "y": "City_Warsaw",
          "yref": "y"
         },
         {
          "font": {
           "color": "#FFFFFF"
          },
          "showarrow": false,
          "text": "-0.06",
          "x": "City_London",
          "xref": "x",
          "y": "City_Warsaw",
          "yref": "y"
         },
         {
          "font": {
           "color": "#FFFFFF"
          },
          "showarrow": false,
          "text": "-0.01",
          "x": "City_Luxembourg",
          "xref": "x",
          "y": "City_Warsaw",
          "yref": "y"
         },
         {
          "font": {
           "color": "#FFFFFF"
          },
          "showarrow": false,
          "text": "-0.02",
          "x": "City_Lyon",
          "xref": "x",
          "y": "City_Warsaw",
          "yref": "y"
         },
         {
          "font": {
           "color": "#FFFFFF"
          },
          "showarrow": false,
          "text": "-0.04",
          "x": "City_Madrid",
          "xref": "x",
          "y": "City_Warsaw",
          "yref": "y"
         },
         {
          "font": {
           "color": "#FFFFFF"
          },
          "showarrow": false,
          "text": "-0.03",
          "x": "City_Milan",
          "xref": "x",
          "y": "City_Warsaw",
          "yref": "y"
         },
         {
          "font": {
           "color": "#FFFFFF"
          },
          "showarrow": false,
          "text": "-0.02",
          "x": "City_Munich",
          "xref": "x",
          "y": "City_Warsaw",
          "yref": "y"
         },
         {
          "font": {
           "color": "#FFFFFF"
          },
          "showarrow": false,
          "text": "-0.02",
          "x": "City_Oporto",
          "xref": "x",
          "y": "City_Warsaw",
          "yref": "y"
         },
         {
          "font": {
           "color": "#FFFFFF"
          },
          "showarrow": false,
          "text": "-0.01",
          "x": "City_Oslo",
          "xref": "x",
          "y": "City_Warsaw",
          "yref": "y"
         },
         {
          "font": {
           "color": "#FFFFFF"
          },
          "showarrow": false,
          "text": "-0.05",
          "x": "City_Paris",
          "xref": "x",
          "y": "City_Warsaw",
          "yref": "y"
         },
         {
          "font": {
           "color": "#FFFFFF"
          },
          "showarrow": false,
          "text": "-0.03",
          "x": "City_Prague",
          "xref": "x",
          "y": "City_Warsaw",
          "yref": "y"
         },
         {
          "font": {
           "color": "#FFFFFF"
          },
          "showarrow": false,
          "text": "-0.03",
          "x": "City_Rome",
          "xref": "x",
          "y": "City_Warsaw",
          "yref": "y"
         },
         {
          "font": {
           "color": "#FFFFFF"
          },
          "showarrow": false,
          "text": "-0.02",
          "x": "City_Stockholm",
          "xref": "x",
          "y": "City_Warsaw",
          "yref": "y"
         },
         {
          "font": {
           "color": "#FFFFFF"
          },
          "showarrow": false,
          "text": "-0.02",
          "x": "City_Vienna",
          "xref": "x",
          "y": "City_Warsaw",
          "yref": "y"
         },
         {
          "font": {
           "color": "#000000"
          },
          "showarrow": false,
          "text": "1.0",
          "x": "City_Warsaw",
          "xref": "x",
          "y": "City_Warsaw",
          "yref": "y"
         },
         {
          "font": {
           "color": "#FFFFFF"
          },
          "showarrow": false,
          "text": "-0.02",
          "x": "City_Zurich",
          "xref": "x",
          "y": "City_Warsaw",
          "yref": "y"
         },
         {
          "font": {
           "color": "#FFFFFF"
          },
          "showarrow": false,
          "text": "0.01",
          "x": "Rating",
          "xref": "x",
          "y": "City_Zurich",
          "yref": "y"
         },
         {
          "font": {
           "color": "#FFFFFF"
          },
          "showarrow": false,
          "text": "-0.02",
          "x": "City_Amsterdam",
          "xref": "x",
          "y": "City_Zurich",
          "yref": "y"
         },
         {
          "font": {
           "color": "#FFFFFF"
          },
          "showarrow": false,
          "text": "-0.01",
          "x": "City_Athens",
          "xref": "x",
          "y": "City_Zurich",
          "yref": "y"
         },
         {
          "font": {
           "color": "#FFFFFF"
          },
          "showarrow": false,
          "text": "-0.03",
          "x": "City_Barcelona",
          "xref": "x",
          "y": "City_Zurich",
          "yref": "y"
         },
         {
          "font": {
           "color": "#FFFFFF"
          },
          "showarrow": false,
          "text": "-0.03",
          "x": "City_Berlin",
          "xref": "x",
          "y": "City_Zurich",
          "yref": "y"
         },
         {
          "font": {
           "color": "#FFFFFF"
          },
          "showarrow": false,
          "text": "-0.01",
          "x": "City_Bratislava",
          "xref": "x",
          "y": "City_Zurich",
          "yref": "y"
         },
         {
          "font": {
           "color": "#FFFFFF"
          },
          "showarrow": false,
          "text": "-0.02",
          "x": "City_Brussels",
          "xref": "x",
          "y": "City_Zurich",
          "yref": "y"
         },
         {
          "font": {
           "color": "#FFFFFF"
          },
          "showarrow": false,
          "text": "-0.02",
          "x": "City_Budapest",
          "xref": "x",
          "y": "City_Zurich",
          "yref": "y"
         },
         {
          "font": {
           "color": "#FFFFFF"
          },
          "showarrow": false,
          "text": "-0.02",
          "x": "City_Copenhagen",
          "xref": "x",
          "y": "City_Zurich",
          "yref": "y"
         },
         {
          "font": {
           "color": "#FFFFFF"
          },
          "showarrow": false,
          "text": "-0.02",
          "x": "City_Dublin",
          "xref": "x",
          "y": "City_Zurich",
          "yref": "y"
         },
         {
          "font": {
           "color": "#FFFFFF"
          },
          "showarrow": false,
          "text": "-0.01",
          "x": "City_Edinburgh",
          "xref": "x",
          "y": "City_Zurich",
          "yref": "y"
         },
         {
          "font": {
           "color": "#FFFFFF"
          },
          "showarrow": false,
          "text": "-0.01",
          "x": "City_Geneva",
          "xref": "x",
          "y": "City_Zurich",
          "yref": "y"
         },
         {
          "font": {
           "color": "#FFFFFF"
          },
          "showarrow": false,
          "text": "-0.02",
          "x": "City_Hamburg",
          "xref": "x",
          "y": "City_Zurich",
          "yref": "y"
         },
         {
          "font": {
           "color": "#FFFFFF"
          },
          "showarrow": false,
          "text": "-0.01",
          "x": "City_Helsinki",
          "xref": "x",
          "y": "City_Zurich",
          "yref": "y"
         },
         {
          "font": {
           "color": "#FFFFFF"
          },
          "showarrow": false,
          "text": "-0.01",
          "x": "City_Krakow",
          "xref": "x",
          "y": "City_Zurich",
          "yref": "y"
         },
         {
          "font": {
           "color": "#FFFFFF"
          },
          "showarrow": false,
          "text": "-0.02",
          "x": "City_Lisbon",
          "xref": "x",
          "y": "City_Zurich",
          "yref": "y"
         },
         {
          "font": {
           "color": "#FFFFFF"
          },
          "showarrow": false,
          "text": "-0.01",
          "x": "City_Ljubljana",
          "xref": "x",
          "y": "City_Zurich",
          "yref": "y"
         },
         {
          "font": {
           "color": "#FFFFFF"
          },
          "showarrow": false,
          "text": "-0.05",
          "x": "City_London",
          "xref": "x",
          "y": "City_Zurich",
          "yref": "y"
         },
         {
          "font": {
           "color": "#FFFFFF"
          },
          "showarrow": false,
          "text": "-0.01",
          "x": "City_Luxembourg",
          "xref": "x",
          "y": "City_Zurich",
          "yref": "y"
         },
         {
          "font": {
           "color": "#FFFFFF"
          },
          "showarrow": false,
          "text": "-0.02",
          "x": "City_Lyon",
          "xref": "x",
          "y": "City_Zurich",
          "yref": "y"
         },
         {
          "font": {
           "color": "#FFFFFF"
          },
          "showarrow": false,
          "text": "-0.03",
          "x": "City_Madrid",
          "xref": "x",
          "y": "City_Zurich",
          "yref": "y"
         },
         {
          "font": {
           "color": "#FFFFFF"
          },
          "showarrow": false,
          "text": "-0.03",
          "x": "City_Milan",
          "xref": "x",
          "y": "City_Zurich",
          "yref": "y"
         },
         {
          "font": {
           "color": "#FFFFFF"
          },
          "showarrow": false,
          "text": "-0.02",
          "x": "City_Munich",
          "xref": "x",
          "y": "City_Zurich",
          "yref": "y"
         },
         {
          "font": {
           "color": "#FFFFFF"
          },
          "showarrow": false,
          "text": "-0.01",
          "x": "City_Oporto",
          "xref": "x",
          "y": "City_Zurich",
          "yref": "y"
         },
         {
          "font": {
           "color": "#FFFFFF"
          },
          "showarrow": false,
          "text": "-0.01",
          "x": "City_Oslo",
          "xref": "x",
          "y": "City_Zurich",
          "yref": "y"
         },
         {
          "font": {
           "color": "#FFFFFF"
          },
          "showarrow": false,
          "text": "-0.04",
          "x": "City_Paris",
          "xref": "x",
          "y": "City_Zurich",
          "yref": "y"
         },
         {
          "font": {
           "color": "#FFFFFF"
          },
          "showarrow": false,
          "text": "-0.02",
          "x": "City_Prague",
          "xref": "x",
          "y": "City_Zurich",
          "yref": "y"
         },
         {
          "font": {
           "color": "#FFFFFF"
          },
          "showarrow": false,
          "text": "-0.03",
          "x": "City_Rome",
          "xref": "x",
          "y": "City_Zurich",
          "yref": "y"
         },
         {
          "font": {
           "color": "#FFFFFF"
          },
          "showarrow": false,
          "text": "-0.02",
          "x": "City_Stockholm",
          "xref": "x",
          "y": "City_Zurich",
          "yref": "y"
         },
         {
          "font": {
           "color": "#FFFFFF"
          },
          "showarrow": false,
          "text": "-0.02",
          "x": "City_Vienna",
          "xref": "x",
          "y": "City_Zurich",
          "yref": "y"
         },
         {
          "font": {
           "color": "#FFFFFF"
          },
          "showarrow": false,
          "text": "-0.02",
          "x": "City_Warsaw",
          "xref": "x",
          "y": "City_Zurich",
          "yref": "y"
         },
         {
          "font": {
           "color": "#000000"
          },
          "showarrow": false,
          "text": "1.0",
          "x": "City_Zurich",
          "xref": "x",
          "y": "City_Zurich",
          "yref": "y"
         }
        ],
        "autosize": false,
        "height": 800,
        "template": {
         "data": {
          "bar": [
           {
            "error_x": {
             "color": "#2a3f5f"
            },
            "error_y": {
             "color": "#2a3f5f"
            },
            "marker": {
             "line": {
              "color": "#E5ECF6",
              "width": 0.5
             },
             "pattern": {
              "fillmode": "overlay",
              "size": 10,
              "solidity": 0.2
             }
            },
            "type": "bar"
           }
          ],
          "barpolar": [
           {
            "marker": {
             "line": {
              "color": "#E5ECF6",
              "width": 0.5
             },
             "pattern": {
              "fillmode": "overlay",
              "size": 10,
              "solidity": 0.2
             }
            },
            "type": "barpolar"
           }
          ],
          "carpet": [
           {
            "aaxis": {
             "endlinecolor": "#2a3f5f",
             "gridcolor": "white",
             "linecolor": "white",
             "minorgridcolor": "white",
             "startlinecolor": "#2a3f5f"
            },
            "baxis": {
             "endlinecolor": "#2a3f5f",
             "gridcolor": "white",
             "linecolor": "white",
             "minorgridcolor": "white",
             "startlinecolor": "#2a3f5f"
            },
            "type": "carpet"
           }
          ],
          "choropleth": [
           {
            "colorbar": {
             "outlinewidth": 0,
             "ticks": ""
            },
            "type": "choropleth"
           }
          ],
          "contour": [
           {
            "colorbar": {
             "outlinewidth": 0,
             "ticks": ""
            },
            "colorscale": [
             [
              0,
              "#0d0887"
             ],
             [
              0.1111111111111111,
              "#46039f"
             ],
             [
              0.2222222222222222,
              "#7201a8"
             ],
             [
              0.3333333333333333,
              "#9c179e"
             ],
             [
              0.4444444444444444,
              "#bd3786"
             ],
             [
              0.5555555555555556,
              "#d8576b"
             ],
             [
              0.6666666666666666,
              "#ed7953"
             ],
             [
              0.7777777777777778,
              "#fb9f3a"
             ],
             [
              0.8888888888888888,
              "#fdca26"
             ],
             [
              1,
              "#f0f921"
             ]
            ],
            "type": "contour"
           }
          ],
          "contourcarpet": [
           {
            "colorbar": {
             "outlinewidth": 0,
             "ticks": ""
            },
            "type": "contourcarpet"
           }
          ],
          "heatmap": [
           {
            "colorbar": {
             "outlinewidth": 0,
             "ticks": ""
            },
            "colorscale": [
             [
              0,
              "#0d0887"
             ],
             [
              0.1111111111111111,
              "#46039f"
             ],
             [
              0.2222222222222222,
              "#7201a8"
             ],
             [
              0.3333333333333333,
              "#9c179e"
             ],
             [
              0.4444444444444444,
              "#bd3786"
             ],
             [
              0.5555555555555556,
              "#d8576b"
             ],
             [
              0.6666666666666666,
              "#ed7953"
             ],
             [
              0.7777777777777778,
              "#fb9f3a"
             ],
             [
              0.8888888888888888,
              "#fdca26"
             ],
             [
              1,
              "#f0f921"
             ]
            ],
            "type": "heatmap"
           }
          ],
          "heatmapgl": [
           {
            "colorbar": {
             "outlinewidth": 0,
             "ticks": ""
            },
            "colorscale": [
             [
              0,
              "#0d0887"
             ],
             [
              0.1111111111111111,
              "#46039f"
             ],
             [
              0.2222222222222222,
              "#7201a8"
             ],
             [
              0.3333333333333333,
              "#9c179e"
             ],
             [
              0.4444444444444444,
              "#bd3786"
             ],
             [
              0.5555555555555556,
              "#d8576b"
             ],
             [
              0.6666666666666666,
              "#ed7953"
             ],
             [
              0.7777777777777778,
              "#fb9f3a"
             ],
             [
              0.8888888888888888,
              "#fdca26"
             ],
             [
              1,
              "#f0f921"
             ]
            ],
            "type": "heatmapgl"
           }
          ],
          "histogram": [
           {
            "marker": {
             "pattern": {
              "fillmode": "overlay",
              "size": 10,
              "solidity": 0.2
             }
            },
            "type": "histogram"
           }
          ],
          "histogram2d": [
           {
            "colorbar": {
             "outlinewidth": 0,
             "ticks": ""
            },
            "colorscale": [
             [
              0,
              "#0d0887"
             ],
             [
              0.1111111111111111,
              "#46039f"
             ],
             [
              0.2222222222222222,
              "#7201a8"
             ],
             [
              0.3333333333333333,
              "#9c179e"
             ],
             [
              0.4444444444444444,
              "#bd3786"
             ],
             [
              0.5555555555555556,
              "#d8576b"
             ],
             [
              0.6666666666666666,
              "#ed7953"
             ],
             [
              0.7777777777777778,
              "#fb9f3a"
             ],
             [
              0.8888888888888888,
              "#fdca26"
             ],
             [
              1,
              "#f0f921"
             ]
            ],
            "type": "histogram2d"
           }
          ],
          "histogram2dcontour": [
           {
            "colorbar": {
             "outlinewidth": 0,
             "ticks": ""
            },
            "colorscale": [
             [
              0,
              "#0d0887"
             ],
             [
              0.1111111111111111,
              "#46039f"
             ],
             [
              0.2222222222222222,
              "#7201a8"
             ],
             [
              0.3333333333333333,
              "#9c179e"
             ],
             [
              0.4444444444444444,
              "#bd3786"
             ],
             [
              0.5555555555555556,
              "#d8576b"
             ],
             [
              0.6666666666666666,
              "#ed7953"
             ],
             [
              0.7777777777777778,
              "#fb9f3a"
             ],
             [
              0.8888888888888888,
              "#fdca26"
             ],
             [
              1,
              "#f0f921"
             ]
            ],
            "type": "histogram2dcontour"
           }
          ],
          "mesh3d": [
           {
            "colorbar": {
             "outlinewidth": 0,
             "ticks": ""
            },
            "type": "mesh3d"
           }
          ],
          "parcoords": [
           {
            "line": {
             "colorbar": {
              "outlinewidth": 0,
              "ticks": ""
             }
            },
            "type": "parcoords"
           }
          ],
          "pie": [
           {
            "automargin": true,
            "type": "pie"
           }
          ],
          "scatter": [
           {
            "marker": {
             "colorbar": {
              "outlinewidth": 0,
              "ticks": ""
             }
            },
            "type": "scatter"
           }
          ],
          "scatter3d": [
           {
            "line": {
             "colorbar": {
              "outlinewidth": 0,
              "ticks": ""
             }
            },
            "marker": {
             "colorbar": {
              "outlinewidth": 0,
              "ticks": ""
             }
            },
            "type": "scatter3d"
           }
          ],
          "scattercarpet": [
           {
            "marker": {
             "colorbar": {
              "outlinewidth": 0,
              "ticks": ""
             }
            },
            "type": "scattercarpet"
           }
          ],
          "scattergeo": [
           {
            "marker": {
             "colorbar": {
              "outlinewidth": 0,
              "ticks": ""
             }
            },
            "type": "scattergeo"
           }
          ],
          "scattergl": [
           {
            "marker": {
             "colorbar": {
              "outlinewidth": 0,
              "ticks": ""
             }
            },
            "type": "scattergl"
           }
          ],
          "scattermapbox": [
           {
            "marker": {
             "colorbar": {
              "outlinewidth": 0,
              "ticks": ""
             }
            },
            "type": "scattermapbox"
           }
          ],
          "scatterpolar": [
           {
            "marker": {
             "colorbar": {
              "outlinewidth": 0,
              "ticks": ""
             }
            },
            "type": "scatterpolar"
           }
          ],
          "scatterpolargl": [
           {
            "marker": {
             "colorbar": {
              "outlinewidth": 0,
              "ticks": ""
             }
            },
            "type": "scatterpolargl"
           }
          ],
          "scatterternary": [
           {
            "marker": {
             "colorbar": {
              "outlinewidth": 0,
              "ticks": ""
             }
            },
            "type": "scatterternary"
           }
          ],
          "surface": [
           {
            "colorbar": {
             "outlinewidth": 0,
             "ticks": ""
            },
            "colorscale": [
             [
              0,
              "#0d0887"
             ],
             [
              0.1111111111111111,
              "#46039f"
             ],
             [
              0.2222222222222222,
              "#7201a8"
             ],
             [
              0.3333333333333333,
              "#9c179e"
             ],
             [
              0.4444444444444444,
              "#bd3786"
             ],
             [
              0.5555555555555556,
              "#d8576b"
             ],
             [
              0.6666666666666666,
              "#ed7953"
             ],
             [
              0.7777777777777778,
              "#fb9f3a"
             ],
             [
              0.8888888888888888,
              "#fdca26"
             ],
             [
              1,
              "#f0f921"
             ]
            ],
            "type": "surface"
           }
          ],
          "table": [
           {
            "cells": {
             "fill": {
              "color": "#EBF0F8"
             },
             "line": {
              "color": "white"
             }
            },
            "header": {
             "fill": {
              "color": "#C8D4E3"
             },
             "line": {
              "color": "white"
             }
            },
            "type": "table"
           }
          ]
         },
         "layout": {
          "annotationdefaults": {
           "arrowcolor": "#2a3f5f",
           "arrowhead": 0,
           "arrowwidth": 1
          },
          "autotypenumbers": "strict",
          "coloraxis": {
           "colorbar": {
            "outlinewidth": 0,
            "ticks": ""
           }
          },
          "colorscale": {
           "diverging": [
            [
             0,
             "#8e0152"
            ],
            [
             0.1,
             "#c51b7d"
            ],
            [
             0.2,
             "#de77ae"
            ],
            [
             0.3,
             "#f1b6da"
            ],
            [
             0.4,
             "#fde0ef"
            ],
            [
             0.5,
             "#f7f7f7"
            ],
            [
             0.6,
             "#e6f5d0"
            ],
            [
             0.7,
             "#b8e186"
            ],
            [
             0.8,
             "#7fbc41"
            ],
            [
             0.9,
             "#4d9221"
            ],
            [
             1,
             "#276419"
            ]
           ],
           "sequential": [
            [
             0,
             "#0d0887"
            ],
            [
             0.1111111111111111,
             "#46039f"
            ],
            [
             0.2222222222222222,
             "#7201a8"
            ],
            [
             0.3333333333333333,
             "#9c179e"
            ],
            [
             0.4444444444444444,
             "#bd3786"
            ],
            [
             0.5555555555555556,
             "#d8576b"
            ],
            [
             0.6666666666666666,
             "#ed7953"
            ],
            [
             0.7777777777777778,
             "#fb9f3a"
            ],
            [
             0.8888888888888888,
             "#fdca26"
            ],
            [
             1,
             "#f0f921"
            ]
           ],
           "sequentialminus": [
            [
             0,
             "#0d0887"
            ],
            [
             0.1111111111111111,
             "#46039f"
            ],
            [
             0.2222222222222222,
             "#7201a8"
            ],
            [
             0.3333333333333333,
             "#9c179e"
            ],
            [
             0.4444444444444444,
             "#bd3786"
            ],
            [
             0.5555555555555556,
             "#d8576b"
            ],
            [
             0.6666666666666666,
             "#ed7953"
            ],
            [
             0.7777777777777778,
             "#fb9f3a"
            ],
            [
             0.8888888888888888,
             "#fdca26"
            ],
            [
             1,
             "#f0f921"
            ]
           ]
          },
          "colorway": [
           "#636efa",
           "#EF553B",
           "#00cc96",
           "#ab63fa",
           "#FFA15A",
           "#19d3f3",
           "#FF6692",
           "#B6E880",
           "#FF97FF",
           "#FECB52"
          ],
          "font": {
           "color": "#2a3f5f"
          },
          "geo": {
           "bgcolor": "white",
           "lakecolor": "white",
           "landcolor": "#E5ECF6",
           "showlakes": true,
           "showland": true,
           "subunitcolor": "white"
          },
          "hoverlabel": {
           "align": "left"
          },
          "hovermode": "closest",
          "mapbox": {
           "style": "light"
          },
          "paper_bgcolor": "white",
          "plot_bgcolor": "#E5ECF6",
          "polar": {
           "angularaxis": {
            "gridcolor": "white",
            "linecolor": "white",
            "ticks": ""
           },
           "bgcolor": "#E5ECF6",
           "radialaxis": {
            "gridcolor": "white",
            "linecolor": "white",
            "ticks": ""
           }
          },
          "scene": {
           "xaxis": {
            "backgroundcolor": "#E5ECF6",
            "gridcolor": "white",
            "gridwidth": 2,
            "linecolor": "white",
            "showbackground": true,
            "ticks": "",
            "zerolinecolor": "white"
           },
           "yaxis": {
            "backgroundcolor": "#E5ECF6",
            "gridcolor": "white",
            "gridwidth": 2,
            "linecolor": "white",
            "showbackground": true,
            "ticks": "",
            "zerolinecolor": "white"
           },
           "zaxis": {
            "backgroundcolor": "#E5ECF6",
            "gridcolor": "white",
            "gridwidth": 2,
            "linecolor": "white",
            "showbackground": true,
            "ticks": "",
            "zerolinecolor": "white"
           }
          },
          "shapedefaults": {
           "line": {
            "color": "#2a3f5f"
           }
          },
          "ternary": {
           "aaxis": {
            "gridcolor": "white",
            "linecolor": "white",
            "ticks": ""
           },
           "baxis": {
            "gridcolor": "white",
            "linecolor": "white",
            "ticks": ""
           },
           "bgcolor": "#E5ECF6",
           "caxis": {
            "gridcolor": "white",
            "linecolor": "white",
            "ticks": ""
           }
          },
          "title": {
           "x": 0.05
          },
          "xaxis": {
           "automargin": true,
           "gridcolor": "white",
           "linecolor": "white",
           "ticks": "",
           "title": {
            "standoff": 15
           },
           "zerolinecolor": "white",
           "zerolinewidth": 2
          },
          "yaxis": {
           "automargin": true,
           "gridcolor": "white",
           "linecolor": "white",
           "ticks": "",
           "title": {
            "standoff": 15
           },
           "zerolinecolor": "white",
           "zerolinewidth": 2
          }
         }
        },
        "width": 1200,
        "xaxis": {
         "dtick": 1,
         "gridcolor": "rgb(0, 0, 0)",
         "side": "top",
         "ticks": ""
        },
        "yaxis": {
         "dtick": 1,
         "ticks": "",
         "ticksuffix": "  "
        }
       }
      },
      "text/html": [
       "<div>                            <div id=\"885e9562-d0bb-46a6-bc6a-47f6d03db213\" class=\"plotly-graph-div\" style=\"height:800px; width:1200px;\"></div>            <script type=\"text/javascript\">                require([\"plotly\"], function(Plotly) {                    window.PLOTLYENV=window.PLOTLYENV || {};                                    if (document.getElementById(\"885e9562-d0bb-46a6-bc6a-47f6d03db213\")) {                    Plotly.newPlot(                        \"885e9562-d0bb-46a6-bc6a-47f6d03db213\",                        [{\"colorscale\":[[0.0,\"#0d0887\"],[0.1111111111111111,\"#46039f\"],[0.2222222222222222,\"#7201a8\"],[0.3333333333333333,\"#9c179e\"],[0.4444444444444444,\"#bd3786\"],[0.5555555555555556,\"#d8576b\"],[0.6666666666666666,\"#ed7953\"],[0.7777777777777778,\"#fb9f3a\"],[0.8888888888888888,\"#fdca26\"],[1.0,\"#f0f921\"]],\"reversescale\":false,\"showscale\":true,\"type\":\"heatmap\",\"x\":[\"Rating\",\"City_Amsterdam\",\"City_Athens\",\"City_Barcelona\",\"City_Berlin\",\"City_Bratislava\",\"City_Brussels\",\"City_Budapest\",\"City_Copenhagen\",\"City_Dublin\",\"City_Edinburgh\",\"City_Geneva\",\"City_Hamburg\",\"City_Helsinki\",\"City_Krakow\",\"City_Lisbon\",\"City_Ljubljana\",\"City_London\",\"City_Luxembourg\",\"City_Lyon\",\"City_Madrid\",\"City_Milan\",\"City_Munich\",\"City_Oporto\",\"City_Oslo\",\"City_Paris\",\"City_Prague\",\"City_Rome\",\"City_Stockholm\",\"City_Vienna\",\"City_Warsaw\",\"City_Zurich\"],\"y\":[\"Rating\",\"City_Amsterdam\",\"City_Athens\",\"City_Barcelona\",\"City_Berlin\",\"City_Bratislava\",\"City_Brussels\",\"City_Budapest\",\"City_Copenhagen\",\"City_Dublin\",\"City_Edinburgh\",\"City_Geneva\",\"City_Hamburg\",\"City_Helsinki\",\"City_Krakow\",\"City_Lisbon\",\"City_Ljubljana\",\"City_London\",\"City_Luxembourg\",\"City_Lyon\",\"City_Madrid\",\"City_Milan\",\"City_Munich\",\"City_Oporto\",\"City_Oslo\",\"City_Paris\",\"City_Prague\",\"City_Rome\",\"City_Stockholm\",\"City_Vienna\",\"City_Warsaw\",\"City_Zurich\"],\"z\":[[1.0,0.03453493537676749,0.04479181296199608,-0.012889745712083286,0.04696663563508955,-0.0029881589925866278,-0.020753001562556248,0.020949881867227245,-0.0014431962733506907,0.013431145140138394,0.01748887249096045,-0.005027484426245484,0.006538999769892055,-0.006737317738891932,0.02433278750538737,0.014564723744630428,0.01206810316488989,-0.023273412218729052,-0.008559353312818478,-0.010078840467619537,-0.08346180995321548,-0.05970374820533701,0.012207020869795358,0.031602661415866366,-0.01467968700850699,-0.02828820219305939,0.011442081485944656,0.08308225429000134,-0.026603538188711633,0.022037192346426968,0.019616635599466043,0.00819722298093422],[0.03453493537676749,1.0,-0.021098328937544254,-0.045248568123318185,-0.03986404439383473,-0.01454639711318303,-0.02756239385967108,-0.024107527499370864,-0.02162130908162662,-0.021853655790284244,-0.02054541651142335,-0.01843026332300516,-0.026042279865621253,-0.01627334157541471,-0.017678774848222435,-0.030618095195165958,-0.011325392252559716,-0.06849741579467239,-0.012136253885535684,-0.02522967169771151,-0.04848823551311073,-0.039648517501472934,-0.02524413267999201,-0.01904116814055461,-0.016468821028488522,-0.062395735776237804,-0.03231792904966733,-0.03910561587701691,-0.02416777592764251,-0.028947108397601607,-0.022729094902411134,-0.019505791023193768],[0.04479181296199608,-0.021098328937544254,1.0,-0.03420809967361362,-0.030137378055835357,-0.010997134781891694,-0.0208372807251143,-0.018225387847308844,-0.016345796713888385,-0.016521451761069793,-0.015532417599232105,-0.013933353273103952,-0.01968806842557817,-0.012302711748079936,-0.013365224960648332,-0.023147403237113017,-0.00856204213937737,-0.05178432211386585,-0.009175056798465543,-0.019073733379047997,-0.03665730126331564,-0.029974438857490498,-0.019084665939872528,-0.014395199774696436,-0.012450495001611227,-0.047171427454343044,-0.024432484474709738,-0.02956400304365977,-0.018270935901644882,-0.02188413049070084,-0.017183287254387516,-0.014746456544560518],[-0.012889745712083286,-0.045248568123318185,-0.03420809967361362,1.0,-0.06463418065262132,-0.023585024378601712,-0.044688710617134655,-0.03908710998032446,-0.03505604156271106,-0.035432760467422435,-0.03331162661930158,-0.02988219051047236,-0.04222405044534421,-0.02638503230670282,-0.02866375312971873,-0.04964311891017198,-0.018362598676188502,-0.11105933715534569,-0.019677301638895226,-0.040906515711396606,-0.07861714538342075,-0.06428473281539766,-0.0409299622471241,-0.030872690419336695,-0.02670197592032698,-0.10116628454132306,-0.052399170638037056,-0.06340449092812078,-0.03918479469486275,-0.04693383880113726,-0.036852167117800844,-0.03162601386627988],[0.04696663563508955,-0.03986404439383473,-0.030137378055835357,-0.06463418065262132,1.0,-0.0207784356025564,-0.0393708092395222,-0.03443579216110898,-0.03088441590724855,-0.03121630572750729,-0.029347584187937092,-0.02632624674106772,-0.03719944058457994,-0.023245246044926705,-0.025252801903982946,-0.043735649063857844,-0.016177472109587303,-0.09784341318038459,-0.017335727043250863,-0.03603869085695689,-0.06926180216664575,-0.05663492899520529,-0.036059347283886406,-0.027198878383939844,-0.02352447375992169,-0.08912762161055658,-0.0461637340395394,-0.05585943480550869,-0.0345218525152476,-0.041348769942123914,-0.0324668047393078,-0.027862557270971523],[-0.0029881589925866278,-0.01454639711318303,-0.010997134781891694,-0.023585024378601712,-0.0207784356025564,1.0,-0.014366415514880607,-0.012565626877537844,-0.011269729030931507,-0.011390835687236015,-0.010708938854591718,-0.009606452265903077,-0.013574082694310154,-0.008482194546608837,-0.009214752047905471,-0.015959146367599368,-0.005903162540875963,-0.03570307942089414,-0.006325809978675334,-0.013150524905737078,-0.025273644318100533,-0.02066609598118429,-0.013158062439713701,-0.009924875712489166,-0.008584084791040354,-0.03252268547797383,-0.016845155020707277,-0.020383118009084062,-0.012597030316552509,-0.015088173738157197,-0.011847143006071491,-0.010167052260132429],[-0.020753001562556248,-0.02756239385967108,-0.0208372807251143,-0.044688710617134655,-0.0393708092395222,-0.014366415514880607,1.0,-0.023809246674455917,-0.021353790070862185,-0.021583261969237842,-0.02029120944745106,-0.018202226907925594,-0.02572006047911739,-0.016071992608816362,-0.017460036549765568,-0.03023925955171873,-0.011185263931906782,-0.06764990185163906,-0.011986092828146042,-0.02491750665770393,-0.04788829381905286,-0.039157949046980764,-0.02493178871521762,-0.01880557304103832,-0.016265053407695396,-0.06162371751185974,-0.031918061475661064,-0.038621764708002826,-0.023868749652955223,-0.028588947762009223,-0.0224478693317988,-0.019264447175834875],[0.020949881867227245,-0.024107527499370864,-0.018225387847308844,-0.03908710998032446,-0.03443579216110898,-0.012565626877537844,-0.023809246674455917,1.0,-0.018677154240304358,-0.018877862499848064,-0.017747765025071513,-0.01592063040557107,-0.022496125280069956,-0.01405741481525083,-0.015271471462403367,-0.026448855818373408,-0.009783223445649537,-0.05917018229698725,-0.010483670755729785,-0.021794169259197905,-0.0418856346810268,-0.034249613378113906,-0.021806661102105968,-0.01644834884576545,-0.014226276001319118,-0.05389936273656901,-0.027917224776218347,-0.03378063819538994,-0.02087687091200546,-0.025005405838828473,-0.01963409382994284,-0.016849704434822192],[-0.0014431962733506907,-0.02162130908162662,-0.016345796713888385,-0.03505604156271106,-0.03088441590724855,-0.011269729030931507,-0.021353790070862185,-0.018677154240304358,1.0,-0.016930981409035668,-0.015917431313732563,-0.01427872977774999,-0.020176091381917276,-0.012607668315098226,-0.013696518841614224,-0.023721175326642693,-0.008774275916040235,-0.05306793904487903,-0.009402485830434478,-0.01954652835064474,-0.037565953353872944,-0.030717437812473183,-0.019557731905074864,-0.014752024415859093,-0.01275911478325913,-0.04834070109680429,-0.02503811083918148,-0.030296828217501733,-0.01872383132851252,-0.022426588888758182,-0.017609222316387754,-0.015111988051402132],[0.013431145140138394,-0.021853655790284244,-0.016521451761069793,-0.035432760467422435,-0.03121630572750729,-0.011390835687236015,-0.021583261969237842,-0.018877862499848064,-0.016930981409035668,1.0,-0.016088483064672705,-0.014432171729629455,-0.020392907505698863,-0.012743152721976824,-0.013843704243797801,-0.023976087598227763,-0.00886856595751034,-0.0536382172332061,-0.009503526735388741,-0.01975657907009068,-0.03796964424911006,-0.0310475332542983,-0.01976790302005247,-0.01491055248213482,-0.012896226662752003,-0.048860179485075636,-0.0253071751508071,-0.030622403708445933,-0.018925041188943118,-0.022667589287718507,-0.01779845437591701,-0.015274384355518755],[0.01748887249096045,-0.02054541651142335,-0.015532417599232105,-0.03331162661930158,-0.029347584187937092,-0.010708938854591718,-0.02029120944745106,-0.017747765025071513,-0.015917431313732563,-0.016088483064672705,1.0,-0.013568209465505084,-0.019172113929321985,-0.011980301275637782,-0.013014969782595143,-0.02254079183579737,-0.008337661359940083,-0.050427238561905424,-0.008934611077420487,-0.01857387842707499,-0.035696643315639556,-0.029188915048502424,-0.01858452448422665,-0.014017952607137243,-0.012124211653857898,-0.04593523152268591,-0.02379219564865783,-0.02878923530271228,-0.017792119426331462,-0.021310624990859044,-0.016732974195344946,-0.014360004181964857],[-0.005027484426245484,-0.01843026332300516,-0.013933353273103952,-0.02988219051047236,-0.02632624674106772,-0.009606452265903077,-0.018202226907925594,-0.01592063040557107,-0.01427872977774999,-0.014432171729629455,-0.013568209465505084,1.0,-0.017198342412751182,-0.010746927767376702,-0.011675077022693407,-0.020220214509245868,-0.0074792980846263134,-0.045235748072138864,-0.008014791754352654,-0.016661695329960393,-0.032021669440910464,-0.02618391260929743,-0.016671245374202438,-0.012574802640545089,-0.010876022554237653,-0.0412061937170068,-0.021342786143732664,-0.02582537994310971,-0.015960418515697742,-0.019116693494189565,-0.015010312418139035,-0.012881639963147616],[0.006538999769892055,-0.026042279865621253,-0.01968806842557817,-0.04222405044534421,-0.03719944058457994,-0.013574082694310154,-0.02572006047911739,-0.022496125280069956,-0.020176091381917276,-0.020392907505698863,-0.019172113929321985,-0.017198342412751182,1.0,-0.015185594242937204,-0.01649708514463543,-0.02857151175563438,-0.010568377157971228,-0.06391889201902612,-0.01132503894673031,-0.023543262796301374,-0.04524717106476129,-0.0369983200021424,-0.023556757173485546,-0.01776841295649139,-0.015368007402733435,-0.05822506223423407,-0.03015772483149572,-0.03649170716269512,-0.02255234656573939,-0.027012217533515476,-0.02120983026735453,-0.01820197938407787],[-0.006737317738891932,-0.01627334157541471,-0.012302711748079936,-0.02638503230670282,-0.023245246044926705,-0.008482194546608837,-0.016071992608816362,-0.01405741481525083,-0.012607668315098226,-0.012743152721976824,-0.011980301275637782,-0.010746927767376702,-0.015185594242937204,1.0,-0.010308725001905526,-0.017853812051962518,-0.006603984454391552,-0.039941739675442005,-0.007076808485508502,-0.01471175178444093,-0.028274124763942147,-0.023119569493075916,-0.014720184172480473,-0.01110315436229203,-0.009603185093188582,-0.03638377019510841,-0.0188450074207271,-0.022802996450110236,-0.014092546462335083,-0.016879437779662023,-0.013253632726406193,-0.01137408204635645],[0.02433278750538737,-0.017678774848222435,-0.013365224960648332,-0.02866375312971873,-0.025252801903982946,-0.009214752047905471,-0.017460036549765568,-0.015271471462403367,-0.013696518841614224,-0.013843704243797801,-0.013014969782595143,-0.011675077022693407,-0.01649708514463543,-0.010308725001905526,1.0,-0.01939574131019156,-0.007174331942170525,-0.04339127397382548,-0.0076879910176719255,-0.015982319686142204,-0.03071599544665404,-0.02511627140386514,-0.015991480330186457,-0.01206206882381015,-0.010432555987442301,-0.039526023492344985,-0.020472540422026276,-0.024772357799909682,-0.015309637224239774,-0.01833721603447766,-0.014398271418646753,-0.012356394946354076],[0.014564723744630428,-0.030618095195165958,-0.023147403237113017,-0.04964311891017198,-0.043735649063857844,-0.015959146367599368,-0.03023925955171873,-0.026448855818373408,-0.023721175326642693,-0.023976087598227763,-0.02254079183579737,-0.020220214509245868,-0.02857151175563438,-0.017853812051962518,-0.01939574131019156,1.0,-0.01242531681369219,-0.0751498997286957,-0.013314929504989283,-0.02767998290555039,-0.05319742350214435,-0.043499190152789184,-0.027695848341578275,-0.020890450535671203,-0.01806827651207525,-0.06845562321852006,-0.03545665335465904,-0.0429035618043744,-0.02651495558711528,-0.03175845786702853,-0.024936549547509405,-0.02140019769382206],[0.01206810316488989,-0.011325392252559716,-0.00856204213937737,-0.018362598676188502,-0.016177472109587303,-0.005903162540875963,-0.011185263931906782,-0.009783223445649537,-0.008774275916040235,-0.00886856595751034,-0.008337661359940083,-0.0074792980846263134,-0.010568377157971228,-0.006603984454391552,-0.007174331942170525,-0.01242531681369219,1.0,-0.027797355999545893,-0.004925087550286029,-0.01023860765835636,-0.019677307949661157,-0.01609000782082624,-0.010244476158180605,-0.007727213111759141,-0.006683313168981023,-0.025321195845180475,-0.013115136805373457,-0.015869689586150294,-0.009807673229479376,-0.011747203422937929,-0.009223833267574496,-0.007915764570590426],[-0.023273412218729052,-0.06849741579467239,-0.05178432211386585,-0.11105933715534569,-0.09784341318038459,-0.03570307942089414,-0.06764990185163906,-0.05917018229698725,-0.05306793904487903,-0.0536382172332061,-0.050427238561905424,-0.045235748072138864,-0.06391889201902612,-0.039941739675442005,-0.04339127397382548,-0.0751498997286957,-0.027797355999545893,1.0,-0.029787557219562024,-0.06192440405536039,-0.11901086640448315,-0.0973144180144012,-0.06195989749025195,-0.04673516975366349,-0.040421529851933785,-0.1531458197250225,-0.07932201895776633,-0.09598190525094065,-0.05931805770578009,-0.07104858351406965,-0.05578691920423238,-0.04787555300805781],[-0.008559353312818478,-0.012136253885535684,-0.009175056798465543,-0.019677301638895226,-0.017335727043250863,-0.006325809978675334,-0.011986092828146042,-0.010483670755729785,-0.009402485830434478,-0.009503526735388741,-0.008934611077420487,-0.008014791754352654,-0.01132503894673031,-0.007076808485508502,-0.0076879910176719255,-0.013314929504989283,-0.004925087550286029,-0.029787557219562024,1.0,-0.010971659012350627,-0.021086139864779096,-0.017242000592930042,-0.010977947677873677,-0.008280456699480087,-0.007161816880732449,-0.027134111968000474,-0.014054138387795883,-0.017005908281775603,-0.010509871065386898,-0.012588265378056561,-0.009884230041377543,-0.008482507835885455],[-0.010078840467619537,-0.02522967169771151,-0.019073733379047997,-0.040906515711396606,-0.03603869085695689,-0.013150524905737078,-0.02491750665770393,-0.021794169259197905,-0.01954652835064474,-0.01975657907009068,-0.01857387842707499,-0.016661695329960393,-0.023543262796301374,-0.01471175178444093,-0.015982319686142204,-0.02767998290555039,-0.01023860765835636,-0.06192440405536039,-0.010971659012350627,1.0,-0.04383530463172393,-0.03584384592430405,-0.02282170581133823,-0.01721397772371802,-0.01488847302999793,-0.05640824122652174,-0.029216700710331608,-0.035353041137508534,-0.021848636248538996,-0.026169343994241628,-0.0205480110486009,-0.017634015396441292],[-0.08346180995321548,-0.04848823551311073,-0.03665730126331564,-0.07861714538342075,-0.06926180216664575,-0.025273644318100533,-0.04788829381905286,-0.0418856346810268,-0.037565953353872944,-0.03796964424911006,-0.035696643315639556,-0.032021669440910464,-0.04524717106476129,-0.028274124763942147,-0.03071599544665404,-0.05319742350214435,-0.019677307949661157,-0.11901086640448315,-0.021086139864779096,-0.04383530463172393,1.0,-0.06888733486892462,-0.04386042987200195,-0.033083086295601714,-0.028613760629101467,-0.10840949966542927,-0.056150800610184744,-0.06794407019318006,-0.041990313340285954,-0.050294166726374656,-0.03949067633491736,-0.03389034553557078],[-0.05970374820533701,-0.039648517501472934,-0.029974438857490498,-0.06428473281539766,-0.05663492899520529,-0.02066609598118429,-0.039157949046980764,-0.034249613378113906,-0.030717437812473183,-0.0310475332542983,-0.029188915048502424,-0.02618391260929743,-0.0369983200021424,-0.023119569493075916,-0.02511627140386514,-0.043499190152789184,-0.01609000782082624,-0.0973144180144012,-0.017242000592930042,-0.03584384592430405,-0.06888733486892462,1.0,-0.03586439067125838,-0.02705182632680529,-0.02339728754986608,-0.08864574879505525,-0.045914147569108416,-0.05555742805792992,-0.03433520844276749,-0.041125215808966775,-0.03229127138244932,-0.02771191700169645],[0.012207020869795358,-0.02524413267999201,-0.019084665939872528,-0.0409299622471241,-0.036059347283886406,-0.013158062439713701,-0.02493178871521762,-0.021806661102105968,-0.019557731905074864,-0.01976790302005247,-0.01858452448422665,-0.016671245374202438,-0.023556757173485546,-0.014720184172480473,-0.015991480330186457,-0.027695848341578275,-0.010244476158180605,-0.06195989749025195,-0.010977947677873677,-0.02282170581133823,-0.04386042987200195,-0.03586439067125838,1.0,-0.01722384432165969,-0.014897006709993686,-0.056440572942392374,-0.0292334469524675,-0.03537330456810606,-0.02186115931048873,-0.026184343571894718,-0.020559788626495174,-0.01764412274889635],[0.031602661415866366,-0.01904116814055461,-0.014395199774696436,-0.030872690419336695,-0.027198878383939844,-0.009924875712489166,-0.01880557304103832,-0.01644834884576545,-0.014752024415859093,-0.01491055248213482,-0.014017952607137243,-0.012574802640545089,-0.01776841295649139,-0.01110315436229203,-0.01206206882381015,-0.020890450535671203,-0.007727213111759141,-0.04673516975366349,-0.008280456699480087,-0.01721397772371802,-0.033083086295601714,-0.02705182632680529,-0.01722384432165969,1.0,-0.011236528232193356,-0.04257204844265131,-0.022050231862040044,-0.026681409439041667,-0.01648945580564116,-0.019750351296389405,-0.015507856702149233,-0.013308625501742912],[-0.01467968700850699,-0.016468821028488522,-0.012450495001611227,-0.02670197592032698,-0.02352447375992169,-0.008584084791040354,-0.016265053407695396,-0.014226276001319118,-0.01275911478325913,-0.012896226662752003,-0.012124211653857898,-0.010876022554237653,-0.015368007402733435,-0.009603185093188582,-0.010432555987442301,-0.01806827651207525,-0.006683313168981023,-0.040421529851933785,-0.007161816880732449,-0.01488847302999793,-0.028613760629101467,-0.02339728754986608,-0.014897006709993686,-0.011236528232193356,1.0,-0.036820821151455706,-0.019071378367757855,-0.023076911752253734,-0.01426182965854336,-0.017082197812079022,-0.013412838680794547,-0.011510710367425871],[-0.02828820219305939,-0.062395735776237804,-0.047171427454343044,-0.10116628454132306,-0.08912762161055658,-0.03252268547797383,-0.06162371751185974,-0.05389936273656901,-0.04834070109680429,-0.048860179485075636,-0.04593523152268591,-0.0412061937170068,-0.05822506223423407,-0.03638377019510841,-0.039526023492344985,-0.06845562321852006,-0.025321195845180475,-0.1531458197250225,-0.027134111968000474,-0.05640824122652174,-0.10840949966542927,-0.08864574879505525,-0.056440572942392374,-0.04257204844265131,-0.036820821151455706,1.0,-0.0722560943169395,-0.08743193491108879,-0.05403406555459248,-0.06471964807414844,-0.05081747727347583,-0.04361084751848985],[0.011442081485944656,-0.03231792904966733,-0.024432484474709738,-0.052399170638037056,-0.0461637340395394,-0.016845155020707277,-0.031918061475661064,-0.027917224776218347,-0.02503811083918148,-0.0253071751508071,-0.02379219564865783,-0.021342786143732664,-0.03015772483149572,-0.0188450074207271,-0.020472540422026276,-0.03545665335465904,-0.013115136805373457,-0.07932201895776633,-0.014054138387795883,-0.029216700710331608,-0.056150800610184744,-0.045914147569108416,-0.0292334469524675,-0.022050231862040044,-0.019071378367757855,-0.0722560943169395,1.0,-0.04528545154535749,-0.027986994225387835,-0.03352160157355394,-0.026320959350442635,-0.02258827880406496],[0.08308225429000134,-0.03910561587701691,-0.02956400304365977,-0.06340449092812078,-0.05585943480550869,-0.020383118009084062,-0.038621764708002826,-0.03378063819538994,-0.030296828217501733,-0.030622403708445933,-0.02878923530271228,-0.02582537994310971,-0.03649170716269512,-0.022802996450110236,-0.024772357799909682,-0.0429035618043744,-0.015869689586150294,-0.09598190525094065,-0.017005908281775603,-0.035353041137508534,-0.06794407019318006,-0.05555742805792992,-0.03537330456810606,-0.026681409439041667,-0.023076911752253734,-0.08743193491108879,-0.04528545154535749,1.0,-0.03386506121875308,-0.04056209396038883,-0.03184911150374433,-0.027332461584316892],[-0.026603538188711633,-0.02416777592764251,-0.018270935901644882,-0.03918479469486275,-0.0345218525152476,-0.012597030316552509,-0.023868749652955223,-0.02087687091200546,-0.01872383132851252,-0.018925041188943118,-0.017792119426331462,-0.015960418515697742,-0.02255234656573939,-0.014092546462335083,-0.015309637224239774,-0.02651495558711528,-0.009807673229479376,-0.05931805770578009,-0.010509871065386898,-0.021848636248538996,-0.041990313340285954,-0.03433520844276749,-0.02186115931048873,-0.01648945580564116,-0.01426182965854336,-0.05403406555459248,-0.027986994225387835,-0.03386506121875308,1.0,-0.025067898203510866,-0.019683162457732325,-0.01689181444419836],[0.022037192346426968,-0.028947108397601607,-0.02188413049070084,-0.04693383880113726,-0.041348769942123914,-0.015088173738157197,-0.028588947762009223,-0.025005405838828473,-0.022426588888758182,-0.022667589287718507,-0.021310624990859044,-0.019116693494189565,-0.027012217533515476,-0.016879437779662023,-0.01833721603447766,-0.03175845786702853,-0.011747203422937929,-0.07104858351406965,-0.012588265378056561,-0.026169343994241628,-0.050294166726374656,-0.041125215808966775,-0.026184343571894718,-0.019750351296389405,-0.017082197812079022,-0.06471964807414844,-0.03352160157355394,-0.04056209396038883,-0.025067898203510866,1.0,-0.023575633892727817,-0.020232278932589588],[0.019616635599466043,-0.022729094902411134,-0.017183287254387516,-0.036852167117800844,-0.0324668047393078,-0.011847143006071491,-0.0224478693317988,-0.01963409382994284,-0.017609222316387754,-0.01779845437591701,-0.016732974195344946,-0.015010312418139035,-0.02120983026735453,-0.013253632726406193,-0.014398271418646753,-0.024936549547509405,-0.009223833267574496,-0.05578691920423238,-0.009884230041377543,-0.0205480110486009,-0.03949067633491736,-0.03229127138244932,-0.020559788626495174,-0.015507856702149233,-0.013412838680794547,-0.05081747727347583,-0.026320959350442635,-0.03184911150374433,-0.019683162457732325,-0.023575633892727817,1.0,-0.015886263375065848],[0.00819722298093422,-0.019505791023193768,-0.014746456544560518,-0.03162601386627988,-0.027862557270971523,-0.010167052260132429,-0.019264447175834875,-0.016849704434822192,-0.015111988051402132,-0.015274384355518755,-0.014360004181964857,-0.012881639963147616,-0.01820197938407787,-0.01137408204635645,-0.012356394946354076,-0.02140019769382206,-0.007915764570590426,-0.04787555300805781,-0.008482507835885455,-0.017634015396441292,-0.03389034553557078,-0.02771191700169645,-0.01764412274889635,-0.013308625501742912,-0.011510710367425871,-0.04361084751848985,-0.02258827880406496,-0.027332461584316892,-0.01689181444419836,-0.020232278932589588,-0.015886263375065848,1.0]]}],                        {\"annotations\":[{\"font\":{\"color\":\"#000000\"},\"showarrow\":false,\"text\":\"1.0\",\"x\":\"Rating\",\"xref\":\"x\",\"y\":\"Rating\",\"yref\":\"y\"},{\"font\":{\"color\":\"#FFFFFF\"},\"showarrow\":false,\"text\":\"0.03\",\"x\":\"City_Amsterdam\",\"xref\":\"x\",\"y\":\"Rating\",\"yref\":\"y\"},{\"font\":{\"color\":\"#FFFFFF\"},\"showarrow\":false,\"text\":\"0.04\",\"x\":\"City_Athens\",\"xref\":\"x\",\"y\":\"Rating\",\"yref\":\"y\"},{\"font\":{\"color\":\"#FFFFFF\"},\"showarrow\":false,\"text\":\"-0.01\",\"x\":\"City_Barcelona\",\"xref\":\"x\",\"y\":\"Rating\",\"yref\":\"y\"},{\"font\":{\"color\":\"#FFFFFF\"},\"showarrow\":false,\"text\":\"0.05\",\"x\":\"City_Berlin\",\"xref\":\"x\",\"y\":\"Rating\",\"yref\":\"y\"},{\"font\":{\"color\":\"#FFFFFF\"},\"showarrow\":false,\"text\":\"-0.0\",\"x\":\"City_Bratislava\",\"xref\":\"x\",\"y\":\"Rating\",\"yref\":\"y\"},{\"font\":{\"color\":\"#FFFFFF\"},\"showarrow\":false,\"text\":\"-0.02\",\"x\":\"City_Brussels\",\"xref\":\"x\",\"y\":\"Rating\",\"yref\":\"y\"},{\"font\":{\"color\":\"#FFFFFF\"},\"showarrow\":false,\"text\":\"0.02\",\"x\":\"City_Budapest\",\"xref\":\"x\",\"y\":\"Rating\",\"yref\":\"y\"},{\"font\":{\"color\":\"#FFFFFF\"},\"showarrow\":false,\"text\":\"-0.0\",\"x\":\"City_Copenhagen\",\"xref\":\"x\",\"y\":\"Rating\",\"yref\":\"y\"},{\"font\":{\"color\":\"#FFFFFF\"},\"showarrow\":false,\"text\":\"0.01\",\"x\":\"City_Dublin\",\"xref\":\"x\",\"y\":\"Rating\",\"yref\":\"y\"},{\"font\":{\"color\":\"#FFFFFF\"},\"showarrow\":false,\"text\":\"0.02\",\"x\":\"City_Edinburgh\",\"xref\":\"x\",\"y\":\"Rating\",\"yref\":\"y\"},{\"font\":{\"color\":\"#FFFFFF\"},\"showarrow\":false,\"text\":\"-0.01\",\"x\":\"City_Geneva\",\"xref\":\"x\",\"y\":\"Rating\",\"yref\":\"y\"},{\"font\":{\"color\":\"#FFFFFF\"},\"showarrow\":false,\"text\":\"0.01\",\"x\":\"City_Hamburg\",\"xref\":\"x\",\"y\":\"Rating\",\"yref\":\"y\"},{\"font\":{\"color\":\"#FFFFFF\"},\"showarrow\":false,\"text\":\"-0.01\",\"x\":\"City_Helsinki\",\"xref\":\"x\",\"y\":\"Rating\",\"yref\":\"y\"},{\"font\":{\"color\":\"#FFFFFF\"},\"showarrow\":false,\"text\":\"0.02\",\"x\":\"City_Krakow\",\"xref\":\"x\",\"y\":\"Rating\",\"yref\":\"y\"},{\"font\":{\"color\":\"#FFFFFF\"},\"showarrow\":false,\"text\":\"0.01\",\"x\":\"City_Lisbon\",\"xref\":\"x\",\"y\":\"Rating\",\"yref\":\"y\"},{\"font\":{\"color\":\"#FFFFFF\"},\"showarrow\":false,\"text\":\"0.01\",\"x\":\"City_Ljubljana\",\"xref\":\"x\",\"y\":\"Rating\",\"yref\":\"y\"},{\"font\":{\"color\":\"#FFFFFF\"},\"showarrow\":false,\"text\":\"-0.02\",\"x\":\"City_London\",\"xref\":\"x\",\"y\":\"Rating\",\"yref\":\"y\"},{\"font\":{\"color\":\"#FFFFFF\"},\"showarrow\":false,\"text\":\"-0.01\",\"x\":\"City_Luxembourg\",\"xref\":\"x\",\"y\":\"Rating\",\"yref\":\"y\"},{\"font\":{\"color\":\"#FFFFFF\"},\"showarrow\":false,\"text\":\"-0.01\",\"x\":\"City_Lyon\",\"xref\":\"x\",\"y\":\"Rating\",\"yref\":\"y\"},{\"font\":{\"color\":\"#FFFFFF\"},\"showarrow\":false,\"text\":\"-0.08\",\"x\":\"City_Madrid\",\"xref\":\"x\",\"y\":\"Rating\",\"yref\":\"y\"},{\"font\":{\"color\":\"#FFFFFF\"},\"showarrow\":false,\"text\":\"-0.06\",\"x\":\"City_Milan\",\"xref\":\"x\",\"y\":\"Rating\",\"yref\":\"y\"},{\"font\":{\"color\":\"#FFFFFF\"},\"showarrow\":false,\"text\":\"0.01\",\"x\":\"City_Munich\",\"xref\":\"x\",\"y\":\"Rating\",\"yref\":\"y\"},{\"font\":{\"color\":\"#FFFFFF\"},\"showarrow\":false,\"text\":\"0.03\",\"x\":\"City_Oporto\",\"xref\":\"x\",\"y\":\"Rating\",\"yref\":\"y\"},{\"font\":{\"color\":\"#FFFFFF\"},\"showarrow\":false,\"text\":\"-0.01\",\"x\":\"City_Oslo\",\"xref\":\"x\",\"y\":\"Rating\",\"yref\":\"y\"},{\"font\":{\"color\":\"#FFFFFF\"},\"showarrow\":false,\"text\":\"-0.03\",\"x\":\"City_Paris\",\"xref\":\"x\",\"y\":\"Rating\",\"yref\":\"y\"},{\"font\":{\"color\":\"#FFFFFF\"},\"showarrow\":false,\"text\":\"0.01\",\"x\":\"City_Prague\",\"xref\":\"x\",\"y\":\"Rating\",\"yref\":\"y\"},{\"font\":{\"color\":\"#FFFFFF\"},\"showarrow\":false,\"text\":\"0.08\",\"x\":\"City_Rome\",\"xref\":\"x\",\"y\":\"Rating\",\"yref\":\"y\"},{\"font\":{\"color\":\"#FFFFFF\"},\"showarrow\":false,\"text\":\"-0.03\",\"x\":\"City_Stockholm\",\"xref\":\"x\",\"y\":\"Rating\",\"yref\":\"y\"},{\"font\":{\"color\":\"#FFFFFF\"},\"showarrow\":false,\"text\":\"0.02\",\"x\":\"City_Vienna\",\"xref\":\"x\",\"y\":\"Rating\",\"yref\":\"y\"},{\"font\":{\"color\":\"#FFFFFF\"},\"showarrow\":false,\"text\":\"0.02\",\"x\":\"City_Warsaw\",\"xref\":\"x\",\"y\":\"Rating\",\"yref\":\"y\"},{\"font\":{\"color\":\"#FFFFFF\"},\"showarrow\":false,\"text\":\"0.01\",\"x\":\"City_Zurich\",\"xref\":\"x\",\"y\":\"Rating\",\"yref\":\"y\"},{\"font\":{\"color\":\"#FFFFFF\"},\"showarrow\":false,\"text\":\"0.03\",\"x\":\"Rating\",\"xref\":\"x\",\"y\":\"City_Amsterdam\",\"yref\":\"y\"},{\"font\":{\"color\":\"#000000\"},\"showarrow\":false,\"text\":\"1.0\",\"x\":\"City_Amsterdam\",\"xref\":\"x\",\"y\":\"City_Amsterdam\",\"yref\":\"y\"},{\"font\":{\"color\":\"#FFFFFF\"},\"showarrow\":false,\"text\":\"-0.02\",\"x\":\"City_Athens\",\"xref\":\"x\",\"y\":\"City_Amsterdam\",\"yref\":\"y\"},{\"font\":{\"color\":\"#FFFFFF\"},\"showarrow\":false,\"text\":\"-0.05\",\"x\":\"City_Barcelona\",\"xref\":\"x\",\"y\":\"City_Amsterdam\",\"yref\":\"y\"},{\"font\":{\"color\":\"#FFFFFF\"},\"showarrow\":false,\"text\":\"-0.04\",\"x\":\"City_Berlin\",\"xref\":\"x\",\"y\":\"City_Amsterdam\",\"yref\":\"y\"},{\"font\":{\"color\":\"#FFFFFF\"},\"showarrow\":false,\"text\":\"-0.01\",\"x\":\"City_Bratislava\",\"xref\":\"x\",\"y\":\"City_Amsterdam\",\"yref\":\"y\"},{\"font\":{\"color\":\"#FFFFFF\"},\"showarrow\":false,\"text\":\"-0.03\",\"x\":\"City_Brussels\",\"xref\":\"x\",\"y\":\"City_Amsterdam\",\"yref\":\"y\"},{\"font\":{\"color\":\"#FFFFFF\"},\"showarrow\":false,\"text\":\"-0.02\",\"x\":\"City_Budapest\",\"xref\":\"x\",\"y\":\"City_Amsterdam\",\"yref\":\"y\"},{\"font\":{\"color\":\"#FFFFFF\"},\"showarrow\":false,\"text\":\"-0.02\",\"x\":\"City_Copenhagen\",\"xref\":\"x\",\"y\":\"City_Amsterdam\",\"yref\":\"y\"},{\"font\":{\"color\":\"#FFFFFF\"},\"showarrow\":false,\"text\":\"-0.02\",\"x\":\"City_Dublin\",\"xref\":\"x\",\"y\":\"City_Amsterdam\",\"yref\":\"y\"},{\"font\":{\"color\":\"#FFFFFF\"},\"showarrow\":false,\"text\":\"-0.02\",\"x\":\"City_Edinburgh\",\"xref\":\"x\",\"y\":\"City_Amsterdam\",\"yref\":\"y\"},{\"font\":{\"color\":\"#FFFFFF\"},\"showarrow\":false,\"text\":\"-0.02\",\"x\":\"City_Geneva\",\"xref\":\"x\",\"y\":\"City_Amsterdam\",\"yref\":\"y\"},{\"font\":{\"color\":\"#FFFFFF\"},\"showarrow\":false,\"text\":\"-0.03\",\"x\":\"City_Hamburg\",\"xref\":\"x\",\"y\":\"City_Amsterdam\",\"yref\":\"y\"},{\"font\":{\"color\":\"#FFFFFF\"},\"showarrow\":false,\"text\":\"-0.02\",\"x\":\"City_Helsinki\",\"xref\":\"x\",\"y\":\"City_Amsterdam\",\"yref\":\"y\"},{\"font\":{\"color\":\"#FFFFFF\"},\"showarrow\":false,\"text\":\"-0.02\",\"x\":\"City_Krakow\",\"xref\":\"x\",\"y\":\"City_Amsterdam\",\"yref\":\"y\"},{\"font\":{\"color\":\"#FFFFFF\"},\"showarrow\":false,\"text\":\"-0.03\",\"x\":\"City_Lisbon\",\"xref\":\"x\",\"y\":\"City_Amsterdam\",\"yref\":\"y\"},{\"font\":{\"color\":\"#FFFFFF\"},\"showarrow\":false,\"text\":\"-0.01\",\"x\":\"City_Ljubljana\",\"xref\":\"x\",\"y\":\"City_Amsterdam\",\"yref\":\"y\"},{\"font\":{\"color\":\"#FFFFFF\"},\"showarrow\":false,\"text\":\"-0.07\",\"x\":\"City_London\",\"xref\":\"x\",\"y\":\"City_Amsterdam\",\"yref\":\"y\"},{\"font\":{\"color\":\"#FFFFFF\"},\"showarrow\":false,\"text\":\"-0.01\",\"x\":\"City_Luxembourg\",\"xref\":\"x\",\"y\":\"City_Amsterdam\",\"yref\":\"y\"},{\"font\":{\"color\":\"#FFFFFF\"},\"showarrow\":false,\"text\":\"-0.03\",\"x\":\"City_Lyon\",\"xref\":\"x\",\"y\":\"City_Amsterdam\",\"yref\":\"y\"},{\"font\":{\"color\":\"#FFFFFF\"},\"showarrow\":false,\"text\":\"-0.05\",\"x\":\"City_Madrid\",\"xref\":\"x\",\"y\":\"City_Amsterdam\",\"yref\":\"y\"},{\"font\":{\"color\":\"#FFFFFF\"},\"showarrow\":false,\"text\":\"-0.04\",\"x\":\"City_Milan\",\"xref\":\"x\",\"y\":\"City_Amsterdam\",\"yref\":\"y\"},{\"font\":{\"color\":\"#FFFFFF\"},\"showarrow\":false,\"text\":\"-0.03\",\"x\":\"City_Munich\",\"xref\":\"x\",\"y\":\"City_Amsterdam\",\"yref\":\"y\"},{\"font\":{\"color\":\"#FFFFFF\"},\"showarrow\":false,\"text\":\"-0.02\",\"x\":\"City_Oporto\",\"xref\":\"x\",\"y\":\"City_Amsterdam\",\"yref\":\"y\"},{\"font\":{\"color\":\"#FFFFFF\"},\"showarrow\":false,\"text\":\"-0.02\",\"x\":\"City_Oslo\",\"xref\":\"x\",\"y\":\"City_Amsterdam\",\"yref\":\"y\"},{\"font\":{\"color\":\"#FFFFFF\"},\"showarrow\":false,\"text\":\"-0.06\",\"x\":\"City_Paris\",\"xref\":\"x\",\"y\":\"City_Amsterdam\",\"yref\":\"y\"},{\"font\":{\"color\":\"#FFFFFF\"},\"showarrow\":false,\"text\":\"-0.03\",\"x\":\"City_Prague\",\"xref\":\"x\",\"y\":\"City_Amsterdam\",\"yref\":\"y\"},{\"font\":{\"color\":\"#FFFFFF\"},\"showarrow\":false,\"text\":\"-0.04\",\"x\":\"City_Rome\",\"xref\":\"x\",\"y\":\"City_Amsterdam\",\"yref\":\"y\"},{\"font\":{\"color\":\"#FFFFFF\"},\"showarrow\":false,\"text\":\"-0.02\",\"x\":\"City_Stockholm\",\"xref\":\"x\",\"y\":\"City_Amsterdam\",\"yref\":\"y\"},{\"font\":{\"color\":\"#FFFFFF\"},\"showarrow\":false,\"text\":\"-0.03\",\"x\":\"City_Vienna\",\"xref\":\"x\",\"y\":\"City_Amsterdam\",\"yref\":\"y\"},{\"font\":{\"color\":\"#FFFFFF\"},\"showarrow\":false,\"text\":\"-0.02\",\"x\":\"City_Warsaw\",\"xref\":\"x\",\"y\":\"City_Amsterdam\",\"yref\":\"y\"},{\"font\":{\"color\":\"#FFFFFF\"},\"showarrow\":false,\"text\":\"-0.02\",\"x\":\"City_Zurich\",\"xref\":\"x\",\"y\":\"City_Amsterdam\",\"yref\":\"y\"},{\"font\":{\"color\":\"#FFFFFF\"},\"showarrow\":false,\"text\":\"0.04\",\"x\":\"Rating\",\"xref\":\"x\",\"y\":\"City_Athens\",\"yref\":\"y\"},{\"font\":{\"color\":\"#FFFFFF\"},\"showarrow\":false,\"text\":\"-0.02\",\"x\":\"City_Amsterdam\",\"xref\":\"x\",\"y\":\"City_Athens\",\"yref\":\"y\"},{\"font\":{\"color\":\"#000000\"},\"showarrow\":false,\"text\":\"1.0\",\"x\":\"City_Athens\",\"xref\":\"x\",\"y\":\"City_Athens\",\"yref\":\"y\"},{\"font\":{\"color\":\"#FFFFFF\"},\"showarrow\":false,\"text\":\"-0.03\",\"x\":\"City_Barcelona\",\"xref\":\"x\",\"y\":\"City_Athens\",\"yref\":\"y\"},{\"font\":{\"color\":\"#FFFFFF\"},\"showarrow\":false,\"text\":\"-0.03\",\"x\":\"City_Berlin\",\"xref\":\"x\",\"y\":\"City_Athens\",\"yref\":\"y\"},{\"font\":{\"color\":\"#FFFFFF\"},\"showarrow\":false,\"text\":\"-0.01\",\"x\":\"City_Bratislava\",\"xref\":\"x\",\"y\":\"City_Athens\",\"yref\":\"y\"},{\"font\":{\"color\":\"#FFFFFF\"},\"showarrow\":false,\"text\":\"-0.02\",\"x\":\"City_Brussels\",\"xref\":\"x\",\"y\":\"City_Athens\",\"yref\":\"y\"},{\"font\":{\"color\":\"#FFFFFF\"},\"showarrow\":false,\"text\":\"-0.02\",\"x\":\"City_Budapest\",\"xref\":\"x\",\"y\":\"City_Athens\",\"yref\":\"y\"},{\"font\":{\"color\":\"#FFFFFF\"},\"showarrow\":false,\"text\":\"-0.02\",\"x\":\"City_Copenhagen\",\"xref\":\"x\",\"y\":\"City_Athens\",\"yref\":\"y\"},{\"font\":{\"color\":\"#FFFFFF\"},\"showarrow\":false,\"text\":\"-0.02\",\"x\":\"City_Dublin\",\"xref\":\"x\",\"y\":\"City_Athens\",\"yref\":\"y\"},{\"font\":{\"color\":\"#FFFFFF\"},\"showarrow\":false,\"text\":\"-0.02\",\"x\":\"City_Edinburgh\",\"xref\":\"x\",\"y\":\"City_Athens\",\"yref\":\"y\"},{\"font\":{\"color\":\"#FFFFFF\"},\"showarrow\":false,\"text\":\"-0.01\",\"x\":\"City_Geneva\",\"xref\":\"x\",\"y\":\"City_Athens\",\"yref\":\"y\"},{\"font\":{\"color\":\"#FFFFFF\"},\"showarrow\":false,\"text\":\"-0.02\",\"x\":\"City_Hamburg\",\"xref\":\"x\",\"y\":\"City_Athens\",\"yref\":\"y\"},{\"font\":{\"color\":\"#FFFFFF\"},\"showarrow\":false,\"text\":\"-0.01\",\"x\":\"City_Helsinki\",\"xref\":\"x\",\"y\":\"City_Athens\",\"yref\":\"y\"},{\"font\":{\"color\":\"#FFFFFF\"},\"showarrow\":false,\"text\":\"-0.01\",\"x\":\"City_Krakow\",\"xref\":\"x\",\"y\":\"City_Athens\",\"yref\":\"y\"},{\"font\":{\"color\":\"#FFFFFF\"},\"showarrow\":false,\"text\":\"-0.02\",\"x\":\"City_Lisbon\",\"xref\":\"x\",\"y\":\"City_Athens\",\"yref\":\"y\"},{\"font\":{\"color\":\"#FFFFFF\"},\"showarrow\":false,\"text\":\"-0.01\",\"x\":\"City_Ljubljana\",\"xref\":\"x\",\"y\":\"City_Athens\",\"yref\":\"y\"},{\"font\":{\"color\":\"#FFFFFF\"},\"showarrow\":false,\"text\":\"-0.05\",\"x\":\"City_London\",\"xref\":\"x\",\"y\":\"City_Athens\",\"yref\":\"y\"},{\"font\":{\"color\":\"#FFFFFF\"},\"showarrow\":false,\"text\":\"-0.01\",\"x\":\"City_Luxembourg\",\"xref\":\"x\",\"y\":\"City_Athens\",\"yref\":\"y\"},{\"font\":{\"color\":\"#FFFFFF\"},\"showarrow\":false,\"text\":\"-0.02\",\"x\":\"City_Lyon\",\"xref\":\"x\",\"y\":\"City_Athens\",\"yref\":\"y\"},{\"font\":{\"color\":\"#FFFFFF\"},\"showarrow\":false,\"text\":\"-0.04\",\"x\":\"City_Madrid\",\"xref\":\"x\",\"y\":\"City_Athens\",\"yref\":\"y\"},{\"font\":{\"color\":\"#FFFFFF\"},\"showarrow\":false,\"text\":\"-0.03\",\"x\":\"City_Milan\",\"xref\":\"x\",\"y\":\"City_Athens\",\"yref\":\"y\"},{\"font\":{\"color\":\"#FFFFFF\"},\"showarrow\":false,\"text\":\"-0.02\",\"x\":\"City_Munich\",\"xref\":\"x\",\"y\":\"City_Athens\",\"yref\":\"y\"},{\"font\":{\"color\":\"#FFFFFF\"},\"showarrow\":false,\"text\":\"-0.01\",\"x\":\"City_Oporto\",\"xref\":\"x\",\"y\":\"City_Athens\",\"yref\":\"y\"},{\"font\":{\"color\":\"#FFFFFF\"},\"showarrow\":false,\"text\":\"-0.01\",\"x\":\"City_Oslo\",\"xref\":\"x\",\"y\":\"City_Athens\",\"yref\":\"y\"},{\"font\":{\"color\":\"#FFFFFF\"},\"showarrow\":false,\"text\":\"-0.05\",\"x\":\"City_Paris\",\"xref\":\"x\",\"y\":\"City_Athens\",\"yref\":\"y\"},{\"font\":{\"color\":\"#FFFFFF\"},\"showarrow\":false,\"text\":\"-0.02\",\"x\":\"City_Prague\",\"xref\":\"x\",\"y\":\"City_Athens\",\"yref\":\"y\"},{\"font\":{\"color\":\"#FFFFFF\"},\"showarrow\":false,\"text\":\"-0.03\",\"x\":\"City_Rome\",\"xref\":\"x\",\"y\":\"City_Athens\",\"yref\":\"y\"},{\"font\":{\"color\":\"#FFFFFF\"},\"showarrow\":false,\"text\":\"-0.02\",\"x\":\"City_Stockholm\",\"xref\":\"x\",\"y\":\"City_Athens\",\"yref\":\"y\"},{\"font\":{\"color\":\"#FFFFFF\"},\"showarrow\":false,\"text\":\"-0.02\",\"x\":\"City_Vienna\",\"xref\":\"x\",\"y\":\"City_Athens\",\"yref\":\"y\"},{\"font\":{\"color\":\"#FFFFFF\"},\"showarrow\":false,\"text\":\"-0.02\",\"x\":\"City_Warsaw\",\"xref\":\"x\",\"y\":\"City_Athens\",\"yref\":\"y\"},{\"font\":{\"color\":\"#FFFFFF\"},\"showarrow\":false,\"text\":\"-0.01\",\"x\":\"City_Zurich\",\"xref\":\"x\",\"y\":\"City_Athens\",\"yref\":\"y\"},{\"font\":{\"color\":\"#FFFFFF\"},\"showarrow\":false,\"text\":\"-0.01\",\"x\":\"Rating\",\"xref\":\"x\",\"y\":\"City_Barcelona\",\"yref\":\"y\"},{\"font\":{\"color\":\"#FFFFFF\"},\"showarrow\":false,\"text\":\"-0.05\",\"x\":\"City_Amsterdam\",\"xref\":\"x\",\"y\":\"City_Barcelona\",\"yref\":\"y\"},{\"font\":{\"color\":\"#FFFFFF\"},\"showarrow\":false,\"text\":\"-0.03\",\"x\":\"City_Athens\",\"xref\":\"x\",\"y\":\"City_Barcelona\",\"yref\":\"y\"},{\"font\":{\"color\":\"#000000\"},\"showarrow\":false,\"text\":\"1.0\",\"x\":\"City_Barcelona\",\"xref\":\"x\",\"y\":\"City_Barcelona\",\"yref\":\"y\"},{\"font\":{\"color\":\"#FFFFFF\"},\"showarrow\":false,\"text\":\"-0.06\",\"x\":\"City_Berlin\",\"xref\":\"x\",\"y\":\"City_Barcelona\",\"yref\":\"y\"},{\"font\":{\"color\":\"#FFFFFF\"},\"showarrow\":false,\"text\":\"-0.02\",\"x\":\"City_Bratislava\",\"xref\":\"x\",\"y\":\"City_Barcelona\",\"yref\":\"y\"},{\"font\":{\"color\":\"#FFFFFF\"},\"showarrow\":false,\"text\":\"-0.04\",\"x\":\"City_Brussels\",\"xref\":\"x\",\"y\":\"City_Barcelona\",\"yref\":\"y\"},{\"font\":{\"color\":\"#FFFFFF\"},\"showarrow\":false,\"text\":\"-0.04\",\"x\":\"City_Budapest\",\"xref\":\"x\",\"y\":\"City_Barcelona\",\"yref\":\"y\"},{\"font\":{\"color\":\"#FFFFFF\"},\"showarrow\":false,\"text\":\"-0.04\",\"x\":\"City_Copenhagen\",\"xref\":\"x\",\"y\":\"City_Barcelona\",\"yref\":\"y\"},{\"font\":{\"color\":\"#FFFFFF\"},\"showarrow\":false,\"text\":\"-0.04\",\"x\":\"City_Dublin\",\"xref\":\"x\",\"y\":\"City_Barcelona\",\"yref\":\"y\"},{\"font\":{\"color\":\"#FFFFFF\"},\"showarrow\":false,\"text\":\"-0.03\",\"x\":\"City_Edinburgh\",\"xref\":\"x\",\"y\":\"City_Barcelona\",\"yref\":\"y\"},{\"font\":{\"color\":\"#FFFFFF\"},\"showarrow\":false,\"text\":\"-0.03\",\"x\":\"City_Geneva\",\"xref\":\"x\",\"y\":\"City_Barcelona\",\"yref\":\"y\"},{\"font\":{\"color\":\"#FFFFFF\"},\"showarrow\":false,\"text\":\"-0.04\",\"x\":\"City_Hamburg\",\"xref\":\"x\",\"y\":\"City_Barcelona\",\"yref\":\"y\"},{\"font\":{\"color\":\"#FFFFFF\"},\"showarrow\":false,\"text\":\"-0.03\",\"x\":\"City_Helsinki\",\"xref\":\"x\",\"y\":\"City_Barcelona\",\"yref\":\"y\"},{\"font\":{\"color\":\"#FFFFFF\"},\"showarrow\":false,\"text\":\"-0.03\",\"x\":\"City_Krakow\",\"xref\":\"x\",\"y\":\"City_Barcelona\",\"yref\":\"y\"},{\"font\":{\"color\":\"#FFFFFF\"},\"showarrow\":false,\"text\":\"-0.05\",\"x\":\"City_Lisbon\",\"xref\":\"x\",\"y\":\"City_Barcelona\",\"yref\":\"y\"},{\"font\":{\"color\":\"#FFFFFF\"},\"showarrow\":false,\"text\":\"-0.02\",\"x\":\"City_Ljubljana\",\"xref\":\"x\",\"y\":\"City_Barcelona\",\"yref\":\"y\"},{\"font\":{\"color\":\"#FFFFFF\"},\"showarrow\":false,\"text\":\"-0.11\",\"x\":\"City_London\",\"xref\":\"x\",\"y\":\"City_Barcelona\",\"yref\":\"y\"},{\"font\":{\"color\":\"#FFFFFF\"},\"showarrow\":false,\"text\":\"-0.02\",\"x\":\"City_Luxembourg\",\"xref\":\"x\",\"y\":\"City_Barcelona\",\"yref\":\"y\"},{\"font\":{\"color\":\"#FFFFFF\"},\"showarrow\":false,\"text\":\"-0.04\",\"x\":\"City_Lyon\",\"xref\":\"x\",\"y\":\"City_Barcelona\",\"yref\":\"y\"},{\"font\":{\"color\":\"#FFFFFF\"},\"showarrow\":false,\"text\":\"-0.08\",\"x\":\"City_Madrid\",\"xref\":\"x\",\"y\":\"City_Barcelona\",\"yref\":\"y\"},{\"font\":{\"color\":\"#FFFFFF\"},\"showarrow\":false,\"text\":\"-0.06\",\"x\":\"City_Milan\",\"xref\":\"x\",\"y\":\"City_Barcelona\",\"yref\":\"y\"},{\"font\":{\"color\":\"#FFFFFF\"},\"showarrow\":false,\"text\":\"-0.04\",\"x\":\"City_Munich\",\"xref\":\"x\",\"y\":\"City_Barcelona\",\"yref\":\"y\"},{\"font\":{\"color\":\"#FFFFFF\"},\"showarrow\":false,\"text\":\"-0.03\",\"x\":\"City_Oporto\",\"xref\":\"x\",\"y\":\"City_Barcelona\",\"yref\":\"y\"},{\"font\":{\"color\":\"#FFFFFF\"},\"showarrow\":false,\"text\":\"-0.03\",\"x\":\"City_Oslo\",\"xref\":\"x\",\"y\":\"City_Barcelona\",\"yref\":\"y\"},{\"font\":{\"color\":\"#FFFFFF\"},\"showarrow\":false,\"text\":\"-0.1\",\"x\":\"City_Paris\",\"xref\":\"x\",\"y\":\"City_Barcelona\",\"yref\":\"y\"},{\"font\":{\"color\":\"#FFFFFF\"},\"showarrow\":false,\"text\":\"-0.05\",\"x\":\"City_Prague\",\"xref\":\"x\",\"y\":\"City_Barcelona\",\"yref\":\"y\"},{\"font\":{\"color\":\"#FFFFFF\"},\"showarrow\":false,\"text\":\"-0.06\",\"x\":\"City_Rome\",\"xref\":\"x\",\"y\":\"City_Barcelona\",\"yref\":\"y\"},{\"font\":{\"color\":\"#FFFFFF\"},\"showarrow\":false,\"text\":\"-0.04\",\"x\":\"City_Stockholm\",\"xref\":\"x\",\"y\":\"City_Barcelona\",\"yref\":\"y\"},{\"font\":{\"color\":\"#FFFFFF\"},\"showarrow\":false,\"text\":\"-0.05\",\"x\":\"City_Vienna\",\"xref\":\"x\",\"y\":\"City_Barcelona\",\"yref\":\"y\"},{\"font\":{\"color\":\"#FFFFFF\"},\"showarrow\":false,\"text\":\"-0.04\",\"x\":\"City_Warsaw\",\"xref\":\"x\",\"y\":\"City_Barcelona\",\"yref\":\"y\"},{\"font\":{\"color\":\"#FFFFFF\"},\"showarrow\":false,\"text\":\"-0.03\",\"x\":\"City_Zurich\",\"xref\":\"x\",\"y\":\"City_Barcelona\",\"yref\":\"y\"},{\"font\":{\"color\":\"#FFFFFF\"},\"showarrow\":false,\"text\":\"0.05\",\"x\":\"Rating\",\"xref\":\"x\",\"y\":\"City_Berlin\",\"yref\":\"y\"},{\"font\":{\"color\":\"#FFFFFF\"},\"showarrow\":false,\"text\":\"-0.04\",\"x\":\"City_Amsterdam\",\"xref\":\"x\",\"y\":\"City_Berlin\",\"yref\":\"y\"},{\"font\":{\"color\":\"#FFFFFF\"},\"showarrow\":false,\"text\":\"-0.03\",\"x\":\"City_Athens\",\"xref\":\"x\",\"y\":\"City_Berlin\",\"yref\":\"y\"},{\"font\":{\"color\":\"#FFFFFF\"},\"showarrow\":false,\"text\":\"-0.06\",\"x\":\"City_Barcelona\",\"xref\":\"x\",\"y\":\"City_Berlin\",\"yref\":\"y\"},{\"font\":{\"color\":\"#000000\"},\"showarrow\":false,\"text\":\"1.0\",\"x\":\"City_Berlin\",\"xref\":\"x\",\"y\":\"City_Berlin\",\"yref\":\"y\"},{\"font\":{\"color\":\"#FFFFFF\"},\"showarrow\":false,\"text\":\"-0.02\",\"x\":\"City_Bratislava\",\"xref\":\"x\",\"y\":\"City_Berlin\",\"yref\":\"y\"},{\"font\":{\"color\":\"#FFFFFF\"},\"showarrow\":false,\"text\":\"-0.04\",\"x\":\"City_Brussels\",\"xref\":\"x\",\"y\":\"City_Berlin\",\"yref\":\"y\"},{\"font\":{\"color\":\"#FFFFFF\"},\"showarrow\":false,\"text\":\"-0.03\",\"x\":\"City_Budapest\",\"xref\":\"x\",\"y\":\"City_Berlin\",\"yref\":\"y\"},{\"font\":{\"color\":\"#FFFFFF\"},\"showarrow\":false,\"text\":\"-0.03\",\"x\":\"City_Copenhagen\",\"xref\":\"x\",\"y\":\"City_Berlin\",\"yref\":\"y\"},{\"font\":{\"color\":\"#FFFFFF\"},\"showarrow\":false,\"text\":\"-0.03\",\"x\":\"City_Dublin\",\"xref\":\"x\",\"y\":\"City_Berlin\",\"yref\":\"y\"},{\"font\":{\"color\":\"#FFFFFF\"},\"showarrow\":false,\"text\":\"-0.03\",\"x\":\"City_Edinburgh\",\"xref\":\"x\",\"y\":\"City_Berlin\",\"yref\":\"y\"},{\"font\":{\"color\":\"#FFFFFF\"},\"showarrow\":false,\"text\":\"-0.03\",\"x\":\"City_Geneva\",\"xref\":\"x\",\"y\":\"City_Berlin\",\"yref\":\"y\"},{\"font\":{\"color\":\"#FFFFFF\"},\"showarrow\":false,\"text\":\"-0.04\",\"x\":\"City_Hamburg\",\"xref\":\"x\",\"y\":\"City_Berlin\",\"yref\":\"y\"},{\"font\":{\"color\":\"#FFFFFF\"},\"showarrow\":false,\"text\":\"-0.02\",\"x\":\"City_Helsinki\",\"xref\":\"x\",\"y\":\"City_Berlin\",\"yref\":\"y\"},{\"font\":{\"color\":\"#FFFFFF\"},\"showarrow\":false,\"text\":\"-0.03\",\"x\":\"City_Krakow\",\"xref\":\"x\",\"y\":\"City_Berlin\",\"yref\":\"y\"},{\"font\":{\"color\":\"#FFFFFF\"},\"showarrow\":false,\"text\":\"-0.04\",\"x\":\"City_Lisbon\",\"xref\":\"x\",\"y\":\"City_Berlin\",\"yref\":\"y\"},{\"font\":{\"color\":\"#FFFFFF\"},\"showarrow\":false,\"text\":\"-0.02\",\"x\":\"City_Ljubljana\",\"xref\":\"x\",\"y\":\"City_Berlin\",\"yref\":\"y\"},{\"font\":{\"color\":\"#FFFFFF\"},\"showarrow\":false,\"text\":\"-0.1\",\"x\":\"City_London\",\"xref\":\"x\",\"y\":\"City_Berlin\",\"yref\":\"y\"},{\"font\":{\"color\":\"#FFFFFF\"},\"showarrow\":false,\"text\":\"-0.02\",\"x\":\"City_Luxembourg\",\"xref\":\"x\",\"y\":\"City_Berlin\",\"yref\":\"y\"},{\"font\":{\"color\":\"#FFFFFF\"},\"showarrow\":false,\"text\":\"-0.04\",\"x\":\"City_Lyon\",\"xref\":\"x\",\"y\":\"City_Berlin\",\"yref\":\"y\"},{\"font\":{\"color\":\"#FFFFFF\"},\"showarrow\":false,\"text\":\"-0.07\",\"x\":\"City_Madrid\",\"xref\":\"x\",\"y\":\"City_Berlin\",\"yref\":\"y\"},{\"font\":{\"color\":\"#FFFFFF\"},\"showarrow\":false,\"text\":\"-0.06\",\"x\":\"City_Milan\",\"xref\":\"x\",\"y\":\"City_Berlin\",\"yref\":\"y\"},{\"font\":{\"color\":\"#FFFFFF\"},\"showarrow\":false,\"text\":\"-0.04\",\"x\":\"City_Munich\",\"xref\":\"x\",\"y\":\"City_Berlin\",\"yref\":\"y\"},{\"font\":{\"color\":\"#FFFFFF\"},\"showarrow\":false,\"text\":\"-0.03\",\"x\":\"City_Oporto\",\"xref\":\"x\",\"y\":\"City_Berlin\",\"yref\":\"y\"},{\"font\":{\"color\":\"#FFFFFF\"},\"showarrow\":false,\"text\":\"-0.02\",\"x\":\"City_Oslo\",\"xref\":\"x\",\"y\":\"City_Berlin\",\"yref\":\"y\"},{\"font\":{\"color\":\"#FFFFFF\"},\"showarrow\":false,\"text\":\"-0.09\",\"x\":\"City_Paris\",\"xref\":\"x\",\"y\":\"City_Berlin\",\"yref\":\"y\"},{\"font\":{\"color\":\"#FFFFFF\"},\"showarrow\":false,\"text\":\"-0.05\",\"x\":\"City_Prague\",\"xref\":\"x\",\"y\":\"City_Berlin\",\"yref\":\"y\"},{\"font\":{\"color\":\"#FFFFFF\"},\"showarrow\":false,\"text\":\"-0.06\",\"x\":\"City_Rome\",\"xref\":\"x\",\"y\":\"City_Berlin\",\"yref\":\"y\"},{\"font\":{\"color\":\"#FFFFFF\"},\"showarrow\":false,\"text\":\"-0.03\",\"x\":\"City_Stockholm\",\"xref\":\"x\",\"y\":\"City_Berlin\",\"yref\":\"y\"},{\"font\":{\"color\":\"#FFFFFF\"},\"showarrow\":false,\"text\":\"-0.04\",\"x\":\"City_Vienna\",\"xref\":\"x\",\"y\":\"City_Berlin\",\"yref\":\"y\"},{\"font\":{\"color\":\"#FFFFFF\"},\"showarrow\":false,\"text\":\"-0.03\",\"x\":\"City_Warsaw\",\"xref\":\"x\",\"y\":\"City_Berlin\",\"yref\":\"y\"},{\"font\":{\"color\":\"#FFFFFF\"},\"showarrow\":false,\"text\":\"-0.03\",\"x\":\"City_Zurich\",\"xref\":\"x\",\"y\":\"City_Berlin\",\"yref\":\"y\"},{\"font\":{\"color\":\"#FFFFFF\"},\"showarrow\":false,\"text\":\"-0.0\",\"x\":\"Rating\",\"xref\":\"x\",\"y\":\"City_Bratislava\",\"yref\":\"y\"},{\"font\":{\"color\":\"#FFFFFF\"},\"showarrow\":false,\"text\":\"-0.01\",\"x\":\"City_Amsterdam\",\"xref\":\"x\",\"y\":\"City_Bratislava\",\"yref\":\"y\"},{\"font\":{\"color\":\"#FFFFFF\"},\"showarrow\":false,\"text\":\"-0.01\",\"x\":\"City_Athens\",\"xref\":\"x\",\"y\":\"City_Bratislava\",\"yref\":\"y\"},{\"font\":{\"color\":\"#FFFFFF\"},\"showarrow\":false,\"text\":\"-0.02\",\"x\":\"City_Barcelona\",\"xref\":\"x\",\"y\":\"City_Bratislava\",\"yref\":\"y\"},{\"font\":{\"color\":\"#FFFFFF\"},\"showarrow\":false,\"text\":\"-0.02\",\"x\":\"City_Berlin\",\"xref\":\"x\",\"y\":\"City_Bratislava\",\"yref\":\"y\"},{\"font\":{\"color\":\"#000000\"},\"showarrow\":false,\"text\":\"1.0\",\"x\":\"City_Bratislava\",\"xref\":\"x\",\"y\":\"City_Bratislava\",\"yref\":\"y\"},{\"font\":{\"color\":\"#FFFFFF\"},\"showarrow\":false,\"text\":\"-0.01\",\"x\":\"City_Brussels\",\"xref\":\"x\",\"y\":\"City_Bratislava\",\"yref\":\"y\"},{\"font\":{\"color\":\"#FFFFFF\"},\"showarrow\":false,\"text\":\"-0.01\",\"x\":\"City_Budapest\",\"xref\":\"x\",\"y\":\"City_Bratislava\",\"yref\":\"y\"},{\"font\":{\"color\":\"#FFFFFF\"},\"showarrow\":false,\"text\":\"-0.01\",\"x\":\"City_Copenhagen\",\"xref\":\"x\",\"y\":\"City_Bratislava\",\"yref\":\"y\"},{\"font\":{\"color\":\"#FFFFFF\"},\"showarrow\":false,\"text\":\"-0.01\",\"x\":\"City_Dublin\",\"xref\":\"x\",\"y\":\"City_Bratislava\",\"yref\":\"y\"},{\"font\":{\"color\":\"#FFFFFF\"},\"showarrow\":false,\"text\":\"-0.01\",\"x\":\"City_Edinburgh\",\"xref\":\"x\",\"y\":\"City_Bratislava\",\"yref\":\"y\"},{\"font\":{\"color\":\"#FFFFFF\"},\"showarrow\":false,\"text\":\"-0.01\",\"x\":\"City_Geneva\",\"xref\":\"x\",\"y\":\"City_Bratislava\",\"yref\":\"y\"},{\"font\":{\"color\":\"#FFFFFF\"},\"showarrow\":false,\"text\":\"-0.01\",\"x\":\"City_Hamburg\",\"xref\":\"x\",\"y\":\"City_Bratislava\",\"yref\":\"y\"},{\"font\":{\"color\":\"#FFFFFF\"},\"showarrow\":false,\"text\":\"-0.01\",\"x\":\"City_Helsinki\",\"xref\":\"x\",\"y\":\"City_Bratislava\",\"yref\":\"y\"},{\"font\":{\"color\":\"#FFFFFF\"},\"showarrow\":false,\"text\":\"-0.01\",\"x\":\"City_Krakow\",\"xref\":\"x\",\"y\":\"City_Bratislava\",\"yref\":\"y\"},{\"font\":{\"color\":\"#FFFFFF\"},\"showarrow\":false,\"text\":\"-0.02\",\"x\":\"City_Lisbon\",\"xref\":\"x\",\"y\":\"City_Bratislava\",\"yref\":\"y\"},{\"font\":{\"color\":\"#FFFFFF\"},\"showarrow\":false,\"text\":\"-0.01\",\"x\":\"City_Ljubljana\",\"xref\":\"x\",\"y\":\"City_Bratislava\",\"yref\":\"y\"},{\"font\":{\"color\":\"#FFFFFF\"},\"showarrow\":false,\"text\":\"-0.04\",\"x\":\"City_London\",\"xref\":\"x\",\"y\":\"City_Bratislava\",\"yref\":\"y\"},{\"font\":{\"color\":\"#FFFFFF\"},\"showarrow\":false,\"text\":\"-0.01\",\"x\":\"City_Luxembourg\",\"xref\":\"x\",\"y\":\"City_Bratislava\",\"yref\":\"y\"},{\"font\":{\"color\":\"#FFFFFF\"},\"showarrow\":false,\"text\":\"-0.01\",\"x\":\"City_Lyon\",\"xref\":\"x\",\"y\":\"City_Bratislava\",\"yref\":\"y\"},{\"font\":{\"color\":\"#FFFFFF\"},\"showarrow\":false,\"text\":\"-0.03\",\"x\":\"City_Madrid\",\"xref\":\"x\",\"y\":\"City_Bratislava\",\"yref\":\"y\"},{\"font\":{\"color\":\"#FFFFFF\"},\"showarrow\":false,\"text\":\"-0.02\",\"x\":\"City_Milan\",\"xref\":\"x\",\"y\":\"City_Bratislava\",\"yref\":\"y\"},{\"font\":{\"color\":\"#FFFFFF\"},\"showarrow\":false,\"text\":\"-0.01\",\"x\":\"City_Munich\",\"xref\":\"x\",\"y\":\"City_Bratislava\",\"yref\":\"y\"},{\"font\":{\"color\":\"#FFFFFF\"},\"showarrow\":false,\"text\":\"-0.01\",\"x\":\"City_Oporto\",\"xref\":\"x\",\"y\":\"City_Bratislava\",\"yref\":\"y\"},{\"font\":{\"color\":\"#FFFFFF\"},\"showarrow\":false,\"text\":\"-0.01\",\"x\":\"City_Oslo\",\"xref\":\"x\",\"y\":\"City_Bratislava\",\"yref\":\"y\"},{\"font\":{\"color\":\"#FFFFFF\"},\"showarrow\":false,\"text\":\"-0.03\",\"x\":\"City_Paris\",\"xref\":\"x\",\"y\":\"City_Bratislava\",\"yref\":\"y\"},{\"font\":{\"color\":\"#FFFFFF\"},\"showarrow\":false,\"text\":\"-0.02\",\"x\":\"City_Prague\",\"xref\":\"x\",\"y\":\"City_Bratislava\",\"yref\":\"y\"},{\"font\":{\"color\":\"#FFFFFF\"},\"showarrow\":false,\"text\":\"-0.02\",\"x\":\"City_Rome\",\"xref\":\"x\",\"y\":\"City_Bratislava\",\"yref\":\"y\"},{\"font\":{\"color\":\"#FFFFFF\"},\"showarrow\":false,\"text\":\"-0.01\",\"x\":\"City_Stockholm\",\"xref\":\"x\",\"y\":\"City_Bratislava\",\"yref\":\"y\"},{\"font\":{\"color\":\"#FFFFFF\"},\"showarrow\":false,\"text\":\"-0.02\",\"x\":\"City_Vienna\",\"xref\":\"x\",\"y\":\"City_Bratislava\",\"yref\":\"y\"},{\"font\":{\"color\":\"#FFFFFF\"},\"showarrow\":false,\"text\":\"-0.01\",\"x\":\"City_Warsaw\",\"xref\":\"x\",\"y\":\"City_Bratislava\",\"yref\":\"y\"},{\"font\":{\"color\":\"#FFFFFF\"},\"showarrow\":false,\"text\":\"-0.01\",\"x\":\"City_Zurich\",\"xref\":\"x\",\"y\":\"City_Bratislava\",\"yref\":\"y\"},{\"font\":{\"color\":\"#FFFFFF\"},\"showarrow\":false,\"text\":\"-0.02\",\"x\":\"Rating\",\"xref\":\"x\",\"y\":\"City_Brussels\",\"yref\":\"y\"},{\"font\":{\"color\":\"#FFFFFF\"},\"showarrow\":false,\"text\":\"-0.03\",\"x\":\"City_Amsterdam\",\"xref\":\"x\",\"y\":\"City_Brussels\",\"yref\":\"y\"},{\"font\":{\"color\":\"#FFFFFF\"},\"showarrow\":false,\"text\":\"-0.02\",\"x\":\"City_Athens\",\"xref\":\"x\",\"y\":\"City_Brussels\",\"yref\":\"y\"},{\"font\":{\"color\":\"#FFFFFF\"},\"showarrow\":false,\"text\":\"-0.04\",\"x\":\"City_Barcelona\",\"xref\":\"x\",\"y\":\"City_Brussels\",\"yref\":\"y\"},{\"font\":{\"color\":\"#FFFFFF\"},\"showarrow\":false,\"text\":\"-0.04\",\"x\":\"City_Berlin\",\"xref\":\"x\",\"y\":\"City_Brussels\",\"yref\":\"y\"},{\"font\":{\"color\":\"#FFFFFF\"},\"showarrow\":false,\"text\":\"-0.01\",\"x\":\"City_Bratislava\",\"xref\":\"x\",\"y\":\"City_Brussels\",\"yref\":\"y\"},{\"font\":{\"color\":\"#000000\"},\"showarrow\":false,\"text\":\"1.0\",\"x\":\"City_Brussels\",\"xref\":\"x\",\"y\":\"City_Brussels\",\"yref\":\"y\"},{\"font\":{\"color\":\"#FFFFFF\"},\"showarrow\":false,\"text\":\"-0.02\",\"x\":\"City_Budapest\",\"xref\":\"x\",\"y\":\"City_Brussels\",\"yref\":\"y\"},{\"font\":{\"color\":\"#FFFFFF\"},\"showarrow\":false,\"text\":\"-0.02\",\"x\":\"City_Copenhagen\",\"xref\":\"x\",\"y\":\"City_Brussels\",\"yref\":\"y\"},{\"font\":{\"color\":\"#FFFFFF\"},\"showarrow\":false,\"text\":\"-0.02\",\"x\":\"City_Dublin\",\"xref\":\"x\",\"y\":\"City_Brussels\",\"yref\":\"y\"},{\"font\":{\"color\":\"#FFFFFF\"},\"showarrow\":false,\"text\":\"-0.02\",\"x\":\"City_Edinburgh\",\"xref\":\"x\",\"y\":\"City_Brussels\",\"yref\":\"y\"},{\"font\":{\"color\":\"#FFFFFF\"},\"showarrow\":false,\"text\":\"-0.02\",\"x\":\"City_Geneva\",\"xref\":\"x\",\"y\":\"City_Brussels\",\"yref\":\"y\"},{\"font\":{\"color\":\"#FFFFFF\"},\"showarrow\":false,\"text\":\"-0.03\",\"x\":\"City_Hamburg\",\"xref\":\"x\",\"y\":\"City_Brussels\",\"yref\":\"y\"},{\"font\":{\"color\":\"#FFFFFF\"},\"showarrow\":false,\"text\":\"-0.02\",\"x\":\"City_Helsinki\",\"xref\":\"x\",\"y\":\"City_Brussels\",\"yref\":\"y\"},{\"font\":{\"color\":\"#FFFFFF\"},\"showarrow\":false,\"text\":\"-0.02\",\"x\":\"City_Krakow\",\"xref\":\"x\",\"y\":\"City_Brussels\",\"yref\":\"y\"},{\"font\":{\"color\":\"#FFFFFF\"},\"showarrow\":false,\"text\":\"-0.03\",\"x\":\"City_Lisbon\",\"xref\":\"x\",\"y\":\"City_Brussels\",\"yref\":\"y\"},{\"font\":{\"color\":\"#FFFFFF\"},\"showarrow\":false,\"text\":\"-0.01\",\"x\":\"City_Ljubljana\",\"xref\":\"x\",\"y\":\"City_Brussels\",\"yref\":\"y\"},{\"font\":{\"color\":\"#FFFFFF\"},\"showarrow\":false,\"text\":\"-0.07\",\"x\":\"City_London\",\"xref\":\"x\",\"y\":\"City_Brussels\",\"yref\":\"y\"},{\"font\":{\"color\":\"#FFFFFF\"},\"showarrow\":false,\"text\":\"-0.01\",\"x\":\"City_Luxembourg\",\"xref\":\"x\",\"y\":\"City_Brussels\",\"yref\":\"y\"},{\"font\":{\"color\":\"#FFFFFF\"},\"showarrow\":false,\"text\":\"-0.02\",\"x\":\"City_Lyon\",\"xref\":\"x\",\"y\":\"City_Brussels\",\"yref\":\"y\"},{\"font\":{\"color\":\"#FFFFFF\"},\"showarrow\":false,\"text\":\"-0.05\",\"x\":\"City_Madrid\",\"xref\":\"x\",\"y\":\"City_Brussels\",\"yref\":\"y\"},{\"font\":{\"color\":\"#FFFFFF\"},\"showarrow\":false,\"text\":\"-0.04\",\"x\":\"City_Milan\",\"xref\":\"x\",\"y\":\"City_Brussels\",\"yref\":\"y\"},{\"font\":{\"color\":\"#FFFFFF\"},\"showarrow\":false,\"text\":\"-0.02\",\"x\":\"City_Munich\",\"xref\":\"x\",\"y\":\"City_Brussels\",\"yref\":\"y\"},{\"font\":{\"color\":\"#FFFFFF\"},\"showarrow\":false,\"text\":\"-0.02\",\"x\":\"City_Oporto\",\"xref\":\"x\",\"y\":\"City_Brussels\",\"yref\":\"y\"},{\"font\":{\"color\":\"#FFFFFF\"},\"showarrow\":false,\"text\":\"-0.02\",\"x\":\"City_Oslo\",\"xref\":\"x\",\"y\":\"City_Brussels\",\"yref\":\"y\"},{\"font\":{\"color\":\"#FFFFFF\"},\"showarrow\":false,\"text\":\"-0.06\",\"x\":\"City_Paris\",\"xref\":\"x\",\"y\":\"City_Brussels\",\"yref\":\"y\"},{\"font\":{\"color\":\"#FFFFFF\"},\"showarrow\":false,\"text\":\"-0.03\",\"x\":\"City_Prague\",\"xref\":\"x\",\"y\":\"City_Brussels\",\"yref\":\"y\"},{\"font\":{\"color\":\"#FFFFFF\"},\"showarrow\":false,\"text\":\"-0.04\",\"x\":\"City_Rome\",\"xref\":\"x\",\"y\":\"City_Brussels\",\"yref\":\"y\"},{\"font\":{\"color\":\"#FFFFFF\"},\"showarrow\":false,\"text\":\"-0.02\",\"x\":\"City_Stockholm\",\"xref\":\"x\",\"y\":\"City_Brussels\",\"yref\":\"y\"},{\"font\":{\"color\":\"#FFFFFF\"},\"showarrow\":false,\"text\":\"-0.03\",\"x\":\"City_Vienna\",\"xref\":\"x\",\"y\":\"City_Brussels\",\"yref\":\"y\"},{\"font\":{\"color\":\"#FFFFFF\"},\"showarrow\":false,\"text\":\"-0.02\",\"x\":\"City_Warsaw\",\"xref\":\"x\",\"y\":\"City_Brussels\",\"yref\":\"y\"},{\"font\":{\"color\":\"#FFFFFF\"},\"showarrow\":false,\"text\":\"-0.02\",\"x\":\"City_Zurich\",\"xref\":\"x\",\"y\":\"City_Brussels\",\"yref\":\"y\"},{\"font\":{\"color\":\"#FFFFFF\"},\"showarrow\":false,\"text\":\"0.02\",\"x\":\"Rating\",\"xref\":\"x\",\"y\":\"City_Budapest\",\"yref\":\"y\"},{\"font\":{\"color\":\"#FFFFFF\"},\"showarrow\":false,\"text\":\"-0.02\",\"x\":\"City_Amsterdam\",\"xref\":\"x\",\"y\":\"City_Budapest\",\"yref\":\"y\"},{\"font\":{\"color\":\"#FFFFFF\"},\"showarrow\":false,\"text\":\"-0.02\",\"x\":\"City_Athens\",\"xref\":\"x\",\"y\":\"City_Budapest\",\"yref\":\"y\"},{\"font\":{\"color\":\"#FFFFFF\"},\"showarrow\":false,\"text\":\"-0.04\",\"x\":\"City_Barcelona\",\"xref\":\"x\",\"y\":\"City_Budapest\",\"yref\":\"y\"},{\"font\":{\"color\":\"#FFFFFF\"},\"showarrow\":false,\"text\":\"-0.03\",\"x\":\"City_Berlin\",\"xref\":\"x\",\"y\":\"City_Budapest\",\"yref\":\"y\"},{\"font\":{\"color\":\"#FFFFFF\"},\"showarrow\":false,\"text\":\"-0.01\",\"x\":\"City_Bratislava\",\"xref\":\"x\",\"y\":\"City_Budapest\",\"yref\":\"y\"},{\"font\":{\"color\":\"#FFFFFF\"},\"showarrow\":false,\"text\":\"-0.02\",\"x\":\"City_Brussels\",\"xref\":\"x\",\"y\":\"City_Budapest\",\"yref\":\"y\"},{\"font\":{\"color\":\"#000000\"},\"showarrow\":false,\"text\":\"1.0\",\"x\":\"City_Budapest\",\"xref\":\"x\",\"y\":\"City_Budapest\",\"yref\":\"y\"},{\"font\":{\"color\":\"#FFFFFF\"},\"showarrow\":false,\"text\":\"-0.02\",\"x\":\"City_Copenhagen\",\"xref\":\"x\",\"y\":\"City_Budapest\",\"yref\":\"y\"},{\"font\":{\"color\":\"#FFFFFF\"},\"showarrow\":false,\"text\":\"-0.02\",\"x\":\"City_Dublin\",\"xref\":\"x\",\"y\":\"City_Budapest\",\"yref\":\"y\"},{\"font\":{\"color\":\"#FFFFFF\"},\"showarrow\":false,\"text\":\"-0.02\",\"x\":\"City_Edinburgh\",\"xref\":\"x\",\"y\":\"City_Budapest\",\"yref\":\"y\"},{\"font\":{\"color\":\"#FFFFFF\"},\"showarrow\":false,\"text\":\"-0.02\",\"x\":\"City_Geneva\",\"xref\":\"x\",\"y\":\"City_Budapest\",\"yref\":\"y\"},{\"font\":{\"color\":\"#FFFFFF\"},\"showarrow\":false,\"text\":\"-0.02\",\"x\":\"City_Hamburg\",\"xref\":\"x\",\"y\":\"City_Budapest\",\"yref\":\"y\"},{\"font\":{\"color\":\"#FFFFFF\"},\"showarrow\":false,\"text\":\"-0.01\",\"x\":\"City_Helsinki\",\"xref\":\"x\",\"y\":\"City_Budapest\",\"yref\":\"y\"},{\"font\":{\"color\":\"#FFFFFF\"},\"showarrow\":false,\"text\":\"-0.02\",\"x\":\"City_Krakow\",\"xref\":\"x\",\"y\":\"City_Budapest\",\"yref\":\"y\"},{\"font\":{\"color\":\"#FFFFFF\"},\"showarrow\":false,\"text\":\"-0.03\",\"x\":\"City_Lisbon\",\"xref\":\"x\",\"y\":\"City_Budapest\",\"yref\":\"y\"},{\"font\":{\"color\":\"#FFFFFF\"},\"showarrow\":false,\"text\":\"-0.01\",\"x\":\"City_Ljubljana\",\"xref\":\"x\",\"y\":\"City_Budapest\",\"yref\":\"y\"},{\"font\":{\"color\":\"#FFFFFF\"},\"showarrow\":false,\"text\":\"-0.06\",\"x\":\"City_London\",\"xref\":\"x\",\"y\":\"City_Budapest\",\"yref\":\"y\"},{\"font\":{\"color\":\"#FFFFFF\"},\"showarrow\":false,\"text\":\"-0.01\",\"x\":\"City_Luxembourg\",\"xref\":\"x\",\"y\":\"City_Budapest\",\"yref\":\"y\"},{\"font\":{\"color\":\"#FFFFFF\"},\"showarrow\":false,\"text\":\"-0.02\",\"x\":\"City_Lyon\",\"xref\":\"x\",\"y\":\"City_Budapest\",\"yref\":\"y\"},{\"font\":{\"color\":\"#FFFFFF\"},\"showarrow\":false,\"text\":\"-0.04\",\"x\":\"City_Madrid\",\"xref\":\"x\",\"y\":\"City_Budapest\",\"yref\":\"y\"},{\"font\":{\"color\":\"#FFFFFF\"},\"showarrow\":false,\"text\":\"-0.03\",\"x\":\"City_Milan\",\"xref\":\"x\",\"y\":\"City_Budapest\",\"yref\":\"y\"},{\"font\":{\"color\":\"#FFFFFF\"},\"showarrow\":false,\"text\":\"-0.02\",\"x\":\"City_Munich\",\"xref\":\"x\",\"y\":\"City_Budapest\",\"yref\":\"y\"},{\"font\":{\"color\":\"#FFFFFF\"},\"showarrow\":false,\"text\":\"-0.02\",\"x\":\"City_Oporto\",\"xref\":\"x\",\"y\":\"City_Budapest\",\"yref\":\"y\"},{\"font\":{\"color\":\"#FFFFFF\"},\"showarrow\":false,\"text\":\"-0.01\",\"x\":\"City_Oslo\",\"xref\":\"x\",\"y\":\"City_Budapest\",\"yref\":\"y\"},{\"font\":{\"color\":\"#FFFFFF\"},\"showarrow\":false,\"text\":\"-0.05\",\"x\":\"City_Paris\",\"xref\":\"x\",\"y\":\"City_Budapest\",\"yref\":\"y\"},{\"font\":{\"color\":\"#FFFFFF\"},\"showarrow\":false,\"text\":\"-0.03\",\"x\":\"City_Prague\",\"xref\":\"x\",\"y\":\"City_Budapest\",\"yref\":\"y\"},{\"font\":{\"color\":\"#FFFFFF\"},\"showarrow\":false,\"text\":\"-0.03\",\"x\":\"City_Rome\",\"xref\":\"x\",\"y\":\"City_Budapest\",\"yref\":\"y\"},{\"font\":{\"color\":\"#FFFFFF\"},\"showarrow\":false,\"text\":\"-0.02\",\"x\":\"City_Stockholm\",\"xref\":\"x\",\"y\":\"City_Budapest\",\"yref\":\"y\"},{\"font\":{\"color\":\"#FFFFFF\"},\"showarrow\":false,\"text\":\"-0.03\",\"x\":\"City_Vienna\",\"xref\":\"x\",\"y\":\"City_Budapest\",\"yref\":\"y\"},{\"font\":{\"color\":\"#FFFFFF\"},\"showarrow\":false,\"text\":\"-0.02\",\"x\":\"City_Warsaw\",\"xref\":\"x\",\"y\":\"City_Budapest\",\"yref\":\"y\"},{\"font\":{\"color\":\"#FFFFFF\"},\"showarrow\":false,\"text\":\"-0.02\",\"x\":\"City_Zurich\",\"xref\":\"x\",\"y\":\"City_Budapest\",\"yref\":\"y\"},{\"font\":{\"color\":\"#FFFFFF\"},\"showarrow\":false,\"text\":\"-0.0\",\"x\":\"Rating\",\"xref\":\"x\",\"y\":\"City_Copenhagen\",\"yref\":\"y\"},{\"font\":{\"color\":\"#FFFFFF\"},\"showarrow\":false,\"text\":\"-0.02\",\"x\":\"City_Amsterdam\",\"xref\":\"x\",\"y\":\"City_Copenhagen\",\"yref\":\"y\"},{\"font\":{\"color\":\"#FFFFFF\"},\"showarrow\":false,\"text\":\"-0.02\",\"x\":\"City_Athens\",\"xref\":\"x\",\"y\":\"City_Copenhagen\",\"yref\":\"y\"},{\"font\":{\"color\":\"#FFFFFF\"},\"showarrow\":false,\"text\":\"-0.04\",\"x\":\"City_Barcelona\",\"xref\":\"x\",\"y\":\"City_Copenhagen\",\"yref\":\"y\"},{\"font\":{\"color\":\"#FFFFFF\"},\"showarrow\":false,\"text\":\"-0.03\",\"x\":\"City_Berlin\",\"xref\":\"x\",\"y\":\"City_Copenhagen\",\"yref\":\"y\"},{\"font\":{\"color\":\"#FFFFFF\"},\"showarrow\":false,\"text\":\"-0.01\",\"x\":\"City_Bratislava\",\"xref\":\"x\",\"y\":\"City_Copenhagen\",\"yref\":\"y\"},{\"font\":{\"color\":\"#FFFFFF\"},\"showarrow\":false,\"text\":\"-0.02\",\"x\":\"City_Brussels\",\"xref\":\"x\",\"y\":\"City_Copenhagen\",\"yref\":\"y\"},{\"font\":{\"color\":\"#FFFFFF\"},\"showarrow\":false,\"text\":\"-0.02\",\"x\":\"City_Budapest\",\"xref\":\"x\",\"y\":\"City_Copenhagen\",\"yref\":\"y\"},{\"font\":{\"color\":\"#000000\"},\"showarrow\":false,\"text\":\"1.0\",\"x\":\"City_Copenhagen\",\"xref\":\"x\",\"y\":\"City_Copenhagen\",\"yref\":\"y\"},{\"font\":{\"color\":\"#FFFFFF\"},\"showarrow\":false,\"text\":\"-0.02\",\"x\":\"City_Dublin\",\"xref\":\"x\",\"y\":\"City_Copenhagen\",\"yref\":\"y\"},{\"font\":{\"color\":\"#FFFFFF\"},\"showarrow\":false,\"text\":\"-0.02\",\"x\":\"City_Edinburgh\",\"xref\":\"x\",\"y\":\"City_Copenhagen\",\"yref\":\"y\"},{\"font\":{\"color\":\"#FFFFFF\"},\"showarrow\":false,\"text\":\"-0.01\",\"x\":\"City_Geneva\",\"xref\":\"x\",\"y\":\"City_Copenhagen\",\"yref\":\"y\"},{\"font\":{\"color\":\"#FFFFFF\"},\"showarrow\":false,\"text\":\"-0.02\",\"x\":\"City_Hamburg\",\"xref\":\"x\",\"y\":\"City_Copenhagen\",\"yref\":\"y\"},{\"font\":{\"color\":\"#FFFFFF\"},\"showarrow\":false,\"text\":\"-0.01\",\"x\":\"City_Helsinki\",\"xref\":\"x\",\"y\":\"City_Copenhagen\",\"yref\":\"y\"},{\"font\":{\"color\":\"#FFFFFF\"},\"showarrow\":false,\"text\":\"-0.01\",\"x\":\"City_Krakow\",\"xref\":\"x\",\"y\":\"City_Copenhagen\",\"yref\":\"y\"},{\"font\":{\"color\":\"#FFFFFF\"},\"showarrow\":false,\"text\":\"-0.02\",\"x\":\"City_Lisbon\",\"xref\":\"x\",\"y\":\"City_Copenhagen\",\"yref\":\"y\"},{\"font\":{\"color\":\"#FFFFFF\"},\"showarrow\":false,\"text\":\"-0.01\",\"x\":\"City_Ljubljana\",\"xref\":\"x\",\"y\":\"City_Copenhagen\",\"yref\":\"y\"},{\"font\":{\"color\":\"#FFFFFF\"},\"showarrow\":false,\"text\":\"-0.05\",\"x\":\"City_London\",\"xref\":\"x\",\"y\":\"City_Copenhagen\",\"yref\":\"y\"},{\"font\":{\"color\":\"#FFFFFF\"},\"showarrow\":false,\"text\":\"-0.01\",\"x\":\"City_Luxembourg\",\"xref\":\"x\",\"y\":\"City_Copenhagen\",\"yref\":\"y\"},{\"font\":{\"color\":\"#FFFFFF\"},\"showarrow\":false,\"text\":\"-0.02\",\"x\":\"City_Lyon\",\"xref\":\"x\",\"y\":\"City_Copenhagen\",\"yref\":\"y\"},{\"font\":{\"color\":\"#FFFFFF\"},\"showarrow\":false,\"text\":\"-0.04\",\"x\":\"City_Madrid\",\"xref\":\"x\",\"y\":\"City_Copenhagen\",\"yref\":\"y\"},{\"font\":{\"color\":\"#FFFFFF\"},\"showarrow\":false,\"text\":\"-0.03\",\"x\":\"City_Milan\",\"xref\":\"x\",\"y\":\"City_Copenhagen\",\"yref\":\"y\"},{\"font\":{\"color\":\"#FFFFFF\"},\"showarrow\":false,\"text\":\"-0.02\",\"x\":\"City_Munich\",\"xref\":\"x\",\"y\":\"City_Copenhagen\",\"yref\":\"y\"},{\"font\":{\"color\":\"#FFFFFF\"},\"showarrow\":false,\"text\":\"-0.01\",\"x\":\"City_Oporto\",\"xref\":\"x\",\"y\":\"City_Copenhagen\",\"yref\":\"y\"},{\"font\":{\"color\":\"#FFFFFF\"},\"showarrow\":false,\"text\":\"-0.01\",\"x\":\"City_Oslo\",\"xref\":\"x\",\"y\":\"City_Copenhagen\",\"yref\":\"y\"},{\"font\":{\"color\":\"#FFFFFF\"},\"showarrow\":false,\"text\":\"-0.05\",\"x\":\"City_Paris\",\"xref\":\"x\",\"y\":\"City_Copenhagen\",\"yref\":\"y\"},{\"font\":{\"color\":\"#FFFFFF\"},\"showarrow\":false,\"text\":\"-0.03\",\"x\":\"City_Prague\",\"xref\":\"x\",\"y\":\"City_Copenhagen\",\"yref\":\"y\"},{\"font\":{\"color\":\"#FFFFFF\"},\"showarrow\":false,\"text\":\"-0.03\",\"x\":\"City_Rome\",\"xref\":\"x\",\"y\":\"City_Copenhagen\",\"yref\":\"y\"},{\"font\":{\"color\":\"#FFFFFF\"},\"showarrow\":false,\"text\":\"-0.02\",\"x\":\"City_Stockholm\",\"xref\":\"x\",\"y\":\"City_Copenhagen\",\"yref\":\"y\"},{\"font\":{\"color\":\"#FFFFFF\"},\"showarrow\":false,\"text\":\"-0.02\",\"x\":\"City_Vienna\",\"xref\":\"x\",\"y\":\"City_Copenhagen\",\"yref\":\"y\"},{\"font\":{\"color\":\"#FFFFFF\"},\"showarrow\":false,\"text\":\"-0.02\",\"x\":\"City_Warsaw\",\"xref\":\"x\",\"y\":\"City_Copenhagen\",\"yref\":\"y\"},{\"font\":{\"color\":\"#FFFFFF\"},\"showarrow\":false,\"text\":\"-0.02\",\"x\":\"City_Zurich\",\"xref\":\"x\",\"y\":\"City_Copenhagen\",\"yref\":\"y\"},{\"font\":{\"color\":\"#FFFFFF\"},\"showarrow\":false,\"text\":\"0.01\",\"x\":\"Rating\",\"xref\":\"x\",\"y\":\"City_Dublin\",\"yref\":\"y\"},{\"font\":{\"color\":\"#FFFFFF\"},\"showarrow\":false,\"text\":\"-0.02\",\"x\":\"City_Amsterdam\",\"xref\":\"x\",\"y\":\"City_Dublin\",\"yref\":\"y\"},{\"font\":{\"color\":\"#FFFFFF\"},\"showarrow\":false,\"text\":\"-0.02\",\"x\":\"City_Athens\",\"xref\":\"x\",\"y\":\"City_Dublin\",\"yref\":\"y\"},{\"font\":{\"color\":\"#FFFFFF\"},\"showarrow\":false,\"text\":\"-0.04\",\"x\":\"City_Barcelona\",\"xref\":\"x\",\"y\":\"City_Dublin\",\"yref\":\"y\"},{\"font\":{\"color\":\"#FFFFFF\"},\"showarrow\":false,\"text\":\"-0.03\",\"x\":\"City_Berlin\",\"xref\":\"x\",\"y\":\"City_Dublin\",\"yref\":\"y\"},{\"font\":{\"color\":\"#FFFFFF\"},\"showarrow\":false,\"text\":\"-0.01\",\"x\":\"City_Bratislava\",\"xref\":\"x\",\"y\":\"City_Dublin\",\"yref\":\"y\"},{\"font\":{\"color\":\"#FFFFFF\"},\"showarrow\":false,\"text\":\"-0.02\",\"x\":\"City_Brussels\",\"xref\":\"x\",\"y\":\"City_Dublin\",\"yref\":\"y\"},{\"font\":{\"color\":\"#FFFFFF\"},\"showarrow\":false,\"text\":\"-0.02\",\"x\":\"City_Budapest\",\"xref\":\"x\",\"y\":\"City_Dublin\",\"yref\":\"y\"},{\"font\":{\"color\":\"#FFFFFF\"},\"showarrow\":false,\"text\":\"-0.02\",\"x\":\"City_Copenhagen\",\"xref\":\"x\",\"y\":\"City_Dublin\",\"yref\":\"y\"},{\"font\":{\"color\":\"#000000\"},\"showarrow\":false,\"text\":\"1.0\",\"x\":\"City_Dublin\",\"xref\":\"x\",\"y\":\"City_Dublin\",\"yref\":\"y\"},{\"font\":{\"color\":\"#FFFFFF\"},\"showarrow\":false,\"text\":\"-0.02\",\"x\":\"City_Edinburgh\",\"xref\":\"x\",\"y\":\"City_Dublin\",\"yref\":\"y\"},{\"font\":{\"color\":\"#FFFFFF\"},\"showarrow\":false,\"text\":\"-0.01\",\"x\":\"City_Geneva\",\"xref\":\"x\",\"y\":\"City_Dublin\",\"yref\":\"y\"},{\"font\":{\"color\":\"#FFFFFF\"},\"showarrow\":false,\"text\":\"-0.02\",\"x\":\"City_Hamburg\",\"xref\":\"x\",\"y\":\"City_Dublin\",\"yref\":\"y\"},{\"font\":{\"color\":\"#FFFFFF\"},\"showarrow\":false,\"text\":\"-0.01\",\"x\":\"City_Helsinki\",\"xref\":\"x\",\"y\":\"City_Dublin\",\"yref\":\"y\"},{\"font\":{\"color\":\"#FFFFFF\"},\"showarrow\":false,\"text\":\"-0.01\",\"x\":\"City_Krakow\",\"xref\":\"x\",\"y\":\"City_Dublin\",\"yref\":\"y\"},{\"font\":{\"color\":\"#FFFFFF\"},\"showarrow\":false,\"text\":\"-0.02\",\"x\":\"City_Lisbon\",\"xref\":\"x\",\"y\":\"City_Dublin\",\"yref\":\"y\"},{\"font\":{\"color\":\"#FFFFFF\"},\"showarrow\":false,\"text\":\"-0.01\",\"x\":\"City_Ljubljana\",\"xref\":\"x\",\"y\":\"City_Dublin\",\"yref\":\"y\"},{\"font\":{\"color\":\"#FFFFFF\"},\"showarrow\":false,\"text\":\"-0.05\",\"x\":\"City_London\",\"xref\":\"x\",\"y\":\"City_Dublin\",\"yref\":\"y\"},{\"font\":{\"color\":\"#FFFFFF\"},\"showarrow\":false,\"text\":\"-0.01\",\"x\":\"City_Luxembourg\",\"xref\":\"x\",\"y\":\"City_Dublin\",\"yref\":\"y\"},{\"font\":{\"color\":\"#FFFFFF\"},\"showarrow\":false,\"text\":\"-0.02\",\"x\":\"City_Lyon\",\"xref\":\"x\",\"y\":\"City_Dublin\",\"yref\":\"y\"},{\"font\":{\"color\":\"#FFFFFF\"},\"showarrow\":false,\"text\":\"-0.04\",\"x\":\"City_Madrid\",\"xref\":\"x\",\"y\":\"City_Dublin\",\"yref\":\"y\"},{\"font\":{\"color\":\"#FFFFFF\"},\"showarrow\":false,\"text\":\"-0.03\",\"x\":\"City_Milan\",\"xref\":\"x\",\"y\":\"City_Dublin\",\"yref\":\"y\"},{\"font\":{\"color\":\"#FFFFFF\"},\"showarrow\":false,\"text\":\"-0.02\",\"x\":\"City_Munich\",\"xref\":\"x\",\"y\":\"City_Dublin\",\"yref\":\"y\"},{\"font\":{\"color\":\"#FFFFFF\"},\"showarrow\":false,\"text\":\"-0.01\",\"x\":\"City_Oporto\",\"xref\":\"x\",\"y\":\"City_Dublin\",\"yref\":\"y\"},{\"font\":{\"color\":\"#FFFFFF\"},\"showarrow\":false,\"text\":\"-0.01\",\"x\":\"City_Oslo\",\"xref\":\"x\",\"y\":\"City_Dublin\",\"yref\":\"y\"},{\"font\":{\"color\":\"#FFFFFF\"},\"showarrow\":false,\"text\":\"-0.05\",\"x\":\"City_Paris\",\"xref\":\"x\",\"y\":\"City_Dublin\",\"yref\":\"y\"},{\"font\":{\"color\":\"#FFFFFF\"},\"showarrow\":false,\"text\":\"-0.03\",\"x\":\"City_Prague\",\"xref\":\"x\",\"y\":\"City_Dublin\",\"yref\":\"y\"},{\"font\":{\"color\":\"#FFFFFF\"},\"showarrow\":false,\"text\":\"-0.03\",\"x\":\"City_Rome\",\"xref\":\"x\",\"y\":\"City_Dublin\",\"yref\":\"y\"},{\"font\":{\"color\":\"#FFFFFF\"},\"showarrow\":false,\"text\":\"-0.02\",\"x\":\"City_Stockholm\",\"xref\":\"x\",\"y\":\"City_Dublin\",\"yref\":\"y\"},{\"font\":{\"color\":\"#FFFFFF\"},\"showarrow\":false,\"text\":\"-0.02\",\"x\":\"City_Vienna\",\"xref\":\"x\",\"y\":\"City_Dublin\",\"yref\":\"y\"},{\"font\":{\"color\":\"#FFFFFF\"},\"showarrow\":false,\"text\":\"-0.02\",\"x\":\"City_Warsaw\",\"xref\":\"x\",\"y\":\"City_Dublin\",\"yref\":\"y\"},{\"font\":{\"color\":\"#FFFFFF\"},\"showarrow\":false,\"text\":\"-0.02\",\"x\":\"City_Zurich\",\"xref\":\"x\",\"y\":\"City_Dublin\",\"yref\":\"y\"},{\"font\":{\"color\":\"#FFFFFF\"},\"showarrow\":false,\"text\":\"0.02\",\"x\":\"Rating\",\"xref\":\"x\",\"y\":\"City_Edinburgh\",\"yref\":\"y\"},{\"font\":{\"color\":\"#FFFFFF\"},\"showarrow\":false,\"text\":\"-0.02\",\"x\":\"City_Amsterdam\",\"xref\":\"x\",\"y\":\"City_Edinburgh\",\"yref\":\"y\"},{\"font\":{\"color\":\"#FFFFFF\"},\"showarrow\":false,\"text\":\"-0.02\",\"x\":\"City_Athens\",\"xref\":\"x\",\"y\":\"City_Edinburgh\",\"yref\":\"y\"},{\"font\":{\"color\":\"#FFFFFF\"},\"showarrow\":false,\"text\":\"-0.03\",\"x\":\"City_Barcelona\",\"xref\":\"x\",\"y\":\"City_Edinburgh\",\"yref\":\"y\"},{\"font\":{\"color\":\"#FFFFFF\"},\"showarrow\":false,\"text\":\"-0.03\",\"x\":\"City_Berlin\",\"xref\":\"x\",\"y\":\"City_Edinburgh\",\"yref\":\"y\"},{\"font\":{\"color\":\"#FFFFFF\"},\"showarrow\":false,\"text\":\"-0.01\",\"x\":\"City_Bratislava\",\"xref\":\"x\",\"y\":\"City_Edinburgh\",\"yref\":\"y\"},{\"font\":{\"color\":\"#FFFFFF\"},\"showarrow\":false,\"text\":\"-0.02\",\"x\":\"City_Brussels\",\"xref\":\"x\",\"y\":\"City_Edinburgh\",\"yref\":\"y\"},{\"font\":{\"color\":\"#FFFFFF\"},\"showarrow\":false,\"text\":\"-0.02\",\"x\":\"City_Budapest\",\"xref\":\"x\",\"y\":\"City_Edinburgh\",\"yref\":\"y\"},{\"font\":{\"color\":\"#FFFFFF\"},\"showarrow\":false,\"text\":\"-0.02\",\"x\":\"City_Copenhagen\",\"xref\":\"x\",\"y\":\"City_Edinburgh\",\"yref\":\"y\"},{\"font\":{\"color\":\"#FFFFFF\"},\"showarrow\":false,\"text\":\"-0.02\",\"x\":\"City_Dublin\",\"xref\":\"x\",\"y\":\"City_Edinburgh\",\"yref\":\"y\"},{\"font\":{\"color\":\"#000000\"},\"showarrow\":false,\"text\":\"1.0\",\"x\":\"City_Edinburgh\",\"xref\":\"x\",\"y\":\"City_Edinburgh\",\"yref\":\"y\"},{\"font\":{\"color\":\"#FFFFFF\"},\"showarrow\":false,\"text\":\"-0.01\",\"x\":\"City_Geneva\",\"xref\":\"x\",\"y\":\"City_Edinburgh\",\"yref\":\"y\"},{\"font\":{\"color\":\"#FFFFFF\"},\"showarrow\":false,\"text\":\"-0.02\",\"x\":\"City_Hamburg\",\"xref\":\"x\",\"y\":\"City_Edinburgh\",\"yref\":\"y\"},{\"font\":{\"color\":\"#FFFFFF\"},\"showarrow\":false,\"text\":\"-0.01\",\"x\":\"City_Helsinki\",\"xref\":\"x\",\"y\":\"City_Edinburgh\",\"yref\":\"y\"},{\"font\":{\"color\":\"#FFFFFF\"},\"showarrow\":false,\"text\":\"-0.01\",\"x\":\"City_Krakow\",\"xref\":\"x\",\"y\":\"City_Edinburgh\",\"yref\":\"y\"},{\"font\":{\"color\":\"#FFFFFF\"},\"showarrow\":false,\"text\":\"-0.02\",\"x\":\"City_Lisbon\",\"xref\":\"x\",\"y\":\"City_Edinburgh\",\"yref\":\"y\"},{\"font\":{\"color\":\"#FFFFFF\"},\"showarrow\":false,\"text\":\"-0.01\",\"x\":\"City_Ljubljana\",\"xref\":\"x\",\"y\":\"City_Edinburgh\",\"yref\":\"y\"},{\"font\":{\"color\":\"#FFFFFF\"},\"showarrow\":false,\"text\":\"-0.05\",\"x\":\"City_London\",\"xref\":\"x\",\"y\":\"City_Edinburgh\",\"yref\":\"y\"},{\"font\":{\"color\":\"#FFFFFF\"},\"showarrow\":false,\"text\":\"-0.01\",\"x\":\"City_Luxembourg\",\"xref\":\"x\",\"y\":\"City_Edinburgh\",\"yref\":\"y\"},{\"font\":{\"color\":\"#FFFFFF\"},\"showarrow\":false,\"text\":\"-0.02\",\"x\":\"City_Lyon\",\"xref\":\"x\",\"y\":\"City_Edinburgh\",\"yref\":\"y\"},{\"font\":{\"color\":\"#FFFFFF\"},\"showarrow\":false,\"text\":\"-0.04\",\"x\":\"City_Madrid\",\"xref\":\"x\",\"y\":\"City_Edinburgh\",\"yref\":\"y\"},{\"font\":{\"color\":\"#FFFFFF\"},\"showarrow\":false,\"text\":\"-0.03\",\"x\":\"City_Milan\",\"xref\":\"x\",\"y\":\"City_Edinburgh\",\"yref\":\"y\"},{\"font\":{\"color\":\"#FFFFFF\"},\"showarrow\":false,\"text\":\"-0.02\",\"x\":\"City_Munich\",\"xref\":\"x\",\"y\":\"City_Edinburgh\",\"yref\":\"y\"},{\"font\":{\"color\":\"#FFFFFF\"},\"showarrow\":false,\"text\":\"-0.01\",\"x\":\"City_Oporto\",\"xref\":\"x\",\"y\":\"City_Edinburgh\",\"yref\":\"y\"},{\"font\":{\"color\":\"#FFFFFF\"},\"showarrow\":false,\"text\":\"-0.01\",\"x\":\"City_Oslo\",\"xref\":\"x\",\"y\":\"City_Edinburgh\",\"yref\":\"y\"},{\"font\":{\"color\":\"#FFFFFF\"},\"showarrow\":false,\"text\":\"-0.05\",\"x\":\"City_Paris\",\"xref\":\"x\",\"y\":\"City_Edinburgh\",\"yref\":\"y\"},{\"font\":{\"color\":\"#FFFFFF\"},\"showarrow\":false,\"text\":\"-0.02\",\"x\":\"City_Prague\",\"xref\":\"x\",\"y\":\"City_Edinburgh\",\"yref\":\"y\"},{\"font\":{\"color\":\"#FFFFFF\"},\"showarrow\":false,\"text\":\"-0.03\",\"x\":\"City_Rome\",\"xref\":\"x\",\"y\":\"City_Edinburgh\",\"yref\":\"y\"},{\"font\":{\"color\":\"#FFFFFF\"},\"showarrow\":false,\"text\":\"-0.02\",\"x\":\"City_Stockholm\",\"xref\":\"x\",\"y\":\"City_Edinburgh\",\"yref\":\"y\"},{\"font\":{\"color\":\"#FFFFFF\"},\"showarrow\":false,\"text\":\"-0.02\",\"x\":\"City_Vienna\",\"xref\":\"x\",\"y\":\"City_Edinburgh\",\"yref\":\"y\"},{\"font\":{\"color\":\"#FFFFFF\"},\"showarrow\":false,\"text\":\"-0.02\",\"x\":\"City_Warsaw\",\"xref\":\"x\",\"y\":\"City_Edinburgh\",\"yref\":\"y\"},{\"font\":{\"color\":\"#FFFFFF\"},\"showarrow\":false,\"text\":\"-0.01\",\"x\":\"City_Zurich\",\"xref\":\"x\",\"y\":\"City_Edinburgh\",\"yref\":\"y\"},{\"font\":{\"color\":\"#FFFFFF\"},\"showarrow\":false,\"text\":\"-0.01\",\"x\":\"Rating\",\"xref\":\"x\",\"y\":\"City_Geneva\",\"yref\":\"y\"},{\"font\":{\"color\":\"#FFFFFF\"},\"showarrow\":false,\"text\":\"-0.02\",\"x\":\"City_Amsterdam\",\"xref\":\"x\",\"y\":\"City_Geneva\",\"yref\":\"y\"},{\"font\":{\"color\":\"#FFFFFF\"},\"showarrow\":false,\"text\":\"-0.01\",\"x\":\"City_Athens\",\"xref\":\"x\",\"y\":\"City_Geneva\",\"yref\":\"y\"},{\"font\":{\"color\":\"#FFFFFF\"},\"showarrow\":false,\"text\":\"-0.03\",\"x\":\"City_Barcelona\",\"xref\":\"x\",\"y\":\"City_Geneva\",\"yref\":\"y\"},{\"font\":{\"color\":\"#FFFFFF\"},\"showarrow\":false,\"text\":\"-0.03\",\"x\":\"City_Berlin\",\"xref\":\"x\",\"y\":\"City_Geneva\",\"yref\":\"y\"},{\"font\":{\"color\":\"#FFFFFF\"},\"showarrow\":false,\"text\":\"-0.01\",\"x\":\"City_Bratislava\",\"xref\":\"x\",\"y\":\"City_Geneva\",\"yref\":\"y\"},{\"font\":{\"color\":\"#FFFFFF\"},\"showarrow\":false,\"text\":\"-0.02\",\"x\":\"City_Brussels\",\"xref\":\"x\",\"y\":\"City_Geneva\",\"yref\":\"y\"},{\"font\":{\"color\":\"#FFFFFF\"},\"showarrow\":false,\"text\":\"-0.02\",\"x\":\"City_Budapest\",\"xref\":\"x\",\"y\":\"City_Geneva\",\"yref\":\"y\"},{\"font\":{\"color\":\"#FFFFFF\"},\"showarrow\":false,\"text\":\"-0.01\",\"x\":\"City_Copenhagen\",\"xref\":\"x\",\"y\":\"City_Geneva\",\"yref\":\"y\"},{\"font\":{\"color\":\"#FFFFFF\"},\"showarrow\":false,\"text\":\"-0.01\",\"x\":\"City_Dublin\",\"xref\":\"x\",\"y\":\"City_Geneva\",\"yref\":\"y\"},{\"font\":{\"color\":\"#FFFFFF\"},\"showarrow\":false,\"text\":\"-0.01\",\"x\":\"City_Edinburgh\",\"xref\":\"x\",\"y\":\"City_Geneva\",\"yref\":\"y\"},{\"font\":{\"color\":\"#000000\"},\"showarrow\":false,\"text\":\"1.0\",\"x\":\"City_Geneva\",\"xref\":\"x\",\"y\":\"City_Geneva\",\"yref\":\"y\"},{\"font\":{\"color\":\"#FFFFFF\"},\"showarrow\":false,\"text\":\"-0.02\",\"x\":\"City_Hamburg\",\"xref\":\"x\",\"y\":\"City_Geneva\",\"yref\":\"y\"},{\"font\":{\"color\":\"#FFFFFF\"},\"showarrow\":false,\"text\":\"-0.01\",\"x\":\"City_Helsinki\",\"xref\":\"x\",\"y\":\"City_Geneva\",\"yref\":\"y\"},{\"font\":{\"color\":\"#FFFFFF\"},\"showarrow\":false,\"text\":\"-0.01\",\"x\":\"City_Krakow\",\"xref\":\"x\",\"y\":\"City_Geneva\",\"yref\":\"y\"},{\"font\":{\"color\":\"#FFFFFF\"},\"showarrow\":false,\"text\":\"-0.02\",\"x\":\"City_Lisbon\",\"xref\":\"x\",\"y\":\"City_Geneva\",\"yref\":\"y\"},{\"font\":{\"color\":\"#FFFFFF\"},\"showarrow\":false,\"text\":\"-0.01\",\"x\":\"City_Ljubljana\",\"xref\":\"x\",\"y\":\"City_Geneva\",\"yref\":\"y\"},{\"font\":{\"color\":\"#FFFFFF\"},\"showarrow\":false,\"text\":\"-0.05\",\"x\":\"City_London\",\"xref\":\"x\",\"y\":\"City_Geneva\",\"yref\":\"y\"},{\"font\":{\"color\":\"#FFFFFF\"},\"showarrow\":false,\"text\":\"-0.01\",\"x\":\"City_Luxembourg\",\"xref\":\"x\",\"y\":\"City_Geneva\",\"yref\":\"y\"},{\"font\":{\"color\":\"#FFFFFF\"},\"showarrow\":false,\"text\":\"-0.02\",\"x\":\"City_Lyon\",\"xref\":\"x\",\"y\":\"City_Geneva\",\"yref\":\"y\"},{\"font\":{\"color\":\"#FFFFFF\"},\"showarrow\":false,\"text\":\"-0.03\",\"x\":\"City_Madrid\",\"xref\":\"x\",\"y\":\"City_Geneva\",\"yref\":\"y\"},{\"font\":{\"color\":\"#FFFFFF\"},\"showarrow\":false,\"text\":\"-0.03\",\"x\":\"City_Milan\",\"xref\":\"x\",\"y\":\"City_Geneva\",\"yref\":\"y\"},{\"font\":{\"color\":\"#FFFFFF\"},\"showarrow\":false,\"text\":\"-0.02\",\"x\":\"City_Munich\",\"xref\":\"x\",\"y\":\"City_Geneva\",\"yref\":\"y\"},{\"font\":{\"color\":\"#FFFFFF\"},\"showarrow\":false,\"text\":\"-0.01\",\"x\":\"City_Oporto\",\"xref\":\"x\",\"y\":\"City_Geneva\",\"yref\":\"y\"},{\"font\":{\"color\":\"#FFFFFF\"},\"showarrow\":false,\"text\":\"-0.01\",\"x\":\"City_Oslo\",\"xref\":\"x\",\"y\":\"City_Geneva\",\"yref\":\"y\"},{\"font\":{\"color\":\"#FFFFFF\"},\"showarrow\":false,\"text\":\"-0.04\",\"x\":\"City_Paris\",\"xref\":\"x\",\"y\":\"City_Geneva\",\"yref\":\"y\"},{\"font\":{\"color\":\"#FFFFFF\"},\"showarrow\":false,\"text\":\"-0.02\",\"x\":\"City_Prague\",\"xref\":\"x\",\"y\":\"City_Geneva\",\"yref\":\"y\"},{\"font\":{\"color\":\"#FFFFFF\"},\"showarrow\":false,\"text\":\"-0.03\",\"x\":\"City_Rome\",\"xref\":\"x\",\"y\":\"City_Geneva\",\"yref\":\"y\"},{\"font\":{\"color\":\"#FFFFFF\"},\"showarrow\":false,\"text\":\"-0.02\",\"x\":\"City_Stockholm\",\"xref\":\"x\",\"y\":\"City_Geneva\",\"yref\":\"y\"},{\"font\":{\"color\":\"#FFFFFF\"},\"showarrow\":false,\"text\":\"-0.02\",\"x\":\"City_Vienna\",\"xref\":\"x\",\"y\":\"City_Geneva\",\"yref\":\"y\"},{\"font\":{\"color\":\"#FFFFFF\"},\"showarrow\":false,\"text\":\"-0.02\",\"x\":\"City_Warsaw\",\"xref\":\"x\",\"y\":\"City_Geneva\",\"yref\":\"y\"},{\"font\":{\"color\":\"#FFFFFF\"},\"showarrow\":false,\"text\":\"-0.01\",\"x\":\"City_Zurich\",\"xref\":\"x\",\"y\":\"City_Geneva\",\"yref\":\"y\"},{\"font\":{\"color\":\"#FFFFFF\"},\"showarrow\":false,\"text\":\"0.01\",\"x\":\"Rating\",\"xref\":\"x\",\"y\":\"City_Hamburg\",\"yref\":\"y\"},{\"font\":{\"color\":\"#FFFFFF\"},\"showarrow\":false,\"text\":\"-0.03\",\"x\":\"City_Amsterdam\",\"xref\":\"x\",\"y\":\"City_Hamburg\",\"yref\":\"y\"},{\"font\":{\"color\":\"#FFFFFF\"},\"showarrow\":false,\"text\":\"-0.02\",\"x\":\"City_Athens\",\"xref\":\"x\",\"y\":\"City_Hamburg\",\"yref\":\"y\"},{\"font\":{\"color\":\"#FFFFFF\"},\"showarrow\":false,\"text\":\"-0.04\",\"x\":\"City_Barcelona\",\"xref\":\"x\",\"y\":\"City_Hamburg\",\"yref\":\"y\"},{\"font\":{\"color\":\"#FFFFFF\"},\"showarrow\":false,\"text\":\"-0.04\",\"x\":\"City_Berlin\",\"xref\":\"x\",\"y\":\"City_Hamburg\",\"yref\":\"y\"},{\"font\":{\"color\":\"#FFFFFF\"},\"showarrow\":false,\"text\":\"-0.01\",\"x\":\"City_Bratislava\",\"xref\":\"x\",\"y\":\"City_Hamburg\",\"yref\":\"y\"},{\"font\":{\"color\":\"#FFFFFF\"},\"showarrow\":false,\"text\":\"-0.03\",\"x\":\"City_Brussels\",\"xref\":\"x\",\"y\":\"City_Hamburg\",\"yref\":\"y\"},{\"font\":{\"color\":\"#FFFFFF\"},\"showarrow\":false,\"text\":\"-0.02\",\"x\":\"City_Budapest\",\"xref\":\"x\",\"y\":\"City_Hamburg\",\"yref\":\"y\"},{\"font\":{\"color\":\"#FFFFFF\"},\"showarrow\":false,\"text\":\"-0.02\",\"x\":\"City_Copenhagen\",\"xref\":\"x\",\"y\":\"City_Hamburg\",\"yref\":\"y\"},{\"font\":{\"color\":\"#FFFFFF\"},\"showarrow\":false,\"text\":\"-0.02\",\"x\":\"City_Dublin\",\"xref\":\"x\",\"y\":\"City_Hamburg\",\"yref\":\"y\"},{\"font\":{\"color\":\"#FFFFFF\"},\"showarrow\":false,\"text\":\"-0.02\",\"x\":\"City_Edinburgh\",\"xref\":\"x\",\"y\":\"City_Hamburg\",\"yref\":\"y\"},{\"font\":{\"color\":\"#FFFFFF\"},\"showarrow\":false,\"text\":\"-0.02\",\"x\":\"City_Geneva\",\"xref\":\"x\",\"y\":\"City_Hamburg\",\"yref\":\"y\"},{\"font\":{\"color\":\"#000000\"},\"showarrow\":false,\"text\":\"1.0\",\"x\":\"City_Hamburg\",\"xref\":\"x\",\"y\":\"City_Hamburg\",\"yref\":\"y\"},{\"font\":{\"color\":\"#FFFFFF\"},\"showarrow\":false,\"text\":\"-0.02\",\"x\":\"City_Helsinki\",\"xref\":\"x\",\"y\":\"City_Hamburg\",\"yref\":\"y\"},{\"font\":{\"color\":\"#FFFFFF\"},\"showarrow\":false,\"text\":\"-0.02\",\"x\":\"City_Krakow\",\"xref\":\"x\",\"y\":\"City_Hamburg\",\"yref\":\"y\"},{\"font\":{\"color\":\"#FFFFFF\"},\"showarrow\":false,\"text\":\"-0.03\",\"x\":\"City_Lisbon\",\"xref\":\"x\",\"y\":\"City_Hamburg\",\"yref\":\"y\"},{\"font\":{\"color\":\"#FFFFFF\"},\"showarrow\":false,\"text\":\"-0.01\",\"x\":\"City_Ljubljana\",\"xref\":\"x\",\"y\":\"City_Hamburg\",\"yref\":\"y\"},{\"font\":{\"color\":\"#FFFFFF\"},\"showarrow\":false,\"text\":\"-0.06\",\"x\":\"City_London\",\"xref\":\"x\",\"y\":\"City_Hamburg\",\"yref\":\"y\"},{\"font\":{\"color\":\"#FFFFFF\"},\"showarrow\":false,\"text\":\"-0.01\",\"x\":\"City_Luxembourg\",\"xref\":\"x\",\"y\":\"City_Hamburg\",\"yref\":\"y\"},{\"font\":{\"color\":\"#FFFFFF\"},\"showarrow\":false,\"text\":\"-0.02\",\"x\":\"City_Lyon\",\"xref\":\"x\",\"y\":\"City_Hamburg\",\"yref\":\"y\"},{\"font\":{\"color\":\"#FFFFFF\"},\"showarrow\":false,\"text\":\"-0.05\",\"x\":\"City_Madrid\",\"xref\":\"x\",\"y\":\"City_Hamburg\",\"yref\":\"y\"},{\"font\":{\"color\":\"#FFFFFF\"},\"showarrow\":false,\"text\":\"-0.04\",\"x\":\"City_Milan\",\"xref\":\"x\",\"y\":\"City_Hamburg\",\"yref\":\"y\"},{\"font\":{\"color\":\"#FFFFFF\"},\"showarrow\":false,\"text\":\"-0.02\",\"x\":\"City_Munich\",\"xref\":\"x\",\"y\":\"City_Hamburg\",\"yref\":\"y\"},{\"font\":{\"color\":\"#FFFFFF\"},\"showarrow\":false,\"text\":\"-0.02\",\"x\":\"City_Oporto\",\"xref\":\"x\",\"y\":\"City_Hamburg\",\"yref\":\"y\"},{\"font\":{\"color\":\"#FFFFFF\"},\"showarrow\":false,\"text\":\"-0.02\",\"x\":\"City_Oslo\",\"xref\":\"x\",\"y\":\"City_Hamburg\",\"yref\":\"y\"},{\"font\":{\"color\":\"#FFFFFF\"},\"showarrow\":false,\"text\":\"-0.06\",\"x\":\"City_Paris\",\"xref\":\"x\",\"y\":\"City_Hamburg\",\"yref\":\"y\"},{\"font\":{\"color\":\"#FFFFFF\"},\"showarrow\":false,\"text\":\"-0.03\",\"x\":\"City_Prague\",\"xref\":\"x\",\"y\":\"City_Hamburg\",\"yref\":\"y\"},{\"font\":{\"color\":\"#FFFFFF\"},\"showarrow\":false,\"text\":\"-0.04\",\"x\":\"City_Rome\",\"xref\":\"x\",\"y\":\"City_Hamburg\",\"yref\":\"y\"},{\"font\":{\"color\":\"#FFFFFF\"},\"showarrow\":false,\"text\":\"-0.02\",\"x\":\"City_Stockholm\",\"xref\":\"x\",\"y\":\"City_Hamburg\",\"yref\":\"y\"},{\"font\":{\"color\":\"#FFFFFF\"},\"showarrow\":false,\"text\":\"-0.03\",\"x\":\"City_Vienna\",\"xref\":\"x\",\"y\":\"City_Hamburg\",\"yref\":\"y\"},{\"font\":{\"color\":\"#FFFFFF\"},\"showarrow\":false,\"text\":\"-0.02\",\"x\":\"City_Warsaw\",\"xref\":\"x\",\"y\":\"City_Hamburg\",\"yref\":\"y\"},{\"font\":{\"color\":\"#FFFFFF\"},\"showarrow\":false,\"text\":\"-0.02\",\"x\":\"City_Zurich\",\"xref\":\"x\",\"y\":\"City_Hamburg\",\"yref\":\"y\"},{\"font\":{\"color\":\"#FFFFFF\"},\"showarrow\":false,\"text\":\"-0.01\",\"x\":\"Rating\",\"xref\":\"x\",\"y\":\"City_Helsinki\",\"yref\":\"y\"},{\"font\":{\"color\":\"#FFFFFF\"},\"showarrow\":false,\"text\":\"-0.02\",\"x\":\"City_Amsterdam\",\"xref\":\"x\",\"y\":\"City_Helsinki\",\"yref\":\"y\"},{\"font\":{\"color\":\"#FFFFFF\"},\"showarrow\":false,\"text\":\"-0.01\",\"x\":\"City_Athens\",\"xref\":\"x\",\"y\":\"City_Helsinki\",\"yref\":\"y\"},{\"font\":{\"color\":\"#FFFFFF\"},\"showarrow\":false,\"text\":\"-0.03\",\"x\":\"City_Barcelona\",\"xref\":\"x\",\"y\":\"City_Helsinki\",\"yref\":\"y\"},{\"font\":{\"color\":\"#FFFFFF\"},\"showarrow\":false,\"text\":\"-0.02\",\"x\":\"City_Berlin\",\"xref\":\"x\",\"y\":\"City_Helsinki\",\"yref\":\"y\"},{\"font\":{\"color\":\"#FFFFFF\"},\"showarrow\":false,\"text\":\"-0.01\",\"x\":\"City_Bratislava\",\"xref\":\"x\",\"y\":\"City_Helsinki\",\"yref\":\"y\"},{\"font\":{\"color\":\"#FFFFFF\"},\"showarrow\":false,\"text\":\"-0.02\",\"x\":\"City_Brussels\",\"xref\":\"x\",\"y\":\"City_Helsinki\",\"yref\":\"y\"},{\"font\":{\"color\":\"#FFFFFF\"},\"showarrow\":false,\"text\":\"-0.01\",\"x\":\"City_Budapest\",\"xref\":\"x\",\"y\":\"City_Helsinki\",\"yref\":\"y\"},{\"font\":{\"color\":\"#FFFFFF\"},\"showarrow\":false,\"text\":\"-0.01\",\"x\":\"City_Copenhagen\",\"xref\":\"x\",\"y\":\"City_Helsinki\",\"yref\":\"y\"},{\"font\":{\"color\":\"#FFFFFF\"},\"showarrow\":false,\"text\":\"-0.01\",\"x\":\"City_Dublin\",\"xref\":\"x\",\"y\":\"City_Helsinki\",\"yref\":\"y\"},{\"font\":{\"color\":\"#FFFFFF\"},\"showarrow\":false,\"text\":\"-0.01\",\"x\":\"City_Edinburgh\",\"xref\":\"x\",\"y\":\"City_Helsinki\",\"yref\":\"y\"},{\"font\":{\"color\":\"#FFFFFF\"},\"showarrow\":false,\"text\":\"-0.01\",\"x\":\"City_Geneva\",\"xref\":\"x\",\"y\":\"City_Helsinki\",\"yref\":\"y\"},{\"font\":{\"color\":\"#FFFFFF\"},\"showarrow\":false,\"text\":\"-0.02\",\"x\":\"City_Hamburg\",\"xref\":\"x\",\"y\":\"City_Helsinki\",\"yref\":\"y\"},{\"font\":{\"color\":\"#000000\"},\"showarrow\":false,\"text\":\"1.0\",\"x\":\"City_Helsinki\",\"xref\":\"x\",\"y\":\"City_Helsinki\",\"yref\":\"y\"},{\"font\":{\"color\":\"#FFFFFF\"},\"showarrow\":false,\"text\":\"-0.01\",\"x\":\"City_Krakow\",\"xref\":\"x\",\"y\":\"City_Helsinki\",\"yref\":\"y\"},{\"font\":{\"color\":\"#FFFFFF\"},\"showarrow\":false,\"text\":\"-0.02\",\"x\":\"City_Lisbon\",\"xref\":\"x\",\"y\":\"City_Helsinki\",\"yref\":\"y\"},{\"font\":{\"color\":\"#FFFFFF\"},\"showarrow\":false,\"text\":\"-0.01\",\"x\":\"City_Ljubljana\",\"xref\":\"x\",\"y\":\"City_Helsinki\",\"yref\":\"y\"},{\"font\":{\"color\":\"#FFFFFF\"},\"showarrow\":false,\"text\":\"-0.04\",\"x\":\"City_London\",\"xref\":\"x\",\"y\":\"City_Helsinki\",\"yref\":\"y\"},{\"font\":{\"color\":\"#FFFFFF\"},\"showarrow\":false,\"text\":\"-0.01\",\"x\":\"City_Luxembourg\",\"xref\":\"x\",\"y\":\"City_Helsinki\",\"yref\":\"y\"},{\"font\":{\"color\":\"#FFFFFF\"},\"showarrow\":false,\"text\":\"-0.01\",\"x\":\"City_Lyon\",\"xref\":\"x\",\"y\":\"City_Helsinki\",\"yref\":\"y\"},{\"font\":{\"color\":\"#FFFFFF\"},\"showarrow\":false,\"text\":\"-0.03\",\"x\":\"City_Madrid\",\"xref\":\"x\",\"y\":\"City_Helsinki\",\"yref\":\"y\"},{\"font\":{\"color\":\"#FFFFFF\"},\"showarrow\":false,\"text\":\"-0.02\",\"x\":\"City_Milan\",\"xref\":\"x\",\"y\":\"City_Helsinki\",\"yref\":\"y\"},{\"font\":{\"color\":\"#FFFFFF\"},\"showarrow\":false,\"text\":\"-0.01\",\"x\":\"City_Munich\",\"xref\":\"x\",\"y\":\"City_Helsinki\",\"yref\":\"y\"},{\"font\":{\"color\":\"#FFFFFF\"},\"showarrow\":false,\"text\":\"-0.01\",\"x\":\"City_Oporto\",\"xref\":\"x\",\"y\":\"City_Helsinki\",\"yref\":\"y\"},{\"font\":{\"color\":\"#FFFFFF\"},\"showarrow\":false,\"text\":\"-0.01\",\"x\":\"City_Oslo\",\"xref\":\"x\",\"y\":\"City_Helsinki\",\"yref\":\"y\"},{\"font\":{\"color\":\"#FFFFFF\"},\"showarrow\":false,\"text\":\"-0.04\",\"x\":\"City_Paris\",\"xref\":\"x\",\"y\":\"City_Helsinki\",\"yref\":\"y\"},{\"font\":{\"color\":\"#FFFFFF\"},\"showarrow\":false,\"text\":\"-0.02\",\"x\":\"City_Prague\",\"xref\":\"x\",\"y\":\"City_Helsinki\",\"yref\":\"y\"},{\"font\":{\"color\":\"#FFFFFF\"},\"showarrow\":false,\"text\":\"-0.02\",\"x\":\"City_Rome\",\"xref\":\"x\",\"y\":\"City_Helsinki\",\"yref\":\"y\"},{\"font\":{\"color\":\"#FFFFFF\"},\"showarrow\":false,\"text\":\"-0.01\",\"x\":\"City_Stockholm\",\"xref\":\"x\",\"y\":\"City_Helsinki\",\"yref\":\"y\"},{\"font\":{\"color\":\"#FFFFFF\"},\"showarrow\":false,\"text\":\"-0.02\",\"x\":\"City_Vienna\",\"xref\":\"x\",\"y\":\"City_Helsinki\",\"yref\":\"y\"},{\"font\":{\"color\":\"#FFFFFF\"},\"showarrow\":false,\"text\":\"-0.01\",\"x\":\"City_Warsaw\",\"xref\":\"x\",\"y\":\"City_Helsinki\",\"yref\":\"y\"},{\"font\":{\"color\":\"#FFFFFF\"},\"showarrow\":false,\"text\":\"-0.01\",\"x\":\"City_Zurich\",\"xref\":\"x\",\"y\":\"City_Helsinki\",\"yref\":\"y\"},{\"font\":{\"color\":\"#FFFFFF\"},\"showarrow\":false,\"text\":\"0.02\",\"x\":\"Rating\",\"xref\":\"x\",\"y\":\"City_Krakow\",\"yref\":\"y\"},{\"font\":{\"color\":\"#FFFFFF\"},\"showarrow\":false,\"text\":\"-0.02\",\"x\":\"City_Amsterdam\",\"xref\":\"x\",\"y\":\"City_Krakow\",\"yref\":\"y\"},{\"font\":{\"color\":\"#FFFFFF\"},\"showarrow\":false,\"text\":\"-0.01\",\"x\":\"City_Athens\",\"xref\":\"x\",\"y\":\"City_Krakow\",\"yref\":\"y\"},{\"font\":{\"color\":\"#FFFFFF\"},\"showarrow\":false,\"text\":\"-0.03\",\"x\":\"City_Barcelona\",\"xref\":\"x\",\"y\":\"City_Krakow\",\"yref\":\"y\"},{\"font\":{\"color\":\"#FFFFFF\"},\"showarrow\":false,\"text\":\"-0.03\",\"x\":\"City_Berlin\",\"xref\":\"x\",\"y\":\"City_Krakow\",\"yref\":\"y\"},{\"font\":{\"color\":\"#FFFFFF\"},\"showarrow\":false,\"text\":\"-0.01\",\"x\":\"City_Bratislava\",\"xref\":\"x\",\"y\":\"City_Krakow\",\"yref\":\"y\"},{\"font\":{\"color\":\"#FFFFFF\"},\"showarrow\":false,\"text\":\"-0.02\",\"x\":\"City_Brussels\",\"xref\":\"x\",\"y\":\"City_Krakow\",\"yref\":\"y\"},{\"font\":{\"color\":\"#FFFFFF\"},\"showarrow\":false,\"text\":\"-0.02\",\"x\":\"City_Budapest\",\"xref\":\"x\",\"y\":\"City_Krakow\",\"yref\":\"y\"},{\"font\":{\"color\":\"#FFFFFF\"},\"showarrow\":false,\"text\":\"-0.01\",\"x\":\"City_Copenhagen\",\"xref\":\"x\",\"y\":\"City_Krakow\",\"yref\":\"y\"},{\"font\":{\"color\":\"#FFFFFF\"},\"showarrow\":false,\"text\":\"-0.01\",\"x\":\"City_Dublin\",\"xref\":\"x\",\"y\":\"City_Krakow\",\"yref\":\"y\"},{\"font\":{\"color\":\"#FFFFFF\"},\"showarrow\":false,\"text\":\"-0.01\",\"x\":\"City_Edinburgh\",\"xref\":\"x\",\"y\":\"City_Krakow\",\"yref\":\"y\"},{\"font\":{\"color\":\"#FFFFFF\"},\"showarrow\":false,\"text\":\"-0.01\",\"x\":\"City_Geneva\",\"xref\":\"x\",\"y\":\"City_Krakow\",\"yref\":\"y\"},{\"font\":{\"color\":\"#FFFFFF\"},\"showarrow\":false,\"text\":\"-0.02\",\"x\":\"City_Hamburg\",\"xref\":\"x\",\"y\":\"City_Krakow\",\"yref\":\"y\"},{\"font\":{\"color\":\"#FFFFFF\"},\"showarrow\":false,\"text\":\"-0.01\",\"x\":\"City_Helsinki\",\"xref\":\"x\",\"y\":\"City_Krakow\",\"yref\":\"y\"},{\"font\":{\"color\":\"#000000\"},\"showarrow\":false,\"text\":\"1.0\",\"x\":\"City_Krakow\",\"xref\":\"x\",\"y\":\"City_Krakow\",\"yref\":\"y\"},{\"font\":{\"color\":\"#FFFFFF\"},\"showarrow\":false,\"text\":\"-0.02\",\"x\":\"City_Lisbon\",\"xref\":\"x\",\"y\":\"City_Krakow\",\"yref\":\"y\"},{\"font\":{\"color\":\"#FFFFFF\"},\"showarrow\":false,\"text\":\"-0.01\",\"x\":\"City_Ljubljana\",\"xref\":\"x\",\"y\":\"City_Krakow\",\"yref\":\"y\"},{\"font\":{\"color\":\"#FFFFFF\"},\"showarrow\":false,\"text\":\"-0.04\",\"x\":\"City_London\",\"xref\":\"x\",\"y\":\"City_Krakow\",\"yref\":\"y\"},{\"font\":{\"color\":\"#FFFFFF\"},\"showarrow\":false,\"text\":\"-0.01\",\"x\":\"City_Luxembourg\",\"xref\":\"x\",\"y\":\"City_Krakow\",\"yref\":\"y\"},{\"font\":{\"color\":\"#FFFFFF\"},\"showarrow\":false,\"text\":\"-0.02\",\"x\":\"City_Lyon\",\"xref\":\"x\",\"y\":\"City_Krakow\",\"yref\":\"y\"},{\"font\":{\"color\":\"#FFFFFF\"},\"showarrow\":false,\"text\":\"-0.03\",\"x\":\"City_Madrid\",\"xref\":\"x\",\"y\":\"City_Krakow\",\"yref\":\"y\"},{\"font\":{\"color\":\"#FFFFFF\"},\"showarrow\":false,\"text\":\"-0.03\",\"x\":\"City_Milan\",\"xref\":\"x\",\"y\":\"City_Krakow\",\"yref\":\"y\"},{\"font\":{\"color\":\"#FFFFFF\"},\"showarrow\":false,\"text\":\"-0.02\",\"x\":\"City_Munich\",\"xref\":\"x\",\"y\":\"City_Krakow\",\"yref\":\"y\"},{\"font\":{\"color\":\"#FFFFFF\"},\"showarrow\":false,\"text\":\"-0.01\",\"x\":\"City_Oporto\",\"xref\":\"x\",\"y\":\"City_Krakow\",\"yref\":\"y\"},{\"font\":{\"color\":\"#FFFFFF\"},\"showarrow\":false,\"text\":\"-0.01\",\"x\":\"City_Oslo\",\"xref\":\"x\",\"y\":\"City_Krakow\",\"yref\":\"y\"},{\"font\":{\"color\":\"#FFFFFF\"},\"showarrow\":false,\"text\":\"-0.04\",\"x\":\"City_Paris\",\"xref\":\"x\",\"y\":\"City_Krakow\",\"yref\":\"y\"},{\"font\":{\"color\":\"#FFFFFF\"},\"showarrow\":false,\"text\":\"-0.02\",\"x\":\"City_Prague\",\"xref\":\"x\",\"y\":\"City_Krakow\",\"yref\":\"y\"},{\"font\":{\"color\":\"#FFFFFF\"},\"showarrow\":false,\"text\":\"-0.02\",\"x\":\"City_Rome\",\"xref\":\"x\",\"y\":\"City_Krakow\",\"yref\":\"y\"},{\"font\":{\"color\":\"#FFFFFF\"},\"showarrow\":false,\"text\":\"-0.02\",\"x\":\"City_Stockholm\",\"xref\":\"x\",\"y\":\"City_Krakow\",\"yref\":\"y\"},{\"font\":{\"color\":\"#FFFFFF\"},\"showarrow\":false,\"text\":\"-0.02\",\"x\":\"City_Vienna\",\"xref\":\"x\",\"y\":\"City_Krakow\",\"yref\":\"y\"},{\"font\":{\"color\":\"#FFFFFF\"},\"showarrow\":false,\"text\":\"-0.01\",\"x\":\"City_Warsaw\",\"xref\":\"x\",\"y\":\"City_Krakow\",\"yref\":\"y\"},{\"font\":{\"color\":\"#FFFFFF\"},\"showarrow\":false,\"text\":\"-0.01\",\"x\":\"City_Zurich\",\"xref\":\"x\",\"y\":\"City_Krakow\",\"yref\":\"y\"},{\"font\":{\"color\":\"#FFFFFF\"},\"showarrow\":false,\"text\":\"0.01\",\"x\":\"Rating\",\"xref\":\"x\",\"y\":\"City_Lisbon\",\"yref\":\"y\"},{\"font\":{\"color\":\"#FFFFFF\"},\"showarrow\":false,\"text\":\"-0.03\",\"x\":\"City_Amsterdam\",\"xref\":\"x\",\"y\":\"City_Lisbon\",\"yref\":\"y\"},{\"font\":{\"color\":\"#FFFFFF\"},\"showarrow\":false,\"text\":\"-0.02\",\"x\":\"City_Athens\",\"xref\":\"x\",\"y\":\"City_Lisbon\",\"yref\":\"y\"},{\"font\":{\"color\":\"#FFFFFF\"},\"showarrow\":false,\"text\":\"-0.05\",\"x\":\"City_Barcelona\",\"xref\":\"x\",\"y\":\"City_Lisbon\",\"yref\":\"y\"},{\"font\":{\"color\":\"#FFFFFF\"},\"showarrow\":false,\"text\":\"-0.04\",\"x\":\"City_Berlin\",\"xref\":\"x\",\"y\":\"City_Lisbon\",\"yref\":\"y\"},{\"font\":{\"color\":\"#FFFFFF\"},\"showarrow\":false,\"text\":\"-0.02\",\"x\":\"City_Bratislava\",\"xref\":\"x\",\"y\":\"City_Lisbon\",\"yref\":\"y\"},{\"font\":{\"color\":\"#FFFFFF\"},\"showarrow\":false,\"text\":\"-0.03\",\"x\":\"City_Brussels\",\"xref\":\"x\",\"y\":\"City_Lisbon\",\"yref\":\"y\"},{\"font\":{\"color\":\"#FFFFFF\"},\"showarrow\":false,\"text\":\"-0.03\",\"x\":\"City_Budapest\",\"xref\":\"x\",\"y\":\"City_Lisbon\",\"yref\":\"y\"},{\"font\":{\"color\":\"#FFFFFF\"},\"showarrow\":false,\"text\":\"-0.02\",\"x\":\"City_Copenhagen\",\"xref\":\"x\",\"y\":\"City_Lisbon\",\"yref\":\"y\"},{\"font\":{\"color\":\"#FFFFFF\"},\"showarrow\":false,\"text\":\"-0.02\",\"x\":\"City_Dublin\",\"xref\":\"x\",\"y\":\"City_Lisbon\",\"yref\":\"y\"},{\"font\":{\"color\":\"#FFFFFF\"},\"showarrow\":false,\"text\":\"-0.02\",\"x\":\"City_Edinburgh\",\"xref\":\"x\",\"y\":\"City_Lisbon\",\"yref\":\"y\"},{\"font\":{\"color\":\"#FFFFFF\"},\"showarrow\":false,\"text\":\"-0.02\",\"x\":\"City_Geneva\",\"xref\":\"x\",\"y\":\"City_Lisbon\",\"yref\":\"y\"},{\"font\":{\"color\":\"#FFFFFF\"},\"showarrow\":false,\"text\":\"-0.03\",\"x\":\"City_Hamburg\",\"xref\":\"x\",\"y\":\"City_Lisbon\",\"yref\":\"y\"},{\"font\":{\"color\":\"#FFFFFF\"},\"showarrow\":false,\"text\":\"-0.02\",\"x\":\"City_Helsinki\",\"xref\":\"x\",\"y\":\"City_Lisbon\",\"yref\":\"y\"},{\"font\":{\"color\":\"#FFFFFF\"},\"showarrow\":false,\"text\":\"-0.02\",\"x\":\"City_Krakow\",\"xref\":\"x\",\"y\":\"City_Lisbon\",\"yref\":\"y\"},{\"font\":{\"color\":\"#000000\"},\"showarrow\":false,\"text\":\"1.0\",\"x\":\"City_Lisbon\",\"xref\":\"x\",\"y\":\"City_Lisbon\",\"yref\":\"y\"},{\"font\":{\"color\":\"#FFFFFF\"},\"showarrow\":false,\"text\":\"-0.01\",\"x\":\"City_Ljubljana\",\"xref\":\"x\",\"y\":\"City_Lisbon\",\"yref\":\"y\"},{\"font\":{\"color\":\"#FFFFFF\"},\"showarrow\":false,\"text\":\"-0.08\",\"x\":\"City_London\",\"xref\":\"x\",\"y\":\"City_Lisbon\",\"yref\":\"y\"},{\"font\":{\"color\":\"#FFFFFF\"},\"showarrow\":false,\"text\":\"-0.01\",\"x\":\"City_Luxembourg\",\"xref\":\"x\",\"y\":\"City_Lisbon\",\"yref\":\"y\"},{\"font\":{\"color\":\"#FFFFFF\"},\"showarrow\":false,\"text\":\"-0.03\",\"x\":\"City_Lyon\",\"xref\":\"x\",\"y\":\"City_Lisbon\",\"yref\":\"y\"},{\"font\":{\"color\":\"#FFFFFF\"},\"showarrow\":false,\"text\":\"-0.05\",\"x\":\"City_Madrid\",\"xref\":\"x\",\"y\":\"City_Lisbon\",\"yref\":\"y\"},{\"font\":{\"color\":\"#FFFFFF\"},\"showarrow\":false,\"text\":\"-0.04\",\"x\":\"City_Milan\",\"xref\":\"x\",\"y\":\"City_Lisbon\",\"yref\":\"y\"},{\"font\":{\"color\":\"#FFFFFF\"},\"showarrow\":false,\"text\":\"-0.03\",\"x\":\"City_Munich\",\"xref\":\"x\",\"y\":\"City_Lisbon\",\"yref\":\"y\"},{\"font\":{\"color\":\"#FFFFFF\"},\"showarrow\":false,\"text\":\"-0.02\",\"x\":\"City_Oporto\",\"xref\":\"x\",\"y\":\"City_Lisbon\",\"yref\":\"y\"},{\"font\":{\"color\":\"#FFFFFF\"},\"showarrow\":false,\"text\":\"-0.02\",\"x\":\"City_Oslo\",\"xref\":\"x\",\"y\":\"City_Lisbon\",\"yref\":\"y\"},{\"font\":{\"color\":\"#FFFFFF\"},\"showarrow\":false,\"text\":\"-0.07\",\"x\":\"City_Paris\",\"xref\":\"x\",\"y\":\"City_Lisbon\",\"yref\":\"y\"},{\"font\":{\"color\":\"#FFFFFF\"},\"showarrow\":false,\"text\":\"-0.04\",\"x\":\"City_Prague\",\"xref\":\"x\",\"y\":\"City_Lisbon\",\"yref\":\"y\"},{\"font\":{\"color\":\"#FFFFFF\"},\"showarrow\":false,\"text\":\"-0.04\",\"x\":\"City_Rome\",\"xref\":\"x\",\"y\":\"City_Lisbon\",\"yref\":\"y\"},{\"font\":{\"color\":\"#FFFFFF\"},\"showarrow\":false,\"text\":\"-0.03\",\"x\":\"City_Stockholm\",\"xref\":\"x\",\"y\":\"City_Lisbon\",\"yref\":\"y\"},{\"font\":{\"color\":\"#FFFFFF\"},\"showarrow\":false,\"text\":\"-0.03\",\"x\":\"City_Vienna\",\"xref\":\"x\",\"y\":\"City_Lisbon\",\"yref\":\"y\"},{\"font\":{\"color\":\"#FFFFFF\"},\"showarrow\":false,\"text\":\"-0.02\",\"x\":\"City_Warsaw\",\"xref\":\"x\",\"y\":\"City_Lisbon\",\"yref\":\"y\"},{\"font\":{\"color\":\"#FFFFFF\"},\"showarrow\":false,\"text\":\"-0.02\",\"x\":\"City_Zurich\",\"xref\":\"x\",\"y\":\"City_Lisbon\",\"yref\":\"y\"},{\"font\":{\"color\":\"#FFFFFF\"},\"showarrow\":false,\"text\":\"0.01\",\"x\":\"Rating\",\"xref\":\"x\",\"y\":\"City_Ljubljana\",\"yref\":\"y\"},{\"font\":{\"color\":\"#FFFFFF\"},\"showarrow\":false,\"text\":\"-0.01\",\"x\":\"City_Amsterdam\",\"xref\":\"x\",\"y\":\"City_Ljubljana\",\"yref\":\"y\"},{\"font\":{\"color\":\"#FFFFFF\"},\"showarrow\":false,\"text\":\"-0.01\",\"x\":\"City_Athens\",\"xref\":\"x\",\"y\":\"City_Ljubljana\",\"yref\":\"y\"},{\"font\":{\"color\":\"#FFFFFF\"},\"showarrow\":false,\"text\":\"-0.02\",\"x\":\"City_Barcelona\",\"xref\":\"x\",\"y\":\"City_Ljubljana\",\"yref\":\"y\"},{\"font\":{\"color\":\"#FFFFFF\"},\"showarrow\":false,\"text\":\"-0.02\",\"x\":\"City_Berlin\",\"xref\":\"x\",\"y\":\"City_Ljubljana\",\"yref\":\"y\"},{\"font\":{\"color\":\"#FFFFFF\"},\"showarrow\":false,\"text\":\"-0.01\",\"x\":\"City_Bratislava\",\"xref\":\"x\",\"y\":\"City_Ljubljana\",\"yref\":\"y\"},{\"font\":{\"color\":\"#FFFFFF\"},\"showarrow\":false,\"text\":\"-0.01\",\"x\":\"City_Brussels\",\"xref\":\"x\",\"y\":\"City_Ljubljana\",\"yref\":\"y\"},{\"font\":{\"color\":\"#FFFFFF\"},\"showarrow\":false,\"text\":\"-0.01\",\"x\":\"City_Budapest\",\"xref\":\"x\",\"y\":\"City_Ljubljana\",\"yref\":\"y\"},{\"font\":{\"color\":\"#FFFFFF\"},\"showarrow\":false,\"text\":\"-0.01\",\"x\":\"City_Copenhagen\",\"xref\":\"x\",\"y\":\"City_Ljubljana\",\"yref\":\"y\"},{\"font\":{\"color\":\"#FFFFFF\"},\"showarrow\":false,\"text\":\"-0.01\",\"x\":\"City_Dublin\",\"xref\":\"x\",\"y\":\"City_Ljubljana\",\"yref\":\"y\"},{\"font\":{\"color\":\"#FFFFFF\"},\"showarrow\":false,\"text\":\"-0.01\",\"x\":\"City_Edinburgh\",\"xref\":\"x\",\"y\":\"City_Ljubljana\",\"yref\":\"y\"},{\"font\":{\"color\":\"#FFFFFF\"},\"showarrow\":false,\"text\":\"-0.01\",\"x\":\"City_Geneva\",\"xref\":\"x\",\"y\":\"City_Ljubljana\",\"yref\":\"y\"},{\"font\":{\"color\":\"#FFFFFF\"},\"showarrow\":false,\"text\":\"-0.01\",\"x\":\"City_Hamburg\",\"xref\":\"x\",\"y\":\"City_Ljubljana\",\"yref\":\"y\"},{\"font\":{\"color\":\"#FFFFFF\"},\"showarrow\":false,\"text\":\"-0.01\",\"x\":\"City_Helsinki\",\"xref\":\"x\",\"y\":\"City_Ljubljana\",\"yref\":\"y\"},{\"font\":{\"color\":\"#FFFFFF\"},\"showarrow\":false,\"text\":\"-0.01\",\"x\":\"City_Krakow\",\"xref\":\"x\",\"y\":\"City_Ljubljana\",\"yref\":\"y\"},{\"font\":{\"color\":\"#FFFFFF\"},\"showarrow\":false,\"text\":\"-0.01\",\"x\":\"City_Lisbon\",\"xref\":\"x\",\"y\":\"City_Ljubljana\",\"yref\":\"y\"},{\"font\":{\"color\":\"#000000\"},\"showarrow\":false,\"text\":\"1.0\",\"x\":\"City_Ljubljana\",\"xref\":\"x\",\"y\":\"City_Ljubljana\",\"yref\":\"y\"},{\"font\":{\"color\":\"#FFFFFF\"},\"showarrow\":false,\"text\":\"-0.03\",\"x\":\"City_London\",\"xref\":\"x\",\"y\":\"City_Ljubljana\",\"yref\":\"y\"},{\"font\":{\"color\":\"#FFFFFF\"},\"showarrow\":false,\"text\":\"-0.0\",\"x\":\"City_Luxembourg\",\"xref\":\"x\",\"y\":\"City_Ljubljana\",\"yref\":\"y\"},{\"font\":{\"color\":\"#FFFFFF\"},\"showarrow\":false,\"text\":\"-0.01\",\"x\":\"City_Lyon\",\"xref\":\"x\",\"y\":\"City_Ljubljana\",\"yref\":\"y\"},{\"font\":{\"color\":\"#FFFFFF\"},\"showarrow\":false,\"text\":\"-0.02\",\"x\":\"City_Madrid\",\"xref\":\"x\",\"y\":\"City_Ljubljana\",\"yref\":\"y\"},{\"font\":{\"color\":\"#FFFFFF\"},\"showarrow\":false,\"text\":\"-0.02\",\"x\":\"City_Milan\",\"xref\":\"x\",\"y\":\"City_Ljubljana\",\"yref\":\"y\"},{\"font\":{\"color\":\"#FFFFFF\"},\"showarrow\":false,\"text\":\"-0.01\",\"x\":\"City_Munich\",\"xref\":\"x\",\"y\":\"City_Ljubljana\",\"yref\":\"y\"},{\"font\":{\"color\":\"#FFFFFF\"},\"showarrow\":false,\"text\":\"-0.01\",\"x\":\"City_Oporto\",\"xref\":\"x\",\"y\":\"City_Ljubljana\",\"yref\":\"y\"},{\"font\":{\"color\":\"#FFFFFF\"},\"showarrow\":false,\"text\":\"-0.01\",\"x\":\"City_Oslo\",\"xref\":\"x\",\"y\":\"City_Ljubljana\",\"yref\":\"y\"},{\"font\":{\"color\":\"#FFFFFF\"},\"showarrow\":false,\"text\":\"-0.03\",\"x\":\"City_Paris\",\"xref\":\"x\",\"y\":\"City_Ljubljana\",\"yref\":\"y\"},{\"font\":{\"color\":\"#FFFFFF\"},\"showarrow\":false,\"text\":\"-0.01\",\"x\":\"City_Prague\",\"xref\":\"x\",\"y\":\"City_Ljubljana\",\"yref\":\"y\"},{\"font\":{\"color\":\"#FFFFFF\"},\"showarrow\":false,\"text\":\"-0.02\",\"x\":\"City_Rome\",\"xref\":\"x\",\"y\":\"City_Ljubljana\",\"yref\":\"y\"},{\"font\":{\"color\":\"#FFFFFF\"},\"showarrow\":false,\"text\":\"-0.01\",\"x\":\"City_Stockholm\",\"xref\":\"x\",\"y\":\"City_Ljubljana\",\"yref\":\"y\"},{\"font\":{\"color\":\"#FFFFFF\"},\"showarrow\":false,\"text\":\"-0.01\",\"x\":\"City_Vienna\",\"xref\":\"x\",\"y\":\"City_Ljubljana\",\"yref\":\"y\"},{\"font\":{\"color\":\"#FFFFFF\"},\"showarrow\":false,\"text\":\"-0.01\",\"x\":\"City_Warsaw\",\"xref\":\"x\",\"y\":\"City_Ljubljana\",\"yref\":\"y\"},{\"font\":{\"color\":\"#FFFFFF\"},\"showarrow\":false,\"text\":\"-0.01\",\"x\":\"City_Zurich\",\"xref\":\"x\",\"y\":\"City_Ljubljana\",\"yref\":\"y\"},{\"font\":{\"color\":\"#FFFFFF\"},\"showarrow\":false,\"text\":\"-0.02\",\"x\":\"Rating\",\"xref\":\"x\",\"y\":\"City_London\",\"yref\":\"y\"},{\"font\":{\"color\":\"#FFFFFF\"},\"showarrow\":false,\"text\":\"-0.07\",\"x\":\"City_Amsterdam\",\"xref\":\"x\",\"y\":\"City_London\",\"yref\":\"y\"},{\"font\":{\"color\":\"#FFFFFF\"},\"showarrow\":false,\"text\":\"-0.05\",\"x\":\"City_Athens\",\"xref\":\"x\",\"y\":\"City_London\",\"yref\":\"y\"},{\"font\":{\"color\":\"#FFFFFF\"},\"showarrow\":false,\"text\":\"-0.11\",\"x\":\"City_Barcelona\",\"xref\":\"x\",\"y\":\"City_London\",\"yref\":\"y\"},{\"font\":{\"color\":\"#FFFFFF\"},\"showarrow\":false,\"text\":\"-0.1\",\"x\":\"City_Berlin\",\"xref\":\"x\",\"y\":\"City_London\",\"yref\":\"y\"},{\"font\":{\"color\":\"#FFFFFF\"},\"showarrow\":false,\"text\":\"-0.04\",\"x\":\"City_Bratislava\",\"xref\":\"x\",\"y\":\"City_London\",\"yref\":\"y\"},{\"font\":{\"color\":\"#FFFFFF\"},\"showarrow\":false,\"text\":\"-0.07\",\"x\":\"City_Brussels\",\"xref\":\"x\",\"y\":\"City_London\",\"yref\":\"y\"},{\"font\":{\"color\":\"#FFFFFF\"},\"showarrow\":false,\"text\":\"-0.06\",\"x\":\"City_Budapest\",\"xref\":\"x\",\"y\":\"City_London\",\"yref\":\"y\"},{\"font\":{\"color\":\"#FFFFFF\"},\"showarrow\":false,\"text\":\"-0.05\",\"x\":\"City_Copenhagen\",\"xref\":\"x\",\"y\":\"City_London\",\"yref\":\"y\"},{\"font\":{\"color\":\"#FFFFFF\"},\"showarrow\":false,\"text\":\"-0.05\",\"x\":\"City_Dublin\",\"xref\":\"x\",\"y\":\"City_London\",\"yref\":\"y\"},{\"font\":{\"color\":\"#FFFFFF\"},\"showarrow\":false,\"text\":\"-0.05\",\"x\":\"City_Edinburgh\",\"xref\":\"x\",\"y\":\"City_London\",\"yref\":\"y\"},{\"font\":{\"color\":\"#FFFFFF\"},\"showarrow\":false,\"text\":\"-0.05\",\"x\":\"City_Geneva\",\"xref\":\"x\",\"y\":\"City_London\",\"yref\":\"y\"},{\"font\":{\"color\":\"#FFFFFF\"},\"showarrow\":false,\"text\":\"-0.06\",\"x\":\"City_Hamburg\",\"xref\":\"x\",\"y\":\"City_London\",\"yref\":\"y\"},{\"font\":{\"color\":\"#FFFFFF\"},\"showarrow\":false,\"text\":\"-0.04\",\"x\":\"City_Helsinki\",\"xref\":\"x\",\"y\":\"City_London\",\"yref\":\"y\"},{\"font\":{\"color\":\"#FFFFFF\"},\"showarrow\":false,\"text\":\"-0.04\",\"x\":\"City_Krakow\",\"xref\":\"x\",\"y\":\"City_London\",\"yref\":\"y\"},{\"font\":{\"color\":\"#FFFFFF\"},\"showarrow\":false,\"text\":\"-0.08\",\"x\":\"City_Lisbon\",\"xref\":\"x\",\"y\":\"City_London\",\"yref\":\"y\"},{\"font\":{\"color\":\"#FFFFFF\"},\"showarrow\":false,\"text\":\"-0.03\",\"x\":\"City_Ljubljana\",\"xref\":\"x\",\"y\":\"City_London\",\"yref\":\"y\"},{\"font\":{\"color\":\"#000000\"},\"showarrow\":false,\"text\":\"1.0\",\"x\":\"City_London\",\"xref\":\"x\",\"y\":\"City_London\",\"yref\":\"y\"},{\"font\":{\"color\":\"#FFFFFF\"},\"showarrow\":false,\"text\":\"-0.03\",\"x\":\"City_Luxembourg\",\"xref\":\"x\",\"y\":\"City_London\",\"yref\":\"y\"},{\"font\":{\"color\":\"#FFFFFF\"},\"showarrow\":false,\"text\":\"-0.06\",\"x\":\"City_Lyon\",\"xref\":\"x\",\"y\":\"City_London\",\"yref\":\"y\"},{\"font\":{\"color\":\"#FFFFFF\"},\"showarrow\":false,\"text\":\"-0.12\",\"x\":\"City_Madrid\",\"xref\":\"x\",\"y\":\"City_London\",\"yref\":\"y\"},{\"font\":{\"color\":\"#FFFFFF\"},\"showarrow\":false,\"text\":\"-0.1\",\"x\":\"City_Milan\",\"xref\":\"x\",\"y\":\"City_London\",\"yref\":\"y\"},{\"font\":{\"color\":\"#FFFFFF\"},\"showarrow\":false,\"text\":\"-0.06\",\"x\":\"City_Munich\",\"xref\":\"x\",\"y\":\"City_London\",\"yref\":\"y\"},{\"font\":{\"color\":\"#FFFFFF\"},\"showarrow\":false,\"text\":\"-0.05\",\"x\":\"City_Oporto\",\"xref\":\"x\",\"y\":\"City_London\",\"yref\":\"y\"},{\"font\":{\"color\":\"#FFFFFF\"},\"showarrow\":false,\"text\":\"-0.04\",\"x\":\"City_Oslo\",\"xref\":\"x\",\"y\":\"City_London\",\"yref\":\"y\"},{\"font\":{\"color\":\"#FFFFFF\"},\"showarrow\":false,\"text\":\"-0.15\",\"x\":\"City_Paris\",\"xref\":\"x\",\"y\":\"City_London\",\"yref\":\"y\"},{\"font\":{\"color\":\"#FFFFFF\"},\"showarrow\":false,\"text\":\"-0.08\",\"x\":\"City_Prague\",\"xref\":\"x\",\"y\":\"City_London\",\"yref\":\"y\"},{\"font\":{\"color\":\"#FFFFFF\"},\"showarrow\":false,\"text\":\"-0.1\",\"x\":\"City_Rome\",\"xref\":\"x\",\"y\":\"City_London\",\"yref\":\"y\"},{\"font\":{\"color\":\"#FFFFFF\"},\"showarrow\":false,\"text\":\"-0.06\",\"x\":\"City_Stockholm\",\"xref\":\"x\",\"y\":\"City_London\",\"yref\":\"y\"},{\"font\":{\"color\":\"#FFFFFF\"},\"showarrow\":false,\"text\":\"-0.07\",\"x\":\"City_Vienna\",\"xref\":\"x\",\"y\":\"City_London\",\"yref\":\"y\"},{\"font\":{\"color\":\"#FFFFFF\"},\"showarrow\":false,\"text\":\"-0.06\",\"x\":\"City_Warsaw\",\"xref\":\"x\",\"y\":\"City_London\",\"yref\":\"y\"},{\"font\":{\"color\":\"#FFFFFF\"},\"showarrow\":false,\"text\":\"-0.05\",\"x\":\"City_Zurich\",\"xref\":\"x\",\"y\":\"City_London\",\"yref\":\"y\"},{\"font\":{\"color\":\"#FFFFFF\"},\"showarrow\":false,\"text\":\"-0.01\",\"x\":\"Rating\",\"xref\":\"x\",\"y\":\"City_Luxembourg\",\"yref\":\"y\"},{\"font\":{\"color\":\"#FFFFFF\"},\"showarrow\":false,\"text\":\"-0.01\",\"x\":\"City_Amsterdam\",\"xref\":\"x\",\"y\":\"City_Luxembourg\",\"yref\":\"y\"},{\"font\":{\"color\":\"#FFFFFF\"},\"showarrow\":false,\"text\":\"-0.01\",\"x\":\"City_Athens\",\"xref\":\"x\",\"y\":\"City_Luxembourg\",\"yref\":\"y\"},{\"font\":{\"color\":\"#FFFFFF\"},\"showarrow\":false,\"text\":\"-0.02\",\"x\":\"City_Barcelona\",\"xref\":\"x\",\"y\":\"City_Luxembourg\",\"yref\":\"y\"},{\"font\":{\"color\":\"#FFFFFF\"},\"showarrow\":false,\"text\":\"-0.02\",\"x\":\"City_Berlin\",\"xref\":\"x\",\"y\":\"City_Luxembourg\",\"yref\":\"y\"},{\"font\":{\"color\":\"#FFFFFF\"},\"showarrow\":false,\"text\":\"-0.01\",\"x\":\"City_Bratislava\",\"xref\":\"x\",\"y\":\"City_Luxembourg\",\"yref\":\"y\"},{\"font\":{\"color\":\"#FFFFFF\"},\"showarrow\":false,\"text\":\"-0.01\",\"x\":\"City_Brussels\",\"xref\":\"x\",\"y\":\"City_Luxembourg\",\"yref\":\"y\"},{\"font\":{\"color\":\"#FFFFFF\"},\"showarrow\":false,\"text\":\"-0.01\",\"x\":\"City_Budapest\",\"xref\":\"x\",\"y\":\"City_Luxembourg\",\"yref\":\"y\"},{\"font\":{\"color\":\"#FFFFFF\"},\"showarrow\":false,\"text\":\"-0.01\",\"x\":\"City_Copenhagen\",\"xref\":\"x\",\"y\":\"City_Luxembourg\",\"yref\":\"y\"},{\"font\":{\"color\":\"#FFFFFF\"},\"showarrow\":false,\"text\":\"-0.01\",\"x\":\"City_Dublin\",\"xref\":\"x\",\"y\":\"City_Luxembourg\",\"yref\":\"y\"},{\"font\":{\"color\":\"#FFFFFF\"},\"showarrow\":false,\"text\":\"-0.01\",\"x\":\"City_Edinburgh\",\"xref\":\"x\",\"y\":\"City_Luxembourg\",\"yref\":\"y\"},{\"font\":{\"color\":\"#FFFFFF\"},\"showarrow\":false,\"text\":\"-0.01\",\"x\":\"City_Geneva\",\"xref\":\"x\",\"y\":\"City_Luxembourg\",\"yref\":\"y\"},{\"font\":{\"color\":\"#FFFFFF\"},\"showarrow\":false,\"text\":\"-0.01\",\"x\":\"City_Hamburg\",\"xref\":\"x\",\"y\":\"City_Luxembourg\",\"yref\":\"y\"},{\"font\":{\"color\":\"#FFFFFF\"},\"showarrow\":false,\"text\":\"-0.01\",\"x\":\"City_Helsinki\",\"xref\":\"x\",\"y\":\"City_Luxembourg\",\"yref\":\"y\"},{\"font\":{\"color\":\"#FFFFFF\"},\"showarrow\":false,\"text\":\"-0.01\",\"x\":\"City_Krakow\",\"xref\":\"x\",\"y\":\"City_Luxembourg\",\"yref\":\"y\"},{\"font\":{\"color\":\"#FFFFFF\"},\"showarrow\":false,\"text\":\"-0.01\",\"x\":\"City_Lisbon\",\"xref\":\"x\",\"y\":\"City_Luxembourg\",\"yref\":\"y\"},{\"font\":{\"color\":\"#FFFFFF\"},\"showarrow\":false,\"text\":\"-0.0\",\"x\":\"City_Ljubljana\",\"xref\":\"x\",\"y\":\"City_Luxembourg\",\"yref\":\"y\"},{\"font\":{\"color\":\"#FFFFFF\"},\"showarrow\":false,\"text\":\"-0.03\",\"x\":\"City_London\",\"xref\":\"x\",\"y\":\"City_Luxembourg\",\"yref\":\"y\"},{\"font\":{\"color\":\"#000000\"},\"showarrow\":false,\"text\":\"1.0\",\"x\":\"City_Luxembourg\",\"xref\":\"x\",\"y\":\"City_Luxembourg\",\"yref\":\"y\"},{\"font\":{\"color\":\"#FFFFFF\"},\"showarrow\":false,\"text\":\"-0.01\",\"x\":\"City_Lyon\",\"xref\":\"x\",\"y\":\"City_Luxembourg\",\"yref\":\"y\"},{\"font\":{\"color\":\"#FFFFFF\"},\"showarrow\":false,\"text\":\"-0.02\",\"x\":\"City_Madrid\",\"xref\":\"x\",\"y\":\"City_Luxembourg\",\"yref\":\"y\"},{\"font\":{\"color\":\"#FFFFFF\"},\"showarrow\":false,\"text\":\"-0.02\",\"x\":\"City_Milan\",\"xref\":\"x\",\"y\":\"City_Luxembourg\",\"yref\":\"y\"},{\"font\":{\"color\":\"#FFFFFF\"},\"showarrow\":false,\"text\":\"-0.01\",\"x\":\"City_Munich\",\"xref\":\"x\",\"y\":\"City_Luxembourg\",\"yref\":\"y\"},{\"font\":{\"color\":\"#FFFFFF\"},\"showarrow\":false,\"text\":\"-0.01\",\"x\":\"City_Oporto\",\"xref\":\"x\",\"y\":\"City_Luxembourg\",\"yref\":\"y\"},{\"font\":{\"color\":\"#FFFFFF\"},\"showarrow\":false,\"text\":\"-0.01\",\"x\":\"City_Oslo\",\"xref\":\"x\",\"y\":\"City_Luxembourg\",\"yref\":\"y\"},{\"font\":{\"color\":\"#FFFFFF\"},\"showarrow\":false,\"text\":\"-0.03\",\"x\":\"City_Paris\",\"xref\":\"x\",\"y\":\"City_Luxembourg\",\"yref\":\"y\"},{\"font\":{\"color\":\"#FFFFFF\"},\"showarrow\":false,\"text\":\"-0.01\",\"x\":\"City_Prague\",\"xref\":\"x\",\"y\":\"City_Luxembourg\",\"yref\":\"y\"},{\"font\":{\"color\":\"#FFFFFF\"},\"showarrow\":false,\"text\":\"-0.02\",\"x\":\"City_Rome\",\"xref\":\"x\",\"y\":\"City_Luxembourg\",\"yref\":\"y\"},{\"font\":{\"color\":\"#FFFFFF\"},\"showarrow\":false,\"text\":\"-0.01\",\"x\":\"City_Stockholm\",\"xref\":\"x\",\"y\":\"City_Luxembourg\",\"yref\":\"y\"},{\"font\":{\"color\":\"#FFFFFF\"},\"showarrow\":false,\"text\":\"-0.01\",\"x\":\"City_Vienna\",\"xref\":\"x\",\"y\":\"City_Luxembourg\",\"yref\":\"y\"},{\"font\":{\"color\":\"#FFFFFF\"},\"showarrow\":false,\"text\":\"-0.01\",\"x\":\"City_Warsaw\",\"xref\":\"x\",\"y\":\"City_Luxembourg\",\"yref\":\"y\"},{\"font\":{\"color\":\"#FFFFFF\"},\"showarrow\":false,\"text\":\"-0.01\",\"x\":\"City_Zurich\",\"xref\":\"x\",\"y\":\"City_Luxembourg\",\"yref\":\"y\"},{\"font\":{\"color\":\"#FFFFFF\"},\"showarrow\":false,\"text\":\"-0.01\",\"x\":\"Rating\",\"xref\":\"x\",\"y\":\"City_Lyon\",\"yref\":\"y\"},{\"font\":{\"color\":\"#FFFFFF\"},\"showarrow\":false,\"text\":\"-0.03\",\"x\":\"City_Amsterdam\",\"xref\":\"x\",\"y\":\"City_Lyon\",\"yref\":\"y\"},{\"font\":{\"color\":\"#FFFFFF\"},\"showarrow\":false,\"text\":\"-0.02\",\"x\":\"City_Athens\",\"xref\":\"x\",\"y\":\"City_Lyon\",\"yref\":\"y\"},{\"font\":{\"color\":\"#FFFFFF\"},\"showarrow\":false,\"text\":\"-0.04\",\"x\":\"City_Barcelona\",\"xref\":\"x\",\"y\":\"City_Lyon\",\"yref\":\"y\"},{\"font\":{\"color\":\"#FFFFFF\"},\"showarrow\":false,\"text\":\"-0.04\",\"x\":\"City_Berlin\",\"xref\":\"x\",\"y\":\"City_Lyon\",\"yref\":\"y\"},{\"font\":{\"color\":\"#FFFFFF\"},\"showarrow\":false,\"text\":\"-0.01\",\"x\":\"City_Bratislava\",\"xref\":\"x\",\"y\":\"City_Lyon\",\"yref\":\"y\"},{\"font\":{\"color\":\"#FFFFFF\"},\"showarrow\":false,\"text\":\"-0.02\",\"x\":\"City_Brussels\",\"xref\":\"x\",\"y\":\"City_Lyon\",\"yref\":\"y\"},{\"font\":{\"color\":\"#FFFFFF\"},\"showarrow\":false,\"text\":\"-0.02\",\"x\":\"City_Budapest\",\"xref\":\"x\",\"y\":\"City_Lyon\",\"yref\":\"y\"},{\"font\":{\"color\":\"#FFFFFF\"},\"showarrow\":false,\"text\":\"-0.02\",\"x\":\"City_Copenhagen\",\"xref\":\"x\",\"y\":\"City_Lyon\",\"yref\":\"y\"},{\"font\":{\"color\":\"#FFFFFF\"},\"showarrow\":false,\"text\":\"-0.02\",\"x\":\"City_Dublin\",\"xref\":\"x\",\"y\":\"City_Lyon\",\"yref\":\"y\"},{\"font\":{\"color\":\"#FFFFFF\"},\"showarrow\":false,\"text\":\"-0.02\",\"x\":\"City_Edinburgh\",\"xref\":\"x\",\"y\":\"City_Lyon\",\"yref\":\"y\"},{\"font\":{\"color\":\"#FFFFFF\"},\"showarrow\":false,\"text\":\"-0.02\",\"x\":\"City_Geneva\",\"xref\":\"x\",\"y\":\"City_Lyon\",\"yref\":\"y\"},{\"font\":{\"color\":\"#FFFFFF\"},\"showarrow\":false,\"text\":\"-0.02\",\"x\":\"City_Hamburg\",\"xref\":\"x\",\"y\":\"City_Lyon\",\"yref\":\"y\"},{\"font\":{\"color\":\"#FFFFFF\"},\"showarrow\":false,\"text\":\"-0.01\",\"x\":\"City_Helsinki\",\"xref\":\"x\",\"y\":\"City_Lyon\",\"yref\":\"y\"},{\"font\":{\"color\":\"#FFFFFF\"},\"showarrow\":false,\"text\":\"-0.02\",\"x\":\"City_Krakow\",\"xref\":\"x\",\"y\":\"City_Lyon\",\"yref\":\"y\"},{\"font\":{\"color\":\"#FFFFFF\"},\"showarrow\":false,\"text\":\"-0.03\",\"x\":\"City_Lisbon\",\"xref\":\"x\",\"y\":\"City_Lyon\",\"yref\":\"y\"},{\"font\":{\"color\":\"#FFFFFF\"},\"showarrow\":false,\"text\":\"-0.01\",\"x\":\"City_Ljubljana\",\"xref\":\"x\",\"y\":\"City_Lyon\",\"yref\":\"y\"},{\"font\":{\"color\":\"#FFFFFF\"},\"showarrow\":false,\"text\":\"-0.06\",\"x\":\"City_London\",\"xref\":\"x\",\"y\":\"City_Lyon\",\"yref\":\"y\"},{\"font\":{\"color\":\"#FFFFFF\"},\"showarrow\":false,\"text\":\"-0.01\",\"x\":\"City_Luxembourg\",\"xref\":\"x\",\"y\":\"City_Lyon\",\"yref\":\"y\"},{\"font\":{\"color\":\"#000000\"},\"showarrow\":false,\"text\":\"1.0\",\"x\":\"City_Lyon\",\"xref\":\"x\",\"y\":\"City_Lyon\",\"yref\":\"y\"},{\"font\":{\"color\":\"#FFFFFF\"},\"showarrow\":false,\"text\":\"-0.04\",\"x\":\"City_Madrid\",\"xref\":\"x\",\"y\":\"City_Lyon\",\"yref\":\"y\"},{\"font\":{\"color\":\"#FFFFFF\"},\"showarrow\":false,\"text\":\"-0.04\",\"x\":\"City_Milan\",\"xref\":\"x\",\"y\":\"City_Lyon\",\"yref\":\"y\"},{\"font\":{\"color\":\"#FFFFFF\"},\"showarrow\":false,\"text\":\"-0.02\",\"x\":\"City_Munich\",\"xref\":\"x\",\"y\":\"City_Lyon\",\"yref\":\"y\"},{\"font\":{\"color\":\"#FFFFFF\"},\"showarrow\":false,\"text\":\"-0.02\",\"x\":\"City_Oporto\",\"xref\":\"x\",\"y\":\"City_Lyon\",\"yref\":\"y\"},{\"font\":{\"color\":\"#FFFFFF\"},\"showarrow\":false,\"text\":\"-0.01\",\"x\":\"City_Oslo\",\"xref\":\"x\",\"y\":\"City_Lyon\",\"yref\":\"y\"},{\"font\":{\"color\":\"#FFFFFF\"},\"showarrow\":false,\"text\":\"-0.06\",\"x\":\"City_Paris\",\"xref\":\"x\",\"y\":\"City_Lyon\",\"yref\":\"y\"},{\"font\":{\"color\":\"#FFFFFF\"},\"showarrow\":false,\"text\":\"-0.03\",\"x\":\"City_Prague\",\"xref\":\"x\",\"y\":\"City_Lyon\",\"yref\":\"y\"},{\"font\":{\"color\":\"#FFFFFF\"},\"showarrow\":false,\"text\":\"-0.04\",\"x\":\"City_Rome\",\"xref\":\"x\",\"y\":\"City_Lyon\",\"yref\":\"y\"},{\"font\":{\"color\":\"#FFFFFF\"},\"showarrow\":false,\"text\":\"-0.02\",\"x\":\"City_Stockholm\",\"xref\":\"x\",\"y\":\"City_Lyon\",\"yref\":\"y\"},{\"font\":{\"color\":\"#FFFFFF\"},\"showarrow\":false,\"text\":\"-0.03\",\"x\":\"City_Vienna\",\"xref\":\"x\",\"y\":\"City_Lyon\",\"yref\":\"y\"},{\"font\":{\"color\":\"#FFFFFF\"},\"showarrow\":false,\"text\":\"-0.02\",\"x\":\"City_Warsaw\",\"xref\":\"x\",\"y\":\"City_Lyon\",\"yref\":\"y\"},{\"font\":{\"color\":\"#FFFFFF\"},\"showarrow\":false,\"text\":\"-0.02\",\"x\":\"City_Zurich\",\"xref\":\"x\",\"y\":\"City_Lyon\",\"yref\":\"y\"},{\"font\":{\"color\":\"#FFFFFF\"},\"showarrow\":false,\"text\":\"-0.08\",\"x\":\"Rating\",\"xref\":\"x\",\"y\":\"City_Madrid\",\"yref\":\"y\"},{\"font\":{\"color\":\"#FFFFFF\"},\"showarrow\":false,\"text\":\"-0.05\",\"x\":\"City_Amsterdam\",\"xref\":\"x\",\"y\":\"City_Madrid\",\"yref\":\"y\"},{\"font\":{\"color\":\"#FFFFFF\"},\"showarrow\":false,\"text\":\"-0.04\",\"x\":\"City_Athens\",\"xref\":\"x\",\"y\":\"City_Madrid\",\"yref\":\"y\"},{\"font\":{\"color\":\"#FFFFFF\"},\"showarrow\":false,\"text\":\"-0.08\",\"x\":\"City_Barcelona\",\"xref\":\"x\",\"y\":\"City_Madrid\",\"yref\":\"y\"},{\"font\":{\"color\":\"#FFFFFF\"},\"showarrow\":false,\"text\":\"-0.07\",\"x\":\"City_Berlin\",\"xref\":\"x\",\"y\":\"City_Madrid\",\"yref\":\"y\"},{\"font\":{\"color\":\"#FFFFFF\"},\"showarrow\":false,\"text\":\"-0.03\",\"x\":\"City_Bratislava\",\"xref\":\"x\",\"y\":\"City_Madrid\",\"yref\":\"y\"},{\"font\":{\"color\":\"#FFFFFF\"},\"showarrow\":false,\"text\":\"-0.05\",\"x\":\"City_Brussels\",\"xref\":\"x\",\"y\":\"City_Madrid\",\"yref\":\"y\"},{\"font\":{\"color\":\"#FFFFFF\"},\"showarrow\":false,\"text\":\"-0.04\",\"x\":\"City_Budapest\",\"xref\":\"x\",\"y\":\"City_Madrid\",\"yref\":\"y\"},{\"font\":{\"color\":\"#FFFFFF\"},\"showarrow\":false,\"text\":\"-0.04\",\"x\":\"City_Copenhagen\",\"xref\":\"x\",\"y\":\"City_Madrid\",\"yref\":\"y\"},{\"font\":{\"color\":\"#FFFFFF\"},\"showarrow\":false,\"text\":\"-0.04\",\"x\":\"City_Dublin\",\"xref\":\"x\",\"y\":\"City_Madrid\",\"yref\":\"y\"},{\"font\":{\"color\":\"#FFFFFF\"},\"showarrow\":false,\"text\":\"-0.04\",\"x\":\"City_Edinburgh\",\"xref\":\"x\",\"y\":\"City_Madrid\",\"yref\":\"y\"},{\"font\":{\"color\":\"#FFFFFF\"},\"showarrow\":false,\"text\":\"-0.03\",\"x\":\"City_Geneva\",\"xref\":\"x\",\"y\":\"City_Madrid\",\"yref\":\"y\"},{\"font\":{\"color\":\"#FFFFFF\"},\"showarrow\":false,\"text\":\"-0.05\",\"x\":\"City_Hamburg\",\"xref\":\"x\",\"y\":\"City_Madrid\",\"yref\":\"y\"},{\"font\":{\"color\":\"#FFFFFF\"},\"showarrow\":false,\"text\":\"-0.03\",\"x\":\"City_Helsinki\",\"xref\":\"x\",\"y\":\"City_Madrid\",\"yref\":\"y\"},{\"font\":{\"color\":\"#FFFFFF\"},\"showarrow\":false,\"text\":\"-0.03\",\"x\":\"City_Krakow\",\"xref\":\"x\",\"y\":\"City_Madrid\",\"yref\":\"y\"},{\"font\":{\"color\":\"#FFFFFF\"},\"showarrow\":false,\"text\":\"-0.05\",\"x\":\"City_Lisbon\",\"xref\":\"x\",\"y\":\"City_Madrid\",\"yref\":\"y\"},{\"font\":{\"color\":\"#FFFFFF\"},\"showarrow\":false,\"text\":\"-0.02\",\"x\":\"City_Ljubljana\",\"xref\":\"x\",\"y\":\"City_Madrid\",\"yref\":\"y\"},{\"font\":{\"color\":\"#FFFFFF\"},\"showarrow\":false,\"text\":\"-0.12\",\"x\":\"City_London\",\"xref\":\"x\",\"y\":\"City_Madrid\",\"yref\":\"y\"},{\"font\":{\"color\":\"#FFFFFF\"},\"showarrow\":false,\"text\":\"-0.02\",\"x\":\"City_Luxembourg\",\"xref\":\"x\",\"y\":\"City_Madrid\",\"yref\":\"y\"},{\"font\":{\"color\":\"#FFFFFF\"},\"showarrow\":false,\"text\":\"-0.04\",\"x\":\"City_Lyon\",\"xref\":\"x\",\"y\":\"City_Madrid\",\"yref\":\"y\"},{\"font\":{\"color\":\"#000000\"},\"showarrow\":false,\"text\":\"1.0\",\"x\":\"City_Madrid\",\"xref\":\"x\",\"y\":\"City_Madrid\",\"yref\":\"y\"},{\"font\":{\"color\":\"#FFFFFF\"},\"showarrow\":false,\"text\":\"-0.07\",\"x\":\"City_Milan\",\"xref\":\"x\",\"y\":\"City_Madrid\",\"yref\":\"y\"},{\"font\":{\"color\":\"#FFFFFF\"},\"showarrow\":false,\"text\":\"-0.04\",\"x\":\"City_Munich\",\"xref\":\"x\",\"y\":\"City_Madrid\",\"yref\":\"y\"},{\"font\":{\"color\":\"#FFFFFF\"},\"showarrow\":false,\"text\":\"-0.03\",\"x\":\"City_Oporto\",\"xref\":\"x\",\"y\":\"City_Madrid\",\"yref\":\"y\"},{\"font\":{\"color\":\"#FFFFFF\"},\"showarrow\":false,\"text\":\"-0.03\",\"x\":\"City_Oslo\",\"xref\":\"x\",\"y\":\"City_Madrid\",\"yref\":\"y\"},{\"font\":{\"color\":\"#FFFFFF\"},\"showarrow\":false,\"text\":\"-0.11\",\"x\":\"City_Paris\",\"xref\":\"x\",\"y\":\"City_Madrid\",\"yref\":\"y\"},{\"font\":{\"color\":\"#FFFFFF\"},\"showarrow\":false,\"text\":\"-0.06\",\"x\":\"City_Prague\",\"xref\":\"x\",\"y\":\"City_Madrid\",\"yref\":\"y\"},{\"font\":{\"color\":\"#FFFFFF\"},\"showarrow\":false,\"text\":\"-0.07\",\"x\":\"City_Rome\",\"xref\":\"x\",\"y\":\"City_Madrid\",\"yref\":\"y\"},{\"font\":{\"color\":\"#FFFFFF\"},\"showarrow\":false,\"text\":\"-0.04\",\"x\":\"City_Stockholm\",\"xref\":\"x\",\"y\":\"City_Madrid\",\"yref\":\"y\"},{\"font\":{\"color\":\"#FFFFFF\"},\"showarrow\":false,\"text\":\"-0.05\",\"x\":\"City_Vienna\",\"xref\":\"x\",\"y\":\"City_Madrid\",\"yref\":\"y\"},{\"font\":{\"color\":\"#FFFFFF\"},\"showarrow\":false,\"text\":\"-0.04\",\"x\":\"City_Warsaw\",\"xref\":\"x\",\"y\":\"City_Madrid\",\"yref\":\"y\"},{\"font\":{\"color\":\"#FFFFFF\"},\"showarrow\":false,\"text\":\"-0.03\",\"x\":\"City_Zurich\",\"xref\":\"x\",\"y\":\"City_Madrid\",\"yref\":\"y\"},{\"font\":{\"color\":\"#FFFFFF\"},\"showarrow\":false,\"text\":\"-0.06\",\"x\":\"Rating\",\"xref\":\"x\",\"y\":\"City_Milan\",\"yref\":\"y\"},{\"font\":{\"color\":\"#FFFFFF\"},\"showarrow\":false,\"text\":\"-0.04\",\"x\":\"City_Amsterdam\",\"xref\":\"x\",\"y\":\"City_Milan\",\"yref\":\"y\"},{\"font\":{\"color\":\"#FFFFFF\"},\"showarrow\":false,\"text\":\"-0.03\",\"x\":\"City_Athens\",\"xref\":\"x\",\"y\":\"City_Milan\",\"yref\":\"y\"},{\"font\":{\"color\":\"#FFFFFF\"},\"showarrow\":false,\"text\":\"-0.06\",\"x\":\"City_Barcelona\",\"xref\":\"x\",\"y\":\"City_Milan\",\"yref\":\"y\"},{\"font\":{\"color\":\"#FFFFFF\"},\"showarrow\":false,\"text\":\"-0.06\",\"x\":\"City_Berlin\",\"xref\":\"x\",\"y\":\"City_Milan\",\"yref\":\"y\"},{\"font\":{\"color\":\"#FFFFFF\"},\"showarrow\":false,\"text\":\"-0.02\",\"x\":\"City_Bratislava\",\"xref\":\"x\",\"y\":\"City_Milan\",\"yref\":\"y\"},{\"font\":{\"color\":\"#FFFFFF\"},\"showarrow\":false,\"text\":\"-0.04\",\"x\":\"City_Brussels\",\"xref\":\"x\",\"y\":\"City_Milan\",\"yref\":\"y\"},{\"font\":{\"color\":\"#FFFFFF\"},\"showarrow\":false,\"text\":\"-0.03\",\"x\":\"City_Budapest\",\"xref\":\"x\",\"y\":\"City_Milan\",\"yref\":\"y\"},{\"font\":{\"color\":\"#FFFFFF\"},\"showarrow\":false,\"text\":\"-0.03\",\"x\":\"City_Copenhagen\",\"xref\":\"x\",\"y\":\"City_Milan\",\"yref\":\"y\"},{\"font\":{\"color\":\"#FFFFFF\"},\"showarrow\":false,\"text\":\"-0.03\",\"x\":\"City_Dublin\",\"xref\":\"x\",\"y\":\"City_Milan\",\"yref\":\"y\"},{\"font\":{\"color\":\"#FFFFFF\"},\"showarrow\":false,\"text\":\"-0.03\",\"x\":\"City_Edinburgh\",\"xref\":\"x\",\"y\":\"City_Milan\",\"yref\":\"y\"},{\"font\":{\"color\":\"#FFFFFF\"},\"showarrow\":false,\"text\":\"-0.03\",\"x\":\"City_Geneva\",\"xref\":\"x\",\"y\":\"City_Milan\",\"yref\":\"y\"},{\"font\":{\"color\":\"#FFFFFF\"},\"showarrow\":false,\"text\":\"-0.04\",\"x\":\"City_Hamburg\",\"xref\":\"x\",\"y\":\"City_Milan\",\"yref\":\"y\"},{\"font\":{\"color\":\"#FFFFFF\"},\"showarrow\":false,\"text\":\"-0.02\",\"x\":\"City_Helsinki\",\"xref\":\"x\",\"y\":\"City_Milan\",\"yref\":\"y\"},{\"font\":{\"color\":\"#FFFFFF\"},\"showarrow\":false,\"text\":\"-0.03\",\"x\":\"City_Krakow\",\"xref\":\"x\",\"y\":\"City_Milan\",\"yref\":\"y\"},{\"font\":{\"color\":\"#FFFFFF\"},\"showarrow\":false,\"text\":\"-0.04\",\"x\":\"City_Lisbon\",\"xref\":\"x\",\"y\":\"City_Milan\",\"yref\":\"y\"},{\"font\":{\"color\":\"#FFFFFF\"},\"showarrow\":false,\"text\":\"-0.02\",\"x\":\"City_Ljubljana\",\"xref\":\"x\",\"y\":\"City_Milan\",\"yref\":\"y\"},{\"font\":{\"color\":\"#FFFFFF\"},\"showarrow\":false,\"text\":\"-0.1\",\"x\":\"City_London\",\"xref\":\"x\",\"y\":\"City_Milan\",\"yref\":\"y\"},{\"font\":{\"color\":\"#FFFFFF\"},\"showarrow\":false,\"text\":\"-0.02\",\"x\":\"City_Luxembourg\",\"xref\":\"x\",\"y\":\"City_Milan\",\"yref\":\"y\"},{\"font\":{\"color\":\"#FFFFFF\"},\"showarrow\":false,\"text\":\"-0.04\",\"x\":\"City_Lyon\",\"xref\":\"x\",\"y\":\"City_Milan\",\"yref\":\"y\"},{\"font\":{\"color\":\"#FFFFFF\"},\"showarrow\":false,\"text\":\"-0.07\",\"x\":\"City_Madrid\",\"xref\":\"x\",\"y\":\"City_Milan\",\"yref\":\"y\"},{\"font\":{\"color\":\"#000000\"},\"showarrow\":false,\"text\":\"1.0\",\"x\":\"City_Milan\",\"xref\":\"x\",\"y\":\"City_Milan\",\"yref\":\"y\"},{\"font\":{\"color\":\"#FFFFFF\"},\"showarrow\":false,\"text\":\"-0.04\",\"x\":\"City_Munich\",\"xref\":\"x\",\"y\":\"City_Milan\",\"yref\":\"y\"},{\"font\":{\"color\":\"#FFFFFF\"},\"showarrow\":false,\"text\":\"-0.03\",\"x\":\"City_Oporto\",\"xref\":\"x\",\"y\":\"City_Milan\",\"yref\":\"y\"},{\"font\":{\"color\":\"#FFFFFF\"},\"showarrow\":false,\"text\":\"-0.02\",\"x\":\"City_Oslo\",\"xref\":\"x\",\"y\":\"City_Milan\",\"yref\":\"y\"},{\"font\":{\"color\":\"#FFFFFF\"},\"showarrow\":false,\"text\":\"-0.09\",\"x\":\"City_Paris\",\"xref\":\"x\",\"y\":\"City_Milan\",\"yref\":\"y\"},{\"font\":{\"color\":\"#FFFFFF\"},\"showarrow\":false,\"text\":\"-0.05\",\"x\":\"City_Prague\",\"xref\":\"x\",\"y\":\"City_Milan\",\"yref\":\"y\"},{\"font\":{\"color\":\"#FFFFFF\"},\"showarrow\":false,\"text\":\"-0.06\",\"x\":\"City_Rome\",\"xref\":\"x\",\"y\":\"City_Milan\",\"yref\":\"y\"},{\"font\":{\"color\":\"#FFFFFF\"},\"showarrow\":false,\"text\":\"-0.03\",\"x\":\"City_Stockholm\",\"xref\":\"x\",\"y\":\"City_Milan\",\"yref\":\"y\"},{\"font\":{\"color\":\"#FFFFFF\"},\"showarrow\":false,\"text\":\"-0.04\",\"x\":\"City_Vienna\",\"xref\":\"x\",\"y\":\"City_Milan\",\"yref\":\"y\"},{\"font\":{\"color\":\"#FFFFFF\"},\"showarrow\":false,\"text\":\"-0.03\",\"x\":\"City_Warsaw\",\"xref\":\"x\",\"y\":\"City_Milan\",\"yref\":\"y\"},{\"font\":{\"color\":\"#FFFFFF\"},\"showarrow\":false,\"text\":\"-0.03\",\"x\":\"City_Zurich\",\"xref\":\"x\",\"y\":\"City_Milan\",\"yref\":\"y\"},{\"font\":{\"color\":\"#FFFFFF\"},\"showarrow\":false,\"text\":\"0.01\",\"x\":\"Rating\",\"xref\":\"x\",\"y\":\"City_Munich\",\"yref\":\"y\"},{\"font\":{\"color\":\"#FFFFFF\"},\"showarrow\":false,\"text\":\"-0.03\",\"x\":\"City_Amsterdam\",\"xref\":\"x\",\"y\":\"City_Munich\",\"yref\":\"y\"},{\"font\":{\"color\":\"#FFFFFF\"},\"showarrow\":false,\"text\":\"-0.02\",\"x\":\"City_Athens\",\"xref\":\"x\",\"y\":\"City_Munich\",\"yref\":\"y\"},{\"font\":{\"color\":\"#FFFFFF\"},\"showarrow\":false,\"text\":\"-0.04\",\"x\":\"City_Barcelona\",\"xref\":\"x\",\"y\":\"City_Munich\",\"yref\":\"y\"},{\"font\":{\"color\":\"#FFFFFF\"},\"showarrow\":false,\"text\":\"-0.04\",\"x\":\"City_Berlin\",\"xref\":\"x\",\"y\":\"City_Munich\",\"yref\":\"y\"},{\"font\":{\"color\":\"#FFFFFF\"},\"showarrow\":false,\"text\":\"-0.01\",\"x\":\"City_Bratislava\",\"xref\":\"x\",\"y\":\"City_Munich\",\"yref\":\"y\"},{\"font\":{\"color\":\"#FFFFFF\"},\"showarrow\":false,\"text\":\"-0.02\",\"x\":\"City_Brussels\",\"xref\":\"x\",\"y\":\"City_Munich\",\"yref\":\"y\"},{\"font\":{\"color\":\"#FFFFFF\"},\"showarrow\":false,\"text\":\"-0.02\",\"x\":\"City_Budapest\",\"xref\":\"x\",\"y\":\"City_Munich\",\"yref\":\"y\"},{\"font\":{\"color\":\"#FFFFFF\"},\"showarrow\":false,\"text\":\"-0.02\",\"x\":\"City_Copenhagen\",\"xref\":\"x\",\"y\":\"City_Munich\",\"yref\":\"y\"},{\"font\":{\"color\":\"#FFFFFF\"},\"showarrow\":false,\"text\":\"-0.02\",\"x\":\"City_Dublin\",\"xref\":\"x\",\"y\":\"City_Munich\",\"yref\":\"y\"},{\"font\":{\"color\":\"#FFFFFF\"},\"showarrow\":false,\"text\":\"-0.02\",\"x\":\"City_Edinburgh\",\"xref\":\"x\",\"y\":\"City_Munich\",\"yref\":\"y\"},{\"font\":{\"color\":\"#FFFFFF\"},\"showarrow\":false,\"text\":\"-0.02\",\"x\":\"City_Geneva\",\"xref\":\"x\",\"y\":\"City_Munich\",\"yref\":\"y\"},{\"font\":{\"color\":\"#FFFFFF\"},\"showarrow\":false,\"text\":\"-0.02\",\"x\":\"City_Hamburg\",\"xref\":\"x\",\"y\":\"City_Munich\",\"yref\":\"y\"},{\"font\":{\"color\":\"#FFFFFF\"},\"showarrow\":false,\"text\":\"-0.01\",\"x\":\"City_Helsinki\",\"xref\":\"x\",\"y\":\"City_Munich\",\"yref\":\"y\"},{\"font\":{\"color\":\"#FFFFFF\"},\"showarrow\":false,\"text\":\"-0.02\",\"x\":\"City_Krakow\",\"xref\":\"x\",\"y\":\"City_Munich\",\"yref\":\"y\"},{\"font\":{\"color\":\"#FFFFFF\"},\"showarrow\":false,\"text\":\"-0.03\",\"x\":\"City_Lisbon\",\"xref\":\"x\",\"y\":\"City_Munich\",\"yref\":\"y\"},{\"font\":{\"color\":\"#FFFFFF\"},\"showarrow\":false,\"text\":\"-0.01\",\"x\":\"City_Ljubljana\",\"xref\":\"x\",\"y\":\"City_Munich\",\"yref\":\"y\"},{\"font\":{\"color\":\"#FFFFFF\"},\"showarrow\":false,\"text\":\"-0.06\",\"x\":\"City_London\",\"xref\":\"x\",\"y\":\"City_Munich\",\"yref\":\"y\"},{\"font\":{\"color\":\"#FFFFFF\"},\"showarrow\":false,\"text\":\"-0.01\",\"x\":\"City_Luxembourg\",\"xref\":\"x\",\"y\":\"City_Munich\",\"yref\":\"y\"},{\"font\":{\"color\":\"#FFFFFF\"},\"showarrow\":false,\"text\":\"-0.02\",\"x\":\"City_Lyon\",\"xref\":\"x\",\"y\":\"City_Munich\",\"yref\":\"y\"},{\"font\":{\"color\":\"#FFFFFF\"},\"showarrow\":false,\"text\":\"-0.04\",\"x\":\"City_Madrid\",\"xref\":\"x\",\"y\":\"City_Munich\",\"yref\":\"y\"},{\"font\":{\"color\":\"#FFFFFF\"},\"showarrow\":false,\"text\":\"-0.04\",\"x\":\"City_Milan\",\"xref\":\"x\",\"y\":\"City_Munich\",\"yref\":\"y\"},{\"font\":{\"color\":\"#000000\"},\"showarrow\":false,\"text\":\"1.0\",\"x\":\"City_Munich\",\"xref\":\"x\",\"y\":\"City_Munich\",\"yref\":\"y\"},{\"font\":{\"color\":\"#FFFFFF\"},\"showarrow\":false,\"text\":\"-0.02\",\"x\":\"City_Oporto\",\"xref\":\"x\",\"y\":\"City_Munich\",\"yref\":\"y\"},{\"font\":{\"color\":\"#FFFFFF\"},\"showarrow\":false,\"text\":\"-0.01\",\"x\":\"City_Oslo\",\"xref\":\"x\",\"y\":\"City_Munich\",\"yref\":\"y\"},{\"font\":{\"color\":\"#FFFFFF\"},\"showarrow\":false,\"text\":\"-0.06\",\"x\":\"City_Paris\",\"xref\":\"x\",\"y\":\"City_Munich\",\"yref\":\"y\"},{\"font\":{\"color\":\"#FFFFFF\"},\"showarrow\":false,\"text\":\"-0.03\",\"x\":\"City_Prague\",\"xref\":\"x\",\"y\":\"City_Munich\",\"yref\":\"y\"},{\"font\":{\"color\":\"#FFFFFF\"},\"showarrow\":false,\"text\":\"-0.04\",\"x\":\"City_Rome\",\"xref\":\"x\",\"y\":\"City_Munich\",\"yref\":\"y\"},{\"font\":{\"color\":\"#FFFFFF\"},\"showarrow\":false,\"text\":\"-0.02\",\"x\":\"City_Stockholm\",\"xref\":\"x\",\"y\":\"City_Munich\",\"yref\":\"y\"},{\"font\":{\"color\":\"#FFFFFF\"},\"showarrow\":false,\"text\":\"-0.03\",\"x\":\"City_Vienna\",\"xref\":\"x\",\"y\":\"City_Munich\",\"yref\":\"y\"},{\"font\":{\"color\":\"#FFFFFF\"},\"showarrow\":false,\"text\":\"-0.02\",\"x\":\"City_Warsaw\",\"xref\":\"x\",\"y\":\"City_Munich\",\"yref\":\"y\"},{\"font\":{\"color\":\"#FFFFFF\"},\"showarrow\":false,\"text\":\"-0.02\",\"x\":\"City_Zurich\",\"xref\":\"x\",\"y\":\"City_Munich\",\"yref\":\"y\"},{\"font\":{\"color\":\"#FFFFFF\"},\"showarrow\":false,\"text\":\"0.03\",\"x\":\"Rating\",\"xref\":\"x\",\"y\":\"City_Oporto\",\"yref\":\"y\"},{\"font\":{\"color\":\"#FFFFFF\"},\"showarrow\":false,\"text\":\"-0.02\",\"x\":\"City_Amsterdam\",\"xref\":\"x\",\"y\":\"City_Oporto\",\"yref\":\"y\"},{\"font\":{\"color\":\"#FFFFFF\"},\"showarrow\":false,\"text\":\"-0.01\",\"x\":\"City_Athens\",\"xref\":\"x\",\"y\":\"City_Oporto\",\"yref\":\"y\"},{\"font\":{\"color\":\"#FFFFFF\"},\"showarrow\":false,\"text\":\"-0.03\",\"x\":\"City_Barcelona\",\"xref\":\"x\",\"y\":\"City_Oporto\",\"yref\":\"y\"},{\"font\":{\"color\":\"#FFFFFF\"},\"showarrow\":false,\"text\":\"-0.03\",\"x\":\"City_Berlin\",\"xref\":\"x\",\"y\":\"City_Oporto\",\"yref\":\"y\"},{\"font\":{\"color\":\"#FFFFFF\"},\"showarrow\":false,\"text\":\"-0.01\",\"x\":\"City_Bratislava\",\"xref\":\"x\",\"y\":\"City_Oporto\",\"yref\":\"y\"},{\"font\":{\"color\":\"#FFFFFF\"},\"showarrow\":false,\"text\":\"-0.02\",\"x\":\"City_Brussels\",\"xref\":\"x\",\"y\":\"City_Oporto\",\"yref\":\"y\"},{\"font\":{\"color\":\"#FFFFFF\"},\"showarrow\":false,\"text\":\"-0.02\",\"x\":\"City_Budapest\",\"xref\":\"x\",\"y\":\"City_Oporto\",\"yref\":\"y\"},{\"font\":{\"color\":\"#FFFFFF\"},\"showarrow\":false,\"text\":\"-0.01\",\"x\":\"City_Copenhagen\",\"xref\":\"x\",\"y\":\"City_Oporto\",\"yref\":\"y\"},{\"font\":{\"color\":\"#FFFFFF\"},\"showarrow\":false,\"text\":\"-0.01\",\"x\":\"City_Dublin\",\"xref\":\"x\",\"y\":\"City_Oporto\",\"yref\":\"y\"},{\"font\":{\"color\":\"#FFFFFF\"},\"showarrow\":false,\"text\":\"-0.01\",\"x\":\"City_Edinburgh\",\"xref\":\"x\",\"y\":\"City_Oporto\",\"yref\":\"y\"},{\"font\":{\"color\":\"#FFFFFF\"},\"showarrow\":false,\"text\":\"-0.01\",\"x\":\"City_Geneva\",\"xref\":\"x\",\"y\":\"City_Oporto\",\"yref\":\"y\"},{\"font\":{\"color\":\"#FFFFFF\"},\"showarrow\":false,\"text\":\"-0.02\",\"x\":\"City_Hamburg\",\"xref\":\"x\",\"y\":\"City_Oporto\",\"yref\":\"y\"},{\"font\":{\"color\":\"#FFFFFF\"},\"showarrow\":false,\"text\":\"-0.01\",\"x\":\"City_Helsinki\",\"xref\":\"x\",\"y\":\"City_Oporto\",\"yref\":\"y\"},{\"font\":{\"color\":\"#FFFFFF\"},\"showarrow\":false,\"text\":\"-0.01\",\"x\":\"City_Krakow\",\"xref\":\"x\",\"y\":\"City_Oporto\",\"yref\":\"y\"},{\"font\":{\"color\":\"#FFFFFF\"},\"showarrow\":false,\"text\":\"-0.02\",\"x\":\"City_Lisbon\",\"xref\":\"x\",\"y\":\"City_Oporto\",\"yref\":\"y\"},{\"font\":{\"color\":\"#FFFFFF\"},\"showarrow\":false,\"text\":\"-0.01\",\"x\":\"City_Ljubljana\",\"xref\":\"x\",\"y\":\"City_Oporto\",\"yref\":\"y\"},{\"font\":{\"color\":\"#FFFFFF\"},\"showarrow\":false,\"text\":\"-0.05\",\"x\":\"City_London\",\"xref\":\"x\",\"y\":\"City_Oporto\",\"yref\":\"y\"},{\"font\":{\"color\":\"#FFFFFF\"},\"showarrow\":false,\"text\":\"-0.01\",\"x\":\"City_Luxembourg\",\"xref\":\"x\",\"y\":\"City_Oporto\",\"yref\":\"y\"},{\"font\":{\"color\":\"#FFFFFF\"},\"showarrow\":false,\"text\":\"-0.02\",\"x\":\"City_Lyon\",\"xref\":\"x\",\"y\":\"City_Oporto\",\"yref\":\"y\"},{\"font\":{\"color\":\"#FFFFFF\"},\"showarrow\":false,\"text\":\"-0.03\",\"x\":\"City_Madrid\",\"xref\":\"x\",\"y\":\"City_Oporto\",\"yref\":\"y\"},{\"font\":{\"color\":\"#FFFFFF\"},\"showarrow\":false,\"text\":\"-0.03\",\"x\":\"City_Milan\",\"xref\":\"x\",\"y\":\"City_Oporto\",\"yref\":\"y\"},{\"font\":{\"color\":\"#FFFFFF\"},\"showarrow\":false,\"text\":\"-0.02\",\"x\":\"City_Munich\",\"xref\":\"x\",\"y\":\"City_Oporto\",\"yref\":\"y\"},{\"font\":{\"color\":\"#000000\"},\"showarrow\":false,\"text\":\"1.0\",\"x\":\"City_Oporto\",\"xref\":\"x\",\"y\":\"City_Oporto\",\"yref\":\"y\"},{\"font\":{\"color\":\"#FFFFFF\"},\"showarrow\":false,\"text\":\"-0.01\",\"x\":\"City_Oslo\",\"xref\":\"x\",\"y\":\"City_Oporto\",\"yref\":\"y\"},{\"font\":{\"color\":\"#FFFFFF\"},\"showarrow\":false,\"text\":\"-0.04\",\"x\":\"City_Paris\",\"xref\":\"x\",\"y\":\"City_Oporto\",\"yref\":\"y\"},{\"font\":{\"color\":\"#FFFFFF\"},\"showarrow\":false,\"text\":\"-0.02\",\"x\":\"City_Prague\",\"xref\":\"x\",\"y\":\"City_Oporto\",\"yref\":\"y\"},{\"font\":{\"color\":\"#FFFFFF\"},\"showarrow\":false,\"text\":\"-0.03\",\"x\":\"City_Rome\",\"xref\":\"x\",\"y\":\"City_Oporto\",\"yref\":\"y\"},{\"font\":{\"color\":\"#FFFFFF\"},\"showarrow\":false,\"text\":\"-0.02\",\"x\":\"City_Stockholm\",\"xref\":\"x\",\"y\":\"City_Oporto\",\"yref\":\"y\"},{\"font\":{\"color\":\"#FFFFFF\"},\"showarrow\":false,\"text\":\"-0.02\",\"x\":\"City_Vienna\",\"xref\":\"x\",\"y\":\"City_Oporto\",\"yref\":\"y\"},{\"font\":{\"color\":\"#FFFFFF\"},\"showarrow\":false,\"text\":\"-0.02\",\"x\":\"City_Warsaw\",\"xref\":\"x\",\"y\":\"City_Oporto\",\"yref\":\"y\"},{\"font\":{\"color\":\"#FFFFFF\"},\"showarrow\":false,\"text\":\"-0.01\",\"x\":\"City_Zurich\",\"xref\":\"x\",\"y\":\"City_Oporto\",\"yref\":\"y\"},{\"font\":{\"color\":\"#FFFFFF\"},\"showarrow\":false,\"text\":\"-0.01\",\"x\":\"Rating\",\"xref\":\"x\",\"y\":\"City_Oslo\",\"yref\":\"y\"},{\"font\":{\"color\":\"#FFFFFF\"},\"showarrow\":false,\"text\":\"-0.02\",\"x\":\"City_Amsterdam\",\"xref\":\"x\",\"y\":\"City_Oslo\",\"yref\":\"y\"},{\"font\":{\"color\":\"#FFFFFF\"},\"showarrow\":false,\"text\":\"-0.01\",\"x\":\"City_Athens\",\"xref\":\"x\",\"y\":\"City_Oslo\",\"yref\":\"y\"},{\"font\":{\"color\":\"#FFFFFF\"},\"showarrow\":false,\"text\":\"-0.03\",\"x\":\"City_Barcelona\",\"xref\":\"x\",\"y\":\"City_Oslo\",\"yref\":\"y\"},{\"font\":{\"color\":\"#FFFFFF\"},\"showarrow\":false,\"text\":\"-0.02\",\"x\":\"City_Berlin\",\"xref\":\"x\",\"y\":\"City_Oslo\",\"yref\":\"y\"},{\"font\":{\"color\":\"#FFFFFF\"},\"showarrow\":false,\"text\":\"-0.01\",\"x\":\"City_Bratislava\",\"xref\":\"x\",\"y\":\"City_Oslo\",\"yref\":\"y\"},{\"font\":{\"color\":\"#FFFFFF\"},\"showarrow\":false,\"text\":\"-0.02\",\"x\":\"City_Brussels\",\"xref\":\"x\",\"y\":\"City_Oslo\",\"yref\":\"y\"},{\"font\":{\"color\":\"#FFFFFF\"},\"showarrow\":false,\"text\":\"-0.01\",\"x\":\"City_Budapest\",\"xref\":\"x\",\"y\":\"City_Oslo\",\"yref\":\"y\"},{\"font\":{\"color\":\"#FFFFFF\"},\"showarrow\":false,\"text\":\"-0.01\",\"x\":\"City_Copenhagen\",\"xref\":\"x\",\"y\":\"City_Oslo\",\"yref\":\"y\"},{\"font\":{\"color\":\"#FFFFFF\"},\"showarrow\":false,\"text\":\"-0.01\",\"x\":\"City_Dublin\",\"xref\":\"x\",\"y\":\"City_Oslo\",\"yref\":\"y\"},{\"font\":{\"color\":\"#FFFFFF\"},\"showarrow\":false,\"text\":\"-0.01\",\"x\":\"City_Edinburgh\",\"xref\":\"x\",\"y\":\"City_Oslo\",\"yref\":\"y\"},{\"font\":{\"color\":\"#FFFFFF\"},\"showarrow\":false,\"text\":\"-0.01\",\"x\":\"City_Geneva\",\"xref\":\"x\",\"y\":\"City_Oslo\",\"yref\":\"y\"},{\"font\":{\"color\":\"#FFFFFF\"},\"showarrow\":false,\"text\":\"-0.02\",\"x\":\"City_Hamburg\",\"xref\":\"x\",\"y\":\"City_Oslo\",\"yref\":\"y\"},{\"font\":{\"color\":\"#FFFFFF\"},\"showarrow\":false,\"text\":\"-0.01\",\"x\":\"City_Helsinki\",\"xref\":\"x\",\"y\":\"City_Oslo\",\"yref\":\"y\"},{\"font\":{\"color\":\"#FFFFFF\"},\"showarrow\":false,\"text\":\"-0.01\",\"x\":\"City_Krakow\",\"xref\":\"x\",\"y\":\"City_Oslo\",\"yref\":\"y\"},{\"font\":{\"color\":\"#FFFFFF\"},\"showarrow\":false,\"text\":\"-0.02\",\"x\":\"City_Lisbon\",\"xref\":\"x\",\"y\":\"City_Oslo\",\"yref\":\"y\"},{\"font\":{\"color\":\"#FFFFFF\"},\"showarrow\":false,\"text\":\"-0.01\",\"x\":\"City_Ljubljana\",\"xref\":\"x\",\"y\":\"City_Oslo\",\"yref\":\"y\"},{\"font\":{\"color\":\"#FFFFFF\"},\"showarrow\":false,\"text\":\"-0.04\",\"x\":\"City_London\",\"xref\":\"x\",\"y\":\"City_Oslo\",\"yref\":\"y\"},{\"font\":{\"color\":\"#FFFFFF\"},\"showarrow\":false,\"text\":\"-0.01\",\"x\":\"City_Luxembourg\",\"xref\":\"x\",\"y\":\"City_Oslo\",\"yref\":\"y\"},{\"font\":{\"color\":\"#FFFFFF\"},\"showarrow\":false,\"text\":\"-0.01\",\"x\":\"City_Lyon\",\"xref\":\"x\",\"y\":\"City_Oslo\",\"yref\":\"y\"},{\"font\":{\"color\":\"#FFFFFF\"},\"showarrow\":false,\"text\":\"-0.03\",\"x\":\"City_Madrid\",\"xref\":\"x\",\"y\":\"City_Oslo\",\"yref\":\"y\"},{\"font\":{\"color\":\"#FFFFFF\"},\"showarrow\":false,\"text\":\"-0.02\",\"x\":\"City_Milan\",\"xref\":\"x\",\"y\":\"City_Oslo\",\"yref\":\"y\"},{\"font\":{\"color\":\"#FFFFFF\"},\"showarrow\":false,\"text\":\"-0.01\",\"x\":\"City_Munich\",\"xref\":\"x\",\"y\":\"City_Oslo\",\"yref\":\"y\"},{\"font\":{\"color\":\"#FFFFFF\"},\"showarrow\":false,\"text\":\"-0.01\",\"x\":\"City_Oporto\",\"xref\":\"x\",\"y\":\"City_Oslo\",\"yref\":\"y\"},{\"font\":{\"color\":\"#000000\"},\"showarrow\":false,\"text\":\"1.0\",\"x\":\"City_Oslo\",\"xref\":\"x\",\"y\":\"City_Oslo\",\"yref\":\"y\"},{\"font\":{\"color\":\"#FFFFFF\"},\"showarrow\":false,\"text\":\"-0.04\",\"x\":\"City_Paris\",\"xref\":\"x\",\"y\":\"City_Oslo\",\"yref\":\"y\"},{\"font\":{\"color\":\"#FFFFFF\"},\"showarrow\":false,\"text\":\"-0.02\",\"x\":\"City_Prague\",\"xref\":\"x\",\"y\":\"City_Oslo\",\"yref\":\"y\"},{\"font\":{\"color\":\"#FFFFFF\"},\"showarrow\":false,\"text\":\"-0.02\",\"x\":\"City_Rome\",\"xref\":\"x\",\"y\":\"City_Oslo\",\"yref\":\"y\"},{\"font\":{\"color\":\"#FFFFFF\"},\"showarrow\":false,\"text\":\"-0.01\",\"x\":\"City_Stockholm\",\"xref\":\"x\",\"y\":\"City_Oslo\",\"yref\":\"y\"},{\"font\":{\"color\":\"#FFFFFF\"},\"showarrow\":false,\"text\":\"-0.02\",\"x\":\"City_Vienna\",\"xref\":\"x\",\"y\":\"City_Oslo\",\"yref\":\"y\"},{\"font\":{\"color\":\"#FFFFFF\"},\"showarrow\":false,\"text\":\"-0.01\",\"x\":\"City_Warsaw\",\"xref\":\"x\",\"y\":\"City_Oslo\",\"yref\":\"y\"},{\"font\":{\"color\":\"#FFFFFF\"},\"showarrow\":false,\"text\":\"-0.01\",\"x\":\"City_Zurich\",\"xref\":\"x\",\"y\":\"City_Oslo\",\"yref\":\"y\"},{\"font\":{\"color\":\"#FFFFFF\"},\"showarrow\":false,\"text\":\"-0.03\",\"x\":\"Rating\",\"xref\":\"x\",\"y\":\"City_Paris\",\"yref\":\"y\"},{\"font\":{\"color\":\"#FFFFFF\"},\"showarrow\":false,\"text\":\"-0.06\",\"x\":\"City_Amsterdam\",\"xref\":\"x\",\"y\":\"City_Paris\",\"yref\":\"y\"},{\"font\":{\"color\":\"#FFFFFF\"},\"showarrow\":false,\"text\":\"-0.05\",\"x\":\"City_Athens\",\"xref\":\"x\",\"y\":\"City_Paris\",\"yref\":\"y\"},{\"font\":{\"color\":\"#FFFFFF\"},\"showarrow\":false,\"text\":\"-0.1\",\"x\":\"City_Barcelona\",\"xref\":\"x\",\"y\":\"City_Paris\",\"yref\":\"y\"},{\"font\":{\"color\":\"#FFFFFF\"},\"showarrow\":false,\"text\":\"-0.09\",\"x\":\"City_Berlin\",\"xref\":\"x\",\"y\":\"City_Paris\",\"yref\":\"y\"},{\"font\":{\"color\":\"#FFFFFF\"},\"showarrow\":false,\"text\":\"-0.03\",\"x\":\"City_Bratislava\",\"xref\":\"x\",\"y\":\"City_Paris\",\"yref\":\"y\"},{\"font\":{\"color\":\"#FFFFFF\"},\"showarrow\":false,\"text\":\"-0.06\",\"x\":\"City_Brussels\",\"xref\":\"x\",\"y\":\"City_Paris\",\"yref\":\"y\"},{\"font\":{\"color\":\"#FFFFFF\"},\"showarrow\":false,\"text\":\"-0.05\",\"x\":\"City_Budapest\",\"xref\":\"x\",\"y\":\"City_Paris\",\"yref\":\"y\"},{\"font\":{\"color\":\"#FFFFFF\"},\"showarrow\":false,\"text\":\"-0.05\",\"x\":\"City_Copenhagen\",\"xref\":\"x\",\"y\":\"City_Paris\",\"yref\":\"y\"},{\"font\":{\"color\":\"#FFFFFF\"},\"showarrow\":false,\"text\":\"-0.05\",\"x\":\"City_Dublin\",\"xref\":\"x\",\"y\":\"City_Paris\",\"yref\":\"y\"},{\"font\":{\"color\":\"#FFFFFF\"},\"showarrow\":false,\"text\":\"-0.05\",\"x\":\"City_Edinburgh\",\"xref\":\"x\",\"y\":\"City_Paris\",\"yref\":\"y\"},{\"font\":{\"color\":\"#FFFFFF\"},\"showarrow\":false,\"text\":\"-0.04\",\"x\":\"City_Geneva\",\"xref\":\"x\",\"y\":\"City_Paris\",\"yref\":\"y\"},{\"font\":{\"color\":\"#FFFFFF\"},\"showarrow\":false,\"text\":\"-0.06\",\"x\":\"City_Hamburg\",\"xref\":\"x\",\"y\":\"City_Paris\",\"yref\":\"y\"},{\"font\":{\"color\":\"#FFFFFF\"},\"showarrow\":false,\"text\":\"-0.04\",\"x\":\"City_Helsinki\",\"xref\":\"x\",\"y\":\"City_Paris\",\"yref\":\"y\"},{\"font\":{\"color\":\"#FFFFFF\"},\"showarrow\":false,\"text\":\"-0.04\",\"x\":\"City_Krakow\",\"xref\":\"x\",\"y\":\"City_Paris\",\"yref\":\"y\"},{\"font\":{\"color\":\"#FFFFFF\"},\"showarrow\":false,\"text\":\"-0.07\",\"x\":\"City_Lisbon\",\"xref\":\"x\",\"y\":\"City_Paris\",\"yref\":\"y\"},{\"font\":{\"color\":\"#FFFFFF\"},\"showarrow\":false,\"text\":\"-0.03\",\"x\":\"City_Ljubljana\",\"xref\":\"x\",\"y\":\"City_Paris\",\"yref\":\"y\"},{\"font\":{\"color\":\"#FFFFFF\"},\"showarrow\":false,\"text\":\"-0.15\",\"x\":\"City_London\",\"xref\":\"x\",\"y\":\"City_Paris\",\"yref\":\"y\"},{\"font\":{\"color\":\"#FFFFFF\"},\"showarrow\":false,\"text\":\"-0.03\",\"x\":\"City_Luxembourg\",\"xref\":\"x\",\"y\":\"City_Paris\",\"yref\":\"y\"},{\"font\":{\"color\":\"#FFFFFF\"},\"showarrow\":false,\"text\":\"-0.06\",\"x\":\"City_Lyon\",\"xref\":\"x\",\"y\":\"City_Paris\",\"yref\":\"y\"},{\"font\":{\"color\":\"#FFFFFF\"},\"showarrow\":false,\"text\":\"-0.11\",\"x\":\"City_Madrid\",\"xref\":\"x\",\"y\":\"City_Paris\",\"yref\":\"y\"},{\"font\":{\"color\":\"#FFFFFF\"},\"showarrow\":false,\"text\":\"-0.09\",\"x\":\"City_Milan\",\"xref\":\"x\",\"y\":\"City_Paris\",\"yref\":\"y\"},{\"font\":{\"color\":\"#FFFFFF\"},\"showarrow\":false,\"text\":\"-0.06\",\"x\":\"City_Munich\",\"xref\":\"x\",\"y\":\"City_Paris\",\"yref\":\"y\"},{\"font\":{\"color\":\"#FFFFFF\"},\"showarrow\":false,\"text\":\"-0.04\",\"x\":\"City_Oporto\",\"xref\":\"x\",\"y\":\"City_Paris\",\"yref\":\"y\"},{\"font\":{\"color\":\"#FFFFFF\"},\"showarrow\":false,\"text\":\"-0.04\",\"x\":\"City_Oslo\",\"xref\":\"x\",\"y\":\"City_Paris\",\"yref\":\"y\"},{\"font\":{\"color\":\"#000000\"},\"showarrow\":false,\"text\":\"1.0\",\"x\":\"City_Paris\",\"xref\":\"x\",\"y\":\"City_Paris\",\"yref\":\"y\"},{\"font\":{\"color\":\"#FFFFFF\"},\"showarrow\":false,\"text\":\"-0.07\",\"x\":\"City_Prague\",\"xref\":\"x\",\"y\":\"City_Paris\",\"yref\":\"y\"},{\"font\":{\"color\":\"#FFFFFF\"},\"showarrow\":false,\"text\":\"-0.09\",\"x\":\"City_Rome\",\"xref\":\"x\",\"y\":\"City_Paris\",\"yref\":\"y\"},{\"font\":{\"color\":\"#FFFFFF\"},\"showarrow\":false,\"text\":\"-0.05\",\"x\":\"City_Stockholm\",\"xref\":\"x\",\"y\":\"City_Paris\",\"yref\":\"y\"},{\"font\":{\"color\":\"#FFFFFF\"},\"showarrow\":false,\"text\":\"-0.06\",\"x\":\"City_Vienna\",\"xref\":\"x\",\"y\":\"City_Paris\",\"yref\":\"y\"},{\"font\":{\"color\":\"#FFFFFF\"},\"showarrow\":false,\"text\":\"-0.05\",\"x\":\"City_Warsaw\",\"xref\":\"x\",\"y\":\"City_Paris\",\"yref\":\"y\"},{\"font\":{\"color\":\"#FFFFFF\"},\"showarrow\":false,\"text\":\"-0.04\",\"x\":\"City_Zurich\",\"xref\":\"x\",\"y\":\"City_Paris\",\"yref\":\"y\"},{\"font\":{\"color\":\"#FFFFFF\"},\"showarrow\":false,\"text\":\"0.01\",\"x\":\"Rating\",\"xref\":\"x\",\"y\":\"City_Prague\",\"yref\":\"y\"},{\"font\":{\"color\":\"#FFFFFF\"},\"showarrow\":false,\"text\":\"-0.03\",\"x\":\"City_Amsterdam\",\"xref\":\"x\",\"y\":\"City_Prague\",\"yref\":\"y\"},{\"font\":{\"color\":\"#FFFFFF\"},\"showarrow\":false,\"text\":\"-0.02\",\"x\":\"City_Athens\",\"xref\":\"x\",\"y\":\"City_Prague\",\"yref\":\"y\"},{\"font\":{\"color\":\"#FFFFFF\"},\"showarrow\":false,\"text\":\"-0.05\",\"x\":\"City_Barcelona\",\"xref\":\"x\",\"y\":\"City_Prague\",\"yref\":\"y\"},{\"font\":{\"color\":\"#FFFFFF\"},\"showarrow\":false,\"text\":\"-0.05\",\"x\":\"City_Berlin\",\"xref\":\"x\",\"y\":\"City_Prague\",\"yref\":\"y\"},{\"font\":{\"color\":\"#FFFFFF\"},\"showarrow\":false,\"text\":\"-0.02\",\"x\":\"City_Bratislava\",\"xref\":\"x\",\"y\":\"City_Prague\",\"yref\":\"y\"},{\"font\":{\"color\":\"#FFFFFF\"},\"showarrow\":false,\"text\":\"-0.03\",\"x\":\"City_Brussels\",\"xref\":\"x\",\"y\":\"City_Prague\",\"yref\":\"y\"},{\"font\":{\"color\":\"#FFFFFF\"},\"showarrow\":false,\"text\":\"-0.03\",\"x\":\"City_Budapest\",\"xref\":\"x\",\"y\":\"City_Prague\",\"yref\":\"y\"},{\"font\":{\"color\":\"#FFFFFF\"},\"showarrow\":false,\"text\":\"-0.03\",\"x\":\"City_Copenhagen\",\"xref\":\"x\",\"y\":\"City_Prague\",\"yref\":\"y\"},{\"font\":{\"color\":\"#FFFFFF\"},\"showarrow\":false,\"text\":\"-0.03\",\"x\":\"City_Dublin\",\"xref\":\"x\",\"y\":\"City_Prague\",\"yref\":\"y\"},{\"font\":{\"color\":\"#FFFFFF\"},\"showarrow\":false,\"text\":\"-0.02\",\"x\":\"City_Edinburgh\",\"xref\":\"x\",\"y\":\"City_Prague\",\"yref\":\"y\"},{\"font\":{\"color\":\"#FFFFFF\"},\"showarrow\":false,\"text\":\"-0.02\",\"x\":\"City_Geneva\",\"xref\":\"x\",\"y\":\"City_Prague\",\"yref\":\"y\"},{\"font\":{\"color\":\"#FFFFFF\"},\"showarrow\":false,\"text\":\"-0.03\",\"x\":\"City_Hamburg\",\"xref\":\"x\",\"y\":\"City_Prague\",\"yref\":\"y\"},{\"font\":{\"color\":\"#FFFFFF\"},\"showarrow\":false,\"text\":\"-0.02\",\"x\":\"City_Helsinki\",\"xref\":\"x\",\"y\":\"City_Prague\",\"yref\":\"y\"},{\"font\":{\"color\":\"#FFFFFF\"},\"showarrow\":false,\"text\":\"-0.02\",\"x\":\"City_Krakow\",\"xref\":\"x\",\"y\":\"City_Prague\",\"yref\":\"y\"},{\"font\":{\"color\":\"#FFFFFF\"},\"showarrow\":false,\"text\":\"-0.04\",\"x\":\"City_Lisbon\",\"xref\":\"x\",\"y\":\"City_Prague\",\"yref\":\"y\"},{\"font\":{\"color\":\"#FFFFFF\"},\"showarrow\":false,\"text\":\"-0.01\",\"x\":\"City_Ljubljana\",\"xref\":\"x\",\"y\":\"City_Prague\",\"yref\":\"y\"},{\"font\":{\"color\":\"#FFFFFF\"},\"showarrow\":false,\"text\":\"-0.08\",\"x\":\"City_London\",\"xref\":\"x\",\"y\":\"City_Prague\",\"yref\":\"y\"},{\"font\":{\"color\":\"#FFFFFF\"},\"showarrow\":false,\"text\":\"-0.01\",\"x\":\"City_Luxembourg\",\"xref\":\"x\",\"y\":\"City_Prague\",\"yref\":\"y\"},{\"font\":{\"color\":\"#FFFFFF\"},\"showarrow\":false,\"text\":\"-0.03\",\"x\":\"City_Lyon\",\"xref\":\"x\",\"y\":\"City_Prague\",\"yref\":\"y\"},{\"font\":{\"color\":\"#FFFFFF\"},\"showarrow\":false,\"text\":\"-0.06\",\"x\":\"City_Madrid\",\"xref\":\"x\",\"y\":\"City_Prague\",\"yref\":\"y\"},{\"font\":{\"color\":\"#FFFFFF\"},\"showarrow\":false,\"text\":\"-0.05\",\"x\":\"City_Milan\",\"xref\":\"x\",\"y\":\"City_Prague\",\"yref\":\"y\"},{\"font\":{\"color\":\"#FFFFFF\"},\"showarrow\":false,\"text\":\"-0.03\",\"x\":\"City_Munich\",\"xref\":\"x\",\"y\":\"City_Prague\",\"yref\":\"y\"},{\"font\":{\"color\":\"#FFFFFF\"},\"showarrow\":false,\"text\":\"-0.02\",\"x\":\"City_Oporto\",\"xref\":\"x\",\"y\":\"City_Prague\",\"yref\":\"y\"},{\"font\":{\"color\":\"#FFFFFF\"},\"showarrow\":false,\"text\":\"-0.02\",\"x\":\"City_Oslo\",\"xref\":\"x\",\"y\":\"City_Prague\",\"yref\":\"y\"},{\"font\":{\"color\":\"#FFFFFF\"},\"showarrow\":false,\"text\":\"-0.07\",\"x\":\"City_Paris\",\"xref\":\"x\",\"y\":\"City_Prague\",\"yref\":\"y\"},{\"font\":{\"color\":\"#000000\"},\"showarrow\":false,\"text\":\"1.0\",\"x\":\"City_Prague\",\"xref\":\"x\",\"y\":\"City_Prague\",\"yref\":\"y\"},{\"font\":{\"color\":\"#FFFFFF\"},\"showarrow\":false,\"text\":\"-0.05\",\"x\":\"City_Rome\",\"xref\":\"x\",\"y\":\"City_Prague\",\"yref\":\"y\"},{\"font\":{\"color\":\"#FFFFFF\"},\"showarrow\":false,\"text\":\"-0.03\",\"x\":\"City_Stockholm\",\"xref\":\"x\",\"y\":\"City_Prague\",\"yref\":\"y\"},{\"font\":{\"color\":\"#FFFFFF\"},\"showarrow\":false,\"text\":\"-0.03\",\"x\":\"City_Vienna\",\"xref\":\"x\",\"y\":\"City_Prague\",\"yref\":\"y\"},{\"font\":{\"color\":\"#FFFFFF\"},\"showarrow\":false,\"text\":\"-0.03\",\"x\":\"City_Warsaw\",\"xref\":\"x\",\"y\":\"City_Prague\",\"yref\":\"y\"},{\"font\":{\"color\":\"#FFFFFF\"},\"showarrow\":false,\"text\":\"-0.02\",\"x\":\"City_Zurich\",\"xref\":\"x\",\"y\":\"City_Prague\",\"yref\":\"y\"},{\"font\":{\"color\":\"#FFFFFF\"},\"showarrow\":false,\"text\":\"0.08\",\"x\":\"Rating\",\"xref\":\"x\",\"y\":\"City_Rome\",\"yref\":\"y\"},{\"font\":{\"color\":\"#FFFFFF\"},\"showarrow\":false,\"text\":\"-0.04\",\"x\":\"City_Amsterdam\",\"xref\":\"x\",\"y\":\"City_Rome\",\"yref\":\"y\"},{\"font\":{\"color\":\"#FFFFFF\"},\"showarrow\":false,\"text\":\"-0.03\",\"x\":\"City_Athens\",\"xref\":\"x\",\"y\":\"City_Rome\",\"yref\":\"y\"},{\"font\":{\"color\":\"#FFFFFF\"},\"showarrow\":false,\"text\":\"-0.06\",\"x\":\"City_Barcelona\",\"xref\":\"x\",\"y\":\"City_Rome\",\"yref\":\"y\"},{\"font\":{\"color\":\"#FFFFFF\"},\"showarrow\":false,\"text\":\"-0.06\",\"x\":\"City_Berlin\",\"xref\":\"x\",\"y\":\"City_Rome\",\"yref\":\"y\"},{\"font\":{\"color\":\"#FFFFFF\"},\"showarrow\":false,\"text\":\"-0.02\",\"x\":\"City_Bratislava\",\"xref\":\"x\",\"y\":\"City_Rome\",\"yref\":\"y\"},{\"font\":{\"color\":\"#FFFFFF\"},\"showarrow\":false,\"text\":\"-0.04\",\"x\":\"City_Brussels\",\"xref\":\"x\",\"y\":\"City_Rome\",\"yref\":\"y\"},{\"font\":{\"color\":\"#FFFFFF\"},\"showarrow\":false,\"text\":\"-0.03\",\"x\":\"City_Budapest\",\"xref\":\"x\",\"y\":\"City_Rome\",\"yref\":\"y\"},{\"font\":{\"color\":\"#FFFFFF\"},\"showarrow\":false,\"text\":\"-0.03\",\"x\":\"City_Copenhagen\",\"xref\":\"x\",\"y\":\"City_Rome\",\"yref\":\"y\"},{\"font\":{\"color\":\"#FFFFFF\"},\"showarrow\":false,\"text\":\"-0.03\",\"x\":\"City_Dublin\",\"xref\":\"x\",\"y\":\"City_Rome\",\"yref\":\"y\"},{\"font\":{\"color\":\"#FFFFFF\"},\"showarrow\":false,\"text\":\"-0.03\",\"x\":\"City_Edinburgh\",\"xref\":\"x\",\"y\":\"City_Rome\",\"yref\":\"y\"},{\"font\":{\"color\":\"#FFFFFF\"},\"showarrow\":false,\"text\":\"-0.03\",\"x\":\"City_Geneva\",\"xref\":\"x\",\"y\":\"City_Rome\",\"yref\":\"y\"},{\"font\":{\"color\":\"#FFFFFF\"},\"showarrow\":false,\"text\":\"-0.04\",\"x\":\"City_Hamburg\",\"xref\":\"x\",\"y\":\"City_Rome\",\"yref\":\"y\"},{\"font\":{\"color\":\"#FFFFFF\"},\"showarrow\":false,\"text\":\"-0.02\",\"x\":\"City_Helsinki\",\"xref\":\"x\",\"y\":\"City_Rome\",\"yref\":\"y\"},{\"font\":{\"color\":\"#FFFFFF\"},\"showarrow\":false,\"text\":\"-0.02\",\"x\":\"City_Krakow\",\"xref\":\"x\",\"y\":\"City_Rome\",\"yref\":\"y\"},{\"font\":{\"color\":\"#FFFFFF\"},\"showarrow\":false,\"text\":\"-0.04\",\"x\":\"City_Lisbon\",\"xref\":\"x\",\"y\":\"City_Rome\",\"yref\":\"y\"},{\"font\":{\"color\":\"#FFFFFF\"},\"showarrow\":false,\"text\":\"-0.02\",\"x\":\"City_Ljubljana\",\"xref\":\"x\",\"y\":\"City_Rome\",\"yref\":\"y\"},{\"font\":{\"color\":\"#FFFFFF\"},\"showarrow\":false,\"text\":\"-0.1\",\"x\":\"City_London\",\"xref\":\"x\",\"y\":\"City_Rome\",\"yref\":\"y\"},{\"font\":{\"color\":\"#FFFFFF\"},\"showarrow\":false,\"text\":\"-0.02\",\"x\":\"City_Luxembourg\",\"xref\":\"x\",\"y\":\"City_Rome\",\"yref\":\"y\"},{\"font\":{\"color\":\"#FFFFFF\"},\"showarrow\":false,\"text\":\"-0.04\",\"x\":\"City_Lyon\",\"xref\":\"x\",\"y\":\"City_Rome\",\"yref\":\"y\"},{\"font\":{\"color\":\"#FFFFFF\"},\"showarrow\":false,\"text\":\"-0.07\",\"x\":\"City_Madrid\",\"xref\":\"x\",\"y\":\"City_Rome\",\"yref\":\"y\"},{\"font\":{\"color\":\"#FFFFFF\"},\"showarrow\":false,\"text\":\"-0.06\",\"x\":\"City_Milan\",\"xref\":\"x\",\"y\":\"City_Rome\",\"yref\":\"y\"},{\"font\":{\"color\":\"#FFFFFF\"},\"showarrow\":false,\"text\":\"-0.04\",\"x\":\"City_Munich\",\"xref\":\"x\",\"y\":\"City_Rome\",\"yref\":\"y\"},{\"font\":{\"color\":\"#FFFFFF\"},\"showarrow\":false,\"text\":\"-0.03\",\"x\":\"City_Oporto\",\"xref\":\"x\",\"y\":\"City_Rome\",\"yref\":\"y\"},{\"font\":{\"color\":\"#FFFFFF\"},\"showarrow\":false,\"text\":\"-0.02\",\"x\":\"City_Oslo\",\"xref\":\"x\",\"y\":\"City_Rome\",\"yref\":\"y\"},{\"font\":{\"color\":\"#FFFFFF\"},\"showarrow\":false,\"text\":\"-0.09\",\"x\":\"City_Paris\",\"xref\":\"x\",\"y\":\"City_Rome\",\"yref\":\"y\"},{\"font\":{\"color\":\"#FFFFFF\"},\"showarrow\":false,\"text\":\"-0.05\",\"x\":\"City_Prague\",\"xref\":\"x\",\"y\":\"City_Rome\",\"yref\":\"y\"},{\"font\":{\"color\":\"#000000\"},\"showarrow\":false,\"text\":\"1.0\",\"x\":\"City_Rome\",\"xref\":\"x\",\"y\":\"City_Rome\",\"yref\":\"y\"},{\"font\":{\"color\":\"#FFFFFF\"},\"showarrow\":false,\"text\":\"-0.03\",\"x\":\"City_Stockholm\",\"xref\":\"x\",\"y\":\"City_Rome\",\"yref\":\"y\"},{\"font\":{\"color\":\"#FFFFFF\"},\"showarrow\":false,\"text\":\"-0.04\",\"x\":\"City_Vienna\",\"xref\":\"x\",\"y\":\"City_Rome\",\"yref\":\"y\"},{\"font\":{\"color\":\"#FFFFFF\"},\"showarrow\":false,\"text\":\"-0.03\",\"x\":\"City_Warsaw\",\"xref\":\"x\",\"y\":\"City_Rome\",\"yref\":\"y\"},{\"font\":{\"color\":\"#FFFFFF\"},\"showarrow\":false,\"text\":\"-0.03\",\"x\":\"City_Zurich\",\"xref\":\"x\",\"y\":\"City_Rome\",\"yref\":\"y\"},{\"font\":{\"color\":\"#FFFFFF\"},\"showarrow\":false,\"text\":\"-0.03\",\"x\":\"Rating\",\"xref\":\"x\",\"y\":\"City_Stockholm\",\"yref\":\"y\"},{\"font\":{\"color\":\"#FFFFFF\"},\"showarrow\":false,\"text\":\"-0.02\",\"x\":\"City_Amsterdam\",\"xref\":\"x\",\"y\":\"City_Stockholm\",\"yref\":\"y\"},{\"font\":{\"color\":\"#FFFFFF\"},\"showarrow\":false,\"text\":\"-0.02\",\"x\":\"City_Athens\",\"xref\":\"x\",\"y\":\"City_Stockholm\",\"yref\":\"y\"},{\"font\":{\"color\":\"#FFFFFF\"},\"showarrow\":false,\"text\":\"-0.04\",\"x\":\"City_Barcelona\",\"xref\":\"x\",\"y\":\"City_Stockholm\",\"yref\":\"y\"},{\"font\":{\"color\":\"#FFFFFF\"},\"showarrow\":false,\"text\":\"-0.03\",\"x\":\"City_Berlin\",\"xref\":\"x\",\"y\":\"City_Stockholm\",\"yref\":\"y\"},{\"font\":{\"color\":\"#FFFFFF\"},\"showarrow\":false,\"text\":\"-0.01\",\"x\":\"City_Bratislava\",\"xref\":\"x\",\"y\":\"City_Stockholm\",\"yref\":\"y\"},{\"font\":{\"color\":\"#FFFFFF\"},\"showarrow\":false,\"text\":\"-0.02\",\"x\":\"City_Brussels\",\"xref\":\"x\",\"y\":\"City_Stockholm\",\"yref\":\"y\"},{\"font\":{\"color\":\"#FFFFFF\"},\"showarrow\":false,\"text\":\"-0.02\",\"x\":\"City_Budapest\",\"xref\":\"x\",\"y\":\"City_Stockholm\",\"yref\":\"y\"},{\"font\":{\"color\":\"#FFFFFF\"},\"showarrow\":false,\"text\":\"-0.02\",\"x\":\"City_Copenhagen\",\"xref\":\"x\",\"y\":\"City_Stockholm\",\"yref\":\"y\"},{\"font\":{\"color\":\"#FFFFFF\"},\"showarrow\":false,\"text\":\"-0.02\",\"x\":\"City_Dublin\",\"xref\":\"x\",\"y\":\"City_Stockholm\",\"yref\":\"y\"},{\"font\":{\"color\":\"#FFFFFF\"},\"showarrow\":false,\"text\":\"-0.02\",\"x\":\"City_Edinburgh\",\"xref\":\"x\",\"y\":\"City_Stockholm\",\"yref\":\"y\"},{\"font\":{\"color\":\"#FFFFFF\"},\"showarrow\":false,\"text\":\"-0.02\",\"x\":\"City_Geneva\",\"xref\":\"x\",\"y\":\"City_Stockholm\",\"yref\":\"y\"},{\"font\":{\"color\":\"#FFFFFF\"},\"showarrow\":false,\"text\":\"-0.02\",\"x\":\"City_Hamburg\",\"xref\":\"x\",\"y\":\"City_Stockholm\",\"yref\":\"y\"},{\"font\":{\"color\":\"#FFFFFF\"},\"showarrow\":false,\"text\":\"-0.01\",\"x\":\"City_Helsinki\",\"xref\":\"x\",\"y\":\"City_Stockholm\",\"yref\":\"y\"},{\"font\":{\"color\":\"#FFFFFF\"},\"showarrow\":false,\"text\":\"-0.02\",\"x\":\"City_Krakow\",\"xref\":\"x\",\"y\":\"City_Stockholm\",\"yref\":\"y\"},{\"font\":{\"color\":\"#FFFFFF\"},\"showarrow\":false,\"text\":\"-0.03\",\"x\":\"City_Lisbon\",\"xref\":\"x\",\"y\":\"City_Stockholm\",\"yref\":\"y\"},{\"font\":{\"color\":\"#FFFFFF\"},\"showarrow\":false,\"text\":\"-0.01\",\"x\":\"City_Ljubljana\",\"xref\":\"x\",\"y\":\"City_Stockholm\",\"yref\":\"y\"},{\"font\":{\"color\":\"#FFFFFF\"},\"showarrow\":false,\"text\":\"-0.06\",\"x\":\"City_London\",\"xref\":\"x\",\"y\":\"City_Stockholm\",\"yref\":\"y\"},{\"font\":{\"color\":\"#FFFFFF\"},\"showarrow\":false,\"text\":\"-0.01\",\"x\":\"City_Luxembourg\",\"xref\":\"x\",\"y\":\"City_Stockholm\",\"yref\":\"y\"},{\"font\":{\"color\":\"#FFFFFF\"},\"showarrow\":false,\"text\":\"-0.02\",\"x\":\"City_Lyon\",\"xref\":\"x\",\"y\":\"City_Stockholm\",\"yref\":\"y\"},{\"font\":{\"color\":\"#FFFFFF\"},\"showarrow\":false,\"text\":\"-0.04\",\"x\":\"City_Madrid\",\"xref\":\"x\",\"y\":\"City_Stockholm\",\"yref\":\"y\"},{\"font\":{\"color\":\"#FFFFFF\"},\"showarrow\":false,\"text\":\"-0.03\",\"x\":\"City_Milan\",\"xref\":\"x\",\"y\":\"City_Stockholm\",\"yref\":\"y\"},{\"font\":{\"color\":\"#FFFFFF\"},\"showarrow\":false,\"text\":\"-0.02\",\"x\":\"City_Munich\",\"xref\":\"x\",\"y\":\"City_Stockholm\",\"yref\":\"y\"},{\"font\":{\"color\":\"#FFFFFF\"},\"showarrow\":false,\"text\":\"-0.02\",\"x\":\"City_Oporto\",\"xref\":\"x\",\"y\":\"City_Stockholm\",\"yref\":\"y\"},{\"font\":{\"color\":\"#FFFFFF\"},\"showarrow\":false,\"text\":\"-0.01\",\"x\":\"City_Oslo\",\"xref\":\"x\",\"y\":\"City_Stockholm\",\"yref\":\"y\"},{\"font\":{\"color\":\"#FFFFFF\"},\"showarrow\":false,\"text\":\"-0.05\",\"x\":\"City_Paris\",\"xref\":\"x\",\"y\":\"City_Stockholm\",\"yref\":\"y\"},{\"font\":{\"color\":\"#FFFFFF\"},\"showarrow\":false,\"text\":\"-0.03\",\"x\":\"City_Prague\",\"xref\":\"x\",\"y\":\"City_Stockholm\",\"yref\":\"y\"},{\"font\":{\"color\":\"#FFFFFF\"},\"showarrow\":false,\"text\":\"-0.03\",\"x\":\"City_Rome\",\"xref\":\"x\",\"y\":\"City_Stockholm\",\"yref\":\"y\"},{\"font\":{\"color\":\"#000000\"},\"showarrow\":false,\"text\":\"1.0\",\"x\":\"City_Stockholm\",\"xref\":\"x\",\"y\":\"City_Stockholm\",\"yref\":\"y\"},{\"font\":{\"color\":\"#FFFFFF\"},\"showarrow\":false,\"text\":\"-0.03\",\"x\":\"City_Vienna\",\"xref\":\"x\",\"y\":\"City_Stockholm\",\"yref\":\"y\"},{\"font\":{\"color\":\"#FFFFFF\"},\"showarrow\":false,\"text\":\"-0.02\",\"x\":\"City_Warsaw\",\"xref\":\"x\",\"y\":\"City_Stockholm\",\"yref\":\"y\"},{\"font\":{\"color\":\"#FFFFFF\"},\"showarrow\":false,\"text\":\"-0.02\",\"x\":\"City_Zurich\",\"xref\":\"x\",\"y\":\"City_Stockholm\",\"yref\":\"y\"},{\"font\":{\"color\":\"#FFFFFF\"},\"showarrow\":false,\"text\":\"0.02\",\"x\":\"Rating\",\"xref\":\"x\",\"y\":\"City_Vienna\",\"yref\":\"y\"},{\"font\":{\"color\":\"#FFFFFF\"},\"showarrow\":false,\"text\":\"-0.03\",\"x\":\"City_Amsterdam\",\"xref\":\"x\",\"y\":\"City_Vienna\",\"yref\":\"y\"},{\"font\":{\"color\":\"#FFFFFF\"},\"showarrow\":false,\"text\":\"-0.02\",\"x\":\"City_Athens\",\"xref\":\"x\",\"y\":\"City_Vienna\",\"yref\":\"y\"},{\"font\":{\"color\":\"#FFFFFF\"},\"showarrow\":false,\"text\":\"-0.05\",\"x\":\"City_Barcelona\",\"xref\":\"x\",\"y\":\"City_Vienna\",\"yref\":\"y\"},{\"font\":{\"color\":\"#FFFFFF\"},\"showarrow\":false,\"text\":\"-0.04\",\"x\":\"City_Berlin\",\"xref\":\"x\",\"y\":\"City_Vienna\",\"yref\":\"y\"},{\"font\":{\"color\":\"#FFFFFF\"},\"showarrow\":false,\"text\":\"-0.02\",\"x\":\"City_Bratislava\",\"xref\":\"x\",\"y\":\"City_Vienna\",\"yref\":\"y\"},{\"font\":{\"color\":\"#FFFFFF\"},\"showarrow\":false,\"text\":\"-0.03\",\"x\":\"City_Brussels\",\"xref\":\"x\",\"y\":\"City_Vienna\",\"yref\":\"y\"},{\"font\":{\"color\":\"#FFFFFF\"},\"showarrow\":false,\"text\":\"-0.03\",\"x\":\"City_Budapest\",\"xref\":\"x\",\"y\":\"City_Vienna\",\"yref\":\"y\"},{\"font\":{\"color\":\"#FFFFFF\"},\"showarrow\":false,\"text\":\"-0.02\",\"x\":\"City_Copenhagen\",\"xref\":\"x\",\"y\":\"City_Vienna\",\"yref\":\"y\"},{\"font\":{\"color\":\"#FFFFFF\"},\"showarrow\":false,\"text\":\"-0.02\",\"x\":\"City_Dublin\",\"xref\":\"x\",\"y\":\"City_Vienna\",\"yref\":\"y\"},{\"font\":{\"color\":\"#FFFFFF\"},\"showarrow\":false,\"text\":\"-0.02\",\"x\":\"City_Edinburgh\",\"xref\":\"x\",\"y\":\"City_Vienna\",\"yref\":\"y\"},{\"font\":{\"color\":\"#FFFFFF\"},\"showarrow\":false,\"text\":\"-0.02\",\"x\":\"City_Geneva\",\"xref\":\"x\",\"y\":\"City_Vienna\",\"yref\":\"y\"},{\"font\":{\"color\":\"#FFFFFF\"},\"showarrow\":false,\"text\":\"-0.03\",\"x\":\"City_Hamburg\",\"xref\":\"x\",\"y\":\"City_Vienna\",\"yref\":\"y\"},{\"font\":{\"color\":\"#FFFFFF\"},\"showarrow\":false,\"text\":\"-0.02\",\"x\":\"City_Helsinki\",\"xref\":\"x\",\"y\":\"City_Vienna\",\"yref\":\"y\"},{\"font\":{\"color\":\"#FFFFFF\"},\"showarrow\":false,\"text\":\"-0.02\",\"x\":\"City_Krakow\",\"xref\":\"x\",\"y\":\"City_Vienna\",\"yref\":\"y\"},{\"font\":{\"color\":\"#FFFFFF\"},\"showarrow\":false,\"text\":\"-0.03\",\"x\":\"City_Lisbon\",\"xref\":\"x\",\"y\":\"City_Vienna\",\"yref\":\"y\"},{\"font\":{\"color\":\"#FFFFFF\"},\"showarrow\":false,\"text\":\"-0.01\",\"x\":\"City_Ljubljana\",\"xref\":\"x\",\"y\":\"City_Vienna\",\"yref\":\"y\"},{\"font\":{\"color\":\"#FFFFFF\"},\"showarrow\":false,\"text\":\"-0.07\",\"x\":\"City_London\",\"xref\":\"x\",\"y\":\"City_Vienna\",\"yref\":\"y\"},{\"font\":{\"color\":\"#FFFFFF\"},\"showarrow\":false,\"text\":\"-0.01\",\"x\":\"City_Luxembourg\",\"xref\":\"x\",\"y\":\"City_Vienna\",\"yref\":\"y\"},{\"font\":{\"color\":\"#FFFFFF\"},\"showarrow\":false,\"text\":\"-0.03\",\"x\":\"City_Lyon\",\"xref\":\"x\",\"y\":\"City_Vienna\",\"yref\":\"y\"},{\"font\":{\"color\":\"#FFFFFF\"},\"showarrow\":false,\"text\":\"-0.05\",\"x\":\"City_Madrid\",\"xref\":\"x\",\"y\":\"City_Vienna\",\"yref\":\"y\"},{\"font\":{\"color\":\"#FFFFFF\"},\"showarrow\":false,\"text\":\"-0.04\",\"x\":\"City_Milan\",\"xref\":\"x\",\"y\":\"City_Vienna\",\"yref\":\"y\"},{\"font\":{\"color\":\"#FFFFFF\"},\"showarrow\":false,\"text\":\"-0.03\",\"x\":\"City_Munich\",\"xref\":\"x\",\"y\":\"City_Vienna\",\"yref\":\"y\"},{\"font\":{\"color\":\"#FFFFFF\"},\"showarrow\":false,\"text\":\"-0.02\",\"x\":\"City_Oporto\",\"xref\":\"x\",\"y\":\"City_Vienna\",\"yref\":\"y\"},{\"font\":{\"color\":\"#FFFFFF\"},\"showarrow\":false,\"text\":\"-0.02\",\"x\":\"City_Oslo\",\"xref\":\"x\",\"y\":\"City_Vienna\",\"yref\":\"y\"},{\"font\":{\"color\":\"#FFFFFF\"},\"showarrow\":false,\"text\":\"-0.06\",\"x\":\"City_Paris\",\"xref\":\"x\",\"y\":\"City_Vienna\",\"yref\":\"y\"},{\"font\":{\"color\":\"#FFFFFF\"},\"showarrow\":false,\"text\":\"-0.03\",\"x\":\"City_Prague\",\"xref\":\"x\",\"y\":\"City_Vienna\",\"yref\":\"y\"},{\"font\":{\"color\":\"#FFFFFF\"},\"showarrow\":false,\"text\":\"-0.04\",\"x\":\"City_Rome\",\"xref\":\"x\",\"y\":\"City_Vienna\",\"yref\":\"y\"},{\"font\":{\"color\":\"#FFFFFF\"},\"showarrow\":false,\"text\":\"-0.03\",\"x\":\"City_Stockholm\",\"xref\":\"x\",\"y\":\"City_Vienna\",\"yref\":\"y\"},{\"font\":{\"color\":\"#000000\"},\"showarrow\":false,\"text\":\"1.0\",\"x\":\"City_Vienna\",\"xref\":\"x\",\"y\":\"City_Vienna\",\"yref\":\"y\"},{\"font\":{\"color\":\"#FFFFFF\"},\"showarrow\":false,\"text\":\"-0.02\",\"x\":\"City_Warsaw\",\"xref\":\"x\",\"y\":\"City_Vienna\",\"yref\":\"y\"},{\"font\":{\"color\":\"#FFFFFF\"},\"showarrow\":false,\"text\":\"-0.02\",\"x\":\"City_Zurich\",\"xref\":\"x\",\"y\":\"City_Vienna\",\"yref\":\"y\"},{\"font\":{\"color\":\"#FFFFFF\"},\"showarrow\":false,\"text\":\"0.02\",\"x\":\"Rating\",\"xref\":\"x\",\"y\":\"City_Warsaw\",\"yref\":\"y\"},{\"font\":{\"color\":\"#FFFFFF\"},\"showarrow\":false,\"text\":\"-0.02\",\"x\":\"City_Amsterdam\",\"xref\":\"x\",\"y\":\"City_Warsaw\",\"yref\":\"y\"},{\"font\":{\"color\":\"#FFFFFF\"},\"showarrow\":false,\"text\":\"-0.02\",\"x\":\"City_Athens\",\"xref\":\"x\",\"y\":\"City_Warsaw\",\"yref\":\"y\"},{\"font\":{\"color\":\"#FFFFFF\"},\"showarrow\":false,\"text\":\"-0.04\",\"x\":\"City_Barcelona\",\"xref\":\"x\",\"y\":\"City_Warsaw\",\"yref\":\"y\"},{\"font\":{\"color\":\"#FFFFFF\"},\"showarrow\":false,\"text\":\"-0.03\",\"x\":\"City_Berlin\",\"xref\":\"x\",\"y\":\"City_Warsaw\",\"yref\":\"y\"},{\"font\":{\"color\":\"#FFFFFF\"},\"showarrow\":false,\"text\":\"-0.01\",\"x\":\"City_Bratislava\",\"xref\":\"x\",\"y\":\"City_Warsaw\",\"yref\":\"y\"},{\"font\":{\"color\":\"#FFFFFF\"},\"showarrow\":false,\"text\":\"-0.02\",\"x\":\"City_Brussels\",\"xref\":\"x\",\"y\":\"City_Warsaw\",\"yref\":\"y\"},{\"font\":{\"color\":\"#FFFFFF\"},\"showarrow\":false,\"text\":\"-0.02\",\"x\":\"City_Budapest\",\"xref\":\"x\",\"y\":\"City_Warsaw\",\"yref\":\"y\"},{\"font\":{\"color\":\"#FFFFFF\"},\"showarrow\":false,\"text\":\"-0.02\",\"x\":\"City_Copenhagen\",\"xref\":\"x\",\"y\":\"City_Warsaw\",\"yref\":\"y\"},{\"font\":{\"color\":\"#FFFFFF\"},\"showarrow\":false,\"text\":\"-0.02\",\"x\":\"City_Dublin\",\"xref\":\"x\",\"y\":\"City_Warsaw\",\"yref\":\"y\"},{\"font\":{\"color\":\"#FFFFFF\"},\"showarrow\":false,\"text\":\"-0.02\",\"x\":\"City_Edinburgh\",\"xref\":\"x\",\"y\":\"City_Warsaw\",\"yref\":\"y\"},{\"font\":{\"color\":\"#FFFFFF\"},\"showarrow\":false,\"text\":\"-0.02\",\"x\":\"City_Geneva\",\"xref\":\"x\",\"y\":\"City_Warsaw\",\"yref\":\"y\"},{\"font\":{\"color\":\"#FFFFFF\"},\"showarrow\":false,\"text\":\"-0.02\",\"x\":\"City_Hamburg\",\"xref\":\"x\",\"y\":\"City_Warsaw\",\"yref\":\"y\"},{\"font\":{\"color\":\"#FFFFFF\"},\"showarrow\":false,\"text\":\"-0.01\",\"x\":\"City_Helsinki\",\"xref\":\"x\",\"y\":\"City_Warsaw\",\"yref\":\"y\"},{\"font\":{\"color\":\"#FFFFFF\"},\"showarrow\":false,\"text\":\"-0.01\",\"x\":\"City_Krakow\",\"xref\":\"x\",\"y\":\"City_Warsaw\",\"yref\":\"y\"},{\"font\":{\"color\":\"#FFFFFF\"},\"showarrow\":false,\"text\":\"-0.02\",\"x\":\"City_Lisbon\",\"xref\":\"x\",\"y\":\"City_Warsaw\",\"yref\":\"y\"},{\"font\":{\"color\":\"#FFFFFF\"},\"showarrow\":false,\"text\":\"-0.01\",\"x\":\"City_Ljubljana\",\"xref\":\"x\",\"y\":\"City_Warsaw\",\"yref\":\"y\"},{\"font\":{\"color\":\"#FFFFFF\"},\"showarrow\":false,\"text\":\"-0.06\",\"x\":\"City_London\",\"xref\":\"x\",\"y\":\"City_Warsaw\",\"yref\":\"y\"},{\"font\":{\"color\":\"#FFFFFF\"},\"showarrow\":false,\"text\":\"-0.01\",\"x\":\"City_Luxembourg\",\"xref\":\"x\",\"y\":\"City_Warsaw\",\"yref\":\"y\"},{\"font\":{\"color\":\"#FFFFFF\"},\"showarrow\":false,\"text\":\"-0.02\",\"x\":\"City_Lyon\",\"xref\":\"x\",\"y\":\"City_Warsaw\",\"yref\":\"y\"},{\"font\":{\"color\":\"#FFFFFF\"},\"showarrow\":false,\"text\":\"-0.04\",\"x\":\"City_Madrid\",\"xref\":\"x\",\"y\":\"City_Warsaw\",\"yref\":\"y\"},{\"font\":{\"color\":\"#FFFFFF\"},\"showarrow\":false,\"text\":\"-0.03\",\"x\":\"City_Milan\",\"xref\":\"x\",\"y\":\"City_Warsaw\",\"yref\":\"y\"},{\"font\":{\"color\":\"#FFFFFF\"},\"showarrow\":false,\"text\":\"-0.02\",\"x\":\"City_Munich\",\"xref\":\"x\",\"y\":\"City_Warsaw\",\"yref\":\"y\"},{\"font\":{\"color\":\"#FFFFFF\"},\"showarrow\":false,\"text\":\"-0.02\",\"x\":\"City_Oporto\",\"xref\":\"x\",\"y\":\"City_Warsaw\",\"yref\":\"y\"},{\"font\":{\"color\":\"#FFFFFF\"},\"showarrow\":false,\"text\":\"-0.01\",\"x\":\"City_Oslo\",\"xref\":\"x\",\"y\":\"City_Warsaw\",\"yref\":\"y\"},{\"font\":{\"color\":\"#FFFFFF\"},\"showarrow\":false,\"text\":\"-0.05\",\"x\":\"City_Paris\",\"xref\":\"x\",\"y\":\"City_Warsaw\",\"yref\":\"y\"},{\"font\":{\"color\":\"#FFFFFF\"},\"showarrow\":false,\"text\":\"-0.03\",\"x\":\"City_Prague\",\"xref\":\"x\",\"y\":\"City_Warsaw\",\"yref\":\"y\"},{\"font\":{\"color\":\"#FFFFFF\"},\"showarrow\":false,\"text\":\"-0.03\",\"x\":\"City_Rome\",\"xref\":\"x\",\"y\":\"City_Warsaw\",\"yref\":\"y\"},{\"font\":{\"color\":\"#FFFFFF\"},\"showarrow\":false,\"text\":\"-0.02\",\"x\":\"City_Stockholm\",\"xref\":\"x\",\"y\":\"City_Warsaw\",\"yref\":\"y\"},{\"font\":{\"color\":\"#FFFFFF\"},\"showarrow\":false,\"text\":\"-0.02\",\"x\":\"City_Vienna\",\"xref\":\"x\",\"y\":\"City_Warsaw\",\"yref\":\"y\"},{\"font\":{\"color\":\"#000000\"},\"showarrow\":false,\"text\":\"1.0\",\"x\":\"City_Warsaw\",\"xref\":\"x\",\"y\":\"City_Warsaw\",\"yref\":\"y\"},{\"font\":{\"color\":\"#FFFFFF\"},\"showarrow\":false,\"text\":\"-0.02\",\"x\":\"City_Zurich\",\"xref\":\"x\",\"y\":\"City_Warsaw\",\"yref\":\"y\"},{\"font\":{\"color\":\"#FFFFFF\"},\"showarrow\":false,\"text\":\"0.01\",\"x\":\"Rating\",\"xref\":\"x\",\"y\":\"City_Zurich\",\"yref\":\"y\"},{\"font\":{\"color\":\"#FFFFFF\"},\"showarrow\":false,\"text\":\"-0.02\",\"x\":\"City_Amsterdam\",\"xref\":\"x\",\"y\":\"City_Zurich\",\"yref\":\"y\"},{\"font\":{\"color\":\"#FFFFFF\"},\"showarrow\":false,\"text\":\"-0.01\",\"x\":\"City_Athens\",\"xref\":\"x\",\"y\":\"City_Zurich\",\"yref\":\"y\"},{\"font\":{\"color\":\"#FFFFFF\"},\"showarrow\":false,\"text\":\"-0.03\",\"x\":\"City_Barcelona\",\"xref\":\"x\",\"y\":\"City_Zurich\",\"yref\":\"y\"},{\"font\":{\"color\":\"#FFFFFF\"},\"showarrow\":false,\"text\":\"-0.03\",\"x\":\"City_Berlin\",\"xref\":\"x\",\"y\":\"City_Zurich\",\"yref\":\"y\"},{\"font\":{\"color\":\"#FFFFFF\"},\"showarrow\":false,\"text\":\"-0.01\",\"x\":\"City_Bratislava\",\"xref\":\"x\",\"y\":\"City_Zurich\",\"yref\":\"y\"},{\"font\":{\"color\":\"#FFFFFF\"},\"showarrow\":false,\"text\":\"-0.02\",\"x\":\"City_Brussels\",\"xref\":\"x\",\"y\":\"City_Zurich\",\"yref\":\"y\"},{\"font\":{\"color\":\"#FFFFFF\"},\"showarrow\":false,\"text\":\"-0.02\",\"x\":\"City_Budapest\",\"xref\":\"x\",\"y\":\"City_Zurich\",\"yref\":\"y\"},{\"font\":{\"color\":\"#FFFFFF\"},\"showarrow\":false,\"text\":\"-0.02\",\"x\":\"City_Copenhagen\",\"xref\":\"x\",\"y\":\"City_Zurich\",\"yref\":\"y\"},{\"font\":{\"color\":\"#FFFFFF\"},\"showarrow\":false,\"text\":\"-0.02\",\"x\":\"City_Dublin\",\"xref\":\"x\",\"y\":\"City_Zurich\",\"yref\":\"y\"},{\"font\":{\"color\":\"#FFFFFF\"},\"showarrow\":false,\"text\":\"-0.01\",\"x\":\"City_Edinburgh\",\"xref\":\"x\",\"y\":\"City_Zurich\",\"yref\":\"y\"},{\"font\":{\"color\":\"#FFFFFF\"},\"showarrow\":false,\"text\":\"-0.01\",\"x\":\"City_Geneva\",\"xref\":\"x\",\"y\":\"City_Zurich\",\"yref\":\"y\"},{\"font\":{\"color\":\"#FFFFFF\"},\"showarrow\":false,\"text\":\"-0.02\",\"x\":\"City_Hamburg\",\"xref\":\"x\",\"y\":\"City_Zurich\",\"yref\":\"y\"},{\"font\":{\"color\":\"#FFFFFF\"},\"showarrow\":false,\"text\":\"-0.01\",\"x\":\"City_Helsinki\",\"xref\":\"x\",\"y\":\"City_Zurich\",\"yref\":\"y\"},{\"font\":{\"color\":\"#FFFFFF\"},\"showarrow\":false,\"text\":\"-0.01\",\"x\":\"City_Krakow\",\"xref\":\"x\",\"y\":\"City_Zurich\",\"yref\":\"y\"},{\"font\":{\"color\":\"#FFFFFF\"},\"showarrow\":false,\"text\":\"-0.02\",\"x\":\"City_Lisbon\",\"xref\":\"x\",\"y\":\"City_Zurich\",\"yref\":\"y\"},{\"font\":{\"color\":\"#FFFFFF\"},\"showarrow\":false,\"text\":\"-0.01\",\"x\":\"City_Ljubljana\",\"xref\":\"x\",\"y\":\"City_Zurich\",\"yref\":\"y\"},{\"font\":{\"color\":\"#FFFFFF\"},\"showarrow\":false,\"text\":\"-0.05\",\"x\":\"City_London\",\"xref\":\"x\",\"y\":\"City_Zurich\",\"yref\":\"y\"},{\"font\":{\"color\":\"#FFFFFF\"},\"showarrow\":false,\"text\":\"-0.01\",\"x\":\"City_Luxembourg\",\"xref\":\"x\",\"y\":\"City_Zurich\",\"yref\":\"y\"},{\"font\":{\"color\":\"#FFFFFF\"},\"showarrow\":false,\"text\":\"-0.02\",\"x\":\"City_Lyon\",\"xref\":\"x\",\"y\":\"City_Zurich\",\"yref\":\"y\"},{\"font\":{\"color\":\"#FFFFFF\"},\"showarrow\":false,\"text\":\"-0.03\",\"x\":\"City_Madrid\",\"xref\":\"x\",\"y\":\"City_Zurich\",\"yref\":\"y\"},{\"font\":{\"color\":\"#FFFFFF\"},\"showarrow\":false,\"text\":\"-0.03\",\"x\":\"City_Milan\",\"xref\":\"x\",\"y\":\"City_Zurich\",\"yref\":\"y\"},{\"font\":{\"color\":\"#FFFFFF\"},\"showarrow\":false,\"text\":\"-0.02\",\"x\":\"City_Munich\",\"xref\":\"x\",\"y\":\"City_Zurich\",\"yref\":\"y\"},{\"font\":{\"color\":\"#FFFFFF\"},\"showarrow\":false,\"text\":\"-0.01\",\"x\":\"City_Oporto\",\"xref\":\"x\",\"y\":\"City_Zurich\",\"yref\":\"y\"},{\"font\":{\"color\":\"#FFFFFF\"},\"showarrow\":false,\"text\":\"-0.01\",\"x\":\"City_Oslo\",\"xref\":\"x\",\"y\":\"City_Zurich\",\"yref\":\"y\"},{\"font\":{\"color\":\"#FFFFFF\"},\"showarrow\":false,\"text\":\"-0.04\",\"x\":\"City_Paris\",\"xref\":\"x\",\"y\":\"City_Zurich\",\"yref\":\"y\"},{\"font\":{\"color\":\"#FFFFFF\"},\"showarrow\":false,\"text\":\"-0.02\",\"x\":\"City_Prague\",\"xref\":\"x\",\"y\":\"City_Zurich\",\"yref\":\"y\"},{\"font\":{\"color\":\"#FFFFFF\"},\"showarrow\":false,\"text\":\"-0.03\",\"x\":\"City_Rome\",\"xref\":\"x\",\"y\":\"City_Zurich\",\"yref\":\"y\"},{\"font\":{\"color\":\"#FFFFFF\"},\"showarrow\":false,\"text\":\"-0.02\",\"x\":\"City_Stockholm\",\"xref\":\"x\",\"y\":\"City_Zurich\",\"yref\":\"y\"},{\"font\":{\"color\":\"#FFFFFF\"},\"showarrow\":false,\"text\":\"-0.02\",\"x\":\"City_Vienna\",\"xref\":\"x\",\"y\":\"City_Zurich\",\"yref\":\"y\"},{\"font\":{\"color\":\"#FFFFFF\"},\"showarrow\":false,\"text\":\"-0.02\",\"x\":\"City_Warsaw\",\"xref\":\"x\",\"y\":\"City_Zurich\",\"yref\":\"y\"},{\"font\":{\"color\":\"#000000\"},\"showarrow\":false,\"text\":\"1.0\",\"x\":\"City_Zurich\",\"xref\":\"x\",\"y\":\"City_Zurich\",\"yref\":\"y\"}],\"autosize\":false,\"height\":800,\"template\":{\"data\":{\"bar\":[{\"error_x\":{\"color\":\"#2a3f5f\"},\"error_y\":{\"color\":\"#2a3f5f\"},\"marker\":{\"line\":{\"color\":\"#E5ECF6\",\"width\":0.5},\"pattern\":{\"fillmode\":\"overlay\",\"size\":10,\"solidity\":0.2}},\"type\":\"bar\"}],\"barpolar\":[{\"marker\":{\"line\":{\"color\":\"#E5ECF6\",\"width\":0.5},\"pattern\":{\"fillmode\":\"overlay\",\"size\":10,\"solidity\":0.2}},\"type\":\"barpolar\"}],\"carpet\":[{\"aaxis\":{\"endlinecolor\":\"#2a3f5f\",\"gridcolor\":\"white\",\"linecolor\":\"white\",\"minorgridcolor\":\"white\",\"startlinecolor\":\"#2a3f5f\"},\"baxis\":{\"endlinecolor\":\"#2a3f5f\",\"gridcolor\":\"white\",\"linecolor\":\"white\",\"minorgridcolor\":\"white\",\"startlinecolor\":\"#2a3f5f\"},\"type\":\"carpet\"}],\"choropleth\":[{\"colorbar\":{\"outlinewidth\":0,\"ticks\":\"\"},\"type\":\"choropleth\"}],\"contour\":[{\"colorbar\":{\"outlinewidth\":0,\"ticks\":\"\"},\"colorscale\":[[0.0,\"#0d0887\"],[0.1111111111111111,\"#46039f\"],[0.2222222222222222,\"#7201a8\"],[0.3333333333333333,\"#9c179e\"],[0.4444444444444444,\"#bd3786\"],[0.5555555555555556,\"#d8576b\"],[0.6666666666666666,\"#ed7953\"],[0.7777777777777778,\"#fb9f3a\"],[0.8888888888888888,\"#fdca26\"],[1.0,\"#f0f921\"]],\"type\":\"contour\"}],\"contourcarpet\":[{\"colorbar\":{\"outlinewidth\":0,\"ticks\":\"\"},\"type\":\"contourcarpet\"}],\"heatmap\":[{\"colorbar\":{\"outlinewidth\":0,\"ticks\":\"\"},\"colorscale\":[[0.0,\"#0d0887\"],[0.1111111111111111,\"#46039f\"],[0.2222222222222222,\"#7201a8\"],[0.3333333333333333,\"#9c179e\"],[0.4444444444444444,\"#bd3786\"],[0.5555555555555556,\"#d8576b\"],[0.6666666666666666,\"#ed7953\"],[0.7777777777777778,\"#fb9f3a\"],[0.8888888888888888,\"#fdca26\"],[1.0,\"#f0f921\"]],\"type\":\"heatmap\"}],\"heatmapgl\":[{\"colorbar\":{\"outlinewidth\":0,\"ticks\":\"\"},\"colorscale\":[[0.0,\"#0d0887\"],[0.1111111111111111,\"#46039f\"],[0.2222222222222222,\"#7201a8\"],[0.3333333333333333,\"#9c179e\"],[0.4444444444444444,\"#bd3786\"],[0.5555555555555556,\"#d8576b\"],[0.6666666666666666,\"#ed7953\"],[0.7777777777777778,\"#fb9f3a\"],[0.8888888888888888,\"#fdca26\"],[1.0,\"#f0f921\"]],\"type\":\"heatmapgl\"}],\"histogram\":[{\"marker\":{\"pattern\":{\"fillmode\":\"overlay\",\"size\":10,\"solidity\":0.2}},\"type\":\"histogram\"}],\"histogram2d\":[{\"colorbar\":{\"outlinewidth\":0,\"ticks\":\"\"},\"colorscale\":[[0.0,\"#0d0887\"],[0.1111111111111111,\"#46039f\"],[0.2222222222222222,\"#7201a8\"],[0.3333333333333333,\"#9c179e\"],[0.4444444444444444,\"#bd3786\"],[0.5555555555555556,\"#d8576b\"],[0.6666666666666666,\"#ed7953\"],[0.7777777777777778,\"#fb9f3a\"],[0.8888888888888888,\"#fdca26\"],[1.0,\"#f0f921\"]],\"type\":\"histogram2d\"}],\"histogram2dcontour\":[{\"colorbar\":{\"outlinewidth\":0,\"ticks\":\"\"},\"colorscale\":[[0.0,\"#0d0887\"],[0.1111111111111111,\"#46039f\"],[0.2222222222222222,\"#7201a8\"],[0.3333333333333333,\"#9c179e\"],[0.4444444444444444,\"#bd3786\"],[0.5555555555555556,\"#d8576b\"],[0.6666666666666666,\"#ed7953\"],[0.7777777777777778,\"#fb9f3a\"],[0.8888888888888888,\"#fdca26\"],[1.0,\"#f0f921\"]],\"type\":\"histogram2dcontour\"}],\"mesh3d\":[{\"colorbar\":{\"outlinewidth\":0,\"ticks\":\"\"},\"type\":\"mesh3d\"}],\"parcoords\":[{\"line\":{\"colorbar\":{\"outlinewidth\":0,\"ticks\":\"\"}},\"type\":\"parcoords\"}],\"pie\":[{\"automargin\":true,\"type\":\"pie\"}],\"scatter\":[{\"marker\":{\"colorbar\":{\"outlinewidth\":0,\"ticks\":\"\"}},\"type\":\"scatter\"}],\"scatter3d\":[{\"line\":{\"colorbar\":{\"outlinewidth\":0,\"ticks\":\"\"}},\"marker\":{\"colorbar\":{\"outlinewidth\":0,\"ticks\":\"\"}},\"type\":\"scatter3d\"}],\"scattercarpet\":[{\"marker\":{\"colorbar\":{\"outlinewidth\":0,\"ticks\":\"\"}},\"type\":\"scattercarpet\"}],\"scattergeo\":[{\"marker\":{\"colorbar\":{\"outlinewidth\":0,\"ticks\":\"\"}},\"type\":\"scattergeo\"}],\"scattergl\":[{\"marker\":{\"colorbar\":{\"outlinewidth\":0,\"ticks\":\"\"}},\"type\":\"scattergl\"}],\"scattermapbox\":[{\"marker\":{\"colorbar\":{\"outlinewidth\":0,\"ticks\":\"\"}},\"type\":\"scattermapbox\"}],\"scatterpolar\":[{\"marker\":{\"colorbar\":{\"outlinewidth\":0,\"ticks\":\"\"}},\"type\":\"scatterpolar\"}],\"scatterpolargl\":[{\"marker\":{\"colorbar\":{\"outlinewidth\":0,\"ticks\":\"\"}},\"type\":\"scatterpolargl\"}],\"scatterternary\":[{\"marker\":{\"colorbar\":{\"outlinewidth\":0,\"ticks\":\"\"}},\"type\":\"scatterternary\"}],\"surface\":[{\"colorbar\":{\"outlinewidth\":0,\"ticks\":\"\"},\"colorscale\":[[0.0,\"#0d0887\"],[0.1111111111111111,\"#46039f\"],[0.2222222222222222,\"#7201a8\"],[0.3333333333333333,\"#9c179e\"],[0.4444444444444444,\"#bd3786\"],[0.5555555555555556,\"#d8576b\"],[0.6666666666666666,\"#ed7953\"],[0.7777777777777778,\"#fb9f3a\"],[0.8888888888888888,\"#fdca26\"],[1.0,\"#f0f921\"]],\"type\":\"surface\"}],\"table\":[{\"cells\":{\"fill\":{\"color\":\"#EBF0F8\"},\"line\":{\"color\":\"white\"}},\"header\":{\"fill\":{\"color\":\"#C8D4E3\"},\"line\":{\"color\":\"white\"}},\"type\":\"table\"}]},\"layout\":{\"annotationdefaults\":{\"arrowcolor\":\"#2a3f5f\",\"arrowhead\":0,\"arrowwidth\":1},\"autotypenumbers\":\"strict\",\"coloraxis\":{\"colorbar\":{\"outlinewidth\":0,\"ticks\":\"\"}},\"colorscale\":{\"diverging\":[[0,\"#8e0152\"],[0.1,\"#c51b7d\"],[0.2,\"#de77ae\"],[0.3,\"#f1b6da\"],[0.4,\"#fde0ef\"],[0.5,\"#f7f7f7\"],[0.6,\"#e6f5d0\"],[0.7,\"#b8e186\"],[0.8,\"#7fbc41\"],[0.9,\"#4d9221\"],[1,\"#276419\"]],\"sequential\":[[0.0,\"#0d0887\"],[0.1111111111111111,\"#46039f\"],[0.2222222222222222,\"#7201a8\"],[0.3333333333333333,\"#9c179e\"],[0.4444444444444444,\"#bd3786\"],[0.5555555555555556,\"#d8576b\"],[0.6666666666666666,\"#ed7953\"],[0.7777777777777778,\"#fb9f3a\"],[0.8888888888888888,\"#fdca26\"],[1.0,\"#f0f921\"]],\"sequentialminus\":[[0.0,\"#0d0887\"],[0.1111111111111111,\"#46039f\"],[0.2222222222222222,\"#7201a8\"],[0.3333333333333333,\"#9c179e\"],[0.4444444444444444,\"#bd3786\"],[0.5555555555555556,\"#d8576b\"],[0.6666666666666666,\"#ed7953\"],[0.7777777777777778,\"#fb9f3a\"],[0.8888888888888888,\"#fdca26\"],[1.0,\"#f0f921\"]]},\"colorway\":[\"#636efa\",\"#EF553B\",\"#00cc96\",\"#ab63fa\",\"#FFA15A\",\"#19d3f3\",\"#FF6692\",\"#B6E880\",\"#FF97FF\",\"#FECB52\"],\"font\":{\"color\":\"#2a3f5f\"},\"geo\":{\"bgcolor\":\"white\",\"lakecolor\":\"white\",\"landcolor\":\"#E5ECF6\",\"showlakes\":true,\"showland\":true,\"subunitcolor\":\"white\"},\"hoverlabel\":{\"align\":\"left\"},\"hovermode\":\"closest\",\"mapbox\":{\"style\":\"light\"},\"paper_bgcolor\":\"white\",\"plot_bgcolor\":\"#E5ECF6\",\"polar\":{\"angularaxis\":{\"gridcolor\":\"white\",\"linecolor\":\"white\",\"ticks\":\"\"},\"bgcolor\":\"#E5ECF6\",\"radialaxis\":{\"gridcolor\":\"white\",\"linecolor\":\"white\",\"ticks\":\"\"}},\"scene\":{\"xaxis\":{\"backgroundcolor\":\"#E5ECF6\",\"gridcolor\":\"white\",\"gridwidth\":2,\"linecolor\":\"white\",\"showbackground\":true,\"ticks\":\"\",\"zerolinecolor\":\"white\"},\"yaxis\":{\"backgroundcolor\":\"#E5ECF6\",\"gridcolor\":\"white\",\"gridwidth\":2,\"linecolor\":\"white\",\"showbackground\":true,\"ticks\":\"\",\"zerolinecolor\":\"white\"},\"zaxis\":{\"backgroundcolor\":\"#E5ECF6\",\"gridcolor\":\"white\",\"gridwidth\":2,\"linecolor\":\"white\",\"showbackground\":true,\"ticks\":\"\",\"zerolinecolor\":\"white\"}},\"shapedefaults\":{\"line\":{\"color\":\"#2a3f5f\"}},\"ternary\":{\"aaxis\":{\"gridcolor\":\"white\",\"linecolor\":\"white\",\"ticks\":\"\"},\"baxis\":{\"gridcolor\":\"white\",\"linecolor\":\"white\",\"ticks\":\"\"},\"bgcolor\":\"#E5ECF6\",\"caxis\":{\"gridcolor\":\"white\",\"linecolor\":\"white\",\"ticks\":\"\"}},\"title\":{\"x\":0.05},\"xaxis\":{\"automargin\":true,\"gridcolor\":\"white\",\"linecolor\":\"white\",\"ticks\":\"\",\"title\":{\"standoff\":15},\"zerolinecolor\":\"white\",\"zerolinewidth\":2},\"yaxis\":{\"automargin\":true,\"gridcolor\":\"white\",\"linecolor\":\"white\",\"ticks\":\"\",\"title\":{\"standoff\":15},\"zerolinecolor\":\"white\",\"zerolinewidth\":2}}},\"width\":1200,\"xaxis\":{\"dtick\":1,\"gridcolor\":\"rgb(0, 0, 0)\",\"side\":\"top\",\"ticks\":\"\"},\"yaxis\":{\"dtick\":1,\"ticks\":\"\",\"ticksuffix\":\"  \"}},                        {\"responsive\": true}                    ).then(function(){\n",
       "                            \n",
       "var gd = document.getElementById('885e9562-d0bb-46a6-bc6a-47f6d03db213');\n",
       "var x = new MutationObserver(function (mutations, observer) {{\n",
       "        var display = window.getComputedStyle(gd).display;\n",
       "        if (!display || display === 'none') {{\n",
       "            console.log([gd, 'removed!']);\n",
       "            Plotly.purge(gd);\n",
       "            observer.disconnect();\n",
       "        }}\n",
       "}});\n",
       "\n",
       "// Listen for the removal of the full notebook cells\n",
       "var notebookContainer = gd.closest('#notebook-container');\n",
       "if (notebookContainer) {{\n",
       "    x.observe(notebookContainer, {childList: true});\n",
       "}}\n",
       "\n",
       "// Listen for the clearing of the current output cell\n",
       "var outputEl = gd.closest('.output');\n",
       "if (outputEl) {{\n",
       "    x.observe(outputEl, {childList: true});\n",
       "}}\n",
       "\n",
       "                        })                };                });            </script>        </div>"
      ]
     },
     "metadata": {},
     "output_type": "display_data"
    }
   ],
   "source": [
    "df_rat_by_city = df.loc[:, ['Rating', 'City_Amsterdam','City_Athens','City_Barcelona','City_Berlin',\n",
    "                            'City_Bratislava','City_Brussels','City_Budapest','City_Copenhagen',\n",
    "                            'City_Dublin','City_Edinburgh','City_Geneva','City_Hamburg','City_Helsinki',\n",
    "                            'City_Krakow','City_Lisbon','City_Ljubljana','City_London','City_Luxembourg',\n",
    "                            'City_Lyon','City_Madrid','City_Milan','City_Munich','City_Oporto','City_Oslo',\n",
    "                            'City_Paris','City_Prague','City_Rome' ,'City_Stockholm' ,'City_Vienna' ,\n",
    "                            'City_Warsaw' ,'City_Zurich']] \n",
    "data = df_rat_by_city.copy()\n",
    "corrs = data.corr()\n",
    "corrs.columns\n",
    "figure = ff.create_annotated_heatmap(\n",
    "    z=corrs.values,\n",
    "    x=list(corrs.columns),\n",
    "    y=list(corrs.index),\n",
    "    annotation_text=corrs.round(2).values,\n",
    "    showscale=True)\n",
    "figure.update_layout(\n",
    "    autosize=False,\n",
    "    width=1200,\n",
    "    height=800,)\n",
    "figure.show()"
   ]
  },
  {
   "cell_type": "markdown",
   "metadata": {},
   "source": [
    "# Разбиваем датафрейм на части, необходимые для обучения и тестирования модели"
   ]
  },
  {
   "cell_type": "code",
   "execution_count": 13,
   "metadata": {},
   "outputs": [],
   "source": [
    "# Х - данные с информацией о ресторанах, у - целевая переменная (рейтинги ресторанов)\n",
    "X = df.drop(['Rating'], axis = 1)\n",
    "y = df['Rating']"
   ]
  },
  {
   "cell_type": "code",
   "execution_count": 14,
   "metadata": {},
   "outputs": [],
   "source": [
    "# Загружаем специальный инструмент для разбивки:\n",
    "from sklearn.model_selection import train_test_split"
   ]
  },
  {
   "cell_type": "code",
   "execution_count": 15,
   "metadata": {},
   "outputs": [],
   "source": [
    "# Наборы данных с меткой \"train\" будут использоваться для обучения модели, \"test\" - для тестирования.\n",
    "# Для тестирования мы будем использовать 25% от исходного датасета.\n",
    "X_train, X_test, y_train, y_test = train_test_split(X, y, test_size=0.25,random_state=RANDOM_SEED)"
   ]
  },
  {
   "cell_type": "markdown",
   "metadata": {},
   "source": [
    "# Создаём, обучаем и тестируем модель"
   ]
  },
  {
   "cell_type": "code",
   "execution_count": 16,
   "metadata": {},
   "outputs": [],
   "source": [
    "# Импортируем необходимые библиотеки:\n",
    "from sklearn.ensemble import RandomForestRegressor # инструмент для создания и обучения модели\n",
    "from sklearn import metrics # инструменты для оценки точности модели"
   ]
  },
  {
   "cell_type": "code",
   "execution_count": 17,
   "metadata": {},
   "outputs": [
    {
     "name": "stderr",
     "output_type": "stream",
     "text": [
      "[Parallel(n_jobs=-1)]: Using backend ThreadingBackend with 4 concurrent workers.\n",
      "[Parallel(n_jobs=-1)]: Done  42 tasks      | elapsed:   15.6s\n",
      "[Parallel(n_jobs=-1)]: Done 100 out of 100 | elapsed:   32.2s finished\n",
      "[Parallel(n_jobs=4)]: Using backend ThreadingBackend with 4 concurrent workers.\n",
      "[Parallel(n_jobs=4)]: Done  42 tasks      | elapsed:    0.2s\n",
      "[Parallel(n_jobs=4)]: Done 100 out of 100 | elapsed:    0.5s finished\n"
     ]
    }
   ],
   "source": [
    "# Создаём модель\n",
    "regr = RandomForestRegressor(n_estimators=100, verbose=1, n_jobs=-1, random_state=RANDOM_SEED)\n",
    "\n",
    "# Обучаем модель на тестовом наборе данных\n",
    "regr.fit(X_train, y_train)\n",
    "\n",
    "# Используем обученную модель для предсказания рейтинга ресторанов в тестовой выборке.\n",
    "# Предсказанные значения записываем в переменную y_pred\n",
    "y_pred = regr.predict(X_test)"
   ]
  },
  {
   "cell_type": "code",
   "execution_count": 18,
   "metadata": {},
   "outputs": [
    {
     "name": "stdout",
     "output_type": "stream",
     "text": [
      "MAE: 0.2085855\n"
     ]
    }
   ],
   "source": [
    "# Сравниваем предсказанные значения (y_pred) с реальными (y_test), и смотрим насколько они в среднем отличаются\n",
    "# Метрика называется Mean Absolute Error (MAE) и показывает среднее отклонение предсказанных значений от фактических.\n",
    "print('MAE:', metrics.mean_absolute_error(y_test, y_pred))"
   ]
  },
  {
   "cell_type": "code",
   "execution_count": 20,
   "metadata": {},
   "outputs": [
    {
     "data": {
      "text/plain": [
       "<AxesSubplot:>"
      ]
     },
     "execution_count": 20,
     "metadata": {},
     "output_type": "execute_result"
    },
    {
     "data": {
      "image/png": "[encoded data removed]",
      "text/plain": [
       "<Figure size 864x720 with 1 Axes>"
      ]
     },
     "metadata": {
      "needs_background": "light"
     },
     "output_type": "display_data"
    }
   ],
   "source": [
    "plt.rcParams['figure.figsize'] = (12,10)\n",
    "feat_importances = pd.Series(regr.feature_importances_, index=X.columns)\n",
    "feat_importances.nlargest(15).plot(kind='barh')"
   ]
  },
  {
   "cell_type": "code",
   "execution_count": 22,
   "metadata": {},
   "outputs": [
    {
     "name": "stdout",
     "output_type": "stream",
     "text": [
      "min_MAE = 0.209\n",
      "0.Ranking\n",
      "(40000, 56) (40000,) (40000, 54) (32000, 54) (8000, 54)\n"
     ]
    },
    {
     "name": "stderr",
     "output_type": "stream",
     "text": [
      "[Parallel(n_jobs=-1)]: Using backend ThreadingBackend with 4 concurrent workers.\n",
      "[Parallel(n_jobs=-1)]: Done  42 tasks      | elapsed:   12.1s\n",
      "[Parallel(n_jobs=-1)]: Done 100 out of 100 | elapsed:   26.5s finished\n",
      "[Parallel(n_jobs=4)]: Using backend ThreadingBackend with 4 concurrent workers.\n",
      "[Parallel(n_jobs=4)]: Done  42 tasks      | elapsed:    0.2s\n",
      "[Parallel(n_jobs=4)]: Done 100 out of 100 | elapsed:    0.5s finished\n",
      "[Parallel(n_jobs=-1)]: Using backend ThreadingBackend with 4 concurrent workers.\n"
     ]
    },
    {
     "name": "stdout",
     "output_type": "stream",
     "text": [
      "0.45941871763931014\n",
      "не удаляем:= Ranking\n",
      "1.Number_of_Reviews\n",
      "(40000, 56) (40000,) (40000, 54) (32000, 54) (8000, 54)\n"
     ]
    },
    {
     "name": "stderr",
     "output_type": "stream",
     "text": [
      "[Parallel(n_jobs=-1)]: Done  42 tasks      | elapsed:   12.7s\n",
      "[Parallel(n_jobs=-1)]: Done 100 out of 100 | elapsed:   27.8s finished\n",
      "[Parallel(n_jobs=4)]: Using backend ThreadingBackend with 4 concurrent workers.\n",
      "[Parallel(n_jobs=4)]: Done  42 tasks      | elapsed:    0.2s\n",
      "[Parallel(n_jobs=4)]: Done 100 out of 100 | elapsed:    0.4s finished\n",
      "[Parallel(n_jobs=-1)]: Using backend ThreadingBackend with 4 concurrent workers.\n"
     ]
    },
    {
     "name": "stdout",
     "output_type": "stream",
     "text": [
      "0.27505874999999996\n",
      "не удаляем:= Number_of_Reviews\n",
      "2.City_Rome\n",
      "(40000, 56) (40000,) (40000, 54) (32000, 54) (8000, 54)\n"
     ]
    },
    {
     "name": "stderr",
     "output_type": "stream",
     "text": [
      "[Parallel(n_jobs=-1)]: Done  42 tasks      | elapsed:   12.0s\n",
      "[Parallel(n_jobs=-1)]: Done 100 out of 100 | elapsed:   27.2s finished\n",
      "[Parallel(n_jobs=4)]: Using backend ThreadingBackend with 4 concurrent workers.\n",
      "[Parallel(n_jobs=4)]: Done  42 tasks      | elapsed:    0.2s\n",
      "[Parallel(n_jobs=4)]: Done 100 out of 100 | elapsed:    0.4s finished\n",
      "[Parallel(n_jobs=-1)]: Using backend ThreadingBackend with 4 concurrent workers.\n"
     ]
    },
    {
     "name": "stdout",
     "output_type": "stream",
     "text": [
      "0.20997375\n",
      "не удаляем:= City_Rome\n",
      "3.Number_of_Reviews_isNAN\n",
      "(40000, 56) (40000,) (40000, 54) (32000, 54) (8000, 54)\n"
     ]
    },
    {
     "name": "stderr",
     "output_type": "stream",
     "text": [
      "[Parallel(n_jobs=-1)]: Done  42 tasks      | elapsed:   13.0s\n",
      "[Parallel(n_jobs=-1)]: Done 100 out of 100 | elapsed:   29.2s finished\n",
      "[Parallel(n_jobs=4)]: Using backend ThreadingBackend with 4 concurrent workers.\n",
      "[Parallel(n_jobs=4)]: Done  42 tasks      | elapsed:    0.1s\n",
      "[Parallel(n_jobs=4)]: Done 100 out of 100 | elapsed:    0.1s finished\n",
      "[Parallel(n_jobs=-1)]: Using backend ThreadingBackend with 4 concurrent workers.\n"
     ]
    },
    {
     "name": "stdout",
     "output_type": "stream",
     "text": [
      "0.211875\n",
      "не удаляем:= Number_of_Reviews_isNAN\n",
      "4.Population\n",
      "(40000, 56) (40000,) (40000, 54) (32000, 54) (8000, 54)\n"
     ]
    },
    {
     "name": "stderr",
     "output_type": "stream",
     "text": [
      "[Parallel(n_jobs=-1)]: Done  42 tasks      | elapsed:    6.7s\n",
      "[Parallel(n_jobs=-1)]: Done 100 out of 100 | elapsed:   15.0s finished\n",
      "[Parallel(n_jobs=4)]: Using backend ThreadingBackend with 4 concurrent workers.\n",
      "[Parallel(n_jobs=4)]: Done  42 tasks      | elapsed:    0.1s\n",
      "[Parallel(n_jobs=4)]: Done 100 out of 100 | elapsed:    0.2s finished\n"
     ]
    },
    {
     "name": "stdout",
     "output_type": "stream",
     "text": [
      "0.20936124999999997\n",
      "не удаляем:= Population\n",
      "5.Text_dirty_len\n",
      "(40000, 56) (40000,) (40000, 54) (32000, 54) (8000, 54)\n"
     ]
    },
    {
     "name": "stderr",
     "output_type": "stream",
     "text": [
      "[Parallel(n_jobs=-1)]: Using backend ThreadingBackend with 4 concurrent workers.\n",
      "[Parallel(n_jobs=-1)]: Done  42 tasks      | elapsed:    7.5s\n",
      "[Parallel(n_jobs=-1)]: Done 100 out of 100 | elapsed:   20.2s finished\n",
      "[Parallel(n_jobs=4)]: Using backend ThreadingBackend with 4 concurrent workers.\n",
      "[Parallel(n_jobs=4)]: Done  42 tasks      | elapsed:    0.2s\n",
      "[Parallel(n_jobs=4)]: Done 100 out of 100 | elapsed:    0.4s finished\n"
     ]
    },
    {
     "name": "stdout",
     "output_type": "stream",
     "text": [
      "0.20816749999999998\n",
      "не удаляем:= Text_dirty_len\n",
      "6.popular\n",
      "(40000, 56) (40000,) (40000, 54) (32000, 54) (8000, 54)\n"
     ]
    },
    {
     "name": "stderr",
     "output_type": "stream",
     "text": [
      "[Parallel(n_jobs=-1)]: Using backend ThreadingBackend with 4 concurrent workers.\n",
      "[Parallel(n_jobs=-1)]: Done  42 tasks      | elapsed:   11.5s\n",
      "[Parallel(n_jobs=-1)]: Done 100 out of 100 | elapsed:   25.9s finished\n",
      "[Parallel(n_jobs=4)]: Using backend ThreadingBackend with 4 concurrent workers.\n",
      "[Parallel(n_jobs=4)]: Done  42 tasks      | elapsed:    0.3s\n",
      "[Parallel(n_jobs=4)]: Done 100 out of 100 | elapsed:    0.5s finished\n"
     ]
    },
    {
     "name": "stdout",
     "output_type": "stream",
     "text": [
      "0.2089575\n",
      "не удаляем:= popular\n",
      "7.positive\n",
      "(40000, 56) (40000,) (40000, 54) (32000, 54) (8000, 54)\n"
     ]
    },
    {
     "name": "stderr",
     "output_type": "stream",
     "text": [
      "[Parallel(n_jobs=-1)]: Using backend ThreadingBackend with 4 concurrent workers.\n",
      "[Parallel(n_jobs=-1)]: Done  42 tasks      | elapsed:   11.1s\n",
      "[Parallel(n_jobs=-1)]: Done 100 out of 100 | elapsed:   26.0s finished\n",
      "[Parallel(n_jobs=4)]: Using backend ThreadingBackend with 4 concurrent workers.\n",
      "[Parallel(n_jobs=4)]: Done  42 tasks      | elapsed:    0.2s\n",
      "[Parallel(n_jobs=4)]: Done 100 out of 100 | elapsed:    0.4s finished\n",
      "[Parallel(n_jobs=-1)]: Using backend ThreadingBackend with 4 concurrent workers.\n"
     ]
    },
    {
     "name": "stdout",
     "output_type": "stream",
     "text": [
      "0.2086175\n",
      "не удаляем:= positive\n",
      "8.City_Madrid\n",
      "(40000, 56) (40000,) (40000, 54) (32000, 54) (8000, 54)\n"
     ]
    },
    {
     "name": "stderr",
     "output_type": "stream",
     "text": [
      "[Parallel(n_jobs=-1)]: Done  42 tasks      | elapsed:   10.4s\n",
      "[Parallel(n_jobs=-1)]: Done 100 out of 100 | elapsed:   25.2s finished\n",
      "[Parallel(n_jobs=4)]: Using backend ThreadingBackend with 4 concurrent workers.\n",
      "[Parallel(n_jobs=4)]: Done  42 tasks      | elapsed:    0.2s\n",
      "[Parallel(n_jobs=4)]: Done 100 out of 100 | elapsed:    0.4s finished\n"
     ]
    },
    {
     "name": "stdout",
     "output_type": "stream",
     "text": [
      "0.208749375\n",
      "не удаляем:= City_Madrid\n",
      "9.regular\n",
      "(40000, 56) (40000,) (40000, 54) (32000, 54) (8000, 54)\n"
     ]
    },
    {
     "name": "stderr",
     "output_type": "stream",
     "text": [
      "[Parallel(n_jobs=-1)]: Using backend ThreadingBackend with 4 concurrent workers.\n",
      "[Parallel(n_jobs=-1)]: Done  42 tasks      | elapsed:   11.4s\n",
      "[Parallel(n_jobs=-1)]: Done 100 out of 100 | elapsed:   26.3s finished\n",
      "[Parallel(n_jobs=4)]: Using backend ThreadingBackend with 4 concurrent workers.\n",
      "[Parallel(n_jobs=4)]: Done  42 tasks      | elapsed:    0.2s\n",
      "[Parallel(n_jobs=4)]: Done 100 out of 100 | elapsed:    0.4s finished\n",
      "[Parallel(n_jobs=-1)]: Using backend ThreadingBackend with 4 concurrent workers.\n"
     ]
    },
    {
     "name": "stdout",
     "output_type": "stream",
     "text": [
      "0.208846875\n",
      "не удаляем:= regular\n",
      "10.City_Berlin\n",
      "(40000, 56) (40000,) (40000, 54) (32000, 54) (8000, 54)\n"
     ]
    },
    {
     "name": "stderr",
     "output_type": "stream",
     "text": [
      "[Parallel(n_jobs=-1)]: Done  42 tasks      | elapsed:   11.7s\n",
      "[Parallel(n_jobs=-1)]: Done 100 out of 100 | elapsed:   27.2s finished\n",
      "[Parallel(n_jobs=4)]: Using backend ThreadingBackend with 4 concurrent workers.\n",
      "[Parallel(n_jobs=4)]: Done  42 tasks      | elapsed:    0.2s\n",
      "[Parallel(n_jobs=4)]: Done 100 out of 100 | elapsed:    0.5s finished\n",
      "[Parallel(n_jobs=-1)]: Using backend ThreadingBackend with 4 concurrent workers.\n"
     ]
    },
    {
     "name": "stdout",
     "output_type": "stream",
     "text": [
      "0.20992562499999998\n",
      "не удаляем:= City_Berlin\n",
      "11.negative\n",
      "(40000, 56) (40000,) (40000, 54) (32000, 54) (8000, 54)\n"
     ]
    },
    {
     "name": "stderr",
     "output_type": "stream",
     "text": [
      "[Parallel(n_jobs=-1)]: Done  42 tasks      | elapsed:   11.6s\n",
      "[Parallel(n_jobs=-1)]: Done 100 out of 100 | elapsed:   27.0s finished\n",
      "[Parallel(n_jobs=4)]: Using backend ThreadingBackend with 4 concurrent workers.\n",
      "[Parallel(n_jobs=4)]: Done  42 tasks      | elapsed:    0.2s\n",
      "[Parallel(n_jobs=4)]: Done 100 out of 100 | elapsed:    0.5s finished\n",
      "[Parallel(n_jobs=-1)]: Using backend ThreadingBackend with 4 concurrent workers.\n"
     ]
    },
    {
     "name": "stdout",
     "output_type": "stream",
     "text": [
      "0.20898375\n",
      "не удаляем:= negative\n",
      "12.Price_Range_regular\n",
      "(40000, 56) (40000,) (40000, 54) (32000, 54) (8000, 54)\n"
     ]
    },
    {
     "name": "stderr",
     "output_type": "stream",
     "text": [
      "[Parallel(n_jobs=-1)]: Done  42 tasks      | elapsed:   11.6s\n",
      "[Parallel(n_jobs=-1)]: Done 100 out of 100 | elapsed:   26.6s finished\n",
      "[Parallel(n_jobs=4)]: Using backend ThreadingBackend with 4 concurrent workers.\n",
      "[Parallel(n_jobs=4)]: Done  42 tasks      | elapsed:    0.2s\n",
      "[Parallel(n_jobs=4)]: Done 100 out of 100 | elapsed:    0.4s finished\n",
      "[Parallel(n_jobs=-1)]: Using backend ThreadingBackend with 4 concurrent workers.\n"
     ]
    },
    {
     "name": "stdout",
     "output_type": "stream",
     "text": [
      "0.209195\n",
      "не удаляем:= Price_Range_regular\n",
      "13.Interval_in_1_year\n",
      "(40000, 56) (40000,) (40000, 54) (32000, 54) (8000, 54)\n"
     ]
    },
    {
     "name": "stderr",
     "output_type": "stream",
     "text": [
      "[Parallel(n_jobs=-1)]: Done  42 tasks      | elapsed:   13.5s\n",
      "[Parallel(n_jobs=-1)]: Done 100 out of 100 | elapsed:   28.9s finished\n",
      "[Parallel(n_jobs=4)]: Using backend ThreadingBackend with 4 concurrent workers.\n",
      "[Parallel(n_jobs=4)]: Done  42 tasks      | elapsed:    0.2s\n"
     ]
    },
    {
     "name": "stdout",
     "output_type": "stream",
     "text": [
      "0.20900124999999997\n",
      "не удаляем:= Interval_in_1_year\n",
      "14.is_franchise\n",
      "(40000, 56) (40000,) (40000, 54) (32000, 54) (8000, 54)\n"
     ]
    },
    {
     "name": "stderr",
     "output_type": "stream",
     "text": [
      "[Parallel(n_jobs=4)]: Done 100 out of 100 | elapsed:    0.4s finished\n",
      "[Parallel(n_jobs=-1)]: Using backend ThreadingBackend with 4 concurrent workers.\n",
      "[Parallel(n_jobs=-1)]: Done  42 tasks      | elapsed:   11.7s\n",
      "[Parallel(n_jobs=-1)]: Done 100 out of 100 | elapsed:   26.8s finished\n",
      "[Parallel(n_jobs=4)]: Using backend ThreadingBackend with 4 concurrent workers.\n",
      "[Parallel(n_jobs=4)]: Done  42 tasks      | elapsed:    0.2s\n",
      "[Parallel(n_jobs=4)]: Done 100 out of 100 | elapsed:    0.4s finished\n",
      "[Parallel(n_jobs=-1)]: Using backend ThreadingBackend with 4 concurrent workers.\n"
     ]
    },
    {
     "name": "stdout",
     "output_type": "stream",
     "text": [
      "0.20866812499999998\n",
      "не удаляем:= is_franchise\n",
      "15.Price_Range_isNaN\n",
      "(40000, 56) (40000,) (40000, 54) (32000, 54) (8000, 54)\n"
     ]
    },
    {
     "name": "stderr",
     "output_type": "stream",
     "text": [
      "[Parallel(n_jobs=-1)]: Done  42 tasks      | elapsed:   12.4s\n",
      "[Parallel(n_jobs=-1)]: Done 100 out of 100 | elapsed:   27.8s finished\n",
      "[Parallel(n_jobs=4)]: Using backend ThreadingBackend with 4 concurrent workers.\n",
      "[Parallel(n_jobs=4)]: Done  42 tasks      | elapsed:    0.1s\n",
      "[Parallel(n_jobs=4)]: Done 100 out of 100 | elapsed:    0.4s finished\n",
      "[Parallel(n_jobs=-1)]: Using backend ThreadingBackend with 4 concurrent workers.\n"
     ]
    },
    {
     "name": "stdout",
     "output_type": "stream",
     "text": [
      "0.209156875\n",
      "не удаляем:= Price_Range_isNaN\n",
      "16.City_Zurich\n",
      "(40000, 56) (40000,) (40000, 54) (32000, 54) (8000, 54)\n"
     ]
    },
    {
     "name": "stderr",
     "output_type": "stream",
     "text": [
      "[Parallel(n_jobs=-1)]: Done  42 tasks      | elapsed:   11.9s\n",
      "[Parallel(n_jobs=-1)]: Done 100 out of 100 | elapsed:   26.9s finished\n",
      "[Parallel(n_jobs=4)]: Using backend ThreadingBackend with 4 concurrent workers.\n",
      "[Parallel(n_jobs=4)]: Done  42 tasks      | elapsed:    0.2s\n",
      "[Parallel(n_jobs=4)]: Done 100 out of 100 | elapsed:    0.4s finished\n",
      "[Parallel(n_jobs=-1)]: Using backend ThreadingBackend with 4 concurrent workers.\n"
     ]
    },
    {
     "name": "stdout",
     "output_type": "stream",
     "text": [
      "0.209694375\n",
      "не удаляем:= City_Zurich\n",
      "17.Interval_in_month\n",
      "(40000, 56) (40000,) (40000, 54) (32000, 54) (8000, 54)\n"
     ]
    },
    {
     "name": "stderr",
     "output_type": "stream",
     "text": [
      "[Parallel(n_jobs=-1)]: Done  42 tasks      | elapsed:   11.4s\n",
      "[Parallel(n_jobs=-1)]: Done 100 out of 100 | elapsed:   26.7s finished\n",
      "[Parallel(n_jobs=4)]: Using backend ThreadingBackend with 4 concurrent workers.\n",
      "[Parallel(n_jobs=4)]: Done  42 tasks      | elapsed:    0.2s\n",
      "[Parallel(n_jobs=4)]: Done 100 out of 100 | elapsed:    0.5s finished\n",
      "[Parallel(n_jobs=-1)]: Using backend ThreadingBackend with 4 concurrent workers.\n"
     ]
    },
    {
     "name": "stdout",
     "output_type": "stream",
     "text": [
      "0.20871749999999997\n",
      "не удаляем:= Interval_in_month\n",
      "18.Price_Range_econom\n",
      "(40000, 56) (40000,) (40000, 54) (32000, 54) (8000, 54)\n"
     ]
    },
    {
     "name": "stderr",
     "output_type": "stream",
     "text": [
      "[Parallel(n_jobs=-1)]: Done  42 tasks      | elapsed:   11.8s\n",
      "[Parallel(n_jobs=-1)]: Done 100 out of 100 | elapsed:   26.3s finished\n",
      "[Parallel(n_jobs=4)]: Using backend ThreadingBackend with 4 concurrent workers.\n",
      "[Parallel(n_jobs=4)]: Done  42 tasks      | elapsed:    0.3s\n",
      "[Parallel(n_jobs=4)]: Done 100 out of 100 | elapsed:    0.5s finished\n",
      "[Parallel(n_jobs=-1)]: Using backend ThreadingBackend with 4 concurrent workers.\n"
     ]
    },
    {
     "name": "stdout",
     "output_type": "stream",
     "text": [
      "0.20912562499999998\n",
      "не удаляем:= Price_Range_econom\n",
      "19.City_Amsterdam\n",
      "(40000, 56) (40000,) (40000, 54) (32000, 54) (8000, 54)\n"
     ]
    },
    {
     "name": "stderr",
     "output_type": "stream",
     "text": [
      "[Parallel(n_jobs=-1)]: Done  42 tasks      | elapsed:   12.0s\n",
      "[Parallel(n_jobs=-1)]: Done 100 out of 100 | elapsed:   26.5s finished\n",
      "[Parallel(n_jobs=4)]: Using backend ThreadingBackend with 4 concurrent workers.\n",
      "[Parallel(n_jobs=4)]: Done  42 tasks      | elapsed:    0.2s\n",
      "[Parallel(n_jobs=4)]: Done 100 out of 100 | elapsed:    0.4s finished\n",
      "[Parallel(n_jobs=-1)]: Using backend ThreadingBackend with 4 concurrent workers.\n"
     ]
    },
    {
     "name": "stdout",
     "output_type": "stream",
     "text": [
      "0.20940062499999998\n",
      "не удаляем:= City_Amsterdam\n",
      "20.Interval_more_year\n",
      "(40000, 56) (40000,) (40000, 54) (32000, 54) (8000, 54)\n"
     ]
    },
    {
     "name": "stderr",
     "output_type": "stream",
     "text": [
      "[Parallel(n_jobs=-1)]: Done  42 tasks      | elapsed:   11.9s\n",
      "[Parallel(n_jobs=-1)]: Done 100 out of 100 | elapsed:   27.1s finished\n",
      "[Parallel(n_jobs=4)]: Using backend ThreadingBackend with 4 concurrent workers.\n",
      "[Parallel(n_jobs=4)]: Done  42 tasks      | elapsed:    0.2s\n"
     ]
    },
    {
     "name": "stdout",
     "output_type": "stream",
     "text": [
      "0.20888749999999998\n",
      "не удаляем:= Interval_more_year\n",
      "21.City_Barcelona\n",
      "(40000, 56) (40000,) (40000, 54) (32000, 54) (8000, 54)\n"
     ]
    },
    {
     "name": "stderr",
     "output_type": "stream",
     "text": [
      "[Parallel(n_jobs=4)]: Done 100 out of 100 | elapsed:    0.4s finished\n",
      "[Parallel(n_jobs=-1)]: Using backend ThreadingBackend with 4 concurrent workers.\n",
      "[Parallel(n_jobs=-1)]: Done  42 tasks      | elapsed:   11.1s\n",
      "[Parallel(n_jobs=-1)]: Done 100 out of 100 | elapsed:   26.5s finished\n",
      "[Parallel(n_jobs=4)]: Using backend ThreadingBackend with 4 concurrent workers.\n",
      "[Parallel(n_jobs=4)]: Done  42 tasks      | elapsed:    0.2s\n",
      "[Parallel(n_jobs=4)]: Done 100 out of 100 | elapsed:    0.4s finished\n",
      "[Parallel(n_jobs=-1)]: Using backend ThreadingBackend with 4 concurrent workers.\n"
     ]
    },
    {
     "name": "stdout",
     "output_type": "stream",
     "text": [
      "0.20893937499999998\n",
      "не удаляем:= City_Barcelona\n",
      "22.City_Hamburg\n",
      "(40000, 56) (40000,) (40000, 54) (32000, 54) (8000, 54)\n"
     ]
    },
    {
     "name": "stderr",
     "output_type": "stream",
     "text": [
      "[Parallel(n_jobs=-1)]: Done  42 tasks      | elapsed:   11.7s\n",
      "[Parallel(n_jobs=-1)]: Done 100 out of 100 | elapsed:   27.2s finished\n",
      "[Parallel(n_jobs=4)]: Using backend ThreadingBackend with 4 concurrent workers.\n",
      "[Parallel(n_jobs=4)]: Done  42 tasks      | elapsed:    0.2s\n",
      "[Parallel(n_jobs=4)]: Done 100 out of 100 | elapsed:    0.4s finished\n",
      "[Parallel(n_jobs=-1)]: Using backend ThreadingBackend with 4 concurrent workers.\n"
     ]
    },
    {
     "name": "stdout",
     "output_type": "stream",
     "text": [
      "0.2092\n",
      "не удаляем:= City_Hamburg\n",
      "23.City_Milan\n",
      "(40000, 56) (40000,) (40000, 54) (32000, 54) (8000, 54)\n"
     ]
    },
    {
     "name": "stderr",
     "output_type": "stream",
     "text": [
      "[Parallel(n_jobs=-1)]: Done  42 tasks      | elapsed:   11.5s\n",
      "[Parallel(n_jobs=-1)]: Done 100 out of 100 | elapsed:   27.4s finished\n",
      "[Parallel(n_jobs=4)]: Using backend ThreadingBackend with 4 concurrent workers.\n",
      "[Parallel(n_jobs=4)]: Done  42 tasks      | elapsed:    0.3s\n",
      "[Parallel(n_jobs=4)]: Done 100 out of 100 | elapsed:    0.5s finished\n",
      "[Parallel(n_jobs=-1)]: Using backend ThreadingBackend with 4 concurrent workers.\n"
     ]
    },
    {
     "name": "stdout",
     "output_type": "stream",
     "text": [
      "0.20974374999999998\n",
      "не удаляем:= City_Milan\n",
      "24.Interval_in_3_month\n",
      "(40000, 56) (40000,) (40000, 54) (32000, 54) (8000, 54)\n"
     ]
    },
    {
     "name": "stderr",
     "output_type": "stream",
     "text": [
      "[Parallel(n_jobs=-1)]: Done  42 tasks      | elapsed:   11.4s\n",
      "[Parallel(n_jobs=-1)]: Done 100 out of 100 | elapsed:   26.8s finished\n",
      "[Parallel(n_jobs=4)]: Using backend ThreadingBackend with 4 concurrent workers.\n",
      "[Parallel(n_jobs=4)]: Done  42 tasks      | elapsed:    0.2s\n",
      "[Parallel(n_jobs=4)]: Done 100 out of 100 | elapsed:    0.4s finished\n",
      "[Parallel(n_jobs=-1)]: Using backend ThreadingBackend with 4 concurrent workers.\n"
     ]
    },
    {
     "name": "stdout",
     "output_type": "stream",
     "text": [
      "0.20871749999999997\n",
      "не удаляем:= Interval_in_3_month\n",
      "25.City_Paris\n",
      "(40000, 56) (40000,) (40000, 54) (32000, 54) (8000, 54)\n"
     ]
    },
    {
     "name": "stderr",
     "output_type": "stream",
     "text": [
      "[Parallel(n_jobs=-1)]: Done  42 tasks      | elapsed:   11.4s\n",
      "[Parallel(n_jobs=-1)]: Done 100 out of 100 | elapsed:   26.6s finished\n",
      "[Parallel(n_jobs=4)]: Using backend ThreadingBackend with 4 concurrent workers.\n",
      "[Parallel(n_jobs=4)]: Done  42 tasks      | elapsed:    0.2s\n",
      "[Parallel(n_jobs=4)]: Done 100 out of 100 | elapsed:    0.4s finished\n"
     ]
    },
    {
     "name": "stdout",
     "output_type": "stream",
     "text": [
      "0.20918937499999998\n",
      "не удаляем:= City_Paris\n",
      "26.isNaN\n",
      "(40000, 56) (40000,) (40000, 54) (32000, 54) (8000, 54)\n"
     ]
    },
    {
     "name": "stderr",
     "output_type": "stream",
     "text": [
      "[Parallel(n_jobs=-1)]: Using backend ThreadingBackend with 4 concurrent workers.\n",
      "[Parallel(n_jobs=-1)]: Done  42 tasks      | elapsed:   10.4s\n",
      "[Parallel(n_jobs=-1)]: Done 100 out of 100 | elapsed:   25.3s finished\n",
      "[Parallel(n_jobs=4)]: Using backend ThreadingBackend with 4 concurrent workers.\n",
      "[Parallel(n_jobs=4)]: Done  42 tasks      | elapsed:    0.2s\n"
     ]
    },
    {
     "name": "stdout",
     "output_type": "stream",
     "text": [
      "0.20897999999999997\n",
      "не удаляем:= isNaN\n",
      "27.Dates_num_1\n",
      "(40000, 56) (40000,) (40000, 54) (32000, 54) (8000, 54)\n"
     ]
    },
    {
     "name": "stderr",
     "output_type": "stream",
     "text": [
      "[Parallel(n_jobs=4)]: Done 100 out of 100 | elapsed:    0.4s finished\n",
      "[Parallel(n_jobs=-1)]: Using backend ThreadingBackend with 4 concurrent workers.\n",
      "[Parallel(n_jobs=-1)]: Done  42 tasks      | elapsed:   11.7s\n",
      "[Parallel(n_jobs=-1)]: Done 100 out of 100 | elapsed:   26.2s finished\n",
      "[Parallel(n_jobs=4)]: Using backend ThreadingBackend with 4 concurrent workers.\n",
      "[Parallel(n_jobs=4)]: Done  42 tasks      | elapsed:    0.2s\n",
      "[Parallel(n_jobs=4)]: Done 100 out of 100 | elapsed:    0.4s finished\n"
     ]
    },
    {
     "name": "stdout",
     "output_type": "stream",
     "text": [
      "0.20876874999999995\n",
      "не удаляем:= Dates_num_1\n",
      "28.undetected\n",
      "(40000, 56) (40000,) (40000, 54) (32000, 54) (8000, 54)\n"
     ]
    },
    {
     "name": "stderr",
     "output_type": "stream",
     "text": [
      "[Parallel(n_jobs=-1)]: Using backend ThreadingBackend with 4 concurrent workers.\n",
      "[Parallel(n_jobs=-1)]: Done  42 tasks      | elapsed:   11.2s\n",
      "[Parallel(n_jobs=-1)]: Done 100 out of 100 | elapsed:   25.8s finished\n",
      "[Parallel(n_jobs=4)]: Using backend ThreadingBackend with 4 concurrent workers.\n",
      "[Parallel(n_jobs=4)]: Done  42 tasks      | elapsed:    0.2s\n",
      "[Parallel(n_jobs=4)]: Done 100 out of 100 | elapsed:    0.4s finished\n"
     ]
    },
    {
     "name": "stdout",
     "output_type": "stream",
     "text": [
      "0.20852125\n",
      "не удаляем:= undetected\n",
      "29.City_Oporto\n",
      "(40000, 56) (40000,) (40000, 54) (32000, 54) (8000, 54)\n"
     ]
    },
    {
     "name": "stderr",
     "output_type": "stream",
     "text": [
      "[Parallel(n_jobs=-1)]: Using backend ThreadingBackend with 4 concurrent workers.\n",
      "[Parallel(n_jobs=-1)]: Done  42 tasks      | elapsed:   11.9s\n",
      "[Parallel(n_jobs=-1)]: Done 100 out of 100 | elapsed:   26.8s finished\n",
      "[Parallel(n_jobs=4)]: Using backend ThreadingBackend with 4 concurrent workers.\n",
      "[Parallel(n_jobs=4)]: Done  42 tasks      | elapsed:    0.2s\n"
     ]
    },
    {
     "name": "stdout",
     "output_type": "stream",
     "text": [
      "0.20918062499999998\n",
      "не удаляем:= City_Oporto\n",
      "30.City_Athens\n",
      "(40000, 56) (40000,) (40000, 54) (32000, 54) (8000, 54)\n"
     ]
    },
    {
     "name": "stderr",
     "output_type": "stream",
     "text": [
      "[Parallel(n_jobs=4)]: Done 100 out of 100 | elapsed:    0.4s finished\n",
      "[Parallel(n_jobs=-1)]: Using backend ThreadingBackend with 4 concurrent workers.\n",
      "[Parallel(n_jobs=-1)]: Done  42 tasks      | elapsed:   11.3s\n",
      "[Parallel(n_jobs=-1)]: Done 100 out of 100 | elapsed:   26.3s finished\n",
      "[Parallel(n_jobs=4)]: Using backend ThreadingBackend with 4 concurrent workers.\n",
      "[Parallel(n_jobs=4)]: Done  42 tasks      | elapsed:    0.2s\n",
      "[Parallel(n_jobs=4)]: Done 100 out of 100 | elapsed:    0.4s finished\n",
      "[Parallel(n_jobs=-1)]: Using backend ThreadingBackend with 4 concurrent workers.\n"
     ]
    },
    {
     "name": "stdout",
     "output_type": "stream",
     "text": [
      "0.20932499999999998\n",
      "не удаляем:= City_Athens\n",
      "31.City_Warsaw\n",
      "(40000, 56) (40000,) (40000, 54) (32000, 54) (8000, 54)\n"
     ]
    },
    {
     "name": "stderr",
     "output_type": "stream",
     "text": [
      "[Parallel(n_jobs=-1)]: Done  42 tasks      | elapsed:   11.7s\n",
      "[Parallel(n_jobs=-1)]: Done 100 out of 100 | elapsed:   27.8s finished\n",
      "[Parallel(n_jobs=4)]: Using backend ThreadingBackend with 4 concurrent workers.\n",
      "[Parallel(n_jobs=4)]: Done  42 tasks      | elapsed:    0.2s\n",
      "[Parallel(n_jobs=4)]: Done 100 out of 100 | elapsed:    0.3s finished\n",
      "[Parallel(n_jobs=-1)]: Using backend ThreadingBackend with 4 concurrent workers.\n"
     ]
    },
    {
     "name": "stdout",
     "output_type": "stream",
     "text": [
      "0.209171875\n",
      "не удаляем:= City_Warsaw\n",
      "32.City_Edinburgh\n",
      "(40000, 56) (40000,) (40000, 54) (32000, 54) (8000, 54)\n"
     ]
    },
    {
     "name": "stderr",
     "output_type": "stream",
     "text": [
      "[Parallel(n_jobs=-1)]: Done  42 tasks      | elapsed:   11.5s\n",
      "[Parallel(n_jobs=-1)]: Done 100 out of 100 | elapsed:   27.3s finished\n",
      "[Parallel(n_jobs=4)]: Using backend ThreadingBackend with 4 concurrent workers.\n",
      "[Parallel(n_jobs=4)]: Done  42 tasks      | elapsed:    0.2s\n",
      "[Parallel(n_jobs=4)]: Done 100 out of 100 | elapsed:    0.4s finished\n"
     ]
    },
    {
     "name": "stdout",
     "output_type": "stream",
     "text": [
      "0.20904312499999997\n",
      "не удаляем:= City_Edinburgh\n",
      "33.City_Prague\n",
      "(40000, 56) (40000,) (40000, 54) (32000, 54) (8000, 54)\n"
     ]
    },
    {
     "name": "stderr",
     "output_type": "stream",
     "text": [
      "[Parallel(n_jobs=-1)]: Using backend ThreadingBackend with 4 concurrent workers.\n",
      "[Parallel(n_jobs=-1)]: Done  42 tasks      | elapsed:   11.8s\n",
      "[Parallel(n_jobs=-1)]: Done 100 out of 100 | elapsed:   26.6s finished\n",
      "[Parallel(n_jobs=4)]: Using backend ThreadingBackend with 4 concurrent workers.\n",
      "[Parallel(n_jobs=4)]: Done  42 tasks      | elapsed:    0.2s\n"
     ]
    },
    {
     "name": "stdout",
     "output_type": "stream",
     "text": [
      "0.20938187499999997\n",
      "не удаляем:= City_Prague\n",
      "34.neutral\n",
      "(40000, 56) (40000,) (40000, 54) (32000, 54) (8000, 54)\n"
     ]
    },
    {
     "name": "stderr",
     "output_type": "stream",
     "text": [
      "[Parallel(n_jobs=4)]: Done 100 out of 100 | elapsed:    0.5s finished\n",
      "[Parallel(n_jobs=-1)]: Using backend ThreadingBackend with 4 concurrent workers.\n",
      "[Parallel(n_jobs=-1)]: Done  42 tasks      | elapsed:   11.8s\n",
      "[Parallel(n_jobs=-1)]: Done 100 out of 100 | elapsed:   26.8s finished\n",
      "[Parallel(n_jobs=4)]: Using backend ThreadingBackend with 4 concurrent workers.\n",
      "[Parallel(n_jobs=4)]: Done  42 tasks      | elapsed:    0.2s\n",
      "[Parallel(n_jobs=4)]: Done 100 out of 100 | elapsed:    0.4s finished\n",
      "[Parallel(n_jobs=-1)]: Using backend ThreadingBackend with 4 concurrent workers.\n"
     ]
    },
    {
     "name": "stdout",
     "output_type": "stream",
     "text": [
      "0.208830625\n",
      "не удаляем:= neutral\n",
      "35.City_Copenhagen\n",
      "(40000, 56) (40000,) (40000, 54) (32000, 54) (8000, 54)\n"
     ]
    },
    {
     "name": "stderr",
     "output_type": "stream",
     "text": [
      "[Parallel(n_jobs=-1)]: Done  42 tasks      | elapsed:   11.6s\n",
      "[Parallel(n_jobs=-1)]: Done 100 out of 100 | elapsed:   26.5s finished\n",
      "[Parallel(n_jobs=4)]: Using backend ThreadingBackend with 4 concurrent workers.\n",
      "[Parallel(n_jobs=4)]: Done  42 tasks      | elapsed:    0.2s\n",
      "[Parallel(n_jobs=4)]: Done 100 out of 100 | elapsed:    0.4s finished\n"
     ]
    },
    {
     "name": "stdout",
     "output_type": "stream",
     "text": [
      "0.20934499999999998\n",
      "не удаляем:= City_Copenhagen\n",
      "36.no_review\n",
      "(40000, 56) (40000,) (40000, 54) (32000, 54) (8000, 54)\n"
     ]
    },
    {
     "name": "stderr",
     "output_type": "stream",
     "text": [
      "[Parallel(n_jobs=-1)]: Using backend ThreadingBackend with 4 concurrent workers.\n",
      "[Parallel(n_jobs=-1)]: Done  42 tasks      | elapsed:   11.1s\n",
      "[Parallel(n_jobs=-1)]: Done 100 out of 100 | elapsed:   26.7s finished\n",
      "[Parallel(n_jobs=4)]: Using backend ThreadingBackend with 4 concurrent workers.\n",
      "[Parallel(n_jobs=4)]: Done  42 tasks      | elapsed:    0.2s\n",
      "[Parallel(n_jobs=4)]: Done 100 out of 100 | elapsed:    0.4s finished\n",
      "[Parallel(n_jobs=-1)]: Using backend ThreadingBackend with 4 concurrent workers.\n"
     ]
    },
    {
     "name": "stdout",
     "output_type": "stream",
     "text": [
      "0.20892562499999998\n",
      "не удаляем:= no_review\n",
      "37.City_Vienna\n",
      "(40000, 56) (40000,) (40000, 54) (32000, 54) (8000, 54)\n"
     ]
    },
    {
     "name": "stderr",
     "output_type": "stream",
     "text": [
      "[Parallel(n_jobs=-1)]: Done  42 tasks      | elapsed:   11.9s\n",
      "[Parallel(n_jobs=-1)]: Done 100 out of 100 | elapsed:   27.8s finished\n",
      "[Parallel(n_jobs=4)]: Using backend ThreadingBackend with 4 concurrent workers.\n",
      "[Parallel(n_jobs=4)]: Done  42 tasks      | elapsed:    0.2s\n",
      "[Parallel(n_jobs=4)]: Done 100 out of 100 | elapsed:    0.4s finished\n",
      "[Parallel(n_jobs=-1)]: Using backend ThreadingBackend with 4 concurrent workers.\n"
     ]
    },
    {
     "name": "stdout",
     "output_type": "stream",
     "text": [
      "0.20921125000000002\n",
      "не удаляем:= City_Vienna\n",
      "38.City_London\n",
      "(40000, 56) (40000,) (40000, 54) (32000, 54) (8000, 54)\n"
     ]
    },
    {
     "name": "stderr",
     "output_type": "stream",
     "text": [
      "[Parallel(n_jobs=-1)]: Done  42 tasks      | elapsed:   12.3s\n",
      "[Parallel(n_jobs=-1)]: Done 100 out of 100 | elapsed:   27.2s finished\n",
      "[Parallel(n_jobs=4)]: Using backend ThreadingBackend with 4 concurrent workers.\n",
      "[Parallel(n_jobs=4)]: Done  42 tasks      | elapsed:    0.1s\n",
      "[Parallel(n_jobs=4)]: Done 100 out of 100 | elapsed:    0.2s finished\n"
     ]
    },
    {
     "name": "stdout",
     "output_type": "stream",
     "text": [
      "0.208864375\n",
      "не удаляем:= City_London\n",
      "39.City_Budapest\n",
      "(40000, 56) (40000,) (40000, 54) (32000, 54) (8000, 54)\n"
     ]
    },
    {
     "name": "stderr",
     "output_type": "stream",
     "text": [
      "[Parallel(n_jobs=-1)]: Using backend ThreadingBackend with 4 concurrent workers.\n",
      "[Parallel(n_jobs=-1)]: Done  42 tasks      | elapsed:   11.3s\n",
      "[Parallel(n_jobs=-1)]: Done 100 out of 100 | elapsed:   27.0s finished\n",
      "[Parallel(n_jobs=4)]: Using backend ThreadingBackend with 4 concurrent workers.\n",
      "[Parallel(n_jobs=4)]: Done  42 tasks      | elapsed:    0.2s\n",
      "[Parallel(n_jobs=4)]: Done 100 out of 100 | elapsed:    0.4s finished\n",
      "[Parallel(n_jobs=-1)]: Using backend ThreadingBackend with 4 concurrent workers.\n"
     ]
    },
    {
     "name": "stdout",
     "output_type": "stream",
     "text": [
      "0.209301875\n",
      "не удаляем:= City_Budapest\n",
      "40.City_Krakow\n",
      "(40000, 56) (40000,) (40000, 54) (32000, 54) (8000, 54)\n"
     ]
    },
    {
     "name": "stderr",
     "output_type": "stream",
     "text": [
      "[Parallel(n_jobs=-1)]: Done  42 tasks      | elapsed:   11.6s\n",
      "[Parallel(n_jobs=-1)]: Done 100 out of 100 | elapsed:   26.3s finished\n",
      "[Parallel(n_jobs=4)]: Using backend ThreadingBackend with 4 concurrent workers.\n",
      "[Parallel(n_jobs=4)]: Done  42 tasks      | elapsed:    0.2s\n",
      "[Parallel(n_jobs=4)]: Done 100 out of 100 | elapsed:    0.4s finished\n"
     ]
    },
    {
     "name": "stdout",
     "output_type": "stream",
     "text": [
      "0.209301875\n",
      "не удаляем:= City_Krakow\n",
      "41.City_Munich\n",
      "(40000, 56) (40000,) (40000, 54) (32000, 54) (8000, 54)\n"
     ]
    },
    {
     "name": "stderr",
     "output_type": "stream",
     "text": [
      "[Parallel(n_jobs=-1)]: Using backend ThreadingBackend with 4 concurrent workers.\n",
      "[Parallel(n_jobs=-1)]: Done  42 tasks      | elapsed:   11.9s\n",
      "[Parallel(n_jobs=-1)]: Done 100 out of 100 | elapsed:   26.2s finished\n",
      "[Parallel(n_jobs=4)]: Using backend ThreadingBackend with 4 concurrent workers.\n",
      "[Parallel(n_jobs=4)]: Done  42 tasks      | elapsed:    0.2s\n",
      "[Parallel(n_jobs=4)]: Done 100 out of 100 | elapsed:    0.4s finished\n",
      "[Parallel(n_jobs=-1)]: Using backend ThreadingBackend with 4 concurrent workers.\n"
     ]
    },
    {
     "name": "stdout",
     "output_type": "stream",
     "text": [
      "0.20913187499999997\n",
      "не удаляем:= City_Munich\n",
      "42.Price_Range_luxury\n",
      "(40000, 56) (40000,) (40000, 54) (32000, 54) (8000, 54)\n"
     ]
    },
    {
     "name": "stderr",
     "output_type": "stream",
     "text": [
      "[Parallel(n_jobs=-1)]: Done  42 tasks      | elapsed:   11.8s\n",
      "[Parallel(n_jobs=-1)]: Done 100 out of 100 | elapsed:   27.1s finished\n",
      "[Parallel(n_jobs=4)]: Using backend ThreadingBackend with 4 concurrent workers.\n",
      "[Parallel(n_jobs=4)]: Done  42 tasks      | elapsed:    0.2s\n",
      "[Parallel(n_jobs=4)]: Done 100 out of 100 | elapsed:    0.4s finished\n",
      "[Parallel(n_jobs=-1)]: Using backend ThreadingBackend with 4 concurrent workers.\n"
     ]
    },
    {
     "name": "stdout",
     "output_type": "stream",
     "text": [
      "0.208983125\n",
      "не удаляем:= Price_Range_luxury\n",
      "43.City_Lyon\n",
      "(40000, 56) (40000,) (40000, 54) (32000, 54) (8000, 54)\n"
     ]
    },
    {
     "name": "stderr",
     "output_type": "stream",
     "text": [
      "[Parallel(n_jobs=-1)]: Done  42 tasks      | elapsed:   11.4s\n",
      "[Parallel(n_jobs=-1)]: Done 100 out of 100 | elapsed:   26.4s finished\n",
      "[Parallel(n_jobs=4)]: Using backend ThreadingBackend with 4 concurrent workers.\n",
      "[Parallel(n_jobs=4)]: Done  42 tasks      | elapsed:    0.2s\n",
      "[Parallel(n_jobs=4)]: Done 100 out of 100 | elapsed:    0.4s finished\n",
      "[Parallel(n_jobs=-1)]: Using backend ThreadingBackend with 4 concurrent workers.\n"
     ]
    },
    {
     "name": "stdout",
     "output_type": "stream",
     "text": [
      "0.20879562499999998\n",
      "не удаляем:= City_Lyon\n",
      "44.City_Lisbon\n",
      "(40000, 56) (40000,) (40000, 54) (32000, 54) (8000, 54)\n"
     ]
    },
    {
     "name": "stderr",
     "output_type": "stream",
     "text": [
      "[Parallel(n_jobs=-1)]: Done  42 tasks      | elapsed:   11.2s\n",
      "[Parallel(n_jobs=-1)]: Done 100 out of 100 | elapsed:   26.5s finished\n",
      "[Parallel(n_jobs=4)]: Using backend ThreadingBackend with 4 concurrent workers.\n",
      "[Parallel(n_jobs=4)]: Done  42 tasks      | elapsed:    0.2s\n",
      "[Parallel(n_jobs=4)]: Done 100 out of 100 | elapsed:    0.4s finished\n",
      "[Parallel(n_jobs=-1)]: Using backend ThreadingBackend with 4 concurrent workers.\n"
     ]
    },
    {
     "name": "stdout",
     "output_type": "stream",
     "text": [
      "0.209003125\n",
      "не удаляем:= City_Lisbon\n",
      "45.City_Stockholm\n",
      "(40000, 56) (40000,) (40000, 54) (32000, 54) (8000, 54)\n"
     ]
    },
    {
     "name": "stderr",
     "output_type": "stream",
     "text": [
      "[Parallel(n_jobs=-1)]: Done  42 tasks      | elapsed:   11.7s\n",
      "[Parallel(n_jobs=-1)]: Done 100 out of 100 | elapsed:   27.4s finished\n",
      "[Parallel(n_jobs=4)]: Using backend ThreadingBackend with 4 concurrent workers.\n",
      "[Parallel(n_jobs=4)]: Done  42 tasks      | elapsed:    0.2s\n",
      "[Parallel(n_jobs=4)]: Done 100 out of 100 | elapsed:    0.4s finished\n"
     ]
    },
    {
     "name": "stdout",
     "output_type": "stream",
     "text": [
      "0.20891125\n",
      "не удаляем:= City_Stockholm\n",
      "46.City_Ljubljana\n",
      "(40000, 56) (40000,) (40000, 54) (32000, 54) (8000, 54)\n"
     ]
    },
    {
     "name": "stderr",
     "output_type": "stream",
     "text": [
      "[Parallel(n_jobs=-1)]: Using backend ThreadingBackend with 4 concurrent workers.\n",
      "[Parallel(n_jobs=-1)]: Done  42 tasks      | elapsed:   11.5s\n",
      "[Parallel(n_jobs=-1)]: Done 100 out of 100 | elapsed:   26.5s finished\n",
      "[Parallel(n_jobs=4)]: Using backend ThreadingBackend with 4 concurrent workers.\n",
      "[Parallel(n_jobs=4)]: Done  42 tasks      | elapsed:    0.2s\n",
      "[Parallel(n_jobs=4)]: Done 100 out of 100 | elapsed:    0.4s finished\n"
     ]
    },
    {
     "name": "stdout",
     "output_type": "stream",
     "text": [
      "0.20901999999999998\n",
      "не удаляем:= City_Ljubljana\n",
      "47.City_Bratislava\n",
      "(40000, 56) (40000,) (40000, 54) (32000, 54) (8000, 54)\n"
     ]
    },
    {
     "name": "stderr",
     "output_type": "stream",
     "text": [
      "[Parallel(n_jobs=-1)]: Using backend ThreadingBackend with 4 concurrent workers.\n",
      "[Parallel(n_jobs=-1)]: Done  42 tasks      | elapsed:   11.9s\n",
      "[Parallel(n_jobs=-1)]: Done 100 out of 100 | elapsed:   26.8s finished\n",
      "[Parallel(n_jobs=4)]: Using backend ThreadingBackend with 4 concurrent workers.\n",
      "[Parallel(n_jobs=4)]: Done  42 tasks      | elapsed:    0.2s\n",
      "[Parallel(n_jobs=4)]: Done 100 out of 100 | elapsed:    0.4s finished\n"
     ]
    },
    {
     "name": "stdout",
     "output_type": "stream",
     "text": [
      "0.2090025\n",
      "не удаляем:= City_Bratislava\n",
      "48.City_Luxembourg\n",
      "(40000, 56) (40000,) (40000, 54) (32000, 54) (8000, 54)\n"
     ]
    },
    {
     "name": "stderr",
     "output_type": "stream",
     "text": [
      "[Parallel(n_jobs=-1)]: Using backend ThreadingBackend with 4 concurrent workers.\n",
      "[Parallel(n_jobs=-1)]: Done  42 tasks      | elapsed:   11.7s\n",
      "[Parallel(n_jobs=-1)]: Done 100 out of 100 | elapsed:   26.8s finished\n",
      "[Parallel(n_jobs=4)]: Using backend ThreadingBackend with 4 concurrent workers.\n",
      "[Parallel(n_jobs=4)]: Done  42 tasks      | elapsed:    0.2s\n"
     ]
    },
    {
     "name": "stdout",
     "output_type": "stream",
     "text": [
      "0.20884875\n",
      "не удаляем:= City_Luxembourg\n",
      "49.City_Dublin\n",
      "(40000, 56) (40000,) (40000, 54) (32000, 54) (8000, 54)\n"
     ]
    },
    {
     "name": "stderr",
     "output_type": "stream",
     "text": [
      "[Parallel(n_jobs=4)]: Done 100 out of 100 | elapsed:    0.4s finished\n",
      "[Parallel(n_jobs=-1)]: Using backend ThreadingBackend with 4 concurrent workers.\n",
      "[Parallel(n_jobs=-1)]: Done  42 tasks      | elapsed:   11.2s\n",
      "[Parallel(n_jobs=-1)]: Done 100 out of 100 | elapsed:   28.4s finished\n",
      "[Parallel(n_jobs=4)]: Using backend ThreadingBackend with 4 concurrent workers.\n",
      "[Parallel(n_jobs=4)]: Done  42 tasks      | elapsed:    0.2s\n",
      "[Parallel(n_jobs=4)]: Done 100 out of 100 | elapsed:    0.4s finished\n",
      "[Parallel(n_jobs=-1)]: Using backend ThreadingBackend with 4 concurrent workers.\n"
     ]
    },
    {
     "name": "stdout",
     "output_type": "stream",
     "text": [
      "0.209296875\n",
      "не удаляем:= City_Dublin\n",
      "50.City_Geneva\n",
      "(40000, 56) (40000,) (40000, 54) (32000, 54) (8000, 54)\n"
     ]
    },
    {
     "name": "stderr",
     "output_type": "stream",
     "text": [
      "[Parallel(n_jobs=-1)]: Done  42 tasks      | elapsed:   12.6s\n",
      "[Parallel(n_jobs=-1)]: Done 100 out of 100 | elapsed:   31.5s finished\n",
      "[Parallel(n_jobs=4)]: Using backend ThreadingBackend with 4 concurrent workers.\n",
      "[Parallel(n_jobs=4)]: Done  42 tasks      | elapsed:    0.2s\n",
      "[Parallel(n_jobs=4)]: Done 100 out of 100 | elapsed:    0.4s finished\n",
      "[Parallel(n_jobs=-1)]: Using backend ThreadingBackend with 4 concurrent workers.\n"
     ]
    },
    {
     "name": "stdout",
     "output_type": "stream",
     "text": [
      "0.20895187499999998\n",
      "не удаляем:= City_Geneva\n",
      "51.City_Oslo\n",
      "(40000, 56) (40000,) (40000, 54) (32000, 54) (8000, 54)\n"
     ]
    },
    {
     "name": "stderr",
     "output_type": "stream",
     "text": [
      "[Parallel(n_jobs=-1)]: Done  42 tasks      | elapsed:   14.1s\n",
      "[Parallel(n_jobs=-1)]: Done 100 out of 100 | elapsed:   29.5s finished\n",
      "[Parallel(n_jobs=4)]: Using backend ThreadingBackend with 4 concurrent workers.\n",
      "[Parallel(n_jobs=4)]: Done  42 tasks      | elapsed:    0.2s\n",
      "[Parallel(n_jobs=4)]: Done 100 out of 100 | elapsed:    0.4s finished\n"
     ]
    },
    {
     "name": "stdout",
     "output_type": "stream",
     "text": [
      "0.20900562499999997\n",
      "не удаляем:= City_Oslo\n",
      "52.niche\n",
      "(40000, 56) (40000,) (40000, 54) (32000, 54) (8000, 54)\n"
     ]
    },
    {
     "name": "stderr",
     "output_type": "stream",
     "text": [
      "[Parallel(n_jobs=-1)]: Using backend ThreadingBackend with 4 concurrent workers.\n",
      "[Parallel(n_jobs=-1)]: Done  42 tasks      | elapsed:   11.3s\n",
      "[Parallel(n_jobs=-1)]: Done 100 out of 100 | elapsed:   26.2s finished\n",
      "[Parallel(n_jobs=4)]: Using backend ThreadingBackend with 4 concurrent workers.\n",
      "[Parallel(n_jobs=4)]: Done  42 tasks      | elapsed:    0.2s\n",
      "[Parallel(n_jobs=4)]: Done 100 out of 100 | elapsed:    0.4s finished\n",
      "[Parallel(n_jobs=-1)]: Using backend ThreadingBackend with 4 concurrent workers.\n"
     ]
    },
    {
     "name": "stdout",
     "output_type": "stream",
     "text": [
      "0.20868875\n",
      "не удаляем:= niche\n",
      "53.City_Brussels\n",
      "(40000, 56) (40000,) (40000, 54) (32000, 54) (8000, 54)\n"
     ]
    },
    {
     "name": "stderr",
     "output_type": "stream",
     "text": [
      "[Parallel(n_jobs=-1)]: Done  42 tasks      | elapsed:   12.4s\n",
      "[Parallel(n_jobs=-1)]: Done 100 out of 100 | elapsed:   27.9s finished\n",
      "[Parallel(n_jobs=4)]: Using backend ThreadingBackend with 4 concurrent workers.\n",
      "[Parallel(n_jobs=4)]: Done  42 tasks      | elapsed:    0.2s\n",
      "[Parallel(n_jobs=4)]: Done 100 out of 100 | elapsed:    0.4s finished\n"
     ]
    },
    {
     "name": "stdout",
     "output_type": "stream",
     "text": [
      "0.208843125\n",
      "не удаляем:= City_Brussels\n",
      "54.City_Helsinki\n",
      "(40000, 56) (40000,) (40000, 54) (32000, 54) (8000, 54)\n"
     ]
    },
    {
     "name": "stderr",
     "output_type": "stream",
     "text": [
      "[Parallel(n_jobs=-1)]: Using backend ThreadingBackend with 4 concurrent workers.\n",
      "[Parallel(n_jobs=-1)]: Done  42 tasks      | elapsed:   12.6s\n",
      "[Parallel(n_jobs=-1)]: Done 100 out of 100 | elapsed:   28.1s finished\n",
      "[Parallel(n_jobs=4)]: Using backend ThreadingBackend with 4 concurrent workers.\n",
      "[Parallel(n_jobs=4)]: Done  42 tasks      | elapsed:    0.2s\n"
     ]
    },
    {
     "name": "stdout",
     "output_type": "stream",
     "text": [
      "0.208825625\n",
      "не удаляем:= City_Helsinki\n",
      "i=54\n",
      "remove_list: []\n",
      "log_list: [['Ranking', 0.45941871763931014], ['Number_of_Reviews', 0.27505874999999996], ['City_Rome', 0.20997375], ['Number_of_Reviews_isNAN', 0.211875], ['Population', 0.20936124999999997], ['Text_dirty_len', 0.20816749999999998], ['popular', 0.2089575], ['positive', 0.2086175], ['City_Madrid', 0.208749375], ['regular', 0.208846875], ['City_Berlin', 0.20992562499999998], ['negative', 0.20898375], ['Price_Range_regular', 0.209195], ['Interval_in_1_year', 0.20900124999999997], ['is_franchise', 0.20866812499999998], ['Price_Range_isNaN', 0.209156875], ['City_Zurich', 0.209694375], ['Interval_in_month', 0.20871749999999997], ['Price_Range_econom', 0.20912562499999998], ['City_Amsterdam', 0.20940062499999998], ['Interval_more_year', 0.20888749999999998], ['City_Barcelona', 0.20893937499999998], ['City_Hamburg', 0.2092], ['City_Milan', 0.20974374999999998], ['Interval_in_3_month', 0.20871749999999997], ['City_Paris', 0.20918937499999998], ['isNaN', 0.20897999999999997], ['Dates_num_1', 0.20876874999999995], ['undetected', 0.20852125], ['City_Oporto', 0.20918062499999998], ['City_Athens', 0.20932499999999998], ['City_Warsaw', 0.209171875], ['City_Edinburgh', 0.20904312499999997], ['City_Prague', 0.20938187499999997], ['neutral', 0.208830625], ['City_Copenhagen', 0.20934499999999998], ['no_review', 0.20892562499999998], ['City_Vienna', 0.20921125000000002], ['City_London', 0.208864375], ['City_Budapest', 0.209301875], ['City_Krakow', 0.209301875], ['City_Munich', 0.20913187499999997], ['Price_Range_luxury', 0.208983125], ['City_Lyon', 0.20879562499999998], ['City_Lisbon', 0.209003125], ['City_Stockholm', 0.20891125], ['City_Ljubljana', 0.20901999999999998], ['City_Bratislava', 0.2090025], ['City_Luxembourg', 0.20884875], ['City_Dublin', 0.209296875], ['City_Geneva', 0.20895187499999998], ['City_Oslo', 0.20900562499999997], ['niche', 0.20868875], ['City_Brussels', 0.208843125], ['City_Helsinki', 0.208825625]]\n"
     ]
    },
    {
     "name": "stderr",
     "output_type": "stream",
     "text": [
      "[Parallel(n_jobs=4)]: Done 100 out of 100 | elapsed:    0.4s finished\n"
     ]
    }
   ],
   "source": [
    "list_ofAllColumnsSortImportant = list(feat_importances.nlargest(len(df.columns)-1).index)\n",
    "MAE = 0.2085855\n",
    "min_MAE = round(MAE,3)\n",
    "print(f\"min_MAE = {min_MAE}\")\n",
    "remove_list = []\n",
    "log = []\n",
    "delta =0.002\n",
    "for i in range(0,len(list_ofAllColumnsSortImportant),1):\n",
    "    col = list_ofAllColumnsSortImportant[i]\n",
    "    print(f\"{i}.{col}\")\n",
    "    ###\n",
    "\n",
    "    y = df.Rating.values            # наш таргет\n",
    "    X = df.drop(['Rating']+[col], axis=1)\n",
    "\n",
    "\n",
    "#     # Воспользуемся специальной функцие train_test_split для разбивки тестовых данных\n",
    "#     # выделим 20% данных на валидацию (параметр test_size)\n",
    "    X_train, X_test, y_train, y_test = train_test_split(X, y, test_size=0.2, random_state=RANDOM_SEED)\n",
    "    print(df.shape, y.shape, X.shape, X_train.shape, X_test.shape)\n",
    "\n",
    "    regr.fit(X_train, y_train)\n",
    "\n",
    "    y_pred = regr.predict(X_test)\n",
    "\n",
    "    temp_MAE = metrics.mean_absolute_error(y_test, y_pred)\n",
    "#     ###\n",
    "    print(temp_MAE)\n",
    "    log.append([col, temp_MAE])\n",
    "    if round(temp_MAE,3) <= min_MAE-delta:\n",
    "        remove_list.append(col)\n",
    "        print(f\"удаляем:= {col}\")\n",
    "    else:\n",
    "        print(f\"не удаляем:= {col}\")\n",
    "print(f\"i={i}\")\n",
    "print(f\"remove_list: {remove_list}\")\n",
    "print(f\"log_list: {log}\")"
   ]
  },
  {
   "cell_type": "code",
   "execution_count": null,
   "metadata": {},
   "outputs": [],
   "source": []
  }
 ],
 "metadata": {
  "kernelspec": {
   "display_name": "Python 3",
   "language": "python",
   "name": "python3"
  },
  "language_info": {
   "codemirror_mode": {
    "name": "ipython",
    "version": 3
   },
   "file_extension": ".py",
   "mimetype": "text/x-python",
   "name": "python",
   "nbconvert_exporter": "python",
   "pygments_lexer": "ipython3",
   "version": "3.8.8"
  }
 },
 "nbformat": 4,
 "nbformat_minor": 2
}
