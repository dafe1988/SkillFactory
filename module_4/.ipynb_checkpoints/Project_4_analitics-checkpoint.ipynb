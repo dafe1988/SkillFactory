{
 "cells": [
  {
   "cell_type": "markdown",
   "id": "ebdc6534",
   "metadata": {},
   "source": [
    "# Project 4 SQL\n",
    "# Авиарейсы без потерь\n",
    "### Выполнила: Фесенко Дарья DSRP-52"
   ]
  },
  {
   "cell_type": "markdown",
   "id": "6a2f0b65",
   "metadata": {},
   "source": [
    "##### Итак, мы собрали датасет по рейсам из Анапы за зимний период - за декабрь 2016г, январь 2017г и февраль 2017г. Теперь нам надо провести анализ прибыльности и предложить решение по оптимизации расходов\n",
    "Нам не хватает информации для рассчета себестоимости перелета для туроператора. Но мы вполне можем получить необходимые данные из публичных источников\n",
    "Цены на авиаГСМ мы можем получить с сайта Министерства Транспорта Российской Федерации Федерального Агенства Воздушного Транспорта Росавиации https://favt.gov.ru/dejatelnost-ajeroporty-i-ajerodromy-ceny-na-aviagsm/\n",
    "В аэропорту Анапы стоимость авиатоплива ТС-1 составила:\n",
    "* декабрь 2016г - 38 867 руб/т\n",
    "* январь 2017г - 41 435 руб/т\n",
    "* февраль 2017 - 39 553 руб/т\n",
    "\n",
    "Также нам необходимы данные по расходу топлива. Нас интересуют данные по самолетам моделей: Boeing 737-300 и Sukhoi Superjet-100. В источнике http://newsruss.ru \n",
    "\n",
    "* Boeing 737-300: удельный расход топлива — 22,5 г/пасс.-км или примерно 26 г/пасс.-км (на маршруте 925 км), часовой расход топлива — 2400 кг\n",
    "\n",
    "Для характеристики топливной эффективности самолётов гражданской авиации используется отношение расхода топлива на 1 км расстояния к количеству пассажиров, которое часто также называется удельным расходом топлива.\n",
    "\n",
    "* Sukhoi Superjet 100: расчётный расход топлива на крейсерском режиме с 95 пассажирскими местами — 1700 кг/ч\n",
    "\n",
    "Теперь мы можем посчитать себестоимость перелетов\n",
    "\n",
    "PS Кстати, интересный момент по суперджетам. По нему практически нет внятной информации, почему то нет официальной статистики нормальной по расходу топлива, отчего плодятся и множатся всякие конспирации и домыслы вокруг этой темы "
   ]
  },
  {
   "cell_type": "markdown",
   "id": "771fb629",
   "metadata": {},
   "source": [
    "### Загрузим необходимые библиотеки"
   ]
  },
  {
   "cell_type": "code",
   "execution_count": 7,
   "id": "3fb277f8",
   "metadata": {},
   "outputs": [
    {
     "data": {
      "text/html": [
       "        <script type=\"text/javascript\">\n",
       "        window.PlotlyConfig = {MathJaxConfig: 'local'};\n",
       "        if (window.MathJax) {MathJax.Hub.Config({SVG: {font: \"STIX-Web\"}});}\n",
       "        if (typeof require !== 'undefined') {\n",
       "        require.undef(\"plotly\");\n",
       "        requirejs.config({\n",
       "            paths: {\n",
       "                'plotly': ['https://cdn.plot.ly/plotly-2.2.0.min']\n",
       "            }\n",
       "        });\n",
       "        require(['plotly'], function(Plotly) {\n",
       "            window._Plotly = Plotly;\n",
       "        });\n",
       "        }\n",
       "        </script>\n",
       "        "
      ]
     },
     "metadata": {},
     "output_type": "display_data"
    },
    {
     "data": {
      "text/html": [
       "        <script type=\"text/javascript\">\n",
       "        window.PlotlyConfig = {MathJaxConfig: 'local'};\n",
       "        if (window.MathJax) {MathJax.Hub.Config({SVG: {font: \"STIX-Web\"}});}\n",
       "        if (typeof require !== 'undefined') {\n",
       "        require.undef(\"plotly\");\n",
       "        requirejs.config({\n",
       "            paths: {\n",
       "                'plotly': ['https://cdn.plot.ly/plotly-2.2.0.min']\n",
       "            }\n",
       "        });\n",
       "        require(['plotly'], function(Plotly) {\n",
       "            window._Plotly = Plotly;\n",
       "        });\n",
       "        }\n",
       "        </script>\n",
       "        "
      ]
     },
     "metadata": {},
     "output_type": "display_data"
    }
   ],
   "source": [
    "import pandas as pd\n",
    "import datetime\n",
    "import numpy as np\n",
    "from math import radians, sin, cos, asin, sqrt\n",
    "import matplotlib.pyplot as plt\n",
    "from plotly.subplots import make_subplots\n",
    "import cufflinks as cf\n",
    "import plotly.figure_factory as ff\n",
    "from plotly.offline import download_plotlyjs, init_notebook_mode, plot, iplot\n",
    "import plotly.express as px\n",
    "%matplotlib inline\n",
    "\n",
    "init_notebook_mode(connected=True)\n",
    "cf.go_offline()\n",
    "pd.set_option('display.max_columns', 100)"
   ]
  },
  {
   "cell_type": "markdown",
   "id": "6a775298",
   "metadata": {},
   "source": [
    "### Загрузим датасет"
   ]
  },
  {
   "cell_type": "code",
   "execution_count": 26,
   "id": "81cecad4",
   "metadata": {},
   "outputs": [
    {
     "name": "stdout",
     "output_type": "stream",
     "text": [
      "<class 'pandas.core.frame.DataFrame'>\n",
      "RangeIndex: 180 entries, 0 to 179\n",
      "Data columns (total 36 columns):\n",
      " #   Column                  Non-Null Count  Dtype  \n",
      "---  ------                  --------------  -----  \n",
      " 0   flight_id               180 non-null    int64  \n",
      " 1   flight_no               180 non-null    object \n",
      " 2   scheduled_departure     180 non-null    object \n",
      " 3   actual_departure        180 non-null    object \n",
      " 4   dep_dow                 180 non-null    float64\n",
      " 5   dep_month               180 non-null    float64\n",
      " 6   dep_day                 180 non-null    float64\n",
      " 7   dep_hour                180 non-null    float64\n",
      " 8   sheduled_duration       180 non-null    float64\n",
      " 9   actual_duration         180 non-null    float64\n",
      " 10  departure_city          180 non-null    object \n",
      " 11  arrival_city            180 non-null    object \n",
      " 12  departure_lat           180 non-null    float64\n",
      " 13  departure_lon           180 non-null    float64\n",
      " 14  arrival_lat             180 non-null    float64\n",
      " 15  arrival_lon             180 non-null    float64\n",
      " 16  aircraft_code           180 non-null    object \n",
      " 17  model                   180 non-null    object \n",
      " 18  range                   180 non-null    int64  \n",
      " 19  count_tickets           180 non-null    int64  \n",
      " 20  how_full                180 non-null    float64\n",
      " 21  bus_class_tickets       180 non-null    int64  \n",
      " 22  econ_class_tickets      180 non-null    int64  \n",
      " 23  ac_capacity             180 non-null    int64  \n",
      " 24  bus_class_capacity      180 non-null    int64  \n",
      " 25  econ_class_capacity     180 non-null    int64  \n",
      " 26  total_amount_by_flight  180 non-null    float64\n",
      " 27  avg_amount_by_flight    180 non-null    float64\n",
      " 28  min_amount_by_flight    180 non-null    float64\n",
      " 29  max_amount_by_flight    180 non-null    float64\n",
      " 30  count_36600             180 non-null    int64  \n",
      " 31  count_12200             180 non-null    int64  \n",
      " 32  count_13400             180 non-null    int64  \n",
      " 33  count_18900             180 non-null    int64  \n",
      " 34  count_6300              180 non-null    int64  \n",
      " 35  count_6900              180 non-null    int64  \n",
      "dtypes: float64(15), int64(14), object(7)\n",
      "memory usage: 50.8+ KB\n"
     ]
    },
    {
     "data": {
      "text/plain": [
       "None"
      ]
     },
     "metadata": {},
     "output_type": "display_data"
    },
    {
     "data": {
      "text/html": [
       "<div>\n",
       "<style scoped>\n",
       "    .dataframe tbody tr th:only-of-type {\n",
       "        vertical-align: middle;\n",
       "    }\n",
       "\n",
       "    .dataframe tbody tr th {\n",
       "        vertical-align: top;\n",
       "    }\n",
       "\n",
       "    .dataframe thead th {\n",
       "        text-align: right;\n",
       "    }\n",
       "</style>\n",
       "<table border=\"1\" class=\"dataframe\">\n",
       "  <thead>\n",
       "    <tr style=\"text-align: right;\">\n",
       "      <th></th>\n",
       "      <th>flight_id</th>\n",
       "      <th>flight_no</th>\n",
       "      <th>scheduled_departure</th>\n",
       "      <th>actual_departure</th>\n",
       "      <th>dep_dow</th>\n",
       "      <th>dep_month</th>\n",
       "      <th>dep_day</th>\n",
       "      <th>dep_hour</th>\n",
       "      <th>sheduled_duration</th>\n",
       "      <th>actual_duration</th>\n",
       "      <th>departure_city</th>\n",
       "      <th>arrival_city</th>\n",
       "      <th>departure_lat</th>\n",
       "      <th>departure_lon</th>\n",
       "      <th>arrival_lat</th>\n",
       "      <th>arrival_lon</th>\n",
       "      <th>aircraft_code</th>\n",
       "      <th>model</th>\n",
       "      <th>range</th>\n",
       "      <th>count_tickets</th>\n",
       "      <th>how_full</th>\n",
       "      <th>bus_class_tickets</th>\n",
       "      <th>econ_class_tickets</th>\n",
       "      <th>ac_capacity</th>\n",
       "      <th>bus_class_capacity</th>\n",
       "      <th>econ_class_capacity</th>\n",
       "      <th>total_amount_by_flight</th>\n",
       "      <th>avg_amount_by_flight</th>\n",
       "      <th>min_amount_by_flight</th>\n",
       "      <th>max_amount_by_flight</th>\n",
       "      <th>count_36600</th>\n",
       "      <th>count_12200</th>\n",
       "      <th>count_13400</th>\n",
       "      <th>count_18900</th>\n",
       "      <th>count_6300</th>\n",
       "      <th>count_6900</th>\n",
       "    </tr>\n",
       "  </thead>\n",
       "  <tbody>\n",
       "    <tr>\n",
       "      <th>0</th>\n",
       "      <td>136187</td>\n",
       "      <td>PG0252</td>\n",
       "      <td>2016-12-01</td>\n",
       "      <td>2016-12-01</td>\n",
       "      <td>4.0</td>\n",
       "      <td>12.0</td>\n",
       "      <td>1.0</td>\n",
       "      <td>10.0</td>\n",
       "      <td>100.0</td>\n",
       "      <td>100.0</td>\n",
       "      <td>Anapa</td>\n",
       "      <td>Moscow</td>\n",
       "      <td>45.002102</td>\n",
       "      <td>37.347301</td>\n",
       "      <td>55.972599</td>\n",
       "      <td>37.414600</td>\n",
       "      <td>733</td>\n",
       "      <td>Boeing 737-300</td>\n",
       "      <td>4200</td>\n",
       "      <td>129</td>\n",
       "      <td>0.992308</td>\n",
       "      <td>12</td>\n",
       "      <td>117</td>\n",
       "      <td>130</td>\n",
       "      <td>12</td>\n",
       "      <td>118</td>\n",
       "      <td>1873800.0</td>\n",
       "      <td>14525.581395</td>\n",
       "      <td>12200.0</td>\n",
       "      <td>36600.0</td>\n",
       "      <td>12</td>\n",
       "      <td>111</td>\n",
       "      <td>6</td>\n",
       "      <td>0</td>\n",
       "      <td>0</td>\n",
       "      <td>0</td>\n",
       "    </tr>\n",
       "    <tr>\n",
       "      <th>1</th>\n",
       "      <td>136698</td>\n",
       "      <td>PG0480</td>\n",
       "      <td>2016-12-01</td>\n",
       "      <td>2016-12-01</td>\n",
       "      <td>4.0</td>\n",
       "      <td>12.0</td>\n",
       "      <td>1.0</td>\n",
       "      <td>9.0</td>\n",
       "      <td>50.0</td>\n",
       "      <td>49.0</td>\n",
       "      <td>Anapa</td>\n",
       "      <td>Belgorod</td>\n",
       "      <td>45.002102</td>\n",
       "      <td>37.347301</td>\n",
       "      <td>50.643799</td>\n",
       "      <td>36.590099</td>\n",
       "      <td>SU9</td>\n",
       "      <td>Sukhoi Superjet-100</td>\n",
       "      <td>3000</td>\n",
       "      <td>94</td>\n",
       "      <td>0.969072</td>\n",
       "      <td>12</td>\n",
       "      <td>82</td>\n",
       "      <td>97</td>\n",
       "      <td>12</td>\n",
       "      <td>85</td>\n",
       "      <td>746400.0</td>\n",
       "      <td>7940.425532</td>\n",
       "      <td>6300.0</td>\n",
       "      <td>18900.0</td>\n",
       "      <td>0</td>\n",
       "      <td>0</td>\n",
       "      <td>0</td>\n",
       "      <td>12</td>\n",
       "      <td>77</td>\n",
       "      <td>5</td>\n",
       "    </tr>\n",
       "    <tr>\n",
       "      <th>2</th>\n",
       "      <td>136474</td>\n",
       "      <td>PG0252</td>\n",
       "      <td>2016-12-02</td>\n",
       "      <td>2016-12-02</td>\n",
       "      <td>5.0</td>\n",
       "      <td>12.0</td>\n",
       "      <td>2.0</td>\n",
       "      <td>10.0</td>\n",
       "      <td>100.0</td>\n",
       "      <td>98.0</td>\n",
       "      <td>Anapa</td>\n",
       "      <td>Moscow</td>\n",
       "      <td>45.002102</td>\n",
       "      <td>37.347301</td>\n",
       "      <td>55.972599</td>\n",
       "      <td>37.414600</td>\n",
       "      <td>733</td>\n",
       "      <td>Boeing 737-300</td>\n",
       "      <td>4200</td>\n",
       "      <td>130</td>\n",
       "      <td>1.000000</td>\n",
       "      <td>12</td>\n",
       "      <td>118</td>\n",
       "      <td>130</td>\n",
       "      <td>12</td>\n",
       "      <td>118</td>\n",
       "      <td>1886000.0</td>\n",
       "      <td>14507.692308</td>\n",
       "      <td>12200.0</td>\n",
       "      <td>36600.0</td>\n",
       "      <td>12</td>\n",
       "      <td>112</td>\n",
       "      <td>6</td>\n",
       "      <td>0</td>\n",
       "      <td>0</td>\n",
       "      <td>0</td>\n",
       "    </tr>\n",
       "    <tr>\n",
       "      <th>3</th>\n",
       "      <td>136774</td>\n",
       "      <td>PG0480</td>\n",
       "      <td>2016-12-02</td>\n",
       "      <td>2016-12-02</td>\n",
       "      <td>5.0</td>\n",
       "      <td>12.0</td>\n",
       "      <td>2.0</td>\n",
       "      <td>9.0</td>\n",
       "      <td>50.0</td>\n",
       "      <td>50.0</td>\n",
       "      <td>Anapa</td>\n",
       "      <td>Belgorod</td>\n",
       "      <td>45.002102</td>\n",
       "      <td>37.347301</td>\n",
       "      <td>50.643799</td>\n",
       "      <td>36.590099</td>\n",
       "      <td>SU9</td>\n",
       "      <td>Sukhoi Superjet-100</td>\n",
       "      <td>3000</td>\n",
       "      <td>93</td>\n",
       "      <td>0.958763</td>\n",
       "      <td>12</td>\n",
       "      <td>81</td>\n",
       "      <td>97</td>\n",
       "      <td>12</td>\n",
       "      <td>85</td>\n",
       "      <td>740100.0</td>\n",
       "      <td>7958.064516</td>\n",
       "      <td>6300.0</td>\n",
       "      <td>18900.0</td>\n",
       "      <td>0</td>\n",
       "      <td>0</td>\n",
       "      <td>0</td>\n",
       "      <td>12</td>\n",
       "      <td>76</td>\n",
       "      <td>5</td>\n",
       "    </tr>\n",
       "    <tr>\n",
       "      <th>4</th>\n",
       "      <td>136391</td>\n",
       "      <td>PG0252</td>\n",
       "      <td>2016-12-03</td>\n",
       "      <td>2016-12-03</td>\n",
       "      <td>6.0</td>\n",
       "      <td>12.0</td>\n",
       "      <td>3.0</td>\n",
       "      <td>10.0</td>\n",
       "      <td>100.0</td>\n",
       "      <td>100.0</td>\n",
       "      <td>Anapa</td>\n",
       "      <td>Moscow</td>\n",
       "      <td>45.002102</td>\n",
       "      <td>37.347301</td>\n",
       "      <td>55.972599</td>\n",
       "      <td>37.414600</td>\n",
       "      <td>733</td>\n",
       "      <td>Boeing 737-300</td>\n",
       "      <td>4200</td>\n",
       "      <td>107</td>\n",
       "      <td>0.823077</td>\n",
       "      <td>10</td>\n",
       "      <td>97</td>\n",
       "      <td>130</td>\n",
       "      <td>12</td>\n",
       "      <td>118</td>\n",
       "      <td>1556600.0</td>\n",
       "      <td>14547.663551</td>\n",
       "      <td>12200.0</td>\n",
       "      <td>36600.0</td>\n",
       "      <td>10</td>\n",
       "      <td>91</td>\n",
       "      <td>6</td>\n",
       "      <td>0</td>\n",
       "      <td>0</td>\n",
       "      <td>0</td>\n",
       "    </tr>\n",
       "    <tr>\n",
       "      <th>...</th>\n",
       "      <td>...</td>\n",
       "      <td>...</td>\n",
       "      <td>...</td>\n",
       "      <td>...</td>\n",
       "      <td>...</td>\n",
       "      <td>...</td>\n",
       "      <td>...</td>\n",
       "      <td>...</td>\n",
       "      <td>...</td>\n",
       "      <td>...</td>\n",
       "      <td>...</td>\n",
       "      <td>...</td>\n",
       "      <td>...</td>\n",
       "      <td>...</td>\n",
       "      <td>...</td>\n",
       "      <td>...</td>\n",
       "      <td>...</td>\n",
       "      <td>...</td>\n",
       "      <td>...</td>\n",
       "      <td>...</td>\n",
       "      <td>...</td>\n",
       "      <td>...</td>\n",
       "      <td>...</td>\n",
       "      <td>...</td>\n",
       "      <td>...</td>\n",
       "      <td>...</td>\n",
       "      <td>...</td>\n",
       "      <td>...</td>\n",
       "      <td>...</td>\n",
       "      <td>...</td>\n",
       "      <td>...</td>\n",
       "      <td>...</td>\n",
       "      <td>...</td>\n",
       "      <td>...</td>\n",
       "      <td>...</td>\n",
       "      <td>...</td>\n",
       "    </tr>\n",
       "    <tr>\n",
       "      <th>175</th>\n",
       "      <td>136802</td>\n",
       "      <td>PG0480</td>\n",
       "      <td>2017-02-26</td>\n",
       "      <td>2017-02-26</td>\n",
       "      <td>0.0</td>\n",
       "      <td>2.0</td>\n",
       "      <td>26.0</td>\n",
       "      <td>9.0</td>\n",
       "      <td>50.0</td>\n",
       "      <td>50.0</td>\n",
       "      <td>Anapa</td>\n",
       "      <td>Belgorod</td>\n",
       "      <td>45.002102</td>\n",
       "      <td>37.347301</td>\n",
       "      <td>50.643799</td>\n",
       "      <td>36.590099</td>\n",
       "      <td>SU9</td>\n",
       "      <td>Sukhoi Superjet-100</td>\n",
       "      <td>3000</td>\n",
       "      <td>96</td>\n",
       "      <td>0.989691</td>\n",
       "      <td>11</td>\n",
       "      <td>85</td>\n",
       "      <td>97</td>\n",
       "      <td>12</td>\n",
       "      <td>85</td>\n",
       "      <td>746400.0</td>\n",
       "      <td>7775.000000</td>\n",
       "      <td>6300.0</td>\n",
       "      <td>18900.0</td>\n",
       "      <td>0</td>\n",
       "      <td>0</td>\n",
       "      <td>0</td>\n",
       "      <td>11</td>\n",
       "      <td>80</td>\n",
       "      <td>5</td>\n",
       "    </tr>\n",
       "    <tr>\n",
       "      <th>176</th>\n",
       "      <td>136266</td>\n",
       "      <td>PG0252</td>\n",
       "      <td>2017-02-27</td>\n",
       "      <td>2017-02-27</td>\n",
       "      <td>1.0</td>\n",
       "      <td>2.0</td>\n",
       "      <td>27.0</td>\n",
       "      <td>10.0</td>\n",
       "      <td>100.0</td>\n",
       "      <td>100.0</td>\n",
       "      <td>Anapa</td>\n",
       "      <td>Moscow</td>\n",
       "      <td>45.002102</td>\n",
       "      <td>37.347301</td>\n",
       "      <td>55.972599</td>\n",
       "      <td>37.414600</td>\n",
       "      <td>733</td>\n",
       "      <td>Boeing 737-300</td>\n",
       "      <td>4200</td>\n",
       "      <td>108</td>\n",
       "      <td>0.830769</td>\n",
       "      <td>10</td>\n",
       "      <td>98</td>\n",
       "      <td>130</td>\n",
       "      <td>12</td>\n",
       "      <td>118</td>\n",
       "      <td>1566400.0</td>\n",
       "      <td>14503.703704</td>\n",
       "      <td>12200.0</td>\n",
       "      <td>36600.0</td>\n",
       "      <td>10</td>\n",
       "      <td>94</td>\n",
       "      <td>4</td>\n",
       "      <td>0</td>\n",
       "      <td>0</td>\n",
       "      <td>0</td>\n",
       "    </tr>\n",
       "    <tr>\n",
       "      <th>177</th>\n",
       "      <td>136953</td>\n",
       "      <td>PG0480</td>\n",
       "      <td>2017-02-27</td>\n",
       "      <td>2017-02-27</td>\n",
       "      <td>1.0</td>\n",
       "      <td>2.0</td>\n",
       "      <td>27.0</td>\n",
       "      <td>9.0</td>\n",
       "      <td>50.0</td>\n",
       "      <td>50.0</td>\n",
       "      <td>Anapa</td>\n",
       "      <td>Belgorod</td>\n",
       "      <td>45.002102</td>\n",
       "      <td>37.347301</td>\n",
       "      <td>50.643799</td>\n",
       "      <td>36.590099</td>\n",
       "      <td>SU9</td>\n",
       "      <td>Sukhoi Superjet-100</td>\n",
       "      <td>3000</td>\n",
       "      <td>97</td>\n",
       "      <td>1.000000</td>\n",
       "      <td>12</td>\n",
       "      <td>85</td>\n",
       "      <td>97</td>\n",
       "      <td>12</td>\n",
       "      <td>85</td>\n",
       "      <td>765300.0</td>\n",
       "      <td>7889.690722</td>\n",
       "      <td>6300.0</td>\n",
       "      <td>18900.0</td>\n",
       "      <td>0</td>\n",
       "      <td>0</td>\n",
       "      <td>0</td>\n",
       "      <td>12</td>\n",
       "      <td>80</td>\n",
       "      <td>5</td>\n",
       "    </tr>\n",
       "    <tr>\n",
       "      <th>178</th>\n",
       "      <td>136215</td>\n",
       "      <td>PG0252</td>\n",
       "      <td>2017-02-28</td>\n",
       "      <td>2017-02-28</td>\n",
       "      <td>2.0</td>\n",
       "      <td>2.0</td>\n",
       "      <td>28.0</td>\n",
       "      <td>10.0</td>\n",
       "      <td>100.0</td>\n",
       "      <td>100.0</td>\n",
       "      <td>Anapa</td>\n",
       "      <td>Moscow</td>\n",
       "      <td>45.002102</td>\n",
       "      <td>37.347301</td>\n",
       "      <td>55.972599</td>\n",
       "      <td>37.414600</td>\n",
       "      <td>733</td>\n",
       "      <td>Boeing 737-300</td>\n",
       "      <td>4200</td>\n",
       "      <td>114</td>\n",
       "      <td>0.876923</td>\n",
       "      <td>11</td>\n",
       "      <td>103</td>\n",
       "      <td>130</td>\n",
       "      <td>12</td>\n",
       "      <td>118</td>\n",
       "      <td>1664000.0</td>\n",
       "      <td>14596.491228</td>\n",
       "      <td>12200.0</td>\n",
       "      <td>36600.0</td>\n",
       "      <td>11</td>\n",
       "      <td>99</td>\n",
       "      <td>4</td>\n",
       "      <td>0</td>\n",
       "      <td>0</td>\n",
       "      <td>0</td>\n",
       "    </tr>\n",
       "    <tr>\n",
       "      <th>179</th>\n",
       "      <td>136844</td>\n",
       "      <td>PG0480</td>\n",
       "      <td>2017-02-28</td>\n",
       "      <td>2017-02-28</td>\n",
       "      <td>2.0</td>\n",
       "      <td>2.0</td>\n",
       "      <td>28.0</td>\n",
       "      <td>9.0</td>\n",
       "      <td>50.0</td>\n",
       "      <td>50.0</td>\n",
       "      <td>Anapa</td>\n",
       "      <td>Belgorod</td>\n",
       "      <td>45.002102</td>\n",
       "      <td>37.347301</td>\n",
       "      <td>50.643799</td>\n",
       "      <td>36.590099</td>\n",
       "      <td>SU9</td>\n",
       "      <td>Sukhoi Superjet-100</td>\n",
       "      <td>3000</td>\n",
       "      <td>79</td>\n",
       "      <td>0.814433</td>\n",
       "      <td>6</td>\n",
       "      <td>73</td>\n",
       "      <td>97</td>\n",
       "      <td>12</td>\n",
       "      <td>85</td>\n",
       "      <td>575100.0</td>\n",
       "      <td>7279.746835</td>\n",
       "      <td>6300.0</td>\n",
       "      <td>18900.0</td>\n",
       "      <td>0</td>\n",
       "      <td>0</td>\n",
       "      <td>0</td>\n",
       "      <td>6</td>\n",
       "      <td>70</td>\n",
       "      <td>3</td>\n",
       "    </tr>\n",
       "  </tbody>\n",
       "</table>\n",
       "<p>180 rows × 36 columns</p>\n",
       "</div>"
      ],
      "text/plain": [
       "     flight_id flight_no scheduled_departure actual_departure  dep_dow  \\\n",
       "0       136187    PG0252          2016-12-01       2016-12-01      4.0   \n",
       "1       136698    PG0480          2016-12-01       2016-12-01      4.0   \n",
       "2       136474    PG0252          2016-12-02       2016-12-02      5.0   \n",
       "3       136774    PG0480          2016-12-02       2016-12-02      5.0   \n",
       "4       136391    PG0252          2016-12-03       2016-12-03      6.0   \n",
       "..         ...       ...                 ...              ...      ...   \n",
       "175     136802    PG0480          2017-02-26       2017-02-26      0.0   \n",
       "176     136266    PG0252          2017-02-27       2017-02-27      1.0   \n",
       "177     136953    PG0480          2017-02-27       2017-02-27      1.0   \n",
       "178     136215    PG0252          2017-02-28       2017-02-28      2.0   \n",
       "179     136844    PG0480          2017-02-28       2017-02-28      2.0   \n",
       "\n",
       "     dep_month  dep_day  dep_hour  sheduled_duration  actual_duration  \\\n",
       "0         12.0      1.0      10.0              100.0            100.0   \n",
       "1         12.0      1.0       9.0               50.0             49.0   \n",
       "2         12.0      2.0      10.0              100.0             98.0   \n",
       "3         12.0      2.0       9.0               50.0             50.0   \n",
       "4         12.0      3.0      10.0              100.0            100.0   \n",
       "..         ...      ...       ...                ...              ...   \n",
       "175        2.0     26.0       9.0               50.0             50.0   \n",
       "176        2.0     27.0      10.0              100.0            100.0   \n",
       "177        2.0     27.0       9.0               50.0             50.0   \n",
       "178        2.0     28.0      10.0              100.0            100.0   \n",
       "179        2.0     28.0       9.0               50.0             50.0   \n",
       "\n",
       "    departure_city arrival_city  departure_lat  departure_lon  arrival_lat  \\\n",
       "0            Anapa       Moscow      45.002102      37.347301    55.972599   \n",
       "1            Anapa     Belgorod      45.002102      37.347301    50.643799   \n",
       "2            Anapa       Moscow      45.002102      37.347301    55.972599   \n",
       "3            Anapa     Belgorod      45.002102      37.347301    50.643799   \n",
       "4            Anapa       Moscow      45.002102      37.347301    55.972599   \n",
       "..             ...          ...            ...            ...          ...   \n",
       "175          Anapa     Belgorod      45.002102      37.347301    50.643799   \n",
       "176          Anapa       Moscow      45.002102      37.347301    55.972599   \n",
       "177          Anapa     Belgorod      45.002102      37.347301    50.643799   \n",
       "178          Anapa       Moscow      45.002102      37.347301    55.972599   \n",
       "179          Anapa     Belgorod      45.002102      37.347301    50.643799   \n",
       "\n",
       "     arrival_lon aircraft_code                model  range  count_tickets  \\\n",
       "0      37.414600           733       Boeing 737-300   4200            129   \n",
       "1      36.590099           SU9  Sukhoi Superjet-100   3000             94   \n",
       "2      37.414600           733       Boeing 737-300   4200            130   \n",
       "3      36.590099           SU9  Sukhoi Superjet-100   3000             93   \n",
       "4      37.414600           733       Boeing 737-300   4200            107   \n",
       "..           ...           ...                  ...    ...            ...   \n",
       "175    36.590099           SU9  Sukhoi Superjet-100   3000             96   \n",
       "176    37.414600           733       Boeing 737-300   4200            108   \n",
       "177    36.590099           SU9  Sukhoi Superjet-100   3000             97   \n",
       "178    37.414600           733       Boeing 737-300   4200            114   \n",
       "179    36.590099           SU9  Sukhoi Superjet-100   3000             79   \n",
       "\n",
       "     how_full  bus_class_tickets  econ_class_tickets  ac_capacity  \\\n",
       "0    0.992308                 12                 117          130   \n",
       "1    0.969072                 12                  82           97   \n",
       "2    1.000000                 12                 118          130   \n",
       "3    0.958763                 12                  81           97   \n",
       "4    0.823077                 10                  97          130   \n",
       "..        ...                ...                 ...          ...   \n",
       "175  0.989691                 11                  85           97   \n",
       "176  0.830769                 10                  98          130   \n",
       "177  1.000000                 12                  85           97   \n",
       "178  0.876923                 11                 103          130   \n",
       "179  0.814433                  6                  73           97   \n",
       "\n",
       "     bus_class_capacity  econ_class_capacity  total_amount_by_flight  \\\n",
       "0                    12                  118               1873800.0   \n",
       "1                    12                   85                746400.0   \n",
       "2                    12                  118               1886000.0   \n",
       "3                    12                   85                740100.0   \n",
       "4                    12                  118               1556600.0   \n",
       "..                  ...                  ...                     ...   \n",
       "175                  12                   85                746400.0   \n",
       "176                  12                  118               1566400.0   \n",
       "177                  12                   85                765300.0   \n",
       "178                  12                  118               1664000.0   \n",
       "179                  12                   85                575100.0   \n",
       "\n",
       "     avg_amount_by_flight  min_amount_by_flight  max_amount_by_flight  \\\n",
       "0            14525.581395               12200.0               36600.0   \n",
       "1             7940.425532                6300.0               18900.0   \n",
       "2            14507.692308               12200.0               36600.0   \n",
       "3             7958.064516                6300.0               18900.0   \n",
       "4            14547.663551               12200.0               36600.0   \n",
       "..                    ...                   ...                   ...   \n",
       "175           7775.000000                6300.0               18900.0   \n",
       "176          14503.703704               12200.0               36600.0   \n",
       "177           7889.690722                6300.0               18900.0   \n",
       "178          14596.491228               12200.0               36600.0   \n",
       "179           7279.746835                6300.0               18900.0   \n",
       "\n",
       "     count_36600  count_12200  count_13400  count_18900  count_6300  \\\n",
       "0             12          111            6            0           0   \n",
       "1              0            0            0           12          77   \n",
       "2             12          112            6            0           0   \n",
       "3              0            0            0           12          76   \n",
       "4             10           91            6            0           0   \n",
       "..           ...          ...          ...          ...         ...   \n",
       "175            0            0            0           11          80   \n",
       "176           10           94            4            0           0   \n",
       "177            0            0            0           12          80   \n",
       "178           11           99            4            0           0   \n",
       "179            0            0            0            6          70   \n",
       "\n",
       "     count_6900  \n",
       "0             0  \n",
       "1             5  \n",
       "2             0  \n",
       "3             5  \n",
       "4             0  \n",
       "..          ...  \n",
       "175           5  \n",
       "176           0  \n",
       "177           5  \n",
       "178           0  \n",
       "179           3  \n",
       "\n",
       "[180 rows x 36 columns]"
      ]
     },
     "execution_count": 26,
     "metadata": {},
     "output_type": "execute_result"
    }
   ],
   "source": [
    "df = pd.read_csv('project_4_ds.csv')\n",
    "display(df.info())\n",
    "df"
   ]
  },
  {
   "cell_type": "markdown",
   "id": "ccc7d02d",
   "metadata": {},
   "source": [
    "### Итак, в нашем распоряжении следующие данные:\n",
    "\n",
    "* flight_id -- идентификатор перелета\n",
    "* flight_no -- номер рейса (направление)\n",
    "* scheduled_departure -- запланированная дата вылета\n",
    "* actual_departure -- фактическая дата вылета\n",
    "* dep_dow -- день недели актуальной даты вылета, где 0 - воскресенье, 6 - суббота\n",
    "* dep_month -- месяц актуальной даты вылета\n",
    "* dep_day -- день месяца даты вылета\n",
    "* dep_hour -- час времени вылета (24 часовой формат)\n",
    "* sheduled_duration -- запланированное время перелета (минуты)\n",
    "* actual_duration -- реальное время перелета (минуты)\n",
    "* departure_city -- город вылета (Анапа)\n",
    "* arrival_city -- город прилета\n",
    "* departure_lat -- latitude аэропорта отправления\n",
    "* departure_lon -- longitude аэропорта отправления\n",
    "* arrival_lat -- latitude аэропорта прилета\n",
    "* arrival_lon -- longitude аэропорта прилета\n",
    "* aircraft_code -- код самолета\n",
    "* model -- модель самолета\n",
    "* range -- ранг самолета\n",
    "* count_tickets -- количество купленных на этот рейс билетов\n",
    "* how_full -- заполненность рейса - отношение количества купленных билетов к общей вместимости самолета данной модели\n",
    "* bus_class_tickets -- количество купленных билетов бизнесс класса на рейсе\n",
    "* econ_class_tickets -- количество купленных билетов эконом класса на рейсе\n",
    "* ac_capacity -- общая вместимость этого самолета\n",
    "* bus_class_capacity -- вместимость бизнес класса самолета этого типа\n",
    "* econ_class_capacity -- вместимость эконом класса самолета этого типа\n",
    "* total_amount_by_flight -- суммарная стоимость всех билетов этого рейса\n",
    "* avg_amount_by_flight -- средняя стоимость билета этого рейса\n",
    "* min_amount_by_flight -- минимальная стоимость билета этого рейса\n",
    "* max_amount_by_flight -- максимальная стоимость билета этого рейса\n",
    "* count_36600 -- количество билетов на рейсе за 36600\n",
    "* count_12200 -- количество билетов на рейсе за 12200\n",
    "* count_13400 -- количество билетов на рейсе за 13400\n",
    "* count_18900 -- количество билетов на рейсе за 18900\n",
    "* count_6300 -- количество билетов на рейсе за 6300\n",
    "* count_6900 -- количество билетов на рейсе за 6900"
   ]
  },
  {
   "cell_type": "markdown",
   "id": "20c10277",
   "metadata": {},
   "source": [
    "### Найдем расстояние между аэропортами"
   ]
  },
  {
   "cell_type": "code",
   "execution_count": 27,
   "id": "35fcad82",
   "metadata": {},
   "outputs": [
    {
     "data": {
      "text/plain": [
       "1219.872758    90\n",
       "629.860554     90\n",
       "Name: distance, dtype: int64"
      ]
     },
     "execution_count": 27,
     "metadata": {},
     "output_type": "execute_result"
    }
   ],
   "source": [
    "def haversine(lon1, lat1, lon2, lat2):\n",
    "    lon1, lat1, lon2, lat2 = map(radians, [lon1, lat1, lon2, lat2])\n",
    "    dlon = lon2 - lon1\n",
    "    dlat = lat2 - lat1\n",
    "    a = sin(dlat/2)**2 + cos(lat1) * cos(lat2) * sin(dlon/2) ** 2\n",
    "    c = 2 * asin(sqrt(a))\n",
    "    earth_radius = 6371 \n",
    "    return c * earth_radius\n",
    "\n",
    "df['distance'] = df.apply(lambda row: \n",
    "                                      haversine(lon1 = row['departure_lon'], \n",
    "                                                lat1 = row['departure_lat'],\n",
    "                                                lon2 = row['arrival_lon'], \n",
    "                                                lat2 = row['arrival_lat']), \n",
    "                                      axis=1)\n",
    "df['distance'].value_counts()"
   ]
  },
  {
   "cell_type": "markdown",
   "id": "b55aebbe",
   "metadata": {},
   "source": [
    "### Как видим, у нас 90 рейсов в Москву и 90 рейсов в Белгород, и теперь мы знаем расстояние между Анапой и этими городами и можем посчитать расходы на топливо на эти рейсы"
   ]
  },
  {
   "cell_type": "code",
   "execution_count": 28,
   "id": "8c6c6b65",
   "metadata": {},
   "outputs": [
    {
     "data": {
      "text/html": [
       "<div>\n",
       "<style scoped>\n",
       "    .dataframe tbody tr th:only-of-type {\n",
       "        vertical-align: middle;\n",
       "    }\n",
       "\n",
       "    .dataframe tbody tr th {\n",
       "        vertical-align: top;\n",
       "    }\n",
       "\n",
       "    .dataframe thead th {\n",
       "        text-align: right;\n",
       "    }\n",
       "</style>\n",
       "<table border=\"1\" class=\"dataframe\">\n",
       "  <thead>\n",
       "    <tr style=\"text-align: right;\">\n",
       "      <th></th>\n",
       "      <th>flight_id</th>\n",
       "      <th>flight_no</th>\n",
       "      <th>scheduled_departure</th>\n",
       "      <th>actual_departure</th>\n",
       "      <th>dep_dow</th>\n",
       "      <th>dep_month</th>\n",
       "      <th>dep_day</th>\n",
       "      <th>dep_hour</th>\n",
       "      <th>sheduled_duration</th>\n",
       "      <th>actual_duration</th>\n",
       "      <th>departure_city</th>\n",
       "      <th>arrival_city</th>\n",
       "      <th>departure_lat</th>\n",
       "      <th>departure_lon</th>\n",
       "      <th>arrival_lat</th>\n",
       "      <th>arrival_lon</th>\n",
       "      <th>aircraft_code</th>\n",
       "      <th>model</th>\n",
       "      <th>range</th>\n",
       "      <th>count_tickets</th>\n",
       "      <th>how_full</th>\n",
       "      <th>bus_class_tickets</th>\n",
       "      <th>econ_class_tickets</th>\n",
       "      <th>ac_capacity</th>\n",
       "      <th>bus_class_capacity</th>\n",
       "      <th>econ_class_capacity</th>\n",
       "      <th>total_amount_by_flight</th>\n",
       "      <th>avg_amount_by_flight</th>\n",
       "      <th>min_amount_by_flight</th>\n",
       "      <th>max_amount_by_flight</th>\n",
       "      <th>count_36600</th>\n",
       "      <th>count_12200</th>\n",
       "      <th>count_13400</th>\n",
       "      <th>count_18900</th>\n",
       "      <th>count_6300</th>\n",
       "      <th>count_6900</th>\n",
       "      <th>distance</th>\n",
       "      <th>flight_cost</th>\n",
       "    </tr>\n",
       "  </thead>\n",
       "  <tbody>\n",
       "    <tr>\n",
       "      <th>0</th>\n",
       "      <td>136187</td>\n",
       "      <td>PG0252</td>\n",
       "      <td>2016-12-01</td>\n",
       "      <td>2016-12-01</td>\n",
       "      <td>4.0</td>\n",
       "      <td>12.0</td>\n",
       "      <td>1.0</td>\n",
       "      <td>10.0</td>\n",
       "      <td>100.0</td>\n",
       "      <td>100.0</td>\n",
       "      <td>Anapa</td>\n",
       "      <td>Moscow</td>\n",
       "      <td>45.002102</td>\n",
       "      <td>37.347301</td>\n",
       "      <td>55.972599</td>\n",
       "      <td>37.414600</td>\n",
       "      <td>733</td>\n",
       "      <td>Boeing 737-300</td>\n",
       "      <td>4200</td>\n",
       "      <td>129</td>\n",
       "      <td>0.992308</td>\n",
       "      <td>12</td>\n",
       "      <td>117</td>\n",
       "      <td>130</td>\n",
       "      <td>12</td>\n",
       "      <td>118</td>\n",
       "      <td>1873800.0</td>\n",
       "      <td>14525.581395</td>\n",
       "      <td>12200.0</td>\n",
       "      <td>36600.0</td>\n",
       "      <td>12</td>\n",
       "      <td>111</td>\n",
       "      <td>6</td>\n",
       "      <td>0</td>\n",
       "      <td>0</td>\n",
       "      <td>0</td>\n",
       "      <td>1219.872758</td>\n",
       "      <td>159022.512718</td>\n",
       "    </tr>\n",
       "    <tr>\n",
       "      <th>1</th>\n",
       "      <td>136698</td>\n",
       "      <td>PG0480</td>\n",
       "      <td>2016-12-01</td>\n",
       "      <td>2016-12-01</td>\n",
       "      <td>4.0</td>\n",
       "      <td>12.0</td>\n",
       "      <td>1.0</td>\n",
       "      <td>9.0</td>\n",
       "      <td>50.0</td>\n",
       "      <td>49.0</td>\n",
       "      <td>Anapa</td>\n",
       "      <td>Belgorod</td>\n",
       "      <td>45.002102</td>\n",
       "      <td>37.347301</td>\n",
       "      <td>50.643799</td>\n",
       "      <td>36.590099</td>\n",
       "      <td>SU9</td>\n",
       "      <td>Sukhoi Superjet-100</td>\n",
       "      <td>3000</td>\n",
       "      <td>94</td>\n",
       "      <td>0.969072</td>\n",
       "      <td>12</td>\n",
       "      <td>82</td>\n",
       "      <td>97</td>\n",
       "      <td>12</td>\n",
       "      <td>85</td>\n",
       "      <td>746400.0</td>\n",
       "      <td>7940.425532</td>\n",
       "      <td>6300.0</td>\n",
       "      <td>18900.0</td>\n",
       "      <td>0</td>\n",
       "      <td>0</td>\n",
       "      <td>0</td>\n",
       "      <td>12</td>\n",
       "      <td>77</td>\n",
       "      <td>5</td>\n",
       "      <td>629.860554</td>\n",
       "      <td>53960.351667</td>\n",
       "    </tr>\n",
       "    <tr>\n",
       "      <th>2</th>\n",
       "      <td>136474</td>\n",
       "      <td>PG0252</td>\n",
       "      <td>2016-12-02</td>\n",
       "      <td>2016-12-02</td>\n",
       "      <td>5.0</td>\n",
       "      <td>12.0</td>\n",
       "      <td>2.0</td>\n",
       "      <td>10.0</td>\n",
       "      <td>100.0</td>\n",
       "      <td>98.0</td>\n",
       "      <td>Anapa</td>\n",
       "      <td>Moscow</td>\n",
       "      <td>45.002102</td>\n",
       "      <td>37.347301</td>\n",
       "      <td>55.972599</td>\n",
       "      <td>37.414600</td>\n",
       "      <td>733</td>\n",
       "      <td>Boeing 737-300</td>\n",
       "      <td>4200</td>\n",
       "      <td>130</td>\n",
       "      <td>1.000000</td>\n",
       "      <td>12</td>\n",
       "      <td>118</td>\n",
       "      <td>130</td>\n",
       "      <td>12</td>\n",
       "      <td>118</td>\n",
       "      <td>1886000.0</td>\n",
       "      <td>14507.692308</td>\n",
       "      <td>12200.0</td>\n",
       "      <td>36600.0</td>\n",
       "      <td>12</td>\n",
       "      <td>112</td>\n",
       "      <td>6</td>\n",
       "      <td>0</td>\n",
       "      <td>0</td>\n",
       "      <td>0</td>\n",
       "      <td>1219.872758</td>\n",
       "      <td>160255.245375</td>\n",
       "    </tr>\n",
       "    <tr>\n",
       "      <th>3</th>\n",
       "      <td>136774</td>\n",
       "      <td>PG0480</td>\n",
       "      <td>2016-12-02</td>\n",
       "      <td>2016-12-02</td>\n",
       "      <td>5.0</td>\n",
       "      <td>12.0</td>\n",
       "      <td>2.0</td>\n",
       "      <td>9.0</td>\n",
       "      <td>50.0</td>\n",
       "      <td>50.0</td>\n",
       "      <td>Anapa</td>\n",
       "      <td>Belgorod</td>\n",
       "      <td>45.002102</td>\n",
       "      <td>37.347301</td>\n",
       "      <td>50.643799</td>\n",
       "      <td>36.590099</td>\n",
       "      <td>SU9</td>\n",
       "      <td>Sukhoi Superjet-100</td>\n",
       "      <td>3000</td>\n",
       "      <td>93</td>\n",
       "      <td>0.958763</td>\n",
       "      <td>12</td>\n",
       "      <td>81</td>\n",
       "      <td>97</td>\n",
       "      <td>12</td>\n",
       "      <td>85</td>\n",
       "      <td>740100.0</td>\n",
       "      <td>7958.064516</td>\n",
       "      <td>6300.0</td>\n",
       "      <td>18900.0</td>\n",
       "      <td>0</td>\n",
       "      <td>0</td>\n",
       "      <td>0</td>\n",
       "      <td>12</td>\n",
       "      <td>76</td>\n",
       "      <td>5</td>\n",
       "      <td>629.860554</td>\n",
       "      <td>55061.583333</td>\n",
       "    </tr>\n",
       "    <tr>\n",
       "      <th>4</th>\n",
       "      <td>136391</td>\n",
       "      <td>PG0252</td>\n",
       "      <td>2016-12-03</td>\n",
       "      <td>2016-12-03</td>\n",
       "      <td>6.0</td>\n",
       "      <td>12.0</td>\n",
       "      <td>3.0</td>\n",
       "      <td>10.0</td>\n",
       "      <td>100.0</td>\n",
       "      <td>100.0</td>\n",
       "      <td>Anapa</td>\n",
       "      <td>Moscow</td>\n",
       "      <td>45.002102</td>\n",
       "      <td>37.347301</td>\n",
       "      <td>55.972599</td>\n",
       "      <td>37.414600</td>\n",
       "      <td>733</td>\n",
       "      <td>Boeing 737-300</td>\n",
       "      <td>4200</td>\n",
       "      <td>107</td>\n",
       "      <td>0.823077</td>\n",
       "      <td>10</td>\n",
       "      <td>97</td>\n",
       "      <td>130</td>\n",
       "      <td>12</td>\n",
       "      <td>118</td>\n",
       "      <td>1556600.0</td>\n",
       "      <td>14547.663551</td>\n",
       "      <td>12200.0</td>\n",
       "      <td>36600.0</td>\n",
       "      <td>10</td>\n",
       "      <td>91</td>\n",
       "      <td>6</td>\n",
       "      <td>0</td>\n",
       "      <td>0</td>\n",
       "      <td>0</td>\n",
       "      <td>1219.872758</td>\n",
       "      <td>131902.394270</td>\n",
       "    </tr>\n",
       "    <tr>\n",
       "      <th>...</th>\n",
       "      <td>...</td>\n",
       "      <td>...</td>\n",
       "      <td>...</td>\n",
       "      <td>...</td>\n",
       "      <td>...</td>\n",
       "      <td>...</td>\n",
       "      <td>...</td>\n",
       "      <td>...</td>\n",
       "      <td>...</td>\n",
       "      <td>...</td>\n",
       "      <td>...</td>\n",
       "      <td>...</td>\n",
       "      <td>...</td>\n",
       "      <td>...</td>\n",
       "      <td>...</td>\n",
       "      <td>...</td>\n",
       "      <td>...</td>\n",
       "      <td>...</td>\n",
       "      <td>...</td>\n",
       "      <td>...</td>\n",
       "      <td>...</td>\n",
       "      <td>...</td>\n",
       "      <td>...</td>\n",
       "      <td>...</td>\n",
       "      <td>...</td>\n",
       "      <td>...</td>\n",
       "      <td>...</td>\n",
       "      <td>...</td>\n",
       "      <td>...</td>\n",
       "      <td>...</td>\n",
       "      <td>...</td>\n",
       "      <td>...</td>\n",
       "      <td>...</td>\n",
       "      <td>...</td>\n",
       "      <td>...</td>\n",
       "      <td>...</td>\n",
       "      <td>...</td>\n",
       "      <td>...</td>\n",
       "    </tr>\n",
       "    <tr>\n",
       "      <th>175</th>\n",
       "      <td>136802</td>\n",
       "      <td>PG0480</td>\n",
       "      <td>2017-02-26</td>\n",
       "      <td>2017-02-26</td>\n",
       "      <td>0.0</td>\n",
       "      <td>2.0</td>\n",
       "      <td>26.0</td>\n",
       "      <td>9.0</td>\n",
       "      <td>50.0</td>\n",
       "      <td>50.0</td>\n",
       "      <td>Anapa</td>\n",
       "      <td>Belgorod</td>\n",
       "      <td>45.002102</td>\n",
       "      <td>37.347301</td>\n",
       "      <td>50.643799</td>\n",
       "      <td>36.590099</td>\n",
       "      <td>SU9</td>\n",
       "      <td>Sukhoi Superjet-100</td>\n",
       "      <td>3000</td>\n",
       "      <td>96</td>\n",
       "      <td>0.989691</td>\n",
       "      <td>11</td>\n",
       "      <td>85</td>\n",
       "      <td>97</td>\n",
       "      <td>12</td>\n",
       "      <td>85</td>\n",
       "      <td>746400.0</td>\n",
       "      <td>7775.000000</td>\n",
       "      <td>6300.0</td>\n",
       "      <td>18900.0</td>\n",
       "      <td>0</td>\n",
       "      <td>0</td>\n",
       "      <td>0</td>\n",
       "      <td>11</td>\n",
       "      <td>80</td>\n",
       "      <td>5</td>\n",
       "      <td>629.860554</td>\n",
       "      <td>56033.416667</td>\n",
       "    </tr>\n",
       "    <tr>\n",
       "      <th>176</th>\n",
       "      <td>136266</td>\n",
       "      <td>PG0252</td>\n",
       "      <td>2017-02-27</td>\n",
       "      <td>2017-02-27</td>\n",
       "      <td>1.0</td>\n",
       "      <td>2.0</td>\n",
       "      <td>27.0</td>\n",
       "      <td>10.0</td>\n",
       "      <td>100.0</td>\n",
       "      <td>100.0</td>\n",
       "      <td>Anapa</td>\n",
       "      <td>Moscow</td>\n",
       "      <td>45.002102</td>\n",
       "      <td>37.347301</td>\n",
       "      <td>55.972599</td>\n",
       "      <td>37.414600</td>\n",
       "      <td>733</td>\n",
       "      <td>Boeing 737-300</td>\n",
       "      <td>4200</td>\n",
       "      <td>108</td>\n",
       "      <td>0.830769</td>\n",
       "      <td>10</td>\n",
       "      <td>98</td>\n",
       "      <td>130</td>\n",
       "      <td>12</td>\n",
       "      <td>118</td>\n",
       "      <td>1566400.0</td>\n",
       "      <td>14503.703704</td>\n",
       "      <td>12200.0</td>\n",
       "      <td>36600.0</td>\n",
       "      <td>10</td>\n",
       "      <td>94</td>\n",
       "      <td>4</td>\n",
       "      <td>0</td>\n",
       "      <td>0</td>\n",
       "      <td>0</td>\n",
       "      <td>1219.872758</td>\n",
       "      <td>135484.953182</td>\n",
       "    </tr>\n",
       "    <tr>\n",
       "      <th>177</th>\n",
       "      <td>136953</td>\n",
       "      <td>PG0480</td>\n",
       "      <td>2017-02-27</td>\n",
       "      <td>2017-02-27</td>\n",
       "      <td>1.0</td>\n",
       "      <td>2.0</td>\n",
       "      <td>27.0</td>\n",
       "      <td>9.0</td>\n",
       "      <td>50.0</td>\n",
       "      <td>50.0</td>\n",
       "      <td>Anapa</td>\n",
       "      <td>Belgorod</td>\n",
       "      <td>45.002102</td>\n",
       "      <td>37.347301</td>\n",
       "      <td>50.643799</td>\n",
       "      <td>36.590099</td>\n",
       "      <td>SU9</td>\n",
       "      <td>Sukhoi Superjet-100</td>\n",
       "      <td>3000</td>\n",
       "      <td>97</td>\n",
       "      <td>1.000000</td>\n",
       "      <td>12</td>\n",
       "      <td>85</td>\n",
       "      <td>97</td>\n",
       "      <td>12</td>\n",
       "      <td>85</td>\n",
       "      <td>765300.0</td>\n",
       "      <td>7889.690722</td>\n",
       "      <td>6300.0</td>\n",
       "      <td>18900.0</td>\n",
       "      <td>0</td>\n",
       "      <td>0</td>\n",
       "      <td>0</td>\n",
       "      <td>12</td>\n",
       "      <td>80</td>\n",
       "      <td>5</td>\n",
       "      <td>629.860554</td>\n",
       "      <td>56033.416667</td>\n",
       "    </tr>\n",
       "    <tr>\n",
       "      <th>178</th>\n",
       "      <td>136215</td>\n",
       "      <td>PG0252</td>\n",
       "      <td>2017-02-28</td>\n",
       "      <td>2017-02-28</td>\n",
       "      <td>2.0</td>\n",
       "      <td>2.0</td>\n",
       "      <td>28.0</td>\n",
       "      <td>10.0</td>\n",
       "      <td>100.0</td>\n",
       "      <td>100.0</td>\n",
       "      <td>Anapa</td>\n",
       "      <td>Moscow</td>\n",
       "      <td>45.002102</td>\n",
       "      <td>37.347301</td>\n",
       "      <td>55.972599</td>\n",
       "      <td>37.414600</td>\n",
       "      <td>733</td>\n",
       "      <td>Boeing 737-300</td>\n",
       "      <td>4200</td>\n",
       "      <td>114</td>\n",
       "      <td>0.876923</td>\n",
       "      <td>11</td>\n",
       "      <td>103</td>\n",
       "      <td>130</td>\n",
       "      <td>12</td>\n",
       "      <td>118</td>\n",
       "      <td>1664000.0</td>\n",
       "      <td>14596.491228</td>\n",
       "      <td>12200.0</td>\n",
       "      <td>36600.0</td>\n",
       "      <td>11</td>\n",
       "      <td>99</td>\n",
       "      <td>4</td>\n",
       "      <td>0</td>\n",
       "      <td>0</td>\n",
       "      <td>0</td>\n",
       "      <td>1219.872758</td>\n",
       "      <td>143011.895026</td>\n",
       "    </tr>\n",
       "    <tr>\n",
       "      <th>179</th>\n",
       "      <td>136844</td>\n",
       "      <td>PG0480</td>\n",
       "      <td>2017-02-28</td>\n",
       "      <td>2017-02-28</td>\n",
       "      <td>2.0</td>\n",
       "      <td>2.0</td>\n",
       "      <td>28.0</td>\n",
       "      <td>9.0</td>\n",
       "      <td>50.0</td>\n",
       "      <td>50.0</td>\n",
       "      <td>Anapa</td>\n",
       "      <td>Belgorod</td>\n",
       "      <td>45.002102</td>\n",
       "      <td>37.347301</td>\n",
       "      <td>50.643799</td>\n",
       "      <td>36.590099</td>\n",
       "      <td>SU9</td>\n",
       "      <td>Sukhoi Superjet-100</td>\n",
       "      <td>3000</td>\n",
       "      <td>79</td>\n",
       "      <td>0.814433</td>\n",
       "      <td>6</td>\n",
       "      <td>73</td>\n",
       "      <td>97</td>\n",
       "      <td>12</td>\n",
       "      <td>85</td>\n",
       "      <td>575100.0</td>\n",
       "      <td>7279.746835</td>\n",
       "      <td>6300.0</td>\n",
       "      <td>18900.0</td>\n",
       "      <td>0</td>\n",
       "      <td>0</td>\n",
       "      <td>0</td>\n",
       "      <td>6</td>\n",
       "      <td>70</td>\n",
       "      <td>3</td>\n",
       "      <td>629.860554</td>\n",
       "      <td>56033.416667</td>\n",
       "    </tr>\n",
       "  </tbody>\n",
       "</table>\n",
       "<p>180 rows × 38 columns</p>\n",
       "</div>"
      ],
      "text/plain": [
       "     flight_id flight_no scheduled_departure actual_departure  dep_dow  \\\n",
       "0       136187    PG0252          2016-12-01       2016-12-01      4.0   \n",
       "1       136698    PG0480          2016-12-01       2016-12-01      4.0   \n",
       "2       136474    PG0252          2016-12-02       2016-12-02      5.0   \n",
       "3       136774    PG0480          2016-12-02       2016-12-02      5.0   \n",
       "4       136391    PG0252          2016-12-03       2016-12-03      6.0   \n",
       "..         ...       ...                 ...              ...      ...   \n",
       "175     136802    PG0480          2017-02-26       2017-02-26      0.0   \n",
       "176     136266    PG0252          2017-02-27       2017-02-27      1.0   \n",
       "177     136953    PG0480          2017-02-27       2017-02-27      1.0   \n",
       "178     136215    PG0252          2017-02-28       2017-02-28      2.0   \n",
       "179     136844    PG0480          2017-02-28       2017-02-28      2.0   \n",
       "\n",
       "     dep_month  dep_day  dep_hour  sheduled_duration  actual_duration  \\\n",
       "0         12.0      1.0      10.0              100.0            100.0   \n",
       "1         12.0      1.0       9.0               50.0             49.0   \n",
       "2         12.0      2.0      10.0              100.0             98.0   \n",
       "3         12.0      2.0       9.0               50.0             50.0   \n",
       "4         12.0      3.0      10.0              100.0            100.0   \n",
       "..         ...      ...       ...                ...              ...   \n",
       "175        2.0     26.0       9.0               50.0             50.0   \n",
       "176        2.0     27.0      10.0              100.0            100.0   \n",
       "177        2.0     27.0       9.0               50.0             50.0   \n",
       "178        2.0     28.0      10.0              100.0            100.0   \n",
       "179        2.0     28.0       9.0               50.0             50.0   \n",
       "\n",
       "    departure_city arrival_city  departure_lat  departure_lon  arrival_lat  \\\n",
       "0            Anapa       Moscow      45.002102      37.347301    55.972599   \n",
       "1            Anapa     Belgorod      45.002102      37.347301    50.643799   \n",
       "2            Anapa       Moscow      45.002102      37.347301    55.972599   \n",
       "3            Anapa     Belgorod      45.002102      37.347301    50.643799   \n",
       "4            Anapa       Moscow      45.002102      37.347301    55.972599   \n",
       "..             ...          ...            ...            ...          ...   \n",
       "175          Anapa     Belgorod      45.002102      37.347301    50.643799   \n",
       "176          Anapa       Moscow      45.002102      37.347301    55.972599   \n",
       "177          Anapa     Belgorod      45.002102      37.347301    50.643799   \n",
       "178          Anapa       Moscow      45.002102      37.347301    55.972599   \n",
       "179          Anapa     Belgorod      45.002102      37.347301    50.643799   \n",
       "\n",
       "     arrival_lon aircraft_code                model  range  count_tickets  \\\n",
       "0      37.414600           733       Boeing 737-300   4200            129   \n",
       "1      36.590099           SU9  Sukhoi Superjet-100   3000             94   \n",
       "2      37.414600           733       Boeing 737-300   4200            130   \n",
       "3      36.590099           SU9  Sukhoi Superjet-100   3000             93   \n",
       "4      37.414600           733       Boeing 737-300   4200            107   \n",
       "..           ...           ...                  ...    ...            ...   \n",
       "175    36.590099           SU9  Sukhoi Superjet-100   3000             96   \n",
       "176    37.414600           733       Boeing 737-300   4200            108   \n",
       "177    36.590099           SU9  Sukhoi Superjet-100   3000             97   \n",
       "178    37.414600           733       Boeing 737-300   4200            114   \n",
       "179    36.590099           SU9  Sukhoi Superjet-100   3000             79   \n",
       "\n",
       "     how_full  bus_class_tickets  econ_class_tickets  ac_capacity  \\\n",
       "0    0.992308                 12                 117          130   \n",
       "1    0.969072                 12                  82           97   \n",
       "2    1.000000                 12                 118          130   \n",
       "3    0.958763                 12                  81           97   \n",
       "4    0.823077                 10                  97          130   \n",
       "..        ...                ...                 ...          ...   \n",
       "175  0.989691                 11                  85           97   \n",
       "176  0.830769                 10                  98          130   \n",
       "177  1.000000                 12                  85           97   \n",
       "178  0.876923                 11                 103          130   \n",
       "179  0.814433                  6                  73           97   \n",
       "\n",
       "     bus_class_capacity  econ_class_capacity  total_amount_by_flight  \\\n",
       "0                    12                  118               1873800.0   \n",
       "1                    12                   85                746400.0   \n",
       "2                    12                  118               1886000.0   \n",
       "3                    12                   85                740100.0   \n",
       "4                    12                  118               1556600.0   \n",
       "..                  ...                  ...                     ...   \n",
       "175                  12                   85                746400.0   \n",
       "176                  12                  118               1566400.0   \n",
       "177                  12                   85                765300.0   \n",
       "178                  12                  118               1664000.0   \n",
       "179                  12                   85                575100.0   \n",
       "\n",
       "     avg_amount_by_flight  min_amount_by_flight  max_amount_by_flight  \\\n",
       "0            14525.581395               12200.0               36600.0   \n",
       "1             7940.425532                6300.0               18900.0   \n",
       "2            14507.692308               12200.0               36600.0   \n",
       "3             7958.064516                6300.0               18900.0   \n",
       "4            14547.663551               12200.0               36600.0   \n",
       "..                    ...                   ...                   ...   \n",
       "175           7775.000000                6300.0               18900.0   \n",
       "176          14503.703704               12200.0               36600.0   \n",
       "177           7889.690722                6300.0               18900.0   \n",
       "178          14596.491228               12200.0               36600.0   \n",
       "179           7279.746835                6300.0               18900.0   \n",
       "\n",
       "     count_36600  count_12200  count_13400  count_18900  count_6300  \\\n",
       "0             12          111            6            0           0   \n",
       "1              0            0            0           12          77   \n",
       "2             12          112            6            0           0   \n",
       "3              0            0            0           12          76   \n",
       "4             10           91            6            0           0   \n",
       "..           ...          ...          ...          ...         ...   \n",
       "175            0            0            0           11          80   \n",
       "176           10           94            4            0           0   \n",
       "177            0            0            0           12          80   \n",
       "178           11           99            4            0           0   \n",
       "179            0            0            0            6          70   \n",
       "\n",
       "     count_6900     distance    flight_cost  \n",
       "0             0  1219.872758  159022.512718  \n",
       "1             5   629.860554   53960.351667  \n",
       "2             0  1219.872758  160255.245375  \n",
       "3             5   629.860554   55061.583333  \n",
       "4             0  1219.872758  131902.394270  \n",
       "..          ...          ...            ...  \n",
       "175           5   629.860554   56033.416667  \n",
       "176           0  1219.872758  135484.953182  \n",
       "177           5   629.860554   56033.416667  \n",
       "178           0  1219.872758  143011.895026  \n",
       "179           3   629.860554   56033.416667  \n",
       "\n",
       "[180 rows x 38 columns]"
      ]
     },
     "execution_count": 28,
     "metadata": {},
     "output_type": "execute_result"
    }
   ],
   "source": [
    "dec2016price = 38.867 # цена в рублях за килограмм керосина в декабре 2016\n",
    "jan2017price = 41.435 # цена в рублях за килограмм керосина в январе 2017\n",
    "feb2017price = 39.553 # цена в рублях за килограмм керосина в феврале 2017\n",
    "boeing_unit_rate = 0.026 # удельный расход авиакеросина для Boeing 737-300 - килограмм/пасс.-км\n",
    "su9_rate = 1700 # расход авиакеросина для Sukhoi Superjet-100, кг/час\n",
    "def flight_cost(row):\n",
    "    if row['model'] == 'Boeing 737-300':\n",
    "        if row.dep_month == 12:\n",
    "            result = dec2016price*boeing_unit_rate*row.count_tickets*row.distance\n",
    "        elif row.dep_month == 1:\n",
    "            result = jan2017price*boeing_unit_rate*row.count_tickets*row.distance\n",
    "        elif row.dep_month == 2:\n",
    "            result = feb2017price*boeing_unit_rate*row.count_tickets*row.distance\n",
    "    elif row.model == 'Sukhoi Superjet-100':\n",
    "        if row.dep_month == 12:\n",
    "            result = dec2016price*su9_rate/60*row.actual_duration\n",
    "        elif row.dep_month == 1:\n",
    "            result = jan2017price*su9_rate/60*row.actual_duration\n",
    "        elif row.dep_month == 2:\n",
    "            result = feb2017price*su9_rate/60*row.actual_duration\n",
    "    return result\n",
    "df['flight_cost'] = df.apply(flight_cost, axis=1)\n",
    "df"
   ]
  },
  {
   "cell_type": "code",
   "execution_count": 29,
   "id": "450745bf",
   "metadata": {},
   "outputs": [],
   "source": [
    "df['profit'] = round(df.total_amount_by_flight - df.flight_cost, 0)\n",
    "df['actual_departure'] = pd.to_datetime(df.actual_departure, format='%Y-%m-%d')"
   ]
  },
  {
   "cell_type": "code",
   "execution_count": 39,
   "id": "a80f255c",
   "metadata": {},
   "outputs": [],
   "source": [
    "df_moscow = df.loc[df.arrival_city == 'Moscow']\n",
    "df_belgorod = df.loc[df.arrival_city == 'Belgorod']"
   ]
  },
  {
   "cell_type": "code",
   "execution_count": 40,
   "id": "fc7d7983",
   "metadata": {},
   "outputs": [
    {
     "data": {
      "application/vnd.plotly.v1+json": {
       "config": {
        "linkText": "Export to plot.ly",
        "plotlyServerURL": "https://plot.ly",
        "showLink": true
       },
       "data": [
        {
         "line": {
          "color": "rgba(255, 153, 51, 1.0)",
          "dash": "solid",
          "shape": "linear",
          "width": 1.3
         },
         "mode": "lines",
         "name": "total_amount_by_flight",
         "text": "",
         "type": "scatter",
         "x": [
          0,
          2,
          4,
          6,
          8,
          10,
          12,
          14,
          16,
          18,
          20,
          22,
          24,
          26,
          28,
          30,
          32,
          34,
          36,
          38,
          40,
          42,
          44,
          46,
          48,
          50,
          52,
          54,
          56,
          58,
          60,
          62,
          64,
          66,
          68,
          70,
          72,
          74,
          76,
          78,
          80,
          82,
          84,
          86,
          88,
          90,
          92,
          94,
          96,
          98,
          100,
          102,
          104,
          106,
          108,
          110,
          112,
          114,
          116,
          118,
          120,
          122,
          124,
          126,
          128,
          130,
          132,
          134,
          136,
          138,
          140,
          142,
          144,
          146,
          148,
          150,
          152,
          154,
          156,
          158,
          160,
          162,
          164,
          166,
          168,
          170,
          172,
          174,
          176,
          178
         ],
         "y": [
          1873800,
          1886000,
          1556600,
          1443200,
          1666400,
          1554200,
          1407800,
          1505400,
          1873800,
          1372400,
          1642000,
          1603000,
          1751800,
          1554200,
          1886000,
          1861600,
          1544400,
          1628600,
          1861600,
          1517600,
          1711600,
          1703000,
          1690800,
          1407800,
          1444400,
          1823800,
          1567600,
          1861600,
          1678600,
          1543200,
          1886000,
          1542000,
          1568800,
          1653000,
          1700600,
          1495600,
          1615200,
          1738400,
          1431000,
          1398000,
          1849400,
          1527400,
          1886000,
          1825000,
          1520000,
          1617600,
          1518800,
          1762800,
          1873800,
          1775000,
          1788400,
          1678600,
          1654200,
          1689600,
          1517600,
          1493200,
          1811600,
          1520000,
          1812800,
          1434600,
          1886000,
          1689600,
          1678600,
          1505400,
          1837200,
          1590800,
          1455400,
          1567600,
          1677400,
          1407800,
          1604200,
          1762800,
          1605400,
          1628600,
          1556600,
          1800600,
          1714000,
          1676200,
          1603000,
          1690800,
          1544400,
          1873800,
          1738400,
          1567600,
          1457800,
          1605400,
          1701800,
          1555400,
          1566400,
          1664000
         ]
        },
        {
         "line": {
          "color": "rgba(55, 128, 191, 1.0)",
          "dash": "solid",
          "shape": "linear",
          "width": 1.3
         },
         "mode": "lines",
         "name": "profit",
         "text": "",
         "type": "scatter",
         "x": [
          0,
          2,
          4,
          6,
          8,
          10,
          12,
          14,
          16,
          18,
          20,
          22,
          24,
          26,
          28,
          30,
          32,
          34,
          36,
          38,
          40,
          42,
          44,
          46,
          48,
          50,
          52,
          54,
          56,
          58,
          60,
          62,
          64,
          66,
          68,
          70,
          72,
          74,
          76,
          78,
          80,
          82,
          84,
          86,
          88,
          90,
          92,
          94,
          96,
          98,
          100,
          102,
          104,
          106,
          108,
          110,
          112,
          114,
          116,
          118,
          120,
          122,
          124,
          126,
          128,
          130,
          132,
          134,
          136,
          138,
          140,
          142,
          144,
          146,
          148,
          150,
          152,
          154,
          156,
          158,
          160,
          162,
          164,
          166,
          168,
          170,
          172,
          174,
          176,
          178
         ],
         "y": [
          1714777,
          1725745,
          1424698,
          1317461,
          1520938,
          1422298,
          1288225,
          1378429,
          1714777,
          1258989,
          1499003,
          1468632,
          1602639,
          1424763,
          1725745,
          1703810,
          1416196,
          1491767,
          1703810,
          1391861,
          1566138,
          1558770,
          1545338,
          1293156,
          1316196,
          1669708,
          1431999,
          1703810,
          1534370,
          1410065,
          1725745,
          1405325,
          1424240,
          1504498,
          1549469,
          1364182,
          1468012,
          1580698,
          1303524,
          1266582,
          1679871,
          1392039,
          1715156,
          1660727,
          1383325,
          1473040,
          1379497,
          1605098,
          1704271,
          1615984,
          1628070,
          1527469,
          1500441,
          1539783,
          1375668,
          1353897,
          1648642,
          1380697,
          1649842,
          1304496,
          1715156,
          1534527,
          1534334,
          1371170,
          1676625,
          1452806,
          1333714,
          1432115,
          1530625,
          1283605,
          1467461,
          1612261,
          1468661,
          1489352,
          1422370,
          1646298,
          1568479,
          1531934,
          1466261,
          1545279,
          1411424,
          1711971,
          1585352,
          1429606,
          1323570,
          1468661,
          1555025,
          1423679,
          1430915,
          1520988
         ]
        },
        {
         "connectgaps": false,
         "fill": "tozeroy",
         "line": {
          "color": "green",
          "dash": "solid",
          "shape": "linear",
          "width": 0.5
         },
         "mode": "lines",
         "name": "Spread",
         "showlegend": false,
         "type": "scatter",
         "x": [
          0,
          2,
          4,
          6,
          8,
          10,
          12,
          14,
          16,
          18,
          20,
          22,
          24,
          26,
          28,
          30,
          32,
          34,
          36,
          38,
          40,
          42,
          44,
          46,
          48,
          50,
          52,
          54,
          56,
          58,
          60,
          62,
          64,
          66,
          68,
          70,
          72,
          74,
          76,
          78,
          80,
          82,
          84,
          86,
          88,
          90,
          92,
          94,
          96,
          98,
          100,
          102,
          104,
          106,
          108,
          110,
          112,
          114,
          116,
          118,
          120,
          122,
          124,
          126,
          128,
          130,
          132,
          134,
          136,
          138,
          140,
          142,
          144,
          146,
          148,
          150,
          152,
          154,
          156,
          158,
          160,
          162,
          164,
          166,
          168,
          170,
          172,
          174,
          176,
          178
         ],
         "xaxis": "x2",
         "y": [
          159023,
          160255,
          131902,
          125739,
          145462,
          131902,
          119575,
          126971,
          159023,
          113411,
          142997,
          134368,
          149161,
          129437,
          160255,
          157790,
          128204,
          136833,
          157790,
          125739,
          145462,
          144230,
          145462,
          114644,
          128204,
          154092,
          135601,
          157790,
          144230,
          133135,
          160255,
          136675,
          144560,
          148502,
          151131,
          131418,
          147188,
          157702,
          127476,
          131418,
          169529,
          135361,
          170844,
          164273,
          136675,
          144560,
          139303,
          157702,
          169529,
          159016,
          160330,
          151131,
          153759,
          149817,
          141932,
          139303,
          162958,
          139303,
          162958,
          130104,
          170844,
          155073,
          144266,
          134230,
          160575,
          137994,
          121686,
          135485,
          146775,
          124195,
          136739,
          150539,
          136739,
          139248,
          134230,
          154302,
          145521,
          144266,
          136739,
          145521,
          132976,
          161829,
          153048,
          137994,
          134230,
          136739,
          146775,
          131721,
          135485,
          143012
         ],
         "yaxis": "y2"
        },
        {
         "connectgaps": false,
         "fill": "tozeroy",
         "line": {
          "color": "red",
          "dash": "solid",
          "shape": "linear",
          "width": 0.5
         },
         "mode": "lines",
         "name": "Spread",
         "showlegend": false,
         "type": "scatter",
         "x": [
          0,
          2,
          4,
          6,
          8,
          10,
          12,
          14,
          16,
          18,
          20,
          22,
          24,
          26,
          28,
          30,
          32,
          34,
          36,
          38,
          40,
          42,
          44,
          46,
          48,
          50,
          52,
          54,
          56,
          58,
          60,
          62,
          64,
          66,
          68,
          70,
          72,
          74,
          76,
          78,
          80,
          82,
          84,
          86,
          88,
          90,
          92,
          94,
          96,
          98,
          100,
          102,
          104,
          106,
          108,
          110,
          112,
          114,
          116,
          118,
          120,
          122,
          124,
          126,
          128,
          130,
          132,
          134,
          136,
          138,
          140,
          142,
          144,
          146,
          148,
          150,
          152,
          154,
          156,
          158,
          160,
          162,
          164,
          166,
          168,
          170,
          172,
          174,
          176,
          178
         ],
         "xaxis": "x2",
         "y": [
          "",
          "",
          "",
          "",
          "",
          "",
          "",
          "",
          "",
          "",
          "",
          "",
          "",
          "",
          "",
          "",
          "",
          "",
          "",
          "",
          "",
          "",
          "",
          "",
          "",
          "",
          "",
          "",
          "",
          "",
          "",
          "",
          "",
          "",
          "",
          "",
          "",
          "",
          "",
          "",
          "",
          "",
          "",
          "",
          "",
          "",
          "",
          "",
          "",
          "",
          "",
          "",
          "",
          "",
          "",
          "",
          "",
          "",
          "",
          "",
          "",
          "",
          "",
          "",
          "",
          "",
          "",
          "",
          "",
          "",
          "",
          "",
          "",
          "",
          "",
          "",
          "",
          "",
          "",
          "",
          "",
          "",
          "",
          "",
          "",
          "",
          "",
          "",
          "",
          ""
         ],
         "yaxis": "y2"
        }
       ],
       "layout": {
        "hovermode": "x",
        "legend": {
         "bgcolor": "#F5F6F9",
         "font": {
          "color": "#4D5663"
         }
        },
        "paper_bgcolor": "#F5F6F9",
        "plot_bgcolor": "#F5F6F9",
        "template": {
         "data": {
          "bar": [
           {
            "error_x": {
             "color": "#2a3f5f"
            },
            "error_y": {
             "color": "#2a3f5f"
            },
            "marker": {
             "line": {
              "color": "#E5ECF6",
              "width": 0.5
             },
             "pattern": {
              "fillmode": "overlay",
              "size": 10,
              "solidity": 0.2
             }
            },
            "type": "bar"
           }
          ],
          "barpolar": [
           {
            "marker": {
             "line": {
              "color": "#E5ECF6",
              "width": 0.5
             },
             "pattern": {
              "fillmode": "overlay",
              "size": 10,
              "solidity": 0.2
             }
            },
            "type": "barpolar"
           }
          ],
          "carpet": [
           {
            "aaxis": {
             "endlinecolor": "#2a3f5f",
             "gridcolor": "white",
             "linecolor": "white",
             "minorgridcolor": "white",
             "startlinecolor": "#2a3f5f"
            },
            "baxis": {
             "endlinecolor": "#2a3f5f",
             "gridcolor": "white",
             "linecolor": "white",
             "minorgridcolor": "white",
             "startlinecolor": "#2a3f5f"
            },
            "type": "carpet"
           }
          ],
          "choropleth": [
           {
            "colorbar": {
             "outlinewidth": 0,
             "ticks": ""
            },
            "type": "choropleth"
           }
          ],
          "contour": [
           {
            "colorbar": {
             "outlinewidth": 0,
             "ticks": ""
            },
            "colorscale": [
             [
              0,
              "#0d0887"
             ],
             [
              0.1111111111111111,
              "#46039f"
             ],
             [
              0.2222222222222222,
              "#7201a8"
             ],
             [
              0.3333333333333333,
              "#9c179e"
             ],
             [
              0.4444444444444444,
              "#bd3786"
             ],
             [
              0.5555555555555556,
              "#d8576b"
             ],
             [
              0.6666666666666666,
              "#ed7953"
             ],
             [
              0.7777777777777778,
              "#fb9f3a"
             ],
             [
              0.8888888888888888,
              "#fdca26"
             ],
             [
              1,
              "#f0f921"
             ]
            ],
            "type": "contour"
           }
          ],
          "contourcarpet": [
           {
            "colorbar": {
             "outlinewidth": 0,
             "ticks": ""
            },
            "type": "contourcarpet"
           }
          ],
          "heatmap": [
           {
            "colorbar": {
             "outlinewidth": 0,
             "ticks": ""
            },
            "colorscale": [
             [
              0,
              "#0d0887"
             ],
             [
              0.1111111111111111,
              "#46039f"
             ],
             [
              0.2222222222222222,
              "#7201a8"
             ],
             [
              0.3333333333333333,
              "#9c179e"
             ],
             [
              0.4444444444444444,
              "#bd3786"
             ],
             [
              0.5555555555555556,
              "#d8576b"
             ],
             [
              0.6666666666666666,
              "#ed7953"
             ],
             [
              0.7777777777777778,
              "#fb9f3a"
             ],
             [
              0.8888888888888888,
              "#fdca26"
             ],
             [
              1,
              "#f0f921"
             ]
            ],
            "type": "heatmap"
           }
          ],
          "heatmapgl": [
           {
            "colorbar": {
             "outlinewidth": 0,
             "ticks": ""
            },
            "colorscale": [
             [
              0,
              "#0d0887"
             ],
             [
              0.1111111111111111,
              "#46039f"
             ],
             [
              0.2222222222222222,
              "#7201a8"
             ],
             [
              0.3333333333333333,
              "#9c179e"
             ],
             [
              0.4444444444444444,
              "#bd3786"
             ],
             [
              0.5555555555555556,
              "#d8576b"
             ],
             [
              0.6666666666666666,
              "#ed7953"
             ],
             [
              0.7777777777777778,
              "#fb9f3a"
             ],
             [
              0.8888888888888888,
              "#fdca26"
             ],
             [
              1,
              "#f0f921"
             ]
            ],
            "type": "heatmapgl"
           }
          ],
          "histogram": [
           {
            "marker": {
             "pattern": {
              "fillmode": "overlay",
              "size": 10,
              "solidity": 0.2
             }
            },
            "type": "histogram"
           }
          ],
          "histogram2d": [
           {
            "colorbar": {
             "outlinewidth": 0,
             "ticks": ""
            },
            "colorscale": [
             [
              0,
              "#0d0887"
             ],
             [
              0.1111111111111111,
              "#46039f"
             ],
             [
              0.2222222222222222,
              "#7201a8"
             ],
             [
              0.3333333333333333,
              "#9c179e"
             ],
             [
              0.4444444444444444,
              "#bd3786"
             ],
             [
              0.5555555555555556,
              "#d8576b"
             ],
             [
              0.6666666666666666,
              "#ed7953"
             ],
             [
              0.7777777777777778,
              "#fb9f3a"
             ],
             [
              0.8888888888888888,
              "#fdca26"
             ],
             [
              1,
              "#f0f921"
             ]
            ],
            "type": "histogram2d"
           }
          ],
          "histogram2dcontour": [
           {
            "colorbar": {
             "outlinewidth": 0,
             "ticks": ""
            },
            "colorscale": [
             [
              0,
              "#0d0887"
             ],
             [
              0.1111111111111111,
              "#46039f"
             ],
             [
              0.2222222222222222,
              "#7201a8"
             ],
             [
              0.3333333333333333,
              "#9c179e"
             ],
             [
              0.4444444444444444,
              "#bd3786"
             ],
             [
              0.5555555555555556,
              "#d8576b"
             ],
             [
              0.6666666666666666,
              "#ed7953"
             ],
             [
              0.7777777777777778,
              "#fb9f3a"
             ],
             [
              0.8888888888888888,
              "#fdca26"
             ],
             [
              1,
              "#f0f921"
             ]
            ],
            "type": "histogram2dcontour"
           }
          ],
          "mesh3d": [
           {
            "colorbar": {
             "outlinewidth": 0,
             "ticks": ""
            },
            "type": "mesh3d"
           }
          ],
          "parcoords": [
           {
            "line": {
             "colorbar": {
              "outlinewidth": 0,
              "ticks": ""
             }
            },
            "type": "parcoords"
           }
          ],
          "pie": [
           {
            "automargin": true,
            "type": "pie"
           }
          ],
          "scatter": [
           {
            "marker": {
             "colorbar": {
              "outlinewidth": 0,
              "ticks": ""
             }
            },
            "type": "scatter"
           }
          ],
          "scatter3d": [
           {
            "line": {
             "colorbar": {
              "outlinewidth": 0,
              "ticks": ""
             }
            },
            "marker": {
             "colorbar": {
              "outlinewidth": 0,
              "ticks": ""
             }
            },
            "type": "scatter3d"
           }
          ],
          "scattercarpet": [
           {
            "marker": {
             "colorbar": {
              "outlinewidth": 0,
              "ticks": ""
             }
            },
            "type": "scattercarpet"
           }
          ],
          "scattergeo": [
           {
            "marker": {
             "colorbar": {
              "outlinewidth": 0,
              "ticks": ""
             }
            },
            "type": "scattergeo"
           }
          ],
          "scattergl": [
           {
            "marker": {
             "colorbar": {
              "outlinewidth": 0,
              "ticks": ""
             }
            },
            "type": "scattergl"
           }
          ],
          "scattermapbox": [
           {
            "marker": {
             "colorbar": {
              "outlinewidth": 0,
              "ticks": ""
             }
            },
            "type": "scattermapbox"
           }
          ],
          "scatterpolar": [
           {
            "marker": {
             "colorbar": {
              "outlinewidth": 0,
              "ticks": ""
             }
            },
            "type": "scatterpolar"
           }
          ],
          "scatterpolargl": [
           {
            "marker": {
             "colorbar": {
              "outlinewidth": 0,
              "ticks": ""
             }
            },
            "type": "scatterpolargl"
           }
          ],
          "scatterternary": [
           {
            "marker": {
             "colorbar": {
              "outlinewidth": 0,
              "ticks": ""
             }
            },
            "type": "scatterternary"
           }
          ],
          "surface": [
           {
            "colorbar": {
             "outlinewidth": 0,
             "ticks": ""
            },
            "colorscale": [
             [
              0,
              "#0d0887"
             ],
             [
              0.1111111111111111,
              "#46039f"
             ],
             [
              0.2222222222222222,
              "#7201a8"
             ],
             [
              0.3333333333333333,
              "#9c179e"
             ],
             [
              0.4444444444444444,
              "#bd3786"
             ],
             [
              0.5555555555555556,
              "#d8576b"
             ],
             [
              0.6666666666666666,
              "#ed7953"
             ],
             [
              0.7777777777777778,
              "#fb9f3a"
             ],
             [
              0.8888888888888888,
              "#fdca26"
             ],
             [
              1,
              "#f0f921"
             ]
            ],
            "type": "surface"
           }
          ],
          "table": [
           {
            "cells": {
             "fill": {
              "color": "#EBF0F8"
             },
             "line": {
              "color": "white"
             }
            },
            "header": {
             "fill": {
              "color": "#C8D4E3"
             },
             "line": {
              "color": "white"
             }
            },
            "type": "table"
           }
          ]
         },
         "layout": {
          "annotationdefaults": {
           "arrowcolor": "#2a3f5f",
           "arrowhead": 0,
           "arrowwidth": 1
          },
          "autotypenumbers": "strict",
          "coloraxis": {
           "colorbar": {
            "outlinewidth": 0,
            "ticks": ""
           }
          },
          "colorscale": {
           "diverging": [
            [
             0,
             "#8e0152"
            ],
            [
             0.1,
             "#c51b7d"
            ],
            [
             0.2,
             "#de77ae"
            ],
            [
             0.3,
             "#f1b6da"
            ],
            [
             0.4,
             "#fde0ef"
            ],
            [
             0.5,
             "#f7f7f7"
            ],
            [
             0.6,
             "#e6f5d0"
            ],
            [
             0.7,
             "#b8e186"
            ],
            [
             0.8,
             "#7fbc41"
            ],
            [
             0.9,
             "#4d9221"
            ],
            [
             1,
             "#276419"
            ]
           ],
           "sequential": [
            [
             0,
             "#0d0887"
            ],
            [
             0.1111111111111111,
             "#46039f"
            ],
            [
             0.2222222222222222,
             "#7201a8"
            ],
            [
             0.3333333333333333,
             "#9c179e"
            ],
            [
             0.4444444444444444,
             "#bd3786"
            ],
            [
             0.5555555555555556,
             "#d8576b"
            ],
            [
             0.6666666666666666,
             "#ed7953"
            ],
            [
             0.7777777777777778,
             "#fb9f3a"
            ],
            [
             0.8888888888888888,
             "#fdca26"
            ],
            [
             1,
             "#f0f921"
            ]
           ],
           "sequentialminus": [
            [
             0,
             "#0d0887"
            ],
            [
             0.1111111111111111,
             "#46039f"
            ],
            [
             0.2222222222222222,
             "#7201a8"
            ],
            [
             0.3333333333333333,
             "#9c179e"
            ],
            [
             0.4444444444444444,
             "#bd3786"
            ],
            [
             0.5555555555555556,
             "#d8576b"
            ],
            [
             0.6666666666666666,
             "#ed7953"
            ],
            [
             0.7777777777777778,
             "#fb9f3a"
            ],
            [
             0.8888888888888888,
             "#fdca26"
            ],
            [
             1,
             "#f0f921"
            ]
           ]
          },
          "colorway": [
           "#636efa",
           "#EF553B",
           "#00cc96",
           "#ab63fa",
           "#FFA15A",
           "#19d3f3",
           "#FF6692",
           "#B6E880",
           "#FF97FF",
           "#FECB52"
          ],
          "font": {
           "color": "#2a3f5f"
          },
          "geo": {
           "bgcolor": "white",
           "lakecolor": "white",
           "landcolor": "#E5ECF6",
           "showlakes": true,
           "showland": true,
           "subunitcolor": "white"
          },
          "hoverlabel": {
           "align": "left"
          },
          "hovermode": "closest",
          "mapbox": {
           "style": "light"
          },
          "paper_bgcolor": "white",
          "plot_bgcolor": "#E5ECF6",
          "polar": {
           "angularaxis": {
            "gridcolor": "white",
            "linecolor": "white",
            "ticks": ""
           },
           "bgcolor": "#E5ECF6",
           "radialaxis": {
            "gridcolor": "white",
            "linecolor": "white",
            "ticks": ""
           }
          },
          "scene": {
           "xaxis": {
            "backgroundcolor": "#E5ECF6",
            "gridcolor": "white",
            "gridwidth": 2,
            "linecolor": "white",
            "showbackground": true,
            "ticks": "",
            "zerolinecolor": "white"
           },
           "yaxis": {
            "backgroundcolor": "#E5ECF6",
            "gridcolor": "white",
            "gridwidth": 2,
            "linecolor": "white",
            "showbackground": true,
            "ticks": "",
            "zerolinecolor": "white"
           },
           "zaxis": {
            "backgroundcolor": "#E5ECF6",
            "gridcolor": "white",
            "gridwidth": 2,
            "linecolor": "white",
            "showbackground": true,
            "ticks": "",
            "zerolinecolor": "white"
           }
          },
          "shapedefaults": {
           "line": {
            "color": "#2a3f5f"
           }
          },
          "ternary": {
           "aaxis": {
            "gridcolor": "white",
            "linecolor": "white",
            "ticks": ""
           },
           "baxis": {
            "gridcolor": "white",
            "linecolor": "white",
            "ticks": ""
           },
           "bgcolor": "#E5ECF6",
           "caxis": {
            "gridcolor": "white",
            "linecolor": "white",
            "ticks": ""
           }
          },
          "title": {
           "x": 0.05
          },
          "xaxis": {
           "automargin": true,
           "gridcolor": "white",
           "linecolor": "white",
           "ticks": "",
           "title": {
            "standoff": 15
           },
           "zerolinecolor": "white",
           "zerolinewidth": 2
          },
          "yaxis": {
           "automargin": true,
           "gridcolor": "white",
           "linecolor": "white",
           "ticks": "",
           "title": {
            "standoff": 15
           },
           "zerolinecolor": "white",
           "zerolinewidth": 2
          }
         }
        },
        "title": {
         "font": {
          "color": "#4D5663"
         }
        },
        "xaxis": {
         "gridcolor": "#E1E5ED",
         "showgrid": true,
         "tickfont": {
          "color": "#4D5663"
         },
         "title": {
          "font": {
           "color": "#4D5663"
          },
          "text": ""
         },
         "zerolinecolor": "#E1E5ED"
        },
        "xaxis2": {
         "anchor": "y2",
         "gridcolor": "#E1E5ED",
         "showgrid": true,
         "showticklabels": false,
         "tickfont": {
          "color": "#4D5663"
         },
         "title": {
          "font": {
           "color": "#4D5663"
          },
          "text": ""
         },
         "zerolinecolor": "#E1E5ED"
        },
        "yaxis": {
         "domain": [
          0.3,
          1
         ],
         "gridcolor": "#E1E5ED",
         "showgrid": true,
         "tickfont": {
          "color": "#4D5663"
         },
         "title": {
          "font": {
           "color": "#4D5663"
          },
          "text": ""
         },
         "zerolinecolor": "#E1E5ED"
        },
        "yaxis2": {
         "domain": [
          0,
          0.25
         ],
         "gridcolor": "#E1E5ED",
         "showgrid": true,
         "tickfont": {
          "color": "#4D5663"
         },
         "title": {
          "font": {
           "color": "#4D5663"
          },
          "text": "Spread"
         },
         "zerolinecolor": "#E1E5ED"
        }
       }
      },
      "text/html": [
       "<div>                            <div id=\"43ee5b17-b270-4aef-ae7c-a83aa31024ea\" class=\"plotly-graph-div\" style=\"height:525px; width:100%;\"></div>            <script type=\"text/javascript\">                require([\"plotly\"], function(Plotly) {                    window.PLOTLYENV=window.PLOTLYENV || {};\n",
       "                    window.PLOTLYENV.BASE_URL='https://plot.ly';                                    if (document.getElementById(\"43ee5b17-b270-4aef-ae7c-a83aa31024ea\")) {                    Plotly.newPlot(                        \"43ee5b17-b270-4aef-ae7c-a83aa31024ea\",                        [{\"line\":{\"color\":\"rgba(255, 153, 51, 1.0)\",\"dash\":\"solid\",\"shape\":\"linear\",\"width\":1.3},\"mode\":\"lines\",\"name\":\"total_amount_by_flight\",\"text\":\"\",\"type\":\"scatter\",\"x\":[0,2,4,6,8,10,12,14,16,18,20,22,24,26,28,30,32,34,36,38,40,42,44,46,48,50,52,54,56,58,60,62,64,66,68,70,72,74,76,78,80,82,84,86,88,90,92,94,96,98,100,102,104,106,108,110,112,114,116,118,120,122,124,126,128,130,132,134,136,138,140,142,144,146,148,150,152,154,156,158,160,162,164,166,168,170,172,174,176,178],\"y\":[1873800.0,1886000.0,1556600.0,1443200.0,1666400.0,1554200.0,1407800.0,1505400.0,1873800.0,1372400.0,1642000.0,1603000.0,1751800.0,1554200.0,1886000.0,1861600.0,1544400.0,1628600.0,1861600.0,1517600.0,1711600.0,1703000.0,1690800.0,1407800.0,1444400.0,1823800.0,1567600.0,1861600.0,1678600.0,1543200.0,1886000.0,1542000.0,1568800.0,1653000.0,1700600.0,1495600.0,1615200.0,1738400.0,1431000.0,1398000.0,1849400.0,1527400.0,1886000.0,1825000.0,1520000.0,1617600.0,1518800.0,1762800.0,1873800.0,1775000.0,1788400.0,1678600.0,1654200.0,1689600.0,1517600.0,1493200.0,1811600.0,1520000.0,1812800.0,1434600.0,1886000.0,1689600.0,1678600.0,1505400.0,1837200.0,1590800.0,1455400.0,1567600.0,1677400.0,1407800.0,1604200.0,1762800.0,1605400.0,1628600.0,1556600.0,1800600.0,1714000.0,1676200.0,1603000.0,1690800.0,1544400.0,1873800.0,1738400.0,1567600.0,1457800.0,1605400.0,1701800.0,1555400.0,1566400.0,1664000.0]},{\"line\":{\"color\":\"rgba(55, 128, 191, 1.0)\",\"dash\":\"solid\",\"shape\":\"linear\",\"width\":1.3},\"mode\":\"lines\",\"name\":\"profit\",\"text\":\"\",\"type\":\"scatter\",\"x\":[0,2,4,6,8,10,12,14,16,18,20,22,24,26,28,30,32,34,36,38,40,42,44,46,48,50,52,54,56,58,60,62,64,66,68,70,72,74,76,78,80,82,84,86,88,90,92,94,96,98,100,102,104,106,108,110,112,114,116,118,120,122,124,126,128,130,132,134,136,138,140,142,144,146,148,150,152,154,156,158,160,162,164,166,168,170,172,174,176,178],\"y\":[1714777.0,1725745.0,1424698.0,1317461.0,1520938.0,1422298.0,1288225.0,1378429.0,1714777.0,1258989.0,1499003.0,1468632.0,1602639.0,1424763.0,1725745.0,1703810.0,1416196.0,1491767.0,1703810.0,1391861.0,1566138.0,1558770.0,1545338.0,1293156.0,1316196.0,1669708.0,1431999.0,1703810.0,1534370.0,1410065.0,1725745.0,1405325.0,1424240.0,1504498.0,1549469.0,1364182.0,1468012.0,1580698.0,1303524.0,1266582.0,1679871.0,1392039.0,1715156.0,1660727.0,1383325.0,1473040.0,1379497.0,1605098.0,1704271.0,1615984.0,1628070.0,1527469.0,1500441.0,1539783.0,1375668.0,1353897.0,1648642.0,1380697.0,1649842.0,1304496.0,1715156.0,1534527.0,1534334.0,1371170.0,1676625.0,1452806.0,1333714.0,1432115.0,1530625.0,1283605.0,1467461.0,1612261.0,1468661.0,1489352.0,1422370.0,1646298.0,1568479.0,1531934.0,1466261.0,1545279.0,1411424.0,1711971.0,1585352.0,1429606.0,1323570.0,1468661.0,1555025.0,1423679.0,1430915.0,1520988.0]},{\"connectgaps\":false,\"fill\":\"tozeroy\",\"line\":{\"color\":\"green\",\"dash\":\"solid\",\"shape\":\"linear\",\"width\":0.5},\"mode\":\"lines\",\"name\":\"Spread\",\"showlegend\":false,\"type\":\"scatter\",\"x\":[0,2,4,6,8,10,12,14,16,18,20,22,24,26,28,30,32,34,36,38,40,42,44,46,48,50,52,54,56,58,60,62,64,66,68,70,72,74,76,78,80,82,84,86,88,90,92,94,96,98,100,102,104,106,108,110,112,114,116,118,120,122,124,126,128,130,132,134,136,138,140,142,144,146,148,150,152,154,156,158,160,162,164,166,168,170,172,174,176,178],\"xaxis\":\"x2\",\"y\":[159023.0,160255.0,131902.0,125739.0,145462.0,131902.0,119575.0,126971.0,159023.0,113411.0,142997.0,134368.0,149161.0,129437.0,160255.0,157790.0,128204.0,136833.0,157790.0,125739.0,145462.0,144230.0,145462.0,114644.0,128204.0,154092.0,135601.0,157790.0,144230.0,133135.0,160255.0,136675.0,144560.0,148502.0,151131.0,131418.0,147188.0,157702.0,127476.0,131418.0,169529.0,135361.0,170844.0,164273.0,136675.0,144560.0,139303.0,157702.0,169529.0,159016.0,160330.0,151131.0,153759.0,149817.0,141932.0,139303.0,162958.0,139303.0,162958.0,130104.0,170844.0,155073.0,144266.0,134230.0,160575.0,137994.0,121686.0,135485.0,146775.0,124195.0,136739.0,150539.0,136739.0,139248.0,134230.0,154302.0,145521.0,144266.0,136739.0,145521.0,132976.0,161829.0,153048.0,137994.0,134230.0,136739.0,146775.0,131721.0,135485.0,143012.0],\"yaxis\":\"y2\"},{\"connectgaps\":false,\"fill\":\"tozeroy\",\"line\":{\"color\":\"red\",\"dash\":\"solid\",\"shape\":\"linear\",\"width\":0.5},\"mode\":\"lines\",\"name\":\"Spread\",\"showlegend\":false,\"type\":\"scatter\",\"x\":[0,2,4,6,8,10,12,14,16,18,20,22,24,26,28,30,32,34,36,38,40,42,44,46,48,50,52,54,56,58,60,62,64,66,68,70,72,74,76,78,80,82,84,86,88,90,92,94,96,98,100,102,104,106,108,110,112,114,116,118,120,122,124,126,128,130,132,134,136,138,140,142,144,146,148,150,152,154,156,158,160,162,164,166,168,170,172,174,176,178],\"xaxis\":\"x2\",\"y\":[\"\",\"\",\"\",\"\",\"\",\"\",\"\",\"\",\"\",\"\",\"\",\"\",\"\",\"\",\"\",\"\",\"\",\"\",\"\",\"\",\"\",\"\",\"\",\"\",\"\",\"\",\"\",\"\",\"\",\"\",\"\",\"\",\"\",\"\",\"\",\"\",\"\",\"\",\"\",\"\",\"\",\"\",\"\",\"\",\"\",\"\",\"\",\"\",\"\",\"\",\"\",\"\",\"\",\"\",\"\",\"\",\"\",\"\",\"\",\"\",\"\",\"\",\"\",\"\",\"\",\"\",\"\",\"\",\"\",\"\",\"\",\"\",\"\",\"\",\"\",\"\",\"\",\"\",\"\",\"\",\"\",\"\",\"\",\"\",\"\",\"\",\"\",\"\",\"\",\"\"],\"yaxis\":\"y2\"}],                        {\"hovermode\":\"x\",\"legend\":{\"bgcolor\":\"#F5F6F9\",\"font\":{\"color\":\"#4D5663\"}},\"paper_bgcolor\":\"#F5F6F9\",\"plot_bgcolor\":\"#F5F6F9\",\"template\":{\"data\":{\"bar\":[{\"error_x\":{\"color\":\"#2a3f5f\"},\"error_y\":{\"color\":\"#2a3f5f\"},\"marker\":{\"line\":{\"color\":\"#E5ECF6\",\"width\":0.5},\"pattern\":{\"fillmode\":\"overlay\",\"size\":10,\"solidity\":0.2}},\"type\":\"bar\"}],\"barpolar\":[{\"marker\":{\"line\":{\"color\":\"#E5ECF6\",\"width\":0.5},\"pattern\":{\"fillmode\":\"overlay\",\"size\":10,\"solidity\":0.2}},\"type\":\"barpolar\"}],\"carpet\":[{\"aaxis\":{\"endlinecolor\":\"#2a3f5f\",\"gridcolor\":\"white\",\"linecolor\":\"white\",\"minorgridcolor\":\"white\",\"startlinecolor\":\"#2a3f5f\"},\"baxis\":{\"endlinecolor\":\"#2a3f5f\",\"gridcolor\":\"white\",\"linecolor\":\"white\",\"minorgridcolor\":\"white\",\"startlinecolor\":\"#2a3f5f\"},\"type\":\"carpet\"}],\"choropleth\":[{\"colorbar\":{\"outlinewidth\":0,\"ticks\":\"\"},\"type\":\"choropleth\"}],\"contour\":[{\"colorbar\":{\"outlinewidth\":0,\"ticks\":\"\"},\"colorscale\":[[0.0,\"#0d0887\"],[0.1111111111111111,\"#46039f\"],[0.2222222222222222,\"#7201a8\"],[0.3333333333333333,\"#9c179e\"],[0.4444444444444444,\"#bd3786\"],[0.5555555555555556,\"#d8576b\"],[0.6666666666666666,\"#ed7953\"],[0.7777777777777778,\"#fb9f3a\"],[0.8888888888888888,\"#fdca26\"],[1.0,\"#f0f921\"]],\"type\":\"contour\"}],\"contourcarpet\":[{\"colorbar\":{\"outlinewidth\":0,\"ticks\":\"\"},\"type\":\"contourcarpet\"}],\"heatmap\":[{\"colorbar\":{\"outlinewidth\":0,\"ticks\":\"\"},\"colorscale\":[[0.0,\"#0d0887\"],[0.1111111111111111,\"#46039f\"],[0.2222222222222222,\"#7201a8\"],[0.3333333333333333,\"#9c179e\"],[0.4444444444444444,\"#bd3786\"],[0.5555555555555556,\"#d8576b\"],[0.6666666666666666,\"#ed7953\"],[0.7777777777777778,\"#fb9f3a\"],[0.8888888888888888,\"#fdca26\"],[1.0,\"#f0f921\"]],\"type\":\"heatmap\"}],\"heatmapgl\":[{\"colorbar\":{\"outlinewidth\":0,\"ticks\":\"\"},\"colorscale\":[[0.0,\"#0d0887\"],[0.1111111111111111,\"#46039f\"],[0.2222222222222222,\"#7201a8\"],[0.3333333333333333,\"#9c179e\"],[0.4444444444444444,\"#bd3786\"],[0.5555555555555556,\"#d8576b\"],[0.6666666666666666,\"#ed7953\"],[0.7777777777777778,\"#fb9f3a\"],[0.8888888888888888,\"#fdca26\"],[1.0,\"#f0f921\"]],\"type\":\"heatmapgl\"}],\"histogram\":[{\"marker\":{\"pattern\":{\"fillmode\":\"overlay\",\"size\":10,\"solidity\":0.2}},\"type\":\"histogram\"}],\"histogram2d\":[{\"colorbar\":{\"outlinewidth\":0,\"ticks\":\"\"},\"colorscale\":[[0.0,\"#0d0887\"],[0.1111111111111111,\"#46039f\"],[0.2222222222222222,\"#7201a8\"],[0.3333333333333333,\"#9c179e\"],[0.4444444444444444,\"#bd3786\"],[0.5555555555555556,\"#d8576b\"],[0.6666666666666666,\"#ed7953\"],[0.7777777777777778,\"#fb9f3a\"],[0.8888888888888888,\"#fdca26\"],[1.0,\"#f0f921\"]],\"type\":\"histogram2d\"}],\"histogram2dcontour\":[{\"colorbar\":{\"outlinewidth\":0,\"ticks\":\"\"},\"colorscale\":[[0.0,\"#0d0887\"],[0.1111111111111111,\"#46039f\"],[0.2222222222222222,\"#7201a8\"],[0.3333333333333333,\"#9c179e\"],[0.4444444444444444,\"#bd3786\"],[0.5555555555555556,\"#d8576b\"],[0.6666666666666666,\"#ed7953\"],[0.7777777777777778,\"#fb9f3a\"],[0.8888888888888888,\"#fdca26\"],[1.0,\"#f0f921\"]],\"type\":\"histogram2dcontour\"}],\"mesh3d\":[{\"colorbar\":{\"outlinewidth\":0,\"ticks\":\"\"},\"type\":\"mesh3d\"}],\"parcoords\":[{\"line\":{\"colorbar\":{\"outlinewidth\":0,\"ticks\":\"\"}},\"type\":\"parcoords\"}],\"pie\":[{\"automargin\":true,\"type\":\"pie\"}],\"scatter\":[{\"marker\":{\"colorbar\":{\"outlinewidth\":0,\"ticks\":\"\"}},\"type\":\"scatter\"}],\"scatter3d\":[{\"line\":{\"colorbar\":{\"outlinewidth\":0,\"ticks\":\"\"}},\"marker\":{\"colorbar\":{\"outlinewidth\":0,\"ticks\":\"\"}},\"type\":\"scatter3d\"}],\"scattercarpet\":[{\"marker\":{\"colorbar\":{\"outlinewidth\":0,\"ticks\":\"\"}},\"type\":\"scattercarpet\"}],\"scattergeo\":[{\"marker\":{\"colorbar\":{\"outlinewidth\":0,\"ticks\":\"\"}},\"type\":\"scattergeo\"}],\"scattergl\":[{\"marker\":{\"colorbar\":{\"outlinewidth\":0,\"ticks\":\"\"}},\"type\":\"scattergl\"}],\"scattermapbox\":[{\"marker\":{\"colorbar\":{\"outlinewidth\":0,\"ticks\":\"\"}},\"type\":\"scattermapbox\"}],\"scatterpolar\":[{\"marker\":{\"colorbar\":{\"outlinewidth\":0,\"ticks\":\"\"}},\"type\":\"scatterpolar\"}],\"scatterpolargl\":[{\"marker\":{\"colorbar\":{\"outlinewidth\":0,\"ticks\":\"\"}},\"type\":\"scatterpolargl\"}],\"scatterternary\":[{\"marker\":{\"colorbar\":{\"outlinewidth\":0,\"ticks\":\"\"}},\"type\":\"scatterternary\"}],\"surface\":[{\"colorbar\":{\"outlinewidth\":0,\"ticks\":\"\"},\"colorscale\":[[0.0,\"#0d0887\"],[0.1111111111111111,\"#46039f\"],[0.2222222222222222,\"#7201a8\"],[0.3333333333333333,\"#9c179e\"],[0.4444444444444444,\"#bd3786\"],[0.5555555555555556,\"#d8576b\"],[0.6666666666666666,\"#ed7953\"],[0.7777777777777778,\"#fb9f3a\"],[0.8888888888888888,\"#fdca26\"],[1.0,\"#f0f921\"]],\"type\":\"surface\"}],\"table\":[{\"cells\":{\"fill\":{\"color\":\"#EBF0F8\"},\"line\":{\"color\":\"white\"}},\"header\":{\"fill\":{\"color\":\"#C8D4E3\"},\"line\":{\"color\":\"white\"}},\"type\":\"table\"}]},\"layout\":{\"annotationdefaults\":{\"arrowcolor\":\"#2a3f5f\",\"arrowhead\":0,\"arrowwidth\":1},\"autotypenumbers\":\"strict\",\"coloraxis\":{\"colorbar\":{\"outlinewidth\":0,\"ticks\":\"\"}},\"colorscale\":{\"diverging\":[[0,\"#8e0152\"],[0.1,\"#c51b7d\"],[0.2,\"#de77ae\"],[0.3,\"#f1b6da\"],[0.4,\"#fde0ef\"],[0.5,\"#f7f7f7\"],[0.6,\"#e6f5d0\"],[0.7,\"#b8e186\"],[0.8,\"#7fbc41\"],[0.9,\"#4d9221\"],[1,\"#276419\"]],\"sequential\":[[0.0,\"#0d0887\"],[0.1111111111111111,\"#46039f\"],[0.2222222222222222,\"#7201a8\"],[0.3333333333333333,\"#9c179e\"],[0.4444444444444444,\"#bd3786\"],[0.5555555555555556,\"#d8576b\"],[0.6666666666666666,\"#ed7953\"],[0.7777777777777778,\"#fb9f3a\"],[0.8888888888888888,\"#fdca26\"],[1.0,\"#f0f921\"]],\"sequentialminus\":[[0.0,\"#0d0887\"],[0.1111111111111111,\"#46039f\"],[0.2222222222222222,\"#7201a8\"],[0.3333333333333333,\"#9c179e\"],[0.4444444444444444,\"#bd3786\"],[0.5555555555555556,\"#d8576b\"],[0.6666666666666666,\"#ed7953\"],[0.7777777777777778,\"#fb9f3a\"],[0.8888888888888888,\"#fdca26\"],[1.0,\"#f0f921\"]]},\"colorway\":[\"#636efa\",\"#EF553B\",\"#00cc96\",\"#ab63fa\",\"#FFA15A\",\"#19d3f3\",\"#FF6692\",\"#B6E880\",\"#FF97FF\",\"#FECB52\"],\"font\":{\"color\":\"#2a3f5f\"},\"geo\":{\"bgcolor\":\"white\",\"lakecolor\":\"white\",\"landcolor\":\"#E5ECF6\",\"showlakes\":true,\"showland\":true,\"subunitcolor\":\"white\"},\"hoverlabel\":{\"align\":\"left\"},\"hovermode\":\"closest\",\"mapbox\":{\"style\":\"light\"},\"paper_bgcolor\":\"white\",\"plot_bgcolor\":\"#E5ECF6\",\"polar\":{\"angularaxis\":{\"gridcolor\":\"white\",\"linecolor\":\"white\",\"ticks\":\"\"},\"bgcolor\":\"#E5ECF6\",\"radialaxis\":{\"gridcolor\":\"white\",\"linecolor\":\"white\",\"ticks\":\"\"}},\"scene\":{\"xaxis\":{\"backgroundcolor\":\"#E5ECF6\",\"gridcolor\":\"white\",\"gridwidth\":2,\"linecolor\":\"white\",\"showbackground\":true,\"ticks\":\"\",\"zerolinecolor\":\"white\"},\"yaxis\":{\"backgroundcolor\":\"#E5ECF6\",\"gridcolor\":\"white\",\"gridwidth\":2,\"linecolor\":\"white\",\"showbackground\":true,\"ticks\":\"\",\"zerolinecolor\":\"white\"},\"zaxis\":{\"backgroundcolor\":\"#E5ECF6\",\"gridcolor\":\"white\",\"gridwidth\":2,\"linecolor\":\"white\",\"showbackground\":true,\"ticks\":\"\",\"zerolinecolor\":\"white\"}},\"shapedefaults\":{\"line\":{\"color\":\"#2a3f5f\"}},\"ternary\":{\"aaxis\":{\"gridcolor\":\"white\",\"linecolor\":\"white\",\"ticks\":\"\"},\"baxis\":{\"gridcolor\":\"white\",\"linecolor\":\"white\",\"ticks\":\"\"},\"bgcolor\":\"#E5ECF6\",\"caxis\":{\"gridcolor\":\"white\",\"linecolor\":\"white\",\"ticks\":\"\"}},\"title\":{\"x\":0.05},\"xaxis\":{\"automargin\":true,\"gridcolor\":\"white\",\"linecolor\":\"white\",\"ticks\":\"\",\"title\":{\"standoff\":15},\"zerolinecolor\":\"white\",\"zerolinewidth\":2},\"yaxis\":{\"automargin\":true,\"gridcolor\":\"white\",\"linecolor\":\"white\",\"ticks\":\"\",\"title\":{\"standoff\":15},\"zerolinecolor\":\"white\",\"zerolinewidth\":2}}},\"title\":{\"font\":{\"color\":\"#4D5663\"}},\"xaxis\":{\"gridcolor\":\"#E1E5ED\",\"showgrid\":true,\"tickfont\":{\"color\":\"#4D5663\"},\"title\":{\"font\":{\"color\":\"#4D5663\"},\"text\":\"\"},\"zerolinecolor\":\"#E1E5ED\"},\"xaxis2\":{\"anchor\":\"y2\",\"gridcolor\":\"#E1E5ED\",\"showgrid\":true,\"showticklabels\":false,\"tickfont\":{\"color\":\"#4D5663\"},\"title\":{\"font\":{\"color\":\"#4D5663\"},\"text\":\"\"},\"zerolinecolor\":\"#E1E5ED\"},\"yaxis\":{\"domain\":[0.3,1],\"gridcolor\":\"#E1E5ED\",\"showgrid\":true,\"tickfont\":{\"color\":\"#4D5663\"},\"title\":{\"font\":{\"color\":\"#4D5663\"},\"text\":\"\"},\"zerolinecolor\":\"#E1E5ED\"},\"yaxis2\":{\"domain\":[0,0.25],\"gridcolor\":\"#E1E5ED\",\"showgrid\":true,\"tickfont\":{\"color\":\"#4D5663\"},\"title\":{\"font\":{\"color\":\"#4D5663\"},\"text\":\"Spread\"},\"zerolinecolor\":\"#E1E5ED\"}},                        {\"showLink\": true, \"linkText\": \"Export to plot.ly\", \"plotlyServerURL\": \"https://plot.ly\", \"responsive\": true}                    ).then(function(){\n",
       "                            \n",
       "var gd = document.getElementById('43ee5b17-b270-4aef-ae7c-a83aa31024ea');\n",
       "var x = new MutationObserver(function (mutations, observer) {{\n",
       "        var display = window.getComputedStyle(gd).display;\n",
       "        if (!display || display === 'none') {{\n",
       "            console.log([gd, 'removed!']);\n",
       "            Plotly.purge(gd);\n",
       "            observer.disconnect();\n",
       "        }}\n",
       "}});\n",
       "\n",
       "// Listen for the removal of the full notebook cells\n",
       "var notebookContainer = gd.closest('#notebook-container');\n",
       "if (notebookContainer) {{\n",
       "    x.observe(notebookContainer, {childList: true});\n",
       "}}\n",
       "\n",
       "// Listen for the clearing of the current output cell\n",
       "var outputEl = gd.closest('.output');\n",
       "if (outputEl) {{\n",
       "    x.observe(outputEl, {childList: true});\n",
       "}}\n",
       "\n",
       "                        })                };                });            </script>        </div>"
      ]
     },
     "metadata": {},
     "output_type": "display_data"
    }
   ],
   "source": [
    "df_moscow[['total_amount_by_flight','profit']].iplot(kind='spread')"
   ]
  },
  {
   "cell_type": "code",
   "execution_count": 41,
   "id": "3178e9e4",
   "metadata": {},
   "outputs": [
    {
     "data": {
      "application/vnd.plotly.v1+json": {
       "config": {
        "linkText": "Export to plot.ly",
        "plotlyServerURL": "https://plot.ly",
        "showLink": true
       },
       "data": [
        {
         "line": {
          "color": "rgba(255, 153, 51, 1.0)",
          "dash": "solid",
          "shape": "linear",
          "width": 1.3
         },
         "mode": "lines",
         "name": "total_amount_by_flight",
         "text": "",
         "type": "scatter",
         "x": [
          1,
          3,
          5,
          7,
          9,
          11,
          13,
          15,
          17,
          19,
          21,
          23,
          25,
          27,
          29,
          31,
          33,
          35,
          37,
          39,
          41,
          43,
          45,
          47,
          49,
          51,
          53,
          55,
          57,
          59,
          61,
          63,
          65,
          67,
          69,
          71,
          73,
          75,
          77,
          79,
          81,
          83,
          85,
          87,
          89,
          91,
          93,
          95,
          97,
          99,
          101,
          103,
          105,
          107,
          109,
          111,
          113,
          115,
          117,
          119,
          121,
          123,
          125,
          127,
          129,
          131,
          133,
          135,
          137,
          139,
          141,
          143,
          145,
          147,
          149,
          151,
          153,
          155,
          157,
          159,
          161,
          163,
          165,
          167,
          169,
          171,
          173,
          175,
          177,
          179
         ],
         "y": [
          746400,
          740100,
          759000,
          632400,
          733800,
          765300,
          746400,
          765300,
          645000,
          695400,
          695400,
          676500,
          689700,
          765300,
          689700,
          721200,
          657000,
          765300,
          696000,
          689700,
          759000,
          721200,
          670800,
          701700,
          677100,
          733800,
          765300,
          733800,
          765300,
          765300,
          631800,
          759000,
          632400,
          626100,
          759000,
          633000,
          740100,
          714300,
          639300,
          746400,
          759000,
          702300,
          765300,
          765300,
          765300,
          689700,
          759000,
          752700,
          759000,
          759000,
          595200,
          765300,
          765300,
          651300,
          670200,
          752700,
          752700,
          765300,
          631200,
          695400,
          531000,
          765300,
          765300,
          720600,
          759000,
          746400,
          620400,
          721200,
          765300,
          765300,
          664500,
          696000,
          607800,
          689100,
          765300,
          626100,
          765300,
          765300,
          613500,
          765300,
          765300,
          677100,
          746400,
          759000,
          531000,
          714900,
          746400,
          746400,
          765300,
          575100
         ]
        },
        {
         "line": {
          "color": "rgba(55, 128, 191, 1.0)",
          "dash": "solid",
          "shape": "linear",
          "width": 1.3
         },
         "mode": "lines",
         "name": "profit",
         "text": "",
         "type": "scatter",
         "x": [
          1,
          3,
          5,
          7,
          9,
          11,
          13,
          15,
          17,
          19,
          21,
          23,
          25,
          27,
          29,
          31,
          33,
          35,
          37,
          39,
          41,
          43,
          45,
          47,
          49,
          51,
          53,
          55,
          57,
          59,
          61,
          63,
          65,
          67,
          69,
          71,
          73,
          75,
          77,
          79,
          81,
          83,
          85,
          87,
          89,
          91,
          93,
          95,
          97,
          99,
          101,
          103,
          105,
          107,
          109,
          111,
          113,
          115,
          117,
          119,
          121,
          123,
          125,
          127,
          129,
          131,
          133,
          135,
          137,
          139,
          141,
          143,
          145,
          147,
          149,
          151,
          153,
          155,
          157,
          159,
          161,
          163,
          165,
          167,
          169,
          171,
          173,
          175,
          177,
          179
         ],
         "y": [
          692440,
          685038,
          702837,
          577338,
          678738,
          710238,
          691338,
          710238,
          588837,
          641440,
          640338,
          621438,
          635740,
          710238,
          634638,
          666138,
          603040,
          710238,
          642040,
          635740,
          705040,
          666138,
          615738,
          646638,
          622038,
          678738,
          710238,
          678738,
          709137,
          710238,
          576738,
          700300,
          573700,
          567400,
          700300,
          573126,
          681400,
          654426,
          580600,
          686526,
          700300,
          643600,
          707774,
          706600,
          706600,
          631000,
          699126,
          692826,
          700300,
          701474,
          537674,
          706600,
          705426,
          591426,
          610326,
          694000,
          694000,
          707774,
          572500,
          636700,
          473474,
          706600,
          708146,
          665687,
          702967,
          690367,
          563246,
          666287,
          708146,
          709267,
          608467,
          638846,
          551767,
          634187,
          709267,
          570067,
          708146,
          709267,
          558587,
          708146,
          708146,
          622187,
          690367,
          702967,
          474967,
          658867,
          690367,
          690367,
          709267,
          519067
         ]
        },
        {
         "connectgaps": false,
         "fill": "tozeroy",
         "line": {
          "color": "green",
          "dash": "solid",
          "shape": "linear",
          "width": 0.5
         },
         "mode": "lines",
         "name": "Spread",
         "showlegend": false,
         "type": "scatter",
         "x": [
          1,
          3,
          5,
          7,
          9,
          11,
          13,
          15,
          17,
          19,
          21,
          23,
          25,
          27,
          29,
          31,
          33,
          35,
          37,
          39,
          41,
          43,
          45,
          47,
          49,
          51,
          53,
          55,
          57,
          59,
          61,
          63,
          65,
          67,
          69,
          71,
          73,
          75,
          77,
          79,
          81,
          83,
          85,
          87,
          89,
          91,
          93,
          95,
          97,
          99,
          101,
          103,
          105,
          107,
          109,
          111,
          113,
          115,
          117,
          119,
          121,
          123,
          125,
          127,
          129,
          131,
          133,
          135,
          137,
          139,
          141,
          143,
          145,
          147,
          149,
          151,
          153,
          155,
          157,
          159,
          161,
          163,
          165,
          167,
          169,
          171,
          173,
          175,
          177,
          179
         ],
         "xaxis": "x2",
         "y": [
          53960,
          55062,
          56163,
          55062,
          55062,
          55062,
          55062,
          55062,
          56163,
          53960,
          55062,
          55062,
          53960,
          55062,
          55062,
          55062,
          53960,
          55062,
          53960,
          53960,
          53960,
          55062,
          55062,
          55062,
          55062,
          55062,
          55062,
          55062,
          56163,
          55062,
          55062,
          58700,
          58700,
          58700,
          58700,
          59874,
          58700,
          59874,
          58700,
          59874,
          58700,
          58700,
          57526,
          58700,
          58700,
          58700,
          59874,
          59874,
          58700,
          57526,
          57526,
          58700,
          59874,
          59874,
          59874,
          58700,
          58700,
          57526,
          58700,
          58700,
          57526,
          58700,
          57154,
          54913,
          56033,
          56033,
          57154,
          54913,
          57154,
          56033,
          56033,
          57154,
          56033,
          54913,
          56033,
          56033,
          57154,
          56033,
          54913,
          57154,
          57154,
          54913,
          56033,
          56033,
          56033,
          56033,
          56033,
          56033,
          56033,
          56033
         ],
         "yaxis": "y2"
        },
        {
         "connectgaps": false,
         "fill": "tozeroy",
         "line": {
          "color": "red",
          "dash": "solid",
          "shape": "linear",
          "width": 0.5
         },
         "mode": "lines",
         "name": "Spread",
         "showlegend": false,
         "type": "scatter",
         "x": [
          1,
          3,
          5,
          7,
          9,
          11,
          13,
          15,
          17,
          19,
          21,
          23,
          25,
          27,
          29,
          31,
          33,
          35,
          37,
          39,
          41,
          43,
          45,
          47,
          49,
          51,
          53,
          55,
          57,
          59,
          61,
          63,
          65,
          67,
          69,
          71,
          73,
          75,
          77,
          79,
          81,
          83,
          85,
          87,
          89,
          91,
          93,
          95,
          97,
          99,
          101,
          103,
          105,
          107,
          109,
          111,
          113,
          115,
          117,
          119,
          121,
          123,
          125,
          127,
          129,
          131,
          133,
          135,
          137,
          139,
          141,
          143,
          145,
          147,
          149,
          151,
          153,
          155,
          157,
          159,
          161,
          163,
          165,
          167,
          169,
          171,
          173,
          175,
          177,
          179
         ],
         "xaxis": "x2",
         "y": [
          "",
          "",
          "",
          "",
          "",
          "",
          "",
          "",
          "",
          "",
          "",
          "",
          "",
          "",
          "",
          "",
          "",
          "",
          "",
          "",
          "",
          "",
          "",
          "",
          "",
          "",
          "",
          "",
          "",
          "",
          "",
          "",
          "",
          "",
          "",
          "",
          "",
          "",
          "",
          "",
          "",
          "",
          "",
          "",
          "",
          "",
          "",
          "",
          "",
          "",
          "",
          "",
          "",
          "",
          "",
          "",
          "",
          "",
          "",
          "",
          "",
          "",
          "",
          "",
          "",
          "",
          "",
          "",
          "",
          "",
          "",
          "",
          "",
          "",
          "",
          "",
          "",
          "",
          "",
          "",
          "",
          "",
          "",
          "",
          "",
          "",
          "",
          "",
          "",
          ""
         ],
         "yaxis": "y2"
        }
       ],
       "layout": {
        "hovermode": "x",
        "legend": {
         "bgcolor": "#F5F6F9",
         "font": {
          "color": "#4D5663"
         }
        },
        "paper_bgcolor": "#F5F6F9",
        "plot_bgcolor": "#F5F6F9",
        "template": {
         "data": {
          "bar": [
           {
            "error_x": {
             "color": "#2a3f5f"
            },
            "error_y": {
             "color": "#2a3f5f"
            },
            "marker": {
             "line": {
              "color": "#E5ECF6",
              "width": 0.5
             },
             "pattern": {
              "fillmode": "overlay",
              "size": 10,
              "solidity": 0.2
             }
            },
            "type": "bar"
           }
          ],
          "barpolar": [
           {
            "marker": {
             "line": {
              "color": "#E5ECF6",
              "width": 0.5
             },
             "pattern": {
              "fillmode": "overlay",
              "size": 10,
              "solidity": 0.2
             }
            },
            "type": "barpolar"
           }
          ],
          "carpet": [
           {
            "aaxis": {
             "endlinecolor": "#2a3f5f",
             "gridcolor": "white",
             "linecolor": "white",
             "minorgridcolor": "white",
             "startlinecolor": "#2a3f5f"
            },
            "baxis": {
             "endlinecolor": "#2a3f5f",
             "gridcolor": "white",
             "linecolor": "white",
             "minorgridcolor": "white",
             "startlinecolor": "#2a3f5f"
            },
            "type": "carpet"
           }
          ],
          "choropleth": [
           {
            "colorbar": {
             "outlinewidth": 0,
             "ticks": ""
            },
            "type": "choropleth"
           }
          ],
          "contour": [
           {
            "colorbar": {
             "outlinewidth": 0,
             "ticks": ""
            },
            "colorscale": [
             [
              0,
              "#0d0887"
             ],
             [
              0.1111111111111111,
              "#46039f"
             ],
             [
              0.2222222222222222,
              "#7201a8"
             ],
             [
              0.3333333333333333,
              "#9c179e"
             ],
             [
              0.4444444444444444,
              "#bd3786"
             ],
             [
              0.5555555555555556,
              "#d8576b"
             ],
             [
              0.6666666666666666,
              "#ed7953"
             ],
             [
              0.7777777777777778,
              "#fb9f3a"
             ],
             [
              0.8888888888888888,
              "#fdca26"
             ],
             [
              1,
              "#f0f921"
             ]
            ],
            "type": "contour"
           }
          ],
          "contourcarpet": [
           {
            "colorbar": {
             "outlinewidth": 0,
             "ticks": ""
            },
            "type": "contourcarpet"
           }
          ],
          "heatmap": [
           {
            "colorbar": {
             "outlinewidth": 0,
             "ticks": ""
            },
            "colorscale": [
             [
              0,
              "#0d0887"
             ],
             [
              0.1111111111111111,
              "#46039f"
             ],
             [
              0.2222222222222222,
              "#7201a8"
             ],
             [
              0.3333333333333333,
              "#9c179e"
             ],
             [
              0.4444444444444444,
              "#bd3786"
             ],
             [
              0.5555555555555556,
              "#d8576b"
             ],
             [
              0.6666666666666666,
              "#ed7953"
             ],
             [
              0.7777777777777778,
              "#fb9f3a"
             ],
             [
              0.8888888888888888,
              "#fdca26"
             ],
             [
              1,
              "#f0f921"
             ]
            ],
            "type": "heatmap"
           }
          ],
          "heatmapgl": [
           {
            "colorbar": {
             "outlinewidth": 0,
             "ticks": ""
            },
            "colorscale": [
             [
              0,
              "#0d0887"
             ],
             [
              0.1111111111111111,
              "#46039f"
             ],
             [
              0.2222222222222222,
              "#7201a8"
             ],
             [
              0.3333333333333333,
              "#9c179e"
             ],
             [
              0.4444444444444444,
              "#bd3786"
             ],
             [
              0.5555555555555556,
              "#d8576b"
             ],
             [
              0.6666666666666666,
              "#ed7953"
             ],
             [
              0.7777777777777778,
              "#fb9f3a"
             ],
             [
              0.8888888888888888,
              "#fdca26"
             ],
             [
              1,
              "#f0f921"
             ]
            ],
            "type": "heatmapgl"
           }
          ],
          "histogram": [
           {
            "marker": {
             "pattern": {
              "fillmode": "overlay",
              "size": 10,
              "solidity": 0.2
             }
            },
            "type": "histogram"
           }
          ],
          "histogram2d": [
           {
            "colorbar": {
             "outlinewidth": 0,
             "ticks": ""
            },
            "colorscale": [
             [
              0,
              "#0d0887"
             ],
             [
              0.1111111111111111,
              "#46039f"
             ],
             [
              0.2222222222222222,
              "#7201a8"
             ],
             [
              0.3333333333333333,
              "#9c179e"
             ],
             [
              0.4444444444444444,
              "#bd3786"
             ],
             [
              0.5555555555555556,
              "#d8576b"
             ],
             [
              0.6666666666666666,
              "#ed7953"
             ],
             [
              0.7777777777777778,
              "#fb9f3a"
             ],
             [
              0.8888888888888888,
              "#fdca26"
             ],
             [
              1,
              "#f0f921"
             ]
            ],
            "type": "histogram2d"
           }
          ],
          "histogram2dcontour": [
           {
            "colorbar": {
             "outlinewidth": 0,
             "ticks": ""
            },
            "colorscale": [
             [
              0,
              "#0d0887"
             ],
             [
              0.1111111111111111,
              "#46039f"
             ],
             [
              0.2222222222222222,
              "#7201a8"
             ],
             [
              0.3333333333333333,
              "#9c179e"
             ],
             [
              0.4444444444444444,
              "#bd3786"
             ],
             [
              0.5555555555555556,
              "#d8576b"
             ],
             [
              0.6666666666666666,
              "#ed7953"
             ],
             [
              0.7777777777777778,
              "#fb9f3a"
             ],
             [
              0.8888888888888888,
              "#fdca26"
             ],
             [
              1,
              "#f0f921"
             ]
            ],
            "type": "histogram2dcontour"
           }
          ],
          "mesh3d": [
           {
            "colorbar": {
             "outlinewidth": 0,
             "ticks": ""
            },
            "type": "mesh3d"
           }
          ],
          "parcoords": [
           {
            "line": {
             "colorbar": {
              "outlinewidth": 0,
              "ticks": ""
             }
            },
            "type": "parcoords"
           }
          ],
          "pie": [
           {
            "automargin": true,
            "type": "pie"
           }
          ],
          "scatter": [
           {
            "marker": {
             "colorbar": {
              "outlinewidth": 0,
              "ticks": ""
             }
            },
            "type": "scatter"
           }
          ],
          "scatter3d": [
           {
            "line": {
             "colorbar": {
              "outlinewidth": 0,
              "ticks": ""
             }
            },
            "marker": {
             "colorbar": {
              "outlinewidth": 0,
              "ticks": ""
             }
            },
            "type": "scatter3d"
           }
          ],
          "scattercarpet": [
           {
            "marker": {
             "colorbar": {
              "outlinewidth": 0,
              "ticks": ""
             }
            },
            "type": "scattercarpet"
           }
          ],
          "scattergeo": [
           {
            "marker": {
             "colorbar": {
              "outlinewidth": 0,
              "ticks": ""
             }
            },
            "type": "scattergeo"
           }
          ],
          "scattergl": [
           {
            "marker": {
             "colorbar": {
              "outlinewidth": 0,
              "ticks": ""
             }
            },
            "type": "scattergl"
           }
          ],
          "scattermapbox": [
           {
            "marker": {
             "colorbar": {
              "outlinewidth": 0,
              "ticks": ""
             }
            },
            "type": "scattermapbox"
           }
          ],
          "scatterpolar": [
           {
            "marker": {
             "colorbar": {
              "outlinewidth": 0,
              "ticks": ""
             }
            },
            "type": "scatterpolar"
           }
          ],
          "scatterpolargl": [
           {
            "marker": {
             "colorbar": {
              "outlinewidth": 0,
              "ticks": ""
             }
            },
            "type": "scatterpolargl"
           }
          ],
          "scatterternary": [
           {
            "marker": {
             "colorbar": {
              "outlinewidth": 0,
              "ticks": ""
             }
            },
            "type": "scatterternary"
           }
          ],
          "surface": [
           {
            "colorbar": {
             "outlinewidth": 0,
             "ticks": ""
            },
            "colorscale": [
             [
              0,
              "#0d0887"
             ],
             [
              0.1111111111111111,
              "#46039f"
             ],
             [
              0.2222222222222222,
              "#7201a8"
             ],
             [
              0.3333333333333333,
              "#9c179e"
             ],
             [
              0.4444444444444444,
              "#bd3786"
             ],
             [
              0.5555555555555556,
              "#d8576b"
             ],
             [
              0.6666666666666666,
              "#ed7953"
             ],
             [
              0.7777777777777778,
              "#fb9f3a"
             ],
             [
              0.8888888888888888,
              "#fdca26"
             ],
             [
              1,
              "#f0f921"
             ]
            ],
            "type": "surface"
           }
          ],
          "table": [
           {
            "cells": {
             "fill": {
              "color": "#EBF0F8"
             },
             "line": {
              "color": "white"
             }
            },
            "header": {
             "fill": {
              "color": "#C8D4E3"
             },
             "line": {
              "color": "white"
             }
            },
            "type": "table"
           }
          ]
         },
         "layout": {
          "annotationdefaults": {
           "arrowcolor": "#2a3f5f",
           "arrowhead": 0,
           "arrowwidth": 1
          },
          "autotypenumbers": "strict",
          "coloraxis": {
           "colorbar": {
            "outlinewidth": 0,
            "ticks": ""
           }
          },
          "colorscale": {
           "diverging": [
            [
             0,
             "#8e0152"
            ],
            [
             0.1,
             "#c51b7d"
            ],
            [
             0.2,
             "#de77ae"
            ],
            [
             0.3,
             "#f1b6da"
            ],
            [
             0.4,
             "#fde0ef"
            ],
            [
             0.5,
             "#f7f7f7"
            ],
            [
             0.6,
             "#e6f5d0"
            ],
            [
             0.7,
             "#b8e186"
            ],
            [
             0.8,
             "#7fbc41"
            ],
            [
             0.9,
             "#4d9221"
            ],
            [
             1,
             "#276419"
            ]
           ],
           "sequential": [
            [
             0,
             "#0d0887"
            ],
            [
             0.1111111111111111,
             "#46039f"
            ],
            [
             0.2222222222222222,
             "#7201a8"
            ],
            [
             0.3333333333333333,
             "#9c179e"
            ],
            [
             0.4444444444444444,
             "#bd3786"
            ],
            [
             0.5555555555555556,
             "#d8576b"
            ],
            [
             0.6666666666666666,
             "#ed7953"
            ],
            [
             0.7777777777777778,
             "#fb9f3a"
            ],
            [
             0.8888888888888888,
             "#fdca26"
            ],
            [
             1,
             "#f0f921"
            ]
           ],
           "sequentialminus": [
            [
             0,
             "#0d0887"
            ],
            [
             0.1111111111111111,
             "#46039f"
            ],
            [
             0.2222222222222222,
             "#7201a8"
            ],
            [
             0.3333333333333333,
             "#9c179e"
            ],
            [
             0.4444444444444444,
             "#bd3786"
            ],
            [
             0.5555555555555556,
             "#d8576b"
            ],
            [
             0.6666666666666666,
             "#ed7953"
            ],
            [
             0.7777777777777778,
             "#fb9f3a"
            ],
            [
             0.8888888888888888,
             "#fdca26"
            ],
            [
             1,
             "#f0f921"
            ]
           ]
          },
          "colorway": [
           "#636efa",
           "#EF553B",
           "#00cc96",
           "#ab63fa",
           "#FFA15A",
           "#19d3f3",
           "#FF6692",
           "#B6E880",
           "#FF97FF",
           "#FECB52"
          ],
          "font": {
           "color": "#2a3f5f"
          },
          "geo": {
           "bgcolor": "white",
           "lakecolor": "white",
           "landcolor": "#E5ECF6",
           "showlakes": true,
           "showland": true,
           "subunitcolor": "white"
          },
          "hoverlabel": {
           "align": "left"
          },
          "hovermode": "closest",
          "mapbox": {
           "style": "light"
          },
          "paper_bgcolor": "white",
          "plot_bgcolor": "#E5ECF6",
          "polar": {
           "angularaxis": {
            "gridcolor": "white",
            "linecolor": "white",
            "ticks": ""
           },
           "bgcolor": "#E5ECF6",
           "radialaxis": {
            "gridcolor": "white",
            "linecolor": "white",
            "ticks": ""
           }
          },
          "scene": {
           "xaxis": {
            "backgroundcolor": "#E5ECF6",
            "gridcolor": "white",
            "gridwidth": 2,
            "linecolor": "white",
            "showbackground": true,
            "ticks": "",
            "zerolinecolor": "white"
           },
           "yaxis": {
            "backgroundcolor": "#E5ECF6",
            "gridcolor": "white",
            "gridwidth": 2,
            "linecolor": "white",
            "showbackground": true,
            "ticks": "",
            "zerolinecolor": "white"
           },
           "zaxis": {
            "backgroundcolor": "#E5ECF6",
            "gridcolor": "white",
            "gridwidth": 2,
            "linecolor": "white",
            "showbackground": true,
            "ticks": "",
            "zerolinecolor": "white"
           }
          },
          "shapedefaults": {
           "line": {
            "color": "#2a3f5f"
           }
          },
          "ternary": {
           "aaxis": {
            "gridcolor": "white",
            "linecolor": "white",
            "ticks": ""
           },
           "baxis": {
            "gridcolor": "white",
            "linecolor": "white",
            "ticks": ""
           },
           "bgcolor": "#E5ECF6",
           "caxis": {
            "gridcolor": "white",
            "linecolor": "white",
            "ticks": ""
           }
          },
          "title": {
           "x": 0.05
          },
          "xaxis": {
           "automargin": true,
           "gridcolor": "white",
           "linecolor": "white",
           "ticks": "",
           "title": {
            "standoff": 15
           },
           "zerolinecolor": "white",
           "zerolinewidth": 2
          },
          "yaxis": {
           "automargin": true,
           "gridcolor": "white",
           "linecolor": "white",
           "ticks": "",
           "title": {
            "standoff": 15
           },
           "zerolinecolor": "white",
           "zerolinewidth": 2
          }
         }
        },
        "title": {
         "font": {
          "color": "#4D5663"
         }
        },
        "xaxis": {
         "gridcolor": "#E1E5ED",
         "showgrid": true,
         "tickfont": {
          "color": "#4D5663"
         },
         "title": {
          "font": {
           "color": "#4D5663"
          },
          "text": ""
         },
         "zerolinecolor": "#E1E5ED"
        },
        "xaxis2": {
         "anchor": "y2",
         "gridcolor": "#E1E5ED",
         "showgrid": true,
         "showticklabels": false,
         "tickfont": {
          "color": "#4D5663"
         },
         "title": {
          "font": {
           "color": "#4D5663"
          },
          "text": ""
         },
         "zerolinecolor": "#E1E5ED"
        },
        "yaxis": {
         "domain": [
          0.3,
          1
         ],
         "gridcolor": "#E1E5ED",
         "showgrid": true,
         "tickfont": {
          "color": "#4D5663"
         },
         "title": {
          "font": {
           "color": "#4D5663"
          },
          "text": ""
         },
         "zerolinecolor": "#E1E5ED"
        },
        "yaxis2": {
         "domain": [
          0,
          0.25
         ],
         "gridcolor": "#E1E5ED",
         "showgrid": true,
         "tickfont": {
          "color": "#4D5663"
         },
         "title": {
          "font": {
           "color": "#4D5663"
          },
          "text": "Spread"
         },
         "zerolinecolor": "#E1E5ED"
        }
       }
      },
      "text/html": [
       "<div>                            <div id=\"f83a5a2c-0002-4d4e-867a-c26a1ab26de8\" class=\"plotly-graph-div\" style=\"height:525px; width:100%;\"></div>            <script type=\"text/javascript\">                require([\"plotly\"], function(Plotly) {                    window.PLOTLYENV=window.PLOTLYENV || {};\n",
       "                    window.PLOTLYENV.BASE_URL='https://plot.ly';                                    if (document.getElementById(\"f83a5a2c-0002-4d4e-867a-c26a1ab26de8\")) {                    Plotly.newPlot(                        \"f83a5a2c-0002-4d4e-867a-c26a1ab26de8\",                        [{\"line\":{\"color\":\"rgba(255, 153, 51, 1.0)\",\"dash\":\"solid\",\"shape\":\"linear\",\"width\":1.3},\"mode\":\"lines\",\"name\":\"total_amount_by_flight\",\"text\":\"\",\"type\":\"scatter\",\"x\":[1,3,5,7,9,11,13,15,17,19,21,23,25,27,29,31,33,35,37,39,41,43,45,47,49,51,53,55,57,59,61,63,65,67,69,71,73,75,77,79,81,83,85,87,89,91,93,95,97,99,101,103,105,107,109,111,113,115,117,119,121,123,125,127,129,131,133,135,137,139,141,143,145,147,149,151,153,155,157,159,161,163,165,167,169,171,173,175,177,179],\"y\":[746400.0,740100.0,759000.0,632400.0,733800.0,765300.0,746400.0,765300.0,645000.0,695400.0,695400.0,676500.0,689700.0,765300.0,689700.0,721200.0,657000.0,765300.0,696000.0,689700.0,759000.0,721200.0,670800.0,701700.0,677100.0,733800.0,765300.0,733800.0,765300.0,765300.0,631800.0,759000.0,632400.0,626100.0,759000.0,633000.0,740100.0,714300.0,639300.0,746400.0,759000.0,702300.0,765300.0,765300.0,765300.0,689700.0,759000.0,752700.0,759000.0,759000.0,595200.0,765300.0,765300.0,651300.0,670200.0,752700.0,752700.0,765300.0,631200.0,695400.0,531000.0,765300.0,765300.0,720600.0,759000.0,746400.0,620400.0,721200.0,765300.0,765300.0,664500.0,696000.0,607800.0,689100.0,765300.0,626100.0,765300.0,765300.0,613500.0,765300.0,765300.0,677100.0,746400.0,759000.0,531000.0,714900.0,746400.0,746400.0,765300.0,575100.0]},{\"line\":{\"color\":\"rgba(55, 128, 191, 1.0)\",\"dash\":\"solid\",\"shape\":\"linear\",\"width\":1.3},\"mode\":\"lines\",\"name\":\"profit\",\"text\":\"\",\"type\":\"scatter\",\"x\":[1,3,5,7,9,11,13,15,17,19,21,23,25,27,29,31,33,35,37,39,41,43,45,47,49,51,53,55,57,59,61,63,65,67,69,71,73,75,77,79,81,83,85,87,89,91,93,95,97,99,101,103,105,107,109,111,113,115,117,119,121,123,125,127,129,131,133,135,137,139,141,143,145,147,149,151,153,155,157,159,161,163,165,167,169,171,173,175,177,179],\"y\":[692440.0,685038.0,702837.0,577338.0,678738.0,710238.0,691338.0,710238.0,588837.0,641440.0,640338.0,621438.0,635740.0,710238.0,634638.0,666138.0,603040.0,710238.0,642040.0,635740.0,705040.0,666138.0,615738.0,646638.0,622038.0,678738.0,710238.0,678738.0,709137.0,710238.0,576738.0,700300.0,573700.0,567400.0,700300.0,573126.0,681400.0,654426.0,580600.0,686526.0,700300.0,643600.0,707774.0,706600.0,706600.0,631000.0,699126.0,692826.0,700300.0,701474.0,537674.0,706600.0,705426.0,591426.0,610326.0,694000.0,694000.0,707774.0,572500.0,636700.0,473474.0,706600.0,708146.0,665687.0,702967.0,690367.0,563246.0,666287.0,708146.0,709267.0,608467.0,638846.0,551767.0,634187.0,709267.0,570067.0,708146.0,709267.0,558587.0,708146.0,708146.0,622187.0,690367.0,702967.0,474967.0,658867.0,690367.0,690367.0,709267.0,519067.0]},{\"connectgaps\":false,\"fill\":\"tozeroy\",\"line\":{\"color\":\"green\",\"dash\":\"solid\",\"shape\":\"linear\",\"width\":0.5},\"mode\":\"lines\",\"name\":\"Spread\",\"showlegend\":false,\"type\":\"scatter\",\"x\":[1,3,5,7,9,11,13,15,17,19,21,23,25,27,29,31,33,35,37,39,41,43,45,47,49,51,53,55,57,59,61,63,65,67,69,71,73,75,77,79,81,83,85,87,89,91,93,95,97,99,101,103,105,107,109,111,113,115,117,119,121,123,125,127,129,131,133,135,137,139,141,143,145,147,149,151,153,155,157,159,161,163,165,167,169,171,173,175,177,179],\"xaxis\":\"x2\",\"y\":[53960.0,55062.0,56163.0,55062.0,55062.0,55062.0,55062.0,55062.0,56163.0,53960.0,55062.0,55062.0,53960.0,55062.0,55062.0,55062.0,53960.0,55062.0,53960.0,53960.0,53960.0,55062.0,55062.0,55062.0,55062.0,55062.0,55062.0,55062.0,56163.0,55062.0,55062.0,58700.0,58700.0,58700.0,58700.0,59874.0,58700.0,59874.0,58700.0,59874.0,58700.0,58700.0,57526.0,58700.0,58700.0,58700.0,59874.0,59874.0,58700.0,57526.0,57526.0,58700.0,59874.0,59874.0,59874.0,58700.0,58700.0,57526.0,58700.0,58700.0,57526.0,58700.0,57154.0,54913.0,56033.0,56033.0,57154.0,54913.0,57154.0,56033.0,56033.0,57154.0,56033.0,54913.0,56033.0,56033.0,57154.0,56033.0,54913.0,57154.0,57154.0,54913.0,56033.0,56033.0,56033.0,56033.0,56033.0,56033.0,56033.0,56033.0],\"yaxis\":\"y2\"},{\"connectgaps\":false,\"fill\":\"tozeroy\",\"line\":{\"color\":\"red\",\"dash\":\"solid\",\"shape\":\"linear\",\"width\":0.5},\"mode\":\"lines\",\"name\":\"Spread\",\"showlegend\":false,\"type\":\"scatter\",\"x\":[1,3,5,7,9,11,13,15,17,19,21,23,25,27,29,31,33,35,37,39,41,43,45,47,49,51,53,55,57,59,61,63,65,67,69,71,73,75,77,79,81,83,85,87,89,91,93,95,97,99,101,103,105,107,109,111,113,115,117,119,121,123,125,127,129,131,133,135,137,139,141,143,145,147,149,151,153,155,157,159,161,163,165,167,169,171,173,175,177,179],\"xaxis\":\"x2\",\"y\":[\"\",\"\",\"\",\"\",\"\",\"\",\"\",\"\",\"\",\"\",\"\",\"\",\"\",\"\",\"\",\"\",\"\",\"\",\"\",\"\",\"\",\"\",\"\",\"\",\"\",\"\",\"\",\"\",\"\",\"\",\"\",\"\",\"\",\"\",\"\",\"\",\"\",\"\",\"\",\"\",\"\",\"\",\"\",\"\",\"\",\"\",\"\",\"\",\"\",\"\",\"\",\"\",\"\",\"\",\"\",\"\",\"\",\"\",\"\",\"\",\"\",\"\",\"\",\"\",\"\",\"\",\"\",\"\",\"\",\"\",\"\",\"\",\"\",\"\",\"\",\"\",\"\",\"\",\"\",\"\",\"\",\"\",\"\",\"\",\"\",\"\",\"\",\"\",\"\",\"\"],\"yaxis\":\"y2\"}],                        {\"hovermode\":\"x\",\"legend\":{\"bgcolor\":\"#F5F6F9\",\"font\":{\"color\":\"#4D5663\"}},\"paper_bgcolor\":\"#F5F6F9\",\"plot_bgcolor\":\"#F5F6F9\",\"template\":{\"data\":{\"bar\":[{\"error_x\":{\"color\":\"#2a3f5f\"},\"error_y\":{\"color\":\"#2a3f5f\"},\"marker\":{\"line\":{\"color\":\"#E5ECF6\",\"width\":0.5},\"pattern\":{\"fillmode\":\"overlay\",\"size\":10,\"solidity\":0.2}},\"type\":\"bar\"}],\"barpolar\":[{\"marker\":{\"line\":{\"color\":\"#E5ECF6\",\"width\":0.5},\"pattern\":{\"fillmode\":\"overlay\",\"size\":10,\"solidity\":0.2}},\"type\":\"barpolar\"}],\"carpet\":[{\"aaxis\":{\"endlinecolor\":\"#2a3f5f\",\"gridcolor\":\"white\",\"linecolor\":\"white\",\"minorgridcolor\":\"white\",\"startlinecolor\":\"#2a3f5f\"},\"baxis\":{\"endlinecolor\":\"#2a3f5f\",\"gridcolor\":\"white\",\"linecolor\":\"white\",\"minorgridcolor\":\"white\",\"startlinecolor\":\"#2a3f5f\"},\"type\":\"carpet\"}],\"choropleth\":[{\"colorbar\":{\"outlinewidth\":0,\"ticks\":\"\"},\"type\":\"choropleth\"}],\"contour\":[{\"colorbar\":{\"outlinewidth\":0,\"ticks\":\"\"},\"colorscale\":[[0.0,\"#0d0887\"],[0.1111111111111111,\"#46039f\"],[0.2222222222222222,\"#7201a8\"],[0.3333333333333333,\"#9c179e\"],[0.4444444444444444,\"#bd3786\"],[0.5555555555555556,\"#d8576b\"],[0.6666666666666666,\"#ed7953\"],[0.7777777777777778,\"#fb9f3a\"],[0.8888888888888888,\"#fdca26\"],[1.0,\"#f0f921\"]],\"type\":\"contour\"}],\"contourcarpet\":[{\"colorbar\":{\"outlinewidth\":0,\"ticks\":\"\"},\"type\":\"contourcarpet\"}],\"heatmap\":[{\"colorbar\":{\"outlinewidth\":0,\"ticks\":\"\"},\"colorscale\":[[0.0,\"#0d0887\"],[0.1111111111111111,\"#46039f\"],[0.2222222222222222,\"#7201a8\"],[0.3333333333333333,\"#9c179e\"],[0.4444444444444444,\"#bd3786\"],[0.5555555555555556,\"#d8576b\"],[0.6666666666666666,\"#ed7953\"],[0.7777777777777778,\"#fb9f3a\"],[0.8888888888888888,\"#fdca26\"],[1.0,\"#f0f921\"]],\"type\":\"heatmap\"}],\"heatmapgl\":[{\"colorbar\":{\"outlinewidth\":0,\"ticks\":\"\"},\"colorscale\":[[0.0,\"#0d0887\"],[0.1111111111111111,\"#46039f\"],[0.2222222222222222,\"#7201a8\"],[0.3333333333333333,\"#9c179e\"],[0.4444444444444444,\"#bd3786\"],[0.5555555555555556,\"#d8576b\"],[0.6666666666666666,\"#ed7953\"],[0.7777777777777778,\"#fb9f3a\"],[0.8888888888888888,\"#fdca26\"],[1.0,\"#f0f921\"]],\"type\":\"heatmapgl\"}],\"histogram\":[{\"marker\":{\"pattern\":{\"fillmode\":\"overlay\",\"size\":10,\"solidity\":0.2}},\"type\":\"histogram\"}],\"histogram2d\":[{\"colorbar\":{\"outlinewidth\":0,\"ticks\":\"\"},\"colorscale\":[[0.0,\"#0d0887\"],[0.1111111111111111,\"#46039f\"],[0.2222222222222222,\"#7201a8\"],[0.3333333333333333,\"#9c179e\"],[0.4444444444444444,\"#bd3786\"],[0.5555555555555556,\"#d8576b\"],[0.6666666666666666,\"#ed7953\"],[0.7777777777777778,\"#fb9f3a\"],[0.8888888888888888,\"#fdca26\"],[1.0,\"#f0f921\"]],\"type\":\"histogram2d\"}],\"histogram2dcontour\":[{\"colorbar\":{\"outlinewidth\":0,\"ticks\":\"\"},\"colorscale\":[[0.0,\"#0d0887\"],[0.1111111111111111,\"#46039f\"],[0.2222222222222222,\"#7201a8\"],[0.3333333333333333,\"#9c179e\"],[0.4444444444444444,\"#bd3786\"],[0.5555555555555556,\"#d8576b\"],[0.6666666666666666,\"#ed7953\"],[0.7777777777777778,\"#fb9f3a\"],[0.8888888888888888,\"#fdca26\"],[1.0,\"#f0f921\"]],\"type\":\"histogram2dcontour\"}],\"mesh3d\":[{\"colorbar\":{\"outlinewidth\":0,\"ticks\":\"\"},\"type\":\"mesh3d\"}],\"parcoords\":[{\"line\":{\"colorbar\":{\"outlinewidth\":0,\"ticks\":\"\"}},\"type\":\"parcoords\"}],\"pie\":[{\"automargin\":true,\"type\":\"pie\"}],\"scatter\":[{\"marker\":{\"colorbar\":{\"outlinewidth\":0,\"ticks\":\"\"}},\"type\":\"scatter\"}],\"scatter3d\":[{\"line\":{\"colorbar\":{\"outlinewidth\":0,\"ticks\":\"\"}},\"marker\":{\"colorbar\":{\"outlinewidth\":0,\"ticks\":\"\"}},\"type\":\"scatter3d\"}],\"scattercarpet\":[{\"marker\":{\"colorbar\":{\"outlinewidth\":0,\"ticks\":\"\"}},\"type\":\"scattercarpet\"}],\"scattergeo\":[{\"marker\":{\"colorbar\":{\"outlinewidth\":0,\"ticks\":\"\"}},\"type\":\"scattergeo\"}],\"scattergl\":[{\"marker\":{\"colorbar\":{\"outlinewidth\":0,\"ticks\":\"\"}},\"type\":\"scattergl\"}],\"scattermapbox\":[{\"marker\":{\"colorbar\":{\"outlinewidth\":0,\"ticks\":\"\"}},\"type\":\"scattermapbox\"}],\"scatterpolar\":[{\"marker\":{\"colorbar\":{\"outlinewidth\":0,\"ticks\":\"\"}},\"type\":\"scatterpolar\"}],\"scatterpolargl\":[{\"marker\":{\"colorbar\":{\"outlinewidth\":0,\"ticks\":\"\"}},\"type\":\"scatterpolargl\"}],\"scatterternary\":[{\"marker\":{\"colorbar\":{\"outlinewidth\":0,\"ticks\":\"\"}},\"type\":\"scatterternary\"}],\"surface\":[{\"colorbar\":{\"outlinewidth\":0,\"ticks\":\"\"},\"colorscale\":[[0.0,\"#0d0887\"],[0.1111111111111111,\"#46039f\"],[0.2222222222222222,\"#7201a8\"],[0.3333333333333333,\"#9c179e\"],[0.4444444444444444,\"#bd3786\"],[0.5555555555555556,\"#d8576b\"],[0.6666666666666666,\"#ed7953\"],[0.7777777777777778,\"#fb9f3a\"],[0.8888888888888888,\"#fdca26\"],[1.0,\"#f0f921\"]],\"type\":\"surface\"}],\"table\":[{\"cells\":{\"fill\":{\"color\":\"#EBF0F8\"},\"line\":{\"color\":\"white\"}},\"header\":{\"fill\":{\"color\":\"#C8D4E3\"},\"line\":{\"color\":\"white\"}},\"type\":\"table\"}]},\"layout\":{\"annotationdefaults\":{\"arrowcolor\":\"#2a3f5f\",\"arrowhead\":0,\"arrowwidth\":1},\"autotypenumbers\":\"strict\",\"coloraxis\":{\"colorbar\":{\"outlinewidth\":0,\"ticks\":\"\"}},\"colorscale\":{\"diverging\":[[0,\"#8e0152\"],[0.1,\"#c51b7d\"],[0.2,\"#de77ae\"],[0.3,\"#f1b6da\"],[0.4,\"#fde0ef\"],[0.5,\"#f7f7f7\"],[0.6,\"#e6f5d0\"],[0.7,\"#b8e186\"],[0.8,\"#7fbc41\"],[0.9,\"#4d9221\"],[1,\"#276419\"]],\"sequential\":[[0.0,\"#0d0887\"],[0.1111111111111111,\"#46039f\"],[0.2222222222222222,\"#7201a8\"],[0.3333333333333333,\"#9c179e\"],[0.4444444444444444,\"#bd3786\"],[0.5555555555555556,\"#d8576b\"],[0.6666666666666666,\"#ed7953\"],[0.7777777777777778,\"#fb9f3a\"],[0.8888888888888888,\"#fdca26\"],[1.0,\"#f0f921\"]],\"sequentialminus\":[[0.0,\"#0d0887\"],[0.1111111111111111,\"#46039f\"],[0.2222222222222222,\"#7201a8\"],[0.3333333333333333,\"#9c179e\"],[0.4444444444444444,\"#bd3786\"],[0.5555555555555556,\"#d8576b\"],[0.6666666666666666,\"#ed7953\"],[0.7777777777777778,\"#fb9f3a\"],[0.8888888888888888,\"#fdca26\"],[1.0,\"#f0f921\"]]},\"colorway\":[\"#636efa\",\"#EF553B\",\"#00cc96\",\"#ab63fa\",\"#FFA15A\",\"#19d3f3\",\"#FF6692\",\"#B6E880\",\"#FF97FF\",\"#FECB52\"],\"font\":{\"color\":\"#2a3f5f\"},\"geo\":{\"bgcolor\":\"white\",\"lakecolor\":\"white\",\"landcolor\":\"#E5ECF6\",\"showlakes\":true,\"showland\":true,\"subunitcolor\":\"white\"},\"hoverlabel\":{\"align\":\"left\"},\"hovermode\":\"closest\",\"mapbox\":{\"style\":\"light\"},\"paper_bgcolor\":\"white\",\"plot_bgcolor\":\"#E5ECF6\",\"polar\":{\"angularaxis\":{\"gridcolor\":\"white\",\"linecolor\":\"white\",\"ticks\":\"\"},\"bgcolor\":\"#E5ECF6\",\"radialaxis\":{\"gridcolor\":\"white\",\"linecolor\":\"white\",\"ticks\":\"\"}},\"scene\":{\"xaxis\":{\"backgroundcolor\":\"#E5ECF6\",\"gridcolor\":\"white\",\"gridwidth\":2,\"linecolor\":\"white\",\"showbackground\":true,\"ticks\":\"\",\"zerolinecolor\":\"white\"},\"yaxis\":{\"backgroundcolor\":\"#E5ECF6\",\"gridcolor\":\"white\",\"gridwidth\":2,\"linecolor\":\"white\",\"showbackground\":true,\"ticks\":\"\",\"zerolinecolor\":\"white\"},\"zaxis\":{\"backgroundcolor\":\"#E5ECF6\",\"gridcolor\":\"white\",\"gridwidth\":2,\"linecolor\":\"white\",\"showbackground\":true,\"ticks\":\"\",\"zerolinecolor\":\"white\"}},\"shapedefaults\":{\"line\":{\"color\":\"#2a3f5f\"}},\"ternary\":{\"aaxis\":{\"gridcolor\":\"white\",\"linecolor\":\"white\",\"ticks\":\"\"},\"baxis\":{\"gridcolor\":\"white\",\"linecolor\":\"white\",\"ticks\":\"\"},\"bgcolor\":\"#E5ECF6\",\"caxis\":{\"gridcolor\":\"white\",\"linecolor\":\"white\",\"ticks\":\"\"}},\"title\":{\"x\":0.05},\"xaxis\":{\"automargin\":true,\"gridcolor\":\"white\",\"linecolor\":\"white\",\"ticks\":\"\",\"title\":{\"standoff\":15},\"zerolinecolor\":\"white\",\"zerolinewidth\":2},\"yaxis\":{\"automargin\":true,\"gridcolor\":\"white\",\"linecolor\":\"white\",\"ticks\":\"\",\"title\":{\"standoff\":15},\"zerolinecolor\":\"white\",\"zerolinewidth\":2}}},\"title\":{\"font\":{\"color\":\"#4D5663\"}},\"xaxis\":{\"gridcolor\":\"#E1E5ED\",\"showgrid\":true,\"tickfont\":{\"color\":\"#4D5663\"},\"title\":{\"font\":{\"color\":\"#4D5663\"},\"text\":\"\"},\"zerolinecolor\":\"#E1E5ED\"},\"xaxis2\":{\"anchor\":\"y2\",\"gridcolor\":\"#E1E5ED\",\"showgrid\":true,\"showticklabels\":false,\"tickfont\":{\"color\":\"#4D5663\"},\"title\":{\"font\":{\"color\":\"#4D5663\"},\"text\":\"\"},\"zerolinecolor\":\"#E1E5ED\"},\"yaxis\":{\"domain\":[0.3,1],\"gridcolor\":\"#E1E5ED\",\"showgrid\":true,\"tickfont\":{\"color\":\"#4D5663\"},\"title\":{\"font\":{\"color\":\"#4D5663\"},\"text\":\"\"},\"zerolinecolor\":\"#E1E5ED\"},\"yaxis2\":{\"domain\":[0,0.25],\"gridcolor\":\"#E1E5ED\",\"showgrid\":true,\"tickfont\":{\"color\":\"#4D5663\"},\"title\":{\"font\":{\"color\":\"#4D5663\"},\"text\":\"Spread\"},\"zerolinecolor\":\"#E1E5ED\"}},                        {\"showLink\": true, \"linkText\": \"Export to plot.ly\", \"plotlyServerURL\": \"https://plot.ly\", \"responsive\": true}                    ).then(function(){\n",
       "                            \n",
       "var gd = document.getElementById('f83a5a2c-0002-4d4e-867a-c26a1ab26de8');\n",
       "var x = new MutationObserver(function (mutations, observer) {{\n",
       "        var display = window.getComputedStyle(gd).display;\n",
       "        if (!display || display === 'none') {{\n",
       "            console.log([gd, 'removed!']);\n",
       "            Plotly.purge(gd);\n",
       "            observer.disconnect();\n",
       "        }}\n",
       "}});\n",
       "\n",
       "// Listen for the removal of the full notebook cells\n",
       "var notebookContainer = gd.closest('#notebook-container');\n",
       "if (notebookContainer) {{\n",
       "    x.observe(notebookContainer, {childList: true});\n",
       "}}\n",
       "\n",
       "// Listen for the clearing of the current output cell\n",
       "var outputEl = gd.closest('.output');\n",
       "if (outputEl) {{\n",
       "    x.observe(outputEl, {childList: true});\n",
       "}}\n",
       "\n",
       "                        })                };                });            </script>        </div>"
      ]
     },
     "metadata": {},
     "output_type": "display_data"
    }
   ],
   "source": [
    "df_belgorod[['total_amount_by_flight','profit']].iplot(kind='spread')"
   ]
  },
  {
   "cell_type": "code",
   "execution_count": 46,
   "id": "24b8ee2e",
   "metadata": {},
   "outputs": [
    {
     "data": {
      "text/html": [
       "<div>\n",
       "<style scoped>\n",
       "    .dataframe tbody tr th:only-of-type {\n",
       "        vertical-align: middle;\n",
       "    }\n",
       "\n",
       "    .dataframe tbody tr th {\n",
       "        vertical-align: top;\n",
       "    }\n",
       "\n",
       "    .dataframe thead th {\n",
       "        text-align: right;\n",
       "    }\n",
       "</style>\n",
       "<table border=\"1\" class=\"dataframe\">\n",
       "  <thead>\n",
       "    <tr style=\"text-align: right;\">\n",
       "      <th></th>\n",
       "      <th>flight_id</th>\n",
       "      <th>flight_no</th>\n",
       "      <th>scheduled_departure</th>\n",
       "      <th>actual_departure</th>\n",
       "      <th>dep_dow</th>\n",
       "      <th>dep_month</th>\n",
       "      <th>dep_day</th>\n",
       "      <th>dep_hour</th>\n",
       "      <th>sheduled_duration</th>\n",
       "      <th>actual_duration</th>\n",
       "      <th>departure_city</th>\n",
       "      <th>arrival_city</th>\n",
       "      <th>departure_lat</th>\n",
       "      <th>departure_lon</th>\n",
       "      <th>arrival_lat</th>\n",
       "      <th>arrival_lon</th>\n",
       "      <th>aircraft_code</th>\n",
       "      <th>model</th>\n",
       "      <th>range</th>\n",
       "      <th>count_tickets</th>\n",
       "      <th>how_full</th>\n",
       "      <th>bus_class_tickets</th>\n",
       "      <th>econ_class_tickets</th>\n",
       "      <th>ac_capacity</th>\n",
       "      <th>bus_class_capacity</th>\n",
       "      <th>econ_class_capacity</th>\n",
       "      <th>total_amount_by_flight</th>\n",
       "      <th>avg_amount_by_flight</th>\n",
       "      <th>min_amount_by_flight</th>\n",
       "      <th>max_amount_by_flight</th>\n",
       "      <th>count_36600</th>\n",
       "      <th>count_12200</th>\n",
       "      <th>count_13400</th>\n",
       "      <th>count_18900</th>\n",
       "      <th>count_6300</th>\n",
       "      <th>count_6900</th>\n",
       "      <th>distance</th>\n",
       "      <th>flight_cost</th>\n",
       "      <th>profit</th>\n",
       "    </tr>\n",
       "  </thead>\n",
       "  <tbody>\n",
       "    <tr>\n",
       "      <th>18</th>\n",
       "      <td>136352</td>\n",
       "      <td>PG0252</td>\n",
       "      <td>2016-12-10</td>\n",
       "      <td>2016-12-10</td>\n",
       "      <td>6.0</td>\n",
       "      <td>12.0</td>\n",
       "      <td>10.0</td>\n",
       "      <td>10.0</td>\n",
       "      <td>100.0</td>\n",
       "      <td>100.0</td>\n",
       "      <td>Anapa</td>\n",
       "      <td>Moscow</td>\n",
       "      <td>45.002102</td>\n",
       "      <td>37.347301</td>\n",
       "      <td>55.972599</td>\n",
       "      <td>37.4146</td>\n",
       "      <td>733</td>\n",
       "      <td>Boeing 737-300</td>\n",
       "      <td>4200</td>\n",
       "      <td>92</td>\n",
       "      <td>0.707692</td>\n",
       "      <td>10</td>\n",
       "      <td>82</td>\n",
       "      <td>130</td>\n",
       "      <td>12</td>\n",
       "      <td>118</td>\n",
       "      <td>1372400.0</td>\n",
       "      <td>14917.391304</td>\n",
       "      <td>12200.0</td>\n",
       "      <td>36600.0</td>\n",
       "      <td>10</td>\n",
       "      <td>77</td>\n",
       "      <td>5</td>\n",
       "      <td>0</td>\n",
       "      <td>0</td>\n",
       "      <td>0</td>\n",
       "      <td>1219.872758</td>\n",
       "      <td>113411.404419</td>\n",
       "      <td>1258989.0</td>\n",
       "    </tr>\n",
       "    <tr>\n",
       "      <th>78</th>\n",
       "      <td>136464</td>\n",
       "      <td>PG0252</td>\n",
       "      <td>2017-01-09</td>\n",
       "      <td>2017-01-09</td>\n",
       "      <td>1.0</td>\n",
       "      <td>1.0</td>\n",
       "      <td>9.0</td>\n",
       "      <td>10.0</td>\n",
       "      <td>100.0</td>\n",
       "      <td>100.0</td>\n",
       "      <td>Anapa</td>\n",
       "      <td>Moscow</td>\n",
       "      <td>45.002102</td>\n",
       "      <td>37.347301</td>\n",
       "      <td>55.972599</td>\n",
       "      <td>37.4146</td>\n",
       "      <td>733</td>\n",
       "      <td>Boeing 737-300</td>\n",
       "      <td>4200</td>\n",
       "      <td>100</td>\n",
       "      <td>0.769231</td>\n",
       "      <td>7</td>\n",
       "      <td>93</td>\n",
       "      <td>130</td>\n",
       "      <td>12</td>\n",
       "      <td>118</td>\n",
       "      <td>1398000.0</td>\n",
       "      <td>13980.000000</td>\n",
       "      <td>12200.0</td>\n",
       "      <td>36600.0</td>\n",
       "      <td>7</td>\n",
       "      <td>87</td>\n",
       "      <td>6</td>\n",
       "      <td>0</td>\n",
       "      <td>0</td>\n",
       "      <td>0</td>\n",
       "      <td>1219.872758</td>\n",
       "      <td>131418.112105</td>\n",
       "      <td>1266582.0</td>\n",
       "    </tr>\n",
       "    <tr>\n",
       "      <th>138</th>\n",
       "      <td>136250</td>\n",
       "      <td>PG0252</td>\n",
       "      <td>2017-02-08</td>\n",
       "      <td>2017-02-08</td>\n",
       "      <td>3.0</td>\n",
       "      <td>2.0</td>\n",
       "      <td>8.0</td>\n",
       "      <td>10.0</td>\n",
       "      <td>100.0</td>\n",
       "      <td>101.0</td>\n",
       "      <td>Anapa</td>\n",
       "      <td>Moscow</td>\n",
       "      <td>45.002102</td>\n",
       "      <td>37.347301</td>\n",
       "      <td>55.972599</td>\n",
       "      <td>37.4146</td>\n",
       "      <td>733</td>\n",
       "      <td>Boeing 737-300</td>\n",
       "      <td>4200</td>\n",
       "      <td>99</td>\n",
       "      <td>0.761538</td>\n",
       "      <td>8</td>\n",
       "      <td>91</td>\n",
       "      <td>130</td>\n",
       "      <td>12</td>\n",
       "      <td>118</td>\n",
       "      <td>1407800.0</td>\n",
       "      <td>14220.202020</td>\n",
       "      <td>12200.0</td>\n",
       "      <td>36600.0</td>\n",
       "      <td>8</td>\n",
       "      <td>87</td>\n",
       "      <td>4</td>\n",
       "      <td>0</td>\n",
       "      <td>0</td>\n",
       "      <td>0</td>\n",
       "      <td>1219.872758</td>\n",
       "      <td>124194.540417</td>\n",
       "      <td>1283605.0</td>\n",
       "    </tr>\n",
       "  </tbody>\n",
       "</table>\n",
       "</div>"
      ],
      "text/plain": [
       "     flight_id flight_no scheduled_departure actual_departure  dep_dow  \\\n",
       "18      136352    PG0252          2016-12-10       2016-12-10      6.0   \n",
       "78      136464    PG0252          2017-01-09       2017-01-09      1.0   \n",
       "138     136250    PG0252          2017-02-08       2017-02-08      3.0   \n",
       "\n",
       "     dep_month  dep_day  dep_hour  sheduled_duration  actual_duration  \\\n",
       "18        12.0     10.0      10.0              100.0            100.0   \n",
       "78         1.0      9.0      10.0              100.0            100.0   \n",
       "138        2.0      8.0      10.0              100.0            101.0   \n",
       "\n",
       "    departure_city arrival_city  departure_lat  departure_lon  arrival_lat  \\\n",
       "18           Anapa       Moscow      45.002102      37.347301    55.972599   \n",
       "78           Anapa       Moscow      45.002102      37.347301    55.972599   \n",
       "138          Anapa       Moscow      45.002102      37.347301    55.972599   \n",
       "\n",
       "     arrival_lon aircraft_code           model  range  count_tickets  \\\n",
       "18       37.4146           733  Boeing 737-300   4200             92   \n",
       "78       37.4146           733  Boeing 737-300   4200            100   \n",
       "138      37.4146           733  Boeing 737-300   4200             99   \n",
       "\n",
       "     how_full  bus_class_tickets  econ_class_tickets  ac_capacity  \\\n",
       "18   0.707692                 10                  82          130   \n",
       "78   0.769231                  7                  93          130   \n",
       "138  0.761538                  8                  91          130   \n",
       "\n",
       "     bus_class_capacity  econ_class_capacity  total_amount_by_flight  \\\n",
       "18                   12                  118               1372400.0   \n",
       "78                   12                  118               1398000.0   \n",
       "138                  12                  118               1407800.0   \n",
       "\n",
       "     avg_amount_by_flight  min_amount_by_flight  max_amount_by_flight  \\\n",
       "18           14917.391304               12200.0               36600.0   \n",
       "78           13980.000000               12200.0               36600.0   \n",
       "138          14220.202020               12200.0               36600.0   \n",
       "\n",
       "     count_36600  count_12200  count_13400  count_18900  count_6300  \\\n",
       "18            10           77            5            0           0   \n",
       "78             7           87            6            0           0   \n",
       "138            8           87            4            0           0   \n",
       "\n",
       "     count_6900     distance    flight_cost     profit  \n",
       "18            0  1219.872758  113411.404419  1258989.0  \n",
       "78            0  1219.872758  131418.112105  1266582.0  \n",
       "138           0  1219.872758  124194.540417  1283605.0  "
      ]
     },
     "execution_count": 46,
     "metadata": {},
     "output_type": "execute_result"
    }
   ],
   "source": [
    "df_moscow.sort_values(by='profit').head(3)"
   ]
  },
  {
   "cell_type": "markdown",
   "id": "9061c925",
   "metadata": {},
   "source": [
    "#### Как видим, самые малодоходные рейсы по направлению в Москву были совершены:\n",
    "* 10 декабря 2016 (flight_id=136352, заполненность - 70.8%, profit=1258989)\n",
    "* 9 января 2017 (flight_id=136464, заполненность - 76.9%, profit=1266582)\n",
    "* 8 февраля 2017 (flight_id=136250, заполненность - 76.2%, profit=1283605)"
   ]
  },
  {
   "cell_type": "code",
   "execution_count": 47,
   "id": "70a5d152",
   "metadata": {},
   "outputs": [
    {
     "data": {
      "text/html": [
       "<div>\n",
       "<style scoped>\n",
       "    .dataframe tbody tr th:only-of-type {\n",
       "        vertical-align: middle;\n",
       "    }\n",
       "\n",
       "    .dataframe tbody tr th {\n",
       "        vertical-align: top;\n",
       "    }\n",
       "\n",
       "    .dataframe thead th {\n",
       "        text-align: right;\n",
       "    }\n",
       "</style>\n",
       "<table border=\"1\" class=\"dataframe\">\n",
       "  <thead>\n",
       "    <tr style=\"text-align: right;\">\n",
       "      <th></th>\n",
       "      <th>flight_id</th>\n",
       "      <th>flight_no</th>\n",
       "      <th>scheduled_departure</th>\n",
       "      <th>actual_departure</th>\n",
       "      <th>dep_dow</th>\n",
       "      <th>dep_month</th>\n",
       "      <th>dep_day</th>\n",
       "      <th>dep_hour</th>\n",
       "      <th>sheduled_duration</th>\n",
       "      <th>actual_duration</th>\n",
       "      <th>departure_city</th>\n",
       "      <th>arrival_city</th>\n",
       "      <th>departure_lat</th>\n",
       "      <th>departure_lon</th>\n",
       "      <th>arrival_lat</th>\n",
       "      <th>arrival_lon</th>\n",
       "      <th>aircraft_code</th>\n",
       "      <th>model</th>\n",
       "      <th>range</th>\n",
       "      <th>count_tickets</th>\n",
       "      <th>how_full</th>\n",
       "      <th>bus_class_tickets</th>\n",
       "      <th>econ_class_tickets</th>\n",
       "      <th>ac_capacity</th>\n",
       "      <th>bus_class_capacity</th>\n",
       "      <th>econ_class_capacity</th>\n",
       "      <th>total_amount_by_flight</th>\n",
       "      <th>avg_amount_by_flight</th>\n",
       "      <th>min_amount_by_flight</th>\n",
       "      <th>max_amount_by_flight</th>\n",
       "      <th>count_36600</th>\n",
       "      <th>count_12200</th>\n",
       "      <th>count_13400</th>\n",
       "      <th>count_18900</th>\n",
       "      <th>count_6300</th>\n",
       "      <th>count_6900</th>\n",
       "      <th>distance</th>\n",
       "      <th>flight_cost</th>\n",
       "      <th>profit</th>\n",
       "    </tr>\n",
       "  </thead>\n",
       "  <tbody>\n",
       "    <tr>\n",
       "      <th>121</th>\n",
       "      <td>136642</td>\n",
       "      <td>PG0480</td>\n",
       "      <td>2017-01-30</td>\n",
       "      <td>2017-01-30</td>\n",
       "      <td>1.0</td>\n",
       "      <td>1.0</td>\n",
       "      <td>30.0</td>\n",
       "      <td>9.0</td>\n",
       "      <td>50.0</td>\n",
       "      <td>49.0</td>\n",
       "      <td>Anapa</td>\n",
       "      <td>Belgorod</td>\n",
       "      <td>45.002102</td>\n",
       "      <td>37.347301</td>\n",
       "      <td>50.643799</td>\n",
       "      <td>36.590099</td>\n",
       "      <td>SU9</td>\n",
       "      <td>Sukhoi Superjet-100</td>\n",
       "      <td>3000</td>\n",
       "      <td>64</td>\n",
       "      <td>0.659794</td>\n",
       "      <td>10</td>\n",
       "      <td>54</td>\n",
       "      <td>97</td>\n",
       "      <td>12</td>\n",
       "      <td>85</td>\n",
       "      <td>531000.0</td>\n",
       "      <td>8296.875000</td>\n",
       "      <td>6300.0</td>\n",
       "      <td>18900.0</td>\n",
       "      <td>0</td>\n",
       "      <td>0</td>\n",
       "      <td>0</td>\n",
       "      <td>10</td>\n",
       "      <td>51</td>\n",
       "      <td>3</td>\n",
       "      <td>629.860554</td>\n",
       "      <td>57525.591667</td>\n",
       "      <td>473474.0</td>\n",
       "    </tr>\n",
       "    <tr>\n",
       "      <th>169</th>\n",
       "      <td>136807</td>\n",
       "      <td>PG0480</td>\n",
       "      <td>2017-02-23</td>\n",
       "      <td>2017-02-23</td>\n",
       "      <td>4.0</td>\n",
       "      <td>2.0</td>\n",
       "      <td>23.0</td>\n",
       "      <td>9.0</td>\n",
       "      <td>50.0</td>\n",
       "      <td>50.0</td>\n",
       "      <td>Anapa</td>\n",
       "      <td>Belgorod</td>\n",
       "      <td>45.002102</td>\n",
       "      <td>37.347301</td>\n",
       "      <td>50.643799</td>\n",
       "      <td>36.590099</td>\n",
       "      <td>SU9</td>\n",
       "      <td>Sukhoi Superjet-100</td>\n",
       "      <td>3000</td>\n",
       "      <td>68</td>\n",
       "      <td>0.701031</td>\n",
       "      <td>8</td>\n",
       "      <td>60</td>\n",
       "      <td>97</td>\n",
       "      <td>12</td>\n",
       "      <td>85</td>\n",
       "      <td>531000.0</td>\n",
       "      <td>7808.823529</td>\n",
       "      <td>6300.0</td>\n",
       "      <td>18900.0</td>\n",
       "      <td>0</td>\n",
       "      <td>0</td>\n",
       "      <td>0</td>\n",
       "      <td>8</td>\n",
       "      <td>57</td>\n",
       "      <td>3</td>\n",
       "      <td>629.860554</td>\n",
       "      <td>56033.416667</td>\n",
       "      <td>474967.0</td>\n",
       "    </tr>\n",
       "    <tr>\n",
       "      <th>179</th>\n",
       "      <td>136844</td>\n",
       "      <td>PG0480</td>\n",
       "      <td>2017-02-28</td>\n",
       "      <td>2017-02-28</td>\n",
       "      <td>2.0</td>\n",
       "      <td>2.0</td>\n",
       "      <td>28.0</td>\n",
       "      <td>9.0</td>\n",
       "      <td>50.0</td>\n",
       "      <td>50.0</td>\n",
       "      <td>Anapa</td>\n",
       "      <td>Belgorod</td>\n",
       "      <td>45.002102</td>\n",
       "      <td>37.347301</td>\n",
       "      <td>50.643799</td>\n",
       "      <td>36.590099</td>\n",
       "      <td>SU9</td>\n",
       "      <td>Sukhoi Superjet-100</td>\n",
       "      <td>3000</td>\n",
       "      <td>79</td>\n",
       "      <td>0.814433</td>\n",
       "      <td>6</td>\n",
       "      <td>73</td>\n",
       "      <td>97</td>\n",
       "      <td>12</td>\n",
       "      <td>85</td>\n",
       "      <td>575100.0</td>\n",
       "      <td>7279.746835</td>\n",
       "      <td>6300.0</td>\n",
       "      <td>18900.0</td>\n",
       "      <td>0</td>\n",
       "      <td>0</td>\n",
       "      <td>0</td>\n",
       "      <td>6</td>\n",
       "      <td>70</td>\n",
       "      <td>3</td>\n",
       "      <td>629.860554</td>\n",
       "      <td>56033.416667</td>\n",
       "      <td>519067.0</td>\n",
       "    </tr>\n",
       "  </tbody>\n",
       "</table>\n",
       "</div>"
      ],
      "text/plain": [
       "     flight_id flight_no scheduled_departure actual_departure  dep_dow  \\\n",
       "121     136642    PG0480          2017-01-30       2017-01-30      1.0   \n",
       "169     136807    PG0480          2017-02-23       2017-02-23      4.0   \n",
       "179     136844    PG0480          2017-02-28       2017-02-28      2.0   \n",
       "\n",
       "     dep_month  dep_day  dep_hour  sheduled_duration  actual_duration  \\\n",
       "121        1.0     30.0       9.0               50.0             49.0   \n",
       "169        2.0     23.0       9.0               50.0             50.0   \n",
       "179        2.0     28.0       9.0               50.0             50.0   \n",
       "\n",
       "    departure_city arrival_city  departure_lat  departure_lon  arrival_lat  \\\n",
       "121          Anapa     Belgorod      45.002102      37.347301    50.643799   \n",
       "169          Anapa     Belgorod      45.002102      37.347301    50.643799   \n",
       "179          Anapa     Belgorod      45.002102      37.347301    50.643799   \n",
       "\n",
       "     arrival_lon aircraft_code                model  range  count_tickets  \\\n",
       "121    36.590099           SU9  Sukhoi Superjet-100   3000             64   \n",
       "169    36.590099           SU9  Sukhoi Superjet-100   3000             68   \n",
       "179    36.590099           SU9  Sukhoi Superjet-100   3000             79   \n",
       "\n",
       "     how_full  bus_class_tickets  econ_class_tickets  ac_capacity  \\\n",
       "121  0.659794                 10                  54           97   \n",
       "169  0.701031                  8                  60           97   \n",
       "179  0.814433                  6                  73           97   \n",
       "\n",
       "     bus_class_capacity  econ_class_capacity  total_amount_by_flight  \\\n",
       "121                  12                   85                531000.0   \n",
       "169                  12                   85                531000.0   \n",
       "179                  12                   85                575100.0   \n",
       "\n",
       "     avg_amount_by_flight  min_amount_by_flight  max_amount_by_flight  \\\n",
       "121           8296.875000                6300.0               18900.0   \n",
       "169           7808.823529                6300.0               18900.0   \n",
       "179           7279.746835                6300.0               18900.0   \n",
       "\n",
       "     count_36600  count_12200  count_13400  count_18900  count_6300  \\\n",
       "121            0            0            0           10          51   \n",
       "169            0            0            0            8          57   \n",
       "179            0            0            0            6          70   \n",
       "\n",
       "     count_6900    distance   flight_cost    profit  \n",
       "121           3  629.860554  57525.591667  473474.0  \n",
       "169           3  629.860554  56033.416667  474967.0  \n",
       "179           3  629.860554  56033.416667  519067.0  "
      ]
     },
     "execution_count": 47,
     "metadata": {},
     "output_type": "execute_result"
    }
   ],
   "source": [
    "df_belgorod.sort_values(by='profit').head(3)"
   ]
  },
  {
   "cell_type": "markdown",
   "id": "07c5200f",
   "metadata": {},
   "source": [
    "#### Как видим, самые малодоходные рейсы по направлению в Белгород были совершены:\n",
    "* 30 января 2017 (flight_id=136642, заполненность - 66%, profit=473474)\n",
    "* 23 февраля 2017 (flight_id=136807, заполненность - 70.1%, profit=474967)\n",
    "* 28 февраля 2017 (flight_id=136844, заполненность - 81.4%, profit=519067)"
   ]
  },
  {
   "cell_type": "code",
   "execution_count": null,
   "id": "ebb9f1c1",
   "metadata": {},
   "outputs": [],
   "source": []
  }
 ],
 "metadata": {
  "kernelspec": {
   "display_name": "Python 3",
   "language": "python",
   "name": "python3"
  },
  "language_info": {
   "codemirror_mode": {
    "name": "ipython",
    "version": 3
   },
   "file_extension": ".py",
   "mimetype": "text/x-python",
   "name": "python",
   "nbconvert_exporter": "python",
   "pygments_lexer": "ipython3",
   "version": "3.8.8"
  }
 },
 "nbformat": 4,
 "nbformat_minor": 5
}
