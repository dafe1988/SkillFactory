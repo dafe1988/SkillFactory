{
  "cells": [
    {
      "cell_type": "code",
      "execution_count": null,
      "metadata": {
        "collapsed": false
      },
      "outputs": [],
      "source": [
        "%matplotlib inline"
      ]
    },
    {
      "cell_type": "markdown",
      "metadata": {},
      "source": [
        "\n*****************\nSpecifying Colors\n*****************\n\nMatplotlib recognizes the following formats in the table below to specify a\ncolor.\n\n+--------------------------------------+--------------------------------------+\n| Format                               | Example                              |\n+======================================+======================================+\n| RGB or RGBA (red, green, blue, alpha)| - ``(0.1, 0.2, 0.5)``                |\n| tuple of float values in a closed    | - ``(0.1, 0.2, 0.5, 0.3)``           |\n| interval [0, 1].                     |                                      |\n+--------------------------------------+--------------------------------------+\n| Case-insensitive hex RGB or RGBA     | - ``'#0f0f0f'``                      |\n| string.                              | - ``'#0f0f0f80'``                    |\n+--------------------------------------+--------------------------------------+\n| Case-insensitive RGB or RGBA string  | - ``'#abc'`` as ``'#aabbcc'``        |\n| equivalent hex shorthand of          | - ``'#fb1'`` as ``'#ffbb11'``        |\n| duplicated characters.               |                                      |\n+--------------------------------------+--------------------------------------+\n| String representation of float value | - ``'0.8'`` as light gray            |\n| in closed interval ``[0, 1]`` for    | - ``'0'`` as black                   |\n| black and white, respectively.       | - ``'1'`` as white                   |\n+--------------------------------------+--------------------------------------+\n| Single character shorthand notation  | - ``'b'`` as blue                    |\n| for shades of colors.                | - ``'g'`` as green                   |\n|                                      | - ``'r'`` as red                     |\n| .. note:: The colors green, cyan,    | - ``'c'`` as cyan                    |\n|           magenta, and yellow do not | - ``'m'`` as magenta                 |\n|           coincide with X11/CSS4     | - ``'y'`` as yellow                  |\n|           colors.                    | - ``'k'`` as black                   |\n|                                      | - ``'w'`` as white                   |\n+--------------------------------------+--------------------------------------+\n| Case-insensitive X11/CSS4 color name | - ``'aquamarine'``                   |\n| with no spaces.                      | - ``'mediumseagreen'``               |\n+--------------------------------------+--------------------------------------+\n| Case-insensitive color name from     | - ``'xkcd:sky blue'``                |\n| `xkcd color survey`_ with ``'xkcd:'``| - ``'xkcd:eggshell'``                |\n| prefix.                              |                                      |\n+--------------------------------------+--------------------------------------+\n| Case-insensitive Tableau Colors from | - ``'tab:blue'``                     |\n| 'T10' categorical palette.           | - ``'tab:orange'``                   |\n|                                      | - ``'tab:green'``                    |\n|                                      | - ``'tab:red'``                      |\n|                                      | - ``'tab:purple'``                   |\n| .. note:: This is the default color  | - ``'tab:brown'``                    |\n|           cycle.                     | - ``'tab:pink'``                     |\n|                                      | - ``'tab:gray'``                     |\n|                                      | - ``'tab:olive'``                    |\n|                                      | - ``'tab:cyan'``                     |\n+--------------------------------------+--------------------------------------+\n| \"CN\" color spec where ``'C'``        | - ``'C0'``                           |\n| precedes a number acting as an index | - ``'C1'``                           |\n| into the default property cycle.     +--------------------------------------+\n|                                      | :rc:`axes.prop_cycle`                |\n| .. note:: Matplotlib indexes color   |                                      |\n|           at draw time and defaults  |                                      |\n|           to black if cycle does not |                                      |\n|           include color.             |                                      |\n+--------------------------------------+--------------------------------------+\n\n\n.. seealso::\n\n    The following links provide more information on colors in Matplotlib.\n        * :doc:`/gallery/color/color_demo` Example\n        * `matplotlib.colors` API\n        * :doc:`/gallery/color/named_colors` Example\n\n\"Red\", \"Green\", and \"Blue\" are the intensities of those colors. In combination,\nthey represent the colorspace.\n\nMatplotlib draws Artists based on the ``zorder`` parameter. If there are no\nspecified values, Matplotlib defaults to the order of the Artists added to the\nAxes.\n\nThe alpha for an Artist controls opacity. It indicates how the RGB color of the\nnew Artist combines with RGB colors already on the Axes.\n\nThe two Artists combine with alpha compositing. Matplotlib uses the equation\nbelow to compute the result of blending a new Artist.\n\n::\n\n    RGB_{new} = RGB_{below} * (1 - \\alpha) + RGB_{artist} * \\alpha\n\nAlpha of 1 indicates the new Artist completely covers the previous color.\nAlpha of 0 for top color is not visible; however, it contributes to blending\nfor intermediate values as the cumulative result of all previous Artists. The\nfollowing table contains examples.\n\n+---------------+-------------------------------------------------------------+\n| Alpha value   | Visual                                                      |\n+===============+=============================================================+\n| ``0.3``       | .. image:: ../../_static/color_zorder_A.png                 |\n+---------------+-------------------------------------------------------------+\n| ``1``         | .. image:: ../../_static/color_zorder_B.png                 |\n+---------------+-------------------------------------------------------------+\n\n<div class=\"alert alert-info\"><h4>Note</h4><p>Re-ordering Artists is not commutative in Matplotlib.</p></div>\n\n\n\"CN\" color selection\n--------------------\n\nMatplotlib converts \"CN\" colors to RGBA when drawing Artists. The\n:doc:`/tutorials/intermediate/color_cycle` section contains additional\ninformation about controlling colors and style properties.\n"
      ]
    },
    {
      "cell_type": "code",
      "execution_count": null,
      "metadata": {
        "collapsed": false
      },
      "outputs": [],
      "source": [
        "import numpy as np\nimport matplotlib.pyplot as plt\nimport matplotlib as mpl\n\nth = np.linspace(0, 2*np.pi, 128)\n\n\ndef demo(sty):\n    mpl.style.use(sty)\n    fig, ax = plt.subplots(figsize=(3, 3))\n\n    ax.set_title('style: {!r}'.format(sty), color='C0')\n\n    ax.plot(th, np.cos(th), 'C1', label='C1')\n    ax.plot(th, np.sin(th), 'C2', label='C2')\n    ax.legend()\n\n\ndemo('default')\ndemo('seaborn')"
      ]
    },
    {
      "cell_type": "markdown",
      "metadata": {},
      "source": [
        "The first color ``'C0'`` is the title. Each plot uses the second and third\ncolors of each style's :rc:`axes.prop_cycle`. They are ``'C1'`` and ``'C2'``,\nrespectively.\n\n\nComparison between X11/CSS4 and xkcd colors\n-------------------------------------------\n\nThe xkcd colors come from a `user survey conducted by the webcomic xkcd\n<https://blog.xkcd.com/2010/05/03/color-survey-results/>`__.\n\n95 out of the 148 X11/CSS4 color names also appear in the xkcd color survey.\nAlmost all of them map to different color values in the X11/CSS4 and in\nthe xkcd palette. Only 'black', 'white' and 'cyan' are identical.\n\nFor example, ``'blue'`` maps to ``'#0000FF'`` whereas ``'xkcd:blue'`` maps to\n``'#0343DF'``.  Due to these name collisions, all xkcd colors have the\n``'xkcd:'`` prefix.\n\nThe visual below shows name collisions. Color names where color values agree\nare in bold.\n\n"
      ]
    },
    {
      "cell_type": "code",
      "execution_count": null,
      "metadata": {
        "collapsed": false
      },
      "outputs": [],
      "source": [
        "import matplotlib._color_data as mcd\nimport matplotlib.patches as mpatch\n\noverlap = {name for name in mcd.CSS4_COLORS\n           if \"xkcd:\" + name in mcd.XKCD_COLORS}\n\nfig = plt.figure(figsize=[9, 5])\nax = fig.add_axes([0, 0, 1, 1])\n\nn_groups = 3\nn_rows = len(overlap) // n_groups + 1\n\nfor j, color_name in enumerate(sorted(overlap)):\n    css4 = mcd.CSS4_COLORS[color_name]\n    xkcd = mcd.XKCD_COLORS[\"xkcd:\" + color_name].upper()\n\n    col_shift = (j // n_rows) * 3\n    y_pos = j % n_rows\n    text_args = dict(va='center', fontsize=10,\n                     weight='bold' if css4 == xkcd else None)\n    ax.add_patch(mpatch.Rectangle((0 + col_shift, y_pos), 1, 1, color=css4))\n    ax.add_patch(mpatch.Rectangle((1 + col_shift, y_pos), 1, 1, color=xkcd))\n    ax.text(0 + col_shift, y_pos + .5, '  ' + css4, alpha=0.5, **text_args)\n    ax.text(1 + col_shift, y_pos + .5, '  ' + xkcd, alpha=0.5, **text_args)\n    ax.text(2 + col_shift, y_pos + .5, '  ' + color_name, **text_args)\n\nfor g in range(n_groups):\n    ax.hlines(range(n_rows), 3*g, 3*g + 2.8, color='0.7', linewidth=1)\n    ax.text(0.5 + 3*g, -0.5, 'X11', ha='center', va='center')\n    ax.text(1.5 + 3*g, -0.5, 'xkcd', ha='center', va='center')\n\nax.set_xlim(0, 3 * n_groups)\nax.set_ylim(n_rows, -1)\nax.axis('off')\n\nplt.show()"
      ]
    }
  ],
  "metadata": {
    "kernelspec": {
      "display_name": "Python 3",
      "language": "python",
      "name": "python3"
    },
    "language_info": {
      "codemirror_mode": {
        "name": "ipython",
        "version": 3
      },
      "file_extension": ".py",
      "mimetype": "text/x-python",
      "name": "python",
      "nbconvert_exporter": "python",
      "pygments_lexer": "ipython3",
      "version": "3.9.1"
    }
  },
  "nbformat": 4,
  "nbformat_minor": 0
}