{
 "cells": [
  {
   "cell_type": "markdown",
   "metadata": {},
   "source": [
    "# Научная графика в Python\n",
    "\n",
    "Автор: Шабанов Павел Александрович\n",
    "\n",
    "E-mail: pa.shabanov@gmail.com\n",
    "\n",
    "URL: [Заметки по программированию в науках о Земле](http://progeoru.blogspot.ru/)\n",
    "\n",
    "Дата последнего обновления: 12.03.2017"
   ]
  },
  {
   "cell_type": "code",
   "execution_count": 48,
   "metadata": {
    "collapsed": false
   },
   "outputs": [],
   "source": [
    "# Преамбула\n",
    "%matplotlib inline\n",
    "\n",
    "import os\n",
    "import matplotlib.pyplot as plt\n",
    "from matplotlib import rcParams\n",
    "\n",
    "import numpy as np\n",
    "\n",
    "def save(name='', fmt='png'):\n",
    "    pwd = os.getcwd()\n",
    "    iPath = './pictures/{}'.format(fmt)\n",
    "    if not os.path.exists(iPath):\n",
    "        os.mkdir(iPath)\n",
    "    os.chdir(iPath)\n",
    "    plt.savefig('{}.{}'.format(name, fmt), fmt='png')\n",
    "    os.chdir(pwd)\n",
    "    #plt.close()\n",
    "\n",
    "rcParams['font.family'] = 'fantasy'\n",
    "rcParams['font.fantasy'] = 'Arial'"
   ]
  },
  {
   "cell_type": "markdown",
   "metadata": {},
   "source": [
    "## Глава 5 Рисунок Figure\n",
    "\n",
    "\n",
    "### Содержание главы\n",
    "\n",
    "1. Контейнер Figure;\n",
    "\n",
    "2. Конфигурация Figure;\n",
    "\n",
    "3. Сохранение рисунка.\n",
    "\n",
    "Рисунок **Figure** является основой каждого изображения, которые создаётся в matplotlib. Обычно после создания экземпляра рисунка (точнее - экземпляра класса matplotlib.figure.Figure) о нём можно забыть. Тем не менее, именно на основе экземпляра Figure вызываются экземпляры Axes, которые несут основную нагрузку при создании научной графики.\n",
    "\n",
    "Стоит помнить, что пока идёт работа с одним единственным экземпляром типа Figure, то результат выполнения всех графических команд будут отображаться именно на нём. При работе со многими экземплярами Figure нельзя забывать об очищении \"холста\" от \"красок\" предыдущиего рисунка.\n",
    "\n",
    "### Электронные ресурсы:\n",
    "\n",
    "+ [Описание элементов рисунка Artists в matplotlib](http://matplotlib.org/users/artists.html)."
   ]
  },
  {
   "cell_type": "markdown",
   "metadata": {},
   "source": [
    "### 5.1 Контейнер Figure\n",
    "\n",
    "Верхним логическим уровнем среди контейнеров Artists (см. Главу 1) является matplotlib.figure.Figure, который включает всё, что есть на рисунке (figure). Фоном (background) рисунка, который определяетя в Figure.patch, по умолчанию является прямоугольник (Rectangle). Когда на рисунке добавляются экземпляры subplots (например, с помощью метода add_subplot()) или axes (с помощью метода add_axes()), они автоматически добавляются в список Figure.axes. Так как matplotlib поддерживает концепцию \"текущей области\" (\"current axes\"; подробнее см. Figure.gca и Figure.sca) для работы с pylab/pyplot, то не рекомендуется добавлять или убирать axes из списка (axes list) вручную. Лучше использовать методы add_subplot()/add_axes() для добавления экземпляров Axes и delaxes() для их удаления. \n",
    "\n",
    "**Совет**\n",
    "\n",
    "> Можно использовать список fig.axes() для работы с экземплярами Axes. Например, для добавления линий сетки с помощью метода grid() на все axes рисунка."
   ]
  },
  {
   "cell_type": "code",
   "execution_count": 49,
   "metadata": {
    "collapsed": false
   },
   "outputs": [
    {
     "name": "stdout",
     "output_type": "stream",
     "text": [
      "<class 'matplotlib.figure.Figure'>\n"
     ]
    },
    {
     "data": {
      "image/png": "[encoded data removed]",
      "text/plain": [
       "<matplotlib.figure.Figure at 0xa8591d0>"
      ]
     },
     "metadata": {},
     "output_type": "display_data"
    }
   ],
   "source": [
    "# Пример 5.1\n",
    "\n",
    "import matplotlib.pyplot as plt\n",
    "import numpy as np\n",
    "\n",
    "fig = plt.figure()\n",
    "\n",
    "print type(fig)\n",
    "# Создание экземпляра Axes c помощью Figure-метода add_subplot()\n",
    "ax = fig.add_subplot(111)\n",
    "# или так\n",
    "box = [0.25, 0.5, 0.25, 0.25]\n",
    "# Создание экземпляра Axes c помощью Figure-метода add_axes()\n",
    "ax2 = fig.add_axes(box)\n",
    "\n",
    "x = np.arange(0.0, 1.0, 0.1)\n",
    "y = np.sin(x)*np.exp(x)\n",
    "z = np.cos(x)*np.sin(x)\n",
    "\n",
    "# Методы plot() вызываются через экземпляры ax, а не plt (интерфейс pyplot)\n",
    "ax.plot(y)\n",
    "ax.plot(z)\n",
    "\n",
    "for ax in fig.axes:\n",
    "    ax.grid(True)\n",
    "    \n",
    "save('pic_5_1', fmt='png')\n",
    "save('pic_5_1', fmt='pdf')\n",
    "    \n",
    "plt.show()"
   ]
  },
  {
   "cell_type": "markdown",
   "metadata": {},
   "source": [
    "Список элементов рисунка (Artists) для контейнера Figure:\n",
    "\n",
    "1. **axes** - список экземпляров Axes (включая Subplot);\n",
    "\n",
    "2. **images** - список FigureImages patches (эффективно для отображения пикселей);\n",
    "\n",
    "3. **legends** - список экземпляров Figure Legend (отличается от Axes.legends);\n",
    "\n",
    "4. **lines** - список экземпляров Figure Line2D (редко используется, см. Axes.lines);\n",
    "\n",
    "5. **patch** - фон Rectangle;\n",
    "\n",
    "6. **patches** - список Figure patches (редко используется, см. Axes.patches);\n",
    "\n",
    "7. **texts** - список экземпляров Figure Text.\n",
    "\n",
    "### 5.2 Конфигурация Figure\n",
    "\n",
    "Одним из стандартных методов создания экземпляра Figure является следующий:"
   ]
  },
  {
   "cell_type": "code",
   "execution_count": 50,
   "metadata": {
    "collapsed": false
   },
   "outputs": [
    {
     "name": "stdout",
     "output_type": "stream",
     "text": [
      "Тип Figure <class 'matplotlib.figure.Figure'>\n"
     ]
    },
    {
     "data": {
      "text/plain": [
       "<matplotlib.figure.Figure at 0xbd4a9b0>"
      ]
     },
     "metadata": {},
     "output_type": "display_data"
    }
   ],
   "source": [
    "import matplotlib.pyplot as plt\n",
    "\n",
    "fig = plt.figure()\n",
    "print(u'Тип Figure %s' % type(fig))"
   ]
  },
  {
   "cell_type": "markdown",
   "metadata": {},
   "source": [
    "Основные параметры созданного экземпляра Figure определяются в конфигурационном файле matplotlibrc. Атрибуты Figure можно изменить во время создания экземпляра:\n",
    "\n",
    "+ **figsize** : кортеж из целых или действительных чисел, который определяет ширину и высоту в дюймах. По умолчанию равен значению figure.figsize из настроек rcParams;\n",
    "\n",
    "+ **dpi** : разрешение рисунка. По умолчанию равен значению figure.dpi из настроек rcParams;\n",
    "\n",
    "+ **facecolor** : цвет фона. По умолчанию равен значению figure.facecolor из настроек rcParams;\n",
    "\n",
    "+ **edgecolor** : цвет границы. По умолчанию равен значению figure.edgecolor из настроек rcParams."
   ]
  },
  {
   "cell_type": "code",
   "execution_count": 51,
   "metadata": {
    "collapsed": false
   },
   "outputs": [
    {
     "data": {
      "image/png": "[encoded data removed]",
      "text/plain": [
       "<matplotlib.figure.Figure at 0xa859c18>"
      ]
     },
     "metadata": {},
     "output_type": "display_data"
    }
   ],
   "source": [
    "# Пример 5.2.1\n",
    "\n",
    "import matplotlib.pyplot as plt\n",
    "from matplotlib import rcParams\n",
    "\n",
    "figsize = (8,6)\n",
    "\n",
    "fig = plt.figure(figsize=figsize, facecolor='pink', frameon=True)\n",
    "plt.plot([[0.0,0.0],[1.,1.]],'k')\n",
    "plt.grid(True)\n",
    "rcParams['figure.edgecolor'] = 'blue'\n",
    "\n",
    "save('pic_5_2_1', fmt='png')\n",
    "save('pic_5_2_1', fmt='pdf')\n",
    "\n",
    "plt.show()"
   ]
  },
  {
   "cell_type": "markdown",
   "metadata": {},
   "source": [
    "По умолчанию цвета координатной координатных осей, линий вспомогательной сетки отрисовываются чёрным цветом, а цвет фона (основы рисунка) - белым. Заменив параметры, отвечающие за соответствующие цвета, можно создать, например, инвертированный бело-чёрный рисунок. Иногда такая графика смотрится очень наглядно, стильно и привлекает к вашему материалу повышенное внимание."
   ]
  },
  {
   "cell_type": "code",
   "execution_count": 52,
   "metadata": {
    "collapsed": false
   },
   "outputs": [
    {
     "data": {
      "image/png": "[encoded data removed]",
      "text/plain": [
       "<matplotlib.figure.Figure at 0xc07f0b8>"
      ]
     },
     "metadata": {},
     "output_type": "display_data"
    }
   ],
   "source": [
    "# Пример 5.2.2\n",
    "\n",
    "from matplotlib import rcParams\n",
    "import matplotlib.pyplot as plt\n",
    "import numpy as np\n",
    "\n",
    "rcParams['font.family'] = 'Times New Roman', 'Arial', 'Tahoma'\n",
    "rcParams['font.fantasy'] = 'Times New Roman'\n",
    "\n",
    "# Изменение параметров рисования (смена чёрного по белому на белое по чёрному)\n",
    "facecolor = 'k'\n",
    "\n",
    "rcParams['figure.edgecolor'] = facecolor\n",
    "rcParams['figure.facecolor'] = facecolor\n",
    "rcParams['axes.facecolor'] = facecolor\n",
    "#rcParams['axes.edgecolor'] = 'k'\n",
    "rcParams['grid.color'] = 'w'\n",
    "rcParams['xtick.color'] = 'w'\n",
    "rcParams['ytick.color'] = 'w'\n",
    "rcParams['axes.labelcolor'] = 'w'\n",
    "\n",
    "x = np.arange(0, 4*np.pi, 0.12)\n",
    "y = np.tan(x)\n",
    "\n",
    "fig = plt.figure()\n",
    "plt.plot(x, y,'w')\n",
    "\n",
    "plt.xlim(x[0], x[-1])\n",
    "plt.ylim(np.min(y), np.max(y))\n",
    "\n",
    "plt.xlabel(u'Время [c]', fontsize=12)\n",
    "plt.ylabel(u'Амплитуда [м]', fontsize=12)\n",
    "plt.grid(True, color='w')\n",
    "\n",
    "save('pic_5_2_2', fmt='png')\n",
    "save('pic_5_2_2', fmt='pdf')\n",
    "\n",
    "plt.show()"
   ]
  },
  {
   "cell_type": "markdown",
   "metadata": {},
   "source": [
    "### 5.3 Сохранение рисунка\n",
    "\n",
    "Сохранить получившийся рисунок можно с помощью метода savefig, применённого либо к экземпляру Figure (fig.savefig()), либо через pyplot (plt.savefig()). \n",
    "\n",
    "Стоит помнить, что по умолчанию метод savefig имеет значения атрибутов типа facecolor отличные от значений figure.facecolor. В конфигурационном файле matplotlibrc можно настроить соответствующие параметры как для savefigure, так и для figure. Поэтому чтобы сохранить пользовательские настройки рисунка методом savefig, нужно изменить атрибуты savefig, а не соответствующие атрибуты figure (dpi, format, edgecolor, facecolor, frameon) или передать соответствующие значения атрибутов явно при вызове метод savefig:"
   ]
  },
  {
   "cell_type": "code",
   "execution_count": 53,
   "metadata": {
    "collapsed": false
   },
   "outputs": [],
   "source": [
    "# Сохранение рисунка с параметрами цвета фона по умолчанию\n",
    "\n",
    "rcParams['savefig.edgecolor'] = 'k'\n",
    "rcParams['savefig.facecolor'] = 'k'\n",
    "rcParams['grid.color'] = 'w'\n",
    "rcParams['xtick.color'] = 'w'\n",
    "rcParams['ytick.color'] = 'w'\n",
    "rcParams['axes.labelcolor'] = 'w'\n",
    "\n",
    "fig.savefig('./pictures/png/pic_5_3_1.png', format='png')\n",
    "fig.savefig('./pictures/png/pic_5_3_1.pdf', format='pdf')\n",
    "\n",
    "# Сохранение рисунка с пользовательскими параметрами цвета фона\n",
    "rcParams['savefig.edgecolor'] = 'w'\n",
    "rcParams['savefig.facecolor'] = 'w'\n",
    "rcParams['grid.color'] = 'k'\n",
    "rcParams['xtick.color'] = 'k'\n",
    "rcParams['ytick.color'] = 'k'\n",
    "rcParams['axes.labelcolor'] = 'k'\n",
    "\n",
    "# Атрибут facecolor передаётся явно\n",
    "fig.savefig('./pictures/png/pic_5_3_2.png', format='png', facecolor='k')\n",
    "fig.savefig('./pictures/png/pic_5_3_2.pdf', format='pdf', facecolor='k')"
   ]
  },
  {
   "cell_type": "code",
   "execution_count": 54,
   "metadata": {
    "collapsed": false
   },
   "outputs": [
    {
     "name": "stdout",
     "output_type": "stream",
     "text": [
      "figure.facecolor : k\n"
     ]
    },
    {
     "data": {
      "image/png": "[encoded data removed]",
      "text/plain": [
       "<IPython.core.display.Image object>"
      ]
     },
     "execution_count": 54,
     "metadata": {},
     "output_type": "execute_result"
    }
   ],
   "source": [
    "print ('figure.facecolor : %s' % rcParams['figure.facecolor'])\n",
    "\n",
    "from IPython.display import Image\n",
    "#Image(filename='pic example 5_3_1.png')\n",
    "Image(filename='./pictures/png/pic_5_3_1.png')"
   ]
  },
  {
   "cell_type": "code",
   "execution_count": 55,
   "metadata": {
    "collapsed": false
   },
   "outputs": [
    {
     "name": "stdout",
     "output_type": "stream",
     "text": [
      "figure.facecolor : k\n"
     ]
    },
    {
     "data": {
      "image/png": "[encoded data removed]",
      "text/plain": [
       "<IPython.core.display.Image object>"
      ]
     },
     "execution_count": 55,
     "metadata": {},
     "output_type": "execute_result"
    }
   ],
   "source": [
    "from IPython.display import Image\n",
    "\n",
    "print ('figure.facecolor : %s' % rcParams['figure.facecolor'])\n",
    "\n",
    "# Здесь атрибут facecolor был передан явно(figure.facecolor='k')\n",
    "Image(filename='./pictures/png/pic_5_3_2.png')"
   ]
  },
  {
   "cell_type": "markdown",
   "metadata": {},
   "source": [
    "Так как для сохранения рисунков методом savefig требуется явно задать некоторые атрибуты, то среди атрибутов при создании экземпляра Figure имеет смысл задавать те, которые не являются входящими для метода savefig, а именно figsize. Figsize позволяет сделать рисунок меньше или больше и определяет физический размер рисунка. Так можно подобрать нужный размер для печати. \n",
    "\n",
    "Для справки:\n",
    "\n",
    "> 1 дюйм = 2.54 см\n",
    "\n",
    "> Лист А4 имеет размеры 210x297 мм\n",
    "\n",
    "Разрешение рисунка можно получить умножив значения атрибутов figure.figsize и figure.dpi. DPI показывает сколько точек-пикселей приходится на один дюйм."
   ]
  },
  {
   "cell_type": "code",
   "execution_count": 56,
   "metadata": {
    "collapsed": false
   },
   "outputs": [
    {
     "name": "stdout",
     "output_type": "stream",
     "text": [
      "[8.89, 6.35]\n"
     ]
    },
    {
     "data": {
      "image/png": "[encoded data removed]",
      "text/plain": [
       "<matplotlib.figure.Figure at 0xc89e6a0>"
      ]
     },
     "metadata": {},
     "output_type": "display_data"
    }
   ],
   "source": [
    "# Пример 5.3.3\n",
    "\n",
    "from matplotlib import rcParams\n",
    "import matplotlib.pyplot as plt\n",
    "import numpy as np\n",
    "\n",
    "def sm2inch(a):\n",
    "    '''\n",
    "    Converts inches to santimeters\n",
    "    '''\n",
    "    b = []\n",
    "    for i in a:\n",
    "        b.append(i/2.54)\n",
    "    return b\n",
    "\n",
    "# Возвращаем обычные значения цветов для дальнейшей интерактивной работы\n",
    "\n",
    "rcParams['figure.edgecolor'] = 'w'\n",
    "rcParams['figure.facecolor'] = 'w'\n",
    "rcParams['axes.facecolor'] = 'w'\n",
    "rcParams['axes.edgecolor'] = 'k'\n",
    "rcParams['grid.color'] = 'k'\n",
    "rcParams['xtick.color'] = 'k'\n",
    "rcParams['ytick.color'] = 'k'\n",
    "rcParams['axes.labelcolor'] = 'k'\n",
    "\n",
    "figsize = (3.5, 2.5) # см\n",
    "figsize = sm2inch(figsize)\n",
    "print figsize\n",
    "fig2 = plt.figure(figsize=figsize, facecolor='w')\n",
    "rcParams['figure.edgecolor'] = 'w'\n",
    "plt.text(0.45, 0.45,'Hello, world!', color='red', fontsize=16)\n",
    "plt.grid(True)\n",
    "\n",
    "save('pic_5_3_3', fmt='png')\n",
    "save('pic_5_3_3', fmt='pdf')\n",
    "\n",
    "plt.show()"
   ]
  },
  {
   "cell_type": "markdown",
   "metadata": {},
   "source": [
    "Автор: Шабанов Павел Александрович\n",
    "\n",
    "E-mail: pa.shabanov@gmail.com\n",
    "\n",
    "## Научная графика в Python\n",
    "\n",
    "### Оглавление\n",
    "\n",
    "+ [Глава 1 Библиотека matplotlib. Pyplot](http://nbviewer.ipython.org/github/whitehorn/Scientific_graphics_in_python/blob/master/P1 Chapter 1 Pyplot.ipynb)\n",
    "\n",
    "+ [Глава 2 Основные графические команды](http://nbviewer.ipython.org/github/whitehorn/Scientific_graphics_in_python/blob/master/P1 Chapter 2 Main graphical commands.ipynb)\n",
    "\n",
    "+ [Глава 3 Работа с текстом и шрифтами](http://nbviewer.ipython.org/github/whitehorn/Scientific_graphics_in_python/blob/master/P1 Chapter 3 Text and Fonts.ipynb)\n",
    "\n",
    "+ [Глава 4 Цвет и цветовая палитра](http://nbviewer.ipython.org/github/whitehorn/Scientific_graphics_in_python/blob/master/P1 Chapter 4 Color.ipynb)\n",
    "\n",
    "**Часть II Структура рисунка в matplotlib**\n",
    "\n",
    "> + [Глава 5 Рисунок](http://nbviewer.ipython.org/github/whitehorn/Scientific_graphics_in_python/blob/master/P2 Chapter 5 Figure container.ipynb)\n",
    "\n",
    "+ [Глава 6 Область рисования](http://nbviewer.ipython.org/github/whitehorn/Scientific_graphics_in_python/blob/master/P2 Chapter 6 Axes container.ipynb)\n",
    "\n",
    "+ [Глава 7 Мультиоконные рисунки](http://nbviewer.ipython.org/github/whitehorn/Scientific_graphics_in_python/blob/master/P2 Chapter 7 Subplots.ipynb)\n",
    "\n",
    "+ [Глава 8 Координатные оси](http://nbviewer.ipython.org/github/whitehorn/Scientific_graphics_in_python/blob/master/P2 Chapter 8 Axis container.ipynb)\n",
    "\n",
    "+ [Глава 9 Деления координатных осей](http://nbviewer.ipython.org/github/whitehorn/Scientific_graphics_in_python/blob/master/P2 Chapter 9 Ticks container.ipynb)\n",
    "\n",
    "**Часть III Специальные элементы рисунка в matplotlib**\n",
    "\n",
    "+ [Глава 10 Особенности координатных осей](http://nbviewer.ipython.org/github/whitehorn/Scientific_graphics_in_python/blob/master/P3 Chapter 10 Twinx and log scale.ipynb)\n",
    "\n",
    "+ [Глава 11 Графики в полярной системе координат](http://nbviewer.ipython.org/github/whitehorn/Scientific_graphics_in_python/blob/master/P3 Chapter 11 Polar plots.ipynb) \n",
    "\n",
    "+ [Глава 12 Легенда](http://nbviewer.ipython.org/github/whitehorn/Scientific_graphics_in_python/blob/master/P3 Chapter 12 Legends.ipynb)\n",
    "\n",
    "+ [Глава 13 Цветовая шкала](http://nbviewer.ipython.org/github/whitehorn/Scientific_graphics_in_python/blob/master/P3 Chapter 13 Colorbar.ipynb)"
   ]
  },
  {
   "cell_type": "code",
   "execution_count": null,
   "metadata": {
    "collapsed": true
   },
   "outputs": [],
   "source": []
  }
 ],
 "metadata": {
  "kernelspec": {
   "display_name": "Python [default]",
   "language": "python",
   "name": "python2"
  },
  "language_info": {
   "codemirror_mode": {
    "name": "ipython",
    "version": 2
   },
   "file_extension": ".py",
   "mimetype": "text/x-python",
   "name": "python",
   "nbconvert_exporter": "python",
   "pygments_lexer": "ipython2",
   "version": "2.7.13"
  }
 },
 "nbformat": 4,
 "nbformat_minor": 0
}
