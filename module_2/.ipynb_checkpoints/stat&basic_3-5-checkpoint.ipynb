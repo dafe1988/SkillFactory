{
 "cells": [
  {
   "cell_type": "code",
   "execution_count": 73,
   "id": "c5a02acf",
   "metadata": {},
   "outputs": [],
   "source": [
    "import pandas as pd\n",
    "import numpy as np\n",
    "from scipy.stats import norm\n",
    "from scipy.stats import t\n",
    "import math\n",
    "from statsmodels.stats import weightstats \n",
    "\n",
    "def confidence_interval_norm(alpha, sigma, n, mean):\n",
    "    value = -norm.ppf(alpha / 2) * sigma / math.sqrt(n)\n",
    "    return mean - value, mean + value\n",
    "\n",
    "def confidence_interval_t(alpha, s, n, mean):\n",
    "    value = -t.ppf(alpha / 2, n - 1) * s / math.sqrt(n)\n",
    "    return mean - value, mean + value\n"
   ]
  },
  {
   "cell_type": "code",
   "execution_count": 12,
   "id": "1a32626f",
   "metadata": {},
   "outputs": [
    {
     "data": {
      "text/plain": [
       "-1.6448536269514729"
      ]
     },
     "execution_count": 12,
     "metadata": {},
     "output_type": "execute_result"
    }
   ],
   "source": [
    "norm.ppf(0.05)"
   ]
  },
  {
   "cell_type": "code",
   "execution_count": 13,
   "id": "8226f518",
   "metadata": {},
   "outputs": [
    {
     "data": {
      "text/plain": [
       "-1.9599639845400545"
      ]
     },
     "execution_count": 13,
     "metadata": {},
     "output_type": "execute_result"
    }
   ],
   "source": [
    "norm.ppf(0.025)"
   ]
  },
  {
   "cell_type": "code",
   "execution_count": 27,
   "id": "3f2a267d",
   "metadata": {},
   "outputs": [
    {
     "data": {
      "text/plain": [
       "(1778.4873833741433, 2221.5126166258565)"
      ]
     },
     "execution_count": 27,
     "metadata": {},
     "output_type": "execute_result"
    }
   ],
   "source": [
    "confidence_interval_t(0.05, 400, 15, 2000)"
   ]
  },
  {
   "cell_type": "code",
   "execution_count": 28,
   "id": "b8e83837",
   "metadata": {},
   "outputs": [
    {
     "data": {
      "text/plain": [
       "(1818.092671377004, 2181.907328622996)"
      ]
     },
     "execution_count": 28,
     "metadata": {},
     "output_type": "execute_result"
    }
   ],
   "source": [
    "confidence_interval_t(0.1, 400, 15, 2000)"
   ]
  },
  {
   "cell_type": "code",
   "execution_count": 29,
   "id": "d3342a8d",
   "metadata": {},
   "outputs": [
    {
     "data": {
      "text/plain": [
       "(1692.553004440083, 2307.446995559917)"
      ]
     },
     "execution_count": 29,
     "metadata": {},
     "output_type": "execute_result"
    }
   ],
   "source": [
    "confidence_interval_t(0.01, 400, 15, 2000)"
   ]
  },
  {
   "cell_type": "code",
   "execution_count": 30,
   "id": "2bdc8fe1",
   "metadata": {},
   "outputs": [
    {
     "data": {
      "text/plain": [
       "(3352.6537883505453, 3727.3462116494547)"
      ]
     },
     "execution_count": 30,
     "metadata": {},
     "output_type": "execute_result"
    }
   ],
   "source": [
    "confidence_interval_norm(0.01, 1150, 250, 3540)"
   ]
  },
  {
   "cell_type": "code",
   "execution_count": 32,
   "id": "ddc27b2d",
   "metadata": {},
   "outputs": [
    {
     "data": {
      "text/plain": [
       "0    1.19\n",
       "dtype: float64"
      ]
     },
     "execution_count": 32,
     "metadata": {},
     "output_type": "execute_result"
    }
   ],
   "source": [
    "x_ = pd.DataFrame([1.2,0.2,1.6,1.9,-0.4,0.5,1.4,1.7,2.5,1.3])\n",
    "x_.mean()"
   ]
  },
  {
   "cell_type": "code",
   "execution_count": 33,
   "id": "8477afd5",
   "metadata": {},
   "outputs": [
    {
     "data": {
      "text/plain": [
       "0    0.862103\n",
       "dtype: float64"
      ]
     },
     "execution_count": 33,
     "metadata": {},
     "output_type": "execute_result"
    }
   ],
   "source": [
    "x_.std()"
   ]
  },
  {
   "cell_type": "code",
   "execution_count": 34,
   "id": "e5dba0d3",
   "metadata": {},
   "outputs": [
    {
     "data": {
      "text/plain": [
       "(0    0.573288\n",
       " dtype: float64,\n",
       " 0    1.806712\n",
       " dtype: float64)"
      ]
     },
     "execution_count": 34,
     "metadata": {},
     "output_type": "execute_result"
    }
   ],
   "source": [
    "confidence_interval_t(0.05, x_.std(), 10, x_.mean())"
   ]
  },
  {
   "cell_type": "code",
   "execution_count": 35,
   "id": "1218743e",
   "metadata": {},
   "outputs": [
    {
     "data": {
      "text/plain": [
       "0.698"
      ]
     },
     "execution_count": 35,
     "metadata": {},
     "output_type": "execute_result"
    }
   ],
   "source": [
    "round(132/189, 3)"
   ]
  },
  {
   "cell_type": "code",
   "execution_count": 36,
   "id": "5d990d5c",
   "metadata": {},
   "outputs": [
    {
     "data": {
      "text/plain": [
       "-1.6448536269514729"
      ]
     },
     "execution_count": 36,
     "metadata": {},
     "output_type": "execute_result"
    }
   ],
   "source": [
    "norm.ppf(0.05)"
   ]
  },
  {
   "cell_type": "code",
   "execution_count": 37,
   "id": "2dd5677e",
   "metadata": {},
   "outputs": [
    {
     "data": {
      "text/plain": [
       "0.30200000000000005"
      ]
     },
     "execution_count": 37,
     "metadata": {},
     "output_type": "execute_result"
    }
   ],
   "source": [
    "1-0.698"
   ]
  },
  {
   "cell_type": "code",
   "execution_count": 38,
   "id": "b3cc9351",
   "metadata": {},
   "outputs": [
    {
     "data": {
      "text/plain": [
       "0.055"
      ]
     },
     "execution_count": 38,
     "metadata": {},
     "output_type": "execute_result"
    }
   ],
   "source": [
    "comment = round(1.645*math.sqrt(0.698*0.302/189), 3)\n",
    "comment"
   ]
  },
  {
   "cell_type": "code",
   "execution_count": 39,
   "id": "70f9b405",
   "metadata": {},
   "outputs": [
    {
     "data": {
      "text/plain": [
       "0.643"
      ]
     },
     "execution_count": 39,
     "metadata": {},
     "output_type": "execute_result"
    }
   ],
   "source": [
    "down_ = round(0.698-comment, 3)\n",
    "down_"
   ]
  },
  {
   "cell_type": "code",
   "execution_count": 40,
   "id": "bd09f194",
   "metadata": {},
   "outputs": [
    {
     "data": {
      "text/plain": [
       "0.753"
      ]
     },
     "execution_count": 40,
     "metadata": {},
     "output_type": "execute_result"
    }
   ],
   "source": [
    "up_ = round(0.698+comment, 3)\n",
    "up_"
   ]
  },
  {
   "cell_type": "code",
   "execution_count": 41,
   "id": "54bb3c61",
   "metadata": {},
   "outputs": [
    {
     "name": "stdout",
     "output_type": "stream",
     "text": [
      "1.9842169515086827\n"
     ]
    }
   ],
   "source": [
    "value = t.ppf((1 + 0.95)/2, 100-1)\n",
    "print(value)"
   ]
  },
  {
   "cell_type": "code",
   "execution_count": 42,
   "id": "19e62549",
   "metadata": {},
   "outputs": [
    {
     "name": "stdout",
     "output_type": "stream",
     "text": [
      "2.1700903775845606\n"
     ]
    }
   ],
   "source": [
    "alpha = 0.03\n",
    "value = -norm.ppf(alpha/2)\n",
    "print(value) "
   ]
  },
  {
   "cell_type": "code",
   "execution_count": 44,
   "id": "f30b2662",
   "metadata": {},
   "outputs": [
    {
     "name": "stdout",
     "output_type": "stream",
     "text": [
      "1.81\n"
     ]
    }
   ],
   "source": [
    "alpha = 0.07\n",
    "value = -norm.ppf(alpha/2)\n",
    "print(round(value, 2))"
   ]
  },
  {
   "cell_type": "code",
   "execution_count": 47,
   "id": "e22d8ff8",
   "metadata": {},
   "outputs": [
    {
     "name": "stdout",
     "output_type": "stream",
     "text": [
      "2.58\n"
     ]
    }
   ],
   "source": [
    "value = -norm.ppf(0.01/2)\n",
    "print(round(value, 2))"
   ]
  },
  {
   "cell_type": "code",
   "execution_count": 48,
   "id": "227d0f69",
   "metadata": {},
   "outputs": [
    {
     "name": "stdout",
     "output_type": "stream",
     "text": [
      "3.25\n"
     ]
    }
   ],
   "source": [
    "value = t.ppf((1 + 0.99)/2, 10-1)\n",
    "print(round(value, 2))"
   ]
  },
  {
   "cell_type": "code",
   "execution_count": 49,
   "id": "43da4842",
   "metadata": {},
   "outputs": [
    {
     "name": "stdout",
     "output_type": "stream",
     "text": [
      "1.98\n"
     ]
    }
   ],
   "source": [
    "value = t.ppf((1 + 0.95)/2, 100-1)\n",
    "print(round(value, 2))"
   ]
  },
  {
   "cell_type": "code",
   "execution_count": 50,
   "id": "780810bc",
   "metadata": {},
   "outputs": [
    {
     "name": "stdout",
     "output_type": "stream",
     "text": [
      "1.96\n"
     ]
    }
   ],
   "source": [
    "value = -norm.ppf(0.05/2)\n",
    "print(round(value, 2))"
   ]
  },
  {
   "cell_type": "code",
   "execution_count": 51,
   "id": "c894caa2",
   "metadata": {},
   "outputs": [
    {
     "data": {
      "text/plain": [
       "-2.0"
      ]
     },
     "execution_count": 51,
     "metadata": {},
     "output_type": "execute_result"
    }
   ],
   "source": [
    "-0.5/0.25"
   ]
  },
  {
   "cell_type": "code",
   "execution_count": 52,
   "id": "99c31ca4",
   "metadata": {},
   "outputs": [
    {
     "data": {
      "text/plain": [
       "0.022750131948179195"
      ]
     },
     "execution_count": 52,
     "metadata": {},
     "output_type": "execute_result"
    }
   ],
   "source": [
    "norm.cdf(-2)"
   ]
  },
  {
   "cell_type": "code",
   "execution_count": 56,
   "id": "0050465e",
   "metadata": {},
   "outputs": [
    {
     "data": {
      "text/plain": [
       "-1.92"
      ]
     },
     "execution_count": 56,
     "metadata": {},
     "output_type": "execute_result"
    }
   ],
   "source": [
    "-6/(12.5/4)"
   ]
  },
  {
   "cell_type": "code",
   "execution_count": 59,
   "id": "825a25b9",
   "metadata": {},
   "outputs": [
    {
     "data": {
      "text/plain": [
       "0.027428949703836802"
      ]
     },
     "execution_count": 59,
     "metadata": {},
     "output_type": "execute_result"
    }
   ],
   "source": [
    "norm.cdf(-1.92)"
   ]
  },
  {
   "cell_type": "code",
   "execution_count": 60,
   "id": "d90d52ff",
   "metadata": {},
   "outputs": [
    {
     "data": {
      "text/plain": [
       "1.7857142857142858"
      ]
     },
     "execution_count": 60,
     "metadata": {},
     "output_type": "execute_result"
    }
   ],
   "source": [
    "0.5/(1.4/5)"
   ]
  },
  {
   "cell_type": "code",
   "execution_count": 62,
   "id": "5e3a067a",
   "metadata": {},
   "outputs": [
    {
     "data": {
      "text/plain": [
       "0.037049629068190204"
      ]
     },
     "execution_count": 62,
     "metadata": {},
     "output_type": "execute_result"
    }
   ],
   "source": [
    "1 - norm.cdf(1.786)"
   ]
  },
  {
   "cell_type": "code",
   "execution_count": 63,
   "id": "4d823983",
   "metadata": {},
   "outputs": [
    {
     "data": {
      "text/plain": [
       "-1.1368835654229208"
      ]
     },
     "execution_count": 63,
     "metadata": {},
     "output_type": "execute_result"
    }
   ],
   "source": [
    "(11500-12000)/(5110/math.sqrt(135))"
   ]
  },
  {
   "cell_type": "code",
   "execution_count": 64,
   "id": "6b4a20ad",
   "metadata": {},
   "outputs": [
    {
     "data": {
      "text/plain": [
       "0.12878370493088995"
      ]
     },
     "execution_count": 64,
     "metadata": {},
     "output_type": "execute_result"
    }
   ],
   "source": [
    "t.cdf(-1.137, 134)"
   ]
  },
  {
   "cell_type": "code",
   "execution_count": 66,
   "id": "9ddc4061",
   "metadata": {},
   "outputs": [
    {
     "data": {
      "text/plain": [
       "0    8.82\n",
       "dtype: float64"
      ]
     },
     "execution_count": 66,
     "metadata": {},
     "output_type": "execute_result"
    }
   ],
   "source": [
    "inv = pd.DataFrame([6.1,9.2,11.5,8.6,12.1,3.9,8.4,10.1,9.4,8.9])\n",
    "inv.mean()"
   ]
  },
  {
   "cell_type": "code",
   "execution_count": 67,
   "id": "f269e298",
   "metadata": {},
   "outputs": [
    {
     "data": {
      "text/plain": [
       "0    2.401296\n",
       "dtype: float64"
      ]
     },
     "execution_count": 67,
     "metadata": {},
     "output_type": "execute_result"
    }
   ],
   "source": [
    "inv.std()"
   ]
  },
  {
   "cell_type": "code",
   "execution_count": 68,
   "id": "4e554151",
   "metadata": {},
   "outputs": [
    {
     "data": {
      "text/plain": [
       "0   -0.155\n",
       "dtype: float64"
      ]
     },
     "execution_count": 68,
     "metadata": {},
     "output_type": "execute_result"
    }
   ],
   "source": [
    "t_inv = round((inv.mean()-10)/(inv.std()*math.sqrt(10)), 3)\n",
    "t_inv"
   ]
  },
  {
   "cell_type": "code",
   "execution_count": 69,
   "id": "198a0dce",
   "metadata": {},
   "outputs": [
    {
     "data": {
      "text/plain": [
       "array([0.4401209])"
      ]
     },
     "execution_count": 69,
     "metadata": {},
     "output_type": "execute_result"
    }
   ],
   "source": [
    "t.cdf(t_inv, 9)"
   ]
  },
  {
   "cell_type": "code",
   "execution_count": 70,
   "id": "8ae7061f",
   "metadata": {},
   "outputs": [
    {
     "data": {
      "text/plain": [
       "0.696"
      ]
     },
     "execution_count": 70,
     "metadata": {},
     "output_type": "execute_result"
    }
   ],
   "source": [
    "87/125"
   ]
  },
  {
   "cell_type": "code",
   "execution_count": 71,
   "id": "41b66075",
   "metadata": {},
   "outputs": [
    {
     "data": {
      "text/plain": [
       "-1.394"
      ]
     },
     "execution_count": 71,
     "metadata": {},
     "output_type": "execute_result"
    }
   ],
   "source": [
    "round((0.696-0.75)/math.sqrt(0.75*0.25/125), 3)"
   ]
  },
  {
   "cell_type": "code",
   "execution_count": 72,
   "id": "13d84daa",
   "metadata": {},
   "outputs": [
    {
     "data": {
      "text/plain": [
       "0.082"
      ]
     },
     "execution_count": 72,
     "metadata": {},
     "output_type": "execute_result"
    }
   ],
   "source": [
    "round(norm.cdf(-1.394), 3)"
   ]
  },
  {
   "cell_type": "code",
   "execution_count": 75,
   "id": "cfff3108",
   "metadata": {},
   "outputs": [
    {
     "data": {
      "text/plain": [
       "x     8.82\n",
       "y    10.24\n",
       "dtype: float64"
      ]
     },
     "execution_count": 75,
     "metadata": {},
     "output_type": "execute_result"
    }
   ],
   "source": [
    "df = pd.DataFrame({\n",
    "    'x': [6.1, 9.2, 11.5, 8.6, 12.1, 3.9, 8.4, 10.1, 9.4, 8.9],\n",
    "    'y': [7.3, 8.7, 12.6, 6.8, 12, 6.9, 10.2, 17.1, 9.2, 11.6]\n",
    "})\n",
    "df.mean()"
   ]
  },
  {
   "cell_type": "code",
   "execution_count": 87,
   "id": "4789ac23",
   "metadata": {},
   "outputs": [
    {
     "data": {
      "text/plain": [
       "(-1.120432065446935, 0.27840903994521154, 16.673890238780608)"
      ]
     },
     "execution_count": 87,
     "metadata": {},
     "output_type": "execute_result"
    }
   ],
   "source": [
    " weightstats.ttest_ind(df.x, df.y, usevar='unequal')"
   ]
  },
  {
   "cell_type": "code",
   "execution_count": 88,
   "id": "17a72805",
   "metadata": {},
   "outputs": [
    {
     "data": {
      "text/plain": [
       "0.455"
      ]
     },
     "execution_count": 88,
     "metadata": {},
     "output_type": "execute_result"
    }
   ],
   "source": [
    "(62+29)/200"
   ]
  },
  {
   "cell_type": "code",
   "execution_count": 89,
   "id": "36dc0c86",
   "metadata": {},
   "outputs": [
    {
     "data": {
      "text/plain": [
       "4.69"
      ]
     },
     "execution_count": 89,
     "metadata": {},
     "output_type": "execute_result"
    }
   ],
   "source": [
    "round((0.62-0.29)/math.sqrt(0.455*(1-0.455)*0.02), 2)"
   ]
  },
  {
   "cell_type": "code",
   "execution_count": 98,
   "id": "01ce5f00",
   "metadata": {},
   "outputs": [
    {
     "data": {
      "text/plain": [
       "1.0"
      ]
     },
     "execution_count": 98,
     "metadata": {},
     "output_type": "execute_result"
    }
   ],
   "source": [
    "round(norm.cdf(4.69), 3)"
   ]
  },
  {
   "cell_type": "code",
   "execution_count": null,
   "id": "83f10536",
   "metadata": {},
   "outputs": [],
   "source": []
  }
 ],
 "metadata": {
  "kernelspec": {
   "display_name": "Python 3",
   "language": "python",
   "name": "python3"
  },
  "language_info": {
   "codemirror_mode": {
    "name": "ipython",
    "version": 3
   },
   "file_extension": ".py",
   "mimetype": "text/x-python",
   "name": "python",
   "nbconvert_exporter": "python",
   "pygments_lexer": "ipython3",
   "version": "3.8.8"
  }
 },
 "nbformat": 4,
 "nbformat_minor": 5
}
