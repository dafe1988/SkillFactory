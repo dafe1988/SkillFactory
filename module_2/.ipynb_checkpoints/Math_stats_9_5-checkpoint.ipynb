{
 "cells": [
  {
   "cell_type": "code",
   "execution_count": 1,
   "id": "ecd517fa",
   "metadata": {},
   "outputs": [],
   "source": [
    "import numpy as np"
   ]
  },
  {
   "cell_type": "code",
   "execution_count": 3,
   "id": "70fffe06",
   "metadata": {},
   "outputs": [
    {
     "data": {
      "text/plain": [
       "array([[  1. , 135. ,  34. ,   4. ],\n",
       "       [  2. , 160. ,  43. ,   5. ],\n",
       "       [  3. , 163. ,  40. ,   4.3],\n",
       "       [  4. , 147. ,  44. ,   5. ],\n",
       "       [  5. , 138. ,  41. ,   4.7],\n",
       "       [  6. , 149. ,  54. ,   3.9],\n",
       "       [  7. , 136. ,  39. ,   4.2],\n",
       "       [  8. , 154. ,  48. ,   4.9],\n",
       "       [  9. , 137. ,  35. ,   3.7],\n",
       "       [ 10. , 165. ,  60. ,   4.6]])"
      ]
     },
     "execution_count": 3,
     "metadata": {},
     "output_type": "execute_result"
    }
   ],
   "source": [
    "students = np.genfromtxt(\"students.txt\", delimiter=\"/\")\n",
    "students"
   ]
  },
  {
   "cell_type": "code",
   "execution_count": 4,
   "id": "4f3cb03d",
   "metadata": {},
   "outputs": [
    {
     "data": {
      "text/plain": [
       "4.430000000000001"
      ]
     },
     "execution_count": 4,
     "metadata": {},
     "output_type": "execute_result"
    }
   ],
   "source": [
    "mean = np.mean(students[:,-1])\n",
    "mean"
   ]
  },
  {
   "cell_type": "code",
   "execution_count": 5,
   "id": "23487ab8",
   "metadata": {},
   "outputs": [
    {
     "data": {
      "text/plain": [
       "4.449999999999999"
      ]
     },
     "execution_count": 5,
     "metadata": {},
     "output_type": "execute_result"
    }
   ],
   "source": [
    "median = np.median(students[:,-1])\n",
    "median"
   ]
  },
  {
   "cell_type": "code",
   "execution_count": 6,
   "id": "2dbd42ae",
   "metadata": {},
   "outputs": [
    {
     "name": "stdout",
     "output_type": "stream",
     "text": [
      "[3.7 3.9 4.  4.2 4.3 4.6 4.7 4.9 5.  5. ]\n"
     ]
    },
    {
     "data": {
      "text/plain": [
       "4.449999999999999"
      ]
     },
     "execution_count": 6,
     "metadata": {},
     "output_type": "execute_result"
    }
   ],
   "source": [
    "sort = np.sort(students[:,-1])\n",
    "print(sort)\n",
    "(sort[4]+sort[5])/2"
   ]
  },
  {
   "cell_type": "code",
   "execution_count": 7,
   "id": "d7bbe52e",
   "metadata": {},
   "outputs": [
    {
     "data": {
      "text/plain": [
       "42.0"
      ]
     },
     "execution_count": 7,
     "metadata": {},
     "output_type": "execute_result"
    }
   ],
   "source": [
    "median_m = np.median(students[:,2])\n",
    "median_m"
   ]
  },
  {
   "cell_type": "code",
   "execution_count": 8,
   "id": "2a79de7e",
   "metadata": {},
   "outputs": [
    {
     "data": {
      "text/plain": [
       "1.7999999999999972"
      ]
     },
     "execution_count": 8,
     "metadata": {},
     "output_type": "execute_result"
    }
   ],
   "source": [
    "np.sum(np.mean(students[:,2])) - median_m"
   ]
  },
  {
   "cell_type": "code",
   "execution_count": 9,
   "id": "8ab0594c",
   "metadata": {},
   "outputs": [
    {
     "data": {
      "text/plain": [
       "array([[1.        , 0.64314431],\n",
       "       [0.64314431, 1.        ]])"
      ]
     },
     "execution_count": 9,
     "metadata": {},
     "output_type": "execute_result"
    }
   ],
   "source": [
    "'''между ростом и массой'''\n",
    "corr = np.corrcoef(students[:,1], students[:,2])\n",
    "corr"
   ]
  },
  {
   "cell_type": "code",
   "execution_count": 10,
   "id": "f7d30264",
   "metadata": {},
   "outputs": [
    {
     "data": {
      "text/plain": [
       "array([[1.        , 0.46293714],\n",
       "       [0.46293714, 1.        ]])"
      ]
     },
     "execution_count": 10,
     "metadata": {},
     "output_type": "execute_result"
    }
   ],
   "source": [
    "'''между ростом и успеваемостью'''\n",
    "np.corrcoef(students[:,1], students[:,-1])"
   ]
  },
  {
   "cell_type": "code",
   "execution_count": 11,
   "id": "f7006857",
   "metadata": {},
   "outputs": [
    {
     "data": {
      "text/plain": [
       "array([[1.        , 0.29801325],\n",
       "       [0.29801325, 1.        ]])"
      ]
     },
     "execution_count": 11,
     "metadata": {},
     "output_type": "execute_result"
    }
   ],
   "source": [
    "''' между массой тела и успеваемостью '''\n",
    "np.corrcoef(students[:,-1], students[:,2])"
   ]
  },
  {
   "cell_type": "code",
   "execution_count": 12,
   "id": "5502d651",
   "metadata": {},
   "outputs": [
    {
     "data": {
      "text/plain": [
       "11.083320801997928"
      ]
     },
     "execution_count": 12,
     "metadata": {},
     "output_type": "execute_result"
    }
   ],
   "source": [
    "std = np.std(students[:,1])\n",
    "std"
   ]
  },
  {
   "cell_type": "code",
   "execution_count": 13,
   "id": "d6167a9e",
   "metadata": {},
   "outputs": [
    {
     "data": {
      "text/plain": [
       "0.4517742799230607"
      ]
     },
     "execution_count": 13,
     "metadata": {},
     "output_type": "execute_result"
    }
   ],
   "source": [
    "np.std(students[:,-1])"
   ]
  },
  {
   "cell_type": "code",
   "execution_count": 16,
   "id": "ad7b8f1a",
   "metadata": {},
   "outputs": [
    {
     "data": {
      "text/plain": [
       "60.36"
      ]
     },
     "execution_count": 16,
     "metadata": {},
     "output_type": "execute_result"
    }
   ],
   "source": [
    "np.var(students[:,2], axis=0)"
   ]
  },
  {
   "cell_type": "code",
   "execution_count": 17,
   "id": "c7086616",
   "metadata": {},
   "outputs": [
    {
     "data": {
      "text/plain": [
       "array([1., 1., 1., 1., 1., 1., 1., 1., 1., 1., 1., 1., 1., 1., 1., 1., 1.,\n",
       "       1., 1., 1., 1., 1., 1., 1., 1., 1., 1., 1., 1., 1., 1., 1., 1., 1.,\n",
       "       1., 1., 1., 1., 1., 1., 1., 1., 1., 1., 1.])"
      ]
     },
     "execution_count": 17,
     "metadata": {},
     "output_type": "execute_result"
    }
   ],
   "source": [
    "np.array([x/x for x in range(1,10)]*5) "
   ]
  },
  {
   "cell_type": "code",
   "execution_count": 19,
   "id": "3e02ca33",
   "metadata": {},
   "outputs": [
    {
     "data": {
      "text/plain": [
       "array([[7.74860419e-304],\n",
       "       [7.74860419e-304],\n",
       "       [7.74860419e-304],\n",
       "       [7.74860419e-304],\n",
       "       [7.74860419e-304]])"
      ]
     },
     "execution_count": 19,
     "metadata": {},
     "output_type": "execute_result"
    }
   ],
   "source": [
    "np.empty((5, 1)) "
   ]
  },
  {
   "cell_type": "code",
   "execution_count": 20,
   "id": "05157afe",
   "metadata": {},
   "outputs": [
    {
     "data": {
      "text/plain": [
       "array([[1, 1, 6, 6, 6, 6, 7, 8, 9, 9],\n",
       "       [1, 2, 3, 4, 5, 6, 7, 9, 9, 9],\n",
       "       [1, 1, 2, 4, 4, 6, 7, 7, 9, 9],\n",
       "       [1, 1, 2, 3, 3, 5, 6, 8, 9, 9],\n",
       "       [1, 1, 1, 1, 2, 2, 4, 7, 8, 9],\n",
       "       [1, 2, 3, 5, 7, 7, 8, 9, 9, 9],\n",
       "       [1, 1, 1, 2, 3, 6, 7, 7, 8, 8],\n",
       "       [2, 2, 4, 5, 5, 7, 7, 7, 8, 8],\n",
       "       [1, 3, 4, 5, 6, 6, 6, 8, 9, 9],\n",
       "       [1, 1, 2, 2, 5, 5, 6, 8, 9, 9]])"
      ]
     },
     "execution_count": 20,
     "metadata": {},
     "output_type": "execute_result"
    }
   ],
   "source": [
    "np.sort(np.random.randint(1, 10, (10, 10)))"
   ]
  },
  {
   "cell_type": "code",
   "execution_count": 60,
   "id": "a0f3ebed",
   "metadata": {},
   "outputs": [
    {
     "data": {
      "text/plain": [
       "array([[ 1,  2,  3,  4,  5],\n",
       "       [ 6,  7,  8,  9, 10],\n",
       "       [11, 12, 13, 14, 15],\n",
       "       [16, 17, 18, 19, 20],\n",
       "       [21, 22, 23, 24, 25]])"
      ]
     },
     "execution_count": 60,
     "metadata": {},
     "output_type": "execute_result"
    }
   ],
   "source": [
    "my_array = np.array([[1,2,3,4,5],\n",
    "                     [6,7,8,9,10],\n",
    "                     [11,12,13,14,15],\n",
    "                     [16,17,18,19,20],\n",
    "                     [21,22,23,24,25]])\n",
    "my_array"
   ]
  },
  {
   "cell_type": "code",
   "execution_count": 61,
   "id": "39f695c8",
   "metadata": {},
   "outputs": [
    {
     "data": {
      "text/plain": [
       "array([[ 7,  8,  9],\n",
       "       [12, 13, 14],\n",
       "       [17, 18, 19]])"
      ]
     },
     "execution_count": 61,
     "metadata": {},
     "output_type": "execute_result"
    }
   ],
   "source": [
    "my_array[1:4,1:4]"
   ]
  },
  {
   "cell_type": "code",
   "execution_count": 62,
   "id": "415be407",
   "metadata": {},
   "outputs": [
    {
     "data": {
      "text/plain": [
       "-0.05812430261413351"
      ]
     },
     "execution_count": 62,
     "metadata": {},
     "output_type": "execute_result"
    }
   ],
   "source": [
    "my_sin = np.sin(my_array)\n",
    "np.sum(my_sin)"
   ]
  },
  {
   "cell_type": "code",
   "execution_count": 63,
   "id": "4e201754",
   "metadata": {},
   "outputs": [
    {
     "data": {
      "text/plain": [
       "array([[ 0.84147098,  0.90929743,  0.14112001, -0.7568025 , -0.95892427],\n",
       "       [-0.2794155 ,  0.6569866 ,  0.98935825,  0.41211849, -0.54402111],\n",
       "       [-0.99999021, -0.53657292,  0.42016704,  0.99060736,  0.65028784],\n",
       "       [-0.28790332, -0.96139749, -0.75098725,  0.14987721,  0.91294525],\n",
       "       [ 0.83665564, -0.00885131, -0.8462204 , -0.90557836, -0.13235175]])"
      ]
     },
     "execution_count": 63,
     "metadata": {},
     "output_type": "execute_result"
    }
   ],
   "source": [
    "my_sin"
   ]
  },
  {
   "cell_type": "code",
   "execution_count": 64,
   "id": "25d8e9fd",
   "metadata": {},
   "outputs": [
    {
     "data": {
      "text/plain": [
       "array([[ 0.84147098,  0.90929743,  0.14112001, -0.7568025 , -0.95892427],\n",
       "       [-0.2794155 ,  1.        ,  1.        ,  1.        , -0.54402111],\n",
       "       [-0.99999021,  1.        ,  1.        ,  1.        ,  0.65028784],\n",
       "       [-0.28790332,  1.        ,  1.        ,  1.        ,  0.91294525],\n",
       "       [ 0.83665564, -0.00885131, -0.8462204 , -0.90557836, -0.13235175]])"
      ]
     },
     "execution_count": 64,
     "metadata": {},
     "output_type": "execute_result"
    }
   ],
   "source": [
    "my_sin.put((6,7,8,11,12,13,16,17,18), 1)\n",
    "my_sin"
   ]
  },
  {
   "cell_type": "code",
   "execution_count": 65,
   "id": "9e867d1d",
   "metadata": {},
   "outputs": [
    {
     "data": {
      "text/plain": [
       "7.571718421269144"
      ]
     },
     "execution_count": 65,
     "metadata": {},
     "output_type": "execute_result"
    }
   ],
   "source": [
    "np.sum(my_sin)"
   ]
  },
  {
   "cell_type": "code",
   "execution_count": 67,
   "id": "4179c54d",
   "metadata": {},
   "outputs": [
    {
     "data": {
      "text/plain": [
       "array([[ 0.84147098,  0.90929743,  0.14112001, -0.7568025 ],\n",
       "       [-0.2794155 ,  1.        ,  1.        ,  1.        ],\n",
       "       [-0.99999021,  1.        ,  1.        ,  1.        ],\n",
       "       [-0.28790332,  1.        ,  1.        ,  1.        ],\n",
       "       [ 0.83665564, -0.00885131, -0.8462204 , -0.90557836]])"
      ]
     },
     "execution_count": 67,
     "metadata": {},
     "output_type": "execute_result"
    }
   ],
   "source": [
    "my_sin_2 = my_sin[:,:4]\n",
    "my_sin_2"
   ]
  },
  {
   "cell_type": "code",
   "execution_count": 70,
   "id": "8668328a",
   "metadata": {},
   "outputs": [
    {
     "data": {
      "text/plain": [
       "array([[ 0.84147098,  0.90929743],\n",
       "       [ 0.14112001, -0.7568025 ],\n",
       "       [-0.2794155 ,  1.        ],\n",
       "       [ 1.        ,  1.        ],\n",
       "       [-0.99999021,  1.        ],\n",
       "       [ 1.        ,  1.        ],\n",
       "       [-0.28790332,  1.        ],\n",
       "       [ 1.        ,  1.        ],\n",
       "       [ 0.83665564, -0.00885131],\n",
       "       [-0.8462204 , -0.90557836]])"
      ]
     },
     "execution_count": 70,
     "metadata": {},
     "output_type": "execute_result"
    }
   ],
   "source": [
    "my_sin_3 = my_sin_2.reshape((10,2))\n",
    "my_sin_3"
   ]
  },
  {
   "cell_type": "code",
   "execution_count": 72,
   "id": "dcdcbc94",
   "metadata": {},
   "outputs": [
    {
     "data": {
      "text/plain": [
       "2.4057172058139544"
      ]
     },
     "execution_count": 72,
     "metadata": {},
     "output_type": "execute_result"
    }
   ],
   "source": [
    "np.sum(my_sin_3[:,0])"
   ]
  },
  {
   "cell_type": "code",
   "execution_count": 76,
   "id": "57a22d92",
   "metadata": {},
   "outputs": [
    {
     "data": {
      "text/plain": [
       "[10201,\n",
       " 10609,\n",
       " 11025,\n",
       " 11449,\n",
       " 11881,\n",
       " 12321,\n",
       " 12769,\n",
       " 13225,\n",
       " 13689,\n",
       " 14161,\n",
       " 14641,\n",
       " 15129,\n",
       " 15625,\n",
       " 16129,\n",
       " 16641,\n",
       " 17161,\n",
       " 17689,\n",
       " 18225,\n",
       " 18769,\n",
       " 19321,\n",
       " 19881,\n",
       " 20449,\n",
       " 21025,\n",
       " 21609,\n",
       " 22201,\n",
       " 22801,\n",
       " 23409,\n",
       " 24025,\n",
       " 24649,\n",
       " 25281,\n",
       " 25921,\n",
       " 26569,\n",
       " 27225,\n",
       " 27889,\n",
       " 28561,\n",
       " 29241,\n",
       " 29929,\n",
       " 30625,\n",
       " 31329,\n",
       " 32041,\n",
       " 32761,\n",
       " 33489,\n",
       " 34225,\n",
       " 34969,\n",
       " 35721,\n",
       " 36481,\n",
       " 37249,\n",
       " 38025,\n",
       " 38809,\n",
       " 39601,\n",
       " 40401,\n",
       " 41209,\n",
       " 42025,\n",
       " 42849,\n",
       " 43681,\n",
       " 44521,\n",
       " 45369,\n",
       " 46225,\n",
       " 47089,\n",
       " 47961,\n",
       " 48841,\n",
       " 49729,\n",
       " 50625,\n",
       " 51529,\n",
       " 52441,\n",
       " 53361,\n",
       " 54289,\n",
       " 55225,\n",
       " 56169,\n",
       " 57121,\n",
       " 58081,\n",
       " 59049,\n",
       " 60025,\n",
       " 61009,\n",
       " 62001,\n",
       " 63001,\n",
       " 64009,\n",
       " 65025,\n",
       " 66049,\n",
       " 67081,\n",
       " 68121,\n",
       " 69169,\n",
       " 70225,\n",
       " 71289,\n",
       " 72361,\n",
       " 73441,\n",
       " 74529,\n",
       " 75625,\n",
       " 76729,\n",
       " 77841,\n",
       " 78961,\n",
       " 80089,\n",
       " 81225,\n",
       " 82369,\n",
       " 83521,\n",
       " 84681,\n",
       " 85849,\n",
       " 87025,\n",
       " 88209,\n",
       " 89401,\n",
       " 90601,\n",
       " 91809,\n",
       " 93025,\n",
       " 94249,\n",
       " 95481,\n",
       " 96721,\n",
       " 97969,\n",
       " 99225,\n",
       " 100489,\n",
       " 101761,\n",
       " 103041,\n",
       " 104329,\n",
       " 105625,\n",
       " 106929,\n",
       " 108241,\n",
       " 109561,\n",
       " 110889,\n",
       " 112225,\n",
       " 113569,\n",
       " 114921,\n",
       " 116281,\n",
       " 117649,\n",
       " 119025,\n",
       " 120409,\n",
       " 121801,\n",
       " 123201,\n",
       " 124609,\n",
       " 126025,\n",
       " 127449,\n",
       " 128881,\n",
       " 130321,\n",
       " 131769,\n",
       " 133225,\n",
       " 134689,\n",
       " 136161,\n",
       " 137641,\n",
       " 139129,\n",
       " 140625,\n",
       " 142129,\n",
       " 143641,\n",
       " 145161,\n",
       " 146689,\n",
       " 148225,\n",
       " 149769,\n",
       " 151321,\n",
       " 152881,\n",
       " 154449,\n",
       " 156025,\n",
       " 157609,\n",
       " 159201,\n",
       " 160801,\n",
       " 162409,\n",
       " 164025,\n",
       " 165649,\n",
       " 167281,\n",
       " 168921,\n",
       " 170569,\n",
       " 172225,\n",
       " 173889,\n",
       " 175561,\n",
       " 177241,\n",
       " 178929,\n",
       " 180625,\n",
       " 182329,\n",
       " 184041,\n",
       " 185761,\n",
       " 187489,\n",
       " 189225,\n",
       " 190969,\n",
       " 192721,\n",
       " 194481,\n",
       " 196249,\n",
       " 198025,\n",
       " 199809,\n",
       " 201601,\n",
       " 203401,\n",
       " 205209,\n",
       " 207025,\n",
       " 208849,\n",
       " 210681,\n",
       " 212521,\n",
       " 214369,\n",
       " 216225,\n",
       " 218089,\n",
       " 219961,\n",
       " 221841,\n",
       " 223729,\n",
       " 225625,\n",
       " 227529,\n",
       " 229441,\n",
       " 231361,\n",
       " 233289,\n",
       " 235225,\n",
       " 237169,\n",
       " 239121,\n",
       " 241081,\n",
       " 243049,\n",
       " 245025,\n",
       " 247009,\n",
       " 249001,\n",
       " 251001,\n",
       " 253009,\n",
       " 255025,\n",
       " 257049,\n",
       " 259081,\n",
       " 261121,\n",
       " 263169,\n",
       " 265225,\n",
       " 267289,\n",
       " 269361,\n",
       " 271441,\n",
       " 273529,\n",
       " 275625,\n",
       " 277729,\n",
       " 279841,\n",
       " 281961,\n",
       " 284089,\n",
       " 286225,\n",
       " 288369,\n",
       " 290521,\n",
       " 292681,\n",
       " 294849,\n",
       " 297025,\n",
       " 299209,\n",
       " 301401,\n",
       " 303601,\n",
       " 305809,\n",
       " 308025,\n",
       " 310249,\n",
       " 312481,\n",
       " 314721,\n",
       " 316969,\n",
       " 319225,\n",
       " 321489,\n",
       " 323761,\n",
       " 326041,\n",
       " 328329,\n",
       " 330625,\n",
       " 332929,\n",
       " 335241,\n",
       " 337561,\n",
       " 339889,\n",
       " 342225,\n",
       " 344569,\n",
       " 346921,\n",
       " 349281,\n",
       " 351649,\n",
       " 354025,\n",
       " 356409,\n",
       " 358801,\n",
       " 361201,\n",
       " 363609,\n",
       " 366025,\n",
       " 368449,\n",
       " 370881,\n",
       " 373321,\n",
       " 375769,\n",
       " 378225,\n",
       " 380689,\n",
       " 383161,\n",
       " 385641,\n",
       " 388129,\n",
       " 390625,\n",
       " 393129,\n",
       " 395641,\n",
       " 398161,\n",
       " 400689,\n",
       " 403225,\n",
       " 405769,\n",
       " 408321,\n",
       " 410881,\n",
       " 413449,\n",
       " 416025,\n",
       " 418609,\n",
       " 421201,\n",
       " 423801,\n",
       " 426409,\n",
       " 429025,\n",
       " 431649,\n",
       " 434281,\n",
       " 436921,\n",
       " 439569,\n",
       " 442225,\n",
       " 444889,\n",
       " 447561,\n",
       " 450241,\n",
       " 452929,\n",
       " 455625,\n",
       " 458329,\n",
       " 461041,\n",
       " 463761,\n",
       " 466489,\n",
       " 469225,\n",
       " 471969,\n",
       " 474721,\n",
       " 477481,\n",
       " 480249,\n",
       " 483025,\n",
       " 485809,\n",
       " 488601,\n",
       " 491401,\n",
       " 494209,\n",
       " 497025,\n",
       " 499849,\n",
       " 502681,\n",
       " 505521,\n",
       " 508369,\n",
       " 511225,\n",
       " 514089,\n",
       " 516961,\n",
       " 519841,\n",
       " 522729,\n",
       " 525625,\n",
       " 528529,\n",
       " 531441,\n",
       " 534361,\n",
       " 537289,\n",
       " 540225,\n",
       " 543169,\n",
       " 546121,\n",
       " 549081,\n",
       " 552049,\n",
       " 555025,\n",
       " 558009,\n",
       " 561001,\n",
       " 564001,\n",
       " 567009,\n",
       " 570025,\n",
       " 573049,\n",
       " 576081,\n",
       " 579121,\n",
       " 582169,\n",
       " 585225,\n",
       " 588289,\n",
       " 591361,\n",
       " 594441,\n",
       " 597529,\n",
       " 600625,\n",
       " 603729,\n",
       " 606841,\n",
       " 609961,\n",
       " 613089,\n",
       " 616225,\n",
       " 619369,\n",
       " 622521,\n",
       " 625681,\n",
       " 628849,\n",
       " 632025,\n",
       " 635209,\n",
       " 638401,\n",
       " 641601,\n",
       " 644809,\n",
       " 648025,\n",
       " 651249,\n",
       " 654481,\n",
       " 657721,\n",
       " 660969,\n",
       " 664225,\n",
       " 667489,\n",
       " 670761,\n",
       " 674041,\n",
       " 677329,\n",
       " 680625,\n",
       " 683929,\n",
       " 687241,\n",
       " 690561,\n",
       " 693889,\n",
       " 697225,\n",
       " 700569,\n",
       " 703921,\n",
       " 707281,\n",
       " 710649,\n",
       " 714025,\n",
       " 717409,\n",
       " 720801,\n",
       " 724201,\n",
       " 727609,\n",
       " 731025,\n",
       " 734449,\n",
       " 737881,\n",
       " 741321,\n",
       " 744769,\n",
       " 748225,\n",
       " 751689,\n",
       " 755161,\n",
       " 758641,\n",
       " 762129,\n",
       " 765625,\n",
       " 769129,\n",
       " 772641,\n",
       " 776161,\n",
       " 779689,\n",
       " 783225,\n",
       " 786769,\n",
       " 790321,\n",
       " 793881,\n",
       " 797449,\n",
       " 801025,\n",
       " 804609,\n",
       " 808201,\n",
       " 811801,\n",
       " 815409,\n",
       " 819025,\n",
       " 822649,\n",
       " 826281,\n",
       " 829921,\n",
       " 833569,\n",
       " 837225,\n",
       " 840889,\n",
       " 844561,\n",
       " 848241,\n",
       " 851929,\n",
       " 855625,\n",
       " 859329,\n",
       " 863041,\n",
       " 866761,\n",
       " 870489,\n",
       " 874225,\n",
       " 877969,\n",
       " 881721,\n",
       " 885481,\n",
       " 889249,\n",
       " 893025,\n",
       " 896809,\n",
       " 900601,\n",
       " 904401,\n",
       " 908209,\n",
       " 912025,\n",
       " 915849,\n",
       " 919681,\n",
       " 923521,\n",
       " 927369,\n",
       " 931225,\n",
       " 935089,\n",
       " 938961,\n",
       " 942841,\n",
       " 946729,\n",
       " 950625,\n",
       " 954529,\n",
       " 958441,\n",
       " 962361,\n",
       " 966289,\n",
       " 970225,\n",
       " 974169,\n",
       " 978121,\n",
       " 982081,\n",
       " 986049,\n",
       " 990025,\n",
       " 994009,\n",
       " 998001]"
      ]
     },
     "execution_count": 76,
     "metadata": {},
     "output_type": "execute_result"
    }
   ],
   "source": [
    "bigdata = [x**2 for x in range(101,1000,2)]\n",
    "bigdata"
   ]
  },
  {
   "cell_type": "code",
   "execution_count": 77,
   "id": "1df8bccc",
   "metadata": {},
   "outputs": [
    {
     "data": {
      "text/plain": [
       "302501.0"
      ]
     },
     "execution_count": 77,
     "metadata": {},
     "output_type": "execute_result"
    }
   ],
   "source": [
    "np.median(bigdata)"
   ]
  },
  {
   "cell_type": "code",
   "execution_count": 78,
   "id": "d06c29d5",
   "metadata": {},
   "outputs": [
    {
     "data": {
      "text/plain": [
       "292095.0301991155"
      ]
     },
     "execution_count": 78,
     "metadata": {},
     "output_type": "execute_result"
    }
   ],
   "source": [
    "np.std(bigdata)"
   ]
  },
  {
   "cell_type": "code",
   "execution_count": 79,
   "id": "9f491563",
   "metadata": {},
   "outputs": [
    {
     "data": {
      "text/plain": [
       "array([[1.        , 0.99999973],\n",
       "       [0.99999973, 1.        ]])"
      ]
     },
     "execution_count": 79,
     "metadata": {},
     "output_type": "execute_result"
    }
   ],
   "source": [
    "bigdata_even = bigdata[::2]\n",
    "bigdata_odd = bigdata[1::2]\n",
    "np.corrcoef(bigdata_even,bigdata_odd)"
   ]
  },
  {
   "cell_type": "code",
   "execution_count": null,
   "id": "738c3b1f",
   "metadata": {},
   "outputs": [],
   "source": []
  }
 ],
 "metadata": {
  "kernelspec": {
   "display_name": "Python 3",
   "language": "python",
   "name": "python3"
  },
  "language_info": {
   "codemirror_mode": {
    "name": "ipython",
    "version": 3
   },
   "file_extension": ".py",
   "mimetype": "text/x-python",
   "name": "python",
   "nbconvert_exporter": "python",
   "pygments_lexer": "ipython3",
   "version": "3.8.8"
  }
 },
 "nbformat": 4,
 "nbformat_minor": 5
}
