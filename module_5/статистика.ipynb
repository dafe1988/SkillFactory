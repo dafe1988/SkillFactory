{
 "cells": [
  {
   "cell_type": "code",
   "execution_count": 1,
   "id": "64286a74",
   "metadata": {},
   "outputs": [],
   "source": [
    "import numpy as np\n",
    "import matplotlib.pyplot as plt\n",
    "import math"
   ]
  },
  {
   "cell_type": "code",
   "execution_count": 3,
   "id": "6b9c36ed",
   "metadata": {},
   "outputs": [
    {
     "name": "stdout",
     "output_type": "stream",
     "text": [
      "[20 23 29 22 50 43 35] [70 65 58 90 45 57 50]\n"
     ]
    }
   ],
   "source": [
    "m = np.array([20, 23, 29, 22, 50, 43, 35])\n",
    "r = np.array([70, 65, 58, 90, 45, 57, 50])\n",
    "print(m, r)"
   ]
  },
  {
   "cell_type": "code",
   "execution_count": 5,
   "id": "968a0cff",
   "metadata": {},
   "outputs": [
    {
     "data": {
      "text/plain": [
       "0.29"
      ]
     },
     "execution_count": 5,
     "metadata": {},
     "output_type": "execute_result"
    }
   ],
   "source": [
    "np.round(2/7, 2)"
   ]
  },
  {
   "cell_type": "code",
   "execution_count": 13,
   "id": "af6f52e2",
   "metadata": {},
   "outputs": [
    {
     "data": {
      "text/plain": [
       "31.71"
      ]
     },
     "execution_count": 13,
     "metadata": {},
     "output_type": "execute_result"
    }
   ],
   "source": [
    "m_avg = np.round(np.mean(m), 2)\n",
    "m_avg"
   ]
  },
  {
   "cell_type": "code",
   "execution_count": 14,
   "id": "5e067969",
   "metadata": {},
   "outputs": [
    {
     "data": {
      "text/plain": [
       "62.14"
      ]
     },
     "execution_count": 14,
     "metadata": {},
     "output_type": "execute_result"
    }
   ],
   "source": [
    "r_avg = np.round(np.mean(r), 2)\n",
    "r_avg"
   ]
  },
  {
   "cell_type": "code",
   "execution_count": 15,
   "id": "e1219125",
   "metadata": {},
   "outputs": [
    {
     "data": {
      "text/plain": [
       "29.0"
      ]
     },
     "execution_count": 15,
     "metadata": {},
     "output_type": "execute_result"
    }
   ],
   "source": [
    "m_med = np.median(m)\n",
    "m_med"
   ]
  },
  {
   "cell_type": "code",
   "execution_count": 16,
   "id": "63f599d8",
   "metadata": {},
   "outputs": [
    {
     "data": {
      "text/plain": [
       "58.0"
      ]
     },
     "execution_count": 16,
     "metadata": {},
     "output_type": "execute_result"
    }
   ],
   "source": [
    "r_med = np.median(r)\n",
    "r_med"
   ]
  },
  {
   "cell_type": "code",
   "execution_count": 23,
   "id": "8989bcdb",
   "metadata": {},
   "outputs": [
    {
     "name": "stdout",
     "output_type": "stream",
     "text": [
      "[137.1241  75.8641   7.3441  94.2841 334.5241 127.4641  10.8241]\n",
      "10.61\n"
     ]
    }
   ],
   "source": [
    "m_sqsum = (m-m_avg)*(m-m_avg)\n",
    "print(m_sqsum)\n",
    "m_std_no_corr = np.round(np.sqrt(np.sum(m_sqsum)/7), 2)\n",
    "print(m_std_no_corr)"
   ]
  },
  {
   "cell_type": "code",
   "execution_count": 24,
   "id": "d69cce15",
   "metadata": {},
   "outputs": [
    {
     "name": "stdout",
     "output_type": "stream",
     "text": [
      "11.46\n"
     ]
    }
   ],
   "source": [
    "m_std_corr = np.round(np.sqrt(np.sum(m_sqsum)/6), 2)\n",
    "print(m_std_corr)"
   ]
  },
  {
   "cell_type": "code",
   "execution_count": 25,
   "id": "2d144d10",
   "metadata": {},
   "outputs": [
    {
     "name": "stdout",
     "output_type": "stream",
     "text": [
      "[ 61.7796   8.1796  17.1396 776.1796 293.7796  26.4196 147.3796]\n",
      "13.79\n",
      "14.89\n"
     ]
    }
   ],
   "source": [
    "r_sqsum = (r-r_avg)*(r-r_avg)\n",
    "print(r_sqsum)\n",
    "r_std_no_corr = np.round(np.sqrt(np.sum(r_sqsum)/7), 2)\n",
    "print(r_std_no_corr)\n",
    "r_std_corr = np.round(np.sqrt(np.sum(r_sqsum)/6), 2)\n",
    "print(r_std_corr)"
   ]
  },
  {
   "cell_type": "code",
   "execution_count": 27,
   "id": "7fa7894c",
   "metadata": {},
   "outputs": [
    {
     "data": {
      "text/plain": [
       "array([[ 1.  , -0.77],\n",
       "       [-0.77,  1.  ]])"
      ]
     },
     "execution_count": 27,
     "metadata": {},
     "output_type": "execute_result"
    }
   ],
   "source": [
    "np.round(np.corrcoef(m,r), 2)"
   ]
  },
  {
   "cell_type": "code",
   "execution_count": 28,
   "id": "f0c828f4",
   "metadata": {},
   "outputs": [
    {
     "name": "stdout",
     "output_type": "stream",
     "text": [
      "38.67\n",
      "62.56\n"
     ]
    }
   ],
   "source": [
    "m_1 = np.array([20, 23, 29, 22, 50, 43, 35, 98, 28])\n",
    "r_1 = np.array([70, 65, 58, 90, 45, 57, 50, 90, 38])\n",
    "print(np.round(np.mean(m_1), 2))\n",
    "print(np.round(np.mean(r_1), 2))"
   ]
  },
  {
   "cell_type": "code",
   "execution_count": 29,
   "id": "be52097c",
   "metadata": {},
   "outputs": [
    {
     "data": {
      "text/plain": [
       "array([[1.  , 0.31],\n",
       "       [0.31, 1.  ]])"
      ]
     },
     "execution_count": 29,
     "metadata": {},
     "output_type": "execute_result"
    }
   ],
   "source": [
    "np.round(np.corrcoef(m_1,r_1), 2)"
   ]
  },
  {
   "cell_type": "code",
   "execution_count": null,
   "id": "e0cb0880",
   "metadata": {},
   "outputs": [],
   "source": []
  }
 ],
 "metadata": {
  "kernelspec": {
   "display_name": "Python 3 (ipykernel)",
   "language": "python",
   "name": "python3"
  },
  "language_info": {
   "codemirror_mode": {
    "name": "ipython",
    "version": 3
   },
   "file_extension": ".py",
   "mimetype": "text/x-python",
   "name": "python",
   "nbconvert_exporter": "python",
   "pygments_lexer": "ipython3",
   "version": "3.9.7"
  }
 },
 "nbformat": 4,
 "nbformat_minor": 5
}
