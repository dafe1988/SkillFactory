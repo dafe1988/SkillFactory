{
 "cells": [
  {
   "cell_type": "markdown",
   "metadata": {
    "colab_type": "text",
    "id": "wfs8rM4U-4AT"
   },
   "source": [
    "Думаю, вы уже познакомились со стандартными функциями в numpy для вычисления станадртных оценок (среднего, медианы и проч), однако в анализе реальных данных вы, как правило, будете работать с целым датасетом.\n",
    "\n",
    "В этом разделе мы познакомимся с вычислением описательных статистик для целого датасета.\n",
    "\n",
    "Большинство из них вычиляются одной командой (методом) describe\n",
    "\n",
    "С вычислением корреляцонной матрицы мы уже сталкивались во 2 модуле, но освежим и ее\n",
    "\n",
    "И отдельное внимание уделим вычислению условных и безусловных пропорций.\n"
   ]
  },
  {
   "cell_type": "markdown",
   "metadata": {
    "colab_type": "text",
    "id": "-IgdK2ja-4Ac"
   },
   "source": [
    "В датасете framingham.csv представлены данные, которые группа ученых из Фрамингема (США) использовала для выявления риска заболевания ишемической болезнью сердца в течение 10 лет.\n",
    "\n",
    "Демографические данные: \n",
    "\n",
    "    sex (male): пол, мужчина (1) или женщина (0) \n",
    "\n",
    "    age: возраст \n",
    "    \n",
    "    education: уровень образования (0-4: школа-колледж)\n",
    "    \n",
    "Поведенческие данные: \n",
    "\n",
    "    currentSmoker: курильщик (1) или нет (0)\n",
    "\n",
    "    cigsPerDay: количество выкуриваемых сигарет в день (шт.)\n",
    "\n",
    "Медицинская история:\n",
    "\n",
    "    BPMeds: принимает ли пациент препараты для регулировки артериального давления (0 - нет, 1 - да)\n",
    "\n",
    "    prevalentStroke: случался ли у пациента сердечный приступ (0 - нет, 1 - да)\n",
    "\n",
    "    prevalentHyp: страдает ли пациент гипертонией (0 - нет, 1 - да)\n",
    "\n",
    "    diabetes: страдает ли пациент диабетом (0 - нет, 1 - да)\n",
    "\n",
    "Физическое состояние:\n",
    "\n",
    "    totChol: уровень холестерина\n",
    "\n",
    "    sysBP: систолическое (верхнее) артериальное давление \n",
    "\n",
    "    diaBP: диастолическое (нижнее) артериальное давление \n",
    "\n",
    "    BMI: индекс массы тела - масса (кг) / рост^2 (в метрах)\n",
    "\n",
    "    heartRate: пульс\n",
    "\n",
    "    glucose: уровень глюкозы\n",
    "\n",
    "Целевая переменная (на которую авторы строили регрессию):\n",
    "\n",
    "    TenYearCHD: риск заболевания ишемической болезнью сердца в течение 10 лет"
   ]
  },
  {
   "cell_type": "markdown",
   "metadata": {
    "colab_type": "text",
    "id": "KAPvNzfy-4Ag"
   },
   "source": [
    "Импорт библиотек:"
   ]
  },
  {
   "cell_type": "code",
   "execution_count": 1,
   "metadata": {
    "colab": {},
    "colab_type": "code",
    "id": "TYeT_FtB-4Am"
   },
   "outputs": [],
   "source": [
    "import pandas as pd\n",
    "import numpy as np\n",
    "import matplotlib.pyplot as plt\n",
    "import seaborn as sn\n",
    "import matplotlib.mlab as mlab\n",
    "%matplotlib inline"
   ]
  },
  {
   "cell_type": "markdown",
   "metadata": {
    "colab_type": "text",
    "id": "RljnPEK0-4A3"
   },
   "source": [
    "Импорт датасета:"
   ]
  },
  {
   "cell_type": "code",
   "execution_count": 2,
   "metadata": {
    "colab": {},
    "colab_type": "code",
    "id": "hnvbVple-4A7"
   },
   "outputs": [],
   "source": [
    "df = pd.read_csv('framingham.csv')"
   ]
  },
  {
   "cell_type": "markdown",
   "metadata": {
    "colab_type": "text",
    "id": "F4UnM5M--4BG"
   },
   "source": [
    "Шапка датасета:"
   ]
  },
  {
   "cell_type": "code",
   "execution_count": 3,
   "metadata": {
    "colab": {},
    "colab_type": "code",
    "id": "F4XPaDXW-4BI"
   },
   "outputs": [
    {
     "data": {
      "text/html": [
       "<div>\n",
       "<style scoped>\n",
       "    .dataframe tbody tr th:only-of-type {\n",
       "        vertical-align: middle;\n",
       "    }\n",
       "\n",
       "    .dataframe tbody tr th {\n",
       "        vertical-align: top;\n",
       "    }\n",
       "\n",
       "    .dataframe thead th {\n",
       "        text-align: right;\n",
       "    }\n",
       "</style>\n",
       "<table border=\"1\" class=\"dataframe\">\n",
       "  <thead>\n",
       "    <tr style=\"text-align: right;\">\n",
       "      <th></th>\n",
       "      <th>male</th>\n",
       "      <th>age</th>\n",
       "      <th>education</th>\n",
       "      <th>currentSmoker</th>\n",
       "      <th>cigsPerDay</th>\n",
       "      <th>BPMeds</th>\n",
       "      <th>prevalentStroke</th>\n",
       "      <th>prevalentHyp</th>\n",
       "      <th>diabetes</th>\n",
       "      <th>totChol</th>\n",
       "      <th>sysBP</th>\n",
       "      <th>diaBP</th>\n",
       "      <th>BMI</th>\n",
       "      <th>heartRate</th>\n",
       "      <th>glucose</th>\n",
       "      <th>TenYearCHD</th>\n",
       "    </tr>\n",
       "  </thead>\n",
       "  <tbody>\n",
       "    <tr>\n",
       "      <th>0</th>\n",
       "      <td>1</td>\n",
       "      <td>39</td>\n",
       "      <td>4.0</td>\n",
       "      <td>0</td>\n",
       "      <td>0.0</td>\n",
       "      <td>0.0</td>\n",
       "      <td>0</td>\n",
       "      <td>0</td>\n",
       "      <td>0</td>\n",
       "      <td>195.0</td>\n",
       "      <td>106.0</td>\n",
       "      <td>70.0</td>\n",
       "      <td>26.97</td>\n",
       "      <td>80.0</td>\n",
       "      <td>77.0</td>\n",
       "      <td>0</td>\n",
       "    </tr>\n",
       "    <tr>\n",
       "      <th>1</th>\n",
       "      <td>0</td>\n",
       "      <td>46</td>\n",
       "      <td>2.0</td>\n",
       "      <td>0</td>\n",
       "      <td>0.0</td>\n",
       "      <td>0.0</td>\n",
       "      <td>0</td>\n",
       "      <td>0</td>\n",
       "      <td>0</td>\n",
       "      <td>250.0</td>\n",
       "      <td>121.0</td>\n",
       "      <td>81.0</td>\n",
       "      <td>28.73</td>\n",
       "      <td>95.0</td>\n",
       "      <td>76.0</td>\n",
       "      <td>0</td>\n",
       "    </tr>\n",
       "    <tr>\n",
       "      <th>2</th>\n",
       "      <td>1</td>\n",
       "      <td>48</td>\n",
       "      <td>1.0</td>\n",
       "      <td>1</td>\n",
       "      <td>20.0</td>\n",
       "      <td>0.0</td>\n",
       "      <td>0</td>\n",
       "      <td>0</td>\n",
       "      <td>0</td>\n",
       "      <td>245.0</td>\n",
       "      <td>127.5</td>\n",
       "      <td>80.0</td>\n",
       "      <td>25.34</td>\n",
       "      <td>75.0</td>\n",
       "      <td>70.0</td>\n",
       "      <td>0</td>\n",
       "    </tr>\n",
       "    <tr>\n",
       "      <th>3</th>\n",
       "      <td>0</td>\n",
       "      <td>61</td>\n",
       "      <td>3.0</td>\n",
       "      <td>1</td>\n",
       "      <td>30.0</td>\n",
       "      <td>0.0</td>\n",
       "      <td>0</td>\n",
       "      <td>1</td>\n",
       "      <td>0</td>\n",
       "      <td>225.0</td>\n",
       "      <td>150.0</td>\n",
       "      <td>95.0</td>\n",
       "      <td>28.58</td>\n",
       "      <td>65.0</td>\n",
       "      <td>103.0</td>\n",
       "      <td>1</td>\n",
       "    </tr>\n",
       "    <tr>\n",
       "      <th>4</th>\n",
       "      <td>0</td>\n",
       "      <td>46</td>\n",
       "      <td>3.0</td>\n",
       "      <td>1</td>\n",
       "      <td>23.0</td>\n",
       "      <td>0.0</td>\n",
       "      <td>0</td>\n",
       "      <td>0</td>\n",
       "      <td>0</td>\n",
       "      <td>285.0</td>\n",
       "      <td>130.0</td>\n",
       "      <td>84.0</td>\n",
       "      <td>23.10</td>\n",
       "      <td>85.0</td>\n",
       "      <td>85.0</td>\n",
       "      <td>0</td>\n",
       "    </tr>\n",
       "  </tbody>\n",
       "</table>\n",
       "</div>"
      ],
      "text/plain": [
       "   male  age  education  currentSmoker  cigsPerDay  BPMeds  prevalentStroke  \\\n",
       "0     1   39        4.0              0         0.0     0.0                0   \n",
       "1     0   46        2.0              0         0.0     0.0                0   \n",
       "2     1   48        1.0              1        20.0     0.0                0   \n",
       "3     0   61        3.0              1        30.0     0.0                0   \n",
       "4     0   46        3.0              1        23.0     0.0                0   \n",
       "\n",
       "   prevalentHyp  diabetes  totChol  sysBP  diaBP    BMI  heartRate  glucose  \\\n",
       "0             0         0    195.0  106.0   70.0  26.97       80.0     77.0   \n",
       "1             0         0    250.0  121.0   81.0  28.73       95.0     76.0   \n",
       "2             0         0    245.0  127.5   80.0  25.34       75.0     70.0   \n",
       "3             1         0    225.0  150.0   95.0  28.58       65.0    103.0   \n",
       "4             0         0    285.0  130.0   84.0  23.10       85.0     85.0   \n",
       "\n",
       "   TenYearCHD  \n",
       "0           0  \n",
       "1           0  \n",
       "2           0  \n",
       "3           1  \n",
       "4           0  "
      ]
     },
     "execution_count": 3,
     "metadata": {},
     "output_type": "execute_result"
    }
   ],
   "source": [
    "df.head()"
   ]
  },
  {
   "cell_type": "markdown",
   "metadata": {
    "colab_type": "text",
    "id": "9USrZY45-4BU"
   },
   "source": [
    "Размер датасета:"
   ]
  },
  {
   "cell_type": "code",
   "execution_count": 4,
   "metadata": {
    "colab": {},
    "colab_type": "code",
    "id": "Fwvx9Pg--4BX"
   },
   "outputs": [
    {
     "data": {
      "text/plain": [
       "(4240, 16)"
      ]
     },
     "execution_count": 4,
     "metadata": {},
     "output_type": "execute_result"
    }
   ],
   "source": [
    "df.shape"
   ]
  },
  {
   "cell_type": "markdown",
   "metadata": {
    "colab_type": "text",
    "id": "d7ZVZz6J-4Bk"
   },
   "source": [
    "Названия столбцов датасета понадобятся нам, чтобы обращаться к отдельным признакам пациентов:"
   ]
  },
  {
   "cell_type": "code",
   "execution_count": 5,
   "metadata": {
    "colab": {},
    "colab_type": "code",
    "id": "6_PgsTeo-4Bn"
   },
   "outputs": [
    {
     "data": {
      "text/plain": [
       "Index(['male', 'age', 'education', 'currentSmoker', 'cigsPerDay', 'BPMeds',\n",
       "       'prevalentStroke', 'prevalentHyp', 'diabetes', 'totChol', 'sysBP',\n",
       "       'diaBP', 'BMI', 'heartRate', 'glucose', 'TenYearCHD'],\n",
       "      dtype='object')"
      ]
     },
     "execution_count": 5,
     "metadata": {},
     "output_type": "execute_result"
    }
   ],
   "source": [
    "df.columns"
   ]
  },
  {
   "cell_type": "markdown",
   "metadata": {
    "colab_type": "text",
    "id": "V3MI_qLW-4Bx"
   },
   "source": [
    "Поиск missing values:"
   ]
  },
  {
   "cell_type": "code",
   "execution_count": 6,
   "metadata": {
    "colab": {},
    "colab_type": "code",
    "id": "NuiYzLyO-4B0",
    "scrolled": true
   },
   "outputs": [
    {
     "data": {
      "text/plain": [
       "male                 0\n",
       "age                  0\n",
       "education          105\n",
       "currentSmoker        0\n",
       "cigsPerDay          29\n",
       "BPMeds              53\n",
       "prevalentStroke      0\n",
       "prevalentHyp         0\n",
       "diabetes             0\n",
       "totChol             50\n",
       "sysBP                0\n",
       "diaBP                0\n",
       "BMI                 19\n",
       "heartRate            1\n",
       "glucose            388\n",
       "TenYearCHD           0\n",
       "dtype: int64"
      ]
     },
     "execution_count": 6,
     "metadata": {},
     "output_type": "execute_result"
    }
   ],
   "source": [
    "df.isnull().sum()"
   ]
  },
  {
   "cell_type": "markdown",
   "metadata": {
    "colab_type": "text",
    "id": "EXTsHpsy-4B-"
   },
   "source": [
    "Видим, что у 105 пациентов нет данных об образовании, у 388 - об уровне глюкозы. Недостающие данные могут стать причиной некорректных значений оценок, и от них лучше избавиться."
   ]
  },
  {
   "cell_type": "markdown",
   "metadata": {
    "colab_type": "text",
    "id": "LjqRmXZm-4CA"
   },
   "source": [
    "Количество строк, в которых есть missing values"
   ]
  },
  {
   "cell_type": "code",
   "execution_count": 7,
   "metadata": {
    "colab": {},
    "colab_type": "code",
    "id": "ZhKlR2_O-4CD",
    "scrolled": true
   },
   "outputs": [
    {
     "name": "stdout",
     "output_type": "stream",
     "text": [
      "Общее количество строк с пропущенными значениями:  582\n"
     ]
    }
   ],
   "source": [
    "count=0\n",
    "for i in df.isnull().sum(axis=1):\n",
    "    if i>0:\n",
    "        count=count+1\n",
    "print('Общее количество строк с пропущенными значениями: ', count)"
   ]
  },
  {
   "cell_type": "markdown",
   "metadata": {
    "colab_type": "text",
    "id": "LCm1A2VV-4CM"
   },
   "source": [
    "Итого у нас 582 строки, в которых не хватает каких-нибудь данных"
   ]
  },
  {
   "cell_type": "markdown",
   "metadata": {
    "colab_type": "text",
    "id": "nJgoLIEn-4CR"
   },
   "source": [
    "Найдем соотношение строк с недостающими данными и общего кол-ва строк\n",
    "\n",
    "Если их будет относительно немного, то выгоднее избавиться от неполных строк, а если много, то надо посмотреть, в каких столбцах больше всего не хватает данных - возможно, выгоднее будет избавляться от них."
   ]
  },
  {
   "cell_type": "code",
   "execution_count": 8,
   "metadata": {
    "colab": {},
    "colab_type": "code",
    "id": "eQflme5B-4CU"
   },
   "outputs": [
    {
     "data": {
      "text/plain": [
       "0.13726415094339622"
      ]
     },
     "execution_count": 8,
     "metadata": {},
     "output_type": "execute_result"
    }
   ],
   "source": [
    "count/df.shape[0]"
   ]
  },
  {
   "cell_type": "markdown",
   "metadata": {
    "colab_type": "text",
    "id": "9hypSyoT-4Cb"
   },
   "source": [
    "Т.к. соотношение мало (13%), можем отбросить строки с отсутствующими данными):"
   ]
  },
  {
   "cell_type": "code",
   "execution_count": 9,
   "metadata": {
    "colab": {},
    "colab_type": "code",
    "id": "Y6rA77w_-4Ce"
   },
   "outputs": [],
   "source": [
    "df.dropna(axis=0,inplace=True)"
   ]
  },
  {
   "cell_type": "markdown",
   "metadata": {
    "colab_type": "text",
    "id": "1yqWcS3r-4Cm"
   },
   "source": [
    "Размеры датасета после удаления missing values:"
   ]
  },
  {
   "cell_type": "code",
   "execution_count": 10,
   "metadata": {
    "colab": {},
    "colab_type": "code",
    "id": "okpXEm7d-4Co"
   },
   "outputs": [
    {
     "data": {
      "text/plain": [
       "(3658, 16)"
      ]
     },
     "execution_count": 10,
     "metadata": {},
     "output_type": "execute_result"
    }
   ],
   "source": [
    "df.shape"
   ]
  },
  {
   "cell_type": "markdown",
   "metadata": {
    "colab_type": "text",
    "id": "x3VAQuUh-4Cx"
   },
   "source": [
    "Получение описательных статистик при помощи фунции describe: "
   ]
  },
  {
   "cell_type": "code",
   "execution_count": 11,
   "metadata": {
    "colab": {},
    "colab_type": "code",
    "id": "dyLQuohX-4Cz"
   },
   "outputs": [
    {
     "data": {
      "text/html": [
       "<div>\n",
       "<style scoped>\n",
       "    .dataframe tbody tr th:only-of-type {\n",
       "        vertical-align: middle;\n",
       "    }\n",
       "\n",
       "    .dataframe tbody tr th {\n",
       "        vertical-align: top;\n",
       "    }\n",
       "\n",
       "    .dataframe thead th {\n",
       "        text-align: right;\n",
       "    }\n",
       "</style>\n",
       "<table border=\"1\" class=\"dataframe\">\n",
       "  <thead>\n",
       "    <tr style=\"text-align: right;\">\n",
       "      <th></th>\n",
       "      <th>male</th>\n",
       "      <th>age</th>\n",
       "      <th>education</th>\n",
       "      <th>currentSmoker</th>\n",
       "      <th>cigsPerDay</th>\n",
       "      <th>BPMeds</th>\n",
       "      <th>prevalentStroke</th>\n",
       "      <th>prevalentHyp</th>\n",
       "      <th>diabetes</th>\n",
       "      <th>totChol</th>\n",
       "      <th>sysBP</th>\n",
       "      <th>diaBP</th>\n",
       "      <th>BMI</th>\n",
       "      <th>heartRate</th>\n",
       "      <th>glucose</th>\n",
       "      <th>TenYearCHD</th>\n",
       "    </tr>\n",
       "  </thead>\n",
       "  <tbody>\n",
       "    <tr>\n",
       "      <th>count</th>\n",
       "      <td>3658.000000</td>\n",
       "      <td>3658.000000</td>\n",
       "      <td>3658.000000</td>\n",
       "      <td>3658.000000</td>\n",
       "      <td>3658.000000</td>\n",
       "      <td>3658.000000</td>\n",
       "      <td>3658.000000</td>\n",
       "      <td>3658.000000</td>\n",
       "      <td>3658.000000</td>\n",
       "      <td>3658.000000</td>\n",
       "      <td>3658.000000</td>\n",
       "      <td>3658.000000</td>\n",
       "      <td>3658.000000</td>\n",
       "      <td>3658.000000</td>\n",
       "      <td>3658.000000</td>\n",
       "      <td>3658.000000</td>\n",
       "    </tr>\n",
       "    <tr>\n",
       "      <th>mean</th>\n",
       "      <td>0.443685</td>\n",
       "      <td>49.551941</td>\n",
       "      <td>1.980317</td>\n",
       "      <td>0.489065</td>\n",
       "      <td>9.025424</td>\n",
       "      <td>0.030344</td>\n",
       "      <td>0.005741</td>\n",
       "      <td>0.311646</td>\n",
       "      <td>0.027064</td>\n",
       "      <td>236.847731</td>\n",
       "      <td>132.370558</td>\n",
       "      <td>82.917031</td>\n",
       "      <td>25.782802</td>\n",
       "      <td>75.730727</td>\n",
       "      <td>81.852925</td>\n",
       "      <td>0.152269</td>\n",
       "    </tr>\n",
       "    <tr>\n",
       "      <th>std</th>\n",
       "      <td>0.496886</td>\n",
       "      <td>8.562029</td>\n",
       "      <td>1.022656</td>\n",
       "      <td>0.499949</td>\n",
       "      <td>11.921590</td>\n",
       "      <td>0.171557</td>\n",
       "      <td>0.075561</td>\n",
       "      <td>0.463229</td>\n",
       "      <td>0.162292</td>\n",
       "      <td>44.097681</td>\n",
       "      <td>22.086866</td>\n",
       "      <td>11.974258</td>\n",
       "      <td>4.065601</td>\n",
       "      <td>11.981525</td>\n",
       "      <td>23.904164</td>\n",
       "      <td>0.359331</td>\n",
       "    </tr>\n",
       "    <tr>\n",
       "      <th>min</th>\n",
       "      <td>0.000000</td>\n",
       "      <td>32.000000</td>\n",
       "      <td>1.000000</td>\n",
       "      <td>0.000000</td>\n",
       "      <td>0.000000</td>\n",
       "      <td>0.000000</td>\n",
       "      <td>0.000000</td>\n",
       "      <td>0.000000</td>\n",
       "      <td>0.000000</td>\n",
       "      <td>113.000000</td>\n",
       "      <td>83.500000</td>\n",
       "      <td>48.000000</td>\n",
       "      <td>15.540000</td>\n",
       "      <td>44.000000</td>\n",
       "      <td>40.000000</td>\n",
       "      <td>0.000000</td>\n",
       "    </tr>\n",
       "    <tr>\n",
       "      <th>25%</th>\n",
       "      <td>0.000000</td>\n",
       "      <td>42.000000</td>\n",
       "      <td>1.000000</td>\n",
       "      <td>0.000000</td>\n",
       "      <td>0.000000</td>\n",
       "      <td>0.000000</td>\n",
       "      <td>0.000000</td>\n",
       "      <td>0.000000</td>\n",
       "      <td>0.000000</td>\n",
       "      <td>206.000000</td>\n",
       "      <td>117.000000</td>\n",
       "      <td>75.000000</td>\n",
       "      <td>23.080000</td>\n",
       "      <td>68.000000</td>\n",
       "      <td>71.000000</td>\n",
       "      <td>0.000000</td>\n",
       "    </tr>\n",
       "    <tr>\n",
       "      <th>50%</th>\n",
       "      <td>0.000000</td>\n",
       "      <td>49.000000</td>\n",
       "      <td>2.000000</td>\n",
       "      <td>0.000000</td>\n",
       "      <td>0.000000</td>\n",
       "      <td>0.000000</td>\n",
       "      <td>0.000000</td>\n",
       "      <td>0.000000</td>\n",
       "      <td>0.000000</td>\n",
       "      <td>234.000000</td>\n",
       "      <td>128.000000</td>\n",
       "      <td>82.000000</td>\n",
       "      <td>25.380000</td>\n",
       "      <td>75.000000</td>\n",
       "      <td>78.000000</td>\n",
       "      <td>0.000000</td>\n",
       "    </tr>\n",
       "    <tr>\n",
       "      <th>75%</th>\n",
       "      <td>1.000000</td>\n",
       "      <td>56.000000</td>\n",
       "      <td>3.000000</td>\n",
       "      <td>1.000000</td>\n",
       "      <td>20.000000</td>\n",
       "      <td>0.000000</td>\n",
       "      <td>0.000000</td>\n",
       "      <td>1.000000</td>\n",
       "      <td>0.000000</td>\n",
       "      <td>263.000000</td>\n",
       "      <td>143.875000</td>\n",
       "      <td>90.000000</td>\n",
       "      <td>28.037500</td>\n",
       "      <td>82.000000</td>\n",
       "      <td>87.000000</td>\n",
       "      <td>0.000000</td>\n",
       "    </tr>\n",
       "    <tr>\n",
       "      <th>max</th>\n",
       "      <td>1.000000</td>\n",
       "      <td>70.000000</td>\n",
       "      <td>4.000000</td>\n",
       "      <td>1.000000</td>\n",
       "      <td>70.000000</td>\n",
       "      <td>1.000000</td>\n",
       "      <td>1.000000</td>\n",
       "      <td>1.000000</td>\n",
       "      <td>1.000000</td>\n",
       "      <td>600.000000</td>\n",
       "      <td>295.000000</td>\n",
       "      <td>142.500000</td>\n",
       "      <td>56.800000</td>\n",
       "      <td>143.000000</td>\n",
       "      <td>394.000000</td>\n",
       "      <td>1.000000</td>\n",
       "    </tr>\n",
       "  </tbody>\n",
       "</table>\n",
       "</div>"
      ],
      "text/plain": [
       "              male          age    education  currentSmoker   cigsPerDay  \\\n",
       "count  3658.000000  3658.000000  3658.000000    3658.000000  3658.000000   \n",
       "mean      0.443685    49.551941     1.980317       0.489065     9.025424   \n",
       "std       0.496886     8.562029     1.022656       0.499949    11.921590   \n",
       "min       0.000000    32.000000     1.000000       0.000000     0.000000   \n",
       "25%       0.000000    42.000000     1.000000       0.000000     0.000000   \n",
       "50%       0.000000    49.000000     2.000000       0.000000     0.000000   \n",
       "75%       1.000000    56.000000     3.000000       1.000000    20.000000   \n",
       "max       1.000000    70.000000     4.000000       1.000000    70.000000   \n",
       "\n",
       "            BPMeds  prevalentStroke  prevalentHyp     diabetes      totChol  \\\n",
       "count  3658.000000      3658.000000   3658.000000  3658.000000  3658.000000   \n",
       "mean      0.030344         0.005741      0.311646     0.027064   236.847731   \n",
       "std       0.171557         0.075561      0.463229     0.162292    44.097681   \n",
       "min       0.000000         0.000000      0.000000     0.000000   113.000000   \n",
       "25%       0.000000         0.000000      0.000000     0.000000   206.000000   \n",
       "50%       0.000000         0.000000      0.000000     0.000000   234.000000   \n",
       "75%       0.000000         0.000000      1.000000     0.000000   263.000000   \n",
       "max       1.000000         1.000000      1.000000     1.000000   600.000000   \n",
       "\n",
       "             sysBP        diaBP          BMI    heartRate      glucose  \\\n",
       "count  3658.000000  3658.000000  3658.000000  3658.000000  3658.000000   \n",
       "mean    132.370558    82.917031    25.782802    75.730727    81.852925   \n",
       "std      22.086866    11.974258     4.065601    11.981525    23.904164   \n",
       "min      83.500000    48.000000    15.540000    44.000000    40.000000   \n",
       "25%     117.000000    75.000000    23.080000    68.000000    71.000000   \n",
       "50%     128.000000    82.000000    25.380000    75.000000    78.000000   \n",
       "75%     143.875000    90.000000    28.037500    82.000000    87.000000   \n",
       "max     295.000000   142.500000    56.800000   143.000000   394.000000   \n",
       "\n",
       "        TenYearCHD  \n",
       "count  3658.000000  \n",
       "mean      0.152269  \n",
       "std       0.359331  \n",
       "min       0.000000  \n",
       "25%       0.000000  \n",
       "50%       0.000000  \n",
       "75%       0.000000  \n",
       "max       1.000000  "
      ]
     },
     "execution_count": 11,
     "metadata": {},
     "output_type": "execute_result"
    }
   ],
   "source": [
    "df.describe()"
   ]
  },
  {
   "cell_type": "markdown",
   "metadata": {
    "colab_type": "text",
    "id": "QIpHmha9-4C7"
   },
   "source": [
    "Данные полученные из describe:\n",
    "\n",
    "    mean - среднее значение\n",
    "    std - стандартное (среднеквадратичное) отклонение. \n",
    "    min - минимальное значение \n",
    "    max - максимальное значение\n",
    "    25% - нижняя квартиль (медиана меньшей/левой половины выборки)\n",
    "    50% - медиана\n",
    "    75% - верхняя квартиль (медиана большей/правой половины выборки)"
   ]
  },
  {
   "cell_type": "markdown",
   "metadata": {
    "colab_type": "text",
    "id": "UHAmovu6-4C_"
   },
   "source": [
    "Далее строим тепловую карту корреляционной матрицы при помощи функции heatmap и саму корреляционную матрицу. Чем насыщеннее цвет, тем сильнее корреляция."
   ]
  },
  {
   "cell_type": "code",
   "execution_count": 12,
   "metadata": {
    "colab": {},
    "colab_type": "code",
    "id": "ahhaWQ1q-4DD"
   },
   "outputs": [
    {
     "data": {
      "text/plain": [
       "<AxesSubplot:>"
      ]
     },
     "execution_count": 12,
     "metadata": {},
     "output_type": "execute_result"
    },
    {
     "data": {
      "image/png": "[encoded data removed]",
      "text/plain": [
       "<Figure size 432x288 with 2 Axes>"
      ]
     },
     "metadata": {
      "needs_background": "light"
     },
     "output_type": "display_data"
    }
   ],
   "source": [
    "sn.heatmap(df.corr())"
   ]
  },
  {
   "cell_type": "markdown",
   "metadata": {
    "colab_type": "text",
    "id": "tp8bjgek-4DK"
   },
   "source": [
    "Можем увидеть сильную корреляцию между диастолическим и систолическим давлением. Корреляции целевой переменной со всеми признаками невелики. Это значит, что линейная связь между ними очень слабая"
   ]
  },
  {
   "cell_type": "code",
   "execution_count": 13,
   "metadata": {
    "colab": {},
    "colab_type": "code",
    "id": "bF3bUSbK-4DM",
    "scrolled": true
   },
   "outputs": [
    {
     "data": {
      "text/html": [
       "<div>\n",
       "<style scoped>\n",
       "    .dataframe tbody tr th:only-of-type {\n",
       "        vertical-align: middle;\n",
       "    }\n",
       "\n",
       "    .dataframe tbody tr th {\n",
       "        vertical-align: top;\n",
       "    }\n",
       "\n",
       "    .dataframe thead th {\n",
       "        text-align: right;\n",
       "    }\n",
       "</style>\n",
       "<table border=\"1\" class=\"dataframe\">\n",
       "  <thead>\n",
       "    <tr style=\"text-align: right;\">\n",
       "      <th></th>\n",
       "      <th>male</th>\n",
       "      <th>age</th>\n",
       "      <th>education</th>\n",
       "      <th>currentSmoker</th>\n",
       "      <th>cigsPerDay</th>\n",
       "      <th>BPMeds</th>\n",
       "      <th>prevalentStroke</th>\n",
       "      <th>prevalentHyp</th>\n",
       "      <th>diabetes</th>\n",
       "      <th>totChol</th>\n",
       "      <th>sysBP</th>\n",
       "      <th>diaBP</th>\n",
       "      <th>BMI</th>\n",
       "      <th>heartRate</th>\n",
       "      <th>glucose</th>\n",
       "      <th>TenYearCHD</th>\n",
       "    </tr>\n",
       "  </thead>\n",
       "  <tbody>\n",
       "    <tr>\n",
       "      <th>male</th>\n",
       "      <td>1.000000</td>\n",
       "      <td>-0.024412</td>\n",
       "      <td>0.017729</td>\n",
       "      <td>0.206114</td>\n",
       "      <td>0.330322</td>\n",
       "      <td>-0.052124</td>\n",
       "      <td>-0.002312</td>\n",
       "      <td>0.001424</td>\n",
       "      <td>0.013819</td>\n",
       "      <td>-0.070321</td>\n",
       "      <td>-0.045358</td>\n",
       "      <td>0.051872</td>\n",
       "      <td>0.073111</td>\n",
       "      <td>-0.115285</td>\n",
       "      <td>0.002940</td>\n",
       "      <td>0.091688</td>\n",
       "    </tr>\n",
       "    <tr>\n",
       "      <th>age</th>\n",
       "      <td>-0.024412</td>\n",
       "      <td>1.000000</td>\n",
       "      <td>-0.159499</td>\n",
       "      <td>-0.210771</td>\n",
       "      <td>-0.189295</td>\n",
       "      <td>0.134732</td>\n",
       "      <td>0.050893</td>\n",
       "      <td>0.306239</td>\n",
       "      <td>0.109092</td>\n",
       "      <td>0.268252</td>\n",
       "      <td>0.388267</td>\n",
       "      <td>0.208283</td>\n",
       "      <td>0.137511</td>\n",
       "      <td>-0.002722</td>\n",
       "      <td>0.118349</td>\n",
       "      <td>0.233983</td>\n",
       "    </tr>\n",
       "    <tr>\n",
       "      <th>education</th>\n",
       "      <td>0.017729</td>\n",
       "      <td>-0.159499</td>\n",
       "      <td>1.000000</td>\n",
       "      <td>0.025251</td>\n",
       "      <td>0.013790</td>\n",
       "      <td>-0.013739</td>\n",
       "      <td>-0.030386</td>\n",
       "      <td>-0.078828</td>\n",
       "      <td>-0.039627</td>\n",
       "      <td>-0.013522</td>\n",
       "      <td>-0.124360</td>\n",
       "      <td>-0.058059</td>\n",
       "      <td>-0.137555</td>\n",
       "      <td>-0.064214</td>\n",
       "      <td>-0.031998</td>\n",
       "      <td>-0.063279</td>\n",
       "    </tr>\n",
       "    <tr>\n",
       "      <th>currentSmoker</th>\n",
       "      <td>0.206114</td>\n",
       "      <td>-0.210771</td>\n",
       "      <td>0.025251</td>\n",
       "      <td>1.000000</td>\n",
       "      <td>0.773913</td>\n",
       "      <td>-0.051923</td>\n",
       "      <td>-0.038150</td>\n",
       "      <td>-0.108078</td>\n",
       "      <td>-0.041849</td>\n",
       "      <td>-0.051034</td>\n",
       "      <td>-0.134428</td>\n",
       "      <td>-0.115955</td>\n",
       "      <td>-0.159821</td>\n",
       "      <td>0.050841</td>\n",
       "      <td>-0.053242</td>\n",
       "      <td>0.019165</td>\n",
       "    </tr>\n",
       "    <tr>\n",
       "      <th>cigsPerDay</th>\n",
       "      <td>0.330322</td>\n",
       "      <td>-0.189295</td>\n",
       "      <td>0.013790</td>\n",
       "      <td>0.773913</td>\n",
       "      <td>1.000000</td>\n",
       "      <td>-0.046504</td>\n",
       "      <td>-0.036286</td>\n",
       "      <td>-0.070460</td>\n",
       "      <td>-0.036961</td>\n",
       "      <td>-0.030400</td>\n",
       "      <td>-0.094781</td>\n",
       "      <td>-0.056746</td>\n",
       "      <td>-0.087395</td>\n",
       "      <td>0.064030</td>\n",
       "      <td>-0.053726</td>\n",
       "      <td>0.052014</td>\n",
       "    </tr>\n",
       "    <tr>\n",
       "      <th>BPMeds</th>\n",
       "      <td>-0.052124</td>\n",
       "      <td>0.134732</td>\n",
       "      <td>-0.013739</td>\n",
       "      <td>-0.051923</td>\n",
       "      <td>-0.046504</td>\n",
       "      <td>1.000000</td>\n",
       "      <td>0.113125</td>\n",
       "      <td>0.262910</td>\n",
       "      <td>0.049066</td>\n",
       "      <td>0.094083</td>\n",
       "      <td>0.271263</td>\n",
       "      <td>0.199630</td>\n",
       "      <td>0.105642</td>\n",
       "      <td>0.012889</td>\n",
       "      <td>0.054232</td>\n",
       "      <td>0.089152</td>\n",
       "    </tr>\n",
       "    <tr>\n",
       "      <th>prevalentStroke</th>\n",
       "      <td>-0.002312</td>\n",
       "      <td>0.050893</td>\n",
       "      <td>-0.030386</td>\n",
       "      <td>-0.038150</td>\n",
       "      <td>-0.036286</td>\n",
       "      <td>0.113125</td>\n",
       "      <td>1.000000</td>\n",
       "      <td>0.066057</td>\n",
       "      <td>0.009625</td>\n",
       "      <td>0.012736</td>\n",
       "      <td>0.061070</td>\n",
       "      <td>0.055834</td>\n",
       "      <td>0.036496</td>\n",
       "      <td>-0.017019</td>\n",
       "      <td>0.016061</td>\n",
       "      <td>0.048366</td>\n",
       "    </tr>\n",
       "    <tr>\n",
       "      <th>prevalentHyp</th>\n",
       "      <td>0.001424</td>\n",
       "      <td>0.306239</td>\n",
       "      <td>-0.078828</td>\n",
       "      <td>-0.108078</td>\n",
       "      <td>-0.070460</td>\n",
       "      <td>0.262910</td>\n",
       "      <td>0.066057</td>\n",
       "      <td>1.000000</td>\n",
       "      <td>0.080556</td>\n",
       "      <td>0.166655</td>\n",
       "      <td>0.697675</td>\n",
       "      <td>0.617734</td>\n",
       "      <td>0.302949</td>\n",
       "      <td>0.146818</td>\n",
       "      <td>0.086942</td>\n",
       "      <td>0.181387</td>\n",
       "    </tr>\n",
       "    <tr>\n",
       "      <th>diabetes</th>\n",
       "      <td>0.013819</td>\n",
       "      <td>0.109092</td>\n",
       "      <td>-0.039627</td>\n",
       "      <td>-0.041849</td>\n",
       "      <td>-0.036961</td>\n",
       "      <td>0.049066</td>\n",
       "      <td>0.009625</td>\n",
       "      <td>0.080556</td>\n",
       "      <td>1.000000</td>\n",
       "      <td>0.048451</td>\n",
       "      <td>0.102552</td>\n",
       "      <td>0.050686</td>\n",
       "      <td>0.089009</td>\n",
       "      <td>0.060984</td>\n",
       "      <td>0.614820</td>\n",
       "      <td>0.093431</td>\n",
       "    </tr>\n",
       "    <tr>\n",
       "      <th>totChol</th>\n",
       "      <td>-0.070321</td>\n",
       "      <td>0.268252</td>\n",
       "      <td>-0.013522</td>\n",
       "      <td>-0.051034</td>\n",
       "      <td>-0.030400</td>\n",
       "      <td>0.094083</td>\n",
       "      <td>0.012736</td>\n",
       "      <td>0.166655</td>\n",
       "      <td>0.048451</td>\n",
       "      <td>1.000000</td>\n",
       "      <td>0.219925</td>\n",
       "      <td>0.174422</td>\n",
       "      <td>0.121056</td>\n",
       "      <td>0.093053</td>\n",
       "      <td>0.049884</td>\n",
       "      <td>0.091338</td>\n",
       "    </tr>\n",
       "    <tr>\n",
       "      <th>sysBP</th>\n",
       "      <td>-0.045358</td>\n",
       "      <td>0.388267</td>\n",
       "      <td>-0.124360</td>\n",
       "      <td>-0.134428</td>\n",
       "      <td>-0.094781</td>\n",
       "      <td>0.271263</td>\n",
       "      <td>0.061070</td>\n",
       "      <td>0.697675</td>\n",
       "      <td>0.102552</td>\n",
       "      <td>0.219925</td>\n",
       "      <td>1.000000</td>\n",
       "      <td>0.786669</td>\n",
       "      <td>0.330917</td>\n",
       "      <td>0.184797</td>\n",
       "      <td>0.134651</td>\n",
       "      <td>0.222821</td>\n",
       "    </tr>\n",
       "    <tr>\n",
       "      <th>diaBP</th>\n",
       "      <td>0.051872</td>\n",
       "      <td>0.208283</td>\n",
       "      <td>-0.058059</td>\n",
       "      <td>-0.115955</td>\n",
       "      <td>-0.056746</td>\n",
       "      <td>0.199630</td>\n",
       "      <td>0.055834</td>\n",
       "      <td>0.617734</td>\n",
       "      <td>0.050686</td>\n",
       "      <td>0.174422</td>\n",
       "      <td>0.786669</td>\n",
       "      <td>1.000000</td>\n",
       "      <td>0.385348</td>\n",
       "      <td>0.178744</td>\n",
       "      <td>0.063540</td>\n",
       "      <td>0.150124</td>\n",
       "    </tr>\n",
       "    <tr>\n",
       "      <th>BMI</th>\n",
       "      <td>0.073111</td>\n",
       "      <td>0.137511</td>\n",
       "      <td>-0.137555</td>\n",
       "      <td>-0.159821</td>\n",
       "      <td>-0.087395</td>\n",
       "      <td>0.105642</td>\n",
       "      <td>0.036496</td>\n",
       "      <td>0.302949</td>\n",
       "      <td>0.089009</td>\n",
       "      <td>0.121056</td>\n",
       "      <td>0.330917</td>\n",
       "      <td>0.385348</td>\n",
       "      <td>1.000000</td>\n",
       "      <td>0.074131</td>\n",
       "      <td>0.083683</td>\n",
       "      <td>0.082055</td>\n",
       "    </tr>\n",
       "    <tr>\n",
       "      <th>heartRate</th>\n",
       "      <td>-0.115285</td>\n",
       "      <td>-0.002722</td>\n",
       "      <td>-0.064214</td>\n",
       "      <td>0.050841</td>\n",
       "      <td>0.064030</td>\n",
       "      <td>0.012889</td>\n",
       "      <td>-0.017019</td>\n",
       "      <td>0.146818</td>\n",
       "      <td>0.060984</td>\n",
       "      <td>0.093053</td>\n",
       "      <td>0.184797</td>\n",
       "      <td>0.178744</td>\n",
       "      <td>0.074131</td>\n",
       "      <td>1.000000</td>\n",
       "      <td>0.097074</td>\n",
       "      <td>0.020514</td>\n",
       "    </tr>\n",
       "    <tr>\n",
       "      <th>glucose</th>\n",
       "      <td>0.002940</td>\n",
       "      <td>0.118349</td>\n",
       "      <td>-0.031998</td>\n",
       "      <td>-0.053242</td>\n",
       "      <td>-0.053726</td>\n",
       "      <td>0.054232</td>\n",
       "      <td>0.016061</td>\n",
       "      <td>0.086942</td>\n",
       "      <td>0.614820</td>\n",
       "      <td>0.049884</td>\n",
       "      <td>0.134651</td>\n",
       "      <td>0.063540</td>\n",
       "      <td>0.083683</td>\n",
       "      <td>0.097074</td>\n",
       "      <td>1.000000</td>\n",
       "      <td>0.121990</td>\n",
       "    </tr>\n",
       "    <tr>\n",
       "      <th>TenYearCHD</th>\n",
       "      <td>0.091688</td>\n",
       "      <td>0.233983</td>\n",
       "      <td>-0.063279</td>\n",
       "      <td>0.019165</td>\n",
       "      <td>0.052014</td>\n",
       "      <td>0.089152</td>\n",
       "      <td>0.048366</td>\n",
       "      <td>0.181387</td>\n",
       "      <td>0.093431</td>\n",
       "      <td>0.091338</td>\n",
       "      <td>0.222821</td>\n",
       "      <td>0.150124</td>\n",
       "      <td>0.082055</td>\n",
       "      <td>0.020514</td>\n",
       "      <td>0.121990</td>\n",
       "      <td>1.000000</td>\n",
       "    </tr>\n",
       "  </tbody>\n",
       "</table>\n",
       "</div>"
      ],
      "text/plain": [
       "                     male       age  education  currentSmoker  cigsPerDay  \\\n",
       "male             1.000000 -0.024412   0.017729       0.206114    0.330322   \n",
       "age             -0.024412  1.000000  -0.159499      -0.210771   -0.189295   \n",
       "education        0.017729 -0.159499   1.000000       0.025251    0.013790   \n",
       "currentSmoker    0.206114 -0.210771   0.025251       1.000000    0.773913   \n",
       "cigsPerDay       0.330322 -0.189295   0.013790       0.773913    1.000000   \n",
       "BPMeds          -0.052124  0.134732  -0.013739      -0.051923   -0.046504   \n",
       "prevalentStroke -0.002312  0.050893  -0.030386      -0.038150   -0.036286   \n",
       "prevalentHyp     0.001424  0.306239  -0.078828      -0.108078   -0.070460   \n",
       "diabetes         0.013819  0.109092  -0.039627      -0.041849   -0.036961   \n",
       "totChol         -0.070321  0.268252  -0.013522      -0.051034   -0.030400   \n",
       "sysBP           -0.045358  0.388267  -0.124360      -0.134428   -0.094781   \n",
       "diaBP            0.051872  0.208283  -0.058059      -0.115955   -0.056746   \n",
       "BMI              0.073111  0.137511  -0.137555      -0.159821   -0.087395   \n",
       "heartRate       -0.115285 -0.002722  -0.064214       0.050841    0.064030   \n",
       "glucose          0.002940  0.118349  -0.031998      -0.053242   -0.053726   \n",
       "TenYearCHD       0.091688  0.233983  -0.063279       0.019165    0.052014   \n",
       "\n",
       "                   BPMeds  prevalentStroke  prevalentHyp  diabetes   totChol  \\\n",
       "male            -0.052124        -0.002312      0.001424  0.013819 -0.070321   \n",
       "age              0.134732         0.050893      0.306239  0.109092  0.268252   \n",
       "education       -0.013739        -0.030386     -0.078828 -0.039627 -0.013522   \n",
       "currentSmoker   -0.051923        -0.038150     -0.108078 -0.041849 -0.051034   \n",
       "cigsPerDay      -0.046504        -0.036286     -0.070460 -0.036961 -0.030400   \n",
       "BPMeds           1.000000         0.113125      0.262910  0.049066  0.094083   \n",
       "prevalentStroke  0.113125         1.000000      0.066057  0.009625  0.012736   \n",
       "prevalentHyp     0.262910         0.066057      1.000000  0.080556  0.166655   \n",
       "diabetes         0.049066         0.009625      0.080556  1.000000  0.048451   \n",
       "totChol          0.094083         0.012736      0.166655  0.048451  1.000000   \n",
       "sysBP            0.271263         0.061070      0.697675  0.102552  0.219925   \n",
       "diaBP            0.199630         0.055834      0.617734  0.050686  0.174422   \n",
       "BMI              0.105642         0.036496      0.302949  0.089009  0.121056   \n",
       "heartRate        0.012889        -0.017019      0.146818  0.060984  0.093053   \n",
       "glucose          0.054232         0.016061      0.086942  0.614820  0.049884   \n",
       "TenYearCHD       0.089152         0.048366      0.181387  0.093431  0.091338   \n",
       "\n",
       "                    sysBP     diaBP       BMI  heartRate   glucose  TenYearCHD  \n",
       "male            -0.045358  0.051872  0.073111  -0.115285  0.002940    0.091688  \n",
       "age              0.388267  0.208283  0.137511  -0.002722  0.118349    0.233983  \n",
       "education       -0.124360 -0.058059 -0.137555  -0.064214 -0.031998   -0.063279  \n",
       "currentSmoker   -0.134428 -0.115955 -0.159821   0.050841 -0.053242    0.019165  \n",
       "cigsPerDay      -0.094781 -0.056746 -0.087395   0.064030 -0.053726    0.052014  \n",
       "BPMeds           0.271263  0.199630  0.105642   0.012889  0.054232    0.089152  \n",
       "prevalentStroke  0.061070  0.055834  0.036496  -0.017019  0.016061    0.048366  \n",
       "prevalentHyp     0.697675  0.617734  0.302949   0.146818  0.086942    0.181387  \n",
       "diabetes         0.102552  0.050686  0.089009   0.060984  0.614820    0.093431  \n",
       "totChol          0.219925  0.174422  0.121056   0.093053  0.049884    0.091338  \n",
       "sysBP            1.000000  0.786669  0.330917   0.184797  0.134651    0.222821  \n",
       "diaBP            0.786669  1.000000  0.385348   0.178744  0.063540    0.150124  \n",
       "BMI              0.330917  0.385348  1.000000   0.074131  0.083683    0.082055  \n",
       "heartRate        0.184797  0.178744  0.074131   1.000000  0.097074    0.020514  \n",
       "glucose          0.134651  0.063540  0.083683   0.097074  1.000000    0.121990  \n",
       "TenYearCHD       0.222821  0.150124  0.082055   0.020514  0.121990    1.000000  "
      ]
     },
     "execution_count": 13,
     "metadata": {},
     "output_type": "execute_result"
    }
   ],
   "source": [
    "df.corr()"
   ]
  },
  {
   "cell_type": "markdown",
   "metadata": {
    "colab_type": "text",
    "id": "o9QIDPTf-4DX"
   },
   "source": [
    "Со средним, стандартным отклонением, медианой и корреляцией все ясно.\n",
    "\n",
    "Давайте выясним, как вычислять выборочные пропорции в датасете"
   ]
  },
  {
   "cell_type": "markdown",
   "metadata": {
    "colab_type": "text",
    "id": "r1FUl-Xp-4DZ"
   },
   "source": [
    "как вычислить долю мужчин в выборке?"
   ]
  },
  {
   "cell_type": "markdown",
   "metadata": {
    "colab_type": "text",
    "id": "aivWxkD--4Db"
   },
   "source": [
    "Длинный способ: посчитаем количество всех мужчин в выборке при помощи метода value_counts() и поделим его на общее количество пациентов"
   ]
  },
  {
   "cell_type": "code",
   "execution_count": 14,
   "metadata": {
    "colab": {},
    "colab_type": "code",
    "id": "MYWWwN0U-4Df"
   },
   "outputs": [
    {
     "name": "stdout",
     "output_type": "stream",
     "text": [
      "Общее количество мужчин и женщин\n",
      " 0    2035\n",
      "1    1623\n",
      "Name: male, dtype: int64\n",
      "Общее количество мужчин: 1623\n"
     ]
    }
   ],
   "source": [
    "m=df['male'].value_counts() # счетчик разных значений в dataframe\n",
    "print(\"Общее количество мужчин и женщин\\n\", m)\n",
    "print(\"Общее количество мужчин:\", m[1])"
   ]
  },
  {
   "cell_type": "code",
   "execution_count": 15,
   "metadata": {
    "colab": {},
    "colab_type": "code",
    "id": "HYtIsEoL-4Dq"
   },
   "outputs": [
    {
     "name": "stdout",
     "output_type": "stream",
     "text": [
      "Доля мужчин среди всех пациентов: 0.4436850738108256\n"
     ]
    }
   ],
   "source": [
    "p_male=m[1]/df.shape[0] # считаем пропорцию мужчин среди всех пациентов\n",
    "print(\"Доля мужчин среди всех пациентов:\", p_male)"
   ]
  },
  {
   "cell_type": "markdown",
   "metadata": {
    "colab_type": "text",
    "id": "MTBgRJKL-4Dx"
   },
   "source": [
    "Короткий способ: задать в методе value_counts() специальный параметр, который будет вычислиять не абсолютные частоты (количества), а относительные (пропорции)"
   ]
  },
  {
   "cell_type": "code",
   "execution_count": 16,
   "metadata": {
    "colab": {},
    "colab_type": "code",
    "id": "NGvYUznj-4Dz"
   },
   "outputs": [
    {
     "data": {
      "text/plain": [
       "0    0.556315\n",
       "1    0.443685\n",
       "Name: male, dtype: float64"
      ]
     },
     "execution_count": 16,
     "metadata": {},
     "output_type": "execute_result"
    }
   ],
   "source": [
    "df['male'].value_counts(normalize = True ) # параметр normalize = True позволяет считать сразу пропорцию вместо количества"
   ]
  },
  {
   "cell_type": "markdown",
   "metadata": {
    "colab_type": "text",
    "id": "-gJ57OVV-4D-"
   },
   "source": [
    "С абсолютными пропорциями тоже ясно. Как насчет условных?"
   ]
  },
  {
   "cell_type": "markdown",
   "metadata": {
    "colab_type": "text",
    "id": "yvXnf8bH-4D_"
   },
   "source": [
    "Как вычислить долю курильщиков среди мужчин и среди женщин:"
   ]
  },
  {
   "cell_type": "code",
   "execution_count": 17,
   "metadata": {
    "colab": {},
    "colab_type": "code",
    "id": "pTyhhDRT-4EB"
   },
   "outputs": [],
   "source": [
    "male_groups=df.groupby('male') # groupgy разбивает датасет на группы по признаку пола"
   ]
  },
  {
   "cell_type": "markdown",
   "metadata": {
    "colab_type": "text",
    "id": "j_QZ2Z67-4EG"
   },
   "source": [
    "Внутри каждой группы можем взять счетчик value_counts() для признака currentSmoker\n",
    "\n",
    "пол 0 - женщина, пол 1 - мужчина."
   ]
  },
  {
   "cell_type": "code",
   "execution_count": 18,
   "metadata": {
    "colab": {},
    "colab_type": "code",
    "id": "D4uZG06--4EI"
   },
   "outputs": [
    {
     "data": {
      "text/plain": [
       "male  currentSmoker\n",
       "0     0                1227\n",
       "      1                 808\n",
       "1     1                 981\n",
       "      0                 642\n",
       "Name: currentSmoker, dtype: int64"
      ]
     },
     "execution_count": 18,
     "metadata": {},
     "output_type": "execute_result"
    }
   ],
   "source": [
    "male_groups['currentSmoker'].value_counts() # можем отдельно вычислить количество курильщиков среди мужчин и среди женщин"
   ]
  },
  {
   "cell_type": "markdown",
   "metadata": {
    "colab_type": "text",
    "id": "ZT51MPpa-4EO"
   },
   "source": [
    "Итак: курит 808 женщин и 981 мужчин"
   ]
  },
  {
   "cell_type": "markdown",
   "metadata": {
    "colab_type": "text",
    "id": "Ehkh6n9U-4EP"
   },
   "source": [
    "Теперь вычислим пропорции курильщиков внутри каждого пола.\n",
    "\n",
    "Вы можете убедиться, что это именно условные пропорции, поделив количество курящих мужчин на общее количество мужчин и сравнив результаты, или если заметите, что вероятности внутри каждой группы пола дают в сумме 1"
   ]
  },
  {
   "cell_type": "code",
   "execution_count": 19,
   "metadata": {
    "colab": {},
    "colab_type": "code",
    "id": "U1etvSSm-4ER"
   },
   "outputs": [
    {
     "name": "stdout",
     "output_type": "stream",
     "text": [
      "Доли курильщиков среди мужчин и среди женщин\n",
      " male  currentSmoker\n",
      "0     0                0.602948\n",
      "      1                0.397052\n",
      "1     1                0.604436\n",
      "      0                0.395564\n",
      "Name: currentSmoker, dtype: float64\n",
      "Доля курильщиков среди мужчин: 0.6044362292051756\n"
     ]
    }
   ],
   "source": [
    "ms=male_groups['currentSmoker'].value_counts(normalize = True) \n",
    "print('Доли курильщиков среди мужчин и среди женщин\\n',ms)\n",
    "print('Доля курильщиков среди мужчин:',ms[1,1])"
   ]
  },
  {
   "cell_type": "markdown",
   "metadata": {
    "colab_type": "text",
    "id": "nMFgVay4-4Ed"
   },
   "source": [
    "Как вычислить среднее значение пульса у курящих и не курящих:"
   ]
  },
  {
   "cell_type": "code",
   "execution_count": 20,
   "metadata": {
    "colab": {},
    "colab_type": "code",
    "id": "9Uhd5HEh-4Eh"
   },
   "outputs": [],
   "source": [
    "smok_groups=df.groupby('currentSmoker')"
   ]
  },
  {
   "cell_type": "code",
   "execution_count": 21,
   "metadata": {
    "colab": {},
    "colab_type": "code",
    "id": "I-g2AGbq-4Eo"
   },
   "outputs": [
    {
     "data": {
      "text/plain": [
       "currentSmoker\n",
       "0    75.134831\n",
       "1    76.353270\n",
       "Name: heartRate, dtype: float64"
      ]
     },
     "execution_count": 21,
     "metadata": {},
     "output_type": "execute_result"
    }
   ],
   "source": [
    "smok_groups['heartRate'].mean()"
   ]
  },
  {
   "cell_type": "markdown",
   "metadata": {
    "colab_type": "text",
    "id": "y_JyAdo8-4Eu"
   },
   "source": [
    "Как вычислить долю пациентов группы риска среди курящих и не курящих:"
   ]
  },
  {
   "cell_type": "code",
   "execution_count": 22,
   "metadata": {
    "colab": {},
    "colab_type": "code",
    "id": "hqW-wv1s-4Ex"
   },
   "outputs": [
    {
     "name": "stdout",
     "output_type": "stream",
     "text": [
      "Доли группы риска среди курильщиков и не курильщиков\n",
      " currentSmoker  TenYearCHD\n",
      "0              0             0.854468\n",
      "               1             0.145532\n",
      "1              0             0.840693\n",
      "               1             0.159307\n",
      "Name: TenYearCHD, dtype: float64\n",
      "Доля группы риска среди курильщиков: 0.1593068753493572\n"
     ]
    }
   ],
   "source": [
    "srisk=smok_groups['TenYearCHD'].value_counts(normalize = True)\n",
    "print('Доли группы риска среди курильщиков и не курильщиков\\n',srisk)\n",
    "print('Доля группы риска среди курильщиков:',srisk[1,1])"
   ]
  },
  {
   "cell_type": "markdown",
   "metadata": {
    "colab_type": "text",
    "id": "KuoDiUlE-4E3"
   },
   "source": [
    "Трюк по вычислению частот для переменных-индикаторов (значения 1 и 0): сумма значений равна количеству единиц в выборке, а значит, среднее равно доле единиц, то есть частоте:"
   ]
  },
  {
   "cell_type": "code",
   "execution_count": 23,
   "metadata": {
    "colab": {},
    "colab_type": "code",
    "id": "lEYeoxYN-4E4"
   },
   "outputs": [
    {
     "data": {
      "text/plain": [
       "currentSmoker\n",
       "0    0.145532\n",
       "1    0.159307\n",
       "Name: TenYearCHD, dtype: float64"
      ]
     },
     "execution_count": 23,
     "metadata": {},
     "output_type": "execute_result"
    }
   ],
   "source": [
    "smok_groups['TenYearCHD'].mean()"
   ]
  },
  {
   "cell_type": "code",
   "execution_count": 28,
   "metadata": {
    "colab": {},
    "colab_type": "code",
    "id": "94e4TvZl-4E-"
   },
   "outputs": [
    {
     "name": "stdout",
     "output_type": "stream",
     "text": [
      "общее количество пациентов с диабетом:\n",
      " 99\n",
      "доля диабетиков среди всех пациентов: 0.02706396938217605\n",
      "доля пациентов группы риска среди пациентов с диабетом и без диабета: diabetes  TenYearCHD\n",
      "0         0             0.853330\n",
      "          1             0.146670\n",
      "1         0             0.646465\n",
      "          1             0.353535\n",
      "Name: TenYearCHD, dtype: float64\n",
      "доля пациентов группы риска среди пациентов с диабетом: 0.35353535353535354\n",
      "доля диабетиков и не диабетиков среди пациентов группы риска: TenYearCHD  diabetes\n",
      "0           0           0.979361\n",
      "            1           0.020639\n",
      "1           0           0.937163\n",
      "            1           0.062837\n",
      "Name: diabetes, dtype: float64\n",
      "доля диабетиков среди пациентов из группы риска: 0.06283662477558348\n",
      "среднее значение систолического давления среди пациентов-диабетиков: 145.94949494949495\n",
      "медианное значение систолического давления среди пациентов-диабетиков: 142.0\n"
     ]
    }
   ],
   "source": [
    "d=df['diabetes'].value_counts()\n",
    "dnorm=df['diabetes'].value_counts(normalize = True ) \n",
    "dia_groups=df.groupby('diabetes')\n",
    "diarisk=dia_groups['TenYearCHD'].value_counts(normalize = True)\n",
    "risk_groups=df.groupby('TenYearCHD')\n",
    "d_in_risk=risk_groups['diabetes'].value_counts(normalize = True)\n",
    "d_sys_mean=dia_groups['sysBP'].mean()\n",
    "d_sys_median=dia_groups['sysBP'].median()\n",
    "print('общее количество пациентов с диабетом:\\n',d[1])\n",
    "print('доля диабетиков среди всех пациентов:',dnorm[1])\n",
    "print('доля пациентов группы риска среди пациентов с диабетом и без диабета:',diarisk)\n",
    "print('доля пациентов группы риска среди пациентов с диабетом:',diarisk[1,1])\n",
    "print('доля диабетиков и не диабетиков среди пациентов группы риска:',d_in_risk)\n",
    "print('доля диабетиков среди пациентов из группы риска:',d_in_risk[1,1])\n",
    "print('среднее значение систолического давления среди пациентов-диабетиков:',d_sys_mean[1])\n",
    "print('медианное значение систолического давления среди пациентов-диабетиков:',d_sys_median[1])"
   ]
  },
  {
   "cell_type": "code",
   "execution_count": 39,
   "metadata": {},
   "outputs": [
    {
     "name": "stderr",
     "output_type": "stream",
     "text": [
      "/home/daria/anaconda3/lib/python3.9/site-packages/pandas/core/frame.py:4906: SettingWithCopyWarning: \n",
      "A value is trying to be set on a copy of a slice from a DataFrame\n",
      "\n",
      "See the caveats in the documentation: https://pandas.pydata.org/pandas-docs/stable/user_guide/indexing.html#returning-a-view-versus-a-copy\n",
      "  return super().drop(\n"
     ]
    },
    {
     "data": {
      "text/html": [
       "<div>\n",
       "<style scoped>\n",
       "    .dataframe tbody tr th:only-of-type {\n",
       "        vertical-align: middle;\n",
       "    }\n",
       "\n",
       "    .dataframe tbody tr th {\n",
       "        vertical-align: top;\n",
       "    }\n",
       "\n",
       "    .dataframe thead th {\n",
       "        text-align: right;\n",
       "    }\n",
       "</style>\n",
       "<table border=\"1\" class=\"dataframe\">\n",
       "  <thead>\n",
       "    <tr style=\"text-align: right;\">\n",
       "      <th></th>\n",
       "      <th>male</th>\n",
       "      <th>age</th>\n",
       "      <th>education</th>\n",
       "      <th>currentSmoker</th>\n",
       "      <th>cigsPerDay</th>\n",
       "      <th>BPMeds</th>\n",
       "      <th>prevalentStroke</th>\n",
       "      <th>prevalentHyp</th>\n",
       "      <th>diabetes</th>\n",
       "      <th>totChol</th>\n",
       "      <th>sysBP</th>\n",
       "      <th>diaBP</th>\n",
       "      <th>BMI</th>\n",
       "      <th>heartRate</th>\n",
       "      <th>glucose</th>\n",
       "    </tr>\n",
       "  </thead>\n",
       "  <tbody>\n",
       "    <tr>\n",
       "      <th>3</th>\n",
       "      <td>0</td>\n",
       "      <td>61</td>\n",
       "      <td>3.0</td>\n",
       "      <td>1</td>\n",
       "      <td>30.0</td>\n",
       "      <td>0.0</td>\n",
       "      <td>0</td>\n",
       "      <td>1</td>\n",
       "      <td>0</td>\n",
       "      <td>225.0</td>\n",
       "      <td>150.0</td>\n",
       "      <td>95.0</td>\n",
       "      <td>28.58</td>\n",
       "      <td>65.0</td>\n",
       "      <td>103.0</td>\n",
       "    </tr>\n",
       "    <tr>\n",
       "      <th>6</th>\n",
       "      <td>0</td>\n",
       "      <td>63</td>\n",
       "      <td>1.0</td>\n",
       "      <td>0</td>\n",
       "      <td>0.0</td>\n",
       "      <td>0.0</td>\n",
       "      <td>0</td>\n",
       "      <td>0</td>\n",
       "      <td>0</td>\n",
       "      <td>205.0</td>\n",
       "      <td>138.0</td>\n",
       "      <td>71.0</td>\n",
       "      <td>33.11</td>\n",
       "      <td>60.0</td>\n",
       "      <td>85.0</td>\n",
       "    </tr>\n",
       "    <tr>\n",
       "      <th>15</th>\n",
       "      <td>0</td>\n",
       "      <td>38</td>\n",
       "      <td>2.0</td>\n",
       "      <td>1</td>\n",
       "      <td>20.0</td>\n",
       "      <td>0.0</td>\n",
       "      <td>0</td>\n",
       "      <td>1</td>\n",
       "      <td>0</td>\n",
       "      <td>221.0</td>\n",
       "      <td>140.0</td>\n",
       "      <td>90.0</td>\n",
       "      <td>21.35</td>\n",
       "      <td>95.0</td>\n",
       "      <td>70.0</td>\n",
       "    </tr>\n",
       "    <tr>\n",
       "      <th>17</th>\n",
       "      <td>0</td>\n",
       "      <td>46</td>\n",
       "      <td>2.0</td>\n",
       "      <td>1</td>\n",
       "      <td>20.0</td>\n",
       "      <td>0.0</td>\n",
       "      <td>0</td>\n",
       "      <td>0</td>\n",
       "      <td>0</td>\n",
       "      <td>291.0</td>\n",
       "      <td>112.0</td>\n",
       "      <td>78.0</td>\n",
       "      <td>23.38</td>\n",
       "      <td>80.0</td>\n",
       "      <td>89.0</td>\n",
       "    </tr>\n",
       "    <tr>\n",
       "      <th>25</th>\n",
       "      <td>1</td>\n",
       "      <td>47</td>\n",
       "      <td>4.0</td>\n",
       "      <td>1</td>\n",
       "      <td>20.0</td>\n",
       "      <td>0.0</td>\n",
       "      <td>0</td>\n",
       "      <td>0</td>\n",
       "      <td>0</td>\n",
       "      <td>294.0</td>\n",
       "      <td>102.0</td>\n",
       "      <td>68.0</td>\n",
       "      <td>24.18</td>\n",
       "      <td>62.0</td>\n",
       "      <td>66.0</td>\n",
       "    </tr>\n",
       "    <tr>\n",
       "      <th>...</th>\n",
       "      <td>...</td>\n",
       "      <td>...</td>\n",
       "      <td>...</td>\n",
       "      <td>...</td>\n",
       "      <td>...</td>\n",
       "      <td>...</td>\n",
       "      <td>...</td>\n",
       "      <td>...</td>\n",
       "      <td>...</td>\n",
       "      <td>...</td>\n",
       "      <td>...</td>\n",
       "      <td>...</td>\n",
       "      <td>...</td>\n",
       "      <td>...</td>\n",
       "      <td>...</td>\n",
       "    </tr>\n",
       "    <tr>\n",
       "      <th>4221</th>\n",
       "      <td>1</td>\n",
       "      <td>50</td>\n",
       "      <td>1.0</td>\n",
       "      <td>0</td>\n",
       "      <td>0.0</td>\n",
       "      <td>0.0</td>\n",
       "      <td>0</td>\n",
       "      <td>0</td>\n",
       "      <td>0</td>\n",
       "      <td>260.0</td>\n",
       "      <td>119.0</td>\n",
       "      <td>74.0</td>\n",
       "      <td>21.85</td>\n",
       "      <td>80.0</td>\n",
       "      <td>72.0</td>\n",
       "    </tr>\n",
       "    <tr>\n",
       "      <th>4223</th>\n",
       "      <td>1</td>\n",
       "      <td>56</td>\n",
       "      <td>4.0</td>\n",
       "      <td>0</td>\n",
       "      <td>0.0</td>\n",
       "      <td>1.0</td>\n",
       "      <td>0</td>\n",
       "      <td>1</td>\n",
       "      <td>0</td>\n",
       "      <td>287.0</td>\n",
       "      <td>149.0</td>\n",
       "      <td>98.0</td>\n",
       "      <td>21.68</td>\n",
       "      <td>90.0</td>\n",
       "      <td>75.0</td>\n",
       "    </tr>\n",
       "    <tr>\n",
       "      <th>4226</th>\n",
       "      <td>1</td>\n",
       "      <td>58</td>\n",
       "      <td>1.0</td>\n",
       "      <td>0</td>\n",
       "      <td>0.0</td>\n",
       "      <td>0.0</td>\n",
       "      <td>0</td>\n",
       "      <td>0</td>\n",
       "      <td>0</td>\n",
       "      <td>233.0</td>\n",
       "      <td>125.5</td>\n",
       "      <td>84.0</td>\n",
       "      <td>26.05</td>\n",
       "      <td>67.0</td>\n",
       "      <td>76.0</td>\n",
       "    </tr>\n",
       "    <tr>\n",
       "      <th>4232</th>\n",
       "      <td>1</td>\n",
       "      <td>68</td>\n",
       "      <td>1.0</td>\n",
       "      <td>0</td>\n",
       "      <td>0.0</td>\n",
       "      <td>0.0</td>\n",
       "      <td>0</td>\n",
       "      <td>1</td>\n",
       "      <td>0</td>\n",
       "      <td>176.0</td>\n",
       "      <td>168.0</td>\n",
       "      <td>97.0</td>\n",
       "      <td>23.14</td>\n",
       "      <td>60.0</td>\n",
       "      <td>79.0</td>\n",
       "    </tr>\n",
       "    <tr>\n",
       "      <th>4233</th>\n",
       "      <td>1</td>\n",
       "      <td>50</td>\n",
       "      <td>1.0</td>\n",
       "      <td>1</td>\n",
       "      <td>1.0</td>\n",
       "      <td>0.0</td>\n",
       "      <td>0</td>\n",
       "      <td>1</td>\n",
       "      <td>0</td>\n",
       "      <td>313.0</td>\n",
       "      <td>179.0</td>\n",
       "      <td>92.0</td>\n",
       "      <td>25.97</td>\n",
       "      <td>66.0</td>\n",
       "      <td>86.0</td>\n",
       "    </tr>\n",
       "  </tbody>\n",
       "</table>\n",
       "<p>557 rows × 15 columns</p>\n",
       "</div>"
      ],
      "text/plain": [
       "      male  age  education  currentSmoker  cigsPerDay  BPMeds  \\\n",
       "3        0   61        3.0              1        30.0     0.0   \n",
       "6        0   63        1.0              0         0.0     0.0   \n",
       "15       0   38        2.0              1        20.0     0.0   \n",
       "17       0   46        2.0              1        20.0     0.0   \n",
       "25       1   47        4.0              1        20.0     0.0   \n",
       "...    ...  ...        ...            ...         ...     ...   \n",
       "4221     1   50        1.0              0         0.0     0.0   \n",
       "4223     1   56        4.0              0         0.0     1.0   \n",
       "4226     1   58        1.0              0         0.0     0.0   \n",
       "4232     1   68        1.0              0         0.0     0.0   \n",
       "4233     1   50        1.0              1         1.0     0.0   \n",
       "\n",
       "      prevalentStroke  prevalentHyp  diabetes  totChol  sysBP  diaBP    BMI  \\\n",
       "3                   0             1         0    225.0  150.0   95.0  28.58   \n",
       "6                   0             0         0    205.0  138.0   71.0  33.11   \n",
       "15                  0             1         0    221.0  140.0   90.0  21.35   \n",
       "17                  0             0         0    291.0  112.0   78.0  23.38   \n",
       "25                  0             0         0    294.0  102.0   68.0  24.18   \n",
       "...               ...           ...       ...      ...    ...    ...    ...   \n",
       "4221                0             0         0    260.0  119.0   74.0  21.85   \n",
       "4223                0             1         0    287.0  149.0   98.0  21.68   \n",
       "4226                0             0         0    233.0  125.5   84.0  26.05   \n",
       "4232                0             1         0    176.0  168.0   97.0  23.14   \n",
       "4233                0             1         0    313.0  179.0   92.0  25.97   \n",
       "\n",
       "      heartRate  glucose  \n",
       "3          65.0    103.0  \n",
       "6          60.0     85.0  \n",
       "15         95.0     70.0  \n",
       "17         80.0     89.0  \n",
       "25         62.0     66.0  \n",
       "...         ...      ...  \n",
       "4221       80.0     72.0  \n",
       "4223       90.0     75.0  \n",
       "4226       67.0     76.0  \n",
       "4232       60.0     79.0  \n",
       "4233       66.0     86.0  \n",
       "\n",
       "[557 rows x 15 columns]"
      ]
     },
     "execution_count": 39,
     "metadata": {},
     "output_type": "execute_result"
    }
   ],
   "source": [
    "df_risk = df[df['TenYearCHD']==1]\n",
    "df_risk.drop(['TenYearCHD'], axis = 1, inplace=True)\n",
    "df_risk"
   ]
  },
  {
   "cell_type": "code",
   "execution_count": 40,
   "metadata": {},
   "outputs": [
    {
     "data": {
      "text/html": [
       "<div>\n",
       "<style scoped>\n",
       "    .dataframe tbody tr th:only-of-type {\n",
       "        vertical-align: middle;\n",
       "    }\n",
       "\n",
       "    .dataframe tbody tr th {\n",
       "        vertical-align: top;\n",
       "    }\n",
       "\n",
       "    .dataframe thead th {\n",
       "        text-align: right;\n",
       "    }\n",
       "</style>\n",
       "<table border=\"1\" class=\"dataframe\">\n",
       "  <thead>\n",
       "    <tr style=\"text-align: right;\">\n",
       "      <th></th>\n",
       "      <th>male</th>\n",
       "      <th>age</th>\n",
       "      <th>education</th>\n",
       "      <th>currentSmoker</th>\n",
       "      <th>cigsPerDay</th>\n",
       "      <th>BPMeds</th>\n",
       "      <th>prevalentStroke</th>\n",
       "      <th>prevalentHyp</th>\n",
       "      <th>diabetes</th>\n",
       "      <th>totChol</th>\n",
       "      <th>sysBP</th>\n",
       "      <th>diaBP</th>\n",
       "      <th>BMI</th>\n",
       "      <th>heartRate</th>\n",
       "      <th>glucose</th>\n",
       "    </tr>\n",
       "  </thead>\n",
       "  <tbody>\n",
       "    <tr>\n",
       "      <th>count</th>\n",
       "      <td>557.000000</td>\n",
       "      <td>557.000000</td>\n",
       "      <td>557.000000</td>\n",
       "      <td>557.000000</td>\n",
       "      <td>557.000000</td>\n",
       "      <td>557.000000</td>\n",
       "      <td>557.000000</td>\n",
       "      <td>557.000000</td>\n",
       "      <td>557.000000</td>\n",
       "      <td>557.000000</td>\n",
       "      <td>557.000000</td>\n",
       "      <td>557.000000</td>\n",
       "      <td>557.000000</td>\n",
       "      <td>557.000000</td>\n",
       "      <td>557.000000</td>\n",
       "    </tr>\n",
       "    <tr>\n",
       "      <th>mean</th>\n",
       "      <td>0.551167</td>\n",
       "      <td>54.278276</td>\n",
       "      <td>1.827648</td>\n",
       "      <td>0.511670</td>\n",
       "      <td>10.488330</td>\n",
       "      <td>0.066427</td>\n",
       "      <td>0.014363</td>\n",
       "      <td>0.509874</td>\n",
       "      <td>0.062837</td>\n",
       "      <td>246.350090</td>\n",
       "      <td>143.981149</td>\n",
       "      <td>87.157989</td>\n",
       "      <td>26.569838</td>\n",
       "      <td>76.310592</td>\n",
       "      <td>88.732496</td>\n",
       "    </tr>\n",
       "    <tr>\n",
       "      <th>std</th>\n",
       "      <td>0.497822</td>\n",
       "      <td>7.992338</td>\n",
       "      <td>1.029645</td>\n",
       "      <td>0.500313</td>\n",
       "      <td>12.904685</td>\n",
       "      <td>0.249251</td>\n",
       "      <td>0.119087</td>\n",
       "      <td>0.500352</td>\n",
       "      <td>0.242887</td>\n",
       "      <td>48.336365</td>\n",
       "      <td>26.966224</td>\n",
       "      <td>14.398497</td>\n",
       "      <td>4.509435</td>\n",
       "      <td>12.141349</td>\n",
       "      <td>40.785655</td>\n",
       "    </tr>\n",
       "    <tr>\n",
       "      <th>min</th>\n",
       "      <td>0.000000</td>\n",
       "      <td>35.000000</td>\n",
       "      <td>1.000000</td>\n",
       "      <td>0.000000</td>\n",
       "      <td>0.000000</td>\n",
       "      <td>0.000000</td>\n",
       "      <td>0.000000</td>\n",
       "      <td>0.000000</td>\n",
       "      <td>0.000000</td>\n",
       "      <td>124.000000</td>\n",
       "      <td>83.500000</td>\n",
       "      <td>48.000000</td>\n",
       "      <td>15.960000</td>\n",
       "      <td>50.000000</td>\n",
       "      <td>40.000000</td>\n",
       "    </tr>\n",
       "    <tr>\n",
       "      <th>25%</th>\n",
       "      <td>0.000000</td>\n",
       "      <td>49.000000</td>\n",
       "      <td>1.000000</td>\n",
       "      <td>0.000000</td>\n",
       "      <td>0.000000</td>\n",
       "      <td>0.000000</td>\n",
       "      <td>0.000000</td>\n",
       "      <td>0.000000</td>\n",
       "      <td>0.000000</td>\n",
       "      <td>214.000000</td>\n",
       "      <td>125.000000</td>\n",
       "      <td>78.000000</td>\n",
       "      <td>23.630000</td>\n",
       "      <td>68.000000</td>\n",
       "      <td>72.000000</td>\n",
       "    </tr>\n",
       "    <tr>\n",
       "      <th>50%</th>\n",
       "      <td>1.000000</td>\n",
       "      <td>55.000000</td>\n",
       "      <td>1.000000</td>\n",
       "      <td>1.000000</td>\n",
       "      <td>1.000000</td>\n",
       "      <td>0.000000</td>\n",
       "      <td>0.000000</td>\n",
       "      <td>1.000000</td>\n",
       "      <td>0.000000</td>\n",
       "      <td>243.000000</td>\n",
       "      <td>139.000000</td>\n",
       "      <td>85.000000</td>\n",
       "      <td>26.110000</td>\n",
       "      <td>75.000000</td>\n",
       "      <td>79.000000</td>\n",
       "    </tr>\n",
       "    <tr>\n",
       "      <th>75%</th>\n",
       "      <td>1.000000</td>\n",
       "      <td>61.000000</td>\n",
       "      <td>2.000000</td>\n",
       "      <td>1.000000</td>\n",
       "      <td>20.000000</td>\n",
       "      <td>0.000000</td>\n",
       "      <td>0.000000</td>\n",
       "      <td>1.000000</td>\n",
       "      <td>0.000000</td>\n",
       "      <td>272.000000</td>\n",
       "      <td>159.000000</td>\n",
       "      <td>95.000000</td>\n",
       "      <td>28.940000</td>\n",
       "      <td>84.000000</td>\n",
       "      <td>90.000000</td>\n",
       "    </tr>\n",
       "    <tr>\n",
       "      <th>max</th>\n",
       "      <td>1.000000</td>\n",
       "      <td>69.000000</td>\n",
       "      <td>4.000000</td>\n",
       "      <td>1.000000</td>\n",
       "      <td>60.000000</td>\n",
       "      <td>1.000000</td>\n",
       "      <td>1.000000</td>\n",
       "      <td>1.000000</td>\n",
       "      <td>1.000000</td>\n",
       "      <td>600.000000</td>\n",
       "      <td>295.000000</td>\n",
       "      <td>140.000000</td>\n",
       "      <td>56.800000</td>\n",
       "      <td>120.000000</td>\n",
       "      <td>394.000000</td>\n",
       "    </tr>\n",
       "  </tbody>\n",
       "</table>\n",
       "</div>"
      ],
      "text/plain": [
       "             male         age   education  currentSmoker  cigsPerDay  \\\n",
       "count  557.000000  557.000000  557.000000     557.000000  557.000000   \n",
       "mean     0.551167   54.278276    1.827648       0.511670   10.488330   \n",
       "std      0.497822    7.992338    1.029645       0.500313   12.904685   \n",
       "min      0.000000   35.000000    1.000000       0.000000    0.000000   \n",
       "25%      0.000000   49.000000    1.000000       0.000000    0.000000   \n",
       "50%      1.000000   55.000000    1.000000       1.000000    1.000000   \n",
       "75%      1.000000   61.000000    2.000000       1.000000   20.000000   \n",
       "max      1.000000   69.000000    4.000000       1.000000   60.000000   \n",
       "\n",
       "           BPMeds  prevalentStroke  prevalentHyp    diabetes     totChol  \\\n",
       "count  557.000000       557.000000    557.000000  557.000000  557.000000   \n",
       "mean     0.066427         0.014363      0.509874    0.062837  246.350090   \n",
       "std      0.249251         0.119087      0.500352    0.242887   48.336365   \n",
       "min      0.000000         0.000000      0.000000    0.000000  124.000000   \n",
       "25%      0.000000         0.000000      0.000000    0.000000  214.000000   \n",
       "50%      0.000000         0.000000      1.000000    0.000000  243.000000   \n",
       "75%      0.000000         0.000000      1.000000    0.000000  272.000000   \n",
       "max      1.000000         1.000000      1.000000    1.000000  600.000000   \n",
       "\n",
       "            sysBP       diaBP         BMI   heartRate     glucose  \n",
       "count  557.000000  557.000000  557.000000  557.000000  557.000000  \n",
       "mean   143.981149   87.157989   26.569838   76.310592   88.732496  \n",
       "std     26.966224   14.398497    4.509435   12.141349   40.785655  \n",
       "min     83.500000   48.000000   15.960000   50.000000   40.000000  \n",
       "25%    125.000000   78.000000   23.630000   68.000000   72.000000  \n",
       "50%    139.000000   85.000000   26.110000   75.000000   79.000000  \n",
       "75%    159.000000   95.000000   28.940000   84.000000   90.000000  \n",
       "max    295.000000  140.000000   56.800000  120.000000  394.000000  "
      ]
     },
     "execution_count": 40,
     "metadata": {},
     "output_type": "execute_result"
    }
   ],
   "source": [
    "df_risk.describe()"
   ]
  },
  {
   "cell_type": "code",
   "execution_count": 41,
   "metadata": {},
   "outputs": [
    {
     "data": {
      "text/plain": [
       "<AxesSubplot:>"
      ]
     },
     "execution_count": 41,
     "metadata": {},
     "output_type": "execute_result"
    },
    {
     "data": {
      "image/png": "[encoded data removed]",
      "text/plain": [
       "<Figure size 432x288 with 2 Axes>"
      ]
     },
     "metadata": {
      "needs_background": "light"
     },
     "output_type": "display_data"
    }
   ],
   "source": [
    "sn.heatmap(df_risk.corr())"
   ]
  },
  {
   "cell_type": "code",
   "execution_count": 42,
   "metadata": {},
   "outputs": [
    {
     "data": {
      "text/html": [
       "<div>\n",
       "<style scoped>\n",
       "    .dataframe tbody tr th:only-of-type {\n",
       "        vertical-align: middle;\n",
       "    }\n",
       "\n",
       "    .dataframe tbody tr th {\n",
       "        vertical-align: top;\n",
       "    }\n",
       "\n",
       "    .dataframe thead th {\n",
       "        text-align: right;\n",
       "    }\n",
       "</style>\n",
       "<table border=\"1\" class=\"dataframe\">\n",
       "  <thead>\n",
       "    <tr style=\"text-align: right;\">\n",
       "      <th></th>\n",
       "      <th>male</th>\n",
       "      <th>age</th>\n",
       "      <th>education</th>\n",
       "      <th>currentSmoker</th>\n",
       "      <th>cigsPerDay</th>\n",
       "      <th>BPMeds</th>\n",
       "      <th>prevalentStroke</th>\n",
       "      <th>prevalentHyp</th>\n",
       "      <th>diabetes</th>\n",
       "      <th>totChol</th>\n",
       "      <th>sysBP</th>\n",
       "      <th>diaBP</th>\n",
       "      <th>BMI</th>\n",
       "      <th>heartRate</th>\n",
       "      <th>glucose</th>\n",
       "    </tr>\n",
       "  </thead>\n",
       "  <tbody>\n",
       "    <tr>\n",
       "      <th>male</th>\n",
       "      <td>1.00</td>\n",
       "      <td>-0.10</td>\n",
       "      <td>0.08</td>\n",
       "      <td>0.29</td>\n",
       "      <td>0.35</td>\n",
       "      <td>-0.11</td>\n",
       "      <td>-0.01</td>\n",
       "      <td>-0.11</td>\n",
       "      <td>0.01</td>\n",
       "      <td>-0.13</td>\n",
       "      <td>-0.14</td>\n",
       "      <td>-0.02</td>\n",
       "      <td>-0.07</td>\n",
       "      <td>-0.07</td>\n",
       "      <td>-0.02</td>\n",
       "    </tr>\n",
       "    <tr>\n",
       "      <th>age</th>\n",
       "      <td>-0.10</td>\n",
       "      <td>1.00</td>\n",
       "      <td>-0.11</td>\n",
       "      <td>-0.30</td>\n",
       "      <td>-0.24</td>\n",
       "      <td>0.11</td>\n",
       "      <td>0.07</td>\n",
       "      <td>0.26</td>\n",
       "      <td>0.06</td>\n",
       "      <td>0.08</td>\n",
       "      <td>0.31</td>\n",
       "      <td>0.08</td>\n",
       "      <td>0.06</td>\n",
       "      <td>-0.02</td>\n",
       "      <td>0.09</td>\n",
       "    </tr>\n",
       "    <tr>\n",
       "      <th>education</th>\n",
       "      <td>0.08</td>\n",
       "      <td>-0.11</td>\n",
       "      <td>1.00</td>\n",
       "      <td>0.01</td>\n",
       "      <td>0.04</td>\n",
       "      <td>0.01</td>\n",
       "      <td>-0.07</td>\n",
       "      <td>-0.04</td>\n",
       "      <td>-0.06</td>\n",
       "      <td>0.10</td>\n",
       "      <td>-0.06</td>\n",
       "      <td>0.03</td>\n",
       "      <td>-0.11</td>\n",
       "      <td>-0.05</td>\n",
       "      <td>-0.01</td>\n",
       "    </tr>\n",
       "    <tr>\n",
       "      <th>currentSmoker</th>\n",
       "      <td>0.29</td>\n",
       "      <td>-0.30</td>\n",
       "      <td>0.01</td>\n",
       "      <td>1.00</td>\n",
       "      <td>0.79</td>\n",
       "      <td>-0.11</td>\n",
       "      <td>-0.03</td>\n",
       "      <td>-0.18</td>\n",
       "      <td>-0.09</td>\n",
       "      <td>-0.08</td>\n",
       "      <td>-0.17</td>\n",
       "      <td>-0.11</td>\n",
       "      <td>-0.14</td>\n",
       "      <td>0.10</td>\n",
       "      <td>-0.07</td>\n",
       "    </tr>\n",
       "    <tr>\n",
       "      <th>cigsPerDay</th>\n",
       "      <td>0.35</td>\n",
       "      <td>-0.24</td>\n",
       "      <td>0.04</td>\n",
       "      <td>0.79</td>\n",
       "      <td>1.00</td>\n",
       "      <td>-0.11</td>\n",
       "      <td>-0.06</td>\n",
       "      <td>-0.15</td>\n",
       "      <td>-0.08</td>\n",
       "      <td>-0.07</td>\n",
       "      <td>-0.14</td>\n",
       "      <td>-0.10</td>\n",
       "      <td>-0.11</td>\n",
       "      <td>0.13</td>\n",
       "      <td>-0.05</td>\n",
       "    </tr>\n",
       "    <tr>\n",
       "      <th>BPMeds</th>\n",
       "      <td>-0.11</td>\n",
       "      <td>0.11</td>\n",
       "      <td>0.01</td>\n",
       "      <td>-0.11</td>\n",
       "      <td>-0.11</td>\n",
       "      <td>1.00</td>\n",
       "      <td>0.03</td>\n",
       "      <td>0.26</td>\n",
       "      <td>0.11</td>\n",
       "      <td>0.11</td>\n",
       "      <td>0.30</td>\n",
       "      <td>0.20</td>\n",
       "      <td>0.05</td>\n",
       "      <td>0.10</td>\n",
       "      <td>0.13</td>\n",
       "    </tr>\n",
       "    <tr>\n",
       "      <th>prevalentStroke</th>\n",
       "      <td>-0.01</td>\n",
       "      <td>0.07</td>\n",
       "      <td>-0.07</td>\n",
       "      <td>-0.03</td>\n",
       "      <td>-0.06</td>\n",
       "      <td>0.03</td>\n",
       "      <td>1.00</td>\n",
       "      <td>0.09</td>\n",
       "      <td>0.03</td>\n",
       "      <td>-0.00</td>\n",
       "      <td>0.05</td>\n",
       "      <td>0.06</td>\n",
       "      <td>0.02</td>\n",
       "      <td>0.03</td>\n",
       "      <td>0.01</td>\n",
       "    </tr>\n",
       "    <tr>\n",
       "      <th>prevalentHyp</th>\n",
       "      <td>-0.11</td>\n",
       "      <td>0.26</td>\n",
       "      <td>-0.04</td>\n",
       "      <td>-0.18</td>\n",
       "      <td>-0.15</td>\n",
       "      <td>0.26</td>\n",
       "      <td>0.09</td>\n",
       "      <td>1.00</td>\n",
       "      <td>0.08</td>\n",
       "      <td>0.08</td>\n",
       "      <td>0.68</td>\n",
       "      <td>0.57</td>\n",
       "      <td>0.24</td>\n",
       "      <td>0.18</td>\n",
       "      <td>0.10</td>\n",
       "    </tr>\n",
       "    <tr>\n",
       "      <th>diabetes</th>\n",
       "      <td>0.01</td>\n",
       "      <td>0.06</td>\n",
       "      <td>-0.06</td>\n",
       "      <td>-0.09</td>\n",
       "      <td>-0.08</td>\n",
       "      <td>0.11</td>\n",
       "      <td>0.03</td>\n",
       "      <td>0.08</td>\n",
       "      <td>1.00</td>\n",
       "      <td>0.08</td>\n",
       "      <td>0.06</td>\n",
       "      <td>0.03</td>\n",
       "      <td>0.10</td>\n",
       "      <td>0.10</td>\n",
       "      <td>0.77</td>\n",
       "    </tr>\n",
       "    <tr>\n",
       "      <th>totChol</th>\n",
       "      <td>-0.13</td>\n",
       "      <td>0.08</td>\n",
       "      <td>0.10</td>\n",
       "      <td>-0.08</td>\n",
       "      <td>-0.07</td>\n",
       "      <td>0.11</td>\n",
       "      <td>-0.00</td>\n",
       "      <td>0.08</td>\n",
       "      <td>0.08</td>\n",
       "      <td>1.00</td>\n",
       "      <td>0.13</td>\n",
       "      <td>0.08</td>\n",
       "      <td>0.07</td>\n",
       "      <td>0.06</td>\n",
       "      <td>0.10</td>\n",
       "    </tr>\n",
       "    <tr>\n",
       "      <th>sysBP</th>\n",
       "      <td>-0.14</td>\n",
       "      <td>0.31</td>\n",
       "      <td>-0.06</td>\n",
       "      <td>-0.17</td>\n",
       "      <td>-0.14</td>\n",
       "      <td>0.30</td>\n",
       "      <td>0.05</td>\n",
       "      <td>0.68</td>\n",
       "      <td>0.06</td>\n",
       "      <td>0.13</td>\n",
       "      <td>1.00</td>\n",
       "      <td>0.77</td>\n",
       "      <td>0.27</td>\n",
       "      <td>0.15</td>\n",
       "      <td>0.12</td>\n",
       "    </tr>\n",
       "    <tr>\n",
       "      <th>diaBP</th>\n",
       "      <td>-0.02</td>\n",
       "      <td>0.08</td>\n",
       "      <td>0.03</td>\n",
       "      <td>-0.11</td>\n",
       "      <td>-0.10</td>\n",
       "      <td>0.20</td>\n",
       "      <td>0.06</td>\n",
       "      <td>0.57</td>\n",
       "      <td>0.03</td>\n",
       "      <td>0.08</td>\n",
       "      <td>0.77</td>\n",
       "      <td>1.00</td>\n",
       "      <td>0.33</td>\n",
       "      <td>0.17</td>\n",
       "      <td>0.05</td>\n",
       "    </tr>\n",
       "    <tr>\n",
       "      <th>BMI</th>\n",
       "      <td>-0.07</td>\n",
       "      <td>0.06</td>\n",
       "      <td>-0.11</td>\n",
       "      <td>-0.14</td>\n",
       "      <td>-0.11</td>\n",
       "      <td>0.05</td>\n",
       "      <td>0.02</td>\n",
       "      <td>0.24</td>\n",
       "      <td>0.10</td>\n",
       "      <td>0.07</td>\n",
       "      <td>0.27</td>\n",
       "      <td>0.33</td>\n",
       "      <td>1.00</td>\n",
       "      <td>0.12</td>\n",
       "      <td>0.09</td>\n",
       "    </tr>\n",
       "    <tr>\n",
       "      <th>heartRate</th>\n",
       "      <td>-0.07</td>\n",
       "      <td>-0.02</td>\n",
       "      <td>-0.05</td>\n",
       "      <td>0.10</td>\n",
       "      <td>0.13</td>\n",
       "      <td>0.10</td>\n",
       "      <td>0.03</td>\n",
       "      <td>0.18</td>\n",
       "      <td>0.10</td>\n",
       "      <td>0.06</td>\n",
       "      <td>0.15</td>\n",
       "      <td>0.17</td>\n",
       "      <td>0.12</td>\n",
       "      <td>1.00</td>\n",
       "      <td>0.09</td>\n",
       "    </tr>\n",
       "    <tr>\n",
       "      <th>glucose</th>\n",
       "      <td>-0.02</td>\n",
       "      <td>0.09</td>\n",
       "      <td>-0.01</td>\n",
       "      <td>-0.07</td>\n",
       "      <td>-0.05</td>\n",
       "      <td>0.13</td>\n",
       "      <td>0.01</td>\n",
       "      <td>0.10</td>\n",
       "      <td>0.77</td>\n",
       "      <td>0.10</td>\n",
       "      <td>0.12</td>\n",
       "      <td>0.05</td>\n",
       "      <td>0.09</td>\n",
       "      <td>0.09</td>\n",
       "      <td>1.00</td>\n",
       "    </tr>\n",
       "  </tbody>\n",
       "</table>\n",
       "</div>"
      ],
      "text/plain": [
       "                 male   age  education  currentSmoker  cigsPerDay  BPMeds  \\\n",
       "male             1.00 -0.10       0.08           0.29        0.35   -0.11   \n",
       "age             -0.10  1.00      -0.11          -0.30       -0.24    0.11   \n",
       "education        0.08 -0.11       1.00           0.01        0.04    0.01   \n",
       "currentSmoker    0.29 -0.30       0.01           1.00        0.79   -0.11   \n",
       "cigsPerDay       0.35 -0.24       0.04           0.79        1.00   -0.11   \n",
       "BPMeds          -0.11  0.11       0.01          -0.11       -0.11    1.00   \n",
       "prevalentStroke -0.01  0.07      -0.07          -0.03       -0.06    0.03   \n",
       "prevalentHyp    -0.11  0.26      -0.04          -0.18       -0.15    0.26   \n",
       "diabetes         0.01  0.06      -0.06          -0.09       -0.08    0.11   \n",
       "totChol         -0.13  0.08       0.10          -0.08       -0.07    0.11   \n",
       "sysBP           -0.14  0.31      -0.06          -0.17       -0.14    0.30   \n",
       "diaBP           -0.02  0.08       0.03          -0.11       -0.10    0.20   \n",
       "BMI             -0.07  0.06      -0.11          -0.14       -0.11    0.05   \n",
       "heartRate       -0.07 -0.02      -0.05           0.10        0.13    0.10   \n",
       "glucose         -0.02  0.09      -0.01          -0.07       -0.05    0.13   \n",
       "\n",
       "                 prevalentStroke  prevalentHyp  diabetes  totChol  sysBP  \\\n",
       "male                       -0.01         -0.11      0.01    -0.13  -0.14   \n",
       "age                         0.07          0.26      0.06     0.08   0.31   \n",
       "education                  -0.07         -0.04     -0.06     0.10  -0.06   \n",
       "currentSmoker              -0.03         -0.18     -0.09    -0.08  -0.17   \n",
       "cigsPerDay                 -0.06         -0.15     -0.08    -0.07  -0.14   \n",
       "BPMeds                      0.03          0.26      0.11     0.11   0.30   \n",
       "prevalentStroke             1.00          0.09      0.03    -0.00   0.05   \n",
       "prevalentHyp                0.09          1.00      0.08     0.08   0.68   \n",
       "diabetes                    0.03          0.08      1.00     0.08   0.06   \n",
       "totChol                    -0.00          0.08      0.08     1.00   0.13   \n",
       "sysBP                       0.05          0.68      0.06     0.13   1.00   \n",
       "diaBP                       0.06          0.57      0.03     0.08   0.77   \n",
       "BMI                         0.02          0.24      0.10     0.07   0.27   \n",
       "heartRate                   0.03          0.18      0.10     0.06   0.15   \n",
       "glucose                     0.01          0.10      0.77     0.10   0.12   \n",
       "\n",
       "                 diaBP   BMI  heartRate  glucose  \n",
       "male             -0.02 -0.07      -0.07    -0.02  \n",
       "age               0.08  0.06      -0.02     0.09  \n",
       "education         0.03 -0.11      -0.05    -0.01  \n",
       "currentSmoker    -0.11 -0.14       0.10    -0.07  \n",
       "cigsPerDay       -0.10 -0.11       0.13    -0.05  \n",
       "BPMeds            0.20  0.05       0.10     0.13  \n",
       "prevalentStroke   0.06  0.02       0.03     0.01  \n",
       "prevalentHyp      0.57  0.24       0.18     0.10  \n",
       "diabetes          0.03  0.10       0.10     0.77  \n",
       "totChol           0.08  0.07       0.06     0.10  \n",
       "sysBP             0.77  0.27       0.15     0.12  \n",
       "diaBP             1.00  0.33       0.17     0.05  \n",
       "BMI               0.33  1.00       0.12     0.09  \n",
       "heartRate         0.17  0.12       1.00     0.09  \n",
       "glucose           0.05  0.09       0.09     1.00  "
      ]
     },
     "execution_count": 42,
     "metadata": {},
     "output_type": "execute_result"
    }
   ],
   "source": [
    "round(df_risk.corr(),2)"
   ]
  },
  {
   "cell_type": "code",
   "execution_count": 34,
   "metadata": {},
   "outputs": [
    {
     "data": {
      "text/plain": [
       "male               0\n",
       "age                0\n",
       "education          0\n",
       "currentSmoker      0\n",
       "cigsPerDay         0\n",
       "BPMeds             0\n",
       "prevalentStroke    0\n",
       "prevalentHyp       0\n",
       "diabetes           0\n",
       "totChol            0\n",
       "sysBP              0\n",
       "diaBP              0\n",
       "BMI                0\n",
       "heartRate          0\n",
       "glucose            0\n",
       "TenYearCHD         0\n",
       "dtype: int64"
      ]
     },
     "execution_count": 34,
     "metadata": {},
     "output_type": "execute_result"
    }
   ],
   "source": [
    "df_risk.isnull().sum()"
   ]
  },
  {
   "cell_type": "code",
   "execution_count": null,
   "metadata": {},
   "outputs": [],
   "source": []
  }
 ],
 "metadata": {
  "colab": {
   "name": "Descriptive_stats.ipynb",
   "provenance": []
  },
  "kernelspec": {
   "display_name": "Python 3 (ipykernel)",
   "language": "python",
   "name": "python3"
  },
  "language_info": {
   "codemirror_mode": {
    "name": "ipython",
    "version": 3
   },
   "file_extension": ".py",
   "mimetype": "text/x-python",
   "name": "python",
   "nbconvert_exporter": "python",
   "pygments_lexer": "ipython3",
   "version": "3.9.7"
  },
  "nteract": {
   "version": "0.27.0"
  }
 },
 "nbformat": 4,
 "nbformat_minor": 1
}
